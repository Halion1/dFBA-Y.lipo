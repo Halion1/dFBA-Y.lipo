{
 "cells": [
  {
   "cell_type": "code",
   "execution_count": 2,
   "id": "e73123a4",
   "metadata": {},
   "outputs": [],
   "source": [
    "import cobra"
   ]
  },
  {
   "cell_type": "code",
   "execution_count": 2,
   "id": "c1f2df89",
   "metadata": {},
   "outputs": [],
   "source": [
    "import cplex"
   ]
  },
  {
   "cell_type": "code",
   "execution_count": 3,
   "id": "cbef642c",
   "metadata": {},
   "outputs": [],
   "source": [
    "from cobra import Model, Reaction, Metabolite"
   ]
  },
  {
   "cell_type": "code",
   "execution_count": 4,
   "id": "b5746630",
   "metadata": {},
   "outputs": [],
   "source": [
    "from cobra.io import read_sbml_model"
   ]
  },
  {
   "cell_type": "code",
   "execution_count": 5,
   "id": "e22c6e76",
   "metadata": {},
   "outputs": [],
   "source": [
    "import pandas as pd"
   ]
  },
  {
   "cell_type": "code",
   "execution_count": 4,
   "id": "3dfb8b13",
   "metadata": {},
   "outputs": [],
   "source": [
    "yali = cobra.io.read_sbml_model('iYalinewPathways-Alltogether-Exchange-2.4.2.xml')"
   ]
  },
  {
   "cell_type": "code",
   "execution_count": 5,
   "id": "1a9ba829",
   "metadata": {},
   "outputs": [
    {
     "data": {
      "text/plain": [
       "{'ce': 'cell envelope',\n",
       " 'e': 'extracellular',\n",
       " 'm': 'mitochondrion',\n",
       " 'c': 'cytoplasm',\n",
       " 'p': 'peroxisome',\n",
       " 'er': 'endoplasmic reticulum',\n",
       " 'n': 'nucleus',\n",
       " 'g': 'Golgi',\n",
       " 'lp': 'lipid particle',\n",
       " 'v': 'vacuole',\n",
       " 'erm': 'endoplasmic reticulum membrane',\n",
       " 'vm': 'vacuolar membrane',\n",
       " 'mm': 'mitochondrial membrane',\n",
       " 'gm': 'Golgi membrane'}"
      ]
     },
     "execution_count": 5,
     "metadata": {},
     "output_type": "execute_result"
    }
   ],
   "source": [
    "yali.compartments"
   ]
  },
  {
   "cell_type": "code",
   "execution_count": 62,
   "id": "fe020cb7",
   "metadata": {},
   "outputs": [],
   "source": [
    "yali.objective = 'y300083'"
   ]
  },
  {
   "cell_type": "code",
   "execution_count": 63,
   "id": "3ab82924",
   "metadata": {},
   "outputs": [
    {
     "name": "stdout",
     "output_type": "stream",
     "text": [
      "<Solution 0.000 at 0x25025f6ce20>\n"
     ]
    },
    {
     "data": {
      "text/plain": [
       "0.0"
      ]
     },
     "execution_count": 63,
     "metadata": {},
     "output_type": "execute_result"
    }
   ],
   "source": [
    "solution = yali.optimize()\n",
    "print(solution)\n",
    "solution.objective_value"
   ]
  },
  {
   "cell_type": "code",
   "execution_count": 64,
   "id": "601023a2",
   "metadata": {},
   "outputs": [
    {
     "data": {
      "text/html": [
       "<strong><em>Optimal</em> solution with objective value 0.000</strong><br><div>\n",
       "<style scoped>\n",
       "    .dataframe tbody tr th:only-of-type {\n",
       "        vertical-align: middle;\n",
       "    }\n",
       "\n",
       "    .dataframe tbody tr th {\n",
       "        vertical-align: top;\n",
       "    }\n",
       "\n",
       "    .dataframe thead th {\n",
       "        text-align: right;\n",
       "    }\n",
       "</style>\n",
       "<table border=\"1\" class=\"dataframe\">\n",
       "  <thead>\n",
       "    <tr style=\"text-align: right;\">\n",
       "      <th></th>\n",
       "      <th>fluxes</th>\n",
       "      <th>reduced_costs</th>\n",
       "    </tr>\n",
       "  </thead>\n",
       "  <tbody>\n",
       "    <tr>\n",
       "      <th>xAMINOACID</th>\n",
       "      <td>0.000000</td>\n",
       "      <td>0.0</td>\n",
       "    </tr>\n",
       "    <tr>\n",
       "      <th>xBIOMASS</th>\n",
       "      <td>0.000000</td>\n",
       "      <td>0.0</td>\n",
       "    </tr>\n",
       "    <tr>\n",
       "      <th>xLIPID</th>\n",
       "      <td>0.000000</td>\n",
       "      <td>0.0</td>\n",
       "    </tr>\n",
       "    <tr>\n",
       "      <th>xMAINTENANCE</th>\n",
       "      <td>0.000000</td>\n",
       "      <td>0.0</td>\n",
       "    </tr>\n",
       "    <tr>\n",
       "      <th>xPOOL_AC_EM</th>\n",
       "      <td>0.000000</td>\n",
       "      <td>0.0</td>\n",
       "    </tr>\n",
       "    <tr>\n",
       "      <th>...</th>\n",
       "      <td>...</td>\n",
       "      <td>...</td>\n",
       "    </tr>\n",
       "    <tr>\n",
       "      <th>y300095</th>\n",
       "      <td>0.703807</td>\n",
       "      <td>0.0</td>\n",
       "    </tr>\n",
       "    <tr>\n",
       "      <th>y300096</th>\n",
       "      <td>0.703807</td>\n",
       "      <td>0.0</td>\n",
       "    </tr>\n",
       "    <tr>\n",
       "      <th>y300084</th>\n",
       "      <td>0.000000</td>\n",
       "      <td>0.0</td>\n",
       "    </tr>\n",
       "    <tr>\n",
       "      <th>y300083</th>\n",
       "      <td>0.000000</td>\n",
       "      <td>0.0</td>\n",
       "    </tr>\n",
       "    <tr>\n",
       "      <th>DM_s_3717</th>\n",
       "      <td>0.000000</td>\n",
       "      <td>-2.0</td>\n",
       "    </tr>\n",
       "  </tbody>\n",
       "</table>\n",
       "<p>1936 rows × 2 columns</p>\n",
       "</div>"
      ],
      "text/plain": [
       "<Solution 0.000 at 0x25025f6c190>"
      ]
     },
     "execution_count": 64,
     "metadata": {},
     "output_type": "execute_result"
    }
   ],
   "source": [
    "yali.optimize()"
   ]
  },
  {
   "cell_type": "code",
   "execution_count": 8,
   "id": "3e0318f3",
   "metadata": {},
   "outputs": [],
   "source": [
    "propio_extr = Metabolite(\n",
    "'s_3717',\n",
    "formula='C3H5O2',\n",
    "name='Propionate[e]',\n",
    "compartment='e')\n",
    "propio_c = Metabolite(\n",
    "'s_3718',\n",
    "formula='C3H5O2',\n",
    "name='Propionate[c]',\n",
    "compartment='c')\n",
    "\n",
    "propiocoa_m = Metabolite(\n",
    "'s_1382')\n",
    "\n",
    "propiocoa_c = Metabolite(\n",
    "'s_3719',\n",
    "formula='C24H36N7O17P3S',\n",
    "name='Propionyl-CoA[c]',\n",
    "compartment='c')\n",
    "\n",
    "propecoa_c = Metabolite(\n",
    "'s_3721',\n",
    "formula='C24H38N7O17P3S',\n",
    "name='Propenoyl-CoA[c]',\n",
    "compartment='c')\n",
    "oxigen_c = Metabolite(\n",
    "'s_1275')\n",
    "hyprox_c = Metabolite(\n",
    "'s_0837')\n",
    "\n",
    "hydroxcoa_c = Metabolite(\n",
    "'s_3722',\n",
    "formula='C24H40N7O18P3S',\n",
    "name='3-hydroxypropionyl-CoA [c]',\n",
    "compartment='c')\n",
    "water_c = Metabolite(\n",
    "'s_0803')\n",
    "\n",
    "hydroxypropanoate_c = Metabolite(\n",
    "'s_3723',\n",
    "formula='C3H5O3',\n",
    "name='3-Hydroxypropanoate [c]',\n",
    "compartment='c')\n",
    "difos_c = Metabolite(\n",
    "'s_0633')\n",
    "amp_c = Metabolite(\n",
    "'s_0423')\n",
    "coe_c = Metabolite(\n",
    "'s_0529')\n",
    "atp_c = Metabolite(\n",
    "'s_0434')\n",
    "\n",
    "oxopro_c = Metabolite(\n",
    "'s_3724',\n",
    "formula='C3H4O3',\n",
    "name='3-oxopropanoate[c]',\n",
    "compartment='c')\n",
    "NAD_c = Metabolite(\n",
    "'s_1198',\n",
    "compartment='c')\n",
    "NADH_c = Metabolite(\n",
    "'s_1203')\n",
    "h_c = Metabolite(\n",
    "'s_0794')\n",
    "\n",
    "acet_c = Metabolite(\n",
    "'s_0373')\n",
    "car_c = Metabolite(\n",
    "'s_0456')\n",
    "\n",
    "rlac_m = Metabolite(\n",
    "'s_0027')\n",
    "pyr_m = Metabolite(\n",
    "'s_1401')\n",
    "NADH_m = Metabolite(\n",
    "'s_1205')\n",
    "h_m = Metabolite(\n",
    "'s_0799')\n",
    "NAD_m = Metabolite(\n",
    "'s_1200')\n",
    "\n",
    "slac_c = Metabolite(\n",
    "'s_0063')\n",
    "slac_p = Metabolite(\n",
    "'s_3725',\n",
    "formula='C3H5O3',\n",
    "name='(S)-lactate[p]',\n",
    "compartment='p')\n",
    "\n",
    "oxi_p = Metabolite(\n",
    "'s_1279')\n",
    "pyru_p = Metabolite(\n",
    "'s_0206')\n",
    "perox_p = Metabolite(\n",
    "'s_0840')\n",
    "\n",
    "atp_m = Metabolite(\n",
    "'s_0437',\n",
    "formula='C10H12N5O13P3',\n",
    "name='ATP[m]',\n",
    "compartment='m')\n",
    "adp_m = Metabolite(\n",
    "'s_0397',\n",
    "formula='C10H12N5O10P2',\n",
    "name='ADP[m]',\n",
    "compartment='m')\n",
    "smethylma_m = Metabolite(\n",
    "'s_3726',\n",
    "formula='C25H40N7O19P3S',\n",
    "name='(S)-Methylmalonyl-CoA[m]',\n",
    "compartment='m')\n",
    "\n",
    "rmethylma_m = Metabolite(\n",
    "'s_3727',\n",
    "formula='C25H40N7O19P3S',\n",
    "name='(R)-Methylmalonyl-CoA[m]',\n",
    "compartment='m')\n",
    "\n",
    "succi_m = Metabolite(\n",
    "'s_1464')\n",
    "\n"
   ]
  },
  {
   "cell_type": "code",
   "execution_count": 11,
   "id": "00d96257",
   "metadata": {},
   "outputs": [],
   "source": [
    "reaction2 = Reaction('y300085')\n",
    "reaction2.name = 'Propionyl-CoA transporter [c] - [m]'\n",
    "reaction2.subsystem = 'Cell Propionate Biosynthesis'\n",
    "reaction2.lower_bound = -1000. # This is the default\n",
    "reaction2.upper_bound = 1000. # This is the default"
   ]
  },
  {
   "cell_type": "code",
   "execution_count": 12,
   "id": "07790b2a",
   "metadata": {},
   "outputs": [
    {
     "data": {
      "text/plain": [
       "'s_3719 <=> s_1382'"
      ]
     },
     "execution_count": 12,
     "metadata": {},
     "output_type": "execute_result"
    }
   ],
   "source": [
    "reaction2.add_metabolites({\n",
    "propiocoa_c: -1.0,\n",
    "propiocoa_m: 1.0,\n",
    "})\n",
    "reaction2.reaction"
   ]
  },
  {
   "cell_type": "code",
   "execution_count": 13,
   "id": "5c50073f",
   "metadata": {},
   "outputs": [],
   "source": [
    "yali.add_reactions([reaction2])"
   ]
  },
  {
   "cell_type": "code",
   "execution_count": 14,
   "id": "70d1290a",
   "metadata": {},
   "outputs": [
    {
     "data": {
      "text/html": [
       "\n",
       "        <table>\n",
       "            <tr>\n",
       "                <td><strong>Reaction identifier</strong></td><td>y300085</td>\n",
       "            </tr><tr>\n",
       "                <td><strong>Name</strong></td><td>Propionyl-CoA transporter [c] - [m]</td>\n",
       "            </tr><tr>\n",
       "                <td><strong>Memory address</strong></td>\n",
       "                <td>0x01f30b919bb0</td>\n",
       "            </tr><tr>\n",
       "                <td><strong>Stoichiometry</strong></td>\n",
       "                <td>\n",
       "                    <p style='text-align:right'>s_3719 <=> s_1382</p>\n",
       "                    <p style='text-align:right'>Propionyl-CoA[c] <=> propionyl-CoA</p>\n",
       "                </td>\n",
       "            </tr><tr>\n",
       "                <td><strong>GPR</strong></td><td></td>\n",
       "            </tr><tr>\n",
       "                <td><strong>Lower bound</strong></td><td>-1000.0</td>\n",
       "            </tr><tr>\n",
       "                <td><strong>Upper bound</strong></td><td>1000.0</td>\n",
       "            </tr>\n",
       "        </table>\n",
       "        "
      ],
      "text/plain": [
       "<Reaction y300085 at 0x1f30b919bb0>"
      ]
     },
     "execution_count": 14,
     "metadata": {},
     "output_type": "execute_result"
    }
   ],
   "source": [
    "yali.reactions.y300085"
   ]
  },
  {
   "cell_type": "code",
   "execution_count": 15,
   "id": "2ce9df29",
   "metadata": {},
   "outputs": [],
   "source": [
    "reaction3 = Reaction('y300086')\n",
    "reaction3.name = 'propanoyl-CoA: electron-transfer flavoprotein 2,3-oxidoreductase'\n",
    "reaction3.subsystem = 'Cell Propionate Biosynthesis'\n",
    "reaction3.lower_bound = -1000. # This is the default\n",
    "reaction3.upper_bound = 1000. # This is the default"
   ]
  },
  {
   "cell_type": "code",
   "execution_count": 16,
   "id": "9125b62f",
   "metadata": {},
   "outputs": [
    {
     "data": {
      "text/plain": [
       "'s_1275 + s_3719 <=> s_0837 + s_3721'"
      ]
     },
     "execution_count": 16,
     "metadata": {},
     "output_type": "execute_result"
    }
   ],
   "source": [
    "reaction3.add_metabolites({\n",
    "propiocoa_c: -1.0,\n",
    "oxigen_c: -1.0,\n",
    "hyprox_c: 1.0,\n",
    "propecoa_c: 1.0,\n",
    "})\n",
    "reaction3.reaction"
   ]
  },
  {
   "cell_type": "code",
   "execution_count": 17,
   "id": "f05d2de5",
   "metadata": {},
   "outputs": [],
   "source": [
    "yali.add_reactions([reaction3])"
   ]
  },
  {
   "cell_type": "code",
   "execution_count": 18,
   "id": "f05d2811",
   "metadata": {},
   "outputs": [
    {
     "data": {
      "text/plain": [
       "frozenset({<Gene P06149.3 at 0x1f30bb418b0>})"
      ]
     },
     "execution_count": 18,
     "metadata": {},
     "output_type": "execute_result"
    }
   ],
   "source": [
    "reaction3.gene_reaction_rule = '(P06149.3)'\n",
    "reaction3.genes"
   ]
  },
  {
   "cell_type": "code",
   "execution_count": 19,
   "id": "654c8158",
   "metadata": {},
   "outputs": [
    {
     "data": {
      "text/html": [
       "\n",
       "        <table>\n",
       "            <tr>\n",
       "                <td><strong>Reaction identifier</strong></td><td>y300086</td>\n",
       "            </tr><tr>\n",
       "                <td><strong>Name</strong></td><td>propanoyl-CoA: electron-transfer flavoprotein 2,3-oxidoreductase</td>\n",
       "            </tr><tr>\n",
       "                <td><strong>Memory address</strong></td>\n",
       "                <td>0x01f30bb4a040</td>\n",
       "            </tr><tr>\n",
       "                <td><strong>Stoichiometry</strong></td>\n",
       "                <td>\n",
       "                    <p style='text-align:right'>s_1275 + s_3719 <=> s_0837 + s_3721</p>\n",
       "                    <p style='text-align:right'>oxygen + Propionyl-CoA[c] <=> hydrogen peroxide + Propenoyl-CoA[c]</p>\n",
       "                </td>\n",
       "            </tr><tr>\n",
       "                <td><strong>GPR</strong></td><td>P06149.3</td>\n",
       "            </tr><tr>\n",
       "                <td><strong>Lower bound</strong></td><td>-1000.0</td>\n",
       "            </tr><tr>\n",
       "                <td><strong>Upper bound</strong></td><td>1000.0</td>\n",
       "            </tr>\n",
       "        </table>\n",
       "        "
      ],
      "text/plain": [
       "<Reaction y300086 at 0x1f30bb4a040>"
      ]
     },
     "execution_count": 19,
     "metadata": {},
     "output_type": "execute_result"
    }
   ],
   "source": [
    "yali.reactions.y300086"
   ]
  },
  {
   "cell_type": "code",
   "execution_count": 20,
   "id": "44cb9cdb",
   "metadata": {},
   "outputs": [],
   "source": [
    "reaction4 = Reaction('y300087')\n",
    "reaction4.name = '3-hydroxypropionyl-CoA hydrolyase'\n",
    "reaction4.subsystem = 'Cell Propionate Biosynthesis'\n",
    "reaction4.lower_bound = -1000. # This is the default\n",
    "reaction4.upper_bound = 1000. # This is the default"
   ]
  },
  {
   "cell_type": "code",
   "execution_count": 21,
   "id": "2198621b",
   "metadata": {},
   "outputs": [
    {
     "data": {
      "text/plain": [
       "'s_3721 <=> s_0803 + s_3722'"
      ]
     },
     "execution_count": 21,
     "metadata": {},
     "output_type": "execute_result"
    }
   ],
   "source": [
    "reaction4.add_metabolites({\n",
    "propecoa_c: -1.0,\n",
    "hydroxcoa_c: 1.0,\n",
    "water_c: 1.0,\n",
    "})\n",
    "reaction4.reaction"
   ]
  },
  {
   "cell_type": "code",
   "execution_count": 22,
   "id": "f0648b52",
   "metadata": {},
   "outputs": [],
   "source": [
    "yali.add_reactions([reaction4])"
   ]
  },
  {
   "cell_type": "code",
   "execution_count": 23,
   "id": "e9356953",
   "metadata": {},
   "outputs": [
    {
     "data": {
      "text/html": [
       "\n",
       "        <table>\n",
       "            <tr>\n",
       "                <td><strong>Reaction identifier</strong></td><td>y300087</td>\n",
       "            </tr><tr>\n",
       "                <td><strong>Name</strong></td><td>3-hydroxypropionyl-CoA hydrolyase</td>\n",
       "            </tr><tr>\n",
       "                <td><strong>Memory address</strong></td>\n",
       "                <td>0x01f30bb3be20</td>\n",
       "            </tr><tr>\n",
       "                <td><strong>Stoichiometry</strong></td>\n",
       "                <td>\n",
       "                    <p style='text-align:right'>s_3721 <=> s_0803 + s_3722</p>\n",
       "                    <p style='text-align:right'>Propenoyl-CoA[c] <=> H2O + 3-hydroxypropionyl-CoA [c]</p>\n",
       "                </td>\n",
       "            </tr><tr>\n",
       "                <td><strong>GPR</strong></td><td></td>\n",
       "            </tr><tr>\n",
       "                <td><strong>Lower bound</strong></td><td>-1000.0</td>\n",
       "            </tr><tr>\n",
       "                <td><strong>Upper bound</strong></td><td>1000.0</td>\n",
       "            </tr>\n",
       "        </table>\n",
       "        "
      ],
      "text/plain": [
       "<Reaction y300087 at 0x1f30bb3be20>"
      ]
     },
     "execution_count": 23,
     "metadata": {},
     "output_type": "execute_result"
    }
   ],
   "source": [
    "yali.reactions.y300087"
   ]
  },
  {
   "cell_type": "code",
   "execution_count": 24,
   "id": "91095d0f",
   "metadata": {},
   "outputs": [],
   "source": [
    "reaction5 = Reaction('y300088')\n",
    "reaction5.name = '3-hydroxypropionate:CoA ligase (AMP-forming)'\n",
    "reaction5.subsystem = 'Cell Propionate Biosynthesis'\n",
    "reaction5.lower_bound = -1000. # This is the default\n",
    "reaction5.upper_bound = 1000. # This is the default"
   ]
  },
  {
   "cell_type": "code",
   "execution_count": 25,
   "id": "ed39540c",
   "metadata": {},
   "outputs": [
    {
     "data": {
      "text/plain": [
       "'s_0423 + s_0633 + s_3722 <=> s_0434 + s_0529 + s_3723'"
      ]
     },
     "execution_count": 25,
     "metadata": {},
     "output_type": "execute_result"
    }
   ],
   "source": [
    "reaction5.add_metabolites({\n",
    "hydroxcoa_c: -1.0,\n",
    "difos_c: -1.0,\n",
    "amp_c: -1.0,\n",
    "coe_c: 1.0,\n",
    "atp_c: 1.0,\n",
    "hydroxypropanoate_c: 1.0,\n",
    "})\n",
    "reaction5.reaction"
   ]
  },
  {
   "cell_type": "code",
   "execution_count": 26,
   "id": "42c3bc8a",
   "metadata": {},
   "outputs": [],
   "source": [
    "yali.add_reactions([reaction5])"
   ]
  },
  {
   "cell_type": "code",
   "execution_count": 27,
   "id": "d14d183e",
   "metadata": {},
   "outputs": [
    {
     "data": {
      "text/html": [
       "\n",
       "        <table>\n",
       "            <tr>\n",
       "                <td><strong>Reaction identifier</strong></td><td>y300088</td>\n",
       "            </tr><tr>\n",
       "                <td><strong>Name</strong></td><td>3-hydroxypropionate:CoA ligase (AMP-forming)</td>\n",
       "            </tr><tr>\n",
       "                <td><strong>Memory address</strong></td>\n",
       "                <td>0x01f30bb3b520</td>\n",
       "            </tr><tr>\n",
       "                <td><strong>Stoichiometry</strong></td>\n",
       "                <td>\n",
       "                    <p style='text-align:right'>s_0423 + s_0633 + s_3722 <=> s_0434 + s_0529 + s_3723</p>\n",
       "                    <p style='text-align:right'>AMP + diphosphate + 3-hydroxypropionyl-CoA [c] <=> ATP + coenzyme A + 3-Hydroxypropanoate [c]</p>\n",
       "                </td>\n",
       "            </tr><tr>\n",
       "                <td><strong>GPR</strong></td><td></td>\n",
       "            </tr><tr>\n",
       "                <td><strong>Lower bound</strong></td><td>-1000.0</td>\n",
       "            </tr><tr>\n",
       "                <td><strong>Upper bound</strong></td><td>1000.0</td>\n",
       "            </tr>\n",
       "        </table>\n",
       "        "
      ],
      "text/plain": [
       "<Reaction y300088 at 0x1f30bb3b520>"
      ]
     },
     "execution_count": 27,
     "metadata": {},
     "output_type": "execute_result"
    }
   ],
   "source": [
    "yali.reactions.y300088"
   ]
  },
  {
   "cell_type": "code",
   "execution_count": 28,
   "id": "236c0a6e",
   "metadata": {},
   "outputs": [],
   "source": [
    "reaction6 = Reaction('y300089')\n",
    "reaction6.name = '3-hydroxypropanoate:NAD+ oxidoreductase'\n",
    "reaction6.subsystem = 'Cell Propionate Biosynthesis'\n",
    "reaction6.lower_bound = -1000. # This is the default\n",
    "reaction6.upper_bound = 1000. # This is the default"
   ]
  },
  {
   "cell_type": "code",
   "execution_count": 29,
   "id": "94958d24",
   "metadata": {},
   "outputs": [
    {
     "data": {
      "text/plain": [
       "'s_1198 + s_3723 <=> s_0794 + s_1203 + s_3724'"
      ]
     },
     "execution_count": 29,
     "metadata": {},
     "output_type": "execute_result"
    }
   ],
   "source": [
    "reaction6.add_metabolites({\n",
    "hydroxypropanoate_c: -1.0,\n",
    "NAD_c: -1.0,\n",
    "NADH_c: 1.0,\n",
    "h_c: 1.0,\n",
    "oxopro_c: 1.0,\n",
    "})\n",
    "reaction6.reaction"
   ]
  },
  {
   "cell_type": "code",
   "execution_count": 30,
   "id": "9ca2cdb5",
   "metadata": {},
   "outputs": [],
   "source": [
    "yali.add_reactions([reaction6])"
   ]
  },
  {
   "cell_type": "code",
   "execution_count": 31,
   "id": "bc44c8ce",
   "metadata": {},
   "outputs": [
    {
     "data": {
      "text/html": [
       "\n",
       "        <table>\n",
       "            <tr>\n",
       "                <td><strong>Reaction identifier</strong></td><td>y300089</td>\n",
       "            </tr><tr>\n",
       "                <td><strong>Name</strong></td><td>3-hydroxypropanoate:NAD+ oxidoreductase</td>\n",
       "            </tr><tr>\n",
       "                <td><strong>Memory address</strong></td>\n",
       "                <td>0x01f30b919e20</td>\n",
       "            </tr><tr>\n",
       "                <td><strong>Stoichiometry</strong></td>\n",
       "                <td>\n",
       "                    <p style='text-align:right'>s_1198 + s_3723 <=> s_0794 + s_1203 + s_3724</p>\n",
       "                    <p style='text-align:right'>NAD + 3-Hydroxypropanoate [c] <=> H+ + NADH + 3-oxopropanoate[c]</p>\n",
       "                </td>\n",
       "            </tr><tr>\n",
       "                <td><strong>GPR</strong></td><td></td>\n",
       "            </tr><tr>\n",
       "                <td><strong>Lower bound</strong></td><td>-1000.0</td>\n",
       "            </tr><tr>\n",
       "                <td><strong>Upper bound</strong></td><td>1000.0</td>\n",
       "            </tr>\n",
       "        </table>\n",
       "        "
      ],
      "text/plain": [
       "<Reaction y300089 at 0x1f30b919e20>"
      ]
     },
     "execution_count": 31,
     "metadata": {},
     "output_type": "execute_result"
    }
   ],
   "source": [
    "yali.reactions.y300089"
   ]
  },
  {
   "cell_type": "code",
   "execution_count": 32,
   "id": "b8c73aaa",
   "metadata": {},
   "outputs": [],
   "source": [
    "reaction7 = Reaction('y300090')\n",
    "reaction7.name = '3-Oxopropanoate:NAD+ oxidoreductase (decarboxylating, CoA-acetylating)'\n",
    "reaction7.subsystem = 'Cell Propionate Biosynthesis'\n",
    "reaction7.lower_bound = -1000. # This is the default\n",
    "reaction7.upper_bound = 1000. # This is the default"
   ]
  },
  {
   "cell_type": "code",
   "execution_count": 33,
   "id": "d0f4692a",
   "metadata": {},
   "outputs": [
    {
     "data": {
      "text/plain": [
       "'s_0529 + s_1198 + s_3724 <=> s_0373 + s_0456 + s_0794 + s_1203'"
      ]
     },
     "execution_count": 33,
     "metadata": {},
     "output_type": "execute_result"
    }
   ],
   "source": [
    "reaction7.add_metabolites({\n",
    "oxopro_c: -1.0,\n",
    "NAD_c: -1.0,\n",
    "coe_c: -1.0,\n",
    "NADH_c: 1.0,\n",
    "h_c: 1.0,\n",
    "acet_c: 1.0,\n",
    "car_c: 1.0,\n",
    "})\n",
    "reaction7.reaction"
   ]
  },
  {
   "cell_type": "code",
   "execution_count": 34,
   "id": "f1128156",
   "metadata": {},
   "outputs": [],
   "source": [
    "yali.add_reactions([reaction7])"
   ]
  },
  {
   "cell_type": "code",
   "execution_count": 35,
   "id": "6351caf1",
   "metadata": {},
   "outputs": [
    {
     "data": {
      "text/html": [
       "\n",
       "        <table>\n",
       "            <tr>\n",
       "                <td><strong>Reaction identifier</strong></td><td>y300090</td>\n",
       "            </tr><tr>\n",
       "                <td><strong>Name</strong></td><td>3-Oxopropanoate:NAD+ oxidoreductase (decarboxylating, CoA-acetylating)</td>\n",
       "            </tr><tr>\n",
       "                <td><strong>Memory address</strong></td>\n",
       "                <td>0x01f30bb50730</td>\n",
       "            </tr><tr>\n",
       "                <td><strong>Stoichiometry</strong></td>\n",
       "                <td>\n",
       "                    <p style='text-align:right'>s_0529 + s_1198 + s_3724 <=> s_0373 + s_0456 + s_0794 + s_1203</p>\n",
       "                    <p style='text-align:right'>coenzyme A + NAD + 3-oxopropanoate[c] <=> acetyl-CoA + carbon dioxide + H+ + NADH</p>\n",
       "                </td>\n",
       "            </tr><tr>\n",
       "                <td><strong>GPR</strong></td><td></td>\n",
       "            </tr><tr>\n",
       "                <td><strong>Lower bound</strong></td><td>-1000.0</td>\n",
       "            </tr><tr>\n",
       "                <td><strong>Upper bound</strong></td><td>1000.0</td>\n",
       "            </tr>\n",
       "        </table>\n",
       "        "
      ],
      "text/plain": [
       "<Reaction y300090 at 0x1f30bb50730>"
      ]
     },
     "execution_count": 35,
     "metadata": {},
     "output_type": "execute_result"
    }
   ],
   "source": [
    "yali.reactions.y300090"
   ]
  },
  {
   "cell_type": "code",
   "execution_count": null,
   "id": "9d7c1d34",
   "metadata": {},
   "outputs": [],
   "source": []
  },
  {
   "cell_type": "code",
   "execution_count": null,
   "id": "96264012",
   "metadata": {},
   "outputs": [],
   "source": []
  },
  {
   "cell_type": "code",
   "execution_count": null,
   "id": "10093e59",
   "metadata": {},
   "outputs": [],
   "source": []
  },
  {
   "cell_type": "code",
   "execution_count": null,
   "id": "48e69b7d",
   "metadata": {},
   "outputs": [],
   "source": []
  },
  {
   "cell_type": "code",
   "execution_count": null,
   "id": "fbb827c1",
   "metadata": {},
   "outputs": [],
   "source": []
  },
  {
   "cell_type": "code",
   "execution_count": null,
   "id": "6918a57a",
   "metadata": {},
   "outputs": [],
   "source": []
  },
  {
   "cell_type": "code",
   "execution_count": 36,
   "id": "56216716",
   "metadata": {},
   "outputs": [],
   "source": [
    "reaction11 = Reaction('y300094')\n",
    "reaction11.name = 'Propionyl-CoA carboxylase'\n",
    "reaction11.subsystem = 'Cell Methylmalonyl Pathway'\n",
    "reaction11.lower_bound = -1000. # This is the default\n",
    "reaction11.upper_bound = 1000. # This is the default"
   ]
  },
  {
   "cell_type": "code",
   "execution_count": 37,
   "id": "1df76fc1",
   "metadata": {},
   "outputs": [
    {
     "data": {
      "text/plain": [
       "'s_0437 + s_1382 <=> s_0397 + s_3726'"
      ]
     },
     "execution_count": 37,
     "metadata": {},
     "output_type": "execute_result"
    }
   ],
   "source": [
    "reaction11.add_metabolites({\n",
    "propiocoa_m: -1.0,\n",
    "atp_m: -1.0,\n",
    "adp_m: 1.0,\n",
    "smethylma_m: 1.0,\n",
    "})\n",
    "reaction11.reaction"
   ]
  },
  {
   "cell_type": "code",
   "execution_count": 38,
   "id": "f34696b9",
   "metadata": {},
   "outputs": [],
   "source": [
    "yali.add_reactions([reaction11])"
   ]
  },
  {
   "cell_type": "code",
   "execution_count": 39,
   "id": "c95cf842",
   "metadata": {},
   "outputs": [
    {
     "data": {
      "text/html": [
       "\n",
       "        <table>\n",
       "            <tr>\n",
       "                <td><strong>Reaction identifier</strong></td><td>y300094</td>\n",
       "            </tr><tr>\n",
       "                <td><strong>Name</strong></td><td>Propionyl-CoA carboxylase</td>\n",
       "            </tr><tr>\n",
       "                <td><strong>Memory address</strong></td>\n",
       "                <td>0x01f30bb595b0</td>\n",
       "            </tr><tr>\n",
       "                <td><strong>Stoichiometry</strong></td>\n",
       "                <td>\n",
       "                    <p style='text-align:right'>s_0437 + s_1382 <=> s_0397 + s_3726</p>\n",
       "                    <p style='text-align:right'>ATP + propionyl-CoA <=> ADP + (S)-Methylmalonyl-CoA[m]</p>\n",
       "                </td>\n",
       "            </tr><tr>\n",
       "                <td><strong>GPR</strong></td><td></td>\n",
       "            </tr><tr>\n",
       "                <td><strong>Lower bound</strong></td><td>-1000.0</td>\n",
       "            </tr><tr>\n",
       "                <td><strong>Upper bound</strong></td><td>1000.0</td>\n",
       "            </tr>\n",
       "        </table>\n",
       "        "
      ],
      "text/plain": [
       "<Reaction y300094 at 0x1f30bb595b0>"
      ]
     },
     "execution_count": 39,
     "metadata": {},
     "output_type": "execute_result"
    }
   ],
   "source": [
    "yali.reactions.y300094"
   ]
  },
  {
   "cell_type": "code",
   "execution_count": 40,
   "id": "e3117891",
   "metadata": {},
   "outputs": [],
   "source": [
    "reaction12 = Reaction('y300095')\n",
    "reaction12.name = 'Methylmalonyl-CoA epimerase'\n",
    "reaction12.subsystem = 'Cell Methylmalonyl Pathway'\n",
    "reaction12.lower_bound = -1000. # This is the default\n",
    "reaction12.upper_bound = 1000. # This is the default"
   ]
  },
  {
   "cell_type": "code",
   "execution_count": 41,
   "id": "6dad9a43",
   "metadata": {},
   "outputs": [
    {
     "data": {
      "text/plain": [
       "'s_3726 <=> s_3727'"
      ]
     },
     "execution_count": 41,
     "metadata": {},
     "output_type": "execute_result"
    }
   ],
   "source": [
    "reaction12.add_metabolites({\n",
    "smethylma_m: -1.0,\n",
    "rmethylma_m: 1.0,\n",
    "})\n",
    "reaction12.reaction"
   ]
  },
  {
   "cell_type": "code",
   "execution_count": 42,
   "id": "e3cf53da",
   "metadata": {},
   "outputs": [],
   "source": [
    "yali.add_reactions([reaction12])"
   ]
  },
  {
   "cell_type": "code",
   "execution_count": 43,
   "id": "325d44f2",
   "metadata": {},
   "outputs": [
    {
     "data": {
      "text/html": [
       "\n",
       "        <table>\n",
       "            <tr>\n",
       "                <td><strong>Reaction identifier</strong></td><td>y300095</td>\n",
       "            </tr><tr>\n",
       "                <td><strong>Name</strong></td><td>Methylmalonyl-CoA epimerase</td>\n",
       "            </tr><tr>\n",
       "                <td><strong>Memory address</strong></td>\n",
       "                <td>0x01f30bb33820</td>\n",
       "            </tr><tr>\n",
       "                <td><strong>Stoichiometry</strong></td>\n",
       "                <td>\n",
       "                    <p style='text-align:right'>s_3726 <=> s_3727</p>\n",
       "                    <p style='text-align:right'>(S)-Methylmalonyl-CoA[m] <=> (R)-Methylmalonyl-CoA[m]</p>\n",
       "                </td>\n",
       "            </tr><tr>\n",
       "                <td><strong>GPR</strong></td><td></td>\n",
       "            </tr><tr>\n",
       "                <td><strong>Lower bound</strong></td><td>-1000.0</td>\n",
       "            </tr><tr>\n",
       "                <td><strong>Upper bound</strong></td><td>1000.0</td>\n",
       "            </tr>\n",
       "        </table>\n",
       "        "
      ],
      "text/plain": [
       "<Reaction y300095 at 0x1f30bb33820>"
      ]
     },
     "execution_count": 43,
     "metadata": {},
     "output_type": "execute_result"
    }
   ],
   "source": [
    "yali.reactions.y300095"
   ]
  },
  {
   "cell_type": "code",
   "execution_count": 44,
   "id": "13bb0ffa",
   "metadata": {},
   "outputs": [],
   "source": [
    "reaction13 = Reaction('y300096')\n",
    "reaction13.name = '(R)-Methylmalonyl-CoA CoA-carbonylmutase'\n",
    "reaction13.subsystem = 'Cell Methylmalonyl Pathway'\n",
    "reaction13.lower_bound = -1000. # This is the default\n",
    "reaction13.upper_bound = 1000. # This is the default"
   ]
  },
  {
   "cell_type": "code",
   "execution_count": 45,
   "id": "82eff8a8",
   "metadata": {},
   "outputs": [
    {
     "data": {
      "text/plain": [
       "'s_3727 <=> s_1464'"
      ]
     },
     "execution_count": 45,
     "metadata": {},
     "output_type": "execute_result"
    }
   ],
   "source": [
    "reaction13.add_metabolites({\n",
    "rmethylma_m: -1.0,\n",
    "succi_m: 1.0,\n",
    "})\n",
    "reaction13.reaction"
   ]
  },
  {
   "cell_type": "code",
   "execution_count": 46,
   "id": "c55be7ab",
   "metadata": {},
   "outputs": [],
   "source": [
    "yali.add_reactions([reaction13])"
   ]
  },
  {
   "cell_type": "code",
   "execution_count": 47,
   "id": "51a120bc",
   "metadata": {},
   "outputs": [
    {
     "data": {
      "text/html": [
       "\n",
       "        <table>\n",
       "            <tr>\n",
       "                <td><strong>Reaction identifier</strong></td><td>y300096</td>\n",
       "            </tr><tr>\n",
       "                <td><strong>Name</strong></td><td>(R)-Methylmalonyl-CoA CoA-carbonylmutase</td>\n",
       "            </tr><tr>\n",
       "                <td><strong>Memory address</strong></td>\n",
       "                <td>0x01f30bb4ab20</td>\n",
       "            </tr><tr>\n",
       "                <td><strong>Stoichiometry</strong></td>\n",
       "                <td>\n",
       "                    <p style='text-align:right'>s_3727 <=> s_1464</p>\n",
       "                    <p style='text-align:right'>(R)-Methylmalonyl-CoA[m] <=> succinyl-CoA</p>\n",
       "                </td>\n",
       "            </tr><tr>\n",
       "                <td><strong>GPR</strong></td><td></td>\n",
       "            </tr><tr>\n",
       "                <td><strong>Lower bound</strong></td><td>-1000.0</td>\n",
       "            </tr><tr>\n",
       "                <td><strong>Upper bound</strong></td><td>1000.0</td>\n",
       "            </tr>\n",
       "        </table>\n",
       "        "
      ],
      "text/plain": [
       "<Reaction y300096 at 0x1f30bb4ab20>"
      ]
     },
     "execution_count": 47,
     "metadata": {},
     "output_type": "execute_result"
    }
   ],
   "source": [
    "yali.reactions.y300096"
   ]
  },
  {
   "cell_type": "code",
   "execution_count": null,
   "id": "be004184",
   "metadata": {},
   "outputs": [],
   "source": []
  },
  {
   "cell_type": "code",
   "execution_count": null,
   "id": "76e13c7b",
   "metadata": {},
   "outputs": [],
   "source": []
  },
  {
   "cell_type": "code",
   "execution_count": null,
   "id": "f76cccda",
   "metadata": {},
   "outputs": [],
   "source": []
  },
  {
   "cell_type": "code",
   "execution_count": 48,
   "id": "e3b439ff",
   "metadata": {},
   "outputs": [],
   "source": [
    "reaction1 = Reaction('y300084')\n",
    "reaction1.name = 'Propionate CoA-transferase'\n",
    "reaction1.subsystem = 'Cell Propionate Biosynthesis'\n",
    "reaction1.lower_bound = -1000. # This is the default\n",
    "reaction1.upper_bound = 1000. # This is the default"
   ]
  },
  {
   "cell_type": "code",
   "execution_count": 49,
   "id": "f9f608ad",
   "metadata": {},
   "outputs": [
    {
     "data": {
      "text/plain": [
       "'s_3718 <=> s_3719'"
      ]
     },
     "execution_count": 49,
     "metadata": {},
     "output_type": "execute_result"
    }
   ],
   "source": [
    "reaction1.add_metabolites({\n",
    "propio_c: -1.0,\n",
    "propiocoa_c: 1.0,\n",
    "})\n",
    "reaction1.reaction"
   ]
  },
  {
   "cell_type": "code",
   "execution_count": 50,
   "id": "bfbdce4b",
   "metadata": {},
   "outputs": [],
   "source": [
    "yali.add_reactions([reaction1])"
   ]
  },
  {
   "cell_type": "code",
   "execution_count": 51,
   "id": "42e0d4a8",
   "metadata": {},
   "outputs": [
    {
     "data": {
      "text/html": [
       "\n",
       "        <table>\n",
       "            <tr>\n",
       "                <td><strong>Reaction identifier</strong></td><td>y300084</td>\n",
       "            </tr><tr>\n",
       "                <td><strong>Name</strong></td><td>Propionate CoA-transferase</td>\n",
       "            </tr><tr>\n",
       "                <td><strong>Memory address</strong></td>\n",
       "                <td>0x01f30bb41820</td>\n",
       "            </tr><tr>\n",
       "                <td><strong>Stoichiometry</strong></td>\n",
       "                <td>\n",
       "                    <p style='text-align:right'>s_3718 <=> s_3719</p>\n",
       "                    <p style='text-align:right'>Propionate[c] <=> Propionyl-CoA[c]</p>\n",
       "                </td>\n",
       "            </tr><tr>\n",
       "                <td><strong>GPR</strong></td><td></td>\n",
       "            </tr><tr>\n",
       "                <td><strong>Lower bound</strong></td><td>-1000.0</td>\n",
       "            </tr><tr>\n",
       "                <td><strong>Upper bound</strong></td><td>1000.0</td>\n",
       "            </tr>\n",
       "        </table>\n",
       "        "
      ],
      "text/plain": [
       "<Reaction y300084 at 0x1f30bb41820>"
      ]
     },
     "execution_count": 51,
     "metadata": {},
     "output_type": "execute_result"
    }
   ],
   "source": [
    "yali.reactions.y300084"
   ]
  },
  {
   "cell_type": "code",
   "execution_count": 52,
   "id": "eefeae23",
   "metadata": {},
   "outputs": [],
   "source": [
    "reaction = Reaction('y300083')\n",
    "reaction.name = 'Propionate Extracellular Transporter'\n",
    "reaction.subsystem = 'Cell Propionate Biosynthesis'\n",
    "reaction.lower_bound = 0. # This is the default\n",
    "reaction.upper_bound = 1000. # This is the default"
   ]
  },
  {
   "cell_type": "code",
   "execution_count": 53,
   "id": "489f8ed1",
   "metadata": {},
   "outputs": [
    {
     "data": {
      "text/plain": [
       "'s_3717 --> s_3718'"
      ]
     },
     "execution_count": 53,
     "metadata": {},
     "output_type": "execute_result"
    }
   ],
   "source": [
    "reaction.add_metabolites({\n",
    "propio_extr: -1.0,\n",
    "propio_c: 1.0,\n",
    "})\n",
    "reaction.reaction"
   ]
  },
  {
   "cell_type": "code",
   "execution_count": 54,
   "id": "6ef32e98",
   "metadata": {},
   "outputs": [
    {
     "data": {
      "text/plain": [
       "frozenset({<Gene MFS1 at 0x1f30bb5f5e0>})"
      ]
     },
     "execution_count": 54,
     "metadata": {},
     "output_type": "execute_result"
    }
   ],
   "source": [
    "reaction.gene_reaction_rule = '( MFS1 )'\n",
    "reaction.genes"
   ]
  },
  {
   "cell_type": "code",
   "execution_count": 55,
   "id": "9436d3a1",
   "metadata": {},
   "outputs": [],
   "source": [
    "yali.add_reactions([reaction])"
   ]
  },
  {
   "cell_type": "code",
   "execution_count": 56,
   "id": "a395434c",
   "metadata": {},
   "outputs": [
    {
     "data": {
      "text/html": [
       "\n",
       "        <table>\n",
       "            <tr>\n",
       "                <td><strong>Reaction identifier</strong></td><td>y300083</td>\n",
       "            </tr><tr>\n",
       "                <td><strong>Name</strong></td><td>Propionate Extracellular Transporter</td>\n",
       "            </tr><tr>\n",
       "                <td><strong>Memory address</strong></td>\n",
       "                <td>0x01f30bb41130</td>\n",
       "            </tr><tr>\n",
       "                <td><strong>Stoichiometry</strong></td>\n",
       "                <td>\n",
       "                    <p style='text-align:right'>s_3717 --> s_3718</p>\n",
       "                    <p style='text-align:right'>Propionate[e] --> Propionate[c]</p>\n",
       "                </td>\n",
       "            </tr><tr>\n",
       "                <td><strong>GPR</strong></td><td>MFS1</td>\n",
       "            </tr><tr>\n",
       "                <td><strong>Lower bound</strong></td><td>0.0</td>\n",
       "            </tr><tr>\n",
       "                <td><strong>Upper bound</strong></td><td>1000.0</td>\n",
       "            </tr>\n",
       "        </table>\n",
       "        "
      ],
      "text/plain": [
       "<Reaction y300083 at 0x1f30bb41130>"
      ]
     },
     "execution_count": 56,
     "metadata": {},
     "output_type": "execute_result"
    }
   ],
   "source": [
    "yali.reactions.y300083"
   ]
  },
  {
   "cell_type": "code",
   "execution_count": 57,
   "id": "316ad0d8",
   "metadata": {},
   "outputs": [
    {
     "data": {
      "text/html": [
       "\n",
       "        <table>\n",
       "            <tr>\n",
       "                <td><strong>Reaction identifier</strong></td><td>y001714</td>\n",
       "            </tr><tr>\n",
       "                <td><strong>Name</strong></td><td>D-glucose exchange</td>\n",
       "            </tr><tr>\n",
       "                <td><strong>Memory address</strong></td>\n",
       "                <td>0x01f30c07c730</td>\n",
       "            </tr><tr>\n",
       "                <td><strong>Stoichiometry</strong></td>\n",
       "                <td>\n",
       "                    <p style='text-align:right'>s_0565 <--</p>\n",
       "                    <p style='text-align:right'>D-glucose <--</p>\n",
       "                </td>\n",
       "            </tr><tr>\n",
       "                <td><strong>GPR</strong></td><td></td>\n",
       "            </tr><tr>\n",
       "                <td><strong>Lower bound</strong></td><td>-1.0</td>\n",
       "            </tr><tr>\n",
       "                <td><strong>Upper bound</strong></td><td>-1.0</td>\n",
       "            </tr>\n",
       "        </table>\n",
       "        "
      ],
      "text/plain": [
       "<Reaction y001714 at 0x1f30c07c730>"
      ]
     },
     "execution_count": 57,
     "metadata": {},
     "output_type": "execute_result"
    }
   ],
   "source": [
    "yali.reactions.y001714"
   ]
  },
  {
   "cell_type": "code",
   "execution_count": 58,
   "id": "2baf8adb",
   "metadata": {},
   "outputs": [
    {
     "data": {
      "text/html": [
       "\n",
       "        <table>\n",
       "            <tr>\n",
       "                <td><strong>Reaction identifier</strong></td><td>y001166</td>\n",
       "            </tr><tr>\n",
       "                <td><strong>Name</strong></td><td>glucose transport</td>\n",
       "            </tr><tr>\n",
       "                <td><strong>Memory address</strong></td>\n",
       "                <td>0x01f30bf4bca0</td>\n",
       "            </tr><tr>\n",
       "                <td><strong>Stoichiometry</strong></td>\n",
       "                <td>\n",
       "                    <p style='text-align:right'>s_0565 --> s_0563</p>\n",
       "                    <p style='text-align:right'>D-glucose --> D-glucose</p>\n",
       "                </td>\n",
       "            </tr><tr>\n",
       "                <td><strong>GPR</strong></td><td>YALI0A14212g or YALI0B00396g or YALI0F19184g</td>\n",
       "            </tr><tr>\n",
       "                <td><strong>Lower bound</strong></td><td>0.0</td>\n",
       "            </tr><tr>\n",
       "                <td><strong>Upper bound</strong></td><td>1000.0</td>\n",
       "            </tr>\n",
       "        </table>\n",
       "        "
      ],
      "text/plain": [
       "<Reaction y001166 at 0x1f30bf4bca0>"
      ]
     },
     "execution_count": 58,
     "metadata": {},
     "output_type": "execute_result"
    }
   ],
   "source": [
    "yali.reactions.y001166"
   ]
  },
  {
   "cell_type": "code",
   "execution_count": 59,
   "id": "89b082b7",
   "metadata": {},
   "outputs": [
    {
     "data": {
      "text/html": [
       "\n",
       "        <table>\n",
       "            <tr>\n",
       "                <td><strong>Reaction identifier</strong></td><td>y300083</td>\n",
       "            </tr><tr>\n",
       "                <td><strong>Name</strong></td><td>Propionate Extracellular Transporter</td>\n",
       "            </tr><tr>\n",
       "                <td><strong>Memory address</strong></td>\n",
       "                <td>0x01f30bb41130</td>\n",
       "            </tr><tr>\n",
       "                <td><strong>Stoichiometry</strong></td>\n",
       "                <td>\n",
       "                    <p style='text-align:right'>s_3717 --> s_3718</p>\n",
       "                    <p style='text-align:right'>Propionate[e] --> Propionate[c]</p>\n",
       "                </td>\n",
       "            </tr><tr>\n",
       "                <td><strong>GPR</strong></td><td>MFS1</td>\n",
       "            </tr><tr>\n",
       "                <td><strong>Lower bound</strong></td><td>0.0</td>\n",
       "            </tr><tr>\n",
       "                <td><strong>Upper bound</strong></td><td>1000.0</td>\n",
       "            </tr>\n",
       "        </table>\n",
       "        "
      ],
      "text/plain": [
       "<Reaction y300083 at 0x1f30bb41130>"
      ]
     },
     "execution_count": 59,
     "metadata": {},
     "output_type": "execute_result"
    }
   ],
   "source": [
    "yali.reactions.y300083"
   ]
  },
  {
   "cell_type": "code",
   "execution_count": 60,
   "id": "8f7d8ad3",
   "metadata": {},
   "outputs": [
    {
     "data": {
      "text/html": [
       "\n",
       "        <table>\n",
       "            <tr>\n",
       "                <td><strong>Metabolite identifier</strong></td><td>s_0565</td>\n",
       "            </tr><tr>\n",
       "                <td><strong>Name</strong></td><td>D-glucose</td>\n",
       "            </tr><tr>\n",
       "                <td><strong>Memory address</strong></td>\n",
       "                <td>0x01f30b639d00</td>\n",
       "            </tr><tr>\n",
       "                <td><strong>Formula</strong></td><td>C6H12O6</td>\n",
       "            </tr><tr>\n",
       "                <td><strong>Compartment</strong></td><td>e</td>\n",
       "            </tr><tr>\n",
       "                <td><strong>In 4 reaction(s)</strong></td><td>\n",
       "                    y001024, y001166, y001714, y000370</td>\n",
       "            </tr>\n",
       "        </table>"
      ],
      "text/plain": [
       "<Metabolite s_0565 at 0x1f30b639d00>"
      ]
     },
     "execution_count": 60,
     "metadata": {},
     "output_type": "execute_result"
    }
   ],
   "source": [
    "yali.metabolites.s_0565 "
   ]
  },
  {
   "cell_type": "code",
   "execution_count": 61,
   "id": "b9ff7893",
   "metadata": {},
   "outputs": [
    {
     "data": {
      "text/html": [
       "\n",
       "        <table>\n",
       "            <tr>\n",
       "                <td><strong>Metabolite identifier</strong></td><td>s_3717</td>\n",
       "            </tr><tr>\n",
       "                <td><strong>Name</strong></td><td>Propionate[e]</td>\n",
       "            </tr><tr>\n",
       "                <td><strong>Memory address</strong></td>\n",
       "                <td>0x01f30bb33340</td>\n",
       "            </tr><tr>\n",
       "                <td><strong>Formula</strong></td><td>C3H5O2</td>\n",
       "            </tr><tr>\n",
       "                <td><strong>Compartment</strong></td><td>e</td>\n",
       "            </tr><tr>\n",
       "                <td><strong>In 1 reaction(s)</strong></td><td>\n",
       "                    y300083</td>\n",
       "            </tr>\n",
       "        </table>"
      ],
      "text/plain": [
       "<Metabolite s_3717 at 0x1f30bb33340>"
      ]
     },
     "execution_count": 61,
     "metadata": {},
     "output_type": "execute_result"
    }
   ],
   "source": [
    "yali.metabolites.s_3717"
   ]
  },
  {
   "cell_type": "code",
   "execution_count": 62,
   "id": "97f0da67",
   "metadata": {
    "scrolled": true
   },
   "outputs": [],
   "source": [
    "#yali.reactions.SK_s_3717"
   ]
  },
  {
   "cell_type": "code",
   "execution_count": null,
   "id": "311e1b35",
   "metadata": {},
   "outputs": [],
   "source": []
  },
  {
   "cell_type": "code",
   "execution_count": null,
   "id": "9263ca94",
   "metadata": {},
   "outputs": [],
   "source": []
  },
  {
   "cell_type": "code",
   "execution_count": null,
   "id": "94d2e5da",
   "metadata": {},
   "outputs": [],
   "source": []
  },
  {
   "cell_type": "code",
   "execution_count": 63,
   "id": "c3d2d92a",
   "metadata": {},
   "outputs": [
    {
     "data": {
      "text/html": [
       "\n",
       "        <table>\n",
       "            <tr>\n",
       "                <td><strong>Reaction identifier</strong></td><td>EX_s_3717</td>\n",
       "            </tr><tr>\n",
       "                <td><strong>Name</strong></td><td>Propionate[e] exchange</td>\n",
       "            </tr><tr>\n",
       "                <td><strong>Memory address</strong></td>\n",
       "                <td>0x01f35fd72b20</td>\n",
       "            </tr><tr>\n",
       "                <td><strong>Stoichiometry</strong></td>\n",
       "                <td>\n",
       "                    <p style='text-align:right'>s_3717 <=></p>\n",
       "                    <p style='text-align:right'>Propionate[e] <=></p>\n",
       "                </td>\n",
       "            </tr><tr>\n",
       "                <td><strong>GPR</strong></td><td></td>\n",
       "            </tr><tr>\n",
       "                <td><strong>Lower bound</strong></td><td>-1000.0</td>\n",
       "            </tr><tr>\n",
       "                <td><strong>Upper bound</strong></td><td>1000.0</td>\n",
       "            </tr>\n",
       "        </table>\n",
       "        "
      ],
      "text/plain": [
       "<Reaction EX_s_3717 at 0x1f35fd72b20>"
      ]
     },
     "execution_count": 63,
     "metadata": {},
     "output_type": "execute_result"
    }
   ],
   "source": [
    "# create exchange reaction\n",
    "yali.add_boundary(yali.metabolites.get_by_id(\"s_3717\"), type=\"exchange\")"
   ]
  },
  {
   "cell_type": "code",
   "execution_count": 64,
   "id": "36cb8ce6",
   "metadata": {},
   "outputs": [
    {
     "data": {
      "text/plain": [
       "[<Reaction y001542 at 0x1f30c015790>,\n",
       " <Reaction y001545 at 0x1f30c0087c0>,\n",
       " <Reaction y001546 at 0x1f30c0084c0>,\n",
       " <Reaction y001547 at 0x1f30c008730>,\n",
       " <Reaction y001548 at 0x1f30c015ac0>,\n",
       " <Reaction y001550 at 0x1f30c015b80>,\n",
       " <Reaction y001551 at 0x1f30c015c40>,\n",
       " <Reaction y001552 at 0x1f30c015d00>,\n",
       " <Reaction y001553 at 0x1f30c015dc0>,\n",
       " <Reaction y001554 at 0x1f30c015e80>,\n",
       " <Reaction y001566 at 0x1f30c015d30>,\n",
       " <Reaction y001572 at 0x1f30c015fa0>,\n",
       " <Reaction y001577 at 0x1f30c0258e0>,\n",
       " <Reaction y001580 at 0x1f30c025b80>,\n",
       " <Reaction y001586 at 0x1f30c025f10>,\n",
       " <Reaction y001589 at 0x1f30c025e80>,\n",
       " <Reaction y001598 at 0x1f30c0326a0>,\n",
       " <Reaction y001604 at 0x1f30c032a30>,\n",
       " <Reaction y001621 at 0x1f30c032310>,\n",
       " <Reaction y001625 at 0x1f30bfddee0>,\n",
       " <Reaction y001627 at 0x1f30bfddd00>,\n",
       " <Reaction y001629 at 0x1f30c042700>,\n",
       " <Reaction y001630 at 0x1f30c042880>,\n",
       " <Reaction y001631 at 0x1f30c0428b0>,\n",
       " <Reaction y001634 at 0x1f30c042bb0>,\n",
       " <Reaction y001639 at 0x1f30c042f40>,\n",
       " <Reaction y001641 at 0x1f30c042fd0>,\n",
       " <Reaction y001643 at 0x1f30c042eb0>,\n",
       " <Reaction y001648 at 0x1f30c050580>,\n",
       " <Reaction y001649 at 0x1f30c050670>,\n",
       " <Reaction y001650 at 0x1f30c0506a0>,\n",
       " <Reaction y001651 at 0x1f30c050760>,\n",
       " <Reaction y001654 at 0x1f30c0508e0>,\n",
       " <Reaction y001663 at 0x1f30c050dc0>,\n",
       " <Reaction y001671 at 0x1f30c05f820>,\n",
       " <Reaction y001672 at 0x1f30c05f910>,\n",
       " <Reaction y001683 at 0x1f30c05f430>,\n",
       " <Reaction y001687 at 0x1f30c06e550>,\n",
       " <Reaction y001702 at 0x1f30c06ed90>,\n",
       " <Reaction y001705 at 0x1f30c050ca0>,\n",
       " <Reaction y001706 at 0x1f30c0423d0>,\n",
       " <Reaction y001709 at 0x1f30c06e280>,\n",
       " <Reaction y001710 at 0x1f30c06e3a0>,\n",
       " <Reaction y001712 at 0x1f30c07c670>,\n",
       " <Reaction y001714 at 0x1f30c07c730>,\n",
       " <Reaction y001715 at 0x1f30c07c7f0>,\n",
       " <Reaction y001716 at 0x1f30c07c8b0>,\n",
       " <Reaction y001718 at 0x1f30c07ca30>,\n",
       " <Reaction y001727 at 0x1f30c07cf40>,\n",
       " <Reaction y001730 at 0x1f30c07cfd0>,\n",
       " <Reaction y001749 at 0x1f30c08bb20>,\n",
       " <Reaction y001753 at 0x1f30c08bdc0>,\n",
       " <Reaction y001757 at 0x1f30c08bee0>,\n",
       " <Reaction y001761 at 0x1f30c08b5e0>,\n",
       " <Reaction y001764 at 0x1f30c09b5e0>,\n",
       " <Reaction y001765 at 0x1f30c09b6d0>,\n",
       " <Reaction y001788 at 0x1f30c09bee0>,\n",
       " <Reaction y001791 at 0x1f30c09bfd0>,\n",
       " <Reaction y001792 at 0x1f30c09beb0>,\n",
       " <Reaction y001793 at 0x1f30c09bfa0>,\n",
       " <Reaction y001798 at 0x1f30c0aa4f0>,\n",
       " <Reaction y001800 at 0x1f30c0aa5e0>,\n",
       " <Reaction y001806 at 0x1f30c0aabb0>,\n",
       " <Reaction y001807 at 0x1f30c0aaca0>,\n",
       " <Reaction y001808 at 0x1f30c0aacd0>,\n",
       " <Reaction y001810 at 0x1f30c0aae50>,\n",
       " <Reaction y001814 at 0x1f30c0aa730>,\n",
       " <Reaction y001815 at 0x1f30c0aa550>,\n",
       " <Reaction y001818 at 0x1f30c0b7610>,\n",
       " <Reaction y001820 at 0x1f30c0b7730>,\n",
       " <Reaction y001832 at 0x1f30c0b7d90>,\n",
       " <Reaction y001834 at 0x1f30c0b7280>,\n",
       " <Reaction y001841 at 0x1f30c0aa1f0>,\n",
       " <Reaction y001843 at 0x1f30c0c5b20>,\n",
       " <Reaction y001847 at 0x1f30c0c5fa0>,\n",
       " <Reaction y001861 at 0x1f30c0d5be0>,\n",
       " <Reaction y001862 at 0x1f30c0d5cd0>,\n",
       " <Reaction y001865 at 0x1f30c0d5f40>,\n",
       " <Reaction y001866 at 0x1f30c0d5fa0>,\n",
       " <Reaction y001867 at 0x1f30c0d5fd0>,\n",
       " <Reaction y001870 at 0x1f30c0d5df0>,\n",
       " <Reaction y001873 at 0x1f30c0d5370>,\n",
       " <Reaction y001875 at 0x1f30c0e4580>,\n",
       " <Reaction y001878 at 0x1f30c0e48b0>,\n",
       " <Reaction y001879 at 0x1f30c0e49a0>,\n",
       " <Reaction y001880 at 0x1f30c0e49d0>,\n",
       " <Reaction y001881 at 0x1f30c0e4a90>,\n",
       " <Reaction y001883 at 0x1f30c0e4c10>,\n",
       " <Reaction y001886 at 0x1f30c0e4f40>,\n",
       " <Reaction y001889 at 0x1f30c0e4fd0>,\n",
       " <Reaction y001891 at 0x1f30c0e43a0>,\n",
       " <Reaction y001893 at 0x1f30c0e4400>,\n",
       " <Reaction y001896 at 0x1f30c0f1610>,\n",
       " <Reaction y001897 at 0x1f30c0f1790>,\n",
       " <Reaction y001899 at 0x1f30c0f1880>,\n",
       " <Reaction y001900 at 0x1f30c0f1a00>,\n",
       " <Reaction y001902 at 0x1f30c0f1af0>,\n",
       " <Reaction y001903 at 0x1f30c0c5460>,\n",
       " <Reaction y001904 at 0x1f30c0f1310>,\n",
       " <Reaction y001906 at 0x1f30c0f1fa0>,\n",
       " <Reaction y001909 at 0x1f30c0f1d00>,\n",
       " <Reaction y001911 at 0x1f30c0f1f70>,\n",
       " <Reaction y001912 at 0x1f30c0ff5b0>,\n",
       " <Reaction y001913 at 0x1f30c0ff5e0>,\n",
       " <Reaction y001914 at 0x1f30c0ff6a0>,\n",
       " <Reaction y001915 at 0x1f30c0ff760>,\n",
       " <Reaction y001916 at 0x1f30c0ff820>,\n",
       " <Reaction y001931 at 0x1f30c0ffeb0>,\n",
       " <Reaction y001947 at 0x1f30c10edc0>,\n",
       " <Reaction y001967 at 0x1f30c11d5e0>,\n",
       " <Reaction y001968 at 0x1f30c11d6d0>,\n",
       " <Reaction y001984 at 0x1f30c11dfd0>,\n",
       " <Reaction y001987 at 0x1f30c11dd60>,\n",
       " <Reaction y001989 at 0x1f30c11d400>,\n",
       " <Reaction y001992 at 0x1f30c11de50>,\n",
       " <Reaction y001993 at 0x1f30c12c520>,\n",
       " <Reaction y001994 at 0x1f30c12c550>,\n",
       " <Reaction y002001 at 0x1f30c12c850>,\n",
       " <Reaction y002005 at 0x1f30c12cbe0>,\n",
       " <Reaction y002020 at 0x1f30c12cd00>,\n",
       " <Reaction y002024 at 0x1f30c12cfa0>,\n",
       " <Reaction y002028 at 0x1f30c12cdf0>,\n",
       " <Reaction y002033 at 0x1f30c0c5970>,\n",
       " <Reaction y002038 at 0x1f30c13b7c0>,\n",
       " <Reaction y002043 at 0x1f30c13beb0>,\n",
       " <Reaction y002044 at 0x1f30c13bfa0>,\n",
       " <Reaction y002046 at 0x1f30c13bf70>,\n",
       " <Reaction y002049 at 0x1f30c13b7f0>,\n",
       " <Reaction y002051 at 0x1f30c13b370>,\n",
       " <Reaction y002052 at 0x1f30c13be20>,\n",
       " <Reaction y002055 at 0x1f30c149640>,\n",
       " <Reaction y002056 at 0x1f30c149730>,\n",
       " <Reaction y002058 at 0x1f30c149820>,\n",
       " <Reaction y002060 at 0x1f30c13b1f0>,\n",
       " <Reaction y002061 at 0x1f30c149040>,\n",
       " <Reaction y002062 at 0x1f30c149c10>,\n",
       " <Reaction y002066 at 0x1f30c149c70>,\n",
       " <Reaction y002067 at 0x1f30c149df0>,\n",
       " <Reaction y002068 at 0x1f30c149e20>,\n",
       " <Reaction y002073 at 0x1f30c149fa0>,\n",
       " <Reaction y002083 at 0x1f30c1498e0>,\n",
       " <Reaction y002090 at 0x1f30c159c40>,\n",
       " <Reaction y002091 at 0x1f30c159d30>,\n",
       " <Reaction y002092 at 0x1f30c159d60>,\n",
       " <Reaction y002100 at 0x1f30c1594c0>,\n",
       " <Reaction y002102 at 0x1f30c165670>,\n",
       " <Reaction y002104 at 0x1f30c165820>,\n",
       " <Reaction y002106 at 0x1f30c1659d0>,\n",
       " <Reaction y002111 at 0x1f30c165b80>,\n",
       " <Reaction y002134 at 0x1f30c174c10>,\n",
       " <Reaction y002137 at 0x1f30c174640>,\n",
       " <Reaction y002187 at 0x1f30c17ebe0>,\n",
       " <Reaction y002188 at 0x1f30c17e520>,\n",
       " <Reaction y002189 at 0x1f30c1cbfa0>,\n",
       " <Reaction y002193 at 0x1f30c1cbf40>,\n",
       " <Reaction y004043 at 0x1f30c291a30>,\n",
       " <Reaction y004044 at 0x1f30c32a910>,\n",
       " <Reaction y300080 at 0x1f30c43bd00>,\n",
       " <Reaction y300081 at 0x1f30c45fcd0>,\n",
       " <Reaction y300082 at 0x1f30c45f280>,\n",
       " <Reaction EX_s_3717 at 0x1f35fd72b20>]"
      ]
     },
     "execution_count": 64,
     "metadata": {},
     "output_type": "execute_result"
    }
   ],
   "source": [
    "# boundary reactions\n",
    "yali.boundary"
   ]
  },
  {
   "cell_type": "code",
   "execution_count": 65,
   "id": "bad049d6",
   "metadata": {},
   "outputs": [
    {
     "data": {
      "text/plain": [
       "[<Reaction y001542 at 0x1f30c015790>,\n",
       " <Reaction y001545 at 0x1f30c0087c0>,\n",
       " <Reaction y001546 at 0x1f30c0084c0>,\n",
       " <Reaction y001547 at 0x1f30c008730>,\n",
       " <Reaction y001548 at 0x1f30c015ac0>,\n",
       " <Reaction y001550 at 0x1f30c015b80>,\n",
       " <Reaction y001551 at 0x1f30c015c40>,\n",
       " <Reaction y001552 at 0x1f30c015d00>,\n",
       " <Reaction y001553 at 0x1f30c015dc0>,\n",
       " <Reaction y001554 at 0x1f30c015e80>,\n",
       " <Reaction y001566 at 0x1f30c015d30>,\n",
       " <Reaction y001572 at 0x1f30c015fa0>,\n",
       " <Reaction y001577 at 0x1f30c0258e0>,\n",
       " <Reaction y001580 at 0x1f30c025b80>,\n",
       " <Reaction y001586 at 0x1f30c025f10>,\n",
       " <Reaction y001589 at 0x1f30c025e80>,\n",
       " <Reaction y001598 at 0x1f30c0326a0>,\n",
       " <Reaction y001604 at 0x1f30c032a30>,\n",
       " <Reaction y001621 at 0x1f30c032310>,\n",
       " <Reaction y001625 at 0x1f30bfddee0>,\n",
       " <Reaction y001627 at 0x1f30bfddd00>,\n",
       " <Reaction y001629 at 0x1f30c042700>,\n",
       " <Reaction y001630 at 0x1f30c042880>,\n",
       " <Reaction y001631 at 0x1f30c0428b0>,\n",
       " <Reaction y001634 at 0x1f30c042bb0>,\n",
       " <Reaction y001639 at 0x1f30c042f40>,\n",
       " <Reaction y001641 at 0x1f30c042fd0>,\n",
       " <Reaction y001643 at 0x1f30c042eb0>,\n",
       " <Reaction y001648 at 0x1f30c050580>,\n",
       " <Reaction y001649 at 0x1f30c050670>,\n",
       " <Reaction y001650 at 0x1f30c0506a0>,\n",
       " <Reaction y001651 at 0x1f30c050760>,\n",
       " <Reaction y001654 at 0x1f30c0508e0>,\n",
       " <Reaction y001663 at 0x1f30c050dc0>,\n",
       " <Reaction y001671 at 0x1f30c05f820>,\n",
       " <Reaction y001672 at 0x1f30c05f910>,\n",
       " <Reaction y001683 at 0x1f30c05f430>,\n",
       " <Reaction y001687 at 0x1f30c06e550>,\n",
       " <Reaction y001702 at 0x1f30c06ed90>,\n",
       " <Reaction y001705 at 0x1f30c050ca0>,\n",
       " <Reaction y001706 at 0x1f30c0423d0>,\n",
       " <Reaction y001709 at 0x1f30c06e280>,\n",
       " <Reaction y001710 at 0x1f30c06e3a0>,\n",
       " <Reaction y001712 at 0x1f30c07c670>,\n",
       " <Reaction y001714 at 0x1f30c07c730>,\n",
       " <Reaction y001715 at 0x1f30c07c7f0>,\n",
       " <Reaction y001716 at 0x1f30c07c8b0>,\n",
       " <Reaction y001718 at 0x1f30c07ca30>,\n",
       " <Reaction y001727 at 0x1f30c07cf40>,\n",
       " <Reaction y001730 at 0x1f30c07cfd0>,\n",
       " <Reaction y001749 at 0x1f30c08bb20>,\n",
       " <Reaction y001753 at 0x1f30c08bdc0>,\n",
       " <Reaction y001757 at 0x1f30c08bee0>,\n",
       " <Reaction y001761 at 0x1f30c08b5e0>,\n",
       " <Reaction y001764 at 0x1f30c09b5e0>,\n",
       " <Reaction y001765 at 0x1f30c09b6d0>,\n",
       " <Reaction y001788 at 0x1f30c09bee0>,\n",
       " <Reaction y001791 at 0x1f30c09bfd0>,\n",
       " <Reaction y001792 at 0x1f30c09beb0>,\n",
       " <Reaction y001793 at 0x1f30c09bfa0>,\n",
       " <Reaction y001798 at 0x1f30c0aa4f0>,\n",
       " <Reaction y001800 at 0x1f30c0aa5e0>,\n",
       " <Reaction y001806 at 0x1f30c0aabb0>,\n",
       " <Reaction y001807 at 0x1f30c0aaca0>,\n",
       " <Reaction y001808 at 0x1f30c0aacd0>,\n",
       " <Reaction y001810 at 0x1f30c0aae50>,\n",
       " <Reaction y001814 at 0x1f30c0aa730>,\n",
       " <Reaction y001815 at 0x1f30c0aa550>,\n",
       " <Reaction y001818 at 0x1f30c0b7610>,\n",
       " <Reaction y001820 at 0x1f30c0b7730>,\n",
       " <Reaction y001832 at 0x1f30c0b7d90>,\n",
       " <Reaction y001834 at 0x1f30c0b7280>,\n",
       " <Reaction y001841 at 0x1f30c0aa1f0>,\n",
       " <Reaction y001843 at 0x1f30c0c5b20>,\n",
       " <Reaction y001847 at 0x1f30c0c5fa0>,\n",
       " <Reaction y001861 at 0x1f30c0d5be0>,\n",
       " <Reaction y001862 at 0x1f30c0d5cd0>,\n",
       " <Reaction y001865 at 0x1f30c0d5f40>,\n",
       " <Reaction y001866 at 0x1f30c0d5fa0>,\n",
       " <Reaction y001867 at 0x1f30c0d5fd0>,\n",
       " <Reaction y001870 at 0x1f30c0d5df0>,\n",
       " <Reaction y001873 at 0x1f30c0d5370>,\n",
       " <Reaction y001875 at 0x1f30c0e4580>,\n",
       " <Reaction y001878 at 0x1f30c0e48b0>,\n",
       " <Reaction y001879 at 0x1f30c0e49a0>,\n",
       " <Reaction y001880 at 0x1f30c0e49d0>,\n",
       " <Reaction y001881 at 0x1f30c0e4a90>,\n",
       " <Reaction y001883 at 0x1f30c0e4c10>,\n",
       " <Reaction y001886 at 0x1f30c0e4f40>,\n",
       " <Reaction y001889 at 0x1f30c0e4fd0>,\n",
       " <Reaction y001891 at 0x1f30c0e43a0>,\n",
       " <Reaction y001893 at 0x1f30c0e4400>,\n",
       " <Reaction y001896 at 0x1f30c0f1610>,\n",
       " <Reaction y001897 at 0x1f30c0f1790>,\n",
       " <Reaction y001899 at 0x1f30c0f1880>,\n",
       " <Reaction y001900 at 0x1f30c0f1a00>,\n",
       " <Reaction y001902 at 0x1f30c0f1af0>,\n",
       " <Reaction y001903 at 0x1f30c0c5460>,\n",
       " <Reaction y001904 at 0x1f30c0f1310>,\n",
       " <Reaction y001906 at 0x1f30c0f1fa0>,\n",
       " <Reaction y001909 at 0x1f30c0f1d00>,\n",
       " <Reaction y001911 at 0x1f30c0f1f70>,\n",
       " <Reaction y001912 at 0x1f30c0ff5b0>,\n",
       " <Reaction y001913 at 0x1f30c0ff5e0>,\n",
       " <Reaction y001914 at 0x1f30c0ff6a0>,\n",
       " <Reaction y001915 at 0x1f30c0ff760>,\n",
       " <Reaction y001916 at 0x1f30c0ff820>,\n",
       " <Reaction y001931 at 0x1f30c0ffeb0>,\n",
       " <Reaction y001947 at 0x1f30c10edc0>,\n",
       " <Reaction y001967 at 0x1f30c11d5e0>,\n",
       " <Reaction y001968 at 0x1f30c11d6d0>,\n",
       " <Reaction y001984 at 0x1f30c11dfd0>,\n",
       " <Reaction y001987 at 0x1f30c11dd60>,\n",
       " <Reaction y001989 at 0x1f30c11d400>,\n",
       " <Reaction y001992 at 0x1f30c11de50>,\n",
       " <Reaction y001993 at 0x1f30c12c520>,\n",
       " <Reaction y001994 at 0x1f30c12c550>,\n",
       " <Reaction y002001 at 0x1f30c12c850>,\n",
       " <Reaction y002005 at 0x1f30c12cbe0>,\n",
       " <Reaction y002020 at 0x1f30c12cd00>,\n",
       " <Reaction y002024 at 0x1f30c12cfa0>,\n",
       " <Reaction y002028 at 0x1f30c12cdf0>,\n",
       " <Reaction y002033 at 0x1f30c0c5970>,\n",
       " <Reaction y002038 at 0x1f30c13b7c0>,\n",
       " <Reaction y002043 at 0x1f30c13beb0>,\n",
       " <Reaction y002044 at 0x1f30c13bfa0>,\n",
       " <Reaction y002046 at 0x1f30c13bf70>,\n",
       " <Reaction y002049 at 0x1f30c13b7f0>,\n",
       " <Reaction y002051 at 0x1f30c13b370>,\n",
       " <Reaction y002052 at 0x1f30c13be20>,\n",
       " <Reaction y002055 at 0x1f30c149640>,\n",
       " <Reaction y002056 at 0x1f30c149730>,\n",
       " <Reaction y002058 at 0x1f30c149820>,\n",
       " <Reaction y002060 at 0x1f30c13b1f0>,\n",
       " <Reaction y002061 at 0x1f30c149040>,\n",
       " <Reaction y002062 at 0x1f30c149c10>,\n",
       " <Reaction y002066 at 0x1f30c149c70>,\n",
       " <Reaction y002067 at 0x1f30c149df0>,\n",
       " <Reaction y002068 at 0x1f30c149e20>,\n",
       " <Reaction y002073 at 0x1f30c149fa0>,\n",
       " <Reaction y002083 at 0x1f30c1498e0>,\n",
       " <Reaction y002090 at 0x1f30c159c40>,\n",
       " <Reaction y002091 at 0x1f30c159d30>,\n",
       " <Reaction y002092 at 0x1f30c159d60>,\n",
       " <Reaction y002100 at 0x1f30c1594c0>,\n",
       " <Reaction y002102 at 0x1f30c165670>,\n",
       " <Reaction y002104 at 0x1f30c165820>,\n",
       " <Reaction y002106 at 0x1f30c1659d0>,\n",
       " <Reaction y002134 at 0x1f30c174c10>,\n",
       " <Reaction y002137 at 0x1f30c174640>,\n",
       " <Reaction y002187 at 0x1f30c17ebe0>,\n",
       " <Reaction y002188 at 0x1f30c17e520>,\n",
       " <Reaction y002189 at 0x1f30c1cbfa0>,\n",
       " <Reaction y002193 at 0x1f30c1cbf40>,\n",
       " <Reaction y004043 at 0x1f30c291a30>,\n",
       " <Reaction y004044 at 0x1f30c32a910>,\n",
       " <Reaction y300080 at 0x1f30c43bd00>,\n",
       " <Reaction y300081 at 0x1f30c45fcd0>,\n",
       " <Reaction y300082 at 0x1f30c45f280>,\n",
       " <Reaction EX_s_3717 at 0x1f35fd72b20>]"
      ]
     },
     "execution_count": 65,
     "metadata": {},
     "output_type": "execute_result"
    }
   ],
   "source": [
    "yali.exchanges"
   ]
  },
  {
   "cell_type": "code",
   "execution_count": 66,
   "id": "5c7a2f7d",
   "metadata": {},
   "outputs": [
    {
     "data": {
      "text/html": [
       "\n",
       "        <table>\n",
       "            <tr>\n",
       "                <td><strong>Reaction identifier</strong></td><td>y001552</td>\n",
       "            </tr><tr>\n",
       "                <td><strong>Name</strong></td><td>(S)-malate exchange</td>\n",
       "            </tr><tr>\n",
       "                <td><strong>Memory address</strong></td>\n",
       "                <td>0x01f30c015d00</td>\n",
       "            </tr><tr>\n",
       "                <td><strong>Stoichiometry</strong></td>\n",
       "                <td>\n",
       "                    <p style='text-align:right'>s_0067 --></p>\n",
       "                    <p style='text-align:right'>(S)-malate --></p>\n",
       "                </td>\n",
       "            </tr><tr>\n",
       "                <td><strong>GPR</strong></td><td></td>\n",
       "            </tr><tr>\n",
       "                <td><strong>Lower bound</strong></td><td>0.0</td>\n",
       "            </tr><tr>\n",
       "                <td><strong>Upper bound</strong></td><td>1000.0</td>\n",
       "            </tr>\n",
       "        </table>\n",
       "        "
      ],
      "text/plain": [
       "<Reaction y001552 at 0x1f30c015d00>"
      ]
     },
     "execution_count": 66,
     "metadata": {},
     "output_type": "execute_result"
    }
   ],
   "source": [
    "yali.reactions.y001552 "
   ]
  },
  {
   "cell_type": "code",
   "execution_count": 67,
   "id": "1a6408eb",
   "metadata": {},
   "outputs": [
    {
     "data": {
      "text/html": [
       "\n",
       "        <table>\n",
       "            <tr>\n",
       "                <td><strong>Reaction identifier</strong></td><td>y001663</td>\n",
       "            </tr><tr>\n",
       "                <td><strong>Name</strong></td><td>bicarbonate exchange</td>\n",
       "            </tr><tr>\n",
       "                <td><strong>Memory address</strong></td>\n",
       "                <td>0x01f30c050dc0</td>\n",
       "            </tr><tr>\n",
       "                <td><strong>Stoichiometry</strong></td>\n",
       "                <td>\n",
       "                    <p style='text-align:right'>s_0446 --></p>\n",
       "                    <p style='text-align:right'>bicarbonate --></p>\n",
       "                </td>\n",
       "            </tr><tr>\n",
       "                <td><strong>GPR</strong></td><td></td>\n",
       "            </tr><tr>\n",
       "                <td><strong>Lower bound</strong></td><td>0.0</td>\n",
       "            </tr><tr>\n",
       "                <td><strong>Upper bound</strong></td><td>1000.0</td>\n",
       "            </tr>\n",
       "        </table>\n",
       "        "
      ],
      "text/plain": [
       "<Reaction y001663 at 0x1f30c050dc0>"
      ]
     },
     "execution_count": 67,
     "metadata": {},
     "output_type": "execute_result"
    }
   ],
   "source": [
    "yali.reactions.y001663 "
   ]
  },
  {
   "cell_type": "code",
   "execution_count": 68,
   "id": "8da72424",
   "metadata": {},
   "outputs": [
    {
     "data": {
      "text/html": [
       "\n",
       "        <table>\n",
       "            <tr>\n",
       "                <td><strong>Reaction identifier</strong></td><td>y001715</td>\n",
       "            </tr><tr>\n",
       "                <td><strong>Name</strong></td><td>D-mannose exchange</td>\n",
       "            </tr><tr>\n",
       "                <td><strong>Memory address</strong></td>\n",
       "                <td>0x01f30c07c7f0</td>\n",
       "            </tr><tr>\n",
       "                <td><strong>Stoichiometry</strong></td>\n",
       "                <td>\n",
       "                    <p style='text-align:right'>s_0572 --></p>\n",
       "                    <p style='text-align:right'>D-mannose --></p>\n",
       "                </td>\n",
       "            </tr><tr>\n",
       "                <td><strong>GPR</strong></td><td></td>\n",
       "            </tr><tr>\n",
       "                <td><strong>Lower bound</strong></td><td>0.0</td>\n",
       "            </tr><tr>\n",
       "                <td><strong>Upper bound</strong></td><td>1000.0</td>\n",
       "            </tr>\n",
       "        </table>\n",
       "        "
      ],
      "text/plain": [
       "<Reaction y001715 at 0x1f30c07c7f0>"
      ]
     },
     "execution_count": 68,
     "metadata": {},
     "output_type": "execute_result"
    }
   ],
   "source": [
    "yali.reactions.y001715"
   ]
  },
  {
   "cell_type": "code",
   "execution_count": 69,
   "id": "cb26bbef",
   "metadata": {},
   "outputs": [],
   "source": [
    "cobra.io.json.save_json_model(yali, 'iYalinewPathways-Alltogether-Exchange-2.5-exchange.json')\n",
    "cobra.io.write_sbml_model(yali, \"iYalinewPathways-Alltogether-Exchange-2.5-exchange.xml\")"
   ]
  },
  {
   "cell_type": "code",
   "execution_count": 12,
   "id": "7b174154",
   "metadata": {},
   "outputs": [
    {
     "data": {
      "text/html": [
       "\n",
       "        <table>\n",
       "            <tr>\n",
       "                <td><strong>Reaction identifier</strong></td><td>y300089</td>\n",
       "            </tr><tr>\n",
       "                <td><strong>Name</strong></td><td>Propionate CoA-transferase</td>\n",
       "            </tr><tr>\n",
       "                <td><strong>Memory address</strong></td>\n",
       "                <td>0x0205bef714c0</td>\n",
       "            </tr><tr>\n",
       "                <td><strong>Stoichiometry</strong></td>\n",
       "                <td>\n",
       "                    <p style='text-align:right'>s_3718 <=> s_3719</p>\n",
       "                    <p style='text-align:right'>Propionate[c] <=> Propionyl-CoA[c]</p>\n",
       "                </td>\n",
       "            </tr><tr>\n",
       "                <td><strong>GPR</strong></td><td></td>\n",
       "            </tr><tr>\n",
       "                <td><strong>Lower bound</strong></td><td>-1000.0</td>\n",
       "            </tr><tr>\n",
       "                <td><strong>Upper bound</strong></td><td>1000.0</td>\n",
       "            </tr>\n",
       "        </table>\n",
       "        "
      ],
      "text/plain": [
       "<Reaction y300089 at 0x205bef714c0>"
      ]
     },
     "execution_count": 12,
     "metadata": {},
     "output_type": "execute_result"
    }
   ],
   "source": [
    "yali.reactions.y300089"
   ]
  },
  {
   "cell_type": "code",
   "execution_count": null,
   "id": "8d52ab40",
   "metadata": {},
   "outputs": [],
   "source": []
  }
 ],
 "metadata": {
  "kernelspec": {
   "display_name": "Python 3 (ipykernel)",
   "language": "python",
   "name": "python3"
  },
  "language_info": {
   "codemirror_mode": {
    "name": "ipython",
    "version": 3
   },
   "file_extension": ".py",
   "mimetype": "text/x-python",
   "name": "python",
   "nbconvert_exporter": "python",
   "pygments_lexer": "ipython3",
   "version": "3.8.12"
  }
 },
 "nbformat": 4,
 "nbformat_minor": 5
}
