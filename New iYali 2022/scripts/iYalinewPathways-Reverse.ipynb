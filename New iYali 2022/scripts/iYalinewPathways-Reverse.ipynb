{
 "cells": [
  {
   "cell_type": "code",
   "execution_count": 1,
   "id": "e73123a4",
   "metadata": {},
   "outputs": [],
   "source": [
    "import cobra"
   ]
  },
  {
   "cell_type": "code",
   "execution_count": 2,
   "id": "c1f2df89",
   "metadata": {},
   "outputs": [],
   "source": [
    "import cplex"
   ]
  },
  {
   "cell_type": "code",
   "execution_count": 3,
   "id": "cbef642c",
   "metadata": {},
   "outputs": [],
   "source": [
    "from cobra import Model, Reaction, Metabolite"
   ]
  },
  {
   "cell_type": "code",
   "execution_count": 4,
   "id": "b5746630",
   "metadata": {},
   "outputs": [],
   "source": [
    "from cobra.io import read_sbml_model"
   ]
  },
  {
   "cell_type": "code",
   "execution_count": 5,
   "id": "e22c6e76",
   "metadata": {},
   "outputs": [],
   "source": [
    "import pandas as pd"
   ]
  },
  {
   "cell_type": "code",
   "execution_count": 6,
   "id": "3dfb8b13",
   "metadata": {},
   "outputs": [],
   "source": [
    "yali = cobra.io.read_sbml_model('iYali.xml')"
   ]
  },
  {
   "cell_type": "code",
   "execution_count": 7,
   "id": "1a9ba829",
   "metadata": {},
   "outputs": [
    {
     "data": {
      "text/plain": [
       "{'ce': 'cell envelope',\n",
       " 'e': 'extracellular',\n",
       " 'm': 'mitochondrion',\n",
       " 'c': 'cytoplasm',\n",
       " 'p': 'peroxisome',\n",
       " 'er': 'endoplasmic reticulum',\n",
       " 'n': 'nucleus',\n",
       " 'g': 'Golgi',\n",
       " 'lp': 'lipid particle',\n",
       " 'v': 'vacuole',\n",
       " 'erm': 'endoplasmic reticulum membrane',\n",
       " 'vm': 'vacuolar membrane',\n",
       " 'mm': 'mitochondrial membrane',\n",
       " 'gm': 'Golgi membrane'}"
      ]
     },
     "execution_count": 7,
     "metadata": {},
     "output_type": "execute_result"
    }
   ],
   "source": [
    "yali.compartments"
   ]
  },
  {
   "cell_type": "code",
   "execution_count": 27,
   "id": "a22dd13e",
   "metadata": {},
   "outputs": [
    {
     "data": {
      "text/html": [
       "\n",
       "        <table>\n",
       "            <tr>\n",
       "                <td><strong>Metabolite identifier</strong></td><td>s_0529</td>\n",
       "            </tr><tr>\n",
       "                <td><strong>Name</strong></td><td>coenzyme A</td>\n",
       "            </tr><tr>\n",
       "                <td><strong>Memory address</strong></td>\n",
       "                <td>0x015245886b20</td>\n",
       "            </tr><tr>\n",
       "                <td><strong>Formula</strong></td><td>C21H32N7O16P3S</td>\n",
       "            </tr><tr>\n",
       "                <td><strong>Compartment</strong></td><td>c</td>\n",
       "            </tr><tr>\n",
       "                <td><strong>In 20 reaction(s)</strong></td><td>\n",
       "                    y003528, y001129, y000716, y200003, y000112, y002140, y001698, y000252, y003680, y000103, y000558, y001699, y002125, y000024, y000559, y002141, y000549, y001700, y300090, y000760</td>\n",
       "            </tr>\n",
       "        </table>"
      ],
      "text/plain": [
       "<Metabolite s_0529 at 0x15245886b20>"
      ]
     },
     "execution_count": 27,
     "metadata": {},
     "output_type": "execute_result"
    }
   ],
   "source": [
    "yali.metabolites.s_0529"
   ]
  },
  {
   "cell_type": "code",
   "execution_count": 69,
   "id": "cb6a96bc",
   "metadata": {
    "scrolled": true
   },
   "outputs": [
    {
     "data": {
      "text/html": [
       "\n",
       "        <table>\n",
       "            <tr>\n",
       "                <td><strong>Reaction identifier</strong></td><td>y300090</td>\n",
       "            </tr><tr>\n",
       "                <td><strong>Name</strong></td><td>3-Oxopropanoate:NAD+ oxidoreductase (decarboxylating, CoA-acetylating)</td>\n",
       "            </tr><tr>\n",
       "                <td><strong>Memory address</strong></td>\n",
       "                <td>0x01f41510bd00</td>\n",
       "            </tr><tr>\n",
       "                <td><strong>Stoichiometry</strong></td>\n",
       "                <td>\n",
       "                    <p style='text-align:right'>s_0529 + s_1198 + s_3724 <=> s_0373 + s_0456 + s_0794 + s_1203</p>\n",
       "                    <p style='text-align:right'>coenzyme A + NAD + 3-oxopropanoate[c] <=> acetyl-CoA + carbon dioxide + H+ + NADH</p>\n",
       "                </td>\n",
       "            </tr><tr>\n",
       "                <td><strong>GPR</strong></td><td></td>\n",
       "            </tr><tr>\n",
       "                <td><strong>Lower bound</strong></td><td>-1000.0</td>\n",
       "            </tr><tr>\n",
       "                <td><strong>Upper bound</strong></td><td>1000.0</td>\n",
       "            </tr>\n",
       "        </table>\n",
       "        "
      ],
      "text/plain": [
       "<Reaction y300090 at 0x1f41510bd00>"
      ]
     },
     "execution_count": 69,
     "metadata": {},
     "output_type": "execute_result"
    }
   ],
   "source": [
    "yali.reactions.y300090"
   ]
  },
  {
   "cell_type": "code",
   "execution_count": 53,
   "id": "fe020cb7",
   "metadata": {},
   "outputs": [],
   "source": [
    "yali.objective = 'y300090'"
   ]
  },
  {
   "cell_type": "code",
   "execution_count": 54,
   "id": "3ab82924",
   "metadata": {},
   "outputs": [
    {
     "name": "stdout",
     "output_type": "stream",
     "text": [
      "<Solution 0.000 at 0x2a303a1a4c0>\n"
     ]
    },
    {
     "data": {
      "text/plain": [
       "0.0"
      ]
     },
     "execution_count": 54,
     "metadata": {},
     "output_type": "execute_result"
    }
   ],
   "source": [
    "solution = yali.optimize()\n",
    "print(solution)\n",
    "solution.objective_value"
   ]
  },
  {
   "cell_type": "code",
   "execution_count": 52,
   "id": "601023a2",
   "metadata": {},
   "outputs": [
    {
     "data": {
      "text/html": [
       "<strong><em>Optimal</em> solution with objective value 0.000</strong><br><div>\n",
       "<style scoped>\n",
       "    .dataframe tbody tr th:only-of-type {\n",
       "        vertical-align: middle;\n",
       "    }\n",
       "\n",
       "    .dataframe tbody tr th {\n",
       "        vertical-align: top;\n",
       "    }\n",
       "\n",
       "    .dataframe thead th {\n",
       "        text-align: right;\n",
       "    }\n",
       "</style>\n",
       "<table border=\"1\" class=\"dataframe\">\n",
       "  <thead>\n",
       "    <tr style=\"text-align: right;\">\n",
       "      <th></th>\n",
       "      <th>fluxes</th>\n",
       "      <th>reduced_costs</th>\n",
       "    </tr>\n",
       "  </thead>\n",
       "  <tbody>\n",
       "    <tr>\n",
       "      <th>xAMINOACID</th>\n",
       "      <td>0.0</td>\n",
       "      <td>0.0</td>\n",
       "    </tr>\n",
       "    <tr>\n",
       "      <th>xBIOMASS</th>\n",
       "      <td>0.0</td>\n",
       "      <td>0.0</td>\n",
       "    </tr>\n",
       "    <tr>\n",
       "      <th>xLIPID</th>\n",
       "      <td>0.0</td>\n",
       "      <td>0.0</td>\n",
       "    </tr>\n",
       "    <tr>\n",
       "      <th>xMAINTENANCE</th>\n",
       "      <td>0.0</td>\n",
       "      <td>0.0</td>\n",
       "    </tr>\n",
       "    <tr>\n",
       "      <th>xPOOL_AC_EM</th>\n",
       "      <td>0.0</td>\n",
       "      <td>0.0</td>\n",
       "    </tr>\n",
       "    <tr>\n",
       "      <th>...</th>\n",
       "      <td>...</td>\n",
       "      <td>...</td>\n",
       "    </tr>\n",
       "    <tr>\n",
       "      <th>y300087</th>\n",
       "      <td>0.0</td>\n",
       "      <td>-0.0</td>\n",
       "    </tr>\n",
       "    <tr>\n",
       "      <th>y300086</th>\n",
       "      <td>0.0</td>\n",
       "      <td>-0.0</td>\n",
       "    </tr>\n",
       "    <tr>\n",
       "      <th>y300085</th>\n",
       "      <td>0.0</td>\n",
       "      <td>0.0</td>\n",
       "    </tr>\n",
       "    <tr>\n",
       "      <th>y300084</th>\n",
       "      <td>0.0</td>\n",
       "      <td>-0.0</td>\n",
       "    </tr>\n",
       "    <tr>\n",
       "      <th>y300083</th>\n",
       "      <td>0.0</td>\n",
       "      <td>0.0</td>\n",
       "    </tr>\n",
       "  </tbody>\n",
       "</table>\n",
       "<p>1932 rows × 2 columns</p>\n",
       "</div>"
      ],
      "text/plain": [
       "<Solution 0.000 at 0x2a303a6c070>"
      ]
     },
     "execution_count": 52,
     "metadata": {},
     "output_type": "execute_result"
    }
   ],
   "source": [
    "yali.optimize()"
   ]
  },
  {
   "cell_type": "code",
   "execution_count": 8,
   "id": "7faa785f",
   "metadata": {},
   "outputs": [],
   "source": [
    "reaction7 = Reaction('y300090')\n",
    "reaction7.name = '3-Oxopropanoate:NAD+ oxidoreductase (decarboxylating, CoA-acetylating)'\n",
    "reaction7.subsystem = 'Cell Propionate Biosynthesis'\n",
    "reaction7.lower_bound = -1000. # This is the default\n",
    "reaction7.upper_bound = 1000. # This is the default"
   ]
  },
  {
   "cell_type": "code",
   "execution_count": 9,
   "id": "e2f51ed2",
   "metadata": {},
   "outputs": [],
   "source": [
    "oxopro_c = Metabolite(\n",
    "'s_3724',\n",
    "formula='C3H4O3',\n",
    "name='3-oxopropanoate[c]',\n",
    "compartment='c')\n",
    "NAD_c = Metabolite(\n",
    "'s_1198',\n",
    "compartment='c')\n",
    "NADH_c = Metabolite(\n",
    "'s_1203')\n",
    "h_c = Metabolite(\n",
    "'s_0794')\n",
    "coe_c = Metabolite(\n",
    "'s_0529')\n",
    "acet_c = Metabolite(\n",
    "'s_0373')\n",
    "car_c = Metabolite(\n",
    "'s_0456')"
   ]
  },
  {
   "cell_type": "code",
   "execution_count": 10,
   "id": "61543609",
   "metadata": {},
   "outputs": [
    {
     "data": {
      "text/plain": [
       "'s_0529 + s_1198 + s_3724 <=> s_0373 + s_0456 + s_0794 + s_1203'"
      ]
     },
     "execution_count": 10,
     "metadata": {},
     "output_type": "execute_result"
    }
   ],
   "source": [
    "reaction7.add_metabolites({\n",
    "oxopro_c: -1.0,\n",
    "NAD_c: -1.0,\n",
    "coe_c: -1.0,\n",
    "NADH_c: 1.0,\n",
    "h_c: 1.0,\n",
    "acet_c: 1.0,\n",
    "car_c: 1.0,\n",
    "})\n",
    "reaction7.reaction"
   ]
  },
  {
   "cell_type": "code",
   "execution_count": 11,
   "id": "4a6ff5b4",
   "metadata": {},
   "outputs": [],
   "source": [
    "yali.add_reactions([reaction7])"
   ]
  },
  {
   "cell_type": "code",
   "execution_count": 12,
   "id": "9ffa0672",
   "metadata": {},
   "outputs": [
    {
     "data": {
      "text/html": [
       "\n",
       "        <table>\n",
       "            <tr>\n",
       "                <td><strong>Reaction identifier</strong></td><td>y300090</td>\n",
       "            </tr><tr>\n",
       "                <td><strong>Name</strong></td><td>3-Oxopropanoate:NAD+ oxidoreductase (decarboxylating, CoA-acetylating)</td>\n",
       "            </tr><tr>\n",
       "                <td><strong>Memory address</strong></td>\n",
       "                <td>0x02a30397a7c0</td>\n",
       "            </tr><tr>\n",
       "                <td><strong>Stoichiometry</strong></td>\n",
       "                <td>\n",
       "                    <p style='text-align:right'>s_0529 + s_1198 + s_3724 <=> s_0373 + s_0456 + s_0794 + s_1203</p>\n",
       "                    <p style='text-align:right'>coenzyme A + NAD + 3-oxopropanoate[c] <=> acetyl-CoA + carbon dioxide + H+ + NADH</p>\n",
       "                </td>\n",
       "            </tr><tr>\n",
       "                <td><strong>GPR</strong></td><td></td>\n",
       "            </tr><tr>\n",
       "                <td><strong>Lower bound</strong></td><td>-1000.0</td>\n",
       "            </tr><tr>\n",
       "                <td><strong>Upper bound</strong></td><td>1000.0</td>\n",
       "            </tr>\n",
       "        </table>\n",
       "        "
      ],
      "text/plain": [
       "<Reaction y300090 at 0x2a30397a7c0>"
      ]
     },
     "execution_count": 12,
     "metadata": {},
     "output_type": "execute_result"
    }
   ],
   "source": [
    "yali.reactions.y300090"
   ]
  },
  {
   "cell_type": "code",
   "execution_count": 13,
   "id": "9c4651e4",
   "metadata": {},
   "outputs": [],
   "source": [
    "reaction6 = Reaction('y300089')\n",
    "reaction6.name = '3-hydroxypropanoate:NAD+ oxidoreductase'\n",
    "reaction6.subsystem = 'Cell Propionate Biosynthesis'\n",
    "reaction6.lower_bound = -1000. # This is the default\n",
    "reaction6.upper_bound = 1000. # This is the default"
   ]
  },
  {
   "cell_type": "code",
   "execution_count": 14,
   "id": "6603c368",
   "metadata": {},
   "outputs": [],
   "source": [
    "hydroxypropanoate_c = Metabolite(\n",
    "'s_3723',\n",
    "formula='C3H5O3',\n",
    "name='3-Hydroxypropanoate [c]',\n",
    "compartment='c')"
   ]
  },
  {
   "cell_type": "code",
   "execution_count": 15,
   "id": "8677c5ad",
   "metadata": {},
   "outputs": [
    {
     "data": {
      "text/plain": [
       "'s_1198 + s_3723 <=> s_0794 + s_1203 + s_3724'"
      ]
     },
     "execution_count": 15,
     "metadata": {},
     "output_type": "execute_result"
    }
   ],
   "source": [
    "reaction6.add_metabolites({\n",
    "hydroxypropanoate_c: -1.0,\n",
    "NAD_c: -1.0,\n",
    "NADH_c: 1.0,\n",
    "h_c: 1.0,\n",
    "oxopro_c: 1.0,\n",
    "})\n",
    "reaction6.reaction"
   ]
  },
  {
   "cell_type": "code",
   "execution_count": 16,
   "id": "898dae1e",
   "metadata": {},
   "outputs": [],
   "source": [
    "yali.add_reactions([reaction6])"
   ]
  },
  {
   "cell_type": "code",
   "execution_count": 17,
   "id": "ba5aa980",
   "metadata": {},
   "outputs": [
    {
     "data": {
      "text/html": [
       "\n",
       "        <table>\n",
       "            <tr>\n",
       "                <td><strong>Reaction identifier</strong></td><td>y300089</td>\n",
       "            </tr><tr>\n",
       "                <td><strong>Name</strong></td><td>3-hydroxypropanoate:NAD+ oxidoreductase</td>\n",
       "            </tr><tr>\n",
       "                <td><strong>Memory address</strong></td>\n",
       "                <td>0x02a37ff14a30</td>\n",
       "            </tr><tr>\n",
       "                <td><strong>Stoichiometry</strong></td>\n",
       "                <td>\n",
       "                    <p style='text-align:right'>s_1198 + s_3723 <=> s_0794 + s_1203 + s_3724</p>\n",
       "                    <p style='text-align:right'>NAD + 3-Hydroxypropanoate [c] <=> H+ + NADH + 3-oxopropanoate[c]</p>\n",
       "                </td>\n",
       "            </tr><tr>\n",
       "                <td><strong>GPR</strong></td><td></td>\n",
       "            </tr><tr>\n",
       "                <td><strong>Lower bound</strong></td><td>-1000.0</td>\n",
       "            </tr><tr>\n",
       "                <td><strong>Upper bound</strong></td><td>1000.0</td>\n",
       "            </tr>\n",
       "        </table>\n",
       "        "
      ],
      "text/plain": [
       "<Reaction y300089 at 0x2a37ff14a30>"
      ]
     },
     "execution_count": 17,
     "metadata": {},
     "output_type": "execute_result"
    }
   ],
   "source": [
    "yali.reactions.y300089"
   ]
  },
  {
   "cell_type": "code",
   "execution_count": 18,
   "id": "56221267",
   "metadata": {},
   "outputs": [],
   "source": [
    "reaction5 = Reaction('y300088')\n",
    "reaction5.name = '3-hydroxypropionate:CoA ligase (AMP-forming)'\n",
    "reaction5.subsystem = 'Cell Propionate Biosynthesis'\n",
    "reaction5.lower_bound = -1000. # This is the default\n",
    "reaction5.upper_bound = 1000. # This is the default"
   ]
  },
  {
   "cell_type": "code",
   "execution_count": 19,
   "id": "98962c53",
   "metadata": {},
   "outputs": [],
   "source": [
    "hydroxcoa_c = Metabolite(\n",
    "'s_3722',\n",
    "formula='C24H40N7O18P3S',\n",
    "name='3-hydroxypropionyl-CoA [c]',\n",
    "compartment='c')\n",
    "\n",
    "difos_c = Metabolite(\n",
    "'s_0633')\n",
    "amp_c = Metabolite(\n",
    "'s_0423')\n",
    "atp_c = Metabolite(\n",
    "'s_0434')"
   ]
  },
  {
   "cell_type": "code",
   "execution_count": 20,
   "id": "f334b532",
   "metadata": {},
   "outputs": [
    {
     "data": {
      "text/plain": [
       "'s_0423 + s_0633 + s_3722 <=> s_0434 + s_0529 + s_3723'"
      ]
     },
     "execution_count": 20,
     "metadata": {},
     "output_type": "execute_result"
    }
   ],
   "source": [
    "reaction5.add_metabolites({\n",
    "hydroxcoa_c: -1.0,\n",
    "difos_c: -1.0,\n",
    "amp_c: -1.0,\n",
    "coe_c: 1.0,\n",
    "atp_c: 1.0,\n",
    "hydroxypropanoate_c: 1.0,\n",
    "})\n",
    "reaction5.reaction"
   ]
  },
  {
   "cell_type": "code",
   "execution_count": 21,
   "id": "9e15638a",
   "metadata": {},
   "outputs": [],
   "source": [
    "yali.add_reactions([reaction5])"
   ]
  },
  {
   "cell_type": "code",
   "execution_count": 22,
   "id": "8fff6e3d",
   "metadata": {},
   "outputs": [
    {
     "data": {
      "text/html": [
       "\n",
       "        <table>\n",
       "            <tr>\n",
       "                <td><strong>Reaction identifier</strong></td><td>y300088</td>\n",
       "            </tr><tr>\n",
       "                <td><strong>Name</strong></td><td>3-hydroxypropionate:CoA ligase (AMP-forming)</td>\n",
       "            </tr><tr>\n",
       "                <td><strong>Memory address</strong></td>\n",
       "                <td>0x02a37ff148b0</td>\n",
       "            </tr><tr>\n",
       "                <td><strong>Stoichiometry</strong></td>\n",
       "                <td>\n",
       "                    <p style='text-align:right'>s_0423 + s_0633 + s_3722 <=> s_0434 + s_0529 + s_3723</p>\n",
       "                    <p style='text-align:right'>AMP + diphosphate + 3-hydroxypropionyl-CoA [c] <=> ATP + coenzyme A + 3-Hydroxypropanoate [c]</p>\n",
       "                </td>\n",
       "            </tr><tr>\n",
       "                <td><strong>GPR</strong></td><td></td>\n",
       "            </tr><tr>\n",
       "                <td><strong>Lower bound</strong></td><td>-1000.0</td>\n",
       "            </tr><tr>\n",
       "                <td><strong>Upper bound</strong></td><td>1000.0</td>\n",
       "            </tr>\n",
       "        </table>\n",
       "        "
      ],
      "text/plain": [
       "<Reaction y300088 at 0x2a37ff148b0>"
      ]
     },
     "execution_count": 22,
     "metadata": {},
     "output_type": "execute_result"
    }
   ],
   "source": [
    "yali.reactions.y300088"
   ]
  },
  {
   "cell_type": "code",
   "execution_count": 23,
   "id": "f308352b",
   "metadata": {},
   "outputs": [],
   "source": [
    "reaction4 = Reaction('y300087')\n",
    "reaction4.name = '3-hydroxypropionyl-CoA hydrolyase'\n",
    "reaction4.subsystem = 'Cell Propionate Biosynthesis'\n",
    "reaction4.lower_bound = -1000. # This is the default\n",
    "reaction4.upper_bound = 1000. # This is the default"
   ]
  },
  {
   "cell_type": "code",
   "execution_count": 24,
   "id": "daeb8fdd",
   "metadata": {},
   "outputs": [],
   "source": [
    "water_c = Metabolite(\n",
    "'s_0803')\n",
    "\n",
    "propecoa_c = Metabolite(\n",
    "'s_3721',\n",
    "formula='C24H38N7O17P3S',\n",
    "name='Propenoyl-CoA[c]',\n",
    "compartment='c')"
   ]
  },
  {
   "cell_type": "code",
   "execution_count": 25,
   "id": "a4aa592a",
   "metadata": {},
   "outputs": [
    {
     "data": {
      "text/plain": [
       "'s_3721 <=> s_0803 + s_3722'"
      ]
     },
     "execution_count": 25,
     "metadata": {},
     "output_type": "execute_result"
    }
   ],
   "source": [
    "reaction4.add_metabolites({\n",
    "propecoa_c: -1.0,\n",
    "hydroxcoa_c: 1.0,\n",
    "water_c: 1.0,\n",
    "})\n",
    "reaction4.reaction"
   ]
  },
  {
   "cell_type": "code",
   "execution_count": 26,
   "id": "4415d9ac",
   "metadata": {},
   "outputs": [],
   "source": [
    "yali.add_reactions([reaction4])"
   ]
  },
  {
   "cell_type": "code",
   "execution_count": 27,
   "id": "8824fe95",
   "metadata": {},
   "outputs": [
    {
     "data": {
      "text/html": [
       "\n",
       "        <table>\n",
       "            <tr>\n",
       "                <td><strong>Reaction identifier</strong></td><td>y300087</td>\n",
       "            </tr><tr>\n",
       "                <td><strong>Name</strong></td><td>3-hydroxypropionyl-CoA hydrolyase</td>\n",
       "            </tr><tr>\n",
       "                <td><strong>Memory address</strong></td>\n",
       "                <td>0x02a37ff14040</td>\n",
       "            </tr><tr>\n",
       "                <td><strong>Stoichiometry</strong></td>\n",
       "                <td>\n",
       "                    <p style='text-align:right'>s_3721 <=> s_0803 + s_3722</p>\n",
       "                    <p style='text-align:right'>Propenoyl-CoA[c] <=> H2O + 3-hydroxypropionyl-CoA [c]</p>\n",
       "                </td>\n",
       "            </tr><tr>\n",
       "                <td><strong>GPR</strong></td><td></td>\n",
       "            </tr><tr>\n",
       "                <td><strong>Lower bound</strong></td><td>-1000.0</td>\n",
       "            </tr><tr>\n",
       "                <td><strong>Upper bound</strong></td><td>1000.0</td>\n",
       "            </tr>\n",
       "        </table>\n",
       "        "
      ],
      "text/plain": [
       "<Reaction y300087 at 0x2a37ff14040>"
      ]
     },
     "execution_count": 27,
     "metadata": {},
     "output_type": "execute_result"
    }
   ],
   "source": [
    "yali.reactions.y300087"
   ]
  },
  {
   "cell_type": "code",
   "execution_count": 28,
   "id": "e77f73c0",
   "metadata": {},
   "outputs": [],
   "source": [
    "reaction3 = Reaction('y300086')\n",
    "reaction3.name = 'propanoyl-CoA: electron-transfer flavoprotein 2,3-oxidoreductase'\n",
    "reaction3.subsystem = 'Cell Propionate Biosynthesis'\n",
    "reaction3.lower_bound = -1000. # This is the default\n",
    "reaction3.upper_bound = 1000. # This is the default"
   ]
  },
  {
   "cell_type": "code",
   "execution_count": 29,
   "id": "7cda16bd",
   "metadata": {},
   "outputs": [],
   "source": [
    "propiocoa_c = Metabolite(\n",
    "'s_3719',\n",
    "formula='C24H36N7O17P3S',\n",
    "name='Propionyl-CoA[c]',\n",
    "compartment='c')\n",
    "oxigen_c = Metabolite(\n",
    "'s_1275')\n",
    "hyprox_c = Metabolite(\n",
    "'s_0837')"
   ]
  },
  {
   "cell_type": "code",
   "execution_count": 30,
   "id": "9319eb5b",
   "metadata": {},
   "outputs": [
    {
     "data": {
      "text/plain": [
       "'s_1275 + s_3719 <=> s_0837 + s_3721'"
      ]
     },
     "execution_count": 30,
     "metadata": {},
     "output_type": "execute_result"
    }
   ],
   "source": [
    "reaction3.add_metabolites({\n",
    "propiocoa_c: -1.0,\n",
    "oxigen_c: -1.0,\n",
    "hyprox_c: 1.0,\n",
    "propecoa_c: 1.0,\n",
    "})\n",
    "reaction3.reaction"
   ]
  },
  {
   "cell_type": "code",
   "execution_count": 31,
   "id": "6cc237ec",
   "metadata": {},
   "outputs": [],
   "source": [
    "yali.add_reactions([reaction3])"
   ]
  },
  {
   "cell_type": "code",
   "execution_count": 32,
   "id": "ac981b80",
   "metadata": {},
   "outputs": [
    {
     "data": {
      "text/plain": [
       "frozenset({<Gene P06149.3 at 0x2a37ff07760>})"
      ]
     },
     "execution_count": 32,
     "metadata": {},
     "output_type": "execute_result"
    }
   ],
   "source": [
    "reaction3.gene_reaction_rule = '(P06149.3)'\n",
    "reaction3.genes"
   ]
  },
  {
   "cell_type": "code",
   "execution_count": 33,
   "id": "0e9aac8b",
   "metadata": {},
   "outputs": [
    {
     "data": {
      "text/html": [
       "\n",
       "        <table>\n",
       "            <tr>\n",
       "                <td><strong>Reaction identifier</strong></td><td>y300086</td>\n",
       "            </tr><tr>\n",
       "                <td><strong>Name</strong></td><td>propanoyl-CoA: electron-transfer flavoprotein 2,3-oxidoreductase</td>\n",
       "            </tr><tr>\n",
       "                <td><strong>Memory address</strong></td>\n",
       "                <td>0x02a30397a5e0</td>\n",
       "            </tr><tr>\n",
       "                <td><strong>Stoichiometry</strong></td>\n",
       "                <td>\n",
       "                    <p style='text-align:right'>s_1275 + s_3719 <=> s_0837 + s_3721</p>\n",
       "                    <p style='text-align:right'>oxygen + Propionyl-CoA[c] <=> hydrogen peroxide + Propenoyl-CoA[c]</p>\n",
       "                </td>\n",
       "            </tr><tr>\n",
       "                <td><strong>GPR</strong></td><td>P06149.3</td>\n",
       "            </tr><tr>\n",
       "                <td><strong>Lower bound</strong></td><td>-1000.0</td>\n",
       "            </tr><tr>\n",
       "                <td><strong>Upper bound</strong></td><td>1000.0</td>\n",
       "            </tr>\n",
       "        </table>\n",
       "        "
      ],
      "text/plain": [
       "<Reaction y300086 at 0x2a30397a5e0>"
      ]
     },
     "execution_count": 33,
     "metadata": {},
     "output_type": "execute_result"
    }
   ],
   "source": [
    "yali.reactions.y300086"
   ]
  },
  {
   "cell_type": "code",
   "execution_count": 34,
   "id": "6819d13a",
   "metadata": {},
   "outputs": [],
   "source": [
    "reaction2 = Reaction('y300085')\n",
    "reaction2.name = 'Propionyl-CoA transporter [c] - [m]'\n",
    "reaction2.subsystem = 'Cell Propionate Biosynthesis'\n",
    "reaction2.lower_bound = -1000. # This is the default\n",
    "reaction2.upper_bound = 1000. # This is the default"
   ]
  },
  {
   "cell_type": "code",
   "execution_count": 35,
   "id": "7f593171",
   "metadata": {},
   "outputs": [],
   "source": [
    "propiocoa_m = Metabolite(\n",
    "'s_3720',\n",
    "formula='C24H36N7O17P3S',\n",
    "name='Propionyl-CoA[m]',\n",
    "compartment='m')"
   ]
  },
  {
   "cell_type": "code",
   "execution_count": 36,
   "id": "cef627ac",
   "metadata": {},
   "outputs": [
    {
     "data": {
      "text/plain": [
       "'s_3719 <=> s_3720'"
      ]
     },
     "execution_count": 36,
     "metadata": {},
     "output_type": "execute_result"
    }
   ],
   "source": [
    "reaction2.add_metabolites({\n",
    "propiocoa_c: -1.0,\n",
    "propiocoa_m: 1.0,\n",
    "})\n",
    "reaction2.reaction"
   ]
  },
  {
   "cell_type": "code",
   "execution_count": 37,
   "id": "0f17eef8",
   "metadata": {},
   "outputs": [],
   "source": [
    "yali.add_reactions([reaction2])"
   ]
  },
  {
   "cell_type": "code",
   "execution_count": 38,
   "id": "82a3b25b",
   "metadata": {},
   "outputs": [
    {
     "data": {
      "text/html": [
       "\n",
       "        <table>\n",
       "            <tr>\n",
       "                <td><strong>Reaction identifier</strong></td><td>y300085</td>\n",
       "            </tr><tr>\n",
       "                <td><strong>Name</strong></td><td>Propionyl-CoA transporter [c] - [m]</td>\n",
       "            </tr><tr>\n",
       "                <td><strong>Memory address</strong></td>\n",
       "                <td>0x02a37ff0de50</td>\n",
       "            </tr><tr>\n",
       "                <td><strong>Stoichiometry</strong></td>\n",
       "                <td>\n",
       "                    <p style='text-align:right'>s_3719 <=> s_3720</p>\n",
       "                    <p style='text-align:right'>Propionyl-CoA[c] <=> Propionyl-CoA[m]</p>\n",
       "                </td>\n",
       "            </tr><tr>\n",
       "                <td><strong>GPR</strong></td><td></td>\n",
       "            </tr><tr>\n",
       "                <td><strong>Lower bound</strong></td><td>-1000.0</td>\n",
       "            </tr><tr>\n",
       "                <td><strong>Upper bound</strong></td><td>1000.0</td>\n",
       "            </tr>\n",
       "        </table>\n",
       "        "
      ],
      "text/plain": [
       "<Reaction y300085 at 0x2a37ff0de50>"
      ]
     },
     "execution_count": 38,
     "metadata": {},
     "output_type": "execute_result"
    }
   ],
   "source": [
    "yali.reactions.y300085"
   ]
  },
  {
   "cell_type": "code",
   "execution_count": 39,
   "id": "d55195cb",
   "metadata": {},
   "outputs": [],
   "source": [
    "reaction1 = Reaction('y300084')\n",
    "reaction1.name = 'Propionate CoA-transferase'\n",
    "reaction1.subsystem = 'Cell Propionate Biosynthesis'\n",
    "reaction1.lower_bound = -1000. # This is the default\n",
    "reaction1.upper_bound = 1000. # This is the default"
   ]
  },
  {
   "cell_type": "code",
   "execution_count": 40,
   "id": "a3dba4ae",
   "metadata": {},
   "outputs": [],
   "source": [
    "propio_c = Metabolite(\n",
    "'s_3718',\n",
    "formula='C3H5O2',\n",
    "name='Propionate[c]',\n",
    "compartment='c')"
   ]
  },
  {
   "cell_type": "code",
   "execution_count": 41,
   "id": "1daafe9e",
   "metadata": {},
   "outputs": [
    {
     "data": {
      "text/plain": [
       "'s_3718 <=> s_3719'"
      ]
     },
     "execution_count": 41,
     "metadata": {},
     "output_type": "execute_result"
    }
   ],
   "source": [
    "reaction1.add_metabolites({\n",
    "propio_c: -1.0,\n",
    "propiocoa_c: 1.0,\n",
    "})\n",
    "reaction1.reaction"
   ]
  },
  {
   "cell_type": "code",
   "execution_count": 42,
   "id": "18877d9a",
   "metadata": {},
   "outputs": [],
   "source": [
    "yali.add_reactions([reaction1])"
   ]
  },
  {
   "cell_type": "code",
   "execution_count": 43,
   "id": "6a280202",
   "metadata": {},
   "outputs": [
    {
     "data": {
      "text/html": [
       "\n",
       "        <table>\n",
       "            <tr>\n",
       "                <td><strong>Reaction identifier</strong></td><td>y300084</td>\n",
       "            </tr><tr>\n",
       "                <td><strong>Name</strong></td><td>Propionate CoA-transferase</td>\n",
       "            </tr><tr>\n",
       "                <td><strong>Memory address</strong></td>\n",
       "                <td>0x02a37ff1e490</td>\n",
       "            </tr><tr>\n",
       "                <td><strong>Stoichiometry</strong></td>\n",
       "                <td>\n",
       "                    <p style='text-align:right'>s_3718 <=> s_3719</p>\n",
       "                    <p style='text-align:right'>Propionate[c] <=> Propionyl-CoA[c]</p>\n",
       "                </td>\n",
       "            </tr><tr>\n",
       "                <td><strong>GPR</strong></td><td></td>\n",
       "            </tr><tr>\n",
       "                <td><strong>Lower bound</strong></td><td>-1000.0</td>\n",
       "            </tr><tr>\n",
       "                <td><strong>Upper bound</strong></td><td>1000.0</td>\n",
       "            </tr>\n",
       "        </table>\n",
       "        "
      ],
      "text/plain": [
       "<Reaction y300084 at 0x2a37ff1e490>"
      ]
     },
     "execution_count": 43,
     "metadata": {},
     "output_type": "execute_result"
    }
   ],
   "source": [
    "yali.reactions.y300084"
   ]
  },
  {
   "cell_type": "code",
   "execution_count": 44,
   "id": "b3e1e7f2",
   "metadata": {},
   "outputs": [],
   "source": [
    "reaction = Reaction('y300083')\n",
    "reaction.name = 'Propionate Extracellular Transporter'\n",
    "reaction.subsystem = 'Cell Propionate Biosynthesis'\n",
    "reaction.lower_bound = 0. # This is the default\n",
    "reaction.upper_bound = 1000. # This is the default"
   ]
  },
  {
   "cell_type": "code",
   "execution_count": 45,
   "id": "0c22cf25",
   "metadata": {},
   "outputs": [],
   "source": [
    "propio_extr = Metabolite(\n",
    "'s_3717',\n",
    "formula='C3H5O2',\n",
    "name='Propionate[e]',\n",
    "compartment='e')"
   ]
  },
  {
   "cell_type": "code",
   "execution_count": 46,
   "id": "fac54858",
   "metadata": {},
   "outputs": [
    {
     "data": {
      "text/plain": [
       "'s_3717 --> s_3718'"
      ]
     },
     "execution_count": 46,
     "metadata": {},
     "output_type": "execute_result"
    }
   ],
   "source": [
    "reaction.add_metabolites({\n",
    "propio_extr: -1.0,\n",
    "propio_c: 1.0,\n",
    "})\n",
    "reaction.reaction"
   ]
  },
  {
   "cell_type": "code",
   "execution_count": 47,
   "id": "38d7d9d8",
   "metadata": {},
   "outputs": [
    {
     "data": {
      "text/plain": [
       "frozenset({<Gene MFS1 at 0x2a35733ce80>})"
      ]
     },
     "execution_count": 47,
     "metadata": {},
     "output_type": "execute_result"
    }
   ],
   "source": [
    "reaction.gene_reaction_rule = '( MFS1 )'\n",
    "reaction.genes"
   ]
  },
  {
   "cell_type": "code",
   "execution_count": 48,
   "id": "22601ee7",
   "metadata": {},
   "outputs": [],
   "source": [
    "yali.add_reactions([reaction])"
   ]
  },
  {
   "cell_type": "code",
   "execution_count": 49,
   "id": "40aedacd",
   "metadata": {},
   "outputs": [
    {
     "data": {
      "text/html": [
       "\n",
       "        <table>\n",
       "            <tr>\n",
       "                <td><strong>Reaction identifier</strong></td><td>y300083</td>\n",
       "            </tr><tr>\n",
       "                <td><strong>Name</strong></td><td>Propionate Extracellular Transporter</td>\n",
       "            </tr><tr>\n",
       "                <td><strong>Memory address</strong></td>\n",
       "                <td>0x02a37ff1e100</td>\n",
       "            </tr><tr>\n",
       "                <td><strong>Stoichiometry</strong></td>\n",
       "                <td>\n",
       "                    <p style='text-align:right'>s_3717 --> s_3718</p>\n",
       "                    <p style='text-align:right'>Propionate[e] --> Propionate[c]</p>\n",
       "                </td>\n",
       "            </tr><tr>\n",
       "                <td><strong>GPR</strong></td><td>MFS1</td>\n",
       "            </tr><tr>\n",
       "                <td><strong>Lower bound</strong></td><td>0.0</td>\n",
       "            </tr><tr>\n",
       "                <td><strong>Upper bound</strong></td><td>1000.0</td>\n",
       "            </tr>\n",
       "        </table>\n",
       "        "
      ],
      "text/plain": [
       "<Reaction y300083 at 0x2a37ff1e100>"
      ]
     },
     "execution_count": 49,
     "metadata": {},
     "output_type": "execute_result"
    }
   ],
   "source": [
    "yali.reactions.y300083"
   ]
  },
  {
   "cell_type": "code",
   "execution_count": null,
   "id": "783e03d2",
   "metadata": {},
   "outputs": [],
   "source": []
  }
 ],
 "metadata": {
  "kernelspec": {
   "display_name": "Python 3 (ipykernel)",
   "language": "python",
   "name": "python3"
  },
  "language_info": {
   "codemirror_mode": {
    "name": "ipython",
    "version": 3
   },
   "file_extension": ".py",
   "mimetype": "text/x-python",
   "name": "python",
   "nbconvert_exporter": "python",
   "pygments_lexer": "ipython3",
   "version": "3.8.12"
  }
 },
 "nbformat": 4,
 "nbformat_minor": 5
}
