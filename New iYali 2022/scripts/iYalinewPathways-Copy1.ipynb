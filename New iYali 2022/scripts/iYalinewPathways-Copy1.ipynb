{
 "cells": [
  {
   "cell_type": "code",
   "execution_count": 1,
   "id": "e73123a4",
   "metadata": {},
   "outputs": [],
   "source": [
    "import cobra"
   ]
  },
  {
   "cell_type": "code",
   "execution_count": 2,
   "id": "c1f2df89",
   "metadata": {},
   "outputs": [],
   "source": [
    "import cplex"
   ]
  },
  {
   "cell_type": "code",
   "execution_count": 3,
   "id": "cbef642c",
   "metadata": {},
   "outputs": [],
   "source": [
    "from cobra import Model, Reaction, Metabolite"
   ]
  },
  {
   "cell_type": "code",
   "execution_count": 4,
   "id": "b5746630",
   "metadata": {},
   "outputs": [],
   "source": [
    "from cobra.io import read_sbml_model"
   ]
  },
  {
   "cell_type": "code",
   "execution_count": 5,
   "id": "e22c6e76",
   "metadata": {},
   "outputs": [],
   "source": [
    "import pandas as pd"
   ]
  },
  {
   "cell_type": "code",
   "execution_count": 6,
   "id": "3dfb8b13",
   "metadata": {},
   "outputs": [],
   "source": [
    "yali = cobra.io.read_sbml_model('iYali.xml')"
   ]
  },
  {
   "cell_type": "code",
   "execution_count": 121,
   "id": "a22dd13e",
   "metadata": {},
   "outputs": [
    {
     "data": {
      "text/html": [
       "\n",
       "        <table>\n",
       "            <tr>\n",
       "                <td><strong>Metabolite identifier</strong></td><td>s_1203</td>\n",
       "            </tr><tr>\n",
       "                <td><strong>Name</strong></td><td>NADH</td>\n",
       "            </tr><tr>\n",
       "                <td><strong>Memory address</strong></td>\n",
       "                <td>0x0207ff4575e0</td>\n",
       "            </tr><tr>\n",
       "                <td><strong>Formula</strong></td><td>C21H27N7O14P2</td>\n",
       "            </tr><tr>\n",
       "                <td><strong>Compartment</strong></td><td>c</td>\n",
       "            </tr><tr>\n",
       "                <td><strong>In 46 reaction(s)</strong></td><td>\n",
       "                    y300006, y000565, y000186, y300031, y000714, y000486, y000323, y000546, y002115, y300040, y000470, y000891, y000061, y300057, y002116, y000536, y300004, y000770, y001092, y300008, y000182, y300042,...</td>\n",
       "            </tr>\n",
       "        </table>"
      ],
      "text/plain": [
       "<Metabolite s_1203 at 0x207ff4575e0>"
      ]
     },
     "execution_count": 121,
     "metadata": {},
     "output_type": "execute_result"
    }
   ],
   "source": [
    "yali.metabolites.s_1203"
   ]
  },
  {
   "cell_type": "code",
   "execution_count": 82,
   "id": "cb6a96bc",
   "metadata": {
    "scrolled": true
   },
   "outputs": [
    {
     "data": {
      "text/html": [
       "\n",
       "        <table>\n",
       "            <tr>\n",
       "                <td><strong>Reaction identifier</strong></td><td>y300084</td>\n",
       "            </tr><tr>\n",
       "                <td><strong>Name</strong></td><td>Propionate Activator</td>\n",
       "            </tr><tr>\n",
       "                <td><strong>Memory address</strong></td>\n",
       "                <td>0x01da5b3a6490</td>\n",
       "            </tr><tr>\n",
       "                <td><strong>Stoichiometry</strong></td>\n",
       "                <td>\n",
       "                    <p style='text-align:right'>s_3718 <=> s_3719</p>\n",
       "                    <p style='text-align:right'>Propionate[c] <=> Propionyl-CoA[c]</p>\n",
       "                </td>\n",
       "            </tr><tr>\n",
       "                <td><strong>GPR</strong></td><td></td>\n",
       "            </tr><tr>\n",
       "                <td><strong>Lower bound</strong></td><td>-1000.0</td>\n",
       "            </tr><tr>\n",
       "                <td><strong>Upper bound</strong></td><td>1000.0</td>\n",
       "            </tr>\n",
       "        </table>\n",
       "        "
      ],
      "text/plain": [
       "<Reaction y300084 at 0x1da5b3a6490>"
      ]
     },
     "execution_count": 82,
     "metadata": {},
     "output_type": "execute_result"
    }
   ],
   "source": [
    "yali.reactions.y300084"
   ]
  },
  {
   "cell_type": "code",
   "execution_count": 83,
   "id": "fe020cb7",
   "metadata": {},
   "outputs": [],
   "source": [
    "yali.objective = 'y300084'"
   ]
  },
  {
   "cell_type": "code",
   "execution_count": 84,
   "id": "3ab82924",
   "metadata": {},
   "outputs": [
    {
     "name": "stdout",
     "output_type": "stream",
     "text": [
      "<Solution 0.000 at 0x1da07a9cd60>\n"
     ]
    },
    {
     "data": {
      "text/plain": [
       "0.0"
      ]
     },
     "execution_count": 84,
     "metadata": {},
     "output_type": "execute_result"
    }
   ],
   "source": [
    "solution = yali.optimize()\n",
    "print(solution)\n",
    "solution.objective_value"
   ]
  },
  {
   "cell_type": "code",
   "execution_count": 85,
   "id": "601023a2",
   "metadata": {},
   "outputs": [
    {
     "data": {
      "text/html": [
       "<strong><em>Optimal</em> solution with objective value 0.000</strong><br><div>\n",
       "<style scoped>\n",
       "    .dataframe tbody tr th:only-of-type {\n",
       "        vertical-align: middle;\n",
       "    }\n",
       "\n",
       "    .dataframe tbody tr th {\n",
       "        vertical-align: top;\n",
       "    }\n",
       "\n",
       "    .dataframe thead th {\n",
       "        text-align: right;\n",
       "    }\n",
       "</style>\n",
       "<table border=\"1\" class=\"dataframe\">\n",
       "  <thead>\n",
       "    <tr style=\"text-align: right;\">\n",
       "      <th></th>\n",
       "      <th>fluxes</th>\n",
       "      <th>reduced_costs</th>\n",
       "    </tr>\n",
       "  </thead>\n",
       "  <tbody>\n",
       "    <tr>\n",
       "      <th>xAMINOACID</th>\n",
       "      <td>0.000000</td>\n",
       "      <td>0.0</td>\n",
       "    </tr>\n",
       "    <tr>\n",
       "      <th>xBIOMASS</th>\n",
       "      <td>0.000000</td>\n",
       "      <td>0.0</td>\n",
       "    </tr>\n",
       "    <tr>\n",
       "      <th>xLIPID</th>\n",
       "      <td>0.000000</td>\n",
       "      <td>0.0</td>\n",
       "    </tr>\n",
       "    <tr>\n",
       "      <th>xMAINTENANCE</th>\n",
       "      <td>0.000000</td>\n",
       "      <td>0.0</td>\n",
       "    </tr>\n",
       "    <tr>\n",
       "      <th>xPOOL_AC_EM</th>\n",
       "      <td>0.000000</td>\n",
       "      <td>0.0</td>\n",
       "    </tr>\n",
       "    <tr>\n",
       "      <th>...</th>\n",
       "      <td>...</td>\n",
       "      <td>...</td>\n",
       "    </tr>\n",
       "    <tr>\n",
       "      <th>y300093</th>\n",
       "      <td>0.000000</td>\n",
       "      <td>0.0</td>\n",
       "    </tr>\n",
       "    <tr>\n",
       "      <th>y300094</th>\n",
       "      <td>0.703807</td>\n",
       "      <td>0.0</td>\n",
       "    </tr>\n",
       "    <tr>\n",
       "      <th>y300095</th>\n",
       "      <td>0.703807</td>\n",
       "      <td>0.0</td>\n",
       "    </tr>\n",
       "    <tr>\n",
       "      <th>y300096</th>\n",
       "      <td>0.703807</td>\n",
       "      <td>0.0</td>\n",
       "    </tr>\n",
       "    <tr>\n",
       "      <th>y300084</th>\n",
       "      <td>0.000000</td>\n",
       "      <td>0.0</td>\n",
       "    </tr>\n",
       "  </tbody>\n",
       "</table>\n",
       "<p>1937 rows × 2 columns</p>\n",
       "</div>"
      ],
      "text/plain": [
       "<Solution 0.000 at 0x1da07a9cf40>"
      ]
     },
     "execution_count": 85,
     "metadata": {},
     "output_type": "execute_result"
    }
   ],
   "source": [
    "yali.optimize()"
   ]
  },
  {
   "cell_type": "code",
   "execution_count": 7,
   "id": "367f6d6b",
   "metadata": {},
   "outputs": [],
   "source": [
    "reactionp1 = Reaction('y300083')\n",
    "reactionp1.name = 'Propionate Extracellular Transporter'\n",
    "reactionp1.subsystem = 'Cell Propionate Biosynthesis'\n",
    "reactionp1.lower_bound = 0. # This is the default\n",
    "reactionp1.upper_bound = 1000. # This is the default\n",
    "\n",
    "#reactionp1 = Reaction('y300083')\n",
    "#reactionp1.name = 'Propionate Transporter Extracelullar to Cytosol'\n",
    "#reactionp1.subsystem = 'Cell Propionate Synthesis'\n",
    "#reactionp1.lower_bound = -1000. #This is the default\n",
    "#reactionp1.upper_bound = 1000. #This is the default\n",
    "\n",
    "#reaction = Reaction('y300083')\n",
    "#reaction.name = 'Propionate Extracellular Transporter'\n",
    "#reaction.subsystem = 'Cell Propionate Biosynthesis'\n",
    "#reaction.lower_bound = 0. # This is the default\n",
    "#reaction.upper_bound = 1000. # This is the default"
   ]
  },
  {
   "cell_type": "code",
   "execution_count": 8,
   "id": "e4b6dbf2",
   "metadata": {},
   "outputs": [],
   "source": [
    "propionato_extr = Metabolite(\n",
    "'s_3717',\n",
    "formula='C3H5O2',\n",
    "name='Propionate[e]',\n",
    "compartment='e')\n",
    "propionato_c = Metabolite(\n",
    "'s_3718',\n",
    "formula='C3H5O23',\n",
    "name='Propionate[c]',\n",
    "compartment='c')\n",
    "\n",
    "#propionato_extr = Metabolite(\n",
    "#'s_3717',\n",
    "#formula = 'C3H5O2',\n",
    "#name='Propionate[e]',\n",
    "#compartment='e')\n",
    "#propionato_c = Metabolite(\n",
    "#'s_3718',\n",
    "#formula='C3H5O23',\n",
    "#name='Propionate[c]',\n",
    "#compartment='c')\n",
    "\n",
    "#propio_extr = Metabolite(\n",
    "#'s_3717',\n",
    "#formula='C3H5O2',\n",
    "#name='Propionate[e]',\n",
    "#compartment='e')\n",
    "#propio_c = Metabolite(\n",
    "#'s_3718',\n",
    "#formula='C3H5O2',\n",
    "#name='Propionate[c]',\n",
    "#compartment='c')"
   ]
  },
  {
   "cell_type": "code",
   "execution_count": 9,
   "id": "13b9f42f",
   "metadata": {},
   "outputs": [
    {
     "data": {
      "text/plain": [
       "'s_3717 --> s_3718'"
      ]
     },
     "execution_count": 9,
     "metadata": {},
     "output_type": "execute_result"
    }
   ],
   "source": [
    "reactionp1.add_metabolites({\n",
    "propionato_extr: -1.0,\n",
    "propionato_c: 1.0,\n",
    "})\n",
    "reactionp1.reaction\n",
    "\n",
    "#reactionp1.add_metabolites({\n",
    "#    propionato_extr: -1.0,\n",
    "#    propionato_c: 1.0,\n",
    "#})\n",
    "#reactionp1.reaction\n",
    "\n",
    "#reaction.add_metabolites({\n",
    "#propio_extr: -1.0,\n",
    "#propio_c: 1.0,\n",
    "#})\n",
    "#reaction.reaction"
   ]
  },
  {
   "cell_type": "code",
   "execution_count": 10,
   "id": "6575172d",
   "metadata": {},
   "outputs": [],
   "source": [
    "#reaction.gene_reaction_rule = '( MFS1 )'\n",
    "#reaction.genes"
   ]
  },
  {
   "cell_type": "code",
   "execution_count": 11,
   "id": "a0829df6",
   "metadata": {},
   "outputs": [],
   "source": [
    "yali.add_reactions([reactionp1])\n",
    "\n",
    "#yali.add_reactions([reactionp1])\n",
    "#yali.add_reactions([reaction])"
   ]
  },
  {
   "cell_type": "code",
   "execution_count": 12,
   "id": "6c9cb2e0",
   "metadata": {},
   "outputs": [
    {
     "data": {
      "text/html": [
       "\n",
       "        <table>\n",
       "            <tr>\n",
       "                <td><strong>Reaction identifier</strong></td><td>y300083</td>\n",
       "            </tr><tr>\n",
       "                <td><strong>Name</strong></td><td>Propionate Extracellular Transporter</td>\n",
       "            </tr><tr>\n",
       "                <td><strong>Memory address</strong></td>\n",
       "                <td>0x025adac360a0</td>\n",
       "            </tr><tr>\n",
       "                <td><strong>Stoichiometry</strong></td>\n",
       "                <td>\n",
       "                    <p style='text-align:right'>s_3717 --> s_3718</p>\n",
       "                    <p style='text-align:right'>Propionate[e] --> Propionate[c]</p>\n",
       "                </td>\n",
       "            </tr><tr>\n",
       "                <td><strong>GPR</strong></td><td></td>\n",
       "            </tr><tr>\n",
       "                <td><strong>Lower bound</strong></td><td>0.0</td>\n",
       "            </tr><tr>\n",
       "                <td><strong>Upper bound</strong></td><td>1000.0</td>\n",
       "            </tr>\n",
       "        </table>\n",
       "        "
      ],
      "text/plain": [
       "<Reaction y300083 at 0x25adac360a0>"
      ]
     },
     "execution_count": 12,
     "metadata": {},
     "output_type": "execute_result"
    }
   ],
   "source": [
    "yali.reactions.y300083"
   ]
  },
  {
   "cell_type": "code",
   "execution_count": 77,
   "id": "2d0f3976",
   "metadata": {},
   "outputs": [],
   "source": [
    "reactionp2 = Reaction('y300084')\n",
    "reactionp2.name = 'Propionate Activator'\n",
    "reactionp2.subsystem = 'Cell Propionate Biosynthesis'\n",
    "reactionp2.lower_bound = -1000. # This is the default\n",
    "reactionp2.upper_bound = 1000. # This is the default\n",
    "\n",
    "#reactionp2 = Reaction('y300084')\n",
    "#reactionp2.name = 'Propionate Activator'\n",
    "#reactionp2.subsystem = 'Cell Propionate Biosynthesis'\n",
    "#reactionp2.lower_bound = -1000. #This is the default\n",
    "#reactionp2.upper_bound = 1000. #This is the default\n",
    "\n",
    "#reaction1 = Reaction('y300084')\n",
    "#reaction1.name = 'Propionate CoA-transferase'\n",
    "#reaction1.subsystem = 'Cell Propionate Biosynthesis'\n",
    "#reaction1.lower_bound = -1000. # This is the default\n",
    "#reaction1.upper_bound = 1000. # This is the default"
   ]
  },
  {
   "cell_type": "code",
   "execution_count": 78,
   "id": "6286cd90",
   "metadata": {},
   "outputs": [],
   "source": [
    "propionato_c = Metabolite(\n",
    "'s_3718',\n",
    "formula='C3H5O23',\n",
    "name='Propionate[c]',\n",
    "compartment='c')\n",
    "\n",
    "#propionatecoa_c = Metabolite(\n",
    "#'s_3719',\n",
    "#formula='C24H36N7O17P3S1',\n",
    "#name='Propionyl-CoA[c]',\n",
    "#compartment='c')\n",
    "\n",
    "#propionatecoa_c = Metabolite(\n",
    "#'s_3719',\n",
    "#formula='C24H36N7O17P3S1',\n",
    "#name='Propionyl-CoA[c]',\n",
    "#compartment='c')\n",
    "\n",
    "#propiocoa_c = Metabolite(\n",
    "#'s_3719',\n",
    "#formula='C24H36N7O17P3S',\n",
    "#name='Propionyl-CoA[c]',\n",
    "#compartment='c')"
   ]
  },
  {
   "cell_type": "code",
   "execution_count": 79,
   "id": "7e5b78ac",
   "metadata": {},
   "outputs": [
    {
     "data": {
      "text/plain": [
       "'s_3718 <=> s_3719'"
      ]
     },
     "execution_count": 79,
     "metadata": {},
     "output_type": "execute_result"
    }
   ],
   "source": [
    "reactionp2.add_metabolites({\n",
    "propionato_c: -1.0,\n",
    "propionatecoa_c: 1.0,\n",
    "})\n",
    "reactionp2.reaction\n",
    "\n",
    "#reactionp2.add_metabolites({\n",
    "#    propionato_c: -1.0,\n",
    "#    propionatecoa_c: 1.0,\n",
    "#})\n",
    "#reactionp2.reaction\n",
    "\n",
    "#reaction1.add_metabolites({\n",
    "#propio_c: -1.0,\n",
    "#propiocoa_c: 1.0,\n",
    "#})\n",
    "#reaction1.reaction"
   ]
  },
  {
   "cell_type": "code",
   "execution_count": 80,
   "id": "4dbf93f8",
   "metadata": {},
   "outputs": [],
   "source": [
    "yali.add_reactions([reactionp2])\n",
    "#yali.add_reactions([reactionp2])\n",
    "#yali.add_reactions([reaction1])"
   ]
  },
  {
   "cell_type": "code",
   "execution_count": 81,
   "id": "54104a54",
   "metadata": {},
   "outputs": [
    {
     "data": {
      "text/html": [
       "\n",
       "        <table>\n",
       "            <tr>\n",
       "                <td><strong>Reaction identifier</strong></td><td>y300084</td>\n",
       "            </tr><tr>\n",
       "                <td><strong>Name</strong></td><td>Propionate Activator</td>\n",
       "            </tr><tr>\n",
       "                <td><strong>Memory address</strong></td>\n",
       "                <td>0x01da5b3a6490</td>\n",
       "            </tr><tr>\n",
       "                <td><strong>Stoichiometry</strong></td>\n",
       "                <td>\n",
       "                    <p style='text-align:right'>s_3718 <=> s_3719</p>\n",
       "                    <p style='text-align:right'>Propionate[c] <=> Propionyl-CoA[c]</p>\n",
       "                </td>\n",
       "            </tr><tr>\n",
       "                <td><strong>GPR</strong></td><td></td>\n",
       "            </tr><tr>\n",
       "                <td><strong>Lower bound</strong></td><td>-1000.0</td>\n",
       "            </tr><tr>\n",
       "                <td><strong>Upper bound</strong></td><td>1000.0</td>\n",
       "            </tr>\n",
       "        </table>\n",
       "        "
      ],
      "text/plain": [
       "<Reaction y300084 at 0x1da5b3a6490>"
      ]
     },
     "execution_count": 81,
     "metadata": {},
     "output_type": "execute_result"
    }
   ],
   "source": [
    "yali.reactions.y300084"
   ]
  },
  {
   "cell_type": "code",
   "execution_count": 7,
   "id": "00d96257",
   "metadata": {},
   "outputs": [],
   "source": [
    "reaction2 = Reaction('y300085')\n",
    "reaction2.name = 'Propionyl-CoA transporter [c] - [m]'\n",
    "reaction2.subsystem = 'Cell Propionate Biosynthesis'\n",
    "reaction2.lower_bound = -1000. # This is the default\n",
    "reaction2.upper_bound = 1000. # This is the default"
   ]
  },
  {
   "cell_type": "code",
   "execution_count": 8,
   "id": "7549a53e",
   "metadata": {},
   "outputs": [],
   "source": [
    "propionatecoa_c = Metabolite(\n",
    "'s_3719',\n",
    "formula='C24H36N7O17P3S1',\n",
    "name='Propionyl-CoA[c]',\n",
    "compartment='c')\n",
    "\n",
    "propiocoa_m = Metabolite(\n",
    "'s_3720',\n",
    "formula='C24H36N7O17P3S',\n",
    "name='Propionyl-CoA[m]',\n",
    "compartment='m')"
   ]
  },
  {
   "cell_type": "code",
   "execution_count": 9,
   "id": "07790b2a",
   "metadata": {},
   "outputs": [
    {
     "data": {
      "text/plain": [
       "'s_3719 <=> s_3720'"
      ]
     },
     "execution_count": 9,
     "metadata": {},
     "output_type": "execute_result"
    }
   ],
   "source": [
    "reaction2.add_metabolites({\n",
    "propionatecoa_c: -1.0,\n",
    "propiocoa_m: 1.0,\n",
    "})\n",
    "reaction2.reaction"
   ]
  },
  {
   "cell_type": "code",
   "execution_count": 10,
   "id": "5c50073f",
   "metadata": {},
   "outputs": [],
   "source": [
    "yali.add_reactions([reaction2])"
   ]
  },
  {
   "cell_type": "code",
   "execution_count": 11,
   "id": "70d1290a",
   "metadata": {},
   "outputs": [
    {
     "data": {
      "text/html": [
       "\n",
       "        <table>\n",
       "            <tr>\n",
       "                <td><strong>Reaction identifier</strong></td><td>y300085</td>\n",
       "            </tr><tr>\n",
       "                <td><strong>Name</strong></td><td>Propionyl-CoA transporter [c] - [m]</td>\n",
       "            </tr><tr>\n",
       "                <td><strong>Memory address</strong></td>\n",
       "                <td>0x01da079faeb0</td>\n",
       "            </tr><tr>\n",
       "                <td><strong>Stoichiometry</strong></td>\n",
       "                <td>\n",
       "                    <p style='text-align:right'>s_3719 <=> s_3720</p>\n",
       "                    <p style='text-align:right'>Propionyl-CoA[c] <=> Propionyl-CoA[m]</p>\n",
       "                </td>\n",
       "            </tr><tr>\n",
       "                <td><strong>GPR</strong></td><td></td>\n",
       "            </tr><tr>\n",
       "                <td><strong>Lower bound</strong></td><td>-1000.0</td>\n",
       "            </tr><tr>\n",
       "                <td><strong>Upper bound</strong></td><td>1000.0</td>\n",
       "            </tr>\n",
       "        </table>\n",
       "        "
      ],
      "text/plain": [
       "<Reaction y300085 at 0x1da079faeb0>"
      ]
     },
     "execution_count": 11,
     "metadata": {},
     "output_type": "execute_result"
    }
   ],
   "source": [
    "yali.reactions.y300085"
   ]
  },
  {
   "cell_type": "code",
   "execution_count": 12,
   "id": "2ce9df29",
   "metadata": {},
   "outputs": [],
   "source": [
    "reaction3 = Reaction('y300086')\n",
    "reaction3.name = 'propanoyl-CoA: electron-transfer flavoprotein 2,3-oxidoreductase'\n",
    "reaction3.subsystem = 'Cell Propionate Biosynthesis'\n",
    "reaction3.lower_bound = -1000. # This is the default\n",
    "reaction3.upper_bound = 1000. # This is the default"
   ]
  },
  {
   "cell_type": "code",
   "execution_count": 13,
   "id": "e910acc3",
   "metadata": {},
   "outputs": [],
   "source": [
    "propecoa_c = Metabolite(\n",
    "'s_3721',\n",
    "formula='C24H38N7O17P3S',\n",
    "name='Propenoyl-CoA[c]',\n",
    "compartment='c')\n",
    "oxigen_c = Metabolite(\n",
    "'s_1275')\n",
    "hyprox_c = Metabolite(\n",
    "'s_0837')"
   ]
  },
  {
   "cell_type": "code",
   "execution_count": 14,
   "id": "9125b62f",
   "metadata": {},
   "outputs": [
    {
     "data": {
      "text/plain": [
       "'s_1275 + s_3719 <=> s_0837 + s_3721'"
      ]
     },
     "execution_count": 14,
     "metadata": {},
     "output_type": "execute_result"
    }
   ],
   "source": [
    "reaction3.add_metabolites({\n",
    "propionatecoa_c: -1.0,\n",
    "oxigen_c: -1.0,\n",
    "hyprox_c: 1.0,\n",
    "propecoa_c: 1.0,\n",
    "})\n",
    "reaction3.reaction"
   ]
  },
  {
   "cell_type": "code",
   "execution_count": 15,
   "id": "f05d2de5",
   "metadata": {},
   "outputs": [],
   "source": [
    "yali.add_reactions([reaction3])"
   ]
  },
  {
   "cell_type": "code",
   "execution_count": 16,
   "id": "f05d2811",
   "metadata": {},
   "outputs": [
    {
     "data": {
      "text/plain": [
       "frozenset({<Gene P06149.3 at 0x1da06f07a60>})"
      ]
     },
     "execution_count": 16,
     "metadata": {},
     "output_type": "execute_result"
    }
   ],
   "source": [
    "reaction3.gene_reaction_rule = '(P06149.3)'\n",
    "reaction3.genes"
   ]
  },
  {
   "cell_type": "code",
   "execution_count": 17,
   "id": "654c8158",
   "metadata": {},
   "outputs": [
    {
     "data": {
      "text/html": [
       "\n",
       "        <table>\n",
       "            <tr>\n",
       "                <td><strong>Reaction identifier</strong></td><td>y300086</td>\n",
       "            </tr><tr>\n",
       "                <td><strong>Name</strong></td><td>propanoyl-CoA: electron-transfer flavoprotein 2,3-oxidoreductase</td>\n",
       "            </tr><tr>\n",
       "                <td><strong>Memory address</strong></td>\n",
       "                <td>0x01da06f135b0</td>\n",
       "            </tr><tr>\n",
       "                <td><strong>Stoichiometry</strong></td>\n",
       "                <td>\n",
       "                    <p style='text-align:right'>s_1275 + s_3719 <=> s_0837 + s_3721</p>\n",
       "                    <p style='text-align:right'>oxygen + Propionyl-CoA[c] <=> hydrogen peroxide + Propenoyl-CoA[c]</p>\n",
       "                </td>\n",
       "            </tr><tr>\n",
       "                <td><strong>GPR</strong></td><td>P06149.3</td>\n",
       "            </tr><tr>\n",
       "                <td><strong>Lower bound</strong></td><td>-1000.0</td>\n",
       "            </tr><tr>\n",
       "                <td><strong>Upper bound</strong></td><td>1000.0</td>\n",
       "            </tr>\n",
       "        </table>\n",
       "        "
      ],
      "text/plain": [
       "<Reaction y300086 at 0x1da06f135b0>"
      ]
     },
     "execution_count": 17,
     "metadata": {},
     "output_type": "execute_result"
    }
   ],
   "source": [
    "yali.reactions.y300086"
   ]
  },
  {
   "cell_type": "code",
   "execution_count": 18,
   "id": "44cb9cdb",
   "metadata": {},
   "outputs": [],
   "source": [
    "reaction4 = Reaction('y300087')\n",
    "reaction4.name = '3-hydroxypropionyl-CoA hydrolyase'\n",
    "reaction4.subsystem = 'Cell Propionate Biosynthesis'\n",
    "reaction4.lower_bound = -1000. # This is the default\n",
    "reaction4.upper_bound = 1000. # This is the default"
   ]
  },
  {
   "cell_type": "code",
   "execution_count": 19,
   "id": "49a987cd",
   "metadata": {},
   "outputs": [],
   "source": [
    "hydroxcoa_c = Metabolite(\n",
    "'s_3722',\n",
    "formula='C24H40N7O18P3S',\n",
    "name='3-hydroxypropionyl-CoA [c]',\n",
    "compartment='c')\n",
    "water_c = Metabolite(\n",
    "'s_0803')"
   ]
  },
  {
   "cell_type": "code",
   "execution_count": 20,
   "id": "2198621b",
   "metadata": {},
   "outputs": [
    {
     "data": {
      "text/plain": [
       "'s_3721 <=> s_0803 + s_3722'"
      ]
     },
     "execution_count": 20,
     "metadata": {},
     "output_type": "execute_result"
    }
   ],
   "source": [
    "reaction4.add_metabolites({\n",
    "propecoa_c: -1.0,\n",
    "hydroxcoa_c: 1.0,\n",
    "water_c: 1.0,\n",
    "})\n",
    "reaction4.reaction"
   ]
  },
  {
   "cell_type": "code",
   "execution_count": 21,
   "id": "f0648b52",
   "metadata": {},
   "outputs": [],
   "source": [
    "yali.add_reactions([reaction4])"
   ]
  },
  {
   "cell_type": "code",
   "execution_count": 22,
   "id": "e9356953",
   "metadata": {},
   "outputs": [
    {
     "data": {
      "text/html": [
       "\n",
       "        <table>\n",
       "            <tr>\n",
       "                <td><strong>Reaction identifier</strong></td><td>y300087</td>\n",
       "            </tr><tr>\n",
       "                <td><strong>Name</strong></td><td>3-hydroxypropionyl-CoA hydrolyase</td>\n",
       "            </tr><tr>\n",
       "                <td><strong>Memory address</strong></td>\n",
       "                <td>0x01da06f07400</td>\n",
       "            </tr><tr>\n",
       "                <td><strong>Stoichiometry</strong></td>\n",
       "                <td>\n",
       "                    <p style='text-align:right'>s_3721 <=> s_0803 + s_3722</p>\n",
       "                    <p style='text-align:right'>Propenoyl-CoA[c] <=> H2O + 3-hydroxypropionyl-CoA [c]</p>\n",
       "                </td>\n",
       "            </tr><tr>\n",
       "                <td><strong>GPR</strong></td><td></td>\n",
       "            </tr><tr>\n",
       "                <td><strong>Lower bound</strong></td><td>-1000.0</td>\n",
       "            </tr><tr>\n",
       "                <td><strong>Upper bound</strong></td><td>1000.0</td>\n",
       "            </tr>\n",
       "        </table>\n",
       "        "
      ],
      "text/plain": [
       "<Reaction y300087 at 0x1da06f07400>"
      ]
     },
     "execution_count": 22,
     "metadata": {},
     "output_type": "execute_result"
    }
   ],
   "source": [
    "yali.reactions.y300087"
   ]
  },
  {
   "cell_type": "code",
   "execution_count": 23,
   "id": "91095d0f",
   "metadata": {},
   "outputs": [],
   "source": [
    "reaction5 = Reaction('y300088')\n",
    "reaction5.name = '3-hydroxypropionate:CoA ligase (AMP-forming)'\n",
    "reaction5.subsystem = 'Cell Propionate Biosynthesis'\n",
    "reaction5.lower_bound = -1000. # This is the default\n",
    "reaction5.upper_bound = 1000. # This is the default"
   ]
  },
  {
   "cell_type": "code",
   "execution_count": 24,
   "id": "474f156e",
   "metadata": {},
   "outputs": [],
   "source": [
    "hydroxypropanoate_c = Metabolite(\n",
    "'s_3723',\n",
    "formula='C3H5O3',\n",
    "name='3-Hydroxypropanoate [c]',\n",
    "compartment='c')\n",
    "difos_c = Metabolite(\n",
    "'s_0633')\n",
    "amp_c = Metabolite(\n",
    "'s_0423')\n",
    "coe_c = Metabolite(\n",
    "'s_0529')\n",
    "atp_c = Metabolite(\n",
    "'s_0434')"
   ]
  },
  {
   "cell_type": "code",
   "execution_count": 25,
   "id": "ed39540c",
   "metadata": {},
   "outputs": [
    {
     "data": {
      "text/plain": [
       "'s_0423 + s_0633 + s_3722 <=> s_0434 + s_0529 + s_3723'"
      ]
     },
     "execution_count": 25,
     "metadata": {},
     "output_type": "execute_result"
    }
   ],
   "source": [
    "reaction5.add_metabolites({\n",
    "hydroxcoa_c: -1.0,\n",
    "difos_c: -1.0,\n",
    "amp_c: -1.0,\n",
    "coe_c: 1.0,\n",
    "atp_c: 1.0,\n",
    "hydroxypropanoate_c: 1.0,\n",
    "})\n",
    "reaction5.reaction"
   ]
  },
  {
   "cell_type": "code",
   "execution_count": 26,
   "id": "42c3bc8a",
   "metadata": {},
   "outputs": [],
   "source": [
    "yali.add_reactions([reaction5])"
   ]
  },
  {
   "cell_type": "code",
   "execution_count": 27,
   "id": "d14d183e",
   "metadata": {},
   "outputs": [
    {
     "data": {
      "text/html": [
       "\n",
       "        <table>\n",
       "            <tr>\n",
       "                <td><strong>Reaction identifier</strong></td><td>y300088</td>\n",
       "            </tr><tr>\n",
       "                <td><strong>Name</strong></td><td>3-hydroxypropionate:CoA ligase (AMP-forming)</td>\n",
       "            </tr><tr>\n",
       "                <td><strong>Memory address</strong></td>\n",
       "                <td>0x01da5b39d880</td>\n",
       "            </tr><tr>\n",
       "                <td><strong>Stoichiometry</strong></td>\n",
       "                <td>\n",
       "                    <p style='text-align:right'>s_0423 + s_0633 + s_3722 <=> s_0434 + s_0529 + s_3723</p>\n",
       "                    <p style='text-align:right'>AMP + diphosphate + 3-hydroxypropionyl-CoA [c] <=> ATP + coenzyme A + 3-Hydroxypropanoate [c]</p>\n",
       "                </td>\n",
       "            </tr><tr>\n",
       "                <td><strong>GPR</strong></td><td></td>\n",
       "            </tr><tr>\n",
       "                <td><strong>Lower bound</strong></td><td>-1000.0</td>\n",
       "            </tr><tr>\n",
       "                <td><strong>Upper bound</strong></td><td>1000.0</td>\n",
       "            </tr>\n",
       "        </table>\n",
       "        "
      ],
      "text/plain": [
       "<Reaction y300088 at 0x1da5b39d880>"
      ]
     },
     "execution_count": 27,
     "metadata": {},
     "output_type": "execute_result"
    }
   ],
   "source": [
    "yali.reactions.y300088"
   ]
  },
  {
   "cell_type": "code",
   "execution_count": 28,
   "id": "236c0a6e",
   "metadata": {},
   "outputs": [],
   "source": [
    "reaction6 = Reaction('y300089')\n",
    "reaction6.name = '3-hydroxypropanoate:NAD+ oxidoreductase'\n",
    "reaction6.subsystem = 'Cell Propionate Biosynthesis'\n",
    "reaction6.lower_bound = -1000. # This is the default\n",
    "reaction6.upper_bound = 1000. # This is the default"
   ]
  },
  {
   "cell_type": "code",
   "execution_count": 29,
   "id": "84a34331",
   "metadata": {},
   "outputs": [],
   "source": [
    "oxopro_c = Metabolite(\n",
    "'s_3724',\n",
    "formula='C3H4O3',\n",
    "name='3-oxopropanoate[c]',\n",
    "compartment='c')\n",
    "NAD_c = Metabolite(\n",
    "'s_1198',\n",
    "compartment='c')\n",
    "NADH_c = Metabolite(\n",
    "'s_1203')\n",
    "h_c = Metabolite(\n",
    "'s_0794')"
   ]
  },
  {
   "cell_type": "code",
   "execution_count": 30,
   "id": "94958d24",
   "metadata": {},
   "outputs": [
    {
     "data": {
      "text/plain": [
       "'s_1198 + s_3723 <=> s_0794 + s_1203 + s_3724'"
      ]
     },
     "execution_count": 30,
     "metadata": {},
     "output_type": "execute_result"
    }
   ],
   "source": [
    "reaction6.add_metabolites({\n",
    "hydroxypropanoate_c: -1.0,\n",
    "NAD_c: -1.0,\n",
    "NADH_c: 1.0,\n",
    "h_c: 1.0,\n",
    "oxopro_c: 1.0,\n",
    "})\n",
    "reaction6.reaction"
   ]
  },
  {
   "cell_type": "code",
   "execution_count": 31,
   "id": "9ca2cdb5",
   "metadata": {},
   "outputs": [],
   "source": [
    "yali.add_reactions([reaction6])"
   ]
  },
  {
   "cell_type": "code",
   "execution_count": 32,
   "id": "bc44c8ce",
   "metadata": {},
   "outputs": [
    {
     "data": {
      "text/html": [
       "\n",
       "        <table>\n",
       "            <tr>\n",
       "                <td><strong>Reaction identifier</strong></td><td>y300089</td>\n",
       "            </tr><tr>\n",
       "                <td><strong>Name</strong></td><td>3-hydroxypropanoate:NAD+ oxidoreductase</td>\n",
       "            </tr><tr>\n",
       "                <td><strong>Memory address</strong></td>\n",
       "                <td>0x01da079fa850</td>\n",
       "            </tr><tr>\n",
       "                <td><strong>Stoichiometry</strong></td>\n",
       "                <td>\n",
       "                    <p style='text-align:right'>s_1198 + s_3723 <=> s_0794 + s_1203 + s_3724</p>\n",
       "                    <p style='text-align:right'>NAD + 3-Hydroxypropanoate [c] <=> H+ + NADH + 3-oxopropanoate[c]</p>\n",
       "                </td>\n",
       "            </tr><tr>\n",
       "                <td><strong>GPR</strong></td><td></td>\n",
       "            </tr><tr>\n",
       "                <td><strong>Lower bound</strong></td><td>-1000.0</td>\n",
       "            </tr><tr>\n",
       "                <td><strong>Upper bound</strong></td><td>1000.0</td>\n",
       "            </tr>\n",
       "        </table>\n",
       "        "
      ],
      "text/plain": [
       "<Reaction y300089 at 0x1da079fa850>"
      ]
     },
     "execution_count": 32,
     "metadata": {},
     "output_type": "execute_result"
    }
   ],
   "source": [
    "yali.reactions.y300089"
   ]
  },
  {
   "cell_type": "code",
   "execution_count": 33,
   "id": "b8c73aaa",
   "metadata": {},
   "outputs": [],
   "source": [
    "reaction7 = Reaction('y300090')\n",
    "reaction7.name = '3-Oxopropanoate:NAD+ oxidoreductase (decarboxylating, CoA-acetylating)'\n",
    "reaction7.subsystem = 'Cell Propionate Biosynthesis'\n",
    "reaction7.lower_bound = -1000. # This is the default\n",
    "reaction7.upper_bound = 1000. # This is the default"
   ]
  },
  {
   "cell_type": "code",
   "execution_count": 34,
   "id": "f8277403",
   "metadata": {},
   "outputs": [],
   "source": [
    "acet_c = Metabolite(\n",
    "'s_0373')\n",
    "car_c = Metabolite(\n",
    "'s_0456')"
   ]
  },
  {
   "cell_type": "code",
   "execution_count": 35,
   "id": "d0f4692a",
   "metadata": {},
   "outputs": [
    {
     "data": {
      "text/plain": [
       "'s_0529 + s_1198 + s_3724 <=> s_0373 + s_0456 + s_0794 + s_1203'"
      ]
     },
     "execution_count": 35,
     "metadata": {},
     "output_type": "execute_result"
    }
   ],
   "source": [
    "reaction7.add_metabolites({\n",
    "oxopro_c: -1.0,\n",
    "NAD_c: -1.0,\n",
    "coe_c: -1.0,\n",
    "NADH_c: 1.0,\n",
    "h_c: 1.0,\n",
    "acet_c: 1.0,\n",
    "car_c: 1.0,\n",
    "})\n",
    "reaction7.reaction"
   ]
  },
  {
   "cell_type": "code",
   "execution_count": 36,
   "id": "f1128156",
   "metadata": {},
   "outputs": [],
   "source": [
    "yali.add_reactions([reaction7])"
   ]
  },
  {
   "cell_type": "code",
   "execution_count": 37,
   "id": "6351caf1",
   "metadata": {},
   "outputs": [
    {
     "data": {
      "text/html": [
       "\n",
       "        <table>\n",
       "            <tr>\n",
       "                <td><strong>Reaction identifier</strong></td><td>y300090</td>\n",
       "            </tr><tr>\n",
       "                <td><strong>Name</strong></td><td>3-Oxopropanoate:NAD+ oxidoreductase (decarboxylating, CoA-acetylating)</td>\n",
       "            </tr><tr>\n",
       "                <td><strong>Memory address</strong></td>\n",
       "                <td>0x01da06f13e20</td>\n",
       "            </tr><tr>\n",
       "                <td><strong>Stoichiometry</strong></td>\n",
       "                <td>\n",
       "                    <p style='text-align:right'>s_0529 + s_1198 + s_3724 <=> s_0373 + s_0456 + s_0794 + s_1203</p>\n",
       "                    <p style='text-align:right'>coenzyme A + NAD + 3-oxopropanoate[c] <=> acetyl-CoA + carbon dioxide + H+ + NADH</p>\n",
       "                </td>\n",
       "            </tr><tr>\n",
       "                <td><strong>GPR</strong></td><td></td>\n",
       "            </tr><tr>\n",
       "                <td><strong>Lower bound</strong></td><td>-1000.0</td>\n",
       "            </tr><tr>\n",
       "                <td><strong>Upper bound</strong></td><td>1000.0</td>\n",
       "            </tr>\n",
       "        </table>\n",
       "        "
      ],
      "text/plain": [
       "<Reaction y300090 at 0x1da06f13e20>"
      ]
     },
     "execution_count": 37,
     "metadata": {},
     "output_type": "execute_result"
    }
   ],
   "source": [
    "yali.reactions.y300090"
   ]
  },
  {
   "cell_type": "code",
   "execution_count": 38,
   "id": "4ef12087",
   "metadata": {},
   "outputs": [],
   "source": [
    "reaction8 = Reaction('y300091')\n",
    "reaction8.name = '(R)-Lactate:NAD+ oxidoreductase'\n",
    "reaction8.subsystem = 'Cell D-lactate Degradation'\n",
    "reaction8.lower_bound = -1000. # This is the default\n",
    "reaction8.upper_bound = 1000. # This is the default"
   ]
  },
  {
   "cell_type": "code",
   "execution_count": 39,
   "id": "8cab2f83",
   "metadata": {},
   "outputs": [],
   "source": [
    "rlac_m = Metabolite(\n",
    "'s_0027')\n",
    "pyr_m = Metabolite(\n",
    "'s_1401')\n",
    "NADH_m = Metabolite(\n",
    "'s_1205')\n",
    "h_m = Metabolite(\n",
    "'s_0799')\n",
    "NAD_m = Metabolite(\n",
    "'s_1200')"
   ]
  },
  {
   "cell_type": "code",
   "execution_count": 40,
   "id": "1a71266f",
   "metadata": {},
   "outputs": [
    {
     "data": {
      "text/plain": [
       "'s_0027 + s_1200 <=> s_0799 + s_1205 + s_1401'"
      ]
     },
     "execution_count": 40,
     "metadata": {},
     "output_type": "execute_result"
    }
   ],
   "source": [
    "reaction8.add_metabolites({\n",
    "rlac_m: -1.0,\n",
    "NAD_m: -1.0,\n",
    "NADH_m: 1.0,\n",
    "h_m: 1.0,\n",
    "pyr_m: 1.0,\n",
    "})\n",
    "reaction8.reaction"
   ]
  },
  {
   "cell_type": "code",
   "execution_count": 41,
   "id": "4e343e9c",
   "metadata": {},
   "outputs": [],
   "source": [
    "yali.add_reactions([reaction8])"
   ]
  },
  {
   "cell_type": "code",
   "execution_count": 42,
   "id": "fd7700c8",
   "metadata": {},
   "outputs": [
    {
     "data": {
      "text/html": [
       "\n",
       "        <table>\n",
       "            <tr>\n",
       "                <td><strong>Reaction identifier</strong></td><td>y300091</td>\n",
       "            </tr><tr>\n",
       "                <td><strong>Name</strong></td><td>(R)-Lactate:NAD+ oxidoreductase</td>\n",
       "            </tr><tr>\n",
       "                <td><strong>Memory address</strong></td>\n",
       "                <td>0x01da079fa9d0</td>\n",
       "            </tr><tr>\n",
       "                <td><strong>Stoichiometry</strong></td>\n",
       "                <td>\n",
       "                    <p style='text-align:right'>s_0027 + s_1200 <=> s_0799 + s_1205 + s_1401</p>\n",
       "                    <p style='text-align:right'>(R)-lactate + NAD <=> H+ + NADH + pyruvate</p>\n",
       "                </td>\n",
       "            </tr><tr>\n",
       "                <td><strong>GPR</strong></td><td></td>\n",
       "            </tr><tr>\n",
       "                <td><strong>Lower bound</strong></td><td>-1000.0</td>\n",
       "            </tr><tr>\n",
       "                <td><strong>Upper bound</strong></td><td>1000.0</td>\n",
       "            </tr>\n",
       "        </table>\n",
       "        "
      ],
      "text/plain": [
       "<Reaction y300091 at 0x1da079fa9d0>"
      ]
     },
     "execution_count": 42,
     "metadata": {},
     "output_type": "execute_result"
    }
   ],
   "source": [
    "yali.reactions.y300091"
   ]
  },
  {
   "cell_type": "code",
   "execution_count": 43,
   "id": "820c0bc6",
   "metadata": {},
   "outputs": [],
   "source": [
    "reaction9 = Reaction('y300092')\n",
    "reaction9.name = '(S)-lactate transporter [c] - [p]'\n",
    "reaction9.subsystem = 'Cell S-lactate Degradation'\n",
    "reaction9.lower_bound = -1000. # This is the default\n",
    "reaction9.upper_bound = 1000. # This is the default"
   ]
  },
  {
   "cell_type": "code",
   "execution_count": 44,
   "id": "33f085f8",
   "metadata": {},
   "outputs": [],
   "source": [
    "slac_c = Metabolite(\n",
    "'s_0063')\n",
    "slac_p = Metabolite(\n",
    "'s_3725',\n",
    "formula='C3H5O3',\n",
    "name='(S)-lactate[p]',\n",
    "compartment='p')"
   ]
  },
  {
   "cell_type": "code",
   "execution_count": 45,
   "id": "251d5220",
   "metadata": {},
   "outputs": [
    {
     "data": {
      "text/plain": [
       "'s_0063 <=> s_3725'"
      ]
     },
     "execution_count": 45,
     "metadata": {},
     "output_type": "execute_result"
    }
   ],
   "source": [
    "reaction9.add_metabolites({\n",
    "slac_c: -1.0,\n",
    "slac_p: 1.0,\n",
    "})\n",
    "reaction9.reaction"
   ]
  },
  {
   "cell_type": "code",
   "execution_count": 46,
   "id": "1d3fd517",
   "metadata": {},
   "outputs": [],
   "source": [
    "yali.add_reactions([reaction9])"
   ]
  },
  {
   "cell_type": "code",
   "execution_count": 47,
   "id": "738634ce",
   "metadata": {},
   "outputs": [
    {
     "data": {
      "text/html": [
       "\n",
       "        <table>\n",
       "            <tr>\n",
       "                <td><strong>Reaction identifier</strong></td><td>y300092</td>\n",
       "            </tr><tr>\n",
       "                <td><strong>Name</strong></td><td>(S)-lactate transporter [c] - [p]</td>\n",
       "            </tr><tr>\n",
       "                <td><strong>Memory address</strong></td>\n",
       "                <td>0x01da079fa6a0</td>\n",
       "            </tr><tr>\n",
       "                <td><strong>Stoichiometry</strong></td>\n",
       "                <td>\n",
       "                    <p style='text-align:right'>s_0063 <=> s_3725</p>\n",
       "                    <p style='text-align:right'>(S)-lactate <=> (S)-lactate[p]</p>\n",
       "                </td>\n",
       "            </tr><tr>\n",
       "                <td><strong>GPR</strong></td><td></td>\n",
       "            </tr><tr>\n",
       "                <td><strong>Lower bound</strong></td><td>-1000.0</td>\n",
       "            </tr><tr>\n",
       "                <td><strong>Upper bound</strong></td><td>1000.0</td>\n",
       "            </tr>\n",
       "        </table>\n",
       "        "
      ],
      "text/plain": [
       "<Reaction y300092 at 0x1da079fa6a0>"
      ]
     },
     "execution_count": 47,
     "metadata": {},
     "output_type": "execute_result"
    }
   ],
   "source": [
    "yali.reactions.y300092"
   ]
  },
  {
   "cell_type": "code",
   "execution_count": 48,
   "id": "fe8f2404",
   "metadata": {},
   "outputs": [],
   "source": [
    "reaction10 = Reaction('y300093')\n",
    "reaction10.name = 'Peroxisomal lactate dehydrogenase'\n",
    "reaction10.subsystem = 'Cell S-lactate Degradation'\n",
    "reaction10.lower_bound = -1000. # This is the default\n",
    "reaction10.upper_bound = 1000. # This is the default"
   ]
  },
  {
   "cell_type": "code",
   "execution_count": 49,
   "id": "40ac1e23",
   "metadata": {},
   "outputs": [],
   "source": [
    "oxi_p = Metabolite(\n",
    "'s_1279')\n",
    "pyru_p = Metabolite(\n",
    "'s_0206')\n",
    "perox_p = Metabolite(\n",
    "'s_0840')"
   ]
  },
  {
   "cell_type": "code",
   "execution_count": 50,
   "id": "24ff61ae",
   "metadata": {},
   "outputs": [
    {
     "data": {
      "text/plain": [
       "'s_1279 + s_3725 <=> s_0206 + s_0840'"
      ]
     },
     "execution_count": 50,
     "metadata": {},
     "output_type": "execute_result"
    }
   ],
   "source": [
    "reaction10.add_metabolites({\n",
    "slac_p: -1.0,\n",
    "oxi_p: -1.0,\n",
    "pyru_p: 1.0,\n",
    "perox_p: 1.0,\n",
    "})\n",
    "reaction10.reaction"
   ]
  },
  {
   "cell_type": "code",
   "execution_count": 51,
   "id": "fc39cc0b",
   "metadata": {},
   "outputs": [],
   "source": [
    "yali.add_reactions([reaction10])"
   ]
  },
  {
   "cell_type": "code",
   "execution_count": 52,
   "id": "17ea4cfa",
   "metadata": {},
   "outputs": [
    {
     "data": {
      "text/html": [
       "\n",
       "        <table>\n",
       "            <tr>\n",
       "                <td><strong>Reaction identifier</strong></td><td>y300093</td>\n",
       "            </tr><tr>\n",
       "                <td><strong>Name</strong></td><td>Peroxisomal lactate dehydrogenase</td>\n",
       "            </tr><tr>\n",
       "                <td><strong>Memory address</strong></td>\n",
       "                <td>0x01da079fa8e0</td>\n",
       "            </tr><tr>\n",
       "                <td><strong>Stoichiometry</strong></td>\n",
       "                <td>\n",
       "                    <p style='text-align:right'>s_1279 + s_3725 <=> s_0206 + s_0840</p>\n",
       "                    <p style='text-align:right'>oxygen + (S)-lactate[p] <=> 3-(4-hydroxyphenyl)pyruvate + hydrogen peroxide</p>\n",
       "                </td>\n",
       "            </tr><tr>\n",
       "                <td><strong>GPR</strong></td><td></td>\n",
       "            </tr><tr>\n",
       "                <td><strong>Lower bound</strong></td><td>-1000.0</td>\n",
       "            </tr><tr>\n",
       "                <td><strong>Upper bound</strong></td><td>1000.0</td>\n",
       "            </tr>\n",
       "        </table>\n",
       "        "
      ],
      "text/plain": [
       "<Reaction y300093 at 0x1da079fa8e0>"
      ]
     },
     "execution_count": 52,
     "metadata": {},
     "output_type": "execute_result"
    }
   ],
   "source": [
    "yali.reactions.y300093"
   ]
  },
  {
   "cell_type": "code",
   "execution_count": 53,
   "id": "56216716",
   "metadata": {},
   "outputs": [],
   "source": [
    "reaction11 = Reaction('y300094')\n",
    "reaction11.name = 'Propionyl-CoA carboxylase'\n",
    "reaction11.subsystem = 'Cell Methylmalonyl Pathway'\n",
    "reaction11.lower_bound = -1000. # This is the default\n",
    "reaction11.upper_bound = 1000. # This is the default"
   ]
  },
  {
   "cell_type": "code",
   "execution_count": 54,
   "id": "5ee10f56",
   "metadata": {},
   "outputs": [],
   "source": [
    "atp_m = Metabolite(\n",
    "'s_0437',\n",
    "formula='C10H12N5O13P3',\n",
    "name='ATP[m]',\n",
    "compartment='m')\n",
    "adp_m = Metabolite(\n",
    "'s_0397',\n",
    "formula='C10H12N5O10P2',\n",
    "name='ADP[m]',\n",
    "compartment='m')\n",
    "smethylma_m = Metabolite(\n",
    "'s_3726',\n",
    "formula='C25H40N7O19P3S',\n",
    "name='(S)-Methylmalonyl-CoA[m]',\n",
    "compartment='m')"
   ]
  },
  {
   "cell_type": "code",
   "execution_count": 55,
   "id": "1df76fc1",
   "metadata": {},
   "outputs": [
    {
     "data": {
      "text/plain": [
       "'s_0437 + s_3720 <=> s_0397 + s_3726'"
      ]
     },
     "execution_count": 55,
     "metadata": {},
     "output_type": "execute_result"
    }
   ],
   "source": [
    "reaction11.add_metabolites({\n",
    "propiocoa_m: -1.0,\n",
    "atp_m: -1.0,\n",
    "adp_m: 1.0,\n",
    "smethylma_m: 1.0,\n",
    "})\n",
    "reaction11.reaction"
   ]
  },
  {
   "cell_type": "code",
   "execution_count": 56,
   "id": "f34696b9",
   "metadata": {},
   "outputs": [],
   "source": [
    "yali.add_reactions([reaction11])"
   ]
  },
  {
   "cell_type": "code",
   "execution_count": 57,
   "id": "c95cf842",
   "metadata": {},
   "outputs": [
    {
     "data": {
      "text/html": [
       "\n",
       "        <table>\n",
       "            <tr>\n",
       "                <td><strong>Reaction identifier</strong></td><td>y300094</td>\n",
       "            </tr><tr>\n",
       "                <td><strong>Name</strong></td><td>Propionyl-CoA carboxylase</td>\n",
       "            </tr><tr>\n",
       "                <td><strong>Memory address</strong></td>\n",
       "                <td>0x01da06f0d2e0</td>\n",
       "            </tr><tr>\n",
       "                <td><strong>Stoichiometry</strong></td>\n",
       "                <td>\n",
       "                    <p style='text-align:right'>s_0437 + s_3720 <=> s_0397 + s_3726</p>\n",
       "                    <p style='text-align:right'>ATP + Propionyl-CoA[m] <=> ADP + (S)-Methylmalonyl-CoA[m]</p>\n",
       "                </td>\n",
       "            </tr><tr>\n",
       "                <td><strong>GPR</strong></td><td></td>\n",
       "            </tr><tr>\n",
       "                <td><strong>Lower bound</strong></td><td>-1000.0</td>\n",
       "            </tr><tr>\n",
       "                <td><strong>Upper bound</strong></td><td>1000.0</td>\n",
       "            </tr>\n",
       "        </table>\n",
       "        "
      ],
      "text/plain": [
       "<Reaction y300094 at 0x1da06f0d2e0>"
      ]
     },
     "execution_count": 57,
     "metadata": {},
     "output_type": "execute_result"
    }
   ],
   "source": [
    "yali.reactions.y300094"
   ]
  },
  {
   "cell_type": "code",
   "execution_count": 58,
   "id": "e3117891",
   "metadata": {},
   "outputs": [],
   "source": [
    "reaction12 = Reaction('y300095')\n",
    "reaction12.name = 'Methylmalonyl-CoA epimerase'\n",
    "reaction12.subsystem = 'Cell Methylmalonyl Pathway'\n",
    "reaction12.lower_bound = -1000. # This is the default\n",
    "reaction12.upper_bound = 1000. # This is the default"
   ]
  },
  {
   "cell_type": "code",
   "execution_count": 59,
   "id": "67f57e58",
   "metadata": {},
   "outputs": [],
   "source": [
    "rmethylma_m = Metabolite(\n",
    "'s_3727',\n",
    "formula='C25H40N7O19P3S',\n",
    "name='(R)-Methylmalonyl-CoA[m]',\n",
    "compartment='m')"
   ]
  },
  {
   "cell_type": "code",
   "execution_count": 60,
   "id": "6dad9a43",
   "metadata": {},
   "outputs": [
    {
     "data": {
      "text/plain": [
       "'s_3726 <=> s_3727'"
      ]
     },
     "execution_count": 60,
     "metadata": {},
     "output_type": "execute_result"
    }
   ],
   "source": [
    "reaction12.add_metabolites({\n",
    "smethylma_m: -1.0,\n",
    "rmethylma_m: 1.0,\n",
    "})\n",
    "reaction12.reaction"
   ]
  },
  {
   "cell_type": "code",
   "execution_count": 61,
   "id": "e3cf53da",
   "metadata": {},
   "outputs": [],
   "source": [
    "yali.add_reactions([reaction12])"
   ]
  },
  {
   "cell_type": "code",
   "execution_count": 62,
   "id": "325d44f2",
   "metadata": {},
   "outputs": [
    {
     "data": {
      "text/html": [
       "\n",
       "        <table>\n",
       "            <tr>\n",
       "                <td><strong>Reaction identifier</strong></td><td>y300095</td>\n",
       "            </tr><tr>\n",
       "                <td><strong>Name</strong></td><td>Methylmalonyl-CoA epimerase</td>\n",
       "            </tr><tr>\n",
       "                <td><strong>Memory address</strong></td>\n",
       "                <td>0x01da06ef8670</td>\n",
       "            </tr><tr>\n",
       "                <td><strong>Stoichiometry</strong></td>\n",
       "                <td>\n",
       "                    <p style='text-align:right'>s_3726 <=> s_3727</p>\n",
       "                    <p style='text-align:right'>(S)-Methylmalonyl-CoA[m] <=> (R)-Methylmalonyl-CoA[m]</p>\n",
       "                </td>\n",
       "            </tr><tr>\n",
       "                <td><strong>GPR</strong></td><td></td>\n",
       "            </tr><tr>\n",
       "                <td><strong>Lower bound</strong></td><td>-1000.0</td>\n",
       "            </tr><tr>\n",
       "                <td><strong>Upper bound</strong></td><td>1000.0</td>\n",
       "            </tr>\n",
       "        </table>\n",
       "        "
      ],
      "text/plain": [
       "<Reaction y300095 at 0x1da06ef8670>"
      ]
     },
     "execution_count": 62,
     "metadata": {},
     "output_type": "execute_result"
    }
   ],
   "source": [
    "yali.reactions.y300095"
   ]
  },
  {
   "cell_type": "code",
   "execution_count": 63,
   "id": "13bb0ffa",
   "metadata": {},
   "outputs": [],
   "source": [
    "reaction13 = Reaction('y300096')\n",
    "reaction13.name = '(R)-Methylmalonyl-CoA CoA-carbonylmutase'\n",
    "reaction13.subsystem = 'Cell Methylmalonyl Pathway'\n",
    "reaction13.lower_bound = -1000. # This is the default\n",
    "reaction13.upper_bound = 1000. # This is the default"
   ]
  },
  {
   "cell_type": "code",
   "execution_count": 64,
   "id": "e493aacd",
   "metadata": {},
   "outputs": [],
   "source": [
    "succi_m = Metabolite(\n",
    "'s_1464')"
   ]
  },
  {
   "cell_type": "code",
   "execution_count": 65,
   "id": "82eff8a8",
   "metadata": {},
   "outputs": [
    {
     "data": {
      "text/plain": [
       "'s_3727 <=> s_1464'"
      ]
     },
     "execution_count": 65,
     "metadata": {},
     "output_type": "execute_result"
    }
   ],
   "source": [
    "reaction13.add_metabolites({\n",
    "rmethylma_m: -1.0,\n",
    "succi_m: 1.0,\n",
    "})\n",
    "reaction13.reaction"
   ]
  },
  {
   "cell_type": "code",
   "execution_count": 66,
   "id": "c55be7ab",
   "metadata": {},
   "outputs": [],
   "source": [
    "yali.add_reactions([reaction13])"
   ]
  },
  {
   "cell_type": "code",
   "execution_count": 67,
   "id": "51a120bc",
   "metadata": {},
   "outputs": [
    {
     "data": {
      "text/html": [
       "\n",
       "        <table>\n",
       "            <tr>\n",
       "                <td><strong>Reaction identifier</strong></td><td>y300096</td>\n",
       "            </tr><tr>\n",
       "                <td><strong>Name</strong></td><td>(R)-Methylmalonyl-CoA CoA-carbonylmutase</td>\n",
       "            </tr><tr>\n",
       "                <td><strong>Memory address</strong></td>\n",
       "                <td>0x01da7fdf7160</td>\n",
       "            </tr><tr>\n",
       "                <td><strong>Stoichiometry</strong></td>\n",
       "                <td>\n",
       "                    <p style='text-align:right'>s_3727 <=> s_1464</p>\n",
       "                    <p style='text-align:right'>(R)-Methylmalonyl-CoA[m] <=> succinyl-CoA</p>\n",
       "                </td>\n",
       "            </tr><tr>\n",
       "                <td><strong>GPR</strong></td><td></td>\n",
       "            </tr><tr>\n",
       "                <td><strong>Lower bound</strong></td><td>-1000.0</td>\n",
       "            </tr><tr>\n",
       "                <td><strong>Upper bound</strong></td><td>1000.0</td>\n",
       "            </tr>\n",
       "        </table>\n",
       "        "
      ],
      "text/plain": [
       "<Reaction y300096 at 0x1da7fdf7160>"
      ]
     },
     "execution_count": 67,
     "metadata": {},
     "output_type": "execute_result"
    }
   ],
   "source": [
    "yali.reactions.y300096"
   ]
  },
  {
   "cell_type": "code",
   "execution_count": 68,
   "id": "92fee817",
   "metadata": {},
   "outputs": [],
   "source": [
    "#yali.optimize()"
   ]
  },
  {
   "cell_type": "code",
   "execution_count": 69,
   "id": "03ce701e",
   "metadata": {},
   "outputs": [],
   "source": [
    "#yali.objective='xBIOMASS'#'y001882' #yali.reactions.xBIOMASS\n",
    "#solution = yali.optimize()\n",
    "#print(solution.fluxes)\n",
    "#flux = solution.fluxes"
   ]
  },
  {
   "cell_type": "code",
   "execution_count": 70,
   "id": "5bad7b43",
   "metadata": {},
   "outputs": [],
   "source": [
    "#mylistsolu = []\n",
    "#mylistsolu = list(flux)\n",
    "#react = yali.reactions\n",
    "#mylistreactions = []\n",
    "#mylistreactions = list(react)\n",
    "#dictionary = dict(zip(mylistreactions, mylistsolu))\n",
    "#df = pd.DataFrame(data=dictionary, index=[0])\n",
    "#df = (df.T)\n",
    "#df.to_excel('newpathway.xlsx')"
   ]
  },
  {
   "cell_type": "code",
   "execution_count": 71,
   "id": "8b72e337",
   "metadata": {},
   "outputs": [],
   "source": [
    "#cobra.io.json.save_json_model(yali, 'yalinewpathways.json')"
   ]
  },
  {
   "cell_type": "code",
   "execution_count": 72,
   "id": "7010ddc6",
   "metadata": {},
   "outputs": [],
   "source": [
    "#cobra.io.write_sbml_model(yali, \"yalinewpathways.xml\")"
   ]
  }
 ],
 "metadata": {
  "kernelspec": {
   "display_name": "Python 3 (ipykernel)",
   "language": "python",
   "name": "python3"
  },
  "language_info": {
   "codemirror_mode": {
    "name": "ipython",
    "version": 3
   },
   "file_extension": ".py",
   "mimetype": "text/x-python",
   "name": "python",
   "nbconvert_exporter": "python",
   "pygments_lexer": "ipython3",
   "version": "3.8.12"
  }
 },
 "nbformat": 4,
 "nbformat_minor": 5
}
