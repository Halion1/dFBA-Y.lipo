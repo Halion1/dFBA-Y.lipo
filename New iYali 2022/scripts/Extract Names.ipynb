{
 "cells": [
  {
   "cell_type": "code",
   "execution_count": 1,
   "id": "505d976f",
   "metadata": {},
   "outputs": [],
   "source": [
    "import pandas as pd"
   ]
  },
  {
   "cell_type": "code",
   "execution_count": 3,
   "id": "3a37b2f3",
   "metadata": {},
   "outputs": [
    {
     "name": "stdout",
     "output_type": "stream",
     "text": [
      "                                                 Name1\n",
      "0              1-pyrroline-5-carboxylate dehydrogenase\n",
      "1    3-hydroxyacyl-CoA dehydrogenase (3-oxotetradec...\n",
      "2                                     adenylate kinase\n",
      "3                                     adenylate kinase\n",
      "4      alcohol dehydrogenase (ethanol to acetaldehyde)\n",
      "..                                                 ...\n",
      "383                        (S)3-methyl-2-oxopentanoate\n",
      "384  (S)-2-methylbutanoyl-CoA:acceptor 2,3-oxidored...\n",
      "385  (2S,3S)-3-Hydroxy-2-methylbutanoyl-CoA hydro-l...\n",
      "386  (2S,3S)-3-hydroxy-2-methylbutanoyl-CoA:NAD+ ox...\n",
      "387  Acetyl-CoA:propanoyl-CoA 2-C-acetyltransferase...\n",
      "\n",
      "[388 rows x 1 columns]\n"
     ]
    }
   ],
   "source": [
    "df1 = pd.read_csv ('Libro1.csv')\n",
    "print (df1)"
   ]
  },
  {
   "cell_type": "code",
   "execution_count": 4,
   "id": "f590df93",
   "metadata": {},
   "outputs": [
    {
     "name": "stdout",
     "output_type": "stream",
     "text": [
      "                                                  Name2\n",
      "0                                Amino acid composition\n",
      "1                                    Biomass production\n",
      "2                                           Lipids pool\n",
      "3              Non-growth associated maintenance (NGAM)\n",
      "4                                        Acyl-CoAs pool\n",
      "...                                                 ...\n",
      "1919  2'-Deoxyinosine-5'-triphosphate pyrophosphohyd...\n",
      "1920                        glycerol transport, mm - cy\n",
      "1921                                      EXC_OUT_m1803\n",
      "1922                                      EXC_OUT_m1826\n",
      "1923                                      EXC_OUT_m1824\n",
      "\n",
      "[1924 rows x 1 columns]\n"
     ]
    }
   ],
   "source": [
    "df2 = pd.read_csv ('Libro2.csv')\n",
    "print (df2)"
   ]
  },
  {
   "cell_type": "code",
   "execution_count": 5,
   "id": "3cfce4e8",
   "metadata": {},
   "outputs": [
    {
     "data": {
      "text/plain": [
       "['Name1']"
      ]
     },
     "execution_count": 5,
     "metadata": {},
     "output_type": "execute_result"
    }
   ],
   "source": [
    "list(set(df1) - set(df2))"
   ]
  },
  {
   "cell_type": "code",
   "execution_count": 6,
   "id": "357ae3dc",
   "metadata": {},
   "outputs": [
    {
     "data": {
      "text/plain": [
       "['Name2']"
      ]
     },
     "execution_count": 6,
     "metadata": {},
     "output_type": "execute_result"
    }
   ],
   "source": [
    "list(set(df2) - set(df1))"
   ]
  },
  {
   "cell_type": "code",
   "execution_count": 8,
   "id": "5dd72a11",
   "metadata": {},
   "outputs": [
    {
     "data": {
      "text/plain": [
       "{'Name1', 'Name2'}"
      ]
     },
     "execution_count": 8,
     "metadata": {},
     "output_type": "execute_result"
    }
   ],
   "source": [
    "set(df1) ^ set(df2)"
   ]
  },
  {
   "cell_type": "code",
   "execution_count": 9,
   "id": "aff27bf7",
   "metadata": {},
   "outputs": [],
   "source": [
    "import csv"
   ]
  },
  {
   "cell_type": "code",
   "execution_count": 10,
   "id": "9bd7ffc5",
   "metadata": {},
   "outputs": [
    {
     "name": "stdout",
     "output_type": "stream",
     "text": [
      "[('Name1',), ('1-pyrroline-5-carboxylate dehydrogenase',), ('3-hydroxyacyl-CoA dehydrogenase (3-oxotetradecanoyl-CoA)',), ('adenylate kinase',), ('adenylate kinase',), ('alcohol dehydrogenase (ethanol to acetaldehyde)',), ('mitochondrial alcohol dehydrogenase',), ('C-3 sterol dehydrogenase (4-methylzymosterol)',), ('dTMP kinase',), ('fatty-acid--CoA ligase (decanoate)',), ('fatty-acid--CoA ligase (dodecanoate)',), ('fatty-acid--CoA ligase (hexadecanoate)',), ('fatty-acid--CoA ligase (octanoate)',), ('fatty-acid--CoA ligase (tetradecanoate)',), ('formaldehyde dehydrogenase',), ('guanylate kinase',), ('hexokinase (D-fructose:ATP)',), ('isocitrate dehydrogenase (NAD+)',), ('isocitrate dehydrogenase (NADP)',), ('isocitrate dehydrogenase (NADP+), peroxisomal',), ('L-1-pyrroline-3-hydroxy-5-carboxylate dehydrogenase',), ('malic enzyme (NAD)',), ('NAD synthase',), ('nucleoside diphosphate kinase',), ('nucleoside diphosphate kinase',), ('nucleoside diphosphate kinase',), ('nucleoside diphosphate kinase',), ('nucleoside diphosphate kinase',), ('nucleoside diphosphate kinase',), ('nucleoside diphosphate kinase',), ('nucleoside-diphosphate kinase (ATP:UDP)',), ('phosphoribosyl amino imidazolesuccinocarbozamide synthetase',), ('succinate-CoA ligase (ADP-forming)',), ('UMP kinase',), ('UMP kinase',), ('uridylate kinase (dUMP)',), ('uridylate kinase (dUMP)',), ('carbon dioxide exchange',), ('cytidylate kinase (CMP)',), ('iron(2+) exchange',), ('potassium exchange',), ('sodium exchange',), ('fatty-acid--CoA ligase (dodecanoate), ER membrane',), ('fatty-acid--CoA ligase (tetradecanoate), ER membrane',), ('fatty-acid--CoA ligase (hexadecanoate), ER membrane',), ('fatty-acid--CoA ligase (hexadecenoate), ER membrane',), ('fatty-acid--CoA ligase (octadecanoate), ER membrane',), ('fatty-acid--CoA ligase (octadecenoate), ER membrane',), ('fatty-acid--CoA ligase (dodecanoate), lipid particle',), ('fatty-acid--CoA ligase (tetradecanoate), lipid particle',), ('fatty-acid--CoA ligase (hexadecanoate), lipid particle',), ('fatty-acid--CoA ligase (hexadecenoate), lipid particle',), ('fatty-acid--CoA ligase (octadecanoate), lipid particle',), ('fatty-acid--CoA ligase (octadecenoate), lipid particle',), ('fatty-acid--CoA ligase (hexadecenoate), peroxisome',), ('fatty-acid--CoA ligase (octadecanoate), peroxisome',), ('fatty-acid--CoA ligase (octadecenoate), peroxisome',), ('fatty-acid--CoA ligase (arachidate), cell envelope',), ('fatty-acid--CoA ligase (behenate), cell envelope',), ('fatty-acid--CoA ligase (lignoceric acid), cell envelope',), ('fatty-acid--CoA ligase (cerotic acid), cell envelope',), ('fatty-acid--CoA ligase (behenate), ER membrane',), ('fatty-acid--CoA ligase (lignoceric acid), ER membrane',), ('fatty-acid--CoA ligase (cerotic acid), ER membrane',), ('fatty-acid--CoA ligase (behenate), lipid particle',), ('fatty-acid--CoA ligase (lignoceric acid), lipid particle',), ('fatty-acid--CoA ligase (cerotic acid), lipid particle',), ('3-hydroxyacyl-CoA dehydrogenase (3-oxodecanoyl-CoA)',), ('3-hydroxyacyl-CoA dehydrogenase (3-oxododecanoyl-CoA)',), ('3-hydroxyacyl-CoA dehydrogenase (3-oxohexadecanoyl-CoA)',), ('3-hydroxyacyl-CoA dehydrogenase (3-oxooctadecanoyl-CoA)',), ('3-hydroxyacyl-CoA dehydrogenase (3-oxohexacosanoyl-CoA)',), ('lysoPE acyltransferase, lipid particle',), ('xBIOMASS',), ('long-chain alcohol dehydrogenase (C16)',), ('fatty-acid--CoA ligase (octadecadienoate), ER membrane',), ('fatty-acid--CoA ligase (octadecadienoate), lipid particle',), ('fatty-acid--CoA ligase (octadecadienoate), peroxisome',), ('long-chain aldehyde dehydrogenase (C12)',), ('long-chain aldehyde dehydrogenase (C16)',), ('D-Arabitol transport',), ('D-Arabitol exchange',), ('2-Deoxy-D-Ribose transport',), ('2-Deoxy-D-Ribose exchange',), ('Palatinose exchange',), ('Palatinose hydrolase',), ('Salicin exchange',), ('Salicin transport via  proton symport',), ('Salicin 6-phosphate glucohydrolase',), ('5-aminopentanoate transport via  proton symport',), ('5-aminopentanoate exchange',), ('5-aminopentanoate:2-oxoglutarate aminotransferase',), ('D-glucosamine exchange',), ('D-glucosamine transport via diffusion',), ('(R)-3-Hydroxybutanoate exchange',), ('(R)-3-Hydroxybutanoate transport via H+ symport',), ('Acetoacetate transport',), ('(R)-3-Hydroxybutanoate:NAD+ oxidoreductase',), ('5-dehydro-D-gluconate exchange',), ('5-Dehydro-D-gluconate transport via proton symport',), ('D-Gluconate:NADP+ 5-oxidoreductase',), ('malonate exchange',), ('malonate transport',), ('Acetyl-CoA:malonate CoA-transferase',), ('malonyl-CoA:pyruvate carboxytransferase',), ('3-oxalomalate(3-) exchange',), ('3-Oxalomalate transport via proton symport',), ('3-oxalomalate glyoxylate-lyase (oxaloacetate-forming)',), ('Dihydroxy-Acetone exchange',), ('Dihydroxy-Acetone transport',), ('Dihydroxyacetone kinase',), ('N-Acetyl-D-Glucosamine exchange',), ('N-Acetyl-D-Glucosamine transport',), ('N-Acetyl-D-Glucosamine kinase',), ('D-gluconate exchange',), ('D-gluconate transport via diffusion',), ('2-oxobutanoate exchange',), ('2-oxobutanoate transport via proton symport',), ('Gly-Asp exchange',), ('Gly-Asp transport via proton antiport',), ('Gly-Asp transport via proton antiport',), ('cytosol nonspecific dipeptidase',), ('Propanoate exchange',), ('Propanoate transport',), ('Propanoate:CoA ligase (AMP-forming)',), ('Propanoate:CoA transport',), ('Gly-Glu exchange',), ('Gly-glu transport via proton antiport',), ('Gly-glu transport via proton antiport',), ('cytosol nonspecific dipeptidase',), ('Glycine transport (vacuole)',), ('Ala-Gly exchange',), ('Ala-Gly transport via proton antiport',), ('Ala-Gly transport via proton antiport',), ('cytosol nonspecific dipeptidase',), ('L-alanine transport (vacuole)',), ('Gly-Pro exchange',), ('Gly-Pro transport via proton antiport',), ('Gly-Pro transport via proton antiport',), ('cytosol nonspecific dipeptidase',), ('proline transport (vacuole)',), ('ATP:D-arabinose 5-phosphotransferase',), ('D-arabinose-5-phosphate aldose-ketose-isomerase',), ('fatty-acid--CoA ligase (butyrate)',), ('fatty acid transport',), ('Reaction',), ('Reaction',), ('1D-myo-inositol 1-phosphate transport',), ('Reaction',), ('phosphatidylcholine transport',), ('phosphatidylcholine transport',), ('phosphatidylethanolamine transport',), ('phosphatidyl-L-serine transport',), ('phosphatidyl-L-serine transport',), ('phosphatidylethanolamine transport',), ('L-histidine transport',), ('L-lysine transport',), ('UDP-D-galactose transport',), ('glyoxylate/hydroxypyruvate reductase',), ('glucose 1-dehydrogenase',), ('Magnesium transport',), ('Magnesium exchange',), ('NADH:ubiquinone oxidoreductase',), ('NADH:ubiquinone oxidoreductase',), ('4-aminobutanal:NAD+ 1-oxidoreductase; 4-aminobutyraldehyde:NAD+ oxidoreductase',), ('Spermidine:(acceptor) oxidoreductase',), ('4-aminobutanoate:2-oxoglutarate aminotransferase',), ('Succinate-semialdehyde:NADP+ oxidoreductase',), ('3-aminopropanal:NAD+ oxidoreductase',), ('D-Glyceraldehyde:NAD+ oxidoreductase',), ('Acetaldehyde:NAD+ oxidoreductase',), ('Indole-3-acetaldehyde:NAD+ oxidoreductase',), ('3-(indol-3-yl)pyruvate carboxy-lyase [(2-indol-3-yl)acetaldehyde-forming]',), ('L-Tryptophan:2-oxoglutarate aminotransferase',), ('(S)-Methylmalonate semialdehyde:NAD+ oxidoreductase',), ('(R)-Methylmalonyl-CoA CoA-carbonylmutase',), ('NO NAME',), ('Succinyl-CoA transport',), ('3-aminopropanal:NAD+ oxidoreductase',), ('D-Glyceraldehyde:NAD+ oxidoreductase',), ('ATP:ethanolamine O-phosphotransferase',), ('L-Glutamate:ammonia ligase (ADP-forming)',), ('3-Methylbutanoyl-CoA:(acceptor) 2,3-oxidoreductase',), ('3-Methylcrotonyl-CoA transport',), ('3-Methylbutanoyl-CoA transport',), ('UMP:diphosphate phospho-alpha-D-ribosyltransferase',), ('(S)-Lactate:ferricytochrome-c 2-oxidoreductase',), ('2-phenylacetamide amidohydrolase',), ('Indole-3-acetamide amidohydrolase',), ('D-glyceraldehyde-3-phosphate aldose-ketose-isomerase',), ('ATP:glycerone phosphotransferase',), ('Glyceron phosphate transport',), ('[1,4-(N-Acetyl-beta-D-glucosaminyl)]n glycanohydrolase',), ('ATP:(R)-glycerate 3-phosphotransferase',), ('S-Adenosyl-L-methionine:catechol O-methyltransferase',), ('4-(2-Aminoethyl)-1,2-benzenediol:oxygen oxidoreductase(deaminating)(flavin-containing)',), ('3,4-Dihydroxyphenylacetaldehyde:NAD+ oxidoreductase',), ('S-Adenosyl-L-methionine:catechol O-methyltransferase',), ('S-Adenosyl-L-methionine:catechol O-methyltransferase',), ('3,4-Dihydroxymandelaldehyde:NAD+ oxidoreductase',), ('3,4-dihydroxyphenylethyleneglycol:NAD+ oxidoreductase',), ('Dolichyl phosphate D-mannose transport',), ('GDPmannose:dolichyl-phosphate O-beta-D-mannosyltransferase',), ('GDP-mannose transport',), ('GDP transport',), ('UDP-N-Acetyl-D-glucosamine:N-acetyl-D-glucosaminyl diphosphodolichol N-acetyl-D-glucosaminyltransferase',), ('UDP-N-Acetyl-D-glucosamine:dolichyl-phosphate N-Acetyl-D-glucosamine phosphotransferase',), ('UDP-N-acetyl-alpha-D-glucosamine transport',), ('UTP:N-acetyl-alpha-D-glucosamine-1-phosphate uridylyltransferase',), ('N-Acetyl-D-glucosamine 1-phosphate 1,6-phosphomutase',), ('UMP transport',), ('UDP transport',), ('(S)-Methylmalonate semialdehyde:NAD+ oxidoreductase (CoA-propanoylating)',), ('Propanoyl-CoA transport',), ('3-Hydroxy-2-methylpropanoate:NAD+ oxidoreductase',), ('(S)-3-Hydroxyisobutyryl-CoA hydrolase',), ('(S)-3-Hydroxyisobutyryl-CoA hydro-lyase',), ('2-methylpropanoyl-CoA:(acceptor) 2,3-oxidoreductase',), ('2-Methylpropanoyl-CoA transport',), ('3-Oxopropanoate:NAD+ oxidoreductase (decarboxylating, CoA-acetylating)',), ('beta-alanine:2-oxoglutarate aminotransferase',), ('3-Oxopropanoate:NADP+ oxidoreductase (CoA-malonylating)',), ('primary-amine oxidase',), ('Phenethylamine:oxygen oxidoreductase (deaminating)',), ('Ceramide-1 synthase (26C)',), ('Sphinganine transport',), ('Ceramide-1 (Sphinganine:n-C26:0) transport',), ('Ceramide-1 synthase (24C)',), ('Ceramide-1 (Sphinganine:n-C24:0) transport',), ('Ceramide-2 synthase (24C)',), ('Phytosphingosine transport',), ('Ceramide-2 (Phytosphingosine:n-C24:0) transport',), ('Ceramide-2 synthase (26C)',), ('Ceramide-2 (Phytosphingosine:n-C26:0) transport',), ('acyl-CoA:sphingosine N-acyltransferase',), ('AC-CoA transport',), ('dihydroceramide, NADPH: oxygen oxidoreductase',), ('UDP-D-glucuronate carboxy-lyase',), ('UDPglucose:dolichyl-phosphate beta-D-glucosyltransferase',), ('UDP-glucose transport',), ('No name',), ('3-Hydroxypropionyl-CoA hydro-lyase',), ('propanoyl-CoA:electron-transfer flavoprotein 2,3-oxidoreductase',), ('Inositol phosphorylceramide synthase (ceramide-1, 24C), yeast-specific',), ('phosphatidate transport',), ('diacylglycerol pyrophosphate phosphatase, yeast-specific',), ('mannose-inositiol phophorylceramide synthase (ceramide-1, 24C), yeast-specific',), ('mannosylinositol phosphorylceramide A (C24)_C54H106NO16P transport',), ('Inositol phosphorylceramide synthase (ceramide-1, 26C), yeast-specific',), ('mannose-inositol phosphorylceramide synthase (ceramide-1, 26C), yeast-specific',), ('mannosylinositol phosphorylceramide A (C26)_C56H110NO16P transport',), ('Inositol phosphorylceramide synthase (ceramide-2, 24C), yeast-specific',), ('mannose-inositol phosphorylceramide synthase (ceramide-2, 24C), yeast-specific',), ('mannosylinositol phosphorylceramide B (C24)_C54H106NO17P transport',), ('Inositol phosphoryceramide synthase (ceramide-2, 26C), yeast-specific',), ('mannose-inositol phosphorylceramide synthase (ceramide-2, 26C), yeast-specific',), ('mannosylinositol phosphorylceramide B (C26)_C56H110NO17P transport',), ('Inositol phosphorylceramide synthase (ceramide-3, 24C), yeast-specific',), ('Ceramide-3 (Phytosphingosine:n-C24:0OH) trasnport',), ('mannose-inositol phosphorylceramide synthase (ceramide-3, 24C), yeast-specific',), ('mannosylinositol phosphorylceramide C (C24)_C54H106NO18P transport',), ('Inositol phosphorylceramide synthase (ceramide-3, 26C), yeast-specific',), ('mannose-inositol phosphorylceramide synthase (ceramide-3, 26C), yeast-specific',), ('mannosylinositol phosphorylceramide C (C26)_C56H110NO18P transport',), ('Ceramide-3 (Phytosphingosine:n-C26:0OH)transport',), ('Triacyglycerol synthesis',), ('Hexadecenoyl-CoA transport',), ('Decanoyl-CoA transport',), ('acyl-CoA:1,2-diacyl-sn-glycerol O-acyltransferase',), ('1,2-Diacyl-sn-glycerol transport',), ('Triacylglycerol transport',), ('1-Phosphatidyl-D-myo-inositol inositolphosphohydrolase',), ('Glycolate:oxygen 2-oxidoreductase',), ('Glycolate:oxygen 2-oxidoreductase',), ('Glycolate transport',), ('Glycolate transport',), ('L-Citrulline:L-aspartate ligase (AMP-forming)',), ('Dolichyl-diphosphate phosphohydrolase',), ('NO NAME',), ('Geranyl-diphosphate:isopentenyl-diphosphate geranyltrans-transferase',), ('(2E,6E)-farnesyl-diphosphate:isopentenyl-diphosphate cistransferase (adding 10-55 isopentenyl units)',), ('Dolichyl-diphosphate phosphohydrolase',), ('Dolichyl diphosphate transport',), ('Agmatine amidinohydrolase',), ('1,4-alpha-D-Glucan glucohydrolase',), ('1,4-alpha-D-Glucan:1,4-alpha-D-glucan 6-alpha-D-(1,4-alpha-D-glucano)-transferase',), ('UDP-glucose:glycogen 4-alpha-D-glucosyltransferase',), ('Phosphatidyl-N-methylethanolamine N-methyltransferase, yeast-specific',), ('NO NAME',), ('Pyridoxine:NADP+ 4-oxidoreductase',), ('D-arabinitol:NAD+ 2-oxidoreductase',), ('NO NAME',), ('Phenylacetaldehyde:NAD+ oxidoreductase',), ('iron (II) transport',), ('triacylglycerol acylhydrolase',), ('L-Cysteine:oxygen oxidoreductase',), ('3-sulfino-L-alanine:2-oxoglutarate aminotransferase',), ('NO NAME',), ('O3-acetyl-L-serine:thiosulfate 2-amino-2-carboxyethyltransferase (reducing, L-cysteine-forming); O3-acetyl-L-serine acetate-lyase (thiosulfate-reducing, L-cysteine-forming)',), ('L-Cysteine:2-oxoglutarate aminotransferase',), ('L-cysteinylglycine dipeptidase',), ('glutathione gamma-glutamylaminopeptidase',), ('carbonate hydro-lyase (carbon-dioxide-forming); carbonic acid hydro-lyase',), ('3-Mercaptopyruvate:cyanide sulfurtransferase',), ('L-methionine:oxidized-thioredoxin S-oxidoreductase',), ('glycine:oxygen oxidoreductase;Aminoacetic acid:oxygen oxidoreductase',), ('Ferrocytochrome-c:oxygen oxidoreductase',), ('nitrilase',), ('Indole_3_acetonitrile exchange',), ('Indole_3_acetonitrile transport',), ('nitrilase',), ('alpha_Aminopropiononitrile exchange',), ('alpha_Aminopropiononitrile transport',), ('nitrilase',), ('gamma_Amino_gamma_cyanobutanoate exchange',), ('gamma_Amino_gamma_cyanobutanoate transport',), ('fatty acyl ACP mitochondrial transport',), ('fatty acyl ACP hydrolase',), ('fatty acyl ACP synthase n C100ACP mitochondrial',), ('fatty acyl ACP mitochondrial transport',), ('fatty acyl ACP hydrolase',), ('fatty acyl ACP synthase n C120ACP mitochondrial',), ('fatty acyl ACP mitochondrial transport',), ('fatty acyl ACP hydrolase',), ('fatty acyl ACP synthase n C140ACP mitochondrial',), ('fatty acyl ACP mitochondrial transport',), ('fatty acyl ACP hydrolase',), ('fatty acyl ACP synthase n C141ACP mitochondrial',), ('fatty acyl ACP mitochondrial transport',), ('fatty acyl ACP hydrolase',), ('fatty acyl ACP synthase n C160ACP mitochondrial',), ('fatty acyl ACP mitochondrial transport',), ('fatty acyl ACP hydrolase',), ('fatty acyl ACP synthase n C161ACP mitochondrial',), ('fatty acyl ACP mitochondrial transport',), ('fatty acyl ACP hydrolase',), ('fatty acyl ACP mitochondrial transport',), ('fatty acyl ACP hydrolase',), ('fatty acyl ACP mitochondrial transport',), ('fatty acyl ACP hydrolase',), ('fatty acyl ACP mitochondrial transport',), ('fatty acyl ACP hydrolase',), ('2 octaprenyl 6 hydroxyphenol methylase nuclear',), ('S_Adenosyl_L_methionine transport',), ('S_Adenosyl_L_methionine transport',), ('S_Adenosyl_L_homocysteine transport',), ('S_Adenosyl_L_homocysteine transport',), ('Octaprenyl hydroxybenzoate decarboxylase',), ('2 Octaprenylphenol hydroxylase',), ('2 Octaprenyl 6 hydroxyphenol nuclear transport',), ('Hydroxybenzoate octaprenyltransferase',), ('amidase',), ('amidase',), ('Aldehyde dehydrogenase (hydroxy-decanoate)',), ('decanoate hydroxylase',), ('Fatty alcohol oxidase (decanoate)',), ('Decanedioate extracellular transport',), ('Aldehyde dehydrogenase (hydroxy-dodecanoate)',), ('Dodecanoate hydroxylase',), ('Fatty alcohol oxidase (dodecanoate)',), ('Dodecanedioate peroxisomal transport',), ('Aldehyde dehydrogenase (hydroxy-hexadecanoate)',), ('Hexadecanoate hydroxylase',), ('Fatty alcohol oxidase (hexadecanoate)',), ('Hexadecanedioate peroxisomal transport',), ('Octanoyl_CoA__n_C80CoA Transport',), ('Decanoyl_CoA__n_C100CoA Transport',), ('Dodecanoyl_CoA__n_C120CoA Transport',), ('acetyl CoA synthetase',), ('Acetate transport',), ('pyridoxal exchange',), ('pyridoxal transport',), ('hexadecane exchange',), ('triolein exchange',), ('triolein hydrolysis',), ('tributyrin exchange',), ('D-Limonene synthase',), ('D-Limonene transport',), ('D-Limonene exchange',), ('3-dehydroshikimate transport',), ('3-dehydroshikimate exchange',), ('newBiom',), ('biomass_C',), ('Leucine transport',), ('(S)3-methyl-2-oxopentanoate',), ('(S)-2-methylbutanoyl-CoA:acceptor 2,3-oxidoreductase',), ('(2S,3S)-3-Hydroxy-2-methylbutanoyl-CoA hydro-liase',), ('(2S,3S)-3-hydroxy-2-methylbutanoyl-CoA:NAD+ oxidoreductase',), ('Acetyl-CoA:propanoyl-CoA 2-C-acetyltransferase; 2-methylacetoacetyl-CoA thiolase',)]\n"
     ]
    }
   ],
   "source": [
    "with open('Libro1.csv', newline='') as f:\n",
    "    reader = csv.reader(f)\n",
    "    data = [tuple(row) for row in reader]\n",
    "\n",
    "print(data)"
   ]
  },
  {
   "cell_type": "code",
   "execution_count": 11,
   "id": "f8df487b",
   "metadata": {},
   "outputs": [
    {
     "name": "stdout",
     "output_type": "stream",
     "text": [
      "[('Name2',), ('Amino acid composition',), ('Biomass production',), ('Lipids pool',), ('Non-growth associated maintenance (NGAM)',), ('Acyl-CoAs pool',), ('Acyl-CoAs pool',), ('Acyl-CoAs pool',), ('Fatty acids pool',), ('Fatty acids pool',), ('Fatty acids pool',), ('Fatty acids pool',), ('Fatty acids pool',), ('(R)-lactate:ferricytochrome-c 2-oxidoreductase',), ('(R)-lactate:ferricytochrome-c 2-oxidoreductase',), ('(S)-lactate:ferricytochrome-c 2-oxidoreductase',), ('1,3-beta-glucan synthase',), ('1,6-beta-glucan synthase',), ('1-(5-phosphoribosyl)-5-[(5-phosphoribosylamino)methylideneamino)imidazole-4-carboxamide isomerase',), ('1-acyl-sn-gylcerol-3-phosphate acyltransferase',), ('1-acyl-sn-gylcerol-3-phosphate acyltransferase',), ('1-phosphatidylinositol-3-phosphate 5-kinase',), ('1-pyrroline-5-carboxylate dehydrogenase',), ('2,3-diketo-5-methylthio-1-phosphopentane degradation reaction',), (\"2,5-diamino-6-ribitylamino-4(3H)-pyrimidinone 5'-phosphate deaminase\",), (\"2,5-diamino-6-ribosylamino-4(3H)-pyrimidinone 5'-phosphate reductase (NADPH)\",), ('2-aceto-2-hydroxybutanoate synthase',), ('2-amino-4-hydroxy-6-hydroxymethyldihydropteridine diphosphokinase',), ('2-aminoadipate transaminase',), ('2-dehydropantoate 2-reductase',), ('2-deoxy-D-arabino-heptulosonate 7-phosphate synthetase',), ('2-hexaprenyl-6-methoxy-1,4-benzoquinone methyltransferase',), ('2-hexaprenyl-6-methoxyphenol monooxygenase',), ('2-isopropylmalate hydratase',), ('2-isopropylmalate synthase',), ('2-isopropylmalate synthase',), ('2-methylcitrate dehydratase',), ('2-methylcitrate synthase',), ('2-oxo-4-methyl-3-carboxypentanoate decarboxylation',), ('2-oxo-4-methyl-3-carboxypentanoate decarboxylation',), (\"3',5'-bisphosphate nucleotidase\",), (\"3',5'-cyclic-nucleotide phosphodiesterase\",), (\"3',5'-cyclic-nucleotide phosphodiesterase\",), (\"3',5'-cyclic-nucleotide phosphodiesterase\",), (\"3',5'-cyclic-nucleotide phosphodiesterase\",), (\"3',5'-cyclic-nucleotide phosphodiesterase\",), ('3,4-dihydroxy-2-butanone-4-phosphate synthase',), ('3-dehydroquinate dehydratase',), ('3-dehydroquinate synthase',), ('3-dehydrosphinganine reductase',), ('3-deoxy-D-arabino-heptulosonate 7-phosphate synthetase',), ('3-hydroxy-L-kynurenine hydrolase',), ('3-hydroxyacyl-CoA dehydrogenase (3-oxotetradecanoyl-CoA)',), ('3-hydroxyanthranilate 3,4-dioxygenase',), ('3-isopropylmalate dehydratase',), ('3-isopropylmalate dehydrogenase',), ('3-methyl-2-oxobutanoate decarboxylase',), ('3-methyl-2-oxobutanoate hydroxymethyltransferase',), ('3-methyl-2-oxopentanoate decarboxylase',), ('3-phosphoshikimate 1-carboxyvinyltransferase',), ('4-amino-4-deoxychorismate synthase',), ('4-aminobenzoate synthase',), ('4-aminobutyrate transaminase',), ('4-hydroxy-L-threonine synthase',), ('4-methyl-2-oxopentanoate decarboxylase',), ('4PP-IP5 depyrophosphorylation to IP6',), ('4PP-IP5 pyrophosphorylation to 4,5-PP2-IP4',), (\"5'-methylthioadenosine phosphorylase\",), (\"5'-nucleotidase (CMP)\",), (\"5'-nucleotidase (IMP)\",), (\"5'-nucleotidase (UMP)\",), (\"5'-phosphoribosylformyl glycinamidine synthetase\",), ('5,10-methylenetetrahydrofolate reductase (NADPH)',), ('5-aminolevulinate synthase',), ('5-diphosphoinositol-1,2,3,4,6-pentakisphosphate diphosphohydrolase',), ('5-diphosphoinositol-1,2,3,4,6-pentakisphosphate synthase',), ('5-formethyltetrahydrofolate cyclo-ligase',), ('5-methyltetrahydropteroyltriglutamate-homocysteine S-methyltransferase',), ('5-methylthio-5-deoxy-D-ribulose 1-phosphate dehydratase',), ('5-methylthioribose-1-phosphate isomerase',), ('5PP-IP5 pyrophosphorylation to 4,5-PP2-IP4',), ('5PP-IP5 pyrophosphorylation to 5,6-PP2-IP4',), ('6-phosphofructo-2-kinase',), ('6-phosphogluconolactonase',), ('6PP-IP5 depyrophosphorylation to IP6',), ('6PP-IP5 pyrophosphorylation to 5,6-PP2-IP4',), ('acetaldehyde condensation',), ('acetohydroxy acid isomeroreductase',), ('acetolactate synthase',), ('acetyl-CoA ACP transacylase',), ('acetyl-CoA C-acyltransferase (palmitoyl-CoA)',), ('acetyl-CoA C-acyltransferase (tetracosanoyl-CoA)',), ('acetyl-CoA C-acyltransferase (myristoyl-CoA)',), ('acetyl-CoA C-acetyltransferase',), ('acetyl-CoA C-acetyltransferase',), ('acetyl-CoA C-acyltransferase (lauroyl-CoA)',), ('acetyl-CoA C-acyltransferase (octanoyl-CoA)',), ('acetyl-CoA C-acyltransferase (decanoyl-CoA)',), ('acetyl-Coa carboxylase',), ('acetyl-CoA carboxylase, reaction',), ('acetyl-CoA hydrolase',), ('acetyl-CoA synthetase',), ('acetyl-CoA synthetase',), ('acetyl-CoA synthetase nuclear',), ('acetylglutamate kinase',), ('acid phosphatase (secreted)',), ('aconitase',), ('acteylornithine transaminase',), ('acyl-CoA oxidase (decanoyl-CoA)',), ('acyl-CoA oxidase (dodecanoyl-CoA)',), ('acyl-CoA oxidase (hexacosanoyl-CoA)',), ('acyl-CoA oxidase (hexadecanoyl-CoA)',), ('acyl-CoA oxidase (octadecanoyl-CoA)',), ('acyl-CoA oxidase (tetradecanoyl-CoA)',), ('acyl-CoA:sterol acyltransferase (oleoyl-CoA:ergosterol), ER membrane',), ('acyl-CoA:sterol acyltransferase (palmitoleoyl-CoA:ergosterol), ER membrane',), ('acylation of GPI inositol at 2 position, GPI-anchor assembly, step 3',), ('adenine phosphoribosyltransferase',), ('adenosine kinase',), ('adenosine monophosphate deaminase',), ('adenosylhomocysteinase',), ('adenosylmethionine decarboxylase',), ('adenosylmethionine-8-amino-7-oxononanoate transaminase',), ('adenylate cyclase',), ('adenylate kinase',), ('adenylate kinase',), ('adenylate kinase (GTP)',), ('adenylosuccinate lyase (AICAR)',), ('adenylosuccinate lyase',), ('adenylosuccinate synthase',), ('adenylyl-sulfate kinase',), ('ADP-ribose 2,3-cyclic phosphodiesterase',), ('alanine glyoxylate aminotransferase',), ('alanyl-tRNA synthetase',), ('alcohol dehydrogenase (ethanol to acetaldehyde)',), ('alcohol dehydrogenase (glycerol, NADP)',), ('mitochondrial alcohol dehydrogenase',), ('aldehyde dehydrogenase (2-methylbutanol, NAD)',), ('aldehyde dehydrogenase (2-methylbutanol, NAD)',), ('aldehyde dehydrogenase (2-methylbutanol, NADP)',), ('aldehyde dehydrogenase (2-phenylethanol, NAD)',), ('aldehyde dehydrogenase (2-phenylethanol, NAD)',), ('aldehyde dehydrogenase (3-aminopropanal, NAD)',), ('aldehyde dehydrogenase (acetaldehyde, NADP)',), ('aldehyde dehydrogenase (acetylaldehyde, NAD)',), ('aldehyde dehydrogenase (acetylaldehyde, NADP)',), ('aldehyde dehydrogenase (indole-3-acetaldehyde, NAD)',), ('aldehyde dehydrogenase (indole-3-acetaldehyde, NADP)',), ('aldehyde dehydrogenase (indole-3-acetaldehyde, NADP)',), ('aldehyde dehydrogenase (isoamyl alcohol, NAD)',), ('aldehyde dehydrogenase (isoamyl alcohol, NAD)',), ('aldehyde dehydrogenase (isobutyl alcohol, NAD)',), ('aldehyde dehydrogenase (isobutyl alcohol, NAD)',), ('aldehyde dehydrogenase (phenylacetaldehyde, NAD)',), ('aldehyde dehydrogenase (tryptophol, NAD)',), ('aldehyde dehydrogenase (tryptophol, NAD)',), ('alkaline phosphatase (dihydroneopterin)',), ('allantoate amidinohydrolase',), ('allantoinase, reaction',), ('allophanate hydrolase',), ('alpha 1,2-mannosyltransferase',), ('alpha,alpha-trehalase',), ('alpha,alpha-trehalase',), ('alpha,alpha-trehalose-phosphate synthase (UDP-forming)',), ('amidase',), ('Aminobutyraldehyde dehydrogenase',), ('anthranilate phosphoribosyltransferase',), ('anthranilate synthase',), ('Ap4A hydrolase',), ('arabinose reductase',), ('arginase',), ('argininosuccinate lyase',), ('argininosuccinate synthase',), ('arginyl-tRNA synthetase',), ('arginyl-tRNA synthetase',), ('asparagine synthase (glutamine-hydrolysing)',), ('Asparaginyl-tRNA synthetase',), ('asparaginyl-tRNA synthetase, miotchondrial',), ('aspartate carbamoyltransferase',), ('aspartate kinase',), ('aspartate transaminase',), ('aspartate transaminase',), ('aspartate transaminase',), ('aspartate-semialdehyde dehydrogenase',), ('Aspartyl-tRNA synthetase',), ('Aspartyl-tRNA synthetase',), ('ATP adenylyltransferase',), ('ATP phosphoribosyltransferase',), ('ATP synthase',), ('ATPase, cytosolic',), ('beta-1,4 mannosyltransferase',), ('biotin synthase',), ('biotin-[acetyl-CoA-carboxylase] ligase',), ('C-14 sterol reductase',), ('C-22 sterol desaturase (NADP)',), ('C-3 sterol dehydrogenase',), ('C-3 sterol dehydrogenase (4-methylzymosterol)',), ('C-3 sterol keto reductase (4-methylzymosterol)',), ('C-3 sterol keto reductase (zymosterol)',), ('C-4 methyl sterol oxidase',), ('C-4 methyl sterol oxidase',), ('C-4 methyl sterol oxidase',), ('C-4 sterol methyl oxidase (4,4-dimethylzymosterol)',), ('C-5 sterol desaturase',), ('C-8 sterol isomerase',), ('C-s24 sterol reductase',), ('CAAX farnesyltransferase',), ('carbamoyl-phosphate synthase (glutamine-hydrolysing)',), ('cardiolipin synthase',), ('carnitine O-acetyltransferase',), ('carnitine O-acetyltransferase',), ('carnitine O-acetyltransferase',), ('catalase',), ('catalase',), ('CDP-diacylglycerol synthase',), ('CDP-diacylglycerol synthase',), ('ceramide-1 hydroxylase (24C)',), ('ceramide-1 hydroxylase (24C)',), ('ceramide-1 hydroxylase (26C)',), ('ceramide-1 hydroxylase (26C)',), ('ceramide-1 synthase (24C)',), ('ceramide-1 synthase (26C)',), ('ceramide-2 synthase (24C)',), ('ceramide-2 synthase (26C)',), ('ceramide-3 synthase (24C)',), ('ceramide-3 synthase (26C)',), ('ceramide-4 synthase (24C)',), ('ceramide-4 synthase (26C)',), ('chitin deacetylase',), ('chitin synthase',), ('choline kinase',), ('choline phosphate cytididyltransferase',), ('choline/ethanolaminephosphotransferase',), ('cholinephosphotransferase',), ('chorismate mutase',), ('chorismate synthase',), ('cis-aconitate(3-) to isocitrate',), ('cis-prenyltransferase step 01',), ('cis-prenyltransferase step 02',), ('cis-prenyltransferase step 03',), ('cis-prenyltransferase step 04',), ('cis-prenyltransferase step 05',), ('cis-prenyltransferase step 06',), ('cis-prenyltransferase step 07',), ('cis-prenyltransferase step 08',), ('cis-prenyltransferase step 09',), ('cis-prenyltransferase step 10',), ('cis-prenyltransferase step 11',), ('cis-prenyltransferase step 12',), ('cis-prenyltransferase step 13',), ('cis-prenyltransferase step 14',), ('cis-prenyltransferase step 15',), ('cis-prenyltransferase step 16',), ('cis-prenyltransferase step 17',), ('cis-prenyltransferase step 18',), ('cis-prenyltransferase step 19',), ('citrate synthase',), ('citrate synthase, peroxisomal',), ('citrate to cis-aconitate(3-)',), ('citrate to cis-aconitate(3-), cytoplasmic',), ('coproporphyrinogen oxidase (O2 required)',), ('CTP synthase (glutamine)',), ('CTP synthase (NH3)',), ('cystathionine b-lyase',), ('cystathionine beta-synthase',), ('cystathionine g-lyase',), ('cystathionine gamma-synthase',), ('cysteine synthase',), ('cysteinyl-tRNA synthetase',), ('cytidine deaminase',), ('cytidine kinase (GTP)',), ('cytochrome P450 lanosterol 14-alpha-demethylase (NADP)',), ('cytosine deaminase',), ('D-arabinono-1,4-lactone oxidase',), ('D-arabinose 1-dehydrogenase (NAD)',), ('D-arabinose 1-dehydrogenase (NADP)',), ('D-fructose 1-phosphate D-glyceraldehyde-3-phosphate-lyase',), ('D-sorbitol dehydrogenase (D-fructose producing)',), ('dCMP deaminase',), ('dCTP deaminase',), ('deoxycytidine deaminase',), ('deoxyguanylate kinase (dGMP:ATP)',), ('deoxyhypusine synthase, cytosolic/mitochondrial',), ('deoxyribokinase',), ('dephospho-CoA kinase',), ('dethiobiotin synthase',), ('diacylglycerol acyltransferase',), ('diacylglycerol acyltransferase',), ('diacylglycerol pyrophosphate phosphatase',), ('diacylglycerol pyrophosphate phosphatase',), ('diacylglycerol pyrophosphate phosphatase',), ('dihydroceramidase',), ('dihydroceramidase',), ('dihydroceramidase',), ('dihydroceramidase',), ('dihydrofolate reductase',), ('dihydrofolate reductase',), ('dihydrofolate synthase',), ('dihydroneopterin aldolase',), ('dihydroneopterin monophosphate dephosphorylase',), ('dihydroorotase',), ('dihydropteroate synthase',), ('dihydropteroate synthase',), ('dihydroxy-acid dehydratase (2,3-dihydroxy-3-methylbutanoate)',), ('dihydroxy-acid dehydratase (2,3-dihydroxy-3-methylpentanoate)',), ('dihydroxyacetone kinase',), ('dimethylallyltranstransferase',), ('diphosphoglyceromutase',), ('diphosphoinositol-1,3,4,6-tetrakisphosphate diphosphohydrolase',), ('diphosphoinositol-1,3,4,6-tetrakisphosphate synthase',), ('diphthine synthase',), ('dolichol kinase',), ('dolichyl-phosphate D-mannosyltransferase',), ('dolichyl-phosphate-mannose--protein mannosyltransferase',), ('dTMP kinase',), ('dUTP diphosphatase',), ('enolase',), ('ethanolamine kinase',), ('ethyl acetate-hydrolyzing esterase',), ('exo-1,3-beta-glucan glucohydrase',), ('farnesyltranstransferase',), ('fatty acid oxidation (C18:2)',), ('fatty-acid--CoA ligase (decanoate)',), ('fatty-acid--CoA ligase (dodecanoate)',), ('fatty-acid--CoA ligase (hexadecanoate)',), ('fatty-acid--CoA ligase (octanoate)',), ('fatty-acid--CoA ligase (tetradecanoate)',), ('ferrochelatase',), ('ferrocytochrome-c:hydrogen-peroxide oxidoreductase',), ('ferrocytochrome-c:oxygen oxidoreductase',), ('ubiquinol:ferricytochrome c reductase',), ('FMN adenylyltransferase',), ('formaldehyde dehydrogenase',), ('formate dehydrogenase',), ('formate-tetrahydrofolate ligase',), ('formate-tetrahydrofolate ligase',), ('fructose-2,6-bisphosphate 2-phosphatase',), ('fructose-bisphosphatase',), ('fructose-bisphosphate aldolase',), ('fumarase',), ('fumarase, cytoplasmic',), ('dihydoorotic acid dehydrogenase',), ('g-glutamyltransferase',), ('galactokinase',), ('galactose-1-phosphate uridylyltransferase',), ('gamma-glutamylcysteine synthetase',), ('geranyltranstransferase',), ('glucan 1,4-alpha-glucosidase',), ('glucan 1,4-alpha-glucosidase, vacuole',), ('glucose 6-phosphate dehydrogenase',), ('glucose-6-phosphate isomerase',), ('glutamate 5-kinase',), ('glutamate decarboxylase',), ('glutamate dehydrogenase (NAD)',), ('glutamate dehydrogenase (NADP)',), ('glutamate synthase (NADH2)',), ('glutamate-5-semialdehyde dehydrogenase',), ('glutamine synthetase',), ('glutamine-fructose-6-phosphate transaminase',), ('glutaminyl-tRNA synthetase',), ('glutamyl-tRNA synthetase',), ('glutamyl-tRNA synthetase',), ('glutathione oxidoreductase',), ('glutathione oxidoreductase',), ('glutathione peridoxase',), ('glutathione peroxidase, mitochondria',), ('glutathione synthetase',), ('glyceraldehyde-3-phosphate dehydrogenase',), ('glycerol dehydrogenase (NADP-dependent)',), ('glycerol kinase',), ('glycerol-3-phosphate dehydrogenase (fad)',), ('glycerol-3-phosphate dehydrogenase (NAD)',), ('glycerol-3-phosphate dehydrogenase (NAD)',), ('glycerol-3-phosphate/dihydroxyacetone phosphate acyltransferase',), ('glycerol-3-phosphate/dihydroxyacetone phosphate acyltransferase',), ('glycerol-3-phosphate/dihydroxyacetone phosphate acyltransferase',), ('glycerol-3-phosphate/dihydroxyacetone phosphate acyltransferase',), ('glycerophosphodiester phosphodiesterase (glycerophosphocholine)',), ('glycinamide ribotide transformylase',), ('glycine cleavage system',), ('glycine hydroxymethyltransferase',), ('glycine hydroxymethyltransferase',), ('glycine-cleavage complex (lipoamide)',), ('glycine-cleavage complex (lipoamide)',), ('glycine-cleavage complex (lipoylprotein)',), ('glycine-cleavage complex (lipoylprotein)',), ('glycine-cleavage complex (lipoylprotein)',), ('glycine-cleavage system (lipoamide)',), ('glycogen (starch) synthase',), ('glycogen phosphorylase',), ('glycyl-tRNA synthetase',), ('GMP synthase',), ('GPI-anchor assembly, step 2',), ('GPI-anchor assembly, step 5',), ('GPI-anchor assembly, step 6',), ('GPI-anchor assembly, step 7',), ('GPI-anchor assembly, step 8',), ('GPI-anchor assembly, step 9',), ('GTP cyclohydrolase I',), ('GTP cyclohydrolase II',), ('guanine deaminase',), ('guanine phosphoribosyltransferase',), ('guanylate kinase',), ('guanylate kinase (GMP:dATP)',), ('heme O monooxygenase',), ('Heme O synthase',), ('hexaprenyldihydroxybenzoate methyltransferase',), ('hexokinase (D-fructose:ATP)',), ('hexokinase (D-glucose:ATP)',), ('hexokinase (D-mannose:ATP)',), ('histidinol dehydrogenase',), ('histidinol-phosphatase',), ('histidinol-phosphate transaminase',), ('histidyl-tRNA synthetase',), ('histidyl-tRNA synthetase',), ('hnRNP arginine N-methyltransferase',), ('homoacontinate hydratase',), ('homocitrate synthase',), ('homocysteine S-methyltransferase',), ('homoisocitrate dehydrogenase',), ('homoserine dehydrogenase (NADH)',), ('homoserine dehydrogenase (NADP)',), ('homoserine kinase',), ('homoserine O-trans-acetylase',), ('hydrogen peroxide reductase (thioredoxin)',), ('hydrogen peroxide reductase (thioredoxin)',), ('hydrogen peroxide reductase (thioredoxin)',), ('hydroxyacylglutathione hydrolase',), ('hydroxyacylglutathione hydrolase',), ('hydroxybenzoate octaprenyltransferase',), ('hydroxyethylthiazole kinase',), ('hydroxymethylbilane synthase',), ('hydroxymethylglutaryl CoA reductase',), ('hydroxymethylglutaryl CoA synthase',), ('hydroxymethylglutaryl CoA synthase',), ('hydroxymethylpyrimidine kinase (ATP)',), ('hypoxanthine phosphoribosyltransferase (Hypoxanthine)',), ('Imidazole-glycerol-3-phosphate synthase',), ('imidazoleglycerol-phosphate dehydratase',), ('IMP dehydrogenase',), ('indole-3-glycerol-phosphate synthase',), ('indole-3-pyruvate decarboxylase',), ('inorganic diphosphatase',), ('inorganic diphosphatase',), ('inosine monophosphate cyclohydrolase',), ('inositol-1,3,4,5,6-pentakisphosphate 2-kinase',), ('inositol-1,3,4,5-triphosphate 6-kinase, nucleus',), ('inositol-1,4,5,6- tetrakisphosphate 3-kinase, nucleus',), ('inositol-1,4,5-triphosphate 6-kinase, nucleus',), ('inositol-1,4,5-trisphosphate 3-kinase, nucleus',), ('inositolphosphotransferase',), ('inositolphosphotransferase',), ('inositolphosphotransferase',), ('inositolphosphotransferase',), ('inositolphosphotransferase',), ('inositolphosphotransferase',), ('inositolphosphotransferase',), ('inositolphosphotransferase',), ('inositolphosphotransferase',), ('inositolphosphotransferase',), ('IPC synthase',), ('IPC synthase',), ('IPC synthase',), ('IPC synthase',), ('IPC synthase',), ('IPC synthase',), ('IPC synthase',), ('IPC synthase',), ('IPC synthase',), ('IPC synthase',), ('IPS phospholipase C',), ('IPS phospholipase C',), ('IPS phospholipase C',), ('IPS phospholipase C',), ('IPS phospholipase C',), ('IPS phospholipase C',), ('IPS phospholipase C',), ('IPS phospholipase C',), ('IPS phospholipase C',), ('IPS phospholipase C',), ('IPS phospholipase C',), ('IPS phospholipase C',), ('IPS phospholipase C',), ('IPS phospholipase C',), ('IPS phospholipase C',), ('IPS phospholipase C',), ('IPS phospholipase C',), ('IPS phospholipase C',), ('IPS phospholipase C',), ('IPS phospholipase C',), ('IPS phospholipase C',), ('IPS phospholipase C',), ('IPS phospholipase C',), ('IPS phospholipase C',), ('IPS phospholipase C',), ('IPS phospholipase C',), ('IPS phospholipase C',), ('IPS phospholipase C',), ('IPS phospholipase C',), ('IPS phospholipase C',), ('IPS phospholipase C',), ('IPS phospholipase C',), ('IPS phospholipase C',), ('IPS phospholipase C',), ('IPS phospholipase C',), ('IPS phospholipase C',), ('IPS phospholipase C',), ('IPS phospholipase C',), ('IPS phospholipase C',), ('IPS phospholipase C',), ('IPS phospholipase C',), ('IPS phospholipase C',), ('IPS phospholipase C',), ('IPS phospholipase C',), ('IPS phospholipase C',), ('IPS phospholipase C',), ('IPS phospholipase C',), ('IPS phospholipase C',), ('IPS phospholipase C',), ('IPS phospholipase C',), ('IPS phospholipase C',), ('IPS phospholipase C',), ('IPS phospholipase C',), ('IPS phospholipase C',), ('IPS phospholipase C',), ('IPS phospholipase C',), ('IPS phospholipase C',), ('IPS phospholipase C',), ('IPS phospholipase C',), ('IPS phospholipase C',), ('isoamyl acetate-hydrolyzing esterase',), ('isobutyl acetate-hydrolyzing esterase',), ('isocitrate dehydrogenase (NAD+)',), ('isocitrate dehydrogenase (NADP)',), ('isocitrate dehydrogenase (NADP+), peroxisomal',), ('isocitrate lyase',), ('isoleucine transaminase',), ('isoleucine transaminase',), ('isoleucyl-tRNA synthetase',), ('isoleucyl-tRNA synthetase',), ('isopentenyl-diphosphate D-isomerase',), ('itaconate-CoA ligase (ADP-forming)',), ('ketol-acid reductoisomerase (2-aceto-2-hydroxybutanoate)',), ('kynureninase',), ('kynurenine 3-monooxygenase',), ('L-1-pyrroline-3-hydroxy-5-carboxylate dehydrogenase',), ('L-4-hydroxyglutamate semialdehyde dehydrogenase',), ('L-alanine transaminase',), ('L-allo-threonine aldolase',), ('L-allo-threonine dehydrogenase',), ('L-aminoadipate-semialdehyde dehydrogenase (NADPH)',), ('L-asparaginase',), ('L-erythro-4-hydroxyglutamate:2-oxoglutarate aminotransferase',), ('L-erythro-4-hydroxyglutamate:2-oxoglutarate aminotransferase',), ('L-erythro-4-hydroxyglutamate:2-oxoglutarate aminotransferase',), ('L-hydroxyproline reductase (NADP)',), ('L-lactaldehyde:NADP+ 1-oxidoreductase',), ('L-serine deaminase',), ('L-serine dehydrogenase',), ('L-sorbitol dehydrogenase (L-sorbose-producing)',), ('L-threonine deaminase',), ('L-threonine deaminase',), ('L-tryptophan:oxygen 2,3-oxidoreductase (decyclizing)',), ('lactoylglutathione lyase',), ('lanosterol synthase',), ('leucine transaminase',), ('leucine transaminase',), ('leucyl-tRNA synthetase',), ('leucyl-tRNA synthetase',), ('leukotriene A4 hydrolase',), ('leukotriene A4 hydrolase',), ('leukotriene A4 hydrolase',), ('leukotriene A4 hydrolase',), ('leukotriene A4 hydrolase',), ('leukotriene A4 hydrolase',), ('lysyl-tRNA synthetase',), ('lysyl-tRNA synthetase',), ('malate dehydrogenase',), ('malate dehydrogenase, cytoplasmic',), ('malate dehydrogenase, peroxisomal',), ('malate synthase',), ('malate synthase',), ('malic enzyme (NAD)',), ('malic enzyme (NADP)',), ('malonyl-CoA-ACP transacylase',), ('mannose-1-phosphate guanylyltransferase',), ('mannose-6-phosphate isomerase',), ('methenyltetrahydrifikate cyclohydrolase',), ('methenyltetrahydrofolate cyclohydrolase',), ('methionine adenosyltransferase',), ('methionine synthase',), ('methionyl-tRNA formyltransferase',), ('methionyl-tRNA synthetase',), ('methionyl-tRNA synthetase',), ('methylenetetrahydrofolate dehydrogenase (NAD)',), ('methylenetetrahydrofolate dehydrogenase (NADP)',), ('methylenetetrahydrofolate dehydrogenase (NADP)',), ('methylisocitrate lyase',), ('mevalonate kinase (atp)',), ('mevalonate kinase (ctp)',), ('mevalonate kinase (gtp)',), ('mevalonate kinase (UTP)',), ('mevalonate pyrophoshate decarboxylase',), ('myo-inositol 1-phosphatase',), ('myo-inositol-1-phosphate synthase',), ('N-acetyl-g-glutamyl-phosphate reductase',), ('N-acetylglucosamine-6-phosphate synthase',), ('N-acteylglutamate synthase',), ('N-formyl-L-kynurenine amidohydrolase',), ('NAD diphosphatase',), ('NAD kinase',), ('NAD kinase',), ('NAD nucleosidase nuclear',), ('NAD synthase',), ('NAD synthase',), ('NADH dehydrogenase, cytosolic/mitochondrial',), ('NADH kinase',), ('NADH kinase mitochondrial',), ('NADH:ubiquinone oxidoreductase',), ('NAPRtase',), ('NAPRtase',), ('nicotinamidase',), ('nicotinamide N-methyltransferase',), ('nicotinamide-nucleotide adenylyltransferase',), ('nicotinamide-nucleotide adenylyltransferase',), ('nicotinate-nucleotide adenylyltransferase',), ('nicotinate-nucleotide diphosphorylase (carboxylating)',), ('nicotinate-nucleotide diphosphorylase (carboxylating)',), ('nucleoside diphosphatase',), ('nucleoside diphosphatase',), ('nucleoside diphosphatase',), ('nucleoside diphosphatase',), ('nucleoside diphosphatase',), ('nucleoside diphosphatase',), ('nucleoside diphosphate kinase',), ('nucleoside diphosphate kinase',), ('nucleoside diphosphate kinase',), ('nucleoside diphosphate kinase',), ('nucleoside diphosphate kinase',), ('nucleoside diphosphate kinase',), ('nucleoside diphosphate kinase',), ('nucleoside diphosphate kinase',), ('nucleoside diphosphate kinase',), ('nucleoside triphosphatase',), ('nucleoside triphosphatase',), ('nucleoside triphosphatase',), ('nucleoside triphosphatase',), ('nucleoside-diphosphatase (GDP), Golgi',), ('nucleoside-diphosphate kinase (ATP:UDP)',), ('O-acetylhomoserine (thiol)-lyase',), ('O-acetylhomoserine (thiol)-lyase',), ('O-succinylhomoserine lyase (L-cysteine)',), ('ornithine carbamoyltransferase',), ('ornithine decarboxylase',), ('ornithine transacetylase',), ('ornithine transaminase',), ('orotate phosphoribosyltransferase',), (\"orotidine-5'-phosphate decarboxylase\",), ('oxoglutarate dehydrogenase (dihydrolipoamide S-succinyltransferase)',), ('oxoglutarate dehydrogenase (lipoamide)',), ('pantetheine-phosphate adenylyltransferase',), ('pantothenate kinase',), ('pantothenate synthase',), ('peroxisomal acyl-CoA thioesterase',), ('peroxisomal acyl-CoA thioesterase',), ('peroxisomal acyl-CoA thioesterase',), ('peroxisomal acyl-CoA thioesterase',), ('peroxisomal acyl-CoA thioesterase',), ('peroxisomal acyl-CoA thioesterase',), ('phenylalanine transaminase',), ('phenylalanyl-tRNA synthetase',), ('phenylalanyl-tRNA synthetase',), ('phenylpyruvate decarboxylase',), ('phopshoribosylaminoimidazole synthetase',), ('phosphatidylethanolamine methyltransferase',), ('phosphatidylglycerolphosphate synthase',), ('phosphatidylinositol 4-kinase',), ('phosphatidylinositol 4-kinase',), ('phosphatidylinositol synthase',), ('phosphatidylinositol-4-phosphate 5-kinase',), ('phosphatidylserine decarboxylase',), ('phosphatidylserine decarboxylase',), ('phosphatidylserine decarboxylase',), ('PS synthase',), ('phosphoacetylglucosamine mutase',), ('phosphoadenylyl-sulfate reductase (thioredoxin)',), ('phosphoenolpyruvate carboxykinase',), ('phosphoethanolamine cytidyltransferase',), ('phosphofructokinase',), ('phosphofructokinase (s7p)',), ('phosphoglucomutase',), ('phosphogluconate dehydrogenase',), ('phosphoglucosamine mutase',), ('phosphoglycerate dehydrogenase',), ('phosphoglycerate kinase',), ('phosphoglycerate mutase',), ('phospholipase D',), ('phospholipid methyltransferase',), ('phospholipid methyltransferase',), ('phosphomannomutase',), ('phosphomethylpyrimidine kinase',), ('phosphomevalonate kinase',), ('phosphopantothenate-cysteine ligase',), ('phosphopantothenoylcysteine decarboxylase',), ('phosphopentomutase',), ('phosphoribosyl amino imidazolesuccinocarbozamide synthetase',), ('phosphoribosyl-AMP cyclohydrolase',), ('phosphoribosyl-ATP pyrophosphatase',), ('phosphoribosylaminoimidazole-carboxylase',), ('phosphoribosylaminoimidazolecarboxamide formyltransferase',), ('phosphoribosylanthranilate isomerase',), ('phosphoribosylglycinamidine synthetase',), ('phosphoribosylpyrophosphate amidotransferase',), ('phosphoribosylpyrophosphate synthetase',), ('phosphoserine phosphatase (L-serine)',), ('phosphoserine transaminase',), ('phytoceramidase',), ('Phytosphingosine phosphate lyase',), ('phytosphingosine synthesis',), ('phosphatidylinositol 3-kinase',), ('polyamine oxidase',), ('porphobilinogen synthase',), ('poylamine oxidase',), ('poylamine oxidase',), ('prephenate dehydratase',), ('prephenate dehydrogenase (NADP)',), ('proline oxidase (NAD)',), ('prolyl-tRNA synthetase',), ('protoporphyrinogen oxidase',), ('purine-nucleoside phosphorylase',), ('guanosine phosphorylase',), ('guanosine phosphorylase',), ('inosine phosphorylase',), ('pyridoxal oxidase',), (\"pyridoxamine 5'-phosphate oxidase\",), (\"pyridoxine 5'-phosphate oxidase\",), ('pyridoxine oxidase',), ('pyrroline-5-carboxylate reductase',), ('pyruvate carboxylase',), ('pyruvate decarboxylase',), ('pyruvate decarboxylase (acetoin-forming)',), ('pyruvate dehydrogenase',), ('pyruvate kinase',), ('quinone oxidoreductase',), ('reduced glutathione via ABC system',), ('riboflavin kinase',), ('riboflavin kinase',), ('riboflavin synthase',), ('riboflavin synthase',), ('ribokinase',), ('ribonucleotide reductase',), ('ribonucleotide reductase',), ('ribonucleotide reductase',), ('ribonucleotide reductase',), ('ribonucleotide reductase',), ('ribonucleotide reductase',), ('ribose-5-phosphate isomerase',), ('ribosylnicotinamide kinase',), ('ribulose 5-phosphate 3-epimerase',), ('S-adenosyl-L-methionine:3-hexaprenyl-4,5-dihydroxylate O-methyltransferase',), ('S-adenosyl-methionine delta-24-sterol-c-methyltransferase',), ('S-formylglutathione hydralase',), ('saccharopine dehydrogenase (NAD, L-lysine forming)',), ('saccharopine dehydrogenase (NADP, L-glutamate forming)',), ('sedoheptulose 1,7-bisphosphate D-glyceraldehyde-3-phosphate-lyase',), ('serine palmitotransferase',), ('seryl-tRNA synthetase',), ('shikimate dehydrogenase',), ('shikimate kinase',), ('sirohydrochlorin dehydrogenase',), ('sirohydrochlorin ferrochetalase',), ('spermidine synthase',), ('spermine synthase',), ('sphinganine phosphate lyase',), ('sphingoid base-phosphate phosphatase (phytosphingosine 1-phosphate)',), ('sphingoid base-phosphate phosphatase (sphinganine 1-phosphatase)',), ('sphingolipid long chain base kinase (phytosphingosine)',), ('sphingolipid long chain base kinase (sphinganine)',), ('squalene epoxidase (NAD)',), ('squalene epoxidase (NADP)',), ('squalene synthase',), ('succinate dehydrogenase (ubiquinone-6)',), ('succinate-CoA ligase (ADP-forming)',), ('succinate-semialdehyde dehydrogenase (NADP)',), ('sucrose hydrolyzing enxyme',), ('sulfate adenylyltransferase',), ('sulfite reductase (NADPH2)',), ('taurcholate via ABC system',), ('taurine dioxygenase',), ('tetrahydrofolate aminomethyltransferase',), ('tetrahydrofolate:L-glutamate gamma-ligase (ADP-forming)',), ('thiamin diphosphatase',), ('thiamin phosphatase',), ('thiamine diphosphokinase',), ('thiamine-diphosphate kinase',), ('thiamine-phosphate diphosphorylase',), ('thioredoxin',), ('thioredoxin reductase (NADPH)',), ('thioredoxin reductase (NADPH)',), ('threonine aldolase',), ('threonine synthase',), ('threonyl-tRNA synthetase',), ('threonyl-tRNA synthetase',), ('thymidylate synthase',), ('trans-pentaprenyltranstransferase',), ('transaldolase',), ('transketolase 1',), ('transketolase 2',), ('trehalose-phosphatase',), ('triacylglycerol lipase',), ('triose-phosphate isomerase',), ('tryptophan synthase (indoleglycerol phosphate)',), ('tryptophan transaminase',), ('tryptophanyl-tRNA synthetase',), ('tryptophanyl-tRNA synthetase',), ('phosphatidylinositol 4-kinase',), ('tyrosine transaminase',), ('tyrosine transaminase',), ('tyrosyl-tRNA synthetase',), ('tyrosyl-tRNA synthetase',), ('UDP-glucose:ergosterol glucosyltransferase',), ('UDP-N-acetylglucosamine diphosphorylase',), ('UDPglucose 4-epimerase',), ('UDPglucose--hexose-1-phosphate uridylyltransferase',), ('UMP kinase',), ('UMP kinase',), ('uracil phosphoribosyltransferase',), ('urea carboxylase',), ('ureidoglycolate hydrolase',), ('uridine kinase (ATP:uridine)',), ('uridine kinase (GTP:uridine)',), ('uridylate kinase (dUMP)',), ('uridylate kinase (dUMP)',), ('uroporphyrinogen decarboxylase (uroporphyrinogen III)',), ('uroporphyrinogen methyltransferase',), ('uroporphyrinogen-III synthase',), ('UTP-glucose-1-phosphate uridylyltransferase',), ('V-ATPase, Golgi',), ('V-ATPase, vacuole',), ('valine transaminase',), ('valine transaminase, mitochondiral',), ('valyl-tRNA synthetase',), ('valyl-tRNA synthetase',), ('xanthine phosphoribosyltransferase',), ('xylitol dehydrogenase (D-xyulose-forming)',), ('xylose reductase',), ('xylulokinase',), ('yUMP synthetase',), ('(R)-mevalonate transport',), ('2-oxoadipate and 2-oxoglutarate transport',), ('3-hexaprenyl-4,5-dihydroxybenzoate transport',), ('4-aminobutyrate transport',), ('5-aminolevulinate transport',), ('5-formyltetrahydrofolic acid transport',), ('8-Amino-7-oxononanoate transport',), ('acetate transport',), ('acetic ester transport',), ('adenine transport',), ('adenosine transport',), ('ADP/ATP transporter',), ('ADP/ATP transporter',), ('AKG transporter, mitochonrial',), ('allantoate uniport',), ('allantoin uniport',), ('ammonia transport',), ('AMP/ATP transporter',), ('aspartate-glutamate transporter',), ('biotin uptake',), ('carnithine-acetylcarnithine carrier',), (\"ceramide-2' (sphinganine:n-C24:0OH) transport\",), (\"ceramide-2' (sphinganine:n-C26:0OH) transport\",), ('ceramide-3 (Phytosphingosine:n-C24:0OH) transport',), ('ceramide-3 (Phytosphingosine:n-C26:0OH) transport',), ('choline transport',), ('citrate transport',), ('citrate transport',), ('citrate transport',), ('coenzyme A transport',), ('CTP transport',), ('CTP/CMP antiport',), ('cytidine transport',), ('cytosine transport',), ('D-fructose transport',), ('D-galactose transport',), ('D-lactate transport',), ('D-lactate transport',), ('D-mannose transport',), ('episterol transport',), ('ergosterol transport',), ('ethanolamine transport',), ('fadH2 transport',), ('fecosterol transport',), ('folic acid transport',), ('GDP-mannose antiport',), ('glucose transport',), ('glutathione transport',), ('glutathione transport',), ('glycero-3-phospho-1-inositol transport',), ('glycero-3-phosphocholine transport',), ('glycerol transport',), ('glycerol transport via channel',), ('glycine transport',), (\"glycogen vacuolar 'transport' via autophagy\",), ('GTP/GDP translocase',), ('guanine transport',), ('inositol transport',), ('iron (II) transport',), ('isoamyl acetate transport',), ('isobutyl acetate transport',), ('isopentenyl diphosphate transport',), ('L-alanine transport',), ('L-arganine transport',), ('L-asparagine transport',), ('L-asparagine transport',), ('L-aspartate transport',), ('L-aspartate transport',), ('L-aspartate transport',), ('L-carnitine transport',), ('L-cystine transport',), ('L-glutamate transport',), ('L-glutamate transport',), ('L-glutamate transport',), ('L-glutamine transport',), ('L-glutamine transport',), ('L-glutamine transport',), ('L-histidine transport',), ('L-isoleucine transport',), ('L-isoleucine transport',), ('L-isoleucine transport',), ('L-lactate transport',), ('L-lactate transport',), ('L-leucine transport, vacuoluar',), ('L-leucine transport, vacuoluar',), ('L-leucine transport',), ('L-lysine transport',), ('L-methionine transport',), ('L-phenylalanine transport',), ('L-proline transport',), ('L-serine transport',), ('L-threonine transport',), ('L-tryptophan transport',), ('L-tyrosine transport',), ('L-tyrosine transport',), ('L-tyrosine transport',), ('L-valine transport',), ('lanosterol transport',), ('malate transport',), ('maltose transport',), ('NAD transport',), ('NAD transport',), ('NAD transport',), ('NAD transport',), ('nicotinate transport',), ('octadecanoate (n-C18:0) transport',), ('ornithine transport',), ('orntithine transport',), ('oxaloacetate transport',), ('pantothenate transport',), ('pentaprenyl diphosphate transport',), ('phosphate transport',), ('phosphate transport',), ('phosphatidylinositol 4-kinase',), ('phosphatidylinositol-4-phosphate 5-kinase',), ('potassium transport',), ('putrescine transport',), ('putrescine transport',), ('pyridoxine symport',), ('pyruvate transport',), ('S-adenosyl-L-methionine transport',), ('S-adenosyl-L-methionine transport',), ('S-methylmethionine permease',), ('sodium proton antiporter',), ('spermidine transport',), ('spermidine transport',), ('spermine transport',), ('spermine transport',), ('succinate transport',), ('succinate-fumarate transport',), ('sulfate uniport',), ('sulfite transport',), ('taurine transport',), ('thiamine diphosphate transport',), ('thiamine transport',), ('UDPgalactose transport',), ('uracil transport',), ('urea transport',), ('uridine transport',), ('UTP transport',), ('UTP/UMP antiport',), ('water diffusion',), ('(1-3)-beta-D-glucan exchange',), ('(1-3)-beta-D-glucan transport',), ('(R)-carnitine exchange',), ('(R)-lactate exchange',), ('(R)-mevalonate exchange',), ('(R)-pantothenate exchange',), ('(S)-3-methyl-2-oxopentanoate exchange',), ('(S)-lactate exchange',), ('(S)-malate exchange',), ('1-(sn-glycero-3-phospho)-1D-myo-inositol exchange',), ('1-acylglycerophosphocholine exchange',), ('1D-myo-inositol 1,3,4,5,6-pentakisphosphate diffusion',), ('1D-myo-inositol 1-phosphate transport',), (\"2'-deoxyuridine exchange\",), ('2-dehydro-3-deoxy-D-arabino-heptonate7-phohsphate transport',), ('2-dehydropantoate transport',), ('2-isopropylmalate exchange',), ('2-isopropylmalate transport',), ('2-isopropylmalate transport',), ('2-methyl-1-butanol transport',), ('2-methyl-1-butanol transport',), ('2-methylbutanal exchange',), ('2-methylbutanal transport',), ('2-methylbutanal transport',), ('2-methylbutanol exchange',), ('2-methylpropanal transport',), ('2-methylpropanal transport',), ('2-oxobutanoate transporter',), ('2-oxoglutarate exchange',), ('2-oxoglutarate transport',), ('2-oxoglutarate transport',), ('2-phenylethanol exchange',), ('2-phenylethanol transport',), ('2-phenylethanol transport',), ('3-carboxy-4-methyl-2-oxopentanoate transport',), ('3-methyl-2-oxopentanoate transport',), ('3-methylbutanal exchange',), ('3-methylbutanal transport',), ('3-methylbutanal transport',), ('3-octaprenyl-4-hydroxybenzoate transport',), ('4-aminobenzoate exchange',), ('4-aminobenzoate transport',), ('4-aminobenzoate transport',), ('4-aminobutanal transport',), ('4-aminobutyrate transport',), ('4-hydroxy-2-oxoglutarate transport',), ('4-hydroxy-2-oxoglutarate transport',), ('4-hydroxybenzoate transport',), (\"5'-nucleotidase (GMP)\",), ('5-aminolevulinate exchange',), ('5-aminolevulinate transport',), ('5-formyltetrahydrofolic acid exchange',), ('7,8-diaminononanoate exchange',), ('7,8-diaminononanoate transport',), ('8-amino-7-oxononanoate exchange',), ('9H-xanthine exchange',), ('acetaldehyde exchange',), ('acetaldehyde transport',), ('acetaldehyde transport',), ('acetate exchange',), ('acetate transport',), ('acetyl-CoA transport',), ('acetylcarnitine transport',), ('adenine exchange',), ('adenine transport',), (\"adenosine 3',5'-bismonophosphate exchange\",), ('adenosine exchange',), ('ADP transport',), ('ADP transport',), ('AKG transporter, peroxisome',), ('allantoate exchange',), ('allantoin exchange',), ('alpha,alpha-trehalose exchange',), ('alpha-D-glucosamine 6-phosphate exchange',), ('alpha-ketoglutarate/malate transporter',), ('ammonium exchange',), ('AMP transport',), ('arginine transport',), ('asparagine transport',), ('aspartate-glutamate transporter',), ('ATP diffusion',), ('ATP transport',), ('bicarbonate exchange',), ('bicarbonate formation',), ('bicarbonate formation',), ('bicarbonate formation',), ('bicarbonate formation',), ('bicarbonate transport',), ('biotin exchange',), ('carbon dioxide exchange',), ('carnitine transport',), ('carnitine-acetylcarnitine carrier',), ('CDP transport',), ('ceramide transport',), ('ceramide transport',), ('ceramide transport',), ('ceramide transport',), ('ceramide transport',), ('ceramide transport',), ('choline exchange',), ('choline transport',), ('citrate transport',), ('citrate(3-) exchange',), ('CO2 transport',), ('CO2 transport',), ('CO2 transport',), ('CO2 transport',), ('CO2 transport',), ('coenzyme A transport',), ('coenzyme A transport',), ('coenzyme A transport',), ('cytidine exchange',), ('cytidylate kinase (CMP)',), ('cytidylate kinase (dCMP)',), ('cytosine exchange',), ('D-arabinose exchange',), ('D-arabinose transport',), ('D-erythrose 4-phosphate transport',), ('D-fructose exchange',), ('D-galactose exchange',), ('D-glucitol exchange',), ('D-glucose exchange',), ('D-mannose exchange',), ('D-ribose exchange',), ('D-sorbitol transport',), ('D-xylose exchange',), ('D-xylose transport',), ('dADP transport',), ('dCDP transport',), ('deamino-NAD+ diffusion',), ('decanoate exchange',), ('deoxyadenylate kinase',), ('deoxycytidine exchange',), ('deoxycytidine transport',), ('deoxyuridine transport',), ('dGDP transport',), ('dhnpt transport',), ('dihydrofolate transport',), ('dihydropteroate transport',), ('dihydroxyacetone phosphate transport',), ('diphosphate transport',), ('dolichol phosphate transport',), ('dTTP exchange',), ('dUDP diffusion',), ('dUMP transport',), ('episterol exchange',), ('ergosta-5,6,22,24,(28)-tetraen-3beta-ol transport',), ('ergosterol exchange',), ('ergosterol transport',), ('ergosterol transport',), ('ergosterol transport',), ('ethanol exchange',), ('ethanol transport',), ('ethanol transport, mitochondrial',), ('ethanolamine exchange',), ('ethyl acetate exchange',), ('farnesyl diphosphate transport',), ('fatty acid transport',), ('fatty acid transport',), ('fatty acid transport',), ('fatty acid transport',), ('fatty acid transport',), ('fatty acid transport',), ('myristate (n-C14:0) transport',), ('fecosterol exchange',), ('FMN exchange',), ('folic acid exchange',), ('formate exchange',), ('formate transport',), ('formate transport',), ('formate transport',), ('fumarate(2-) exchange',), ('gamma-aminobutyrate exchange',), ('GDP transport',), ('GDP transport',), ('GDP-alpha-D-mannose transport',), ('glucose transport, vacuolar',), ('glutathione disulfide exchange',), ('glutathione exchange',), ('glycerol exchange',), ('glycerol-3-phosphate shuttle',), ('glycine exchange',), ('glycine transport',), ('glycoaldehyde transport',), ('glycoaldehyde transport',), ('glycolaldehyde exchange',), ('glyoxylate exchange',), ('glyoxylate transport',), ('glyoxylate transport',), ('guanine exchange',), ('guanine transport',), ('guanosine exchange',), ('guanosine transport',), ('guanosine transport',), ('H+ diffusion',), ('H+ diffusion',), ('H+ diffusion',), ('H+ diffusion',), ('H+ diffusion',), ('H+ diffusion',), ('H+ diffusion',), ('H+ exchange',), ('hexacosanoyl-CoA transport',), ('hexadecanal exchange',), ('hexadecanoate (n-C16:0) transport',), ('hexadecenoate (n-C16:1) transport',), ('L-histidine transport, mitochondrial',), ('homocitrate synthase',), ('hydrogen peroxide transport',), ('hydroxymethylglutaryl-CoA transport',), ('hypoxanthine exchange',), ('hypoxanthine transport',), ('indol-3-ylacetaldehyde exchange',), ('indole-3-acetaldehyde transport',), ('indole-3-acetaldehyde transport',), ('indole-3-acetate transport',), ('inosine exchange',), ('inosine transport',), ('inositol hexakisphosphate transport',), ('IPC transport',), ('IPC transport',), ('IPC transport',), ('IPC transport',), ('IPC transport',), ('IPC transport',), ('IPC transport',), ('IPC transport',), ('IPC transport',), ('IPC transport',), ('iron(2+) exchange',), ('isoamyl acetate exchange',), ('isoamyl alcohol transport',), ('isoamyl alcohol transport',), ('isoamylol exchange',), ('isobutanol exchange',), ('isobutyl acetate exchange',), ('isobutyl alcohol transport',), ('isobutyl alcohol transport',), ('isobutyraldehyde exchange',), ('L-alanine exchange',), ('L-alanine transport',), ('L-arabinitol exchange',), ('L-arabinitol transport',), ('L-arabinoase transport',), ('L-arabinose exchange',), ('L-arginine exchange',), ('L-asparagine exchange',), ('L-aspartate exchange',), ('L-carnitine transport',), ('L-cysteine exchange',), ('L-erythro-4-hydroxyglutamate transport',), ('L-erythro-4-hydroxyglutamate transport',), ('L-glucitol exchange',), ('L-glutamate 5-semialdehyde dehydratase',), ('L-glutamate exchange',), ('L-glutamate transport',), ('L-glutamine exchange',), ('L-glutamine transport',), ('L-histidine exchange',), ('L-homoserine transport',), ('L-homoserine exchange',), ('L-isoleucine exchange',), ('L-isoleucine transport',), ('L-leucine exchange',), ('L-lysine exchange',), ('L-malate transport',), ('L-methionine exchange',), ('L-phenylalanine exchange',), ('L-proline exchange',), ('L-proline transport',), ('L-serine exchange',), ('L-serine transport',), ('L-sorbitol transport',), ('L-sorbose exchange',), ('L-sorbose transport',), ('L-threonine exchange',), ('L-tryptophan exchange',), ('L-tyrosine exchange',), ('L-valine exchange',), ('lanosterol exchange',), ('laurate exchange',), ('lysine transport',), ('M(IP)2C transport',), ('M(IP)2C transport',), ('M(IP)2C transport',), ('M(IP)2C transport',), ('M(IP)2C transport',), ('M(IP)2C transport',), ('M(IP)2C transport',), ('M(IP)2C transport',), ('M(IP)2C transport',), ('M(IP)2C transport',), ('malate/oxaloacetate shuttle',), ('maltose exchange',), ('mannan transport',), ('methionine transport',), ('MIPC transport',), ('MIPC transport',), ('MIPC transport',), ('MIPC transport',), ('MIPC transport',), ('MIPC transport',), ('MIPC transport',), ('MIPC transport',), ('MIPC transport',), ('MIPC transport',), ('myo-inositol exchange',), ('NADP(+) transport',), ('NADPH transport',), ('NH3 transport',), ('nicotinamide diffusion',), ('nicotinate exchange',), ('NMN exchange',), ('NMN transport',), ('NMN transport',), ('NMN transport',), ('O-acetylcarnintine transport into mitochondria',), ('O2 transport',), ('O2 transport',), ('O2 transport',), ('O2 transport',), ('octadecanoate (n-C18:0) transport',), ('octanoate exchange',), ('ornithine exchange',), ('oxaloacetate transport',), ('oxaloacetate(2-) exchange',), ('oxidized thioredoxin transport',), ('oxygen exchange',), ('palmitate exchange',), ('palmitoleate exchange',), ('palmitoyl-CoA transport',), (\"panthetheine 4'-phosphate transport\",), ('phenylacetaldehyde exchange',), ('phenylacetaldehyde transport',), ('phenylacetaldehyde transport',), ('phenylalanine transport',), ('phosphate exchange',), ('phosphate transport',), ('potassium exchange',), ('protoporphyrinogen IX transport',), ('PRPP transport',), ('putrescine exchange',), ('pyridoxine exchange',), ('pyridoxine kinase',), ('pyrophosphate transport',), ('pyruvate exchange',), ('pyruvate transport',), ('quinolinate transport',), ('reduced thioredoxin transport',), ('riboflavin exchange',), ('riboflavin transport',), ('riboflavin transport',), ('ribose transporter',), ('S-adenosyl-L-homocysteine transport',), ('S-adenosyl-L-methionine exchange',), ('S-methyl-L-methionine exchange',), ('serine transport',), ('sn-glycero-3-phosphocholine exchange',), ('sodium exchange',), ('spermidine exchange',), ('spermine exchange',), ('squalene transport',), ('squalene-2,3-epoxide transport',), ('stearate exchange',), ('succinate exchange',), ('succinate transport',), ('sucrose exchange',), ('sulphate exchange',), ('sulphite exchange',), ('taurine exchange',), ('tetracosanoyl-CoA transport',), ('thiamine(1+) diphosphate(1-) exchange',), ('thiamine(1+) exchange',), ('thiamine(1+) monophosphate exchange',), ('threonine transport',), ('thymidine exchange',), ('thymidine transport',), ('trehalose transporter',), ('trehalose vacuolar transport',), ('tryptophan transport',), ('tryptophol exchange',), ('tryptophol transport',), ('tryptophol transport',), ('tyrosine transport',), ('tyrosine transport',), ('UMP transport',), ('uracil exchange',), ('urea exchange',), ('uridine exchange',), ('valine transport',), ('water diffusion',), ('water diffusion',), ('water diffusion',), ('water diffusion',), ('water diffusion',), ('water diffusion',), ('water exchange',), ('xanthine transport',), ('xanthosine exchange',), ('xanthosine transport',), ('xylitol exchange',), ('xylitol transport',), ('zymosterol exchange',), ('zymosterol transport',), ('growth',), ('kynurenine aminotransferase',), ('alcohol dehydrogenase, (acetaldehyde to ethanol)',), ('acetaldehyde dehydrogenase',), ('phenylalanine transaminase',), ('tryptophan transaminase',), ('tyrosine transaminase',), ('coenzyme A transport',), ('sedoheptulose bisphosphatase',), ('isocitrate dehydrogenase',), ('oxoglutarate/malate exchange',), ('14-demethyllanosterol exchange',), ('14-demethyllanosterol transport',), ('ergosta-5,7,22,24(28)-tetraen-3beta-ol exchange',), ('ergosta-5,7,22,24(28)-tetraen-3beta-ol transport',), ('fatty-acyl-CoA synthase (n-C16:0CoA)',), ('fatty-acyl-CoA synthase (n-C18:0CoA)',), ('B-ketoacyl-ACP synthase (acetoacetyl-ACP)',), ('B-ketoacyl-ACP synthase (3-oxo-hexanoyl-ACP)',), ('B-ketoacyl-ACP synthase (3-oxo-octanoyl-ACP)',), ('3-oxoacyl-ACP reductase (3-hydroxybutanoyl-ACP)',), ('3-oxoacyl-ACP reductase (3-hydroxyhexanoyl-ACP)',), ('3-oxoacyl-ACP reductase (3-hydroxyoctanoyl-ACP)',), ('3-hydroxyacyl-thioester dehydratase (trans-but-2-enoyl-ACP)',), ('3-hydroxyacyl-thioester dehydratase (trans-hex-2-enoyl-ACP)',), ('3-hydroxyacyl-thioester dehydratase (trans-oct-2-enoyl-ACP)',), ('enoyl-ACP reductase (butanoyl-ACP)',), ('enoyl-ACP reductase (hexanoyl-ACP)',), ('enoyl-ACP reductase (octanoyl-ACP)',), ('elongase I (3-oxotetradecanoyl-CoA)',), ('elongase I (3-oxopalmitoyl-CoA)',), ('elongase II (3-oxooctadecanoyl-CoA)',), ('elongase II or III (3-oxoicosanoyl-CoA)',), ('elongase II or III (3-oxodocosanoyl-CoA)',), ('elongase II or III (3-oxotetracosanoyl-CoA)',), ('elongase III (3-oxohexacosanoyl-CoA)',), ('B-ketoacyl-CoA reductase ((S)-3-hydroxytetradecanoyl-CoA)',), ('B-ketoacyl-CoA reductase ((S)-3-hydroxypalmitoyl-CoA)',), ('B-ketoacyl-CoA reductase (3-hydroxyoctadecanoyl-CoA)',), ('B-ketoacyl-CoA reductase (3-hydroxyicosanoyl-CoA)',), ('B-ketoacyl-CoA reductase (3-hydroxydocosanoyl-CoA)',), ('B-ketoacyl-CoA reductase (3-hydroxytetracosanoyl-CoA)',), ('B-ketoacyl-CoA reductase ((S)-3-hydroxyhexacosanoyl-CoA)',), ('B-hydroxyacyl-CoA dehydratase (trans-tetradec-2-enoyl-CoA)',), ('B-hydroxyacyl-CoA dehydratase (trans-hexadec-2-enoyl-CoA)',), ('B-hydroxyacyl-CoA dehydratase (trans-octadec-2-enoyl-CoA)',), ('B-hydroxyacyl-CoA dehydratase (trans-icos-2-enoyl-CoA)',), ('B-hydroxyacyl-CoA dehydratase (trans-docos-2-enoyl-CoA)',), ('B-hydroxyacyl-CoA dehydratase (trans-tetracos-2-enoyl-CoA)',), ('B-hydroxyacyl-CoA dehydratase (trans-hexacos-2-enoyl-CoA)',), ('trans-2-enoyl-CoA reductase (n-C14:0CoA)',), ('trans-2-enoyl-CoA reductase (n-C16:0CoA)',), ('trans-2-enoyl-CoA reductase (n-C18:0CoA)',), ('trans-2-enoyl-CoA reductase (n-C20:0CoA)',), ('trans-2-enoyl-CoA reductase (n-C22:0CoA)',), ('trans-2-enoyl-CoA reductase (n-C24:0CoA)',), ('trans-2-enoyl-CoA reductase (n-C26:0CoA)',), ('palmitoyl-CoA desaturase (n-C16:0CoA - n-C16:1CoA), ER membrane',), ('stearoyl-CoA desaturase (n-C18:0CoA - n-C18:1CoA), ER membrane',), ('octanoate (n-C8:0) transport',), ('decanoate (n-C10:0) transport',), ('laurate (n-C12:0) transport',), ('butyrate exchange',), ('hexanoate exchange',), ('oleate exchange',), ('butyrate (n-C4:0) transport',), ('hexanoate (n-C6:0) transport',), ('octadecenoate (n-C18:1) transport',), ('myristate exchange',), ('fatty-acid--CoA ligase (dodecanoate), ER membrane',), ('fatty-acid--CoA ligase (tetradecanoate), ER membrane',), ('fatty-acid--CoA ligase (hexadecanoate), ER membrane',), ('fatty-acid--CoA ligase (hexadecenoate), ER membrane',), ('fatty-acid--CoA ligase (octadecanoate), ER membrane',), ('fatty-acid--CoA ligase (octadecenoate), ER membrane',), ('fatty-acid--CoA ligase (dodecanoate), lipid particle',), ('fatty-acid--CoA ligase (tetradecanoate), lipid particle',), ('fatty-acid--CoA ligase (hexadecanoate), lipid particle',), ('fatty-acid--CoA ligase (hexadecenoate), lipid particle',), ('fatty-acid--CoA ligase (octadecanoate), lipid particle',), ('fatty-acid--CoA ligase (octadecenoate), lipid particle',), ('fatty-acid--CoA ligase (arachidate), cell envelope',), ('fatty-acid--CoA ligase (behenate), cell envelope',), ('fatty-acid--CoA ligase (lignoceric acid), cell envelope',), ('fatty-acid--CoA ligase (cerotic acid), cell envelope',), ('fatty-acid--CoA ligase (behenate), ER membrane',), ('fatty-acid--CoA ligase (lignoceric acid), ER membrane',), ('fatty-acid--CoA ligase (cerotic acid), ER membrane',), ('fatty-acid--CoA ligase (behenate), lipid particle',), ('fatty-acid--CoA ligase (lignoceric acid), lipid particle',), ('fatty-acid--CoA ligase (cerotic acid), lipid particle',), ('fatty acyl-CoA transport via ABC system (C12:0)',), ('fatty acyl-CoA transport via ABC system (C14:0)',), ('fatty acyl-CoA transport via ABC system (C16:0)',), ('fatty acyl-CoA transport via ABC system (C16:1)',), ('fatty acyl-CoA transport via ABC system (C18:0)',), ('fatty acyl-CoA transport via ABC system (C18:1)',), ('fatty acyl-CoA transport via ABC system (C20:0)',), ('fatty acyl-CoA transport via ABC system (C22:0)',), ('fatty acyl-CoA transport via ABC system (C24:0)',), ('fatty acyl-CoA transport via ABC system (C26:0)',), ('butyrate (n-C4:0) transport, cytoplasm-peroxisome',), ('hexanoate (n-C6:0) transport, cytoplasm-peroxisome',), ('octadecenoate (n-C18:1) transport, cytoplasm-peroxisome',), ('peroxisomal acyl-CoA thioesterase (4:0)',), ('peroxisomal acyl-CoA thioesterase (6:0)',), ('peroxisomal acyl-CoA thioesterase (16:1)',), ('peroxisomal acyl-CoA thioesterase (18:1)',), ('acyl-CoA oxidase (butanoyl-CoA)',), ('acyl-CoA oxidase (hexanoyl-CoA)',), ('acyl-CoA oxidase (octanoyl-CoA)',), ('acyl-CoA oxidase (icosanoyl-CoA)',), ('acyl-CoA oxidase (docosanoyl-CoA)',), ('acyl-CoA oxidase (tetracosanoyl-CoA)',), ('acyl-CoA oxidase (palmitoleoyl-CoA)',), ('acyl-CoA oxidase (cis-tetradec-7-enoyl-CoA)',), ('acyl-CoA oxidase (cis-dodec-5-enoyl-CoA)',), ('acyl-CoA oxidase (oleoyl-CoA)',), ('acyl-CoA oxidase (cis-hexadec-7-enoyl-CoA)',), ('acyl-CoA oxidase (cis-tetradec-5-enoyl-CoA)',), ('2-enoyl-CoA hydratase (3-hydroxydecanoyl-CoA)',), ('2-enoyl-CoA hydratase (3-hydroxydodecanoyl-CoA)',), ('2-enoyl-CoA hydratase (3-hydroxytetradecanoyl-CoA)',), ('2-enoyl-CoA hydratase (3-hydroxyhexadecanoyl-CoA)',), ('2-enoyl-CoA hydratase (3-hydroxyoctadecanoyl-CoA)',), ('2-enoyl-CoA hydratase (3-hydroxyhexacosanoyl-CoA)',), ('2-enoyl-CoA hydratase (3-hydroxybutanoyl-CoA)',), ('2-enoyl-CoA hydratase (3-hydroxyhexanoyl-CoA)',), ('2-enoyl-CoA hydratase (3-hydroxyoctanoyl-CoA)',), ('2-enoyl-CoA hydratase (3-hydroxyicosanoyl-CoA)',), ('2-enoyl-CoA hydratase (3-hydroxydocosanoyl-CoA)',), ('2-enoyl-CoA hydratase (3-hydroxytetracosanoyl-CoA)',), ('2-enoyl-CoA hydratase (3-hydroxy-cis-hexadec-9-enoyl-CoA)',), ('2-enoyl-CoA hydratase (3-hydroxy-cis-tetradec-7-enoyl-CoA)',), ('2-enoyl-CoA hydratase (3-hydroxy-cis-dodec-5-enoyl-CoA)',), ('2-enoyl-CoA hydratase (3-hydroxy-cis-octadec-9-enoyl-CoA)',), ('2-enoyl-CoA hydratase (3-hydroxy-cis-hexadec-7-enoyl-CoA)',), ('2-enoyl-CoA hydratase (3-hydroxy-cis-tetradec-5-enoyl-CoA)',), ('3-hydroxyacyl-CoA dehydrogenase (3-oxodecanoyl-CoA)',), ('3-hydroxyacyl-CoA dehydrogenase (3-oxododecanoyl-CoA)',), ('3-hydroxyacyl-CoA dehydrogenase (3-oxohexadecanoyl-CoA)',), ('3-hydroxyacyl-CoA dehydrogenase (3-oxooctadecanoyl-CoA)',), ('3-hydroxyacyl-CoA dehydrogenase (3-oxohexacosanoyl-CoA)',), ('3-hydroxyacyl-CoA dehydrogenase (3-oxobutanoyl-CoA)',), ('3-hydroxyacyl-CoA dehydrogenase (3-oxohexanoyl-CoA)',), ('3-hydroxyacyl-CoA dehydrogenase (3-oxooctanoyl-CoA)',), ('3-hydroxyacyl-CoA dehydrogenase (3-oxoicosanoyl-CoA)',), ('3-hydroxyacyl-CoA dehydrogenase (3-oxodocosanoyl-CoA)',), ('3-hydroxyacyl-CoA dehydrogenase (3-oxotetracosanoyl-CoA)',), ('3-hydroxyacyl-CoA dehydrogenase (3-oxo-cis-hexadec-9-enoyl-CoA)',), ('3-hydroxyacyl-CoA dehydrogenase (3-oxo-cis-tetradec-7-enoyl-CoA)',), ('3-hydroxyacyl-CoA dehydrogenase (3-oxo-cis-dodec-5-enoyl-CoA)',), ('3-hydroxyacyl-CoA dehydrogenase (3-oxo-cis-octadec-9-enoyl-CoA)',), ('3-hydroxyacyl-CoA dehydrogenase (3-oxo-cis-hexadec-7-enoyl-CoA)',), ('3-hydroxyacyl-CoA dehydrogenase (3-oxo-cis-tetradec-5-enoyl-CoA)',), ('acetyl-CoA C-acyltransferase (acetyl-CoA)',), ('acetyl-CoA C-acyltransferase (butanoyl-CoA)',), ('acetyl-CoA C-acyltransferase (hexanoyl-CoA)',), ('acetyl-CoA C-acyltransferase (stearoyl-CoA)',), ('acetyl-CoA C-acyltransferase (icosanoyl-CoA)',), ('acetyl-CoA C-acyltransferase (docosanoyl-CoA)',), ('acetyl-CoA C-acyltransferase (cis-tetradec-7-enoyl-CoA)',), ('acetyl-CoA C-acyltransferase (cis-dodec-5-enoyl-CoA)',), ('acetyl-CoA C-acyltransferase (cis-dec-3-enoyl-CoA)',), ('acetyl-CoA C-acyltransferase (cis-hexadec-7-enoyl-CoA)',), ('acetyl-CoA C-acyltransferase (cis-tetradec-5-enoyl-CoA)',), ('acetyl-CoA C-acyltransferase (cis-dodec-3-enoyl-CoA)',), ('2,4-dienoyl-CoA reductase (trans-2,trans-4-dodecadienoyl-CoA)',), ('2,4-dienoyl-CoA reductase (trans-2,trans-4-tetradecadienoyl-CoA)',), ('cis-aconitate(3-) to isocitrate',), ('ergosteryl ester hydrolase (16:1), lipid particle',), ('ergosteryl ester hydrolase (18:1), lipid particle',), ('episteryl ester hydrolase (16:1), lipid particle',), ('episteryl ester hydrolase (18:1), lipid particle',), ('fecosteryl ester hydrolase (16:1), lipid particle',), ('fecosteryl ester hydrolase (18:1), lipid particle',), ('lanosteryl ester hydrolase (16:1), lipid particle',), ('lanosteryl ester hydrolase (18:1), lipid particle',), ('zymosteryl ester hydrolase (16:1), lipid particle',), ('zymosteryl ester hydrolase (18:1), lipid particle',), ('zymosteryl ester hydrolase (16:1), cell envelope',), ('zymosteryl ester hydrolase (18:1), cell envelope',), ('laurate transport, cytoplasm-ER membrane',), ('myristate transport, cytoplasm-ER membrane',), ('palmitate transport, cytoplasm-ER membrane',), ('palmitoleate transport, cytoplasm-ER membrane',), ('stearate transport, cytoplasm-ER membrane',), ('oleate transport, cytoplasm-ER membrane',), ('malonyl-CoA transport, cytoplasm-ER membrane',), ('lauroyl-CoA transport, cytoplasm-ER membrane',), ('myristoyl-CoA transport, cytoplasm-ER membrane',), ('palmitoyl-CoA transport, cytoplasm-ER membrane',), ('palmitoleoyl-CoA transport, cytoplasm-ER membrane',), ('stearoyl-CoA transport, cytoplasm-ER membrane',), ('oleoyl-CoA transport, cytoplasm-ER membrane',), ('icosanoyl-CoA transport, cytoplasm-ER membrane',), ('docosanoyl-CoA transport, cytoplasm-ER membrane',), ('tetracosanoyl-CoA transport, cytoplasm-ER membrane',), ('hexacosanoyl-CoA transport, cytoplasm-ER membrane',), ('H+ transport, cytoplasm-ER membrane',), ('H2O transport, cytoplasm-ER membrane',), ('CO2 transport, cytoplasm-ER membrane',), ('coenzyme A transport, cytoplasm-ER membrane',), ('NADPH transport, cytoplasm-ER membrane',), ('NADP(+) transport, cytoplasm-ER membrane',), ('O2 transport, cytoplasm-ER membrane',), ('NADH transport, cytoplasm-ER membrane',), ('NAD transport, cytoplasm-ER membrane',), ('glycerol 3-phosphate transport, cytoplasm-ER membrane',), ('dihydroxyacetone phosphate transport, cytoplasm-ER membrane',), ('diphosphate transport, cytoplasm-ER membrane',), ('phosphate transport, cytoplasm-ER membrane',), ('CTP transport, cytoplasm-ER membrane',), ('CDP transport, cytoplasm-ER membrane',), ('CMP transport, cytoplasm-ER membrane',), ('CDP-ethanolamine transport, cytoplasm-ER membrane',), ('CDP-choline transport, cytoplasm-ER membrane',), ('ATP transport, cytoplasm-ER membrane',), ('AMP transport, cytoplasm-ER membrane',), ('L-serine transport, cytoplasm-ER membrane',), ('myo-inositol transport, cytoplasm-ER membrane',), ('S-adenosyl-L-methionine transport, cytoplasm-ER membrane',), ('S-adenosyl-L-homocysteine transport, cytoplasm-ER membrane',), ('episterol transport, cytoplasm-ER membrane',), ('fecosterol transport, cytoplasm-ER membrane',), ('lanosterol transport, cytoplasm-ER membrane',), ('ergosterol transport, cytoplasm-ER membrane',), ('zymosterol transport, cytoplasm-ER membrane',), ('sn-glycero-3-phosphocholine transport, ER membrane-cytoplasm',), ('hexadecanoate (n-C16:0) transport, cytoplasm-lipid particle',), ('hexadecenoate (n-C16:1) transport, cytoplasm-lipid particle',), ('octadecanoate (n-C18:0) transport, cytoplasm-lipid particle',), ('octadecenoate (n-C18:1) transport, cytoplasm-lipid particle',), ('lauroyl-CoA transport, cytoplasm-lipid particle',), ('myristoyl-CoA transport, cytoplasm-lipid particle',), ('palmitoyl-CoA transport, cytoplasm-lipid particle',), ('palmitoleoyl-CoA transport, cytoplasm-lipid particle',), ('stearoyl-CoA transport, cytoplasm-lipid particle',), ('oleoyl-CoA transport, cytoplasm-lipid particle',), ('glycerol 3-phosphate transport, cytoplasm-lipid particle',), ('dihydroxyacetone phosphate transport, cytoplasm-lipid particle',), ('NADPH transport, cytoplasm-lipid particle',), ('NADP(+) transport, cytoplasm-lipid particle',), ('ATP transport, cytoplasm-lipid particle',), ('AMP transport, cytoplasm-lipid particle',), ('diphosphate transport, cytoplasm-lipid particle',), ('H2O transport, cytoplasm-lipid particle',), ('glycerol transport, lipid particle-cytoplasm',), ('docosanoyl-CoA transport, lipid particle-cytoplasm',), ('tetracosanoyl-CoA transport, lipid particle-cytoplasm',), ('hexacosanoyl-CoA transport, lipid particle-cytoplasm',), ('ATP transport, cytoplasm-cell envelope',), ('ADP transport, cytoplasm-cell envelope',), ('H+ transport, cytoplasm-cell envelope',), ('H2O transport, cytoplasm-cell envelope',), ('phosphate transport, cytoplasm-cell envelope',), ('sn-glycero-3-phosphocholine transport, cell envelope-cytoplasm',), ('1-(sn-glycero-3-phospho)-1D-myo-inositol transport, cell envelope-cytoplasm',), ('palmitate transport, cell envelope-cytoplasm',), ('palmitoleate transport, cell envelope-cytoplasm',), ('stearate transport, cell envelope-cytoplasm',), ('oleate transport, cell envelope-cytoplasm',), ('icosanoyl-CoA transport, cell envelope-cytoplasm',), ('docosanoyl-CoA transport, cell envelope-cytoplasm',), ('tetracosanoyl-CoA transport, cell envelope-cytoplasm',), ('hexacosanoyl-CoA transport, cell envelope-cytoplasm',), ('H2O transport, cytoplasm-vacuolar membrane',), ('phosphate transport, cytoplasm-vacuolar membrane',), ('H+ transport, cytoplasm-vacuolar membrane',), ('ATP transport, cytoplasm-vacuolar membrane',), ('ADP transport, cytoplasm-vacuolar membrane',), ('carbon dioxide transport, cytoplasm-vacuolar membrane',), ('H2O transport, cytoplasm-Golgi membrane',), ('phosphate transport, cytoplasm-Golgi membrane',), ('H+ transport, cytoplasm-Golgi membrane',), ('carbon dioxide transport, cytoplasm-Golgi membrane',), ('ATP transport, cytoplasm-Golgi membrane',), ('ADP transport, cytoplasm-Golgi membrane',), ('H2O transport, cytoplasm-mitochondrial membrane',), ('carbon dioxide transport, cytoplasm-mitochondrial membrane',), ('palmitoleoyl-CoA transport, cytoplasm-mitochondrial membrane',), ('oleoyl-CoA transport, cytoplasm-mitochondrial membrane',), ('palmitate transport, mitochondrial membrane-cytoplasm',), ('stearate transport, mitochondrial membrane-cytoplasm',), ('coenzyme A transport, mitochondrial membrane-cytoplasm',), ('laurate transport, ER membrane-lipid particle',), ('myristate transport, ER membrane-lipid particle',), ('lignoceric acid transport, ER membrane-lipid particle',), ('cerotic acid transport, ER membrane-lipid particle',), ('episterol transport, ER membrane-lipid particle',), ('fecosterol transport, ER membrane-lipid particle',), ('lanosterol transport, ER membrane-lipid particle',), ('zymosterol transport, ER membrane-lipid particle',), ('ergosteryl palmitoleate transport, ER membrane-lipid particle',), ('ergosteryl oleate transport, ER membrane-lipid particle',), ('episteryl palmitoleate transport, ER membrane-lipid particle',), ('episteryl oleate transport, ER membrane-lipid particle',), ('fecosteryl palmitoleate transport, ER membrane-lipid particle',), ('fecosteryl oleate transport, ER membrane-lipid particle',), ('lanosteryl palmitoleate transport, ER membrane-lipid particle',), ('lanosteryl oleate transport, ER membrane-lipid particle',), ('zymosteryl palmitoleate transport, ER membrane-lipid particle',), ('zymosteryl oleate transport, ER membrane-lipid particle',), ('lignoceric acid transport, cell envelope-ER membrane',), ('cerotic acid transport, cell envelope-ER membrane',), ('zymosteryl palmitoleate transport, ER membrane-cell envelope',), ('zymosteryl oleate transport, ER membrane-cell envelope',), ('lignoceric acid transport, ER membrane-ER',), ('cerotic acid transport, ER membrane-ER',), ('ergosterol transport, ER-ER membrane',), ('phosphate transport, ER-ER membrane',), ('H+ transport, mitochondrion-mitochondrial membrane',), ('glycerol 3-phosphate transport, mitochondrion-mitochondrial membrane',), ('CMP transport, mitochondrion-mitochondrial membrane',), ('CTP transport, mitochondrion-mitochondrial membrane',), ('phosphate transport, mitochondrion-mitochondrial membrane',), ('diphosphate transport, mitochondrion-mitochondrial membrane',), ('phosphatidyl-L-serine transport, ER membrane-cytoplasm',), ('phosphatidylcholine transport, ER membrane-cytoplasm',), ('phosphatidylethanolamine transport, ER membrane-cytoplasm',), ('triglyceride transport, ER membrane-cytoplasm',), ('succinyl-CoA:acetate CoA transferase',), ('heme a transport',), ('raffinose invertase',), ('raffinose exchange',), ('melibiose exchange',), ('uridine hydrolase',), ('lysoPI acyltransferase, ER membrane',), ('DAG kinase',), ('PGP phosphatase',), ('CL phospholipase',), ('MLCL:PC acyltransferase',), ('lysoPC acyltransferase, mitochondrial membrane',), ('PE diacylglycerol acyltransferase',), ('PC diacylglycerol acyltransferase',), ('PC phospholipase B',), ('LPC phospholipase B',), ('PC phospholipase B',), ('LPC phospholipase B',), ('PE phospholipase B',), ('LPE phospholipase B',), ('PS phospholipase B',), ('LPS phospholipase B',), ('PI phospholipase B',), ('LPI phospholipase B',), ('PI 4,5-P2 phospholipase C',), ('PI 4,5-P2 phospholipase C',), ('PG phospholipase C',), ('PI 3-P phosphatase',), ('PI 3-P phosphatase',), ('PI 3-P phosphatase',), ('PI 3-P phosphatase',), ('PI 4-P phosphatase',), ('PI 4-P phosphatase',), ('PI 4-P phosphatase',), ('PI 4-P phosphatase',), ('PI 3,5-P2 phosphatase',), ('PI 3,5-P2 phosphatase',), ('PI 4,5-P2 phosphatase',), ('PI 4,5-P2 phosphatase',), ('PI 4,5-P2 phosphatase',), ('PI 3,5-P2 phosphatase',), ('DGPP phosphatase',), ('DGPP phosphatase',), ('lysoPA phosphatase, cytoplasm',), ('lysoPA phosphatase, vacuolar membrane',), ('lysoPA phosphatase, Golgi membrane',), ('DAG lipase, lipid particle',), ('DAG lipase, mitochondrion',), ('MAG lipase',), ('lysoPE acyltransferase, lipid particle',), ('PC phospholipase A2, lipid particle',), ('PE phospholipase A2, lipid particle',), ('PA kinase, Golgi membrane',), ('PA kinase, vacuolar membrane',), ('diglyceride transport, cytoplasm-ER membrane',), ('1-phosphatidyl-1D-myo-inositol transport, cytoplasm-ER membrane',), ('diglyceride transport, cytoplasm-lipid particle',), ('1-phosphatidyl-1D-myo-inositol 4,5-bisphosphate transport, cell envelope-cytoplasm',), ('1-phosphatidyl-1D-myo-inositol 4-phosphate transport, cell envelope-cytoplasm',), ('1-phosphatidyl-1D-myo-inositol 4,5-bisphosphate transport, nucleus-cytoplasm',), ('diglyceride transport, nucleus-cytoplasm',), ('1-phosphatidyl-1D-myo-inositol 3,5-bisphosphate transport, vacuolar membrane-cytoplasm',), ('diglyceride transport, mitochondrial membrane-cytoplasm',), ('TAG transport, ER membrane-lipid particle',), ('phosphatidylcholine transport, ER membrane-lipid particle',), ('phosphatidylethanolamine transport, ER membrane-lipid particle',), ('1-acylglycerophosphocholine transport, ER membrane-lipid particle',), ('1-acylglycerophosphoethanolamine transport, ER membrane-lipid particle',), ('phosphatidate transport, lipid particle-ER membrane',), ('phosphatidate transport, ER membrane-mitochondrial membrane',), ('phosphatidyl-L-serine transport, ER membrane-mitochondrial membrane',), ('phosphatidylethanolamine transport, mitochondrial membrane-ER membrane',), ('phosphatidylcholine transport, ER membrane-mitochondrial membrane',), ('diglyceride transport, ER membrane-Golgi membrane',), ('phosphatidate transport, ER membrane-Golgi membrane',), ('1-phosphatidyl-1D-myo-inositol transport, ER membrane-Golgi membrane',), ('phosphatidyl-L-serine transport, ER membrane-Golgi membrane',), ('phosphatidylethanolamine transport, Golgi membrane-ER membrane',), ('phosphatidate transport, ER membrane-vacuolar membrane',), ('1-phosphatidyl-1D-myo-inositol transport, ER membrane-vacuolar membrane',), ('phosphatidyl-L-serine transport, ER membrane-vacuolar membrane',), ('phosphatidylethanolamine transport, vacuolar membrane-ER membrane',), ('1-phosphatidyl-1D-myo-inositol 3-phosphate transport, vacuolar membrane-ER membrane',), ('1-phosphatidyl-1D-myo-inositol transport, ER membrane-cell envelope',), ('phosphatidylcholine transport, ER membrane-cell envelope',), ('phosphatidylethanolamine transport, ER membrane-cell envelope',), ('phosphatidyl-L-serine transport, ER membrane-cell envelope',), ('phosphatidate transport, cell envelope-ER membrane',), ('1-phosphatidyl-1D-myo-inositol 4-phosphate transport, cell envelope-ER membrane',), ('1-phosphatidyl-1D-myo-inositol 4,5-bisphosphate transport, cell envelope-ER membrane',), ('1-phosphatidyl-1D-myo-inositol transport, ER membrane-nucleus',), ('1-phosphatidyl-1D-myo-inositol 3-phosphate transport, vacuolar membrane-Golgi membrane',), ('1-phosphatidyl-1D-myo-inositol 3,5-bisphosphate transport, vacuolar membrane-cell envelope',), ('glycinamide ribonucleotide transformylase',), ('mannitol dehydrogenase',), ('ATP-citrate lyase',), ('extracellular tributyrin hydrolysis',), ('extracellular dibutyrin hydrolysis',), ('extracellular monobutyrate hydrolysis',), ('fatty-acid--CoA ligase (butyrate)',), ('O-succinylhomoserine lyase (elimination)',), ('acyldihydroxyacetonephosphate reductase',), ('purine-nucleoside phosphorylase (nicotinate)',), ('nucleotidase (NMN)',), ('nucleotidase (nicotinate D-ribonucleotide)',), ('nicotinate riboside kinase',), ('empty',), (\"ATP:pantothenate 4'-phosphotransferase\",), (\"ATP:pantothenate 4'-phosphotransferase\",), ('UDP-glucose:NAD+ 6-oxidoreductase',), ('ATP:D-Gluconate 6-phosphotransferase',), ('ADP-ribose ribophosphohydrolase',), ('ribonucleotide reductase',), ('ribonucleotide reductase',), (\"ATP:cytidine 5'-phosphotransferase\",), (\"UTP:cytidine 5'-phosphotransferase\",), (\"ITP:cytidine 5'-phosphotransferase\",), (\"UTP:uridine 5'-phosphotransferase\",), (\"ITP:uridine 5'-phosphotransferase\",), (\"dATP:cytidine 5'-phosphotransferase\",), (\"dATP:uridine 5'-phosphotransferase\",), (\"dGTP:uridine 5'-phosphotransferase\",), (\"dGTP:cytidine 5'-phosphotransferase\",), (\"dTTP:cytidine 5'-phosphotransferase\",), (\"dTTP:uridine 5'-phosphotransferase\",), (\"dCTP:uridine 5'-phosphotransferase\",), (\"dUTP:uridine 5'-phosphotransferase\",), (\"dCTP:cytidine 5'-phosphotransferase\",), (\"dUTP:cytidine 5'-phosphotransferase\",), ('decane transport e--c',), ('hexadecane transport e--c',), ('alkane oxidase (C10)',), ('long-chain alcohol dehydrogenase (C10)',), ('alkane oxidase (C12)',), ('long-chain alcohol dehydrogenase (C12)',), ('alkane oxidase (C16)',), ('long-chain alcohol dehydrogenase (C16)',), ('oleoyl-CoA desaturase (n-C18:1CoA - n-C18:2CoA), ER membrane',), ('fatty-acid--CoA ligase (octadecadienoate), ER membrane',), ('fatty-acid--CoA ligase (octadecadienoate), lipid particle',), ('fatty-acid--CoA ligase (octadecadienoate), peroxisome',), ('peroxisomal acyl-CoA thioesterase (18:2)',), ('fatty acyl-CoA transport via ABC system (C18:2)',), ('isocitrate transport',), ('octadecenoate (n-C18:1) transport',), ('octadecenoate (n-C18:1) transport, cytoplasm-peroxisome',), ('linoleoyl-CoA transport, cytoplasm-ER membrane',), ('linoleoyl-CoA transport, cytoplasm-lipid particle',), ('linoleoyl-CoA transport, cytoplasm-mitochondrial membrane',), ('dodecane transport e--c',), ('long-chain alcohol oxidase (C10)',), ('long-chain alcohol oxidase (C12)',), ('long-chain alcohol oxidase (C16)',), ('long-chain aldehyde dehydrogenase (C10)',), ('long-chain aldehyde dehydrogenase (C12)',), ('long-chain aldehyde dehydrogenase (C16)',), ('octadecenoate (n-C18:1) transport',), ('NADH dehydrogenase (complex I)',), ('Leucine transport',), ('xanthine dehydrogenase',), ('urate oxidase',), ('hydroxyisourate hydrolase',), ('OHCU decarboxylase',), ('4-hydroxyphenylpyruvate dioxygenase',), ('homogentisate 1,2-dioxygenase',), ('maleylacetoacetate isomerase',), ('fumarylacetoacetase',), ('erythrose kinase',), ('erythrose reductase',), ('erythritol transport extracellular',), ('arabinitol dehydrogenase',), ('mannitol transport extracellular',), ('4-methyl-2-oxopentanoate dehydrogenase',), ('3-methyl-2-oxopentanoate dehydrogenase',), ('(S)3-methyl-2-oxopentanoate dehydrogenase',), ('3-methylbutanoyl-CoA dehydrogenase;',), ('3-methylcrotonyl-CoA carboxylase',), ('3-methylglutaconyl-CoA dehydratase',), ('hydroxymethylglutaryl-CoA lyase',), ('2-oxoadipate dehydrogenase',), ('glutaryl-CoA dehydrogenase',), ('crotonyl-CoA hydratase',), ('(S)-3-Hydroxybutanoyl-CoA oxidoreductase',), ('cellobiose glucohydrolase',), ('L-Glutamate 5-semialdehyde:NAD+ oxidoreductase',), ('5-oxo-L-proline amidohydrolase (ATP-hydrolysing)',), ('succinyl-CoA:acetoacetate CoA-transferase',), ('GTP diphosphohydrolase (diphosphate-forming);',), (\"GTP diphosphate-lyase (cyclizing; 3',5'-cyclic-GMP-forming)\",), ('L-aspartate 1-carboxy-lyase (beta-alanine-forming)',), ('glutathione gamma-glutamylaminopeptidase',), (\"3'-Phospho-5'-adenylyl sulfate 3'-phosphohydrolase\",), ('L-Serine:pyruvate aminotransferase',), ('L-Serine:glyoxylate aminotransferase',), ('serine racemase',), ('L-Serine hydro-lyase',), ('Uridine triphosphate pyrophosphohydrolase',), (\"Inosine 5'-triphosphate pyrophosphohydrolase\",), (\"2'-Deoxyguanosine 5'-triphosphate diphosphohydrolase\",), ('ATP:D-glucosamine 6-phosphotransferase',), ('N-Acetyl-D-glucosamine-6-phosphate amidohydrolase',), ('dTDP phosphohydrolase',), ('dTTP nucleotidohydrolase',), ('dihydrofolate:NADP+ oxidoreductase',), ('dihydrofolate:NADP+ oxidoreductase',), (\"2'-Deoxyinosine-5'-triphosphate pyrophosphohydrolase\",), ('glycerol transport, mm - cy',), ('EXC_OUT_m1803',), ('EXC_OUT_m1826',), ('EXC_OUT_m1824',)]\n"
     ]
    }
   ],
   "source": [
    "with open('Libro2.csv', newline='') as f:\n",
    "    reader = csv.reader(f)\n",
    "    data2 = [tuple(row) for row in reader]\n",
    "\n",
    "print(data2)"
   ]
  },
  {
   "cell_type": "code",
   "execution_count": 12,
   "id": "3d6ad419",
   "metadata": {},
   "outputs": [
    {
     "data": {
      "text/plain": [
       "[('(R)-3-Hydroxybutanoate:NAD+ oxidoreductase',),\n",
       " ('Ferrocytochrome-c:oxygen oxidoreductase',),\n",
       " ('ATP:(R)-glycerate 3-phosphotransferase',),\n",
       " ('acyl-CoA:1,2-diacyl-sn-glycerol O-acyltransferase',),\n",
       " ('Gly-Pro exchange',),\n",
       " ('L-Tryptophan:2-oxoglutarate aminotransferase',),\n",
       " ('5-aminopentanoate:2-oxoglutarate aminotransferase',),\n",
       " ('D-glucosamine transport via diffusion',),\n",
       " ('Gly-Asp transport via proton antiport',),\n",
       " ('UDP-glucose:glycogen 4-alpha-D-glucosyltransferase',),\n",
       " ('dihydroceramide, NADPH: oxygen oxidoreductase',),\n",
       " ('D-gluconate transport via diffusion',),\n",
       " ('mannose-inositol phosphorylceramide synthase (ceramide-2, 24C), yeast-specific',),\n",
       " ('2-Methylpropanoyl-CoA transport',),\n",
       " ('UDP-glucose transport',),\n",
       " ('4-aminobutanal:NAD+ 1-oxidoreductase; 4-aminobutyraldehyde:NAD+ oxidoreductase',),\n",
       " ('acetyl CoA synthetase',),\n",
       " ('(2S,3S)-3-Hydroxy-2-methylbutanoyl-CoA hydro-liase',),\n",
       " ('2-phenylacetamide amidohydrolase',),\n",
       " ('Palatinose hydrolase',),\n",
       " ('mannose-inositol phosphorylceramide synthase (ceramide-1, 26C), yeast-specific',),\n",
       " ('fatty acyl ACP synthase n C140ACP mitochondrial',),\n",
       " ('S_Adenosyl_L_homocysteine transport',),\n",
       " ('2-methylpropanoyl-CoA:(acceptor) 2,3-oxidoreductase',),\n",
       " ('Acetyl-CoA:propanoyl-CoA 2-C-acetyltransferase; 2-methylacetoacetyl-CoA thiolase',),\n",
       " ('malonate exchange',),\n",
       " ('Glyceron phosphate transport',),\n",
       " ('L-cysteinylglycine dipeptidase',),\n",
       " ('2 Octaprenyl 6 hydroxyphenol nuclear transport',),\n",
       " ('3,4-Dihydroxyphenylacetaldehyde:NAD+ oxidoreductase',),\n",
       " ('Ceramide-2 (Phytosphingosine:n-C24:0) transport',),\n",
       " ('Triacylglycerol transport',),\n",
       " ('acyl-CoA:sphingosine N-acyltransferase',),\n",
       " ('primary-amine oxidase',),\n",
       " ('Ceramide-1 (Sphinganine:n-C26:0) transport',),\n",
       " ('No name',),\n",
       " ('beta-alanine:2-oxoglutarate aminotransferase',),\n",
       " ('carbonate hydro-lyase (carbon-dioxide-forming); carbonic acid hydro-lyase',),\n",
       " ('L-Citrulline:L-aspartate ligase (AMP-forming)',),\n",
       " ('newBiom',),\n",
       " ('Ceramide-3 (Phytosphingosine:n-C26:0OH)transport',),\n",
       " ('3-dehydroshikimate exchange',),\n",
       " ('Dihydroxy-Acetone transport',),\n",
       " ('Sphinganine transport',),\n",
       " ('xBIOMASS',),\n",
       " ('Pyridoxine:NADP+ 4-oxidoreductase',),\n",
       " ('mannosylinositol phosphorylceramide A (C26)_C56H110NO16P transport',),\n",
       " ('UMP:diphosphate phospho-alpha-D-ribosyltransferase',),\n",
       " ('UDP-D-glucuronate carboxy-lyase',),\n",
       " ('triolein hydrolysis',),\n",
       " ('UTP:N-acetyl-alpha-D-glucosamine-1-phosphate uridylyltransferase',),\n",
       " ('Name1',),\n",
       " ('mannose-inositol phosphorylceramide synthase (ceramide-3, 26C), yeast-specific',),\n",
       " ('Dihydroxy-Acetone exchange',),\n",
       " ('alpha_Aminopropiononitrile transport',),\n",
       " ('N-Acetyl-D-Glucosamine kinase',),\n",
       " ('Ceramide-2 (Phytosphingosine:n-C26:0) transport',),\n",
       " ('1,4-alpha-D-Glucan:1,4-alpha-D-glucan 6-alpha-D-(1,4-alpha-D-glucano)-transferase',),\n",
       " ('2-oxobutanoate exchange',),\n",
       " ('tributyrin exchange',),\n",
       " ('Gly-Asp exchange',),\n",
       " ('D-Gluconate:NADP+ 5-oxidoreductase',),\n",
       " ('fatty acyl ACP hydrolase',),\n",
       " ('mannosylinositol phosphorylceramide C (C24)_C54H106NO18P transport',),\n",
       " ('(2S,3S)-3-hydroxy-2-methylbutanoyl-CoA:NAD+ oxidoreductase',),\n",
       " ('Acetaldehyde:NAD+ oxidoreductase',),\n",
       " ('Hydroxybenzoate octaprenyltransferase',),\n",
       " ('Propanoate:CoA transport',),\n",
       " ('5-dehydro-D-gluconate exchange',),\n",
       " ('mannose-inositol phosphorylceramide synthase (ceramide-2, 26C), yeast-specific',),\n",
       " ('D-Limonene synthase',),\n",
       " ('(S)3-methyl-2-oxopentanoate',),\n",
       " ('Hexadecanoate hydroxylase',),\n",
       " ('Ceramide-3 (Phytosphingosine:n-C24:0OH) trasnport',),\n",
       " ('Dolichyl phosphate D-mannose transport',),\n",
       " ('(R)-Methylmalonyl-CoA CoA-carbonylmutase',),\n",
       " ('Phytosphingosine transport',),\n",
       " ('biomass_C',),\n",
       " ('3-Methylbutanoyl-CoA:(acceptor) 2,3-oxidoreductase',),\n",
       " ('Inositol phosphorylceramide synthase (ceramide-2, 24C), yeast-specific',),\n",
       " ('Salicin transport via  proton symport',),\n",
       " ('3-Oxopropanoate:NAD+ oxidoreductase (decarboxylating, CoA-acetylating)',),\n",
       " ('alpha_Aminopropiononitrile exchange',),\n",
       " ('N-Acetyl-D-Glucosamine transport',),\n",
       " ('Indole_3_acetonitrile exchange',),\n",
       " ('L-alanine transport (vacuole)',),\n",
       " ('2 Octaprenylphenol hydroxylase',),\n",
       " ('(S)-2-methylbutanoyl-CoA:acceptor 2,3-oxidoreductase',),\n",
       " ('cytosol nonspecific dipeptidase',),\n",
       " ('4-(2-Aminoethyl)-1,2-benzenediol:oxygen oxidoreductase(deaminating)(flavin-containing)',),\n",
       " ('mannose-inositol phosphorylceramide synthase (ceramide-3, 24C), yeast-specific',),\n",
       " ('2-Deoxy-D-Ribose exchange',),\n",
       " ('3-Mercaptopyruvate:cyanide sulfurtransferase',),\n",
       " ('L-Cysteine:oxygen oxidoreductase',),\n",
       " ('AC-CoA transport',),\n",
       " ('Decanoyl-CoA transport',),\n",
       " ('Succinyl-CoA transport',),\n",
       " ('fatty acyl ACP mitochondrial transport',),\n",
       " ('Phenylacetaldehyde:NAD+ oxidoreductase',),\n",
       " ('Decanedioate extracellular transport',),\n",
       " ('UDP-D-galactose transport',),\n",
       " ('pyridoxal transport',),\n",
       " ('Reaction',),\n",
       " ('Magnesium transport',),\n",
       " ('Inositol phosphorylceramide synthase (ceramide-3, 26C), yeast-specific',),\n",
       " ('Triacyglycerol synthesis',),\n",
       " ('Hexadecenoyl-CoA transport',),\n",
       " ('Glycine transport (vacuole)',),\n",
       " ('D-Limonene exchange',),\n",
       " ('3-oxalomalate(3-) exchange',),\n",
       " ('fatty-acid--CoA ligase (hexadecenoate), peroxisome',),\n",
       " ('Dodecanoate hydroxylase',),\n",
       " ('2-oxobutanoate transport via proton symport',),\n",
       " ('2-Deoxy-D-Ribose transport',),\n",
       " ('Salicin exchange',),\n",
       " ('(S)-3-Hydroxyisobutyryl-CoA hydro-lyase',),\n",
       " ('hexadecane exchange',),\n",
       " ('1,2-Diacyl-sn-glycerol transport',),\n",
       " ('Salicin 6-phosphate glucohydrolase',),\n",
       " ('malonyl-CoA:pyruvate carboxytransferase',),\n",
       " ('diacylglycerol pyrophosphate phosphatase, yeast-specific',),\n",
       " ('L-Cysteine:2-oxoglutarate aminotransferase',),\n",
       " ('(R)-3-Hydroxybutanoate transport via H+ symport',),\n",
       " ('Octanoyl_CoA__n_C80CoA Transport',),\n",
       " ('Inositol phosphorylceramide synthase (ceramide-3, 24C), yeast-specific',),\n",
       " ('fatty acyl ACP synthase n C120ACP mitochondrial',),\n",
       " ('fatty-acid--CoA ligase (octadecenoate), peroxisome',),\n",
       " ('Ceramide-1 (Sphinganine:n-C24:0) transport',),\n",
       " ('glyoxylate/hydroxypyruvate reductase',),\n",
       " ('fatty acyl ACP synthase n C100ACP mitochondrial',),\n",
       " ('5-aminopentanoate transport via  proton symport',),\n",
       " ('UDP-N-Acetyl-D-glucosamine:N-acetyl-D-glucosaminyl diphosphodolichol N-acetyl-D-glucosaminyltransferase',),\n",
       " ('3-Methylcrotonyl-CoA transport',),\n",
       " ('Indole_3_acetonitrile transport',),\n",
       " ('1,4-alpha-D-Glucan glucohydrolase',),\n",
       " ('D-gluconate exchange',),\n",
       " ('Phenethylamine:oxygen oxidoreductase (deaminating)',),\n",
       " ('3-sulfino-L-alanine:2-oxoglutarate aminotransferase',),\n",
       " ('Aldehyde dehydrogenase (hydroxy-hexadecanoate)',),\n",
       " ('Fatty alcohol oxidase (hexadecanoate)',),\n",
       " ('Dolichyl-diphosphate phosphohydrolase',),\n",
       " ('Propanoate:CoA ligase (AMP-forming)',),\n",
       " ('5-aminopentanoate exchange',),\n",
       " ('5-Dehydro-D-gluconate transport via proton symport',),\n",
       " ('Acetate transport',),\n",
       " ('4-aminobutanoate:2-oxoglutarate aminotransferase',),\n",
       " ('(S)-Lactate:ferricytochrome-c 2-oxidoreductase',),\n",
       " ('phosphatidylcholine transport',),\n",
       " ('mannosylinositol phosphorylceramide C (C26)_C56H110NO18P transport',),\n",
       " ('Geranyl-diphosphate:isopentenyl-diphosphate geranyltrans-transferase',),\n",
       " ('Fatty alcohol oxidase (decanoate)',),\n",
       " ('(S)-Methylmalonate semialdehyde:NAD+ oxidoreductase (CoA-propanoylating)',),\n",
       " ('S-Adenosyl-L-methionine:catechol O-methyltransferase',),\n",
       " ('(2E,6E)-farnesyl-diphosphate:isopentenyl-diphosphate cistransferase (adding 10-55 isopentenyl units)',),\n",
       " ('phosphatidyl-L-serine transport',),\n",
       " ('D-Arabitol transport',),\n",
       " ('3-Hydroxy-2-methylpropanoate:NAD+ oxidoreductase',),\n",
       " ('Propanoate exchange',),\n",
       " ('Propanoyl-CoA transport',),\n",
       " ('gamma_Amino_gamma_cyanobutanoate exchange',),\n",
       " ('(R)-3-Hydroxybutanoate exchange',),\n",
       " ('3-dehydroshikimate transport',),\n",
       " ('D-Glyceraldehyde:NAD+ oxidoreductase',),\n",
       " ('Propanoate transport',),\n",
       " ('UDPglucose:dolichyl-phosphate beta-D-glucosyltransferase',),\n",
       " ('ATP:ethanolamine O-phosphotransferase',),\n",
       " ('Ceramide-1 synthase (26C)',),\n",
       " ('3-Oxalomalate transport via proton symport',),\n",
       " ('Dihydroxyacetone kinase',),\n",
       " ('3-oxalomalate glyoxylate-lyase (oxaloacetate-forming)',),\n",
       " ('glycine:oxygen oxidoreductase;Aminoacetic acid:oxygen oxidoreductase',),\n",
       " ('Glycolate:oxygen 2-oxidoreductase',),\n",
       " ('Gly-Glu exchange',),\n",
       " ('Agmatine amidinohydrolase',),\n",
       " ('Ala-Gly exchange',),\n",
       " ('Indole-3-acetamide amidohydrolase',),\n",
       " ('Palatinose exchange',),\n",
       " ('1-Phosphatidyl-D-myo-inositol inositolphosphohydrolase',),\n",
       " ('Gly-glu transport via proton antiport',),\n",
       " ('3-(indol-3-yl)pyruvate carboxy-lyase [(2-indol-3-yl)acetaldehyde-forming]',),\n",
       " ('fatty acyl ACP synthase n C141ACP mitochondrial',),\n",
       " ('Dolichyl diphosphate transport',),\n",
       " ('Succinate-semialdehyde:NADP+ oxidoreductase',),\n",
       " ('Hexadecanedioate peroxisomal transport',),\n",
       " ('N-Acetyl-D-Glucosamine exchange',),\n",
       " ('D-arabinose-5-phosphate aldose-ketose-isomerase',),\n",
       " ('Glycolate transport',),\n",
       " ('Inositol phosphorylceramide synthase (ceramide-1, 26C), yeast-specific',),\n",
       " ('UDP-N-Acetyl-D-glucosamine:dolichyl-phosphate N-Acetyl-D-glucosamine phosphotransferase',),\n",
       " ('nitrilase',),\n",
       " ('propanoyl-CoA:electron-transfer flavoprotein 2,3-oxidoreductase',),\n",
       " ('fatty acyl ACP synthase n C161ACP mitochondrial',),\n",
       " ('(S)-3-Hydroxyisobutyryl-CoA hydrolase',),\n",
       " ('Dodecanedioate peroxisomal transport',),\n",
       " ('D-glucosamine exchange',),\n",
       " ('S_Adenosyl_L_methionine transport',),\n",
       " ('Dodecanoyl_CoA__n_C120CoA Transport',),\n",
       " ('Inositol phosphorylceramide synthase (ceramide-1, 24C), yeast-specific',),\n",
       " ('NO NAME',),\n",
       " ('Ceramide-2 synthase (26C)',),\n",
       " ('proline transport (vacuole)',),\n",
       " ('UDP transport',),\n",
       " ('fatty acyl ACP synthase n C160ACP mitochondrial',),\n",
       " ('gamma_Amino_gamma_cyanobutanoate transport',),\n",
       " ('mannosylinositol phosphorylceramide A (C24)_C54H106NO16P transport',),\n",
       " ('phosphatidate transport',),\n",
       " ('GDPmannose:dolichyl-phosphate O-beta-D-mannosyltransferase',),\n",
       " ('L-methionine:oxidized-thioredoxin S-oxidoreductase',),\n",
       " ('ATP:D-arabinose 5-phosphotransferase',),\n",
       " ('Ceramide-2 synthase (24C)',),\n",
       " ('Fatty alcohol oxidase (dodecanoate)',),\n",
       " ('Aldehyde dehydrogenase (hydroxy-dodecanoate)',),\n",
       " ('3,4-dihydroxyphenylethyleneglycol:NAD+ oxidoreductase',),\n",
       " ('ATP:glycerone phosphotransferase',),\n",
       " ('N-Acetyl-D-glucosamine 1-phosphate 1,6-phosphomutase',),\n",
       " ('UDP-N-acetyl-alpha-D-glucosamine transport',),\n",
       " ('D-Arabitol exchange',),\n",
       " ('[1,4-(N-Acetyl-beta-D-glucosaminyl)]n glycanohydrolase',),\n",
       " ('triacylglycerol acylhydrolase',),\n",
       " ('mannose-inositiol phophorylceramide synthase (ceramide-1, 24C), yeast-specific',),\n",
       " ('Aldehyde dehydrogenase (hydroxy-decanoate)',),\n",
       " ('Magnesium exchange',),\n",
       " ('3,4-Dihydroxymandelaldehyde:NAD+ oxidoreductase',),\n",
       " ('(S)-Methylmalonate semialdehyde:NAD+ oxidoreductase',),\n",
       " ('phosphatidylethanolamine transport',),\n",
       " ('3-aminopropanal:NAD+ oxidoreductase',),\n",
       " ('Indole-3-acetaldehyde:NAD+ oxidoreductase',),\n",
       " ('Gly-Pro transport via proton antiport',),\n",
       " ('3-Oxopropanoate:NADP+ oxidoreductase (CoA-malonylating)',),\n",
       " ('mannosylinositol phosphorylceramide B (C24)_C54H106NO17P transport',),\n",
       " ('O3-acetyl-L-serine:thiosulfate 2-amino-2-carboxyethyltransferase (reducing, L-cysteine-forming); O3-acetyl-L-serine acetate-lyase (thiosulfate-reducing, L-cysteine-forming)',),\n",
       " ('3-Methylbutanoyl-CoA transport',),\n",
       " ('pyridoxal exchange',),\n",
       " ('triolein exchange',),\n",
       " ('Ala-Gly transport via proton antiport',),\n",
       " ('D-glyceraldehyde-3-phosphate aldose-ketose-isomerase',),\n",
       " ('D-arabinitol:NAD+ 2-oxidoreductase',),\n",
       " ('mannosylinositol phosphorylceramide B (C26)_C56H110NO17P transport',),\n",
       " ('Phosphatidyl-N-methylethanolamine N-methyltransferase, yeast-specific',),\n",
       " ('Ceramide-1 synthase (24C)',),\n",
       " ('fatty-acid--CoA ligase (octadecanoate), peroxisome',),\n",
       " ('3-Hydroxypropionyl-CoA hydro-lyase',),\n",
       " ('decanoate hydroxylase',),\n",
       " ('glucose 1-dehydrogenase',),\n",
       " ('L-Glutamate:ammonia ligase (ADP-forming)',),\n",
       " ('Inositol phosphoryceramide synthase (ceramide-2, 26C), yeast-specific',),\n",
       " ('Decanoyl_CoA__n_C100CoA Transport',),\n",
       " ('malonate transport',),\n",
       " ('Octaprenyl hydroxybenzoate decarboxylase',),\n",
       " ('2 octaprenyl 6 hydroxyphenol methylase nuclear',),\n",
       " ('Spermidine:(acceptor) oxidoreductase',),\n",
       " ('Acetyl-CoA:malonate CoA-transferase',),\n",
       " ('Acetoacetate transport',),\n",
       " ('GDP-mannose transport',),\n",
       " ('D-Limonene transport',)]"
      ]
     },
     "execution_count": 12,
     "metadata": {},
     "output_type": "execute_result"
    }
   ],
   "source": [
    "list(set(data) - set(data2))"
   ]
  },
  {
   "cell_type": "code",
   "execution_count": 2,
   "id": "5c319c78",
   "metadata": {},
   "outputs": [
    {
     "name": "stdout",
     "output_type": "stream",
     "text": [
      "      Unnamed: 0  amount_g  amount_pcs  feed_id  feedingtask_id    status  \\\n",
      "0             81    2840.0         NaN       14            4608  complete   \n",
      "1             82    2715.0         NaN       14            4614  complete   \n",
      "2             83    2620.0         NaN       14            4645  complete   \n",
      "3             84    1840.0         NaN       14            5150  complete   \n",
      "4             85       0.0         NaN       14            5164  complete   \n",
      "...          ...       ...         ...      ...             ...       ...   \n",
      "2772        4714       0.0         NaN       14            7023  complete   \n",
      "2773        4715       0.0         NaN       14            7029  complete   \n",
      "2774        4716       0.0         NaN       14            7035  complete   \n",
      "2775        4717    1625.0         NaN       14            7097  complete   \n",
      "2776        4718       NaN         NaN       14            7112   pending   \n",
      "\n",
      "            date start_time  end_time    notes  \\\n",
      "0     2022-03-25   12:00:00       NaN      NaN   \n",
      "1     2022-03-26   12:00:00       NaN      NaN   \n",
      "2     2022-03-28   12:00:00       NaN      NaN   \n",
      "3     2022-04-19   12:00:00       NaN      NaN   \n",
      "4     2022-04-21   12:00:00       NaN  Purging   \n",
      "...          ...        ...       ...      ...   \n",
      "2772  2022-07-25   23:59:00       NaN      NaN   \n",
      "2773  2022-07-26   23:59:00       NaN      NaN   \n",
      "2774  2022-07-27   23:59:00       NaN      NaN   \n",
      "2775  2022-07-31   16:30:00       NaN      NaN   \n",
      "2776  2022-08-01   23:59:00       NaN      NaN   \n",
      "\n",
      "                           executed_at  batch_id exe_at_format_date  \\\n",
      "0     2022-03-26 03:01:54.253016+00:00      10.0         2022-03-26   \n",
      "1     2022-03-26 03:02:03.546963+00:00      10.0         2022-03-26   \n",
      "2     2022-03-28 06:14:33.992087+00:00      10.0         2022-03-28   \n",
      "3     2022-04-19 02:35:20.764028+00:00      10.0         2022-04-19   \n",
      "4     2022-04-21 03:17:46.154521+00:00      10.0         2022-04-21   \n",
      "...                                ...       ...                ...   \n",
      "2772  2022-07-25 10:02:11.045488+00:00      28.0         2022-07-25   \n",
      "2773  2022-07-26 07:27:37.342878+00:00      28.0         2022-07-26   \n",
      "2774  2022-07-27 10:43:58.457464+00:00      28.0         2022-07-27   \n",
      "2775  2022-07-31 09:27:08.029723+00:00      28.0         2022-07-31   \n",
      "2776                               NaN      28.0                NaN   \n",
      "\n",
      "     exe_at_format_time   feed_name                        email tank_id  \n",
      "0              03:01:54  Grobest #4  dominic@verticaloceans.blue     RC1  \n",
      "1              03:02:03  Grobest #4  dominic@verticaloceans.blue     RC1  \n",
      "2              06:14:33  Grobest #4  dominic@verticaloceans.blue     RC1  \n",
      "3              02:35:20  Grobest #4  dominic@verticaloceans.blue     RC1  \n",
      "4              03:17:46  Grobest #4  dominic@verticaloceans.blue     RC1  \n",
      "...                 ...         ...                          ...     ...  \n",
      "2772           10:02:11  Grobest #4  crystal@verticaloceans.blue    IHT3  \n",
      "2773           07:27:37  Grobest #4  crystal@verticaloceans.blue    IHT3  \n",
      "2774           10:43:58  Grobest #4  crystal@verticaloceans.blue    IHT3  \n",
      "2775           09:27:08  Grobest #4    jiayi@verticaloceans.blue    IHT4  \n",
      "2776                NaN  Grobest #4  crystal@verticaloceans.blue    IHT4  \n",
      "\n",
      "[2777 rows x 17 columns]\n"
     ]
    }
   ],
   "source": [
    "df1 = pd.read_csv ('feeding_jeremy.csv')\n",
    "print (df1)"
   ]
  },
  {
   "cell_type": "code",
   "execution_count": 4,
   "id": "4a1fdbd5",
   "metadata": {},
   "outputs": [],
   "source": [
    "df1.to_excel(\"cosas.xlsx\", sheet_name=\"Testing\", index=False)"
   ]
  },
  {
   "cell_type": "code",
   "execution_count": null,
   "id": "2c9286e2",
   "metadata": {},
   "outputs": [],
   "source": []
  }
 ],
 "metadata": {
  "kernelspec": {
   "display_name": "Python 3 (ipykernel)",
   "language": "python",
   "name": "python3"
  },
  "language_info": {
   "codemirror_mode": {
    "name": "ipython",
    "version": 3
   },
   "file_extension": ".py",
   "mimetype": "text/x-python",
   "name": "python",
   "nbconvert_exporter": "python",
   "pygments_lexer": "ipython3",
   "version": "3.8.12"
  }
 },
 "nbformat": 4,
 "nbformat_minor": 5
}
