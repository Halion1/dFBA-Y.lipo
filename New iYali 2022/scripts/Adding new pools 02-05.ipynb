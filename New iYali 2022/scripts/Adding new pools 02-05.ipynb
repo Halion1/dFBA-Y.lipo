{
 "cells": [
  {
   "cell_type": "code",
   "execution_count": 1,
   "id": "c050e4ea",
   "metadata": {},
   "outputs": [],
   "source": [
    "import cobra"
   ]
  },
  {
   "cell_type": "code",
   "execution_count": 2,
   "id": "b9fbcaf7",
   "metadata": {},
   "outputs": [],
   "source": [
    "import cplex"
   ]
  },
  {
   "cell_type": "code",
   "execution_count": 3,
   "id": "e02ae70a",
   "metadata": {},
   "outputs": [],
   "source": [
    "import pandas as pd"
   ]
  },
  {
   "cell_type": "code",
   "execution_count": 4,
   "id": "975c377c",
   "metadata": {},
   "outputs": [],
   "source": [
    "from cobra import Model, Reaction, Metabolite"
   ]
  },
  {
   "cell_type": "code",
   "execution_count": 5,
   "id": "fbe91297",
   "metadata": {},
   "outputs": [],
   "source": [
    "yali = cobra.io.read_sbml_model('yalinewpathways.xml')"
   ]
  },
  {
   "cell_type": "code",
   "execution_count": 7,
   "id": "04c1ea57",
   "metadata": {},
   "outputs": [],
   "source": [
    "yali.objective = yali.reactions.xBIOMASS"
   ]
  },
  {
   "cell_type": "code",
   "execution_count": 8,
   "id": "79f59cd4",
   "metadata": {},
   "outputs": [],
   "source": [
    "solution = yali.optimize()"
   ]
  },
  {
   "cell_type": "code",
   "execution_count": 160,
   "id": "69b1a63c",
   "metadata": {},
   "outputs": [
    {
     "data": {
      "text/plain": [
       "xAMINOACID      0.105692\n",
       "xBIOMASS        0.105692\n",
       "xLIPID          0.000106\n",
       "xMAINTENANCE    0.000000\n",
       "xPOOL_AC_EM     0.010558\n",
       "                  ...   \n",
       "y300092         0.000000\n",
       "y300093         0.000000\n",
       "y300094         0.000000\n",
       "y300095         0.000000\n",
       "y300096         0.000000\n",
       "Name: fluxes, Length: 1938, dtype: float64"
      ]
     },
     "execution_count": 160,
     "metadata": {},
     "output_type": "execute_result"
    }
   ],
   "source": [
    "solution.fluxes"
   ]
  },
  {
   "cell_type": "code",
   "execution_count": 161,
   "id": "29572b0c",
   "metadata": {},
   "outputs": [],
   "source": [
    "flux = solution.fluxes"
   ]
  },
  {
   "cell_type": "code",
   "execution_count": 162,
   "id": "7a4543e5",
   "metadata": {},
   "outputs": [],
   "source": [
    "mylistsolu = []\n",
    "mylistsolu = list(flux)\n",
    "react = yali.reactions\n",
    "mylistreactions = []\n",
    "mylistreactions = list(react)\n",
    "dictionary = dict(zip(mylistreactions, mylistsolu))\n",
    "df = pd.DataFrame(data=dictionary, index=[0])\n",
    "df = (df.T)\n",
    "df.to_excel('fluxresultfromnewpathways.xlsx')"
   ]
  },
  {
   "cell_type": "code",
   "execution_count": 163,
   "id": "cc377c6c",
   "metadata": {},
   "outputs": [],
   "source": [
    "reaction1 = Reaction('xPOOL_AT_M')\n",
    "reaction1.name = 'Acetate pool'\n",
    "reaction1.subsystem = 'Pools for investigation'\n",
    "reaction1.lower_bound = -1000. # This is the default\n",
    "reaction1.upper_bound = 1000. # This is the default"
   ]
  },
  {
   "cell_type": "code",
   "execution_count": 164,
   "id": "48323950",
   "metadata": {},
   "outputs": [],
   "source": [
    "acetare_pool_M = Metabolite(\n",
    "'s_3740',\n",
    "name='Acetate[m]',\n",
    "compartment='m')"
   ]
  },
  {
   "cell_type": "code",
   "execution_count": 165,
   "id": "501a2372",
   "metadata": {},
   "outputs": [],
   "source": [
    "acetate = yali.metabolites.s_0365\n",
    "indoleacetate = yali.metabolites.s_0854\n",
    "oxaloacetate = yali.metabolites.s_1273\n",
    "acetoacetate = yali.metabolites.m1812"
   ]
  },
  {
   "cell_type": "code",
   "execution_count": 166,
   "id": "f3df07b5",
   "metadata": {},
   "outputs": [
    {
     "data": {
      "text/plain": [
       "'m1812 + s_0365 + s_0854 + s_1273 <=> s_3740'"
      ]
     },
     "execution_count": 166,
     "metadata": {},
     "output_type": "execute_result"
    }
   ],
   "source": [
    "reaction1.add_metabolites({\n",
    "acetate: -1.0,\n",
    "indoleacetate: -1.0,\n",
    "oxaloacetate: -1.0,\n",
    "acetoacetate: -1.0,\n",
    "acetare_pool_M: 1.0\n",
    "})\n",
    "reaction1.reaction"
   ]
  },
  {
   "cell_type": "code",
   "execution_count": 167,
   "id": "2d3e7b72",
   "metadata": {},
   "outputs": [],
   "source": [
    "yali.add_reactions([reaction1])"
   ]
  },
  {
   "cell_type": "code",
   "execution_count": 168,
   "id": "5a5c538e",
   "metadata": {},
   "outputs": [
    {
     "data": {
      "text/html": [
       "\n",
       "        <table>\n",
       "            <tr>\n",
       "                <td><strong>Reaction identifier</strong></td><td>xPOOL_AT_M</td>\n",
       "            </tr><tr>\n",
       "                <td><strong>Name</strong></td><td>Acetate pool</td>\n",
       "            </tr><tr>\n",
       "                <td><strong>Memory address</strong></td>\n",
       "                <td>0x0277a9ea5fd0</td>\n",
       "            </tr><tr>\n",
       "                <td><strong>Stoichiometry</strong></td>\n",
       "                <td>\n",
       "                    <p style='text-align:right'>m1812 + s_0365 + s_0854 + s_1273 <=> s_3740</p>\n",
       "                    <p style='text-align:right'>acetoacetate + acetate + indole-3-acetate + oxaloacetate <=> Acetate[m]</p>\n",
       "                </td>\n",
       "            </tr><tr>\n",
       "                <td><strong>GPR</strong></td><td></td>\n",
       "            </tr><tr>\n",
       "                <td><strong>Lower bound</strong></td><td>-1000.0</td>\n",
       "            </tr><tr>\n",
       "                <td><strong>Upper bound</strong></td><td>1000.0</td>\n",
       "            </tr>\n",
       "        </table>\n",
       "        "
      ],
      "text/plain": [
       "<Reaction xPOOL_AT_M at 0x277a9ea5fd0>"
      ]
     },
     "execution_count": 168,
     "metadata": {},
     "output_type": "execute_result"
    }
   ],
   "source": [
    "yali.reactions.xPOOL_AT_M"
   ]
  },
  {
   "cell_type": "code",
   "execution_count": 169,
   "id": "0113cdb1",
   "metadata": {},
   "outputs": [],
   "source": [
    "reaction2 = Reaction('xPOOL_AT_C')\n",
    "reaction2.name = 'Acetate pool'\n",
    "reaction2.subsystem = 'Pools for investigation'\n",
    "reaction2.lower_bound = -1000. # This is the default\n",
    "reaction2.upper_bound = 1000. # This is the default"
   ]
  },
  {
   "cell_type": "code",
   "execution_count": 170,
   "id": "c1ad278f",
   "metadata": {},
   "outputs": [],
   "source": [
    "acetare_pool_C = Metabolite(\n",
    "'s_3739',\n",
    "name='Acetate[c]',\n",
    "compartment='c')"
   ]
  },
  {
   "cell_type": "code",
   "execution_count": 171,
   "id": "7bcb4a20",
   "metadata": {},
   "outputs": [],
   "source": [
    "acetate2 = yali.metabolites.s_0362\n",
    "ethylacetate = yali.metabolites.s_0685\n",
    "indoleacetate2 = yali.metabolites.s_0853\n",
    "isoamylacetate = yali.metabolites.s_0927\n",
    "isobutylacetate = yali.metabolites.s_0935\n",
    "oxaloacetate2 = yali.metabolites.s_1271\n",
    "fumarylacetoacetate = yali.metabolites.m1819\n",
    "maleylacetoacetate = yali.metabolites.m1820\n",
    "acetoacetate = yali.metabolites.m1821"
   ]
  },
  {
   "cell_type": "code",
   "execution_count": 172,
   "id": "82f60074",
   "metadata": {},
   "outputs": [
    {
     "data": {
      "text/plain": [
       "'m1819 + m1820 + m1821 + s_0362 + s_0685 + s_0853 + s_0935 + s_1271 <=> s_3739'"
      ]
     },
     "execution_count": 172,
     "metadata": {},
     "output_type": "execute_result"
    }
   ],
   "source": [
    "reaction2.add_metabolites({\n",
    "acetate2: -1.0,\n",
    "ethylacetate: -1.0,\n",
    "indoleacetate2: -1.0,\n",
    "isobutylacetate: -1.0,\n",
    "oxaloacetate2: -1.0,\n",
    "fumarylacetoacetate: -1.0,\n",
    "maleylacetoacetate: -1.0,\n",
    "acetoacetate: -1.0,\n",
    "acetare_pool_C: 1.0\n",
    "})\n",
    "reaction2.reaction"
   ]
  },
  {
   "cell_type": "code",
   "execution_count": 173,
   "id": "679fd7c8",
   "metadata": {},
   "outputs": [],
   "source": [
    "yali.add_reactions([reaction2])"
   ]
  },
  {
   "cell_type": "code",
   "execution_count": 174,
   "id": "446ba978",
   "metadata": {},
   "outputs": [
    {
     "data": {
      "text/html": [
       "\n",
       "        <table>\n",
       "            <tr>\n",
       "                <td><strong>Reaction identifier</strong></td><td>xPOOL_AT_C</td>\n",
       "            </tr><tr>\n",
       "                <td><strong>Name</strong></td><td>Acetate pool</td>\n",
       "            </tr><tr>\n",
       "                <td><strong>Memory address</strong></td>\n",
       "                <td>0x0277aea85d30</td>\n",
       "            </tr><tr>\n",
       "                <td><strong>Stoichiometry</strong></td>\n",
       "                <td>\n",
       "                    <p style='text-align:right'>m1819 + m1820 + m1821 + s_0362 + s_0685 + s_0853 + s_0935 + s_1271 <=> s_3739</p>\n",
       "                    <p style='text-align:right'>4-fumaryl-acetoacetate + 4-maleyl-acetoacetate + acetoacetate + acetate + ethyl acetate + indole-3-acetate + isobutyl acetate + oxaloacetate <=> Acetate[c]</p>\n",
       "                </td>\n",
       "            </tr><tr>\n",
       "                <td><strong>GPR</strong></td><td></td>\n",
       "            </tr><tr>\n",
       "                <td><strong>Lower bound</strong></td><td>-1000.0</td>\n",
       "            </tr><tr>\n",
       "                <td><strong>Upper bound</strong></td><td>1000.0</td>\n",
       "            </tr>\n",
       "        </table>\n",
       "        "
      ],
      "text/plain": [
       "<Reaction xPOOL_AT_C at 0x277aea85d30>"
      ]
     },
     "execution_count": 174,
     "metadata": {},
     "output_type": "execute_result"
    }
   ],
   "source": [
    "yali.reactions.xPOOL_AT_C"
   ]
  },
  {
   "cell_type": "code",
   "execution_count": 175,
   "id": "91ede041",
   "metadata": {},
   "outputs": [],
   "source": [
    "reaction3 = Reaction('xPOOL_PC_M')\n",
    "reaction3.name = 'Propionyl-CoA pool'\n",
    "reaction3.subsystem = 'Pools for investigation'\n",
    "reaction3.lower_bound = -1000. # This is the default\n",
    "reaction3.upper_bound = 1000. # This is the default"
   ]
  },
  {
   "cell_type": "code",
   "execution_count": 176,
   "id": "13a9f182",
   "metadata": {},
   "outputs": [],
   "source": [
    "propionylcoa_pool_M = Metabolite(\n",
    "'s_3737',\n",
    "name='propionyl-coa[m]',\n",
    "compartment='m')"
   ]
  },
  {
   "cell_type": "code",
   "execution_count": 177,
   "id": "6b88a19a",
   "metadata": {},
   "outputs": [],
   "source": [
    "propionylcoa = yali.metabolites.s_1382\n",
    "isopropylmalate = yali.metabolites.s_0164\n",
    "methylpropanoyl = yali.metabolites.m1829"
   ]
  },
  {
   "cell_type": "code",
   "execution_count": 178,
   "id": "d025d9b3",
   "metadata": {},
   "outputs": [
    {
     "data": {
      "text/plain": [
       "'m1829 + s_0164 + s_1382 <=> s_3737'"
      ]
     },
     "execution_count": 178,
     "metadata": {},
     "output_type": "execute_result"
    }
   ],
   "source": [
    "reaction3.add_metabolites({\n",
    "propionylcoa: -1.0,\n",
    "isopropylmalate: -1.0,\n",
    "methylpropanoyl: -1.0,\n",
    "propionylcoa_pool_M: 1.0\n",
    "})\n",
    "reaction3.reaction"
   ]
  },
  {
   "cell_type": "code",
   "execution_count": 179,
   "id": "f483a41a",
   "metadata": {},
   "outputs": [],
   "source": [
    "yali.add_reactions([reaction3])"
   ]
  },
  {
   "cell_type": "code",
   "execution_count": 180,
   "id": "552350c5",
   "metadata": {},
   "outputs": [
    {
     "data": {
      "text/html": [
       "\n",
       "        <table>\n",
       "            <tr>\n",
       "                <td><strong>Reaction identifier</strong></td><td>xPOOL_PC_M</td>\n",
       "            </tr><tr>\n",
       "                <td><strong>Name</strong></td><td>Propionyl-CoA pool</td>\n",
       "            </tr><tr>\n",
       "                <td><strong>Memory address</strong></td>\n",
       "                <td>0x0277aea85520</td>\n",
       "            </tr><tr>\n",
       "                <td><strong>Stoichiometry</strong></td>\n",
       "                <td>\n",
       "                    <p style='text-align:right'>m1829 + s_0164 + s_1382 <=> s_3737</p>\n",
       "                    <p style='text-align:right'>2-methylpropanoyl-CoA + 2-isopropylmalate + propionyl-CoA <=> propionyl-coa[m]</p>\n",
       "                </td>\n",
       "            </tr><tr>\n",
       "                <td><strong>GPR</strong></td><td></td>\n",
       "            </tr><tr>\n",
       "                <td><strong>Lower bound</strong></td><td>-1000.0</td>\n",
       "            </tr><tr>\n",
       "                <td><strong>Upper bound</strong></td><td>1000.0</td>\n",
       "            </tr>\n",
       "        </table>\n",
       "        "
      ],
      "text/plain": [
       "<Reaction xPOOL_PC_M at 0x277aea85520>"
      ]
     },
     "execution_count": 180,
     "metadata": {},
     "output_type": "execute_result"
    }
   ],
   "source": [
    "yali.reactions.xPOOL_PC_M"
   ]
  },
  {
   "cell_type": "code",
   "execution_count": 181,
   "id": "2f61e7e9",
   "metadata": {},
   "outputs": [],
   "source": [
    "reaction4 = Reaction('xPOOL_PC_C')\n",
    "reaction4.name = 'Propionyl-CoA pool'\n",
    "reaction4.subsystem = 'Pools for investigation'\n",
    "reaction4.lower_bound = -1000. # This is the default\n",
    "reaction4.upper_bound = 1000. # This is the default"
   ]
  },
  {
   "cell_type": "code",
   "execution_count": 182,
   "id": "3df7a7ce",
   "metadata": {},
   "outputs": [],
   "source": [
    "propionylcoa_pool_C = Metabolite(\n",
    "'s_3738',\n",
    "name='propionyl-coa[C]',\n",
    "compartment='c')"
   ]
  },
  {
   "cell_type": "code",
   "execution_count": 183,
   "id": "a1e38969",
   "metadata": {},
   "outputs": [],
   "source": [
    "isopropylmalate2 = yali.metabolites.s_0162\n",
    "isopropylmaleicacid = yali.metabolites.s_0165\n",
    "propionylcoa2 = yali.metabolites.s_3719"
   ]
  },
  {
   "cell_type": "code",
   "execution_count": 184,
   "id": "7a9f7183",
   "metadata": {},
   "outputs": [
    {
     "data": {
      "text/plain": [
       "'s_0162 + s_0165 + s_3719 <=> s_3738'"
      ]
     },
     "execution_count": 184,
     "metadata": {},
     "output_type": "execute_result"
    }
   ],
   "source": [
    "reaction4.add_metabolites({\n",
    "propionylcoa2: -1.0,\n",
    "isopropylmalate2: -1.0,\n",
    "isopropylmaleicacid: -1.0,\n",
    "propionylcoa_pool_C: 1.0\n",
    "})\n",
    "reaction4.reaction"
   ]
  },
  {
   "cell_type": "code",
   "execution_count": 185,
   "id": "17866810",
   "metadata": {},
   "outputs": [],
   "source": [
    "yali.add_reactions([reaction4])"
   ]
  },
  {
   "cell_type": "code",
   "execution_count": 186,
   "id": "52adc849",
   "metadata": {},
   "outputs": [
    {
     "data": {
      "text/html": [
       "\n",
       "        <table>\n",
       "            <tr>\n",
       "                <td><strong>Reaction identifier</strong></td><td>xPOOL_PC_C</td>\n",
       "            </tr><tr>\n",
       "                <td><strong>Name</strong></td><td>Propionyl-CoA pool</td>\n",
       "            </tr><tr>\n",
       "                <td><strong>Memory address</strong></td>\n",
       "                <td>0x0277aea85760</td>\n",
       "            </tr><tr>\n",
       "                <td><strong>Stoichiometry</strong></td>\n",
       "                <td>\n",
       "                    <p style='text-align:right'>s_0162 + s_0165 + s_3719 <=> s_3738</p>\n",
       "                    <p style='text-align:right'>2-isopropylmalate + 2-isopropylmaleic acid + Propionyl-CoA[c] <=> propionyl-coa[C]</p>\n",
       "                </td>\n",
       "            </tr><tr>\n",
       "                <td><strong>GPR</strong></td><td></td>\n",
       "            </tr><tr>\n",
       "                <td><strong>Lower bound</strong></td><td>-1000.0</td>\n",
       "            </tr><tr>\n",
       "                <td><strong>Upper bound</strong></td><td>1000.0</td>\n",
       "            </tr>\n",
       "        </table>\n",
       "        "
      ],
      "text/plain": [
       "<Reaction xPOOL_PC_C at 0x277aea85760>"
      ]
     },
     "execution_count": 186,
     "metadata": {},
     "output_type": "execute_result"
    }
   ],
   "source": [
    "yali.reactions.xPOOL_PC_C"
   ]
  },
  {
   "cell_type": "code",
   "execution_count": 187,
   "id": "f4791484",
   "metadata": {},
   "outputs": [],
   "source": [
    "reaction5 = Reaction('xPOOL_AC_C')\n",
    "reaction5.name = 'Acyl-CoA pool'\n",
    "reaction5.subsystem = 'Pools for investigation'\n",
    "reaction5.lower_bound = -1000. # This is the default\n",
    "reaction5.upper_bound = 1000. # This is the default"
   ]
  },
  {
   "cell_type": "code",
   "execution_count": 188,
   "id": "4ce06b9f",
   "metadata": {},
   "outputs": [],
   "source": [
    "acyl_pool_C = Metabolite(\n",
    "'s_3735',\n",
    "name='acyl-coa[C]',\n",
    "compartment='c')"
   ]
  },
  {
   "cell_type": "code",
   "execution_count": 189,
   "id": "f77b3ede",
   "metadata": {},
   "outputs": [],
   "source": [
    "linoleoylcoa = yali.metabolites.m1798\n",
    "lauroylcoa = yali.metabolites.s_1073\n",
    "myristoylcoa = yali.metabolites.s_1176\n",
    "palmitoylcoa = yali.metabolites.s_1302\n",
    "stearoylcoa = yali.metabolites.s_1454\n",
    "oleoylcoa = yali.metabolites.s_1262"
   ]
  },
  {
   "cell_type": "code",
   "execution_count": 190,
   "id": "35eb96f2",
   "metadata": {},
   "outputs": [
    {
     "data": {
      "text/plain": [
       "'0.199 m1798 + 0.003 s_1073 + 0.002 s_1176 + 0.515 s_1262 + 0.19 s_1302 + 0.042 s_1454 <=> 0.951 s_3735'"
      ]
     },
     "execution_count": 190,
     "metadata": {},
     "output_type": "execute_result"
    }
   ],
   "source": [
    "reaction5.add_metabolites({\n",
    "linoleoylcoa: -0.199,\n",
    "lauroylcoa: -0.003,\n",
    "myristoylcoa: -0.002,\n",
    "palmitoylcoa: -0.19,\n",
    "stearoylcoa: -0.042,\n",
    "oleoylcoa: -0.515,\n",
    "acyl_pool_C: 0.951\n",
    "})\n",
    "reaction5.reaction"
   ]
  },
  {
   "cell_type": "code",
   "execution_count": 191,
   "id": "28d52edf",
   "metadata": {},
   "outputs": [],
   "source": [
    "yali.add_reactions([reaction5])"
   ]
  },
  {
   "cell_type": "code",
   "execution_count": 192,
   "id": "2e496d47",
   "metadata": {},
   "outputs": [
    {
     "data": {
      "text/html": [
       "\n",
       "        <table>\n",
       "            <tr>\n",
       "                <td><strong>Reaction identifier</strong></td><td>xPOOL_AC_C</td>\n",
       "            </tr><tr>\n",
       "                <td><strong>Name</strong></td><td>Acyl-CoA pool</td>\n",
       "            </tr><tr>\n",
       "                <td><strong>Memory address</strong></td>\n",
       "                <td>0x0277aeaa84c0</td>\n",
       "            </tr><tr>\n",
       "                <td><strong>Stoichiometry</strong></td>\n",
       "                <td>\n",
       "                    <p style='text-align:right'>0.199 m1798 + 0.003 s_1073 + 0.002 s_1176 + 0.515 s_1262 + 0.19 s_1302 + 0.042 s_1454 <=> 0.951 s_3735</p>\n",
       "                    <p style='text-align:right'>0.199 linoleoyl-CoA + 0.003 lauroyl-CoA + 0.002 myristoyl-CoA + 0.515 oleoyl-CoA + 0.19 palmitoyl-CoA + 0.042 stearoyl-CoA <=> 0.951 acyl-coa[C]</p>\n",
       "                </td>\n",
       "            </tr><tr>\n",
       "                <td><strong>GPR</strong></td><td></td>\n",
       "            </tr><tr>\n",
       "                <td><strong>Lower bound</strong></td><td>-1000.0</td>\n",
       "            </tr><tr>\n",
       "                <td><strong>Upper bound</strong></td><td>1000.0</td>\n",
       "            </tr>\n",
       "        </table>\n",
       "        "
      ],
      "text/plain": [
       "<Reaction xPOOL_AC_C at 0x277aeaa84c0>"
      ]
     },
     "execution_count": 192,
     "metadata": {},
     "output_type": "execute_result"
    }
   ],
   "source": [
    "yali.reactions.xPOOL_AC_C"
   ]
  },
  {
   "cell_type": "code",
   "execution_count": 193,
   "id": "7bad575d",
   "metadata": {},
   "outputs": [],
   "source": [
    "reaction6 = Reaction('xPOOL_AC_P')\n",
    "reaction6.name = 'Acyl-CoA pool'\n",
    "reaction6.subsystem = 'Pools for investigation'\n",
    "reaction6.lower_bound = -1000. # This is the default\n",
    "reaction6.upper_bound = 1000. # This is the default"
   ]
  },
  {
   "cell_type": "code",
   "execution_count": 195,
   "id": "31023049",
   "metadata": {},
   "outputs": [],
   "source": [
    "acyl_pool_P = Metabolite(\n",
    "'s_3733',\n",
    "name='acyl-coa[p]',\n",
    "compartment='p')"
   ]
  },
  {
   "cell_type": "code",
   "execution_count": 196,
   "id": "22b5f45a",
   "metadata": {},
   "outputs": [],
   "source": [
    "linoleoylcoa2 = yali.metabolites.m1797\n",
    "lauroylcoa2 = yali.metabolites.s_1076\n",
    "myristoylcoa2 = yali.metabolites.s_1179\n",
    "palmitoylcoa2 = yali.metabolites.s_1305\n",
    "stearoylcoa2 = yali.metabolites.s_1457\n",
    "oleoylcoa2 = yali.metabolites.s_1265"
   ]
  },
  {
   "cell_type": "code",
   "execution_count": 197,
   "id": "11f88b72",
   "metadata": {},
   "outputs": [
    {
     "data": {
      "text/plain": [
       "'0.199 m1797 + 0.003 s_1076 + 0.002 s_1179 + 0.515 s_1265 + 0.19 s_1305 + 0.042 s_1457 <=> 0.951 s_3733'"
      ]
     },
     "execution_count": 197,
     "metadata": {},
     "output_type": "execute_result"
    }
   ],
   "source": [
    "reaction6.add_metabolites({\n",
    "linoleoylcoa2: -0.199,\n",
    "lauroylcoa2: -0.003,\n",
    "myristoylcoa2: -0.002,\n",
    "palmitoylcoa2: -0.19,\n",
    "stearoylcoa2: -0.042,\n",
    "oleoylcoa2: -0.515,\n",
    "acyl_pool_P: 0.951\n",
    "})\n",
    "reaction6.reaction"
   ]
  },
  {
   "cell_type": "code",
   "execution_count": 198,
   "id": "2f63e8c6",
   "metadata": {},
   "outputs": [],
   "source": [
    "yali.add_reactions([reaction6])"
   ]
  },
  {
   "cell_type": "code",
   "execution_count": 199,
   "id": "5530282a",
   "metadata": {},
   "outputs": [
    {
     "data": {
      "text/html": [
       "\n",
       "        <table>\n",
       "            <tr>\n",
       "                <td><strong>Reaction identifier</strong></td><td>xPOOL_AC_P</td>\n",
       "            </tr><tr>\n",
       "                <td><strong>Name</strong></td><td>Acyl-CoA pool</td>\n",
       "            </tr><tr>\n",
       "                <td><strong>Memory address</strong></td>\n",
       "                <td>0x0277aeaf94f0</td>\n",
       "            </tr><tr>\n",
       "                <td><strong>Stoichiometry</strong></td>\n",
       "                <td>\n",
       "                    <p style='text-align:right'>0.199 m1797 + 0.003 s_1076 + 0.002 s_1179 + 0.515 s_1265 + 0.19 s_1305 + 0.042 s_1457 <=> 0.951 s_3733</p>\n",
       "                    <p style='text-align:right'>0.199 linoleoyl-CoA + 0.003 lauroyl-CoA + 0.002 myristoyl-CoA + 0.515 oleoyl-CoA + 0.19 palmitoyl-CoA + 0.042 stearoyl-CoA <=> 0.951 acyl-coa[P]</p>\n",
       "                </td>\n",
       "            </tr><tr>\n",
       "                <td><strong>GPR</strong></td><td></td>\n",
       "            </tr><tr>\n",
       "                <td><strong>Lower bound</strong></td><td>-1000.0</td>\n",
       "            </tr><tr>\n",
       "                <td><strong>Upper bound</strong></td><td>1000.0</td>\n",
       "            </tr>\n",
       "        </table>\n",
       "        "
      ],
      "text/plain": [
       "<Reaction xPOOL_AC_P at 0x277aeaf94f0>"
      ]
     },
     "execution_count": 199,
     "metadata": {},
     "output_type": "execute_result"
    }
   ],
   "source": [
    "yali.reactions.xPOOL_AC_P"
   ]
  },
  {
   "cell_type": "code",
   "execution_count": 10,
   "id": "421fe31f",
   "metadata": {},
   "outputs": [],
   "source": [
    "reaction7 = Reaction('xPOOL_FA_C')\n",
    "reaction7.name = 'Fatty acid pool'\n",
    "reaction7.subsystem = 'Pools for investigation'\n",
    "reaction7.lower_bound = -1000. # This is the default\n",
    "reaction7.upper_bound = 1000. # This is the default"
   ]
  },
  {
   "cell_type": "code",
   "execution_count": 11,
   "id": "23f0f90e",
   "metadata": {},
   "outputs": [],
   "source": [
    "fattyacid_pool_C = Metabolite(\n",
    "'s_3736',\n",
    "name='fatty-acid[c]',\n",
    "compartment='c')"
   ]
  },
  {
   "cell_type": "code",
   "execution_count": 12,
   "id": "cc27f5ad",
   "metadata": {},
   "outputs": [],
   "source": [
    "linoleoylcoa3 = yali.metabolites.m1801\n",
    "lauroylcoa3 = yali.metabolites.s_1065\n",
    "myristoylcoa3 = yali.metabolites.s_1161\n",
    "palmitoylcoa3 = yali.metabolites.s_1286\n",
    "stearoylcoa3 = yali.metabolites.s_1449\n",
    "oleoylcoa3 = yali.metabolites.s_1260"
   ]
  },
  {
   "cell_type": "code",
   "execution_count": 13,
   "id": "418433ff",
   "metadata": {},
   "outputs": [
    {
     "data": {
      "text/plain": [
       "'0.199 m1801 + 0.003 s_1065 + 0.002 s_1161 + 0.515 s_1260 + 0.19 s_1286 + 0.042 s_1449 <=> 0.951 s_3736'"
      ]
     },
     "execution_count": 13,
     "metadata": {},
     "output_type": "execute_result"
    }
   ],
   "source": [
    "reaction7.add_metabolites({\n",
    "linoleoylcoa3: -0.199,\n",
    "lauroylcoa3: -0.003,\n",
    "myristoylcoa3: -0.002,\n",
    "palmitoylcoa3: -0.19,\n",
    "stearoylcoa3: -0.042,\n",
    "oleoylcoa3: -0.515,\n",
    "fattyacid_pool_C: 0.951\n",
    "})\n",
    "reaction7.reaction"
   ]
  },
  {
   "cell_type": "code",
   "execution_count": 14,
   "id": "4d175256",
   "metadata": {},
   "outputs": [],
   "source": [
    "yali.add_reactions([reaction7])"
   ]
  },
  {
   "cell_type": "code",
   "execution_count": 15,
   "id": "6e321a18",
   "metadata": {},
   "outputs": [
    {
     "data": {
      "text/html": [
       "\n",
       "        <table>\n",
       "            <tr>\n",
       "                <td><strong>Reaction identifier</strong></td><td>xPOOL_FA_P</td>\n",
       "            </tr><tr>\n",
       "                <td><strong>Name</strong></td><td>Fatty acid pool</td>\n",
       "            </tr><tr>\n",
       "                <td><strong>Memory address</strong></td>\n",
       "                <td>0x02a2d5fcd5e0</td>\n",
       "            </tr><tr>\n",
       "                <td><strong>Stoichiometry</strong></td>\n",
       "                <td>\n",
       "                    <p style='text-align:right'>0.199 m1801 + 0.003 s_1065 + 0.002 s_1161 + 0.515 s_1260 + 0.19 s_1286 + 0.042 s_1449 <=> 0.951 s_3736</p>\n",
       "                    <p style='text-align:right'>0.199 linoleate + 0.003 laurate + 0.002 myristate + 0.515 oleate + 0.19 palmitate + 0.042 stearate <=> 0.951 fatty-acid[c]</p>\n",
       "                </td>\n",
       "            </tr><tr>\n",
       "                <td><strong>GPR</strong></td><td></td>\n",
       "            </tr><tr>\n",
       "                <td><strong>Lower bound</strong></td><td>-1000.0</td>\n",
       "            </tr><tr>\n",
       "                <td><strong>Upper bound</strong></td><td>1000.0</td>\n",
       "            </tr>\n",
       "        </table>\n",
       "        "
      ],
      "text/plain": [
       "<Reaction xPOOL_FA_P at 0x2a2d5fcd5e0>"
      ]
     },
     "execution_count": 15,
     "metadata": {},
     "output_type": "execute_result"
    }
   ],
   "source": [
    "yali.reactions.xPOOL_FA_C"
   ]
  },
  {
   "cell_type": "code",
   "execution_count": 17,
   "id": "27ffa511",
   "metadata": {},
   "outputs": [],
   "source": [
    "reaction8 = Reaction('xPOOL_FA_P')\n",
    "reaction8.name = 'Fatty acid pool'\n",
    "reaction8.subsystem = 'Pools for investigation'\n",
    "reaction8.lower_bound = -1000. # This is the default\n",
    "reaction8.upper_bound = 1000. # This is the default"
   ]
  },
  {
   "cell_type": "code",
   "execution_count": 18,
   "id": "6781da9d",
   "metadata": {},
   "outputs": [],
   "source": [
    "fattyacid_pool_P = Metabolite(\n",
    "'s_3734',\n",
    "name='fatty-acid[p]',\n",
    "compartment='p')"
   ]
  },
  {
   "cell_type": "code",
   "execution_count": 19,
   "id": "3ab29228",
   "metadata": {},
   "outputs": [],
   "source": [
    "linoleoylcoa4 = yali.metabolites.m1796\n",
    "lauroylcoa4 = yali.metabolites.s_1070\n",
    "myristoylcoa4 = yali.metabolites.s_1166\n",
    "palmitoylcoa4 = yali.metabolites.s_1291\n",
    "stearoylcoa4 = yali.metabolites.s_1451\n",
    "oleoylcoa4 = yali.metabolites.s_2855"
   ]
  },
  {
   "cell_type": "code",
   "execution_count": 20,
   "id": "fbc1feb5",
   "metadata": {},
   "outputs": [
    {
     "data": {
      "text/plain": [
       "'0.199 m1796 + 0.003 s_1070 + 0.002 s_1166 + 0.19 s_1291 + 0.042 s_1451 + 0.515 s_2855 <=> 0.951 s_3734'"
      ]
     },
     "execution_count": 20,
     "metadata": {},
     "output_type": "execute_result"
    }
   ],
   "source": [
    "reaction8.add_metabolites({\n",
    "linoleoylcoa4: -0.199,\n",
    "lauroylcoa4: -0.003,\n",
    "myristoylcoa4: -0.002,\n",
    "palmitoylcoa4: -0.19,\n",
    "stearoylcoa4: -0.042,\n",
    "oleoylcoa4: -0.515,\n",
    "fattyacid_pool_P: 0.951\n",
    "})\n",
    "reaction8.reaction"
   ]
  },
  {
   "cell_type": "code",
   "execution_count": 21,
   "id": "238d85e8",
   "metadata": {},
   "outputs": [],
   "source": [
    "yali.add_reactions([reaction8])"
   ]
  },
  {
   "cell_type": "code",
   "execution_count": 22,
   "id": "9abad10e",
   "metadata": {},
   "outputs": [
    {
     "data": {
      "text/html": [
       "\n",
       "        <table>\n",
       "            <tr>\n",
       "                <td><strong>Reaction identifier</strong></td><td>xPOOL_FA_P</td>\n",
       "            </tr><tr>\n",
       "                <td><strong>Name</strong></td><td>Fatty acid pool</td>\n",
       "            </tr><tr>\n",
       "                <td><strong>Memory address</strong></td>\n",
       "                <td>0x02a2d6d82790</td>\n",
       "            </tr><tr>\n",
       "                <td><strong>Stoichiometry</strong></td>\n",
       "                <td>\n",
       "                    <p style='text-align:right'>0.199 m1796 + 0.003 s_1070 + 0.002 s_1166 + 0.19 s_1291 + 0.042 s_1451 + 0.515 s_2855 <=> 0.951 s_3734</p>\n",
       "                    <p style='text-align:right'>0.199 linoleate + 0.003 laurate + 0.002 myristate + 0.19 palmitate + 0.042 stearate + 0.515 oleate <=> 0.951 fatty-acid[p]</p>\n",
       "                </td>\n",
       "            </tr><tr>\n",
       "                <td><strong>GPR</strong></td><td></td>\n",
       "            </tr><tr>\n",
       "                <td><strong>Lower bound</strong></td><td>-1000.0</td>\n",
       "            </tr><tr>\n",
       "                <td><strong>Upper bound</strong></td><td>1000.0</td>\n",
       "            </tr>\n",
       "        </table>\n",
       "        "
      ],
      "text/plain": [
       "<Reaction xPOOL_FA_P at 0x2a2d6d82790>"
      ]
     },
     "execution_count": 22,
     "metadata": {},
     "output_type": "execute_result"
    }
   ],
   "source": [
    "yali.reactions.xPOOL_FA_P"
   ]
  },
  {
   "cell_type": "code",
   "execution_count": 23,
   "id": "f58ae3f8",
   "metadata": {},
   "outputs": [],
   "source": [
    "reaction9 = Reaction('xPOOL_MA_M')\n",
    "reaction9.name = 'Methyl Malonyl pool'\n",
    "reaction9.subsystem = 'Pools for investigation'\n",
    "reaction9.lower_bound = -1000. # This is the default\n",
    "reaction9.upper_bound = 1000. # This is the default"
   ]
  },
  {
   "cell_type": "code",
   "execution_count": 24,
   "id": "c91129e6",
   "metadata": {},
   "outputs": [],
   "source": [
    "methylmalonyl_pool_M = Metabolite(\n",
    "'s_3731',\n",
    "name='methyl-malonyl[m]',\n",
    "compartment='m')"
   ]
  },
  {
   "cell_type": "code",
   "execution_count": 25,
   "id": "f8c62227",
   "metadata": {},
   "outputs": [],
   "source": [
    "malonyl = yali.metabolites.s_1104\n",
    "smethylmalonyl = yali.metabolites.s_3726\n",
    "rmethylmalonyl = yali.metabolites.s_3727"
   ]
  },
  {
   "cell_type": "code",
   "execution_count": 26,
   "id": "b640034c",
   "metadata": {},
   "outputs": [
    {
     "data": {
      "text/plain": [
       "'s_1104 + s_3726 + s_3727 <=> s_3731'"
      ]
     },
     "execution_count": 26,
     "metadata": {},
     "output_type": "execute_result"
    }
   ],
   "source": [
    "reaction9.add_metabolites({\n",
    "malonyl: -1.0,\n",
    "smethylmalonyl: -1.0,\n",
    "rmethylmalonyl: -1.0,\n",
    "methylmalonyl_pool_M: 1.0\n",
    "})\n",
    "reaction9.reaction"
   ]
  },
  {
   "cell_type": "code",
   "execution_count": 27,
   "id": "993ce163",
   "metadata": {},
   "outputs": [],
   "source": [
    "yali.add_reactions([reaction9])"
   ]
  },
  {
   "cell_type": "code",
   "execution_count": 28,
   "id": "748928d9",
   "metadata": {},
   "outputs": [
    {
     "data": {
      "text/html": [
       "\n",
       "        <table>\n",
       "            <tr>\n",
       "                <td><strong>Reaction identifier</strong></td><td>xPOOL_MA_M</td>\n",
       "            </tr><tr>\n",
       "                <td><strong>Name</strong></td><td>Methyl Malonyl pool</td>\n",
       "            </tr><tr>\n",
       "                <td><strong>Memory address</strong></td>\n",
       "                <td>0x02a2d6d822e0</td>\n",
       "            </tr><tr>\n",
       "                <td><strong>Stoichiometry</strong></td>\n",
       "                <td>\n",
       "                    <p style='text-align:right'>s_1104 + s_3726 + s_3727 <=> s_3731</p>\n",
       "                    <p style='text-align:right'>malonyl-CoA + (S)-Methylmalonyl-CoA[m] + (R)-Methylmalonyl-CoA[m] <=> methyl-malonyl[m]</p>\n",
       "                </td>\n",
       "            </tr><tr>\n",
       "                <td><strong>GPR</strong></td><td></td>\n",
       "            </tr><tr>\n",
       "                <td><strong>Lower bound</strong></td><td>-1000.0</td>\n",
       "            </tr><tr>\n",
       "                <td><strong>Upper bound</strong></td><td>1000.0</td>\n",
       "            </tr>\n",
       "        </table>\n",
       "        "
      ],
      "text/plain": [
       "<Reaction xPOOL_MA_M at 0x2a2d6d822e0>"
      ]
     },
     "execution_count": 28,
     "metadata": {},
     "output_type": "execute_result"
    }
   ],
   "source": [
    "yali.reactions.xPOOL_MA_M"
   ]
  },
  {
   "cell_type": "code",
   "execution_count": 29,
   "id": "6732131f",
   "metadata": {},
   "outputs": [],
   "source": [
    "reaction10 = Reaction('xPOOL_SU_C')\n",
    "reaction10.name = 'Succinate pool'\n",
    "reaction10.subsystem = 'Pools for investigation'\n",
    "reaction10.lower_bound = -1000. # This is the default\n",
    "reaction10.upper_bound = 1000. # This is the default"
   ]
  },
  {
   "cell_type": "code",
   "execution_count": 30,
   "id": "c9ca6d46",
   "metadata": {},
   "outputs": [],
   "source": [
    "succ_pool_C = Metabolite(\n",
    "'s_3730',\n",
    "name='succinatepool[c]',\n",
    "compartment='c')"
   ]
  },
  {
   "cell_type": "code",
   "execution_count": 31,
   "id": "f270505c",
   "metadata": {},
   "outputs": [],
   "source": [
    "isopropyloxosuccinate = yali.metabolites.s_0010\n",
    "adenylosuccinate = yali.metabolites.s_0393\n",
    "ssuccinate = yali.metabolites.s_1458"
   ]
  },
  {
   "cell_type": "code",
   "execution_count": 32,
   "id": "e8485e45",
   "metadata": {},
   "outputs": [
    {
     "data": {
      "text/plain": [
       "'s_0010 + s_0393 + s_1458 <=> s_3730'"
      ]
     },
     "execution_count": 32,
     "metadata": {},
     "output_type": "execute_result"
    }
   ],
   "source": [
    "reaction10.add_metabolites({\n",
    "isopropyloxosuccinate: -1.0,\n",
    "adenylosuccinate: -1.0,\n",
    "ssuccinate: -1.0,\n",
    "succ_pool_C: 1.0\n",
    "})\n",
    "reaction10.reaction"
   ]
  },
  {
   "cell_type": "code",
   "execution_count": 33,
   "id": "99c1c028",
   "metadata": {},
   "outputs": [],
   "source": [
    "yali.add_reactions([reaction10])"
   ]
  },
  {
   "cell_type": "code",
   "execution_count": 34,
   "id": "32c6472d",
   "metadata": {},
   "outputs": [
    {
     "data": {
      "text/html": [
       "\n",
       "        <table>\n",
       "            <tr>\n",
       "                <td><strong>Reaction identifier</strong></td><td>xPOOL_SU_C</td>\n",
       "            </tr><tr>\n",
       "                <td><strong>Name</strong></td><td>Methyl Malonyl pool</td>\n",
       "            </tr><tr>\n",
       "                <td><strong>Memory address</strong></td>\n",
       "                <td>0x02a2d5fcd7c0</td>\n",
       "            </tr><tr>\n",
       "                <td><strong>Stoichiometry</strong></td>\n",
       "                <td>\n",
       "                    <p style='text-align:right'>s_0010 + s_0393 + s_1458 <=> s_3730</p>\n",
       "                    <p style='text-align:right'>(2S)-2-isopropyl-3-oxosuccinate + adenylo-succinate + succinate <=> succinatepool[c]</p>\n",
       "                </td>\n",
       "            </tr><tr>\n",
       "                <td><strong>GPR</strong></td><td></td>\n",
       "            </tr><tr>\n",
       "                <td><strong>Lower bound</strong></td><td>-1000.0</td>\n",
       "            </tr><tr>\n",
       "                <td><strong>Upper bound</strong></td><td>1000.0</td>\n",
       "            </tr>\n",
       "        </table>\n",
       "        "
      ],
      "text/plain": [
       "<Reaction xPOOL_SU_C at 0x2a2d5fcd7c0>"
      ]
     },
     "execution_count": 34,
     "metadata": {},
     "output_type": "execute_result"
    }
   ],
   "source": [
    "yali.reactions.xPOOL_SU_C"
   ]
  },
  {
   "cell_type": "code",
   "execution_count": 35,
   "id": "7f64d83d",
   "metadata": {},
   "outputs": [],
   "source": [
    "reaction11 = Reaction('xPOOL_SU_M')\n",
    "reaction11.name = 'Succinate pool'\n",
    "reaction11.subsystem = 'Pools for investigation'\n",
    "reaction11.lower_bound = -1000. # This is the default\n",
    "reaction11.upper_bound = 1000. # This is the default"
   ]
  },
  {
   "cell_type": "code",
   "execution_count": 36,
   "id": "c2cf184d",
   "metadata": {},
   "outputs": [],
   "source": [
    "succ_pool_M = Metabolite(\n",
    "'s_3729',\n",
    "name='succinatepool[m]',\n",
    "compartment='m')"
   ]
  },
  {
   "cell_type": "code",
   "execution_count": 37,
   "id": "fe253575",
   "metadata": {},
   "outputs": [],
   "source": [
    "isopropyloxosuccinate2 = yali.metabolites.s_0011\n",
    "ssuccinate2 = yali.metabolites.s_1460"
   ]
  },
  {
   "cell_type": "code",
   "execution_count": 38,
   "id": "1f6db082",
   "metadata": {},
   "outputs": [
    {
     "data": {
      "text/plain": [
       "'s_0011 + s_1460 <=> s_3729'"
      ]
     },
     "execution_count": 38,
     "metadata": {},
     "output_type": "execute_result"
    }
   ],
   "source": [
    "reaction11.add_metabolites({\n",
    "isopropyloxosuccinate2: -1.0,\n",
    "ssuccinate2: -1.0,\n",
    "succ_pool_M: 1.0\n",
    "})\n",
    "reaction11.reaction"
   ]
  },
  {
   "cell_type": "code",
   "execution_count": 39,
   "id": "4974ae2a",
   "metadata": {},
   "outputs": [],
   "source": [
    "yali.add_reactions([reaction11])"
   ]
  },
  {
   "cell_type": "code",
   "execution_count": 40,
   "id": "8f14860f",
   "metadata": {},
   "outputs": [
    {
     "data": {
      "text/html": [
       "\n",
       "        <table>\n",
       "            <tr>\n",
       "                <td><strong>Reaction identifier</strong></td><td>xPOOL_SU_M</td>\n",
       "            </tr><tr>\n",
       "                <td><strong>Name</strong></td><td>Succinate pool</td>\n",
       "            </tr><tr>\n",
       "                <td><strong>Memory address</strong></td>\n",
       "                <td>0x02a2d6d82a00</td>\n",
       "            </tr><tr>\n",
       "                <td><strong>Stoichiometry</strong></td>\n",
       "                <td>\n",
       "                    <p style='text-align:right'>s_0011 + s_1460 <=> s_3729</p>\n",
       "                    <p style='text-align:right'>(2S)-2-isopropyl-3-oxosuccinate + succinate <=> succinatepool[m]</p>\n",
       "                </td>\n",
       "            </tr><tr>\n",
       "                <td><strong>GPR</strong></td><td></td>\n",
       "            </tr><tr>\n",
       "                <td><strong>Lower bound</strong></td><td>-1000.0</td>\n",
       "            </tr><tr>\n",
       "                <td><strong>Upper bound</strong></td><td>1000.0</td>\n",
       "            </tr>\n",
       "        </table>\n",
       "        "
      ],
      "text/plain": [
       "<Reaction xPOOL_SU_M at 0x2a2d6d82a00>"
      ]
     },
     "execution_count": 40,
     "metadata": {},
     "output_type": "execute_result"
    }
   ],
   "source": [
    "yali.reactions.xPOOL_SU_M"
   ]
  },
  {
   "cell_type": "code",
   "execution_count": 6,
   "id": "f3f8983c",
   "metadata": {},
   "outputs": [
    {
     "data": {
      "text/html": [
       "\n",
       "        <table>\n",
       "            <tr>\n",
       "                <td><strong>Reaction identifier</strong></td><td>xBIOMASS</td>\n",
       "            </tr><tr>\n",
       "                <td><strong>Name</strong></td><td>Biomass production</td>\n",
       "            </tr><tr>\n",
       "                <td><strong>Memory address</strong></td>\n",
       "                <td>0x021361cf6fd0</td>\n",
       "            </tr><tr>\n",
       "                <td><strong>Stoichiometry</strong></td>\n",
       "                <td>\n",
       "                    <p style='text-align:right'>m1726 + m1727 + 0.4415 s_0002 + 0.0757 s_0423 + 86.7881 s_0434 + 0.4068 s_0509 + 0.0578 s_0526 + 0.0383 s_0584 + 0.0377 s_0589 + 0.0377 s_0615 + 0.0383 s_0649 + 0.093 s_0782 + 0.1104 s_1107 +...</p>\n",
       "                    <p style='text-align:right'>protein + lipids + 0.4415 (1-3)-beta-D-glucan + 0.0757 AMP + 86.7881 ATP + 0.4068 chitin + 0.0578 CMP + 0.0383 dAMP + 0.0377 dCMP + 0.0377 dGMP + 0.0383 dTMP + 0.093 GMP + 0.1104 mannan + 0.0032...</p>\n",
       "                </td>\n",
       "            </tr><tr>\n",
       "                <td><strong>GPR</strong></td><td></td>\n",
       "            </tr><tr>\n",
       "                <td><strong>Lower bound</strong></td><td>0.0</td>\n",
       "            </tr><tr>\n",
       "                <td><strong>Upper bound</strong></td><td>1000.0</td>\n",
       "            </tr>\n",
       "        </table>\n",
       "        "
      ],
      "text/plain": [
       "<Reaction xBIOMASS at 0x21361cf6fd0>"
      ]
     },
     "execution_count": 6,
     "metadata": {},
     "output_type": "execute_result"
    }
   ],
   "source": [
    "yali.reactions.xBIOMASS"
   ]
  },
  {
   "cell_type": "code",
   "execution_count": 8,
   "id": "1664a543",
   "metadata": {},
   "outputs": [
    {
     "data": {
      "text/plain": [
       "{'ce': 'cell envelope',\n",
       " 'e': 'extracellular',\n",
       " 'm': 'mitochondrion',\n",
       " 'c': 'cytoplasm',\n",
       " 'p': 'peroxisome',\n",
       " 'er': 'endoplasmic reticulum',\n",
       " 'n': 'nucleus',\n",
       " 'g': 'Golgi',\n",
       " 'lp': 'lipid particle',\n",
       " 'v': 'vacuole',\n",
       " 'erm': 'endoplasmic reticulum membrane',\n",
       " 'vm': 'vacuolar membrane',\n",
       " 'mm': 'mitochondrial membrane',\n",
       " 'gm': 'Golgi membrane'}"
      ]
     },
     "execution_count": 8,
     "metadata": {},
     "output_type": "execute_result"
    }
   ],
   "source": [
    "yali.compartments"
   ]
  },
  {
   "cell_type": "code",
   "execution_count": null,
   "id": "d9261d59",
   "metadata": {},
   "outputs": [],
   "source": []
  }
 ],
 "metadata": {
  "kernelspec": {
   "display_name": "Python 3 (ipykernel)",
   "language": "python",
   "name": "python3"
  },
  "language_info": {
   "codemirror_mode": {
    "name": "ipython",
    "version": 3
   },
   "file_extension": ".py",
   "mimetype": "text/x-python",
   "name": "python",
   "nbconvert_exporter": "python",
   "pygments_lexer": "ipython3",
   "version": "3.8.12"
  }
 },
 "nbformat": 4,
 "nbformat_minor": 5
}
