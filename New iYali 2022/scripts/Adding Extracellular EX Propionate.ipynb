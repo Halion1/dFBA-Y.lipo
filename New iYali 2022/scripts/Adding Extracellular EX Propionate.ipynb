{
 "cells": [
  {
   "cell_type": "code",
   "execution_count": 1,
   "id": "5bea0d45",
   "metadata": {},
   "outputs": [],
   "source": [
    "#Importing packages\n",
    "import cobra\n",
    "from cobra import Model, Reaction, Metabolite\n",
    "from cobra.io import read_sbml_model\n",
    "import pandas as pd"
   ]
  },
  {
   "cell_type": "code",
   "execution_count": 2,
   "id": "af798b15",
   "metadata": {},
   "outputs": [
    {
     "name": "stdout",
     "output_type": "stream",
     "text": [
      "Scaling...\n",
      " A: min|aij| =  1.000e+00  max|aij| =  1.000e+00  ratio =  1.000e+00\n",
      "Problem data seem to be well scaled\n"
     ]
    }
   ],
   "source": [
    "#Importing model iYali\n",
    "#dfba_model = cobra.io.read_sbml_model('iYali.xml')\n",
    "#dfba_model = cobra.io.read_sbml_model('yalinewpathways final 2.xml')\n",
    "#dfba_model = cobra.io.read_sbml_model('iYali-tidy W29 strain final 2.xml')\n",
    "#dfba_model = cobra.io.read_sbml_model('iYali-tidy Obese strain final 2.xml')\n",
    "dfba_model = cobra.io.read_sbml_model('Yali OptKnock final.xml')"
   ]
  },
  {
   "cell_type": "code",
   "execution_count": 3,
   "id": "8709a093",
   "metadata": {},
   "outputs": [],
   "source": [
    "propio_extr = Metabolite(\n",
    "'s_3717',\n",
    "formula='C3H5O2',\n",
    "name='Propionate[e]',\n",
    "compartment='e')"
   ]
  },
  {
   "cell_type": "code",
   "execution_count": 4,
   "id": "12d9fbbc",
   "metadata": {},
   "outputs": [],
   "source": [
    "propexchange = Reaction('y300107')\n",
    "propexchange.name = 'propionate exchange'\n",
    "propexchange.lower_bound = 0 # This is the default\n",
    "propexchange.upper_bound = 1000. # This is the default"
   ]
  },
  {
   "cell_type": "code",
   "execution_count": 5,
   "id": "d89cda52",
   "metadata": {},
   "outputs": [
    {
     "data": {
      "text/plain": [
       "'s_3717 --> '"
      ]
     },
     "execution_count": 5,
     "metadata": {},
     "output_type": "execute_result"
    }
   ],
   "source": [
    "propexchange.add_metabolites({\n",
    "propio_extr: -1.0,\n",
    "})\n",
    "propexchange.reaction"
   ]
  },
  {
   "cell_type": "code",
   "execution_count": 6,
   "id": "c48e792a",
   "metadata": {},
   "outputs": [],
   "source": [
    "dfba_model.add_reactions([propexchange])"
   ]
  },
  {
   "cell_type": "code",
   "execution_count": 7,
   "id": "69b74bfc",
   "metadata": {},
   "outputs": [
    {
     "data": {
      "text/html": [
       "\n",
       "        <table>\n",
       "            <tr>\n",
       "                <td><strong>Reaction identifier</strong></td><td>y300107</td>\n",
       "            </tr><tr>\n",
       "                <td><strong>Name</strong></td><td>propionate exchange</td>\n",
       "            </tr><tr>\n",
       "                <td><strong>Memory address</strong></td>\n",
       "                <td>0x7f542c870390</td>\n",
       "            </tr><tr>\n",
       "                <td><strong>Stoichiometry</strong></td>\n",
       "                <td>\n",
       "                    <p style='text-align:right'>s_3717 --></p>\n",
       "                    <p style='text-align:right'>Propionate[e] --></p>\n",
       "                </td>\n",
       "            </tr><tr>\n",
       "                <td><strong>GPR</strong></td><td></td>\n",
       "            </tr><tr>\n",
       "                <td><strong>Lower bound</strong></td><td>0</td>\n",
       "            </tr><tr>\n",
       "                <td><strong>Upper bound</strong></td><td>1000.0</td>\n",
       "            </tr>\n",
       "        </table>\n",
       "        "
      ],
      "text/plain": [
       "<Reaction y300107 at 0x7f542c870390>"
      ]
     },
     "execution_count": 7,
     "metadata": {},
     "output_type": "execute_result"
    }
   ],
   "source": [
    "dfba_model.reactions.y300107"
   ]
  },
  {
   "cell_type": "code",
   "execution_count": 8,
   "id": "5584df12",
   "metadata": {},
   "outputs": [],
   "source": [
    "#cobra.io.json.save_json_model(yali, 'yalinewpathways trial 2.json')\n",
    "#cobra.io.write_sbml_model(yali, \"yalinewpathways trial.xml\")\n",
    "cobra.io.write_sbml_model(dfba_model, \"Yali OptKnock final.xml\")"
   ]
  }
 ],
 "metadata": {
  "kernelspec": {
   "display_name": "Python 3 (ipykernel)",
   "language": "python",
   "name": "python3"
  },
  "language_info": {
   "codemirror_mode": {
    "name": "ipython",
    "version": 3
   },
   "file_extension": ".py",
   "mimetype": "text/x-python",
   "name": "python",
   "nbconvert_exporter": "python",
   "pygments_lexer": "ipython3",
   "version": "3.8.12"
  }
 },
 "nbformat": 4,
 "nbformat_minor": 5
}
