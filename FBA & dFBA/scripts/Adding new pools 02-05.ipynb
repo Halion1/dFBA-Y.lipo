{
 "cells": [
  {
   "cell_type": "code",
   "execution_count": 1,
   "id": "c050e4ea",
   "metadata": {},
   "outputs": [],
   "source": [
    "import cobra"
   ]
  },
  {
   "cell_type": "code",
   "execution_count": 2,
   "id": "e02ae70a",
   "metadata": {},
   "outputs": [],
   "source": [
    "import pandas as pd"
   ]
  },
  {
   "cell_type": "code",
   "execution_count": 3,
   "id": "975c377c",
   "metadata": {},
   "outputs": [],
   "source": [
    "from cobra import Model, Reaction, Metabolite"
   ]
  },
  {
   "cell_type": "code",
   "execution_count": 4,
   "id": "fbe91297",
   "metadata": {},
   "outputs": [],
   "source": [
    "#yali = cobra.io.read_sbml_model('iYali-tidy W29 strain final.xml')\n",
    "yali = cobra.io.read_sbml_model('iYali-tidy Obese strain final.xml')\n",
    "#yali = cobra.io.read_sbml_model('yalinewpathways final.xml')"
   ]
  },
  {
   "cell_type": "code",
   "execution_count": 5,
   "id": "b1e10cb3",
   "metadata": {},
   "outputs": [
    {
     "data": {
      "text/html": [
       "\n",
       "        <table>\n",
       "            <tr>\n",
       "                <td><strong>Reaction identifier</strong></td><td>y300100</td>\n",
       "            </tr><tr>\n",
       "                <td><strong>Name</strong></td><td>margaric-CoA transport, cytoplasm-lipid particle</td>\n",
       "            </tr><tr>\n",
       "                <td><strong>Memory address</strong></td>\n",
       "                <td>0x07fbc0af1fbd0</td>\n",
       "            </tr><tr>\n",
       "                <td><strong>Stoichiometry</strong></td>\n",
       "                <td>\n",
       "                    <p style='text-align:right'>s_3728 <=> s_3729</p>\n",
       "                    <p style='text-align:right'>Margaric-CoA[c] <=> Margaric-CoA[lp]</p>\n",
       "                </td>\n",
       "            </tr><tr>\n",
       "                <td><strong>GPR</strong></td><td></td>\n",
       "            </tr><tr>\n",
       "                <td><strong>Lower bound</strong></td><td>-1000.0</td>\n",
       "            </tr><tr>\n",
       "                <td><strong>Upper bound</strong></td><td>1000.0</td>\n",
       "            </tr>\n",
       "        </table>\n",
       "        "
      ],
      "text/plain": [
       "<Reaction y300100 at 0x7fbc0af1fbd0>"
      ]
     },
     "execution_count": 5,
     "metadata": {},
     "output_type": "execute_result"
    }
   ],
   "source": [
    "yali.reactions.y300100"
   ]
  },
  {
   "cell_type": "code",
   "execution_count": 6,
   "id": "04c1ea57",
   "metadata": {},
   "outputs": [],
   "source": [
    "yali.objective = yali.reactions.xBIOMASS"
   ]
  },
  {
   "cell_type": "code",
   "execution_count": 7,
   "id": "79f59cd4",
   "metadata": {},
   "outputs": [],
   "source": [
    "solution = yali.optimize()"
   ]
  },
  {
   "cell_type": "code",
   "execution_count": 8,
   "id": "69b1a63c",
   "metadata": {},
   "outputs": [
    {
     "data": {
      "text/plain": [
       "xAMINOACID      0.105713\n",
       "xBIOMASS        0.105713\n",
       "xLIPID          0.000106\n",
       "xMAINTENANCE    0.000000\n",
       "xPOOL_AC_EM     0.000000\n",
       "                  ...   \n",
       "y300100         0.000000\n",
       "y300102         0.000000\n",
       "y300104         0.000000\n",
       "y300105         0.000000\n",
       "y300106         0.000000\n",
       "Name: fluxes, Length: 1947, dtype: float64"
      ]
     },
     "execution_count": 8,
     "metadata": {},
     "output_type": "execute_result"
    }
   ],
   "source": [
    "solution.fluxes"
   ]
  },
  {
   "cell_type": "code",
   "execution_count": 9,
   "id": "29572b0c",
   "metadata": {},
   "outputs": [],
   "source": [
    "flux = solution.fluxes"
   ]
  },
  {
   "cell_type": "code",
   "execution_count": 10,
   "id": "7a4543e5",
   "metadata": {},
   "outputs": [],
   "source": [
    "#mylistsolu = []\n",
    "#mylistsolu = list(flux)\n",
    "#react = yali.reactions\n",
    "#mylistreactions = []\n",
    "#mylistreactions = list(react)\n",
    "#dictionary = dict(zip(mylistreactions, mylistsolu))\n",
    "#df = pd.DataFrame(data=dictionary, index=[0])\n",
    "#df = (df.T)\n",
    "#df.to_excel('fluxresultfromnewpathways.xlsx')"
   ]
  },
  {
   "cell_type": "code",
   "execution_count": 11,
   "id": "cc377c6c",
   "metadata": {},
   "outputs": [],
   "source": [
    "reaction1 = Reaction('xPOOL_AT_M')\n",
    "reaction1.name = 'Acetate pool'\n",
    "reaction1.subsystem = 'Pools for investigation'\n",
    "reaction1.lower_bound = -1000. # This is the default\n",
    "reaction1.upper_bound = 1000. # This is the default"
   ]
  },
  {
   "cell_type": "code",
   "execution_count": 12,
   "id": "48323950",
   "metadata": {},
   "outputs": [],
   "source": [
    "acetare_pool_M = Metabolite(\n",
    "'s_3740',\n",
    "name='Acetate[m]',\n",
    "compartment='m')"
   ]
  },
  {
   "cell_type": "code",
   "execution_count": 13,
   "id": "501a2372",
   "metadata": {},
   "outputs": [],
   "source": [
    "acetate = yali.metabolites.s_0365\n",
    "indoleacetate = yali.metabolites.s_0854\n",
    "oxaloacetate = yali.metabolites.s_1273\n",
    "acetoacetate = yali.metabolites.m1812"
   ]
  },
  {
   "cell_type": "code",
   "execution_count": 14,
   "id": "f3df07b5",
   "metadata": {},
   "outputs": [
    {
     "data": {
      "text/plain": [
       "'m1812 + s_0365 + s_0854 + s_1273 <=> s_3740'"
      ]
     },
     "execution_count": 14,
     "metadata": {},
     "output_type": "execute_result"
    }
   ],
   "source": [
    "reaction1.add_metabolites({\n",
    "acetate: -1.0,\n",
    "indoleacetate: -1.0,\n",
    "oxaloacetate: -1.0,\n",
    "acetoacetate: -1.0,\n",
    "acetare_pool_M: 1.0\n",
    "})\n",
    "reaction1.reaction"
   ]
  },
  {
   "cell_type": "code",
   "execution_count": 15,
   "id": "2d3e7b72",
   "metadata": {},
   "outputs": [],
   "source": [
    "yali.add_reactions([reaction1])"
   ]
  },
  {
   "cell_type": "code",
   "execution_count": 16,
   "id": "5a5c538e",
   "metadata": {},
   "outputs": [
    {
     "data": {
      "text/html": [
       "\n",
       "        <table>\n",
       "            <tr>\n",
       "                <td><strong>Reaction identifier</strong></td><td>xPOOL_AT_M</td>\n",
       "            </tr><tr>\n",
       "                <td><strong>Name</strong></td><td>Acetate pool</td>\n",
       "            </tr><tr>\n",
       "                <td><strong>Memory address</strong></td>\n",
       "                <td>0x07fbc0bc47810</td>\n",
       "            </tr><tr>\n",
       "                <td><strong>Stoichiometry</strong></td>\n",
       "                <td>\n",
       "                    <p style='text-align:right'>m1812 + s_0365 + s_0854 + s_1273 <=> s_3740</p>\n",
       "                    <p style='text-align:right'>acetoacetate + acetate + indole-3-acetate + oxaloacetate <=> Acetate[m]</p>\n",
       "                </td>\n",
       "            </tr><tr>\n",
       "                <td><strong>GPR</strong></td><td></td>\n",
       "            </tr><tr>\n",
       "                <td><strong>Lower bound</strong></td><td>-1000.0</td>\n",
       "            </tr><tr>\n",
       "                <td><strong>Upper bound</strong></td><td>1000.0</td>\n",
       "            </tr>\n",
       "        </table>\n",
       "        "
      ],
      "text/plain": [
       "<Reaction xPOOL_AT_M at 0x7fbc0bc47810>"
      ]
     },
     "execution_count": 16,
     "metadata": {},
     "output_type": "execute_result"
    }
   ],
   "source": [
    "yali.reactions.xPOOL_AT_M"
   ]
  },
  {
   "cell_type": "code",
   "execution_count": 17,
   "id": "0113cdb1",
   "metadata": {},
   "outputs": [],
   "source": [
    "reaction2 = Reaction('xPOOL_AT_C')\n",
    "reaction2.name = 'Acetate pool'\n",
    "reaction2.subsystem = 'Pools for investigation'\n",
    "reaction2.lower_bound = -1000. # This is the default\n",
    "reaction2.upper_bound = 1000. # This is the default"
   ]
  },
  {
   "cell_type": "code",
   "execution_count": 18,
   "id": "c1ad278f",
   "metadata": {},
   "outputs": [],
   "source": [
    "acetare_pool_C = Metabolite(\n",
    "'s_3739',\n",
    "name='Acetate[c]',\n",
    "compartment='c')"
   ]
  },
  {
   "cell_type": "code",
   "execution_count": 19,
   "id": "7bcb4a20",
   "metadata": {},
   "outputs": [],
   "source": [
    "acetate2 = yali.metabolites.s_0362\n",
    "ethylacetate = yali.metabolites.s_0685\n",
    "indoleacetate2 = yali.metabolites.s_0853\n",
    "isoamylacetate = yali.metabolites.s_0927\n",
    "isobutylacetate = yali.metabolites.s_0935\n",
    "oxaloacetate2 = yali.metabolites.s_1271\n",
    "fumarylacetoacetate = yali.metabolites.m1819\n",
    "maleylacetoacetate = yali.metabolites.m1820\n",
    "acetoacetate = yali.metabolites.m1821"
   ]
  },
  {
   "cell_type": "code",
   "execution_count": 20,
   "id": "82f60074",
   "metadata": {},
   "outputs": [
    {
     "data": {
      "text/plain": [
       "'m1819 + m1820 + m1821 + s_0362 + s_0685 + s_0853 + s_0935 + s_1271 <=> s_3739'"
      ]
     },
     "execution_count": 20,
     "metadata": {},
     "output_type": "execute_result"
    }
   ],
   "source": [
    "reaction2.add_metabolites({\n",
    "acetate2: -1.0,\n",
    "ethylacetate: -1.0,\n",
    "indoleacetate2: -1.0,\n",
    "isobutylacetate: -1.0,\n",
    "oxaloacetate2: -1.0,\n",
    "fumarylacetoacetate: -1.0,\n",
    "maleylacetoacetate: -1.0,\n",
    "acetoacetate: -1.0,\n",
    "acetare_pool_C: 1.0\n",
    "})\n",
    "reaction2.reaction"
   ]
  },
  {
   "cell_type": "code",
   "execution_count": 21,
   "id": "679fd7c8",
   "metadata": {},
   "outputs": [],
   "source": [
    "yali.add_reactions([reaction2])"
   ]
  },
  {
   "cell_type": "code",
   "execution_count": 22,
   "id": "446ba978",
   "metadata": {},
   "outputs": [
    {
     "data": {
      "text/html": [
       "\n",
       "        <table>\n",
       "            <tr>\n",
       "                <td><strong>Reaction identifier</strong></td><td>xPOOL_AT_C</td>\n",
       "            </tr><tr>\n",
       "                <td><strong>Name</strong></td><td>Acetate pool</td>\n",
       "            </tr><tr>\n",
       "                <td><strong>Memory address</strong></td>\n",
       "                <td>0x07fbc0bc56050</td>\n",
       "            </tr><tr>\n",
       "                <td><strong>Stoichiometry</strong></td>\n",
       "                <td>\n",
       "                    <p style='text-align:right'>m1819 + m1820 + m1821 + s_0362 + s_0685 + s_0853 + s_0935 + s_1271 <=> s_3739</p>\n",
       "                    <p style='text-align:right'>4-fumaryl-acetoacetate + 4-maleyl-acetoacetate + acetoacetate + acetate + ethyl acetate + indole-3-acetate + isobutyl acetate + oxaloacetate <=> Acetate[c]</p>\n",
       "                </td>\n",
       "            </tr><tr>\n",
       "                <td><strong>GPR</strong></td><td></td>\n",
       "            </tr><tr>\n",
       "                <td><strong>Lower bound</strong></td><td>-1000.0</td>\n",
       "            </tr><tr>\n",
       "                <td><strong>Upper bound</strong></td><td>1000.0</td>\n",
       "            </tr>\n",
       "        </table>\n",
       "        "
      ],
      "text/plain": [
       "<Reaction xPOOL_AT_C at 0x7fbc0bc56050>"
      ]
     },
     "execution_count": 22,
     "metadata": {},
     "output_type": "execute_result"
    }
   ],
   "source": [
    "yali.reactions.xPOOL_AT_C"
   ]
  },
  {
   "cell_type": "code",
   "execution_count": 23,
   "id": "91ede041",
   "metadata": {},
   "outputs": [],
   "source": [
    "reaction3 = Reaction('xPOOL_PC_M')\n",
    "reaction3.name = 'Propionyl-CoA pool'\n",
    "reaction3.subsystem = 'Pools for investigation'\n",
    "reaction3.lower_bound = -1000. # This is the default\n",
    "reaction3.upper_bound = 1000. # This is the default"
   ]
  },
  {
   "cell_type": "code",
   "execution_count": 24,
   "id": "13a9f182",
   "metadata": {},
   "outputs": [],
   "source": [
    "propionylcoa_pool_M = Metabolite(\n",
    "'s_3737',\n",
    "name='propionyl-coa[m]',\n",
    "compartment='m')"
   ]
  },
  {
   "cell_type": "code",
   "execution_count": 25,
   "id": "6b88a19a",
   "metadata": {},
   "outputs": [],
   "source": [
    "propionylcoa = yali.metabolites.s_1382\n",
    "isopropylmalate = yali.metabolites.s_0164\n",
    "methylpropanoyl = yali.metabolites.m1829"
   ]
  },
  {
   "cell_type": "code",
   "execution_count": 26,
   "id": "d025d9b3",
   "metadata": {},
   "outputs": [
    {
     "data": {
      "text/plain": [
       "'m1829 + s_0164 + s_1382 <=> s_3737'"
      ]
     },
     "execution_count": 26,
     "metadata": {},
     "output_type": "execute_result"
    }
   ],
   "source": [
    "reaction3.add_metabolites({\n",
    "propionylcoa: -1.0,\n",
    "isopropylmalate: -1.0,\n",
    "methylpropanoyl: -1.0,\n",
    "propionylcoa_pool_M: 1.0\n",
    "})\n",
    "reaction3.reaction"
   ]
  },
  {
   "cell_type": "code",
   "execution_count": 27,
   "id": "f483a41a",
   "metadata": {},
   "outputs": [],
   "source": [
    "yali.add_reactions([reaction3])"
   ]
  },
  {
   "cell_type": "code",
   "execution_count": 28,
   "id": "552350c5",
   "metadata": {},
   "outputs": [
    {
     "data": {
      "text/html": [
       "\n",
       "        <table>\n",
       "            <tr>\n",
       "                <td><strong>Reaction identifier</strong></td><td>xPOOL_PC_M</td>\n",
       "            </tr><tr>\n",
       "                <td><strong>Name</strong></td><td>Propionyl-CoA pool</td>\n",
       "            </tr><tr>\n",
       "                <td><strong>Memory address</strong></td>\n",
       "                <td>0x07fbc0bc701d0</td>\n",
       "            </tr><tr>\n",
       "                <td><strong>Stoichiometry</strong></td>\n",
       "                <td>\n",
       "                    <p style='text-align:right'>m1829 + s_0164 + s_1382 <=> s_3737</p>\n",
       "                    <p style='text-align:right'>2-methylpropanoyl-CoA + 2-isopropylmalate + propionyl-CoA <=> propionyl-coa[m]</p>\n",
       "                </td>\n",
       "            </tr><tr>\n",
       "                <td><strong>GPR</strong></td><td></td>\n",
       "            </tr><tr>\n",
       "                <td><strong>Lower bound</strong></td><td>-1000.0</td>\n",
       "            </tr><tr>\n",
       "                <td><strong>Upper bound</strong></td><td>1000.0</td>\n",
       "            </tr>\n",
       "        </table>\n",
       "        "
      ],
      "text/plain": [
       "<Reaction xPOOL_PC_M at 0x7fbc0bc701d0>"
      ]
     },
     "execution_count": 28,
     "metadata": {},
     "output_type": "execute_result"
    }
   ],
   "source": [
    "yali.reactions.xPOOL_PC_M"
   ]
  },
  {
   "cell_type": "code",
   "execution_count": 29,
   "id": "2f61e7e9",
   "metadata": {},
   "outputs": [],
   "source": [
    "reaction4 = Reaction('xPOOL_PC_C')\n",
    "reaction4.name = 'Propionyl-CoA pool'\n",
    "reaction4.subsystem = 'Pools for investigation'\n",
    "reaction4.lower_bound = -1000. # This is the default\n",
    "reaction4.upper_bound = 1000. # This is the default"
   ]
  },
  {
   "cell_type": "code",
   "execution_count": 30,
   "id": "3df7a7ce",
   "metadata": {},
   "outputs": [],
   "source": [
    "propionylcoa_pool_C = Metabolite(\n",
    "'s_3738',\n",
    "name='propionyl-coa[C]',\n",
    "compartment='c')"
   ]
  },
  {
   "cell_type": "code",
   "execution_count": 31,
   "id": "a1e38969",
   "metadata": {},
   "outputs": [],
   "source": [
    "isopropylmalate2 = yali.metabolites.s_0162\n",
    "isopropylmaleicacid = yali.metabolites.s_0165\n",
    "propionylcoa2 = yali.metabolites.s_3719"
   ]
  },
  {
   "cell_type": "code",
   "execution_count": 32,
   "id": "7a9f7183",
   "metadata": {},
   "outputs": [
    {
     "data": {
      "text/plain": [
       "'s_0162 + s_0165 + s_3719 <=> s_3738'"
      ]
     },
     "execution_count": 32,
     "metadata": {},
     "output_type": "execute_result"
    }
   ],
   "source": [
    "reaction4.add_metabolites({\n",
    "propionylcoa2: -1.0,\n",
    "isopropylmalate2: -1.0,\n",
    "isopropylmaleicacid: -1.0,\n",
    "propionylcoa_pool_C: 1.0\n",
    "})\n",
    "reaction4.reaction"
   ]
  },
  {
   "cell_type": "code",
   "execution_count": 33,
   "id": "17866810",
   "metadata": {},
   "outputs": [],
   "source": [
    "yali.add_reactions([reaction4])"
   ]
  },
  {
   "cell_type": "code",
   "execution_count": 34,
   "id": "52adc849",
   "metadata": {},
   "outputs": [
    {
     "data": {
      "text/html": [
       "\n",
       "        <table>\n",
       "            <tr>\n",
       "                <td><strong>Reaction identifier</strong></td><td>xPOOL_PC_C</td>\n",
       "            </tr><tr>\n",
       "                <td><strong>Name</strong></td><td>Propionyl-CoA pool</td>\n",
       "            </tr><tr>\n",
       "                <td><strong>Memory address</strong></td>\n",
       "                <td>0x07fbc0bc76750</td>\n",
       "            </tr><tr>\n",
       "                <td><strong>Stoichiometry</strong></td>\n",
       "                <td>\n",
       "                    <p style='text-align:right'>s_0162 + s_0165 + s_3719 <=> s_3738</p>\n",
       "                    <p style='text-align:right'>2-isopropylmalate + 2-isopropylmaleic acid + Propionyl-CoA[c] <=> propionyl-coa[C]</p>\n",
       "                </td>\n",
       "            </tr><tr>\n",
       "                <td><strong>GPR</strong></td><td></td>\n",
       "            </tr><tr>\n",
       "                <td><strong>Lower bound</strong></td><td>-1000.0</td>\n",
       "            </tr><tr>\n",
       "                <td><strong>Upper bound</strong></td><td>1000.0</td>\n",
       "            </tr>\n",
       "        </table>\n",
       "        "
      ],
      "text/plain": [
       "<Reaction xPOOL_PC_C at 0x7fbc0bc76750>"
      ]
     },
     "execution_count": 34,
     "metadata": {},
     "output_type": "execute_result"
    }
   ],
   "source": [
    "yali.reactions.xPOOL_PC_C"
   ]
  },
  {
   "cell_type": "code",
   "execution_count": 35,
   "id": "f4791484",
   "metadata": {},
   "outputs": [],
   "source": [
    "reaction5 = Reaction('xPOOL_AC_C')\n",
    "reaction5.name = 'Acyl-CoA pool'\n",
    "reaction5.subsystem = 'Pools for investigation'\n",
    "reaction5.lower_bound = -1000. # This is the default\n",
    "reaction5.upper_bound = 1000. # This is the default"
   ]
  },
  {
   "cell_type": "code",
   "execution_count": 36,
   "id": "4ce06b9f",
   "metadata": {},
   "outputs": [],
   "source": [
    "acyl_pool_C = Metabolite(\n",
    "'s_3735',\n",
    "name='acyl-coa[C]',\n",
    "compartment='c')"
   ]
  },
  {
   "cell_type": "code",
   "execution_count": 37,
   "id": "f77b3ede",
   "metadata": {},
   "outputs": [],
   "source": [
    "linoleoylcoa = yali.metabolites.m1798\n",
    "lauroylcoa = yali.metabolites.s_1073\n",
    "myristoylcoa = yali.metabolites.s_1176\n",
    "palmitoylcoa = yali.metabolites.s_1302\n",
    "stearoylcoa = yali.metabolites.s_1454\n",
    "oleoylcoa = yali.metabolites.s_1262"
   ]
  },
  {
   "cell_type": "code",
   "execution_count": 38,
   "id": "35eb96f2",
   "metadata": {},
   "outputs": [
    {
     "data": {
      "text/plain": [
       "'0.199 m1798 + 0.003 s_1073 + 0.002 s_1176 + 0.515 s_1262 + 0.19 s_1302 + 0.042 s_1454 <=> 0.951 s_3735'"
      ]
     },
     "execution_count": 38,
     "metadata": {},
     "output_type": "execute_result"
    }
   ],
   "source": [
    "reaction5.add_metabolites({\n",
    "linoleoylcoa: -0.199,\n",
    "lauroylcoa: -0.003,\n",
    "myristoylcoa: -0.002,\n",
    "palmitoylcoa: -0.19,\n",
    "stearoylcoa: -0.042,\n",
    "oleoylcoa: -0.515,\n",
    "acyl_pool_C: 0.951\n",
    "})\n",
    "reaction5.reaction"
   ]
  },
  {
   "cell_type": "code",
   "execution_count": 39,
   "id": "28d52edf",
   "metadata": {},
   "outputs": [],
   "source": [
    "yali.add_reactions([reaction5])"
   ]
  },
  {
   "cell_type": "code",
   "execution_count": 40,
   "id": "2e496d47",
   "metadata": {},
   "outputs": [
    {
     "data": {
      "text/html": [
       "\n",
       "        <table>\n",
       "            <tr>\n",
       "                <td><strong>Reaction identifier</strong></td><td>xPOOL_AC_C</td>\n",
       "            </tr><tr>\n",
       "                <td><strong>Name</strong></td><td>Acyl-CoA pool</td>\n",
       "            </tr><tr>\n",
       "                <td><strong>Memory address</strong></td>\n",
       "                <td>0x07fbc0bc11a50</td>\n",
       "            </tr><tr>\n",
       "                <td><strong>Stoichiometry</strong></td>\n",
       "                <td>\n",
       "                    <p style='text-align:right'>0.199 m1798 + 0.003 s_1073 + 0.002 s_1176 + 0.515 s_1262 + 0.19 s_1302 + 0.042 s_1454 <=> 0.951 s_3735</p>\n",
       "                    <p style='text-align:right'>0.199 linoleoyl-CoA + 0.003 lauroyl-CoA + 0.002 myristoyl-CoA + 0.515 oleoyl-CoA + 0.19 palmitoyl-CoA + 0.042 stearoyl-CoA <=> 0.951 acyl-coa[C]</p>\n",
       "                </td>\n",
       "            </tr><tr>\n",
       "                <td><strong>GPR</strong></td><td></td>\n",
       "            </tr><tr>\n",
       "                <td><strong>Lower bound</strong></td><td>-1000.0</td>\n",
       "            </tr><tr>\n",
       "                <td><strong>Upper bound</strong></td><td>1000.0</td>\n",
       "            </tr>\n",
       "        </table>\n",
       "        "
      ],
      "text/plain": [
       "<Reaction xPOOL_AC_C at 0x7fbc0bc11a50>"
      ]
     },
     "execution_count": 40,
     "metadata": {},
     "output_type": "execute_result"
    }
   ],
   "source": [
    "yali.reactions.xPOOL_AC_C"
   ]
  },
  {
   "cell_type": "code",
   "execution_count": 41,
   "id": "7bad575d",
   "metadata": {},
   "outputs": [],
   "source": [
    "reaction6 = Reaction('xPOOL_AC_P')\n",
    "reaction6.name = 'Acyl-CoA pool'\n",
    "reaction6.subsystem = 'Pools for investigation'\n",
    "reaction6.lower_bound = -1000. # This is the default\n",
    "reaction6.upper_bound = 1000. # This is the default"
   ]
  },
  {
   "cell_type": "code",
   "execution_count": 42,
   "id": "31023049",
   "metadata": {},
   "outputs": [],
   "source": [
    "acyl_pool_P = Metabolite(\n",
    "'s_3743',\n",
    "name='acyl-coa[p]',\n",
    "compartment='p')"
   ]
  },
  {
   "cell_type": "code",
   "execution_count": 43,
   "id": "22b5f45a",
   "metadata": {},
   "outputs": [],
   "source": [
    "linoleoylcoa2 = yali.metabolites.m1797\n",
    "lauroylcoa2 = yali.metabolites.s_1076\n",
    "myristoylcoa2 = yali.metabolites.s_1179\n",
    "palmitoylcoa2 = yali.metabolites.s_1305\n",
    "stearoylcoa2 = yali.metabolites.s_1457\n",
    "oleoylcoa2 = yali.metabolites.s_1265"
   ]
  },
  {
   "cell_type": "code",
   "execution_count": 44,
   "id": "11f88b72",
   "metadata": {},
   "outputs": [
    {
     "data": {
      "text/plain": [
       "'0.199 m1797 + 0.003 s_1076 + 0.002 s_1179 + 0.515 s_1265 + 0.19 s_1305 + 0.042 s_1457 <=> 0.951 s_3743'"
      ]
     },
     "execution_count": 44,
     "metadata": {},
     "output_type": "execute_result"
    }
   ],
   "source": [
    "reaction6.add_metabolites({\n",
    "linoleoylcoa2: -0.199,\n",
    "lauroylcoa2: -0.003,\n",
    "myristoylcoa2: -0.002,\n",
    "palmitoylcoa2: -0.19,\n",
    "stearoylcoa2: -0.042,\n",
    "oleoylcoa2: -0.515,\n",
    "acyl_pool_P: 0.951\n",
    "})\n",
    "reaction6.reaction"
   ]
  },
  {
   "cell_type": "code",
   "execution_count": 45,
   "id": "2f63e8c6",
   "metadata": {},
   "outputs": [],
   "source": [
    "yali.add_reactions([reaction6])"
   ]
  },
  {
   "cell_type": "code",
   "execution_count": 46,
   "id": "5530282a",
   "metadata": {},
   "outputs": [
    {
     "data": {
      "text/html": [
       "\n",
       "        <table>\n",
       "            <tr>\n",
       "                <td><strong>Reaction identifier</strong></td><td>xPOOL_AC_P</td>\n",
       "            </tr><tr>\n",
       "                <td><strong>Name</strong></td><td>Acyl-CoA pool</td>\n",
       "            </tr><tr>\n",
       "                <td><strong>Memory address</strong></td>\n",
       "                <td>0x07fbc0bc7b310</td>\n",
       "            </tr><tr>\n",
       "                <td><strong>Stoichiometry</strong></td>\n",
       "                <td>\n",
       "                    <p style='text-align:right'>0.199 m1797 + 0.003 s_1076 + 0.002 s_1179 + 0.515 s_1265 + 0.19 s_1305 + 0.042 s_1457 <=> 0.951 s_3743</p>\n",
       "                    <p style='text-align:right'>0.199 linoleoyl-CoA + 0.003 lauroyl-CoA + 0.002 myristoyl-CoA + 0.515 oleoyl-CoA + 0.19 palmitoyl-CoA + 0.042 stearoyl-CoA <=> 0.951 acyl-coa[p]</p>\n",
       "                </td>\n",
       "            </tr><tr>\n",
       "                <td><strong>GPR</strong></td><td></td>\n",
       "            </tr><tr>\n",
       "                <td><strong>Lower bound</strong></td><td>-1000.0</td>\n",
       "            </tr><tr>\n",
       "                <td><strong>Upper bound</strong></td><td>1000.0</td>\n",
       "            </tr>\n",
       "        </table>\n",
       "        "
      ],
      "text/plain": [
       "<Reaction xPOOL_AC_P at 0x7fbc0bc7b310>"
      ]
     },
     "execution_count": 46,
     "metadata": {},
     "output_type": "execute_result"
    }
   ],
   "source": [
    "yali.reactions.xPOOL_AC_P"
   ]
  },
  {
   "cell_type": "code",
   "execution_count": 47,
   "id": "421fe31f",
   "metadata": {},
   "outputs": [],
   "source": [
    "reaction7 = Reaction('xPOOL_FA_C')\n",
    "reaction7.name = 'Fatty acid pool'\n",
    "reaction7.subsystem = 'Pools for investigation'\n",
    "reaction7.lower_bound = -1000. # This is the default\n",
    "reaction7.upper_bound = 1000. # This is the default"
   ]
  },
  {
   "cell_type": "code",
   "execution_count": 48,
   "id": "23f0f90e",
   "metadata": {},
   "outputs": [],
   "source": [
    "fattyacid_pool_C = Metabolite(\n",
    "'s_3736',\n",
    "name='fatty-acid[c]',\n",
    "compartment='c')"
   ]
  },
  {
   "cell_type": "code",
   "execution_count": 49,
   "id": "cc27f5ad",
   "metadata": {},
   "outputs": [],
   "source": [
    "linoleoylcoa3 = yali.metabolites.m1801\n",
    "lauroylcoa3 = yali.metabolites.s_1065\n",
    "myristoylcoa3 = yali.metabolites.s_1161\n",
    "palmitoylcoa3 = yali.metabolites.s_1286\n",
    "stearoylcoa3 = yali.metabolites.s_1449\n",
    "oleoylcoa3 = yali.metabolites.s_1260"
   ]
  },
  {
   "cell_type": "code",
   "execution_count": 50,
   "id": "418433ff",
   "metadata": {},
   "outputs": [
    {
     "data": {
      "text/plain": [
       "'0.199 m1801 + 0.003 s_1065 + 0.002 s_1161 + 0.515 s_1260 + 0.19 s_1286 + 0.042 s_1449 <=> 0.951 s_3736'"
      ]
     },
     "execution_count": 50,
     "metadata": {},
     "output_type": "execute_result"
    }
   ],
   "source": [
    "reaction7.add_metabolites({\n",
    "linoleoylcoa3: -0.199,\n",
    "lauroylcoa3: -0.003,\n",
    "myristoylcoa3: -0.002,\n",
    "palmitoylcoa3: -0.19,\n",
    "stearoylcoa3: -0.042,\n",
    "oleoylcoa3: -0.515,\n",
    "fattyacid_pool_C: 0.951\n",
    "})\n",
    "reaction7.reaction"
   ]
  },
  {
   "cell_type": "code",
   "execution_count": 51,
   "id": "4d175256",
   "metadata": {},
   "outputs": [],
   "source": [
    "yali.add_reactions([reaction7])"
   ]
  },
  {
   "cell_type": "code",
   "execution_count": 52,
   "id": "6e321a18",
   "metadata": {},
   "outputs": [
    {
     "data": {
      "text/html": [
       "\n",
       "        <table>\n",
       "            <tr>\n",
       "                <td><strong>Reaction identifier</strong></td><td>xPOOL_FA_C</td>\n",
       "            </tr><tr>\n",
       "                <td><strong>Name</strong></td><td>Fatty acid pool</td>\n",
       "            </tr><tr>\n",
       "                <td><strong>Memory address</strong></td>\n",
       "                <td>0x07fbc0bc319d0</td>\n",
       "            </tr><tr>\n",
       "                <td><strong>Stoichiometry</strong></td>\n",
       "                <td>\n",
       "                    <p style='text-align:right'>0.199 m1801 + 0.003 s_1065 + 0.002 s_1161 + 0.515 s_1260 + 0.19 s_1286 + 0.042 s_1449 <=> 0.951 s_3736</p>\n",
       "                    <p style='text-align:right'>0.199 linoleate + 0.003 laurate + 0.002 myristate + 0.515 oleate + 0.19 palmitate + 0.042 stearate <=> 0.951 fatty-acid[c]</p>\n",
       "                </td>\n",
       "            </tr><tr>\n",
       "                <td><strong>GPR</strong></td><td></td>\n",
       "            </tr><tr>\n",
       "                <td><strong>Lower bound</strong></td><td>-1000.0</td>\n",
       "            </tr><tr>\n",
       "                <td><strong>Upper bound</strong></td><td>1000.0</td>\n",
       "            </tr>\n",
       "        </table>\n",
       "        "
      ],
      "text/plain": [
       "<Reaction xPOOL_FA_C at 0x7fbc0bc319d0>"
      ]
     },
     "execution_count": 52,
     "metadata": {},
     "output_type": "execute_result"
    }
   ],
   "source": [
    "yali.reactions.xPOOL_FA_C"
   ]
  },
  {
   "cell_type": "code",
   "execution_count": 53,
   "id": "27ffa511",
   "metadata": {},
   "outputs": [],
   "source": [
    "reaction8 = Reaction('xPOOL_FA_P')\n",
    "reaction8.name = 'Fatty acid pool'\n",
    "reaction8.subsystem = 'Pools for investigation'\n",
    "reaction8.lower_bound = -1000. # This is the default\n",
    "reaction8.upper_bound = 1000. # This is the default"
   ]
  },
  {
   "cell_type": "code",
   "execution_count": 54,
   "id": "6781da9d",
   "metadata": {},
   "outputs": [],
   "source": [
    "fattyacid_pool_P = Metabolite(\n",
    "'s_3734',\n",
    "name='fatty-acid[p]',\n",
    "compartment='p')"
   ]
  },
  {
   "cell_type": "code",
   "execution_count": 55,
   "id": "3ab29228",
   "metadata": {},
   "outputs": [],
   "source": [
    "linoleoylcoa4 = yali.metabolites.m1796\n",
    "lauroylcoa4 = yali.metabolites.s_1070\n",
    "myristoylcoa4 = yali.metabolites.s_1166\n",
    "palmitoylcoa4 = yali.metabolites.s_1291\n",
    "stearoylcoa4 = yali.metabolites.s_1451\n",
    "oleoylcoa4 = yali.metabolites.s_2855"
   ]
  },
  {
   "cell_type": "code",
   "execution_count": 56,
   "id": "fbc1feb5",
   "metadata": {},
   "outputs": [
    {
     "data": {
      "text/plain": [
       "'0.199 m1796 + 0.003 s_1070 + 0.002 s_1166 + 0.19 s_1291 + 0.042 s_1451 + 0.515 s_2855 <=> 0.951 s_3734'"
      ]
     },
     "execution_count": 56,
     "metadata": {},
     "output_type": "execute_result"
    }
   ],
   "source": [
    "reaction8.add_metabolites({\n",
    "linoleoylcoa4: -0.199,\n",
    "lauroylcoa4: -0.003,\n",
    "myristoylcoa4: -0.002,\n",
    "palmitoylcoa4: -0.19,\n",
    "stearoylcoa4: -0.042,\n",
    "oleoylcoa4: -0.515,\n",
    "fattyacid_pool_P: 0.951\n",
    "})\n",
    "reaction8.reaction"
   ]
  },
  {
   "cell_type": "code",
   "execution_count": 57,
   "id": "238d85e8",
   "metadata": {},
   "outputs": [],
   "source": [
    "yali.add_reactions([reaction8])"
   ]
  },
  {
   "cell_type": "code",
   "execution_count": 58,
   "id": "9abad10e",
   "metadata": {},
   "outputs": [
    {
     "data": {
      "text/html": [
       "\n",
       "        <table>\n",
       "            <tr>\n",
       "                <td><strong>Reaction identifier</strong></td><td>xPOOL_FA_P</td>\n",
       "            </tr><tr>\n",
       "                <td><strong>Name</strong></td><td>Fatty acid pool</td>\n",
       "            </tr><tr>\n",
       "                <td><strong>Memory address</strong></td>\n",
       "                <td>0x07fbc0bc6b5d0</td>\n",
       "            </tr><tr>\n",
       "                <td><strong>Stoichiometry</strong></td>\n",
       "                <td>\n",
       "                    <p style='text-align:right'>0.199 m1796 + 0.003 s_1070 + 0.002 s_1166 + 0.19 s_1291 + 0.042 s_1451 + 0.515 s_2855 <=> 0.951 s_3734</p>\n",
       "                    <p style='text-align:right'>0.199 linoleate + 0.003 laurate + 0.002 myristate + 0.19 palmitate + 0.042 stearate + 0.515 oleate <=> 0.951 fatty-acid[p]</p>\n",
       "                </td>\n",
       "            </tr><tr>\n",
       "                <td><strong>GPR</strong></td><td></td>\n",
       "            </tr><tr>\n",
       "                <td><strong>Lower bound</strong></td><td>-1000.0</td>\n",
       "            </tr><tr>\n",
       "                <td><strong>Upper bound</strong></td><td>1000.0</td>\n",
       "            </tr>\n",
       "        </table>\n",
       "        "
      ],
      "text/plain": [
       "<Reaction xPOOL_FA_P at 0x7fbc0bc6b5d0>"
      ]
     },
     "execution_count": 58,
     "metadata": {},
     "output_type": "execute_result"
    }
   ],
   "source": [
    "yali.reactions.xPOOL_FA_P"
   ]
  },
  {
   "cell_type": "code",
   "execution_count": 59,
   "id": "f58ae3f8",
   "metadata": {},
   "outputs": [],
   "source": [
    "reaction9 = Reaction('xPOOL_MA_M')\n",
    "reaction9.name = 'Methyl Malonyl pool'\n",
    "reaction9.subsystem = 'Pools for investigation'\n",
    "reaction9.lower_bound = -1000. # This is the default\n",
    "reaction9.upper_bound = 1000. # This is the default"
   ]
  },
  {
   "cell_type": "code",
   "execution_count": 60,
   "id": "c91129e6",
   "metadata": {},
   "outputs": [],
   "source": [
    "methylmalonyl_pool_M = Metabolite(\n",
    "'s_3744',\n",
    "name='methyl-malonyl[m]',\n",
    "compartment='m')"
   ]
  },
  {
   "cell_type": "code",
   "execution_count": 61,
   "id": "f8c62227",
   "metadata": {},
   "outputs": [],
   "source": [
    "malonyl = yali.metabolites.s_1104\n",
    "smethylmalonyl = yali.metabolites.s_3726\n",
    "rmethylmalonyl = yali.metabolites.s_3727"
   ]
  },
  {
   "cell_type": "code",
   "execution_count": 62,
   "id": "b640034c",
   "metadata": {},
   "outputs": [
    {
     "data": {
      "text/plain": [
       "'s_1104 + s_3726 + s_3727 <=> s_3744'"
      ]
     },
     "execution_count": 62,
     "metadata": {},
     "output_type": "execute_result"
    }
   ],
   "source": [
    "reaction9.add_metabolites({\n",
    "malonyl: -1.0,\n",
    "smethylmalonyl: -1.0,\n",
    "rmethylmalonyl: -1.0,\n",
    "methylmalonyl_pool_M: 1.0\n",
    "})\n",
    "reaction9.reaction"
   ]
  },
  {
   "cell_type": "code",
   "execution_count": 63,
   "id": "993ce163",
   "metadata": {},
   "outputs": [],
   "source": [
    "yali.add_reactions([reaction9])"
   ]
  },
  {
   "cell_type": "code",
   "execution_count": 64,
   "id": "748928d9",
   "metadata": {},
   "outputs": [
    {
     "data": {
      "text/html": [
       "\n",
       "        <table>\n",
       "            <tr>\n",
       "                <td><strong>Reaction identifier</strong></td><td>xPOOL_MA_M</td>\n",
       "            </tr><tr>\n",
       "                <td><strong>Name</strong></td><td>Methyl Malonyl pool</td>\n",
       "            </tr><tr>\n",
       "                <td><strong>Memory address</strong></td>\n",
       "                <td>0x07fbc0bbd0790</td>\n",
       "            </tr><tr>\n",
       "                <td><strong>Stoichiometry</strong></td>\n",
       "                <td>\n",
       "                    <p style='text-align:right'>s_1104 + s_3726 + s_3727 <=> s_3744</p>\n",
       "                    <p style='text-align:right'>malonyl-CoA + (S)-Methylmalonyl-CoA[m] + (R)-Methylmalonyl-CoA[m] <=> methyl-malonyl[m]</p>\n",
       "                </td>\n",
       "            </tr><tr>\n",
       "                <td><strong>GPR</strong></td><td></td>\n",
       "            </tr><tr>\n",
       "                <td><strong>Lower bound</strong></td><td>-1000.0</td>\n",
       "            </tr><tr>\n",
       "                <td><strong>Upper bound</strong></td><td>1000.0</td>\n",
       "            </tr>\n",
       "        </table>\n",
       "        "
      ],
      "text/plain": [
       "<Reaction xPOOL_MA_M at 0x7fbc0bbd0790>"
      ]
     },
     "execution_count": 64,
     "metadata": {},
     "output_type": "execute_result"
    }
   ],
   "source": [
    "yali.reactions.xPOOL_MA_M"
   ]
  },
  {
   "cell_type": "code",
   "execution_count": 65,
   "id": "6732131f",
   "metadata": {},
   "outputs": [],
   "source": [
    "reaction10 = Reaction('xPOOL_SU_C')\n",
    "reaction10.name = 'Succinate pool'\n",
    "reaction10.subsystem = 'Pools for investigation'\n",
    "reaction10.lower_bound = -1000. # This is the default\n",
    "reaction10.upper_bound = 1000. # This is the default"
   ]
  },
  {
   "cell_type": "code",
   "execution_count": 66,
   "id": "c9ca6d46",
   "metadata": {},
   "outputs": [],
   "source": [
    "succ_pool_C = Metabolite(\n",
    "'s_3730',\n",
    "name='succinatepool[c]',\n",
    "compartment='c')"
   ]
  },
  {
   "cell_type": "code",
   "execution_count": 67,
   "id": "f270505c",
   "metadata": {},
   "outputs": [],
   "source": [
    "isopropyloxosuccinate = yali.metabolites.s_0010\n",
    "adenylosuccinate = yali.metabolites.s_0393\n",
    "ssuccinate = yali.metabolites.s_1458"
   ]
  },
  {
   "cell_type": "code",
   "execution_count": 68,
   "id": "e8485e45",
   "metadata": {},
   "outputs": [
    {
     "data": {
      "text/plain": [
       "'s_0010 + s_0393 + s_1458 <=> s_3730'"
      ]
     },
     "execution_count": 68,
     "metadata": {},
     "output_type": "execute_result"
    }
   ],
   "source": [
    "reaction10.add_metabolites({\n",
    "isopropyloxosuccinate: -1.0,\n",
    "adenylosuccinate: -1.0,\n",
    "ssuccinate: -1.0,\n",
    "succ_pool_C: 1.0\n",
    "})\n",
    "reaction10.reaction"
   ]
  },
  {
   "cell_type": "code",
   "execution_count": 69,
   "id": "99c1c028",
   "metadata": {},
   "outputs": [],
   "source": [
    "yali.add_reactions([reaction10])"
   ]
  },
  {
   "cell_type": "code",
   "execution_count": 70,
   "id": "32c6472d",
   "metadata": {},
   "outputs": [
    {
     "data": {
      "text/html": [
       "\n",
       "        <table>\n",
       "            <tr>\n",
       "                <td><strong>Reaction identifier</strong></td><td>xPOOL_SU_C</td>\n",
       "            </tr><tr>\n",
       "                <td><strong>Name</strong></td><td>Succinate pool</td>\n",
       "            </tr><tr>\n",
       "                <td><strong>Memory address</strong></td>\n",
       "                <td>0x07fbc0bbc40d0</td>\n",
       "            </tr><tr>\n",
       "                <td><strong>Stoichiometry</strong></td>\n",
       "                <td>\n",
       "                    <p style='text-align:right'>s_0010 + s_0393 + s_1458 <=> s_3730</p>\n",
       "                    <p style='text-align:right'>(2S)-2-isopropyl-3-oxosuccinate + adenylo-succinate + succinate <=> Margaric acid[lp]</p>\n",
       "                </td>\n",
       "            </tr><tr>\n",
       "                <td><strong>GPR</strong></td><td></td>\n",
       "            </tr><tr>\n",
       "                <td><strong>Lower bound</strong></td><td>-1000.0</td>\n",
       "            </tr><tr>\n",
       "                <td><strong>Upper bound</strong></td><td>1000.0</td>\n",
       "            </tr>\n",
       "        </table>\n",
       "        "
      ],
      "text/plain": [
       "<Reaction xPOOL_SU_C at 0x7fbc0bbc40d0>"
      ]
     },
     "execution_count": 70,
     "metadata": {},
     "output_type": "execute_result"
    }
   ],
   "source": [
    "yali.reactions.xPOOL_SU_C"
   ]
  },
  {
   "cell_type": "code",
   "execution_count": 71,
   "id": "7f64d83d",
   "metadata": {},
   "outputs": [],
   "source": [
    "reaction11 = Reaction('xPOOL_SU_M')\n",
    "reaction11.name = 'Succinate pool'\n",
    "reaction11.subsystem = 'Pools for investigation'\n",
    "reaction11.lower_bound = -1000. # This is the default\n",
    "reaction11.upper_bound = 1000. # This is the default"
   ]
  },
  {
   "cell_type": "code",
   "execution_count": 72,
   "id": "c2cf184d",
   "metadata": {},
   "outputs": [],
   "source": [
    "succ_pool_M = Metabolite(\n",
    "'s_3729',\n",
    "name='succinatepool[m]',\n",
    "compartment='m')"
   ]
  },
  {
   "cell_type": "code",
   "execution_count": 73,
   "id": "fe253575",
   "metadata": {},
   "outputs": [],
   "source": [
    "isopropyloxosuccinate2 = yali.metabolites.s_0011\n",
    "ssuccinate2 = yali.metabolites.s_1460"
   ]
  },
  {
   "cell_type": "code",
   "execution_count": 74,
   "id": "1f6db082",
   "metadata": {},
   "outputs": [
    {
     "data": {
      "text/plain": [
       "'s_0011 + s_1460 <=> s_3729'"
      ]
     },
     "execution_count": 74,
     "metadata": {},
     "output_type": "execute_result"
    }
   ],
   "source": [
    "reaction11.add_metabolites({\n",
    "isopropyloxosuccinate2: -1.0,\n",
    "ssuccinate2: -1.0,\n",
    "succ_pool_M: 1.0\n",
    "})\n",
    "reaction11.reaction"
   ]
  },
  {
   "cell_type": "code",
   "execution_count": 75,
   "id": "4974ae2a",
   "metadata": {},
   "outputs": [],
   "source": [
    "yali.add_reactions([reaction11])"
   ]
  },
  {
   "cell_type": "code",
   "execution_count": 76,
   "id": "8f14860f",
   "metadata": {},
   "outputs": [
    {
     "data": {
      "text/html": [
       "\n",
       "        <table>\n",
       "            <tr>\n",
       "                <td><strong>Reaction identifier</strong></td><td>xPOOL_SU_M</td>\n",
       "            </tr><tr>\n",
       "                <td><strong>Name</strong></td><td>Succinate pool</td>\n",
       "            </tr><tr>\n",
       "                <td><strong>Memory address</strong></td>\n",
       "                <td>0x07fbc0bbe4190</td>\n",
       "            </tr><tr>\n",
       "                <td><strong>Stoichiometry</strong></td>\n",
       "                <td>\n",
       "                    <p style='text-align:right'>s_0011 + s_1460 <=> s_3729</p>\n",
       "                    <p style='text-align:right'>(2S)-2-isopropyl-3-oxosuccinate + succinate <=> Margaric-CoA[lp]</p>\n",
       "                </td>\n",
       "            </tr><tr>\n",
       "                <td><strong>GPR</strong></td><td></td>\n",
       "            </tr><tr>\n",
       "                <td><strong>Lower bound</strong></td><td>-1000.0</td>\n",
       "            </tr><tr>\n",
       "                <td><strong>Upper bound</strong></td><td>1000.0</td>\n",
       "            </tr>\n",
       "        </table>\n",
       "        "
      ],
      "text/plain": [
       "<Reaction xPOOL_SU_M at 0x7fbc0bbe4190>"
      ]
     },
     "execution_count": 76,
     "metadata": {},
     "output_type": "execute_result"
    }
   ],
   "source": [
    "yali.reactions.xPOOL_SU_M"
   ]
  },
  {
   "cell_type": "code",
   "execution_count": 77,
   "id": "f3f8983c",
   "metadata": {},
   "outputs": [],
   "source": [
    "pool1 = Reaction('xPOOL_ECFA_LP')\n",
    "pool1.name = 'Even Chain Fatty acid pool'\n",
    "pool1.subsystem = 'Pools for investigation'\n",
    "pool1.lower_bound = -1000. # This is the default\n",
    "pool1.upper_bound = 1000. # This is the default"
   ]
  },
  {
   "cell_type": "code",
   "execution_count": 78,
   "id": "b07f9e46",
   "metadata": {},
   "outputs": [],
   "source": [
    "evenchainfattyacid_pool_PL = Metabolite(\n",
    "'s_3741',\n",
    "name='even chain fatty-acid[lp]',\n",
    "compartment='lp')"
   ]
  },
  {
   "cell_type": "code",
   "execution_count": 79,
   "id": "868da410",
   "metadata": {},
   "outputs": [],
   "source": [
    "linoleate1 = yali.metabolites.m1761\n",
    "laurate1 = yali.metabolites.s_2841\n",
    "#myristate1 = yali.metabolites.S_2844\n",
    "palmitate1 = yali.metabolites.s_2846\n",
    "palmitoleate1 = yali.metabolites.s_2848\n",
    "stearate1 = yali.metabolites.s_2850\n",
    "oleate1 = yali.metabolites.s_2852"
   ]
  },
  {
   "cell_type": "code",
   "execution_count": 80,
   "id": "56f78426",
   "metadata": {},
   "outputs": [
    {
     "data": {
      "text/plain": [
       "'0.199 m1761 + 0.003 s_2841 + 0.19 s_2846 + 0.19 s_2848 + 0.042 s_2850 + 0.515 s_2852 <=> 0.951 s_3741'"
      ]
     },
     "execution_count": 80,
     "metadata": {},
     "output_type": "execute_result"
    }
   ],
   "source": [
    "pool1.add_metabolites({\n",
    "linoleate1: -0.199,\n",
    "laurate1: -0.003,\n",
    "#myristate1: -0.002,\n",
    "palmitate1: -0.19,\n",
    "palmitoleate1: -0.19,\n",
    "stearate1: -0.042,\n",
    "oleate1: -0.515,\n",
    "evenchainfattyacid_pool_PL: 0.951\n",
    "})\n",
    "pool1.reaction"
   ]
  },
  {
   "cell_type": "code",
   "execution_count": 81,
   "id": "ccd12cd1",
   "metadata": {},
   "outputs": [],
   "source": [
    "yali.add_reactions([pool1])"
   ]
  },
  {
   "cell_type": "code",
   "execution_count": 82,
   "id": "eb93c9d6",
   "metadata": {},
   "outputs": [
    {
     "data": {
      "text/html": [
       "\n",
       "        <table>\n",
       "            <tr>\n",
       "                <td><strong>Reaction identifier</strong></td><td>xPOOL_ECFA_LP</td>\n",
       "            </tr><tr>\n",
       "                <td><strong>Name</strong></td><td>Even Chain Fatty acid pool</td>\n",
       "            </tr><tr>\n",
       "                <td><strong>Memory address</strong></td>\n",
       "                <td>0x07fbc0bbf4190</td>\n",
       "            </tr><tr>\n",
       "                <td><strong>Stoichiometry</strong></td>\n",
       "                <td>\n",
       "                    <p style='text-align:right'>0.199 m1761 + 0.003 s_2841 + 0.19 s_2846 + 0.19 s_2848 + 0.042 s_2850 + 0.515 s_2852 <=> 0.951 s_3741</p>\n",
       "                    <p style='text-align:right'>0.199 linoleate + 0.003 laurate + 0.19 palmitate + 0.19 palmitoleate + 0.042 stearate + 0.515 oleate <=> 0.951 even chain fatty-acid[lp]</p>\n",
       "                </td>\n",
       "            </tr><tr>\n",
       "                <td><strong>GPR</strong></td><td></td>\n",
       "            </tr><tr>\n",
       "                <td><strong>Lower bound</strong></td><td>-1000.0</td>\n",
       "            </tr><tr>\n",
       "                <td><strong>Upper bound</strong></td><td>1000.0</td>\n",
       "            </tr>\n",
       "        </table>\n",
       "        "
      ],
      "text/plain": [
       "<Reaction xPOOL_ECFA_LP at 0x7fbc0bbf4190>"
      ]
     },
     "execution_count": 82,
     "metadata": {},
     "output_type": "execute_result"
    }
   ],
   "source": [
    "yali.reactions.xPOOL_ECFA_LP"
   ]
  },
  {
   "cell_type": "code",
   "execution_count": 83,
   "id": "65d55c81",
   "metadata": {},
   "outputs": [],
   "source": [
    "pool2 = Reaction('xPOOL_OCFA_LP')\n",
    "pool2.name = 'Odd Chain Fatty acid pool'\n",
    "pool2.subsystem = 'Pools for investigation'\n",
    "pool2.lower_bound = -1000. # This is the default\n",
    "pool2.upper_bound = 1000. # This is the default"
   ]
  },
  {
   "cell_type": "code",
   "execution_count": 84,
   "id": "abd20358",
   "metadata": {},
   "outputs": [],
   "source": [
    "oddchainfattyacid_pool_PL = Metabolite(\n",
    "'s_3742',\n",
    "name='odd chain fatty-acid[lp]',\n",
    "compartment='lp')"
   ]
  },
  {
   "cell_type": "code",
   "execution_count": 85,
   "id": "254d6203",
   "metadata": {},
   "outputs": [],
   "source": [
    "margaric1 = yali.metabolites.s_3730\n",
    "pentadecylic1 = yali.metabolites.s_3733"
   ]
  },
  {
   "cell_type": "code",
   "execution_count": 86,
   "id": "69c0930a",
   "metadata": {},
   "outputs": [
    {
     "data": {
      "text/plain": [
       "'s_3730 + s_3733 <=> s_3742'"
      ]
     },
     "execution_count": 86,
     "metadata": {},
     "output_type": "execute_result"
    }
   ],
   "source": [
    "pool2.add_metabolites({\n",
    "pentadecylic1: -1,\n",
    "margaric1: -1,\n",
    "oddchainfattyacid_pool_PL: 1\n",
    "})\n",
    "pool2.reaction"
   ]
  },
  {
   "cell_type": "code",
   "execution_count": 87,
   "id": "268601eb",
   "metadata": {},
   "outputs": [],
   "source": [
    "yali.add_reactions([pool2])"
   ]
  },
  {
   "cell_type": "code",
   "execution_count": 88,
   "id": "12dbc7d7",
   "metadata": {},
   "outputs": [
    {
     "data": {
      "text/html": [
       "\n",
       "        <table>\n",
       "            <tr>\n",
       "                <td><strong>Reaction identifier</strong></td><td>xPOOL_OCFA_LP</td>\n",
       "            </tr><tr>\n",
       "                <td><strong>Name</strong></td><td>Odd Chain Fatty acid pool</td>\n",
       "            </tr><tr>\n",
       "                <td><strong>Memory address</strong></td>\n",
       "                <td>0x07fbc0bc7fd90</td>\n",
       "            </tr><tr>\n",
       "                <td><strong>Stoichiometry</strong></td>\n",
       "                <td>\n",
       "                    <p style='text-align:right'>s_3730 + s_3733 <=> s_3742</p>\n",
       "                    <p style='text-align:right'>Margaric acid[lp] + Pentadecylic acid[lp] <=> odd chain fatty-acid[lp]</p>\n",
       "                </td>\n",
       "            </tr><tr>\n",
       "                <td><strong>GPR</strong></td><td></td>\n",
       "            </tr><tr>\n",
       "                <td><strong>Lower bound</strong></td><td>-1000.0</td>\n",
       "            </tr><tr>\n",
       "                <td><strong>Upper bound</strong></td><td>1000.0</td>\n",
       "            </tr>\n",
       "        </table>\n",
       "        "
      ],
      "text/plain": [
       "<Reaction xPOOL_OCFA_LP at 0x7fbc0bc7fd90>"
      ]
     },
     "execution_count": 88,
     "metadata": {},
     "output_type": "execute_result"
    }
   ],
   "source": [
    "yali.reactions.xPOOL_OCFA_LP"
   ]
  },
  {
   "cell_type": "code",
   "execution_count": 89,
   "id": "1aae1bde",
   "metadata": {},
   "outputs": [],
   "source": [
    "#cobra.io.json.save_json_model(yali, 'yalinewpathways trial 2.json')\n",
    "cobra.io.write_sbml_model(yali, \"iYali-tidy Obese strain final 2.xml\")"
   ]
  }
 ],
 "metadata": {
  "kernelspec": {
   "display_name": "Python 3 (ipykernel)",
   "language": "python",
   "name": "python3"
  },
  "language_info": {
   "codemirror_mode": {
    "name": "ipython",
    "version": 3
   },
   "file_extension": ".py",
   "mimetype": "text/x-python",
   "name": "python",
   "nbconvert_exporter": "python",
   "pygments_lexer": "ipython3",
   "version": "3.8.12"
  }
 },
 "nbformat": 4,
 "nbformat_minor": 5
}
