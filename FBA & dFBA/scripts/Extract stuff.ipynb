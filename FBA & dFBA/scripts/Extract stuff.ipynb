{
 "cells": [
  {
   "cell_type": "code",
   "execution_count": 1,
   "id": "989eb678",
   "metadata": {},
   "outputs": [],
   "source": [
    "import os\n",
    "import pandas as pd"
   ]
  },
  {
   "cell_type": "code",
   "execution_count": 2,
   "id": "27051544",
   "metadata": {},
   "outputs": [],
   "source": [
    "# Directory where your Excel files are located\n",
    "directory = '/home/jeremy/Downloads/BIMLib/tesis stuff/final real models/FBA data for CoA pools'"
   ]
  },
  {
   "cell_type": "code",
   "execution_count": 3,
   "id": "cd43051e",
   "metadata": {},
   "outputs": [],
   "source": [
    "# Create an empty dataframe to store the rows\n",
    "all_rows = pd.DataFrame()"
   ]
  },
  {
   "cell_type": "code",
   "execution_count": 4,
   "id": "fce9fa30",
   "metadata": {},
   "outputs": [],
   "source": [
    "# Variables of interest\n",
    "variables_of_interest = ['xAMINOACID', 'xBIOMASS', 'xLIPID', 'xMAINTENANCE', 'xPOOL_AC_EM', 'xPOOL_AC_LP', \n",
    "                         'xPOOL_AC_MM', 'xPOOL_FA_EM', 'xPOOL_FA_EN', 'xPOOL_FA_LP', 'xPOOL_FA_MI', 'xPOOL_FA_MM', \n",
    "                         'xPOOL_PC_M', 'xPOOL_PC_C', 'xPOOL_FA_C', 'xPOOL_FA_P', 'xPOOL_ECFA_LP', 'xPOOL_OCFA_LP', \n",
    "                         'xPOOL_MA_M', 'xPOOL_SU_C', 'xPOOL_SU_M', 'xPOOL_ECFA_LP', 'xPOOL_OCFA_LP', 'y300083', \n",
    "                         'y300084', 'y300085', 'y300086', 'y300099', 'y300100', 'y300102', 'y300104', 'y300105', \n",
    "                         'y300106', 'y000109', 'y000108', 'y000831', 'y300094', 'y300091', 'y300059', 'y002202', \n",
    "                         'y003258', 'y002204', 'y003573', 'y002204', 'y003573', 'y003259', 'y003255', 'y002205', \n",
    "                         'y003257', 'y003574', 'y003253', 'y003261']"
   ]
  },
  {
   "cell_type": "code",
   "execution_count": 5,
   "id": "cbc28905",
   "metadata": {},
   "outputs": [],
   "source": [
    "# Loop over each file in the directory\n",
    "for filename in os.listdir(directory):\n",
    "    if filename.endswith(\".xlsx\") or filename.endswith(\".xls\"):  # check that it's an Excel file\n",
    "        file_path = os.path.join(directory, filename)  # Full file path\n",
    "        df = pd.read_excel(file_path)  # Load the Excel file into a DataFrame\n",
    "\n",
    "        # Here's where you would extract the rows you want. As an example,\n",
    "        # Let's assume the first column contains the name of the row. Let's extract the rows \n",
    "        # where the first column matches any of the variables of interest:\n",
    "        df_filtered = df[df['names'].isin(variables_of_interest)]\n",
    "        df_filtered\n",
    "\n",
    "        # Append the extracted rows to our dataframe\n",
    "        all_rows = all_rows.append(df_filtered)\n",
    "# Now 'all_rows' contains the extracted rows from all files"
   ]
  },
  {
   "cell_type": "code",
   "execution_count": 6,
   "id": "7659f0c0",
   "metadata": {},
   "outputs": [
    {
     "data": {
      "text/plain": [
       "<bound method NDFrame.to_excel of               names        fluxes\n",
       "0        xAMINOACID  0.000000e+00\n",
       "1          xBIOMASS  0.000000e+00\n",
       "2            xLIPID  0.000000e+00\n",
       "3      xMAINTENANCE  0.000000e+00\n",
       "4       xPOOL_AC_EM -5.033826e-33\n",
       "...             ...           ...\n",
       "1955     xPOOL_MA_M  0.000000e+00\n",
       "1956     xPOOL_SU_C  0.000000e+00\n",
       "1957     xPOOL_SU_M  0.000000e+00\n",
       "1958  xPOOL_ECFA_LP  0.000000e+00\n",
       "1959  xPOOL_OCFA_LP  0.000000e+00\n",
       "\n",
       "[1824 rows x 2 columns]>"
      ]
     },
     "execution_count": 6,
     "metadata": {},
     "output_type": "execute_result"
    }
   ],
   "source": [
    "# Write the final DataFrame to a new Excel file\n",
    "all_rows.to_excel(\"new_database.xlsx\")\n",
    "all_rows.to_excel"
   ]
  }
 ],
 "metadata": {
  "kernelspec": {
   "display_name": "Python 3 (ipykernel)",
   "language": "python",
   "name": "python3"
  },
  "language_info": {
   "codemirror_mode": {
    "name": "ipython",
    "version": 3
   },
   "file_extension": ".py",
   "mimetype": "text/x-python",
   "name": "python",
   "nbconvert_exporter": "python",
   "pygments_lexer": "ipython3",
   "version": "3.7.13"
  }
 },
 "nbformat": 4,
 "nbformat_minor": 5
}
