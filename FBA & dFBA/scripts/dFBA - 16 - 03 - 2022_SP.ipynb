{
 "cells": [
  {
   "cell_type": "code",
   "execution_count": 1,
   "id": "14d29d98",
   "metadata": {},
   "outputs": [],
   "source": [
    "import cobra"
   ]
  },
  {
   "cell_type": "code",
   "execution_count": 2,
   "id": "84b9529c",
   "metadata": {},
   "outputs": [],
   "source": [
    "import cplex"
   ]
  },
  {
   "cell_type": "code",
   "execution_count": 3,
   "id": "063b35f1",
   "metadata": {},
   "outputs": [],
   "source": [
    "from cobra import Model, Reaction, Metabolite\n",
    "from cobra.test import create_test_model"
   ]
  },
  {
   "cell_type": "code",
   "execution_count": 4,
   "id": "4c5ae3c9",
   "metadata": {},
   "outputs": [],
   "source": [
    "import numpy as np\n",
    "from tqdm import tqdm\n",
    "\n",
    "from scipy.integrate import solve_ivp\n",
    "from mpl_toolkits.axisartist.parasite_axes import HostAxes, ParasiteAxes\n",
    "\n",
    "import matplotlib.pyplot as plt\n",
    "%matplotlib inline"
   ]
  },
  {
   "cell_type": "code",
   "execution_count": 5,
   "id": "d590dc71",
   "metadata": {},
   "outputs": [],
   "source": [
    "yali = cobra.io.read_sbml_model('iyali.xml')"
   ]
  },
  {
   "cell_type": "code",
   "execution_count": 6,
   "id": "3fdc7861",
   "metadata": {},
   "outputs": [
    {
     "data": {
      "text/plain": [
       "{'y001654': 1000.0,\n",
       " 'y001714': 1.0,\n",
       " 'y001832': 1000.0,\n",
       " 'y001861': 1000.0,\n",
       " 'y001992': 1000.0,\n",
       " 'y002005': 1000.0,\n",
       " 'y002020': 1000.0,\n",
       " 'y002049': 1000.0,\n",
       " 'y002060': 1000.0,\n",
       " 'y002100': 1000.0}"
      ]
     },
     "execution_count": 6,
     "metadata": {},
     "output_type": "execute_result"
    }
   ],
   "source": [
    "yali.medium"
   ]
  },
  {
   "cell_type": "code",
   "execution_count": 23,
   "id": "3bf1a51e",
   "metadata": {},
   "outputs": [
    {
     "data": {
      "text/plain": [
       "[<Reaction y001542 at 0x7fc6003e6d90>,\n",
       " <Reaction y001545 at 0x7fc6003e6dc0>,\n",
       " <Reaction y001546 at 0x7fc6003d9a60>,\n",
       " <Reaction y001547 at 0x7fc6003e6a60>,\n",
       " <Reaction y001548 at 0x7fc6003e6520>,\n",
       " <Reaction y001550 at 0x7fc6003f28b0>,\n",
       " <Reaction y001551 at 0x7fc6003f2970>,\n",
       " <Reaction y001552 at 0x7fc6003f2a30>,\n",
       " <Reaction y001553 at 0x7fc6003f2af0>,\n",
       " <Reaction y001554 at 0x7fc6003f2bb0>,\n",
       " <Reaction y001566 at 0x7fc6003f2eb0>,\n",
       " <Reaction y001572 at 0x7fc6003f2e20>,\n",
       " <Reaction y001577 at 0x7fc600385610>,\n",
       " <Reaction y001580 at 0x7fc6003858b0>,\n",
       " <Reaction y001586 at 0x7fc600385c40>,\n",
       " <Reaction y001589 at 0x7fc600385ee0>,\n",
       " <Reaction y001598 at 0x7fc600385490>,\n",
       " <Reaction y001604 at 0x7fc600392730>,\n",
       " <Reaction y001621 at 0x7fc600392f70>,\n",
       " <Reaction y001625 at 0x7fc60042cbb0>,\n",
       " <Reaction y001627 at 0x7fc600392e50>,\n",
       " <Reaction y001629 at 0x7fc600392f40>,\n",
       " <Reaction y001630 at 0x7fc600392eb0>,\n",
       " <Reaction y001631 at 0x7fc6003a25b0>,\n",
       " <Reaction y001634 at 0x7fc6003a28b0>,\n",
       " <Reaction y001639 at 0x7fc6003a2c40>,\n",
       " <Reaction y001641 at 0x7fc6003a2d60>,\n",
       " <Reaction y001643 at 0x7fc6003a2ee0>,\n",
       " <Reaction y001648 at 0x7fc6003a2dc0>,\n",
       " <Reaction y001649 at 0x7fc6003a24f0>,\n",
       " <Reaction y001650 at 0x7fc6003a2d90>,\n",
       " <Reaction y001651 at 0x7fc6003a2400>,\n",
       " <Reaction y001654 at 0x7fc6003b05e0>,\n",
       " <Reaction y001663 at 0x7fc6003b0df0>,\n",
       " <Reaction y001671 at 0x7fc6003b03a0>,\n",
       " <Reaction y001672 at 0x7fc6003b08b0>,\n",
       " <Reaction y001683 at 0x7fc60033ff70>,\n",
       " <Reaction y001687 at 0x7fc60033f520>,\n",
       " <Reaction y001702 at 0x7fc60034ea90>,\n",
       " <Reaction y001705 at 0x7fc60034ed00>,\n",
       " <Reaction y001706 at 0x7fc600392880>,\n",
       " <Reaction y001709 at 0x7fc60034efa0>,\n",
       " <Reaction y001710 at 0x7fc60034efd0>,\n",
       " <Reaction y001712 at 0x7fc60034edc0>,\n",
       " <Reaction y001714 at 0x7fc60034eee0>,\n",
       " <Reaction y001715 at 0x7fc60035c4f0>,\n",
       " <Reaction y001716 at 0x7fc60035c5b0>,\n",
       " <Reaction y001718 at 0x7fc60035c730>,\n",
       " <Reaction y001727 at 0x7fc60035cc40>,\n",
       " <Reaction y001730 at 0x7fc60035cd60>,\n",
       " <Reaction y001749 at 0x7fc60036a820>,\n",
       " <Reaction y001753 at 0x7fc60036aac0>,\n",
       " <Reaction y001757 at 0x7fc60036abe0>,\n",
       " <Reaction y001761 at 0x7fc60036af70>,\n",
       " <Reaction y001764 at 0x7fc60036a460>,\n",
       " <Reaction y001765 at 0x7fc60036a4c0>,\n",
       " <Reaction y001788 at 0x7fc600379be0>,\n",
       " <Reaction y001791 at 0x7fc600379cd0>,\n",
       " <Reaction y001792 at 0x7fc600379d00>,\n",
       " <Reaction y001793 at 0x7fc600379dc0>,\n",
       " <Reaction y001798 at 0x7fc600379490>,\n",
       " <Reaction y001800 at 0x7fc600379040>,\n",
       " <Reaction y001806 at 0x7fc600308880>,\n",
       " <Reaction y001807 at 0x7fc600308970>,\n",
       " <Reaction y001808 at 0x7fc6003089a0>,\n",
       " <Reaction y001810 at 0x7fc600308b20>,\n",
       " <Reaction y001814 at 0x7fc600308f40>,\n",
       " <Reaction y001815 at 0x7fc600308fa0>,\n",
       " <Reaction y001818 at 0x7fc600308580>,\n",
       " <Reaction y001820 at 0x7fc6003082e0>,\n",
       " <Reaction y001832 at 0x7fc600316dc0>,\n",
       " <Reaction y001834 at 0x7fc600316ee0>,\n",
       " <Reaction y001841 at 0x7fc600308100>,\n",
       " <Reaction y001843 at 0x7fc600325760>,\n",
       " <Reaction y001847 at 0x7fc600325c70>,\n",
       " <Reaction y001861 at 0x7fc6003348b0>,\n",
       " <Reaction y001862 at 0x7fc6003349a0>,\n",
       " <Reaction y001865 at 0x7fc600334c10>,\n",
       " <Reaction y001866 at 0x7fc600334d00>,\n",
       " <Reaction y001867 at 0x7fc600334d30>,\n",
       " <Reaction y001870 at 0x7fc600334fa0>,\n",
       " <Reaction y001873 at 0x7fc600334cd0>,\n",
       " <Reaction y001875 at 0x7fc600334460>,\n",
       " <Reaction y001878 at 0x7fc6002c2580>,\n",
       " <Reaction y001879 at 0x7fc6002c2670>,\n",
       " <Reaction y001880 at 0x7fc6002c26a0>,\n",
       " <Reaction y001881 at 0x7fc6002c2760>,\n",
       " <Reaction y001883 at 0x7fc6002c28e0>,\n",
       " <Reaction y001886 at 0x7fc6002c2c10>,\n",
       " <Reaction y001889 at 0x7fc6002c2d30>,\n",
       " <Reaction y001891 at 0x7fc6002c2f40>,\n",
       " <Reaction y001893 at 0x7fc6002c2fa0>,\n",
       " <Reaction y001896 at 0x7fc6002c23d0>,\n",
       " <Reaction y001897 at 0x7fc6002c2e50>,\n",
       " <Reaction y001899 at 0x7fc6002d1550>,\n",
       " <Reaction y001900 at 0x7fc6002d16d0>,\n",
       " <Reaction y001902 at 0x7fc6002d17c0>,\n",
       " <Reaction y001903 at 0x7fc6003254f0>,\n",
       " <Reaction y001904 at 0x7fc6002d12e0>,\n",
       " <Reaction y001906 at 0x7fc6002d1af0>,\n",
       " <Reaction y001909 at 0x7fc6002d1f70>,\n",
       " <Reaction y001911 at 0x7fc6002d1e20>,\n",
       " <Reaction y001912 at 0x7fc6002d16a0>,\n",
       " <Reaction y001913 at 0x7fc6002d17f0>,\n",
       " <Reaction y001914 at 0x7fc6002d1580>,\n",
       " <Reaction y001915 at 0x7fc6002df400>,\n",
       " <Reaction y001916 at 0x7fc6002df4c0>,\n",
       " <Reaction y001931 at 0x7fc6002dfdc0>,\n",
       " <Reaction y001947 at 0x7fc6002eedc0>,\n",
       " <Reaction y001967 at 0x7fc6002ee220>,\n",
       " <Reaction y001968 at 0x7fc6002ee460>,\n",
       " <Reaction y001984 at 0x7fc60027ec70>,\n",
       " <Reaction y001987 at 0x7fc60027ed60>,\n",
       " <Reaction y001989 at 0x7fc60027ee50>,\n",
       " <Reaction y001992 at 0x7fc60027eeb0>,\n",
       " <Reaction y001993 at 0x7fc60027ed30>,\n",
       " <Reaction y001994 at 0x7fc60027e3a0>,\n",
       " <Reaction y002001 at 0x7fc60028c4f0>,\n",
       " <Reaction y002005 at 0x7fc60028c880>,\n",
       " <Reaction y002020 at 0x7fc60028c9a0>,\n",
       " <Reaction y002024 at 0x7fc60028ccd0>,\n",
       " <Reaction y002028 at 0x7fc60028cdc0>,\n",
       " <Reaction y002033 at 0x7fc600325640>,\n",
       " <Reaction y002038 at 0x7fc60028cee0>,\n",
       " <Reaction y002043 at 0x7fc60029ab20>,\n",
       " <Reaction y002044 at 0x7fc60029ac10>,\n",
       " <Reaction y002046 at 0x7fc60029ad00>,\n",
       " <Reaction y002049 at 0x7fc60029ae80>,\n",
       " <Reaction y002051 at 0x7fc60029aeb0>,\n",
       " <Reaction y002052 at 0x7fc60029af70>,\n",
       " <Reaction y002055 at 0x7fc60029a6a0>,\n",
       " <Reaction y002056 at 0x7fc60029a640>,\n",
       " <Reaction y002058 at 0x7fc6002a7490>,\n",
       " <Reaction y002060 at 0x7fc60029a3a0>,\n",
       " <Reaction y002061 at 0x7fc6002a73a0>,\n",
       " <Reaction y002062 at 0x7fc6002a7880>,\n",
       " <Reaction y002066 at 0x7fc6002a78e0>,\n",
       " <Reaction y002067 at 0x7fc6002a7a60>,\n",
       " <Reaction y002068 at 0x7fc6002a7a90>,\n",
       " <Reaction y002073 at 0x7fc6002a7c10>,\n",
       " <Reaction y002083 at 0x7fc6002a7df0>,\n",
       " <Reaction y002090 at 0x7fc6002b8880>,\n",
       " <Reaction y002091 at 0x7fc6002b8970>,\n",
       " <Reaction y002092 at 0x7fc6002b89a0>,\n",
       " <Reaction y002100 at 0x7fc6002b8df0>,\n",
       " <Reaction y002102 at 0x7fc6002b8610>,\n",
       " <Reaction y002104 at 0x7fc6002b85b0>,\n",
       " <Reaction y002106 at 0x7fc5e78c1610>,\n",
       " <Reaction y002134 at 0x7fc5e78cef40>,\n",
       " <Reaction y002137 at 0x7fc5e78ce8e0>,\n",
       " <Reaction y002187 at 0x7fc5e78dbfd0>,\n",
       " <Reaction y002188 at 0x7fc5e78dbf70>,\n",
       " <Reaction y002189 at 0x7fc5e78ab8e0>,\n",
       " <Reaction y002193 at 0x7fc5e78abcd0>,\n",
       " <Reaction y004043 at 0x7fc5e77e6fd0>,\n",
       " <Reaction y004044 at 0x7fc5e77d97f0>,\n",
       " <Reaction y300080 at 0x7fc5e76178e0>,\n",
       " <Reaction y300081 at 0x7fc5e7609f70>,\n",
       " <Reaction y300082 at 0x7fc5e7609e50>]"
      ]
     },
     "execution_count": 23,
     "metadata": {},
     "output_type": "execute_result"
    }
   ],
   "source": [
    "yali.exchanges"
   ]
  },
  {
   "cell_type": "code",
   "execution_count": 24,
   "id": "42336f85",
   "metadata": {},
   "outputs": [
    {
     "data": {
      "text/html": [
       "\n",
       "        <table>\n",
       "            <tr>\n",
       "                <td><strong>Reaction identifier</strong></td><td>xBIOMASS</td>\n",
       "            </tr><tr>\n",
       "                <td><strong>Name</strong></td><td>Biomass production</td>\n",
       "            </tr><tr>\n",
       "                <td><strong>Memory address</strong></td>\n",
       "                <td>0x07fc6009fc970</td>\n",
       "            </tr><tr>\n",
       "                <td><strong>Stoichiometry</strong></td>\n",
       "                <td>\n",
       "                    <p style='text-align:right'>m1726 + m1727 + 0.4415 s_0002 + 0.0757 s_0423 + 86.7881 s_0434 + 0.4068 s_0509 + 0.0578 s_0526 + 0.0383 s_0584 + 0.0377 s_0589 + 0.0377 s_0615 + 0.0383 s_0649 + 0.093 s_0782 + 0.1104 s_1107 +...</p>\n",
       "                    <p style='text-align:right'>protein + lipids + 0.4415 (1-3)-beta-D-glucan + 0.0757 AMP + 86.7881 ATP + 0.4068 chitin + 0.0578 CMP + 0.0383 dAMP + 0.0377 dCMP + 0.0377 dGMP + 0.0383 dTMP + 0.093 GMP + 0.1104 mannan + 0.0032...</p>\n",
       "                </td>\n",
       "            </tr><tr>\n",
       "                <td><strong>GPR</strong></td><td></td>\n",
       "            </tr><tr>\n",
       "                <td><strong>Lower bound</strong></td><td>0.0</td>\n",
       "            </tr><tr>\n",
       "                <td><strong>Upper bound</strong></td><td>1000.0</td>\n",
       "            </tr>\n",
       "        </table>\n",
       "        "
      ],
      "text/plain": [
       "<Reaction xBIOMASS at 0x7fc6009fc970>"
      ]
     },
     "execution_count": 24,
     "metadata": {},
     "output_type": "execute_result"
    }
   ],
   "source": [
    "yali.reactions.xBIOMASS"
   ]
  },
  {
   "cell_type": "code",
   "execution_count": 25,
   "id": "24c2fadf",
   "metadata": {},
   "outputs": [
    {
     "data": {
      "text/html": [
       "\n",
       "        <table>\n",
       "            <tr>\n",
       "                <td><strong>Metabolite identifier</strong></td><td>s_0565</td>\n",
       "            </tr><tr>\n",
       "                <td><strong>Name</strong></td><td>D-glucose</td>\n",
       "            </tr><tr>\n",
       "                <td><strong>Memory address</strong></td>\n",
       "                <td>0x07fc600aa73d0</td>\n",
       "            </tr><tr>\n",
       "                <td><strong>Formula</strong></td><td>C6H12O6</td>\n",
       "            </tr><tr>\n",
       "                <td><strong>Compartment</strong></td><td>e</td>\n",
       "            </tr><tr>\n",
       "                <td><strong>In 4 reaction(s)</strong></td><td>\n",
       "                    y000370, y001024, y001166, y001714</td>\n",
       "            </tr>\n",
       "        </table>"
      ],
      "text/plain": [
       "<Metabolite s_0565 at 0x7fc600aa73d0>"
      ]
     },
     "execution_count": 25,
     "metadata": {},
     "output_type": "execute_result"
    }
   ],
   "source": [
    "yali.metabolites.s_0565"
   ]
  },
  {
   "cell_type": "code",
   "execution_count": 26,
   "id": "623fe5cc",
   "metadata": {},
   "outputs": [
    {
     "data": {
      "text/html": [
       "\n",
       "        <table>\n",
       "            <tr>\n",
       "                <td><strong>Reaction identifier</strong></td><td>y001024</td>\n",
       "            </tr><tr>\n",
       "                <td><strong>Name</strong></td><td>sucrose hydrolyzing enxyme</td>\n",
       "            </tr><tr>\n",
       "                <td><strong>Memory address</strong></td>\n",
       "                <td>0x07fc600564ca0</td>\n",
       "            </tr><tr>\n",
       "                <td><strong>Stoichiometry</strong></td>\n",
       "                <td>\n",
       "                    <p style='text-align:right'>s_0805 + s_1466 --> s_0554 + s_0565</p>\n",
       "                    <p style='text-align:right'>H2O + sucrose --> D-fructose + D-glucose</p>\n",
       "                </td>\n",
       "            </tr><tr>\n",
       "                <td><strong>GPR</strong></td><td>YALI0E26719g</td>\n",
       "            </tr><tr>\n",
       "                <td><strong>Lower bound</strong></td><td>0.0</td>\n",
       "            </tr><tr>\n",
       "                <td><strong>Upper bound</strong></td><td>1000.0</td>\n",
       "            </tr>\n",
       "        </table>\n",
       "        "
      ],
      "text/plain": [
       "<Reaction y001024 at 0x7fc600564ca0>"
      ]
     },
     "execution_count": 26,
     "metadata": {},
     "output_type": "execute_result"
    }
   ],
   "source": [
    "yali.reactions.y001024"
   ]
  },
  {
   "cell_type": "code",
   "execution_count": 27,
   "id": "d819ce6e",
   "metadata": {},
   "outputs": [
    {
     "data": {
      "text/html": [
       "\n",
       "        <table>\n",
       "            <tr>\n",
       "                <td><strong>Reaction identifier</strong></td><td>y001714</td>\n",
       "            </tr><tr>\n",
       "                <td><strong>Name</strong></td><td>D-glucose exchange</td>\n",
       "            </tr><tr>\n",
       "                <td><strong>Memory address</strong></td>\n",
       "                <td>0x07fc60034eee0</td>\n",
       "            </tr><tr>\n",
       "                <td><strong>Stoichiometry</strong></td>\n",
       "                <td>\n",
       "                    <p style='text-align:right'>s_0565 <--</p>\n",
       "                    <p style='text-align:right'>D-glucose <--</p>\n",
       "                </td>\n",
       "            </tr><tr>\n",
       "                <td><strong>GPR</strong></td><td></td>\n",
       "            </tr><tr>\n",
       "                <td><strong>Lower bound</strong></td><td>-1.0</td>\n",
       "            </tr><tr>\n",
       "                <td><strong>Upper bound</strong></td><td>-1.0</td>\n",
       "            </tr>\n",
       "        </table>\n",
       "        "
      ],
      "text/plain": [
       "<Reaction y001714 at 0x7fc60034eee0>"
      ]
     },
     "execution_count": 27,
     "metadata": {},
     "output_type": "execute_result"
    }
   ],
   "source": [
    "yali.reactions.y001714"
   ]
  },
  {
   "cell_type": "code",
   "execution_count": 16,
   "id": "fb827b90",
   "metadata": {},
   "outputs": [],
   "source": [
    "yali.reactions.y001714.lower_bound = -10\n",
    "yali.reactions.y001714.upper_bound = 0"
   ]
  },
  {
   "cell_type": "code",
   "execution_count": 17,
   "id": "ae784ac8",
   "metadata": {},
   "outputs": [
    {
     "data": {
      "text/html": [
       "\n",
       "        <table>\n",
       "            <tr>\n",
       "                <td><strong>Reaction identifier</strong></td><td>y001714</td>\n",
       "            </tr><tr>\n",
       "                <td><strong>Name</strong></td><td>D-glucose exchange</td>\n",
       "            </tr><tr>\n",
       "                <td><strong>Memory address</strong></td>\n",
       "                <td>0x02d922aceeb0</td>\n",
       "            </tr><tr>\n",
       "                <td><strong>Stoichiometry</strong></td>\n",
       "                <td>\n",
       "                    <p style='text-align:right'>s_0565 <--</p>\n",
       "                    <p style='text-align:right'>D-glucose <--</p>\n",
       "                </td>\n",
       "            </tr><tr>\n",
       "                <td><strong>GPR</strong></td><td></td>\n",
       "            </tr><tr>\n",
       "                <td><strong>Lower bound</strong></td><td>-10</td>\n",
       "            </tr><tr>\n",
       "                <td><strong>Upper bound</strong></td><td>0</td>\n",
       "            </tr>\n",
       "        </table>\n",
       "        "
      ],
      "text/plain": [
       "<Reaction y001714 at 0x2d922aceeb0>"
      ]
     },
     "execution_count": 17,
     "metadata": {},
     "output_type": "execute_result"
    }
   ],
   "source": [
    "yali.reactions.y001714"
   ]
  },
  {
   "cell_type": "code",
   "execution_count": 44,
   "id": "1594986c",
   "metadata": {},
   "outputs": [
    {
     "data": {
      "text/html": [
       "\n",
       "        <table>\n",
       "            <tr>\n",
       "                <td><strong>Metabolite identifier</strong></td><td>s_0523</td>\n",
       "            </tr><tr>\n",
       "                <td><strong>Name</strong></td><td>citrate</td>\n",
       "            </tr><tr>\n",
       "                <td><strong>Memory address</strong></td>\n",
       "                <td>0x07fc600a13640</td>\n",
       "            </tr><tr>\n",
       "                <td><strong>Formula</strong></td><td>C6H5O7</td>\n",
       "            </tr><tr>\n",
       "                <td><strong>Compartment</strong></td><td>e</td>\n",
       "            </tr><tr>\n",
       "                <td><strong>In 2 reaction(s)</strong></td><td>\n",
       "                    y001687, y001686</td>\n",
       "            </tr>\n",
       "        </table>"
      ],
      "text/plain": [
       "<Metabolite s_0523 at 0x7fc600a13640>"
      ]
     },
     "execution_count": 44,
     "metadata": {},
     "output_type": "execute_result"
    }
   ],
   "source": [
    "yali.metabolites.s_0523"
   ]
  },
  {
   "cell_type": "code",
   "execution_count": 45,
   "id": "304bafb4",
   "metadata": {
    "scrolled": true
   },
   "outputs": [
    {
     "data": {
      "text/html": [
       "\n",
       "        <table>\n",
       "            <tr>\n",
       "                <td><strong>Reaction identifier</strong></td><td>y001687</td>\n",
       "            </tr><tr>\n",
       "                <td><strong>Name</strong></td><td>citrate(3-) exchange</td>\n",
       "            </tr><tr>\n",
       "                <td><strong>Memory address</strong></td>\n",
       "                <td>0x07fc60033f520</td>\n",
       "            </tr><tr>\n",
       "                <td><strong>Stoichiometry</strong></td>\n",
       "                <td>\n",
       "                    <p style='text-align:right'>s_0523 --></p>\n",
       "                    <p style='text-align:right'>citrate --></p>\n",
       "                </td>\n",
       "            </tr><tr>\n",
       "                <td><strong>GPR</strong></td><td></td>\n",
       "            </tr><tr>\n",
       "                <td><strong>Lower bound</strong></td><td>0.0</td>\n",
       "            </tr><tr>\n",
       "                <td><strong>Upper bound</strong></td><td>1000.0</td>\n",
       "            </tr>\n",
       "        </table>\n",
       "        "
      ],
      "text/plain": [
       "<Reaction y001687 at 0x7fc60033f520>"
      ]
     },
     "execution_count": 45,
     "metadata": {},
     "output_type": "execute_result"
    }
   ],
   "source": [
    "yali.reactions.y001687"
   ]
  },
  {
   "cell_type": "code",
   "execution_count": 7,
   "id": "2e7974f9",
   "metadata": {},
   "outputs": [],
   "source": [
    "def add_dynamic_bounds(yali, y):\n",
    "    \"\"\"Use external concentrations to bound the uptake flux of glucose.\"\"\"\n",
    "    biomass, glucose, citrate = y  # expand the boundary species\n",
    "    #glucose_max_import = -10 * glucose / (5 + glucose)\n",
    "    #yali.reactions.y001714.lower_bound = glucose_max_import\n",
    "    #yali.reactions.y001687.lower_bound =  5 *citrate / (2 + citrate)\n",
    "\n",
    "def dynamic_system(t, y):\n",
    "    \"\"\"Calculate the time derivative of external species.\"\"\"\n",
    "\n",
    "    biomass, glucose, citrate = y  # expand the boundary species\n",
    "\n",
    "    # Calculate the specific exchanges fluxes at the given external concentrations.\n",
    "    with yali:\n",
    "        add_dynamic_bounds(yali, y)\n",
    "\n",
    "        cobra.util.add_lp_feasibility(yali)\n",
    "        feasibility = cobra.util.fix_objective_as_constraint(yali)\n",
    "        lex_constraints = cobra.util.add_lexicographic_constraints(\n",
    "            yali, ['xBIOMASS', 'y001714',  'y001687'], ['max', 'max','max'])\n",
    "\n",
    "    # Since the calculated fluxes are specific rates, we multiply them by the\n",
    "    # biomass concentration to get the bulk exchange rates.\n",
    "    fluxes = lex_constraints.values\n",
    "    fluxes *= biomass\n",
    "\n",
    "    # This implementation is **not** efficient, so I display the current\n",
    "    # simulation time using a progress bar.\n",
    "    if dynamic_system.pbar is not None:\n",
    "        dynamic_system.pbar.update(1)\n",
    "        dynamic_system.pbar.set_description('t = {:.3f}'.format(t))\n",
    "\n",
    "    return fluxes\n",
    "\n",
    "dynamic_system.pbar = None\n",
    "\n",
    "\n",
    "def infeasible_event(t, y):\n",
    "    \"\"\"\n",
    "    Determine solution feasibility.\n",
    "\n",
    "    Avoiding infeasible solutions is handled by solve_ivp's built-in event detection.\n",
    "    This function re-solves the LP to determine whether or not the solution is feasible\n",
    "    (and if not, how far it is from feasibility). When the sign of this function changes\n",
    "    from -epsilon to positive, we know the solution is no longer feasible.\n",
    "\n",
    "    \"\"\"\n",
    "\n",
    "    with yali:\n",
    "\n",
    "        add_dynamic_bounds(yali, y)\n",
    "\n",
    "        cobra.util.add_lp_feasibility(yali)\n",
    "        feasibility = cobra.util.fix_objective_as_constraint(yali)\n",
    "\n",
    "    return feasibility - infeasible_event.epsilon\n",
    "\n",
    "infeasible_event.epsilon = 1E-6\n",
    "infeasible_event.direction = 1\n",
    "infeasible_event.terminal = True"
   ]
  },
  {
   "cell_type": "code",
   "execution_count": 8,
   "id": "9a5620bb",
   "metadata": {},
   "outputs": [
    {
     "name": "stderr",
     "output_type": "stream",
     "text": [
      "t = 10.000: : 52it [05:47,  6.69s/it]\n"
     ]
    }
   ],
   "source": [
    "ts = np.linspace(0, 10, 5)  # Desired integration resolution and interval\n",
    "y0 = [0.1, 10, 0]\n",
    "\n",
    "with tqdm() as pbar:\n",
    "    dynamic_system.pbar = pbar\n",
    "\n",
    "    sol = solve_ivp(\n",
    "        fun=dynamic_system,\n",
    "        events=[infeasible_event],\n",
    "        t_span=(ts.min(), ts.max()),\n",
    "        y0=y0,\n",
    "        t_eval=ts,\n",
    "        rtol=1e-6,\n",
    "        atol=1e-8,\n",
    "        method='BDF'\n",
    "    )"
   ]
  },
  {
   "cell_type": "code",
   "execution_count": 9,
   "id": "b06f1fee",
   "metadata": {},
   "outputs": [
    {
     "data": {
      "text/plain": [
       "  message: 'The solver successfully reached the end of the integration interval.'\n",
       "     nfev: 46\n",
       "     njev: 1\n",
       "      nlu: 8\n",
       "      sol: None\n",
       "   status: 0\n",
       "  success: True\n",
       "        t: array([ 0. ,  2.5,  5. ,  7.5, 10. ])\n",
       " t_events: [array([], dtype=float64)]\n",
       "        y: array([[ 0.1       ,  0.13024296,  0.16963221,  0.22093387,  0.2877507 ],\n",
       "       [10.        ,  9.71385665,  9.34117578,  8.85578588,  8.22359941],\n",
       "       [ 0.        ,  0.        ,  0.        ,  0.        ,  0.        ]])\n",
       " y_events: [array([], dtype=float64)]"
      ]
     },
     "execution_count": 9,
     "metadata": {},
     "output_type": "execute_result"
    }
   ],
   "source": [
    "sol"
   ]
  },
  {
   "cell_type": "code",
   "execution_count": 10,
   "id": "4c2f1e23",
   "metadata": {},
   "outputs": [
    {
     "data": {
      "text/plain": [
       "Text(0, 0.5, 'Citrato1')"
      ]
     },
     "execution_count": 10,
     "metadata": {},
     "output_type": "execute_result"
    },
    {
     "data": {
      "image/png": "[encoded data removed]",
      "text/plain": [
       "<Figure size 432x288 with 3 Axes>"
      ]
     },
     "metadata": {
      "needs_background": "light"
     },
     "output_type": "display_data"
    }
   ],
   "source": [
    "fig, ax1 = plt.subplots()\n",
    "\n",
    "ax1.plot(sol.t, sol.y.T[:, 0], color='r', marker='+', markersize=5)\n",
    "ax2 = plt.twinx(ax1)\n",
    "ax2.plot(sol.t, sol.y.T[:, 1], color='b', marker='x', markersize=5)\n",
    "\n",
    "ax3 = ax1.twinx()\n",
    "ax3.plot(sol.t, sol.y.T[:, 2],color=\"green\")\n",
    "ax3.spines['right'].set_position(('outward',60))\n",
    "\n",
    "#ax4 = ax1.twinx()\n",
    "#ax4.plot(sol.t, sol.y.T[:, 3],color=\"yellow\")\n",
    "#ax4.spines['right'].set_position(('outward',120))\n",
    "\n",
    "plt.grid(axis = 'both', color = 'green', linestyle = '--', linewidth = 0.5)\n",
    "\n",
    "ax1.set_ylabel('Biomass', color='r')\n",
    "ax2.set_ylabel('Glucose', color='b')\n",
    "ax3.set_ylabel('Citrato1', color='g')\n",
    "#ax4.set_ylabel('Citrato2', color='y')"
   ]
  },
  {
   "cell_type": "code",
   "execution_count": 11,
   "id": "fb553857",
   "metadata": {},
   "outputs": [],
   "source": [
    "import numpy as np\n",
    "import matplotlib.pyplot as plt\n",
    "import seaborn as sns\n",
    "import pandas as pd"
   ]
  },
  {
   "cell_type": "code",
   "execution_count": 14,
   "id": "c097a73c",
   "metadata": {},
   "outputs": [],
   "source": [
    "def heatmap_flux(minimal_flux=0.05,save=False,**kwargs):\n",
    "    #\"\"\"\n",
    "    #Fonction qui plot un heat map en utilisant Seaborn\n",
    "    #la fonction prend n'importe quel nombre d'objet solutions produit par run_model_calpainopathie() ou define_boundary_and_run_model()\n",
    "    #\"\"\"\n",
    "    list_df=list()\n",
    "    for solution in kwargs[\"solutions\"] :\n",
    "        series=solution.fluxes[solution.fluxes!=0] #remove 0 values\n",
    "        df=series.to_frame()\n",
    "        df[\"name\"]=df.index\n",
    "        df = df.drop(df[df.fluxes < minimal_flux].index) #enlève les flux avec une valeur inférieur a minimal_flux\n",
    "        list_df.append(df)\n",
    "    #Quadraboucle qui s'assure que chaque DF contient les mêmes labels (que toutes les réactions soient présente dans chaque DF)\n",
    "    #si ce n'est pas le cas rajoute une ligne avec pour valeur 0 dans les dataframe qui n'ont pas le label (Nom de réaction)\n",
    "    for df in list_df :\n",
    "        for i in df.index :\n",
    "            for df2 in list_df :\n",
    "                if i not in df2.index :\n",
    "                    df2.loc[i]=[0,i]\n",
    "    # combine tous les DF dans un seul DF nommé results\n",
    "    results=pd.DataFrame()\n",
    "    compteur=0\n",
    "    for name in kwargs[\"name_columns\"] :\n",
    "        results[name]=list_df[compteur][\"fluxes\"]\n",
    "        compteur+=1\n",
    "\n",
    "    #plot \n",
    "    fig, ax = plt.subplots(figsize=(20,50))\n",
    "    ax=sns.heatmap(results)\n",
    "    #savefig\n",
    "    if save==True :\n",
    "        fig = ax.get_figure()\n",
    "        fig.savefig(kwargs[\"name_plot\"]) \n",
    "    return results"
   ]
  },
  {
   "cell_type": "code",
   "execution_count": 15,
   "id": "e7d60cd3",
   "metadata": {},
   "outputs": [
    {
     "ename": "KeyError",
     "evalue": "'sol'",
     "output_type": "error",
     "traceback": [
      "\u001b[1;31m---------------------------------------------------------------------------\u001b[0m",
      "\u001b[1;31mKeyError\u001b[0m                                  Traceback (most recent call last)",
      "Input \u001b[1;32mIn [15]\u001b[0m, in \u001b[0;36m<cell line: 1>\u001b[1;34m()\u001b[0m\n\u001b[1;32m----> 1\u001b[0m \u001b[43mheatmap_flux\u001b[49m\u001b[43m(\u001b[49m\u001b[43m)\u001b[49m\n",
      "Input \u001b[1;32mIn [14]\u001b[0m, in \u001b[0;36mheatmap_flux\u001b[1;34m(minimal_flux, save, **kwargs)\u001b[0m\n\u001b[0;32m      1\u001b[0m \u001b[38;5;28;01mdef\u001b[39;00m \u001b[38;5;21mheatmap_flux\u001b[39m(minimal_flux\u001b[38;5;241m=\u001b[39m\u001b[38;5;241m0.05\u001b[39m,save\u001b[38;5;241m=\u001b[39m\u001b[38;5;28;01mFalse\u001b[39;00m,\u001b[38;5;241m*\u001b[39m\u001b[38;5;241m*\u001b[39mkwargs):\n\u001b[0;32m      2\u001b[0m     \u001b[38;5;66;03m#\"\"\"\u001b[39;00m\n\u001b[0;32m      3\u001b[0m     \u001b[38;5;66;03m#Fonction qui plot un heat map en utilisant Seaborn\u001b[39;00m\n\u001b[0;32m      4\u001b[0m     \u001b[38;5;66;03m#la fonction prend n'importe quel nombre d'objet solutions produit par run_model_calpainopathie() ou define_boundary_and_run_model()\u001b[39;00m\n\u001b[0;32m      5\u001b[0m     \u001b[38;5;66;03m#\"\"\"\u001b[39;00m\n\u001b[0;32m      6\u001b[0m     list_df\u001b[38;5;241m=\u001b[39m\u001b[38;5;28mlist\u001b[39m()\n\u001b[1;32m----> 7\u001b[0m     \u001b[38;5;28;01mfor\u001b[39;00m solution \u001b[38;5;129;01min\u001b[39;00m \u001b[43mkwargs\u001b[49m\u001b[43m[\u001b[49m\u001b[38;5;124;43m\"\u001b[39;49m\u001b[38;5;124;43msol\u001b[39;49m\u001b[38;5;124;43m\"\u001b[39;49m\u001b[43m]\u001b[49m :\n\u001b[0;32m      8\u001b[0m         series\u001b[38;5;241m=\u001b[39msolution\u001b[38;5;241m.\u001b[39mfluxes[solution\u001b[38;5;241m.\u001b[39mfluxes\u001b[38;5;241m!=\u001b[39m\u001b[38;5;241m0\u001b[39m] \u001b[38;5;66;03m#remove 0 values\u001b[39;00m\n\u001b[0;32m      9\u001b[0m         df\u001b[38;5;241m=\u001b[39mseries\u001b[38;5;241m.\u001b[39mto_frame()\n",
      "\u001b[1;31mKeyError\u001b[0m: 'sol'"
     ]
    }
   ],
   "source": [
    "heatmap_flux()"
   ]
  },
  {
   "cell_type": "code",
   "execution_count": null,
   "id": "118ab238",
   "metadata": {},
   "outputs": [],
   "source": []
  }
 ],
 "metadata": {
  "kernelspec": {
   "display_name": "Python 3 (ipykernel)",
   "language": "python",
   "name": "python3"
  },
  "language_info": {
   "codemirror_mode": {
    "name": "ipython",
    "version": 3
   },
   "file_extension": ".py",
   "mimetype": "text/x-python",
   "name": "python",
   "nbconvert_exporter": "python",
   "pygments_lexer": "ipython3",
   "version": "3.8.12"
  }
 },
 "nbformat": 4,
 "nbformat_minor": 5
}
