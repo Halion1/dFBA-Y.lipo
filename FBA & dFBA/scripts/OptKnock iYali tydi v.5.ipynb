{
 "cells": [
  {
   "cell_type": "code",
   "execution_count": 1,
   "id": "22a034c6",
   "metadata": {},
   "outputs": [],
   "source": [
    "#Importing packages\n",
    "import cobra\n",
    "import cplex\n",
    "from cobra import Model, Reaction, Metabolite\n",
    "from cobra.io import read_sbml_model\n",
    "import pandas as pd"
   ]
  },
  {
   "cell_type": "code",
   "execution_count": 2,
   "id": "9e6532b7",
   "metadata": {},
   "outputs": [],
   "source": [
    "#Importing model iYali\n",
    "yali = cobra.io.read_sbml_model('iYali-tidy v.5.xml')"
   ]
  },
  {
   "cell_type": "code",
   "execution_count": 3,
   "id": "aca537d8",
   "metadata": {},
   "outputs": [],
   "source": [
    "threshold = 3;"
   ]
  },
  {
   "cell_type": "code",
   "execution_count": 4,
   "id": "4099d54f",
   "metadata": {},
   "outputs": [
    {
     "data": {
      "text/plain": [
       "{'y001654': 1000.0,\n",
       " 'y001714': 1.0,\n",
       " 'y001832': 1000.0,\n",
       " 'y001861': 1000.0,\n",
       " 'y001992': 1000.0,\n",
       " 'y002005': 1000.0,\n",
       " 'y002020': 1000.0,\n",
       " 'y002049': 1000.0,\n",
       " 'y002060': 1000.0,\n",
       " 'y002100': 1000.0}"
      ]
     },
     "execution_count": 4,
     "metadata": {},
     "output_type": "execute_result"
    }
   ],
   "source": [
    "yali.medium"
   ]
  },
  {
   "cell_type": "code",
   "execution_count": 5,
   "id": "211a91df",
   "metadata": {},
   "outputs": [
    {
     "data": {
      "text/html": [
       "\n",
       "        <table>\n",
       "            <tr>\n",
       "                <td><strong>Reaction identifier</strong></td><td>y002060</td>\n",
       "            </tr><tr>\n",
       "                <td><strong>Name</strong></td><td>sulphate exchange</td>\n",
       "            </tr><tr>\n",
       "                <td><strong>Memory address</strong></td>\n",
       "                <td>0x01ea9ce48040</td>\n",
       "            </tr><tr>\n",
       "                <td><strong>Stoichiometry</strong></td>\n",
       "                <td>\n",
       "                    <p style='text-align:right'>s_1468 <=></p>\n",
       "                    <p style='text-align:right'>sulphate <=></p>\n",
       "                </td>\n",
       "            </tr><tr>\n",
       "                <td><strong>GPR</strong></td><td></td>\n",
       "            </tr><tr>\n",
       "                <td><strong>Lower bound</strong></td><td>-1000.0</td>\n",
       "            </tr><tr>\n",
       "                <td><strong>Upper bound</strong></td><td>1000.0</td>\n",
       "            </tr>\n",
       "        </table>\n",
       "        "
      ],
      "text/plain": [
       "<Reaction y002060 at 0x1ea9ce48040>"
      ]
     },
     "execution_count": 5,
     "metadata": {},
     "output_type": "execute_result"
    }
   ],
   "source": [
    "yali.reactions.y002060"
   ]
  },
  {
   "cell_type": "code",
   "execution_count": 6,
   "id": "55d4fc21",
   "metadata": {},
   "outputs": [],
   "source": [
    "biomass = 'xBIOMASS'"
   ]
  },
  {
   "cell_type": "code",
   "execution_count": 9,
   "id": "1cdd511b",
   "metadata": {},
   "outputs": [],
   "source": [
    "selectedRxnList = ['y300083', 'y300084', 'y300085', 'y300086', 'y300087', 'y300088', 'y300089', 'y300090', 'y300091', 'y300092', 'y300093', 'y300094' 'y300095', 'y300096', 'y300097', 'y300098', 'y300100', 'y300101', 'y300102', 'y300103', 'y300104','y300105', 'y300106', 'y300107', 'y300108','y000028', 'y002229', 'y000252', 'y001674', 'y001191', 'y001673', 'y001882', 'y001120', 'y300094', 'y300095', 'y300096']"
   ]
  },
  {
   "cell_type": "code",
   "execution_count": 10,
   "id": "4a776bb3",
   "metadata": {},
   "outputs": [
    {
     "data": {
      "text/plain": [
       "-10.0"
      ]
     },
     "execution_count": 10,
     "metadata": {},
     "output_type": "execute_result"
    }
   ],
   "source": [
    "yali.reactions.y001714.lower_bound = -10.0\n",
    "yali.reactions.y001714.lower_bound"
   ]
  },
  {
   "cell_type": "code",
   "execution_count": 27,
   "id": "e27ffe2f",
   "metadata": {},
   "outputs": [
    {
     "ename": "NameError",
     "evalue": "name 'struct' is not defined",
     "output_type": "error",
     "traceback": [
      "\u001b[1;31m---------------------------------------------------------------------------\u001b[0m",
      "\u001b[1;31mNameError\u001b[0m                                 Traceback (most recent call last)",
      "Input \u001b[1;32mIn [27]\u001b[0m, in \u001b[0;36m<cell line: 5>\u001b[1;34m()\u001b[0m\n\u001b[0;32m      1\u001b[0m \u001b[38;5;66;03m# *Aim:* *finding optKnock reactions sets of size 2 for increasing production \u001b[39;00m\n\u001b[0;32m      2\u001b[0m \u001b[38;5;66;03m# of succinate\u001b[39;00m\n\u001b[0;32m      3\u001b[0m \u001b[38;5;66;03m# Set optKnock options\u001b[39;00m\n\u001b[0;32m      4\u001b[0m \u001b[38;5;66;03m# The exchange of succinate will be the objective of the outer problem\u001b[39;00m\n\u001b[1;32m----> 5\u001b[0m options \u001b[38;5;241m=\u001b[39m \u001b[43mstruct\u001b[49m(\u001b[38;5;124m'\u001b[39m\u001b[38;5;124my300099\u001b[39m\u001b[38;5;124m'\u001b[39m, \u001b[38;5;124m'\u001b[39m\u001b[38;5;124mxBIOMASS\u001b[39m\u001b[38;5;124m'\u001b[39m, \u001b[38;5;124m'\u001b[39m\u001b[38;5;124mnumDel\u001b[39m\u001b[38;5;124m'\u001b[39m, \u001b[38;5;241m2\u001b[39m)\n\u001b[0;32m      6\u001b[0m \u001b[38;5;66;03m# We will impose that biomass be at least 50% of the biomass of wild-type\u001b[39;00m\n\u001b[0;32m      7\u001b[0m constrOpt \u001b[38;5;241m=\u001b[39m struct(\u001b[38;5;124m'\u001b[39m\u001b[38;5;124mrxnList\u001b[39m\u001b[38;5;124m'\u001b[39m, {{xBIOMASS}},\u001b[38;5;124m'\u001b[39m\u001b[38;5;124mvalues\u001b[39m\u001b[38;5;124m'\u001b[39m, \u001b[38;5;241m0.5\u001b[39m\u001b[38;5;241m*\u001b[39mfbaWT\u001b[38;5;241m.\u001b[39mf, \u001b[38;5;124m'\u001b[39m\u001b[38;5;124msense\u001b[39m\u001b[38;5;124m'\u001b[39m, \u001b[38;5;124m'\u001b[39m\u001b[38;5;124mG\u001b[39m\u001b[38;5;124m'\u001b[39m)\n",
      "\u001b[1;31mNameError\u001b[0m: name 'struct' is not defined"
     ]
    }
   ],
   "source": [
    "# *Aim:* *finding optKnock reactions sets of size 2 for increasing production \n",
    "# of succinate\n",
    "# Set optKnock options\n",
    "# The exchange of succinate will be the objective of the outer problem\n",
    "options = struct('y300099', 'xBIOMASS', 'numDel', 2)\n",
    "# We will impose that biomass be at least 50% of the biomass of wild-type\n",
    "constrOpt = struct('rxnList', {{xBIOMASS}},'values', 0.5*fbaWT.f, 'sense', 'G')\n",
    "# We will try to find 10 optKnock sets of a maximun length of 2\n",
    "previousSolutions = cell(10, 1)\n",
    "contPreviousSolutions = 1\n",
    "nIter = 1\n",
    "while nIter < threshold:\n",
    "    fprintf('...Performing optKnock analysis...\\n')\n",
    "    if isempty(previousSolutions[1]):\n",
    "        optKnockSol = OptKnock(yali, selectedRxnList, options, constrOpt)\n",
    "    else:\n",
    "        optKnockSol = OptKnock(yali, selectedRxnList, options, constrOpt, previousSolutions, 1)\n",
    "    \n",
    "    # determine succinate production and growth rate after optimization\n",
    "    MargFluxM1 = optKnockSol.fluxes(strcmp(yali.rxns, 'y300099'))\n",
    "    growthRateM1 = optKnockSol.fluxes(strcmp(yali.rxns, biomass))\n",
    "    setM1 = optKnockSol.rxnList\n",
    "    \n",
    "    \n",
    "    if ~isempty(setM1):\n",
    "        previousSolutions[contPreviousSolutions] = setM1\n",
    "        contPreviousSolutions = contPreviousSolutions + 1\n",
    "        #printing results\n",
    "        fprintf('optKnock found a optKnock set of large %d composed by ', length(setM1))\n",
    "        a = length(setM1)\n",
    "        for j in range (a):\n",
    "            if j == 1:\n",
    "                fprintf('%s', setM1[j])\n",
    "            elif j == length(setM1):\n",
    "                fprintf(' and %s', setM1[j])\n",
    "            else:\n",
    "                fprintf(', %s', setM1[j])\n",
    "\n",
    "        fprintf('\\n')\n",
    "        fprintf('The production of succinate after optimization is %.2f \\n', y300099)\n",
    "        fprintf('The growth rate after optimization is %.2f \\n', growthRateM1)\n",
    "        fprintf('...Performing coupling analysis...\\n')\n",
    "        [type, maxGrowth, maxProd, minProd] = analyzeOptKnock(model, setM1, 'y300099')\n",
    "        fprintf('The solution is of type: %s\\n', type)\n",
    "        fprintf('The maximun growth rate given the optKnock set is %.2f\\n', maxGrowth)\n",
    "        fprintf(['The maximun and minimun production of succinate given the optKnock set is %.2f and %.2f, respectively \\n\\n'], minProd, maxProd)\n",
    "        if strcmp(type, 'growth coupled'):\n",
    "            singleProductionEnvelope(model, setM1, 'EX_succ_e', biomass, 'savePlot', 1, 'showPlot', 1, 'fileName', ['y300099', num2str(nIter)], 'outputFolder', 'OptKnockResults')\n",
    "    else:\n",
    "        if nIter == 1:\n",
    "            fprintf('optKnock was not able to found an optKnock set\\n')\n",
    "        else:\n",
    "            fprintf('optKnock was not able to found additional optKnock sets\\n')\n",
    "        break\n",
    "    nIter = nIter + 1"
   ]
  },
  {
   "cell_type": "code",
   "execution_count": null,
   "id": "e2b2a266",
   "metadata": {},
   "outputs": [],
   "source": []
  }
 ],
 "metadata": {
  "kernelspec": {
   "display_name": "Python 3 (ipykernel)",
   "language": "python",
   "name": "python3"
  },
  "language_info": {
   "codemirror_mode": {
    "name": "ipython",
    "version": 3
   },
   "file_extension": ".py",
   "mimetype": "text/x-python",
   "name": "python",
   "nbconvert_exporter": "python",
   "pygments_lexer": "ipython3",
   "version": "3.8.12"
  }
 },
 "nbformat": 4,
 "nbformat_minor": 5
}
