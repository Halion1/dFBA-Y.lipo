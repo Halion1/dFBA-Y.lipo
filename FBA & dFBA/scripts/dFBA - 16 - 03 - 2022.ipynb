{
 "cells": [
  {
   "cell_type": "code",
   "execution_count": 7,
   "id": "90917321",
   "metadata": {},
   "outputs": [
    {
     "name": "stdout",
     "output_type": "stream",
     "text": [
      "Requirement already satisfied: pip in c:\\users\\rodri\\anaconda3\\lib\\site-packages (21.2.4)Note: you may need to restart the kernel to use updated packages.\n",
      "\n",
      "Collecting pip\n",
      "  Downloading pip-22.0.4-py3-none-any.whl (2.1 MB)\n",
      "Installing collected packages: pip\n",
      "  Attempting uninstall: pip\n",
      "    Found existing installation: pip 21.2.4\n",
      "    Uninstalling pip-21.2.4:\n",
      "      Successfully uninstalled pip-21.2.4\n",
      "Successfully installed pip-22.0.4\n"
     ]
    }
   ],
   "source": [
    "pip install --upgrade pip"
   ]
  },
  {
   "cell_type": "code",
   "execution_count": null,
   "id": "a7b28023",
   "metadata": {},
   "outputs": [],
   "source": [
    "pip install tqdm"
   ]
  },
  {
   "cell_type": "code",
   "execution_count": 5,
   "id": "ff2c997a",
   "metadata": {},
   "outputs": [
    {
     "name": "stdout",
     "output_type": "stream",
     "text": [
      "Collecting scipy\n",
      "  Downloading scipy-1.8.0-cp38-cp38-win_amd64.whl (36.9 MB)\n",
      "Requirement already satisfied: numpy<1.25.0,>=1.17.3 in c:\\users\\rodri\\anaconda3\\envs\\iyalinew\\lib\\site-packages (from scipy) (1.22.2)\n",
      "Installing collected packages: scipy\n",
      "Successfully installed scipy-1.8.0\n",
      "Note: you may need to restart the kernel to use updated packages.\n"
     ]
    }
   ],
   "source": [
    "pip install scipy"
   ]
  },
  {
   "cell_type": "code",
   "execution_count": 5,
   "id": "4e756d8b",
   "metadata": {},
   "outputs": [
    {
     "name": "stdout",
     "output_type": "stream",
     "text": [
      "Collecting matplotlib\n",
      "  Downloading matplotlib-3.5.1-cp38-cp38-win_amd64.whl (7.2 MB)\n",
      "Requirement already satisfied: pyparsing>=2.2.1 in c:\\users\\rodri\\anaconda3\\envs\\iyalinew\\lib\\site-packages (from matplotlib) (3.0.7)\n",
      "Requirement already satisfied: numpy>=1.17 in c:\\users\\rodri\\anaconda3\\envs\\iyalinew\\lib\\site-packages (from matplotlib) (1.22.2)\n",
      "Collecting fonttools>=4.22.0\n",
      "  Downloading fonttools-4.31.2-py3-none-any.whl (899 kB)\n",
      "Collecting kiwisolver>=1.0.1\n",
      "  Downloading kiwisolver-1.4.2-cp38-cp38-win_amd64.whl (55 kB)\n",
      "Collecting cycler>=0.10\n",
      "  Downloading cycler-0.11.0-py3-none-any.whl (6.4 kB)\n",
      "Collecting pillow>=6.2.0\n",
      "  Downloading Pillow-9.0.1-cp38-cp38-win_amd64.whl (3.2 MB)\n",
      "Requirement already satisfied: packaging>=20.0 in c:\\users\\rodri\\anaconda3\\envs\\iyalinew\\lib\\site-packages (from matplotlib) (21.3)\n",
      "Requirement already satisfied: python-dateutil>=2.7 in c:\\users\\rodri\\anaconda3\\envs\\iyalinew\\lib\\site-packages (from matplotlib) (2.8.2)\n",
      "Requirement already satisfied: six>=1.5 in c:\\users\\rodri\\anaconda3\\envs\\iyalinew\\lib\\site-packages (from python-dateutil>=2.7->matplotlib) (1.16.0)\n",
      "Installing collected packages: pillow, kiwisolver, fonttools, cycler, matplotlib\n",
      "Successfully installed cycler-0.11.0 fonttools-4.31.2 kiwisolver-1.4.2 matplotlib-3.5.1 pillow-9.0.1\n",
      "Note: you may need to restart the kernel to use updated packages.\n"
     ]
    }
   ],
   "source": [
    "pip install matplotlib"
   ]
  },
  {
   "cell_type": "code",
   "execution_count": 2,
   "id": "704e9947",
   "metadata": {},
   "outputs": [
    {
     "name": "stdout",
     "output_type": "stream",
     "text": [
      "Requirement already satisfied: cmake in c:\\users\\rodri\\anaconda3\\envs\\iyalinew\\lib\\site-packages (3.22.3)\n",
      "Note: you may need to restart the kernel to use updated packages.\n"
     ]
    }
   ],
   "source": [
    "pip install cmake"
   ]
  },
  {
   "cell_type": "code",
   "execution_count": 1,
   "id": "de16062a",
   "metadata": {},
   "outputs": [
    {
     "name": "stdout",
     "output_type": "stream",
     "text": [
      "Requirement already satisfied: pip in c:\\users\\rodri\\anaconda3\\envs\\iyalinew\\lib\\site-packages (22.0.4)\n",
      "Requirement already satisfied: setuptools in c:\\users\\rodri\\anaconda3\\envs\\iyalinew\\lib\\site-packages (61.3.0)\n",
      "Collecting setuptools\n",
      "  Using cached setuptools-61.3.1-py3-none-any.whl (1.1 MB)\n",
      "Requirement already satisfied: wheel in c:\\users\\rodri\\anaconda3\\envs\\iyalinew\\lib\\site-packages (0.37.1)\n",
      "Installing collected packages: setuptools\n",
      "  Attempting uninstall: setuptools\n",
      "    Found existing installation: setuptools 61.3.0\n",
      "    Uninstalling setuptools-61.3.0:\n",
      "      Successfully uninstalled setuptools-61.3.0\n",
      "Successfully installed setuptools-61.3.1\n",
      "Note: you may need to restart the kernel to use updated packages.\n"
     ]
    }
   ],
   "source": [
    "pip install --upgrade pip setuptools wheel"
   ]
  },
  {
   "cell_type": "code",
   "execution_count": 3,
   "id": "679ee588",
   "metadata": {},
   "outputs": [
    {
     "name": "stdout",
     "output_type": "stream",
     "text": [
      "Collecting p5py\n",
      "  Downloading p5py-1.0.0.tar.gz (2.9 kB)\n",
      "Building wheels for collected packages: p5py\n",
      "  Building wheel for p5py (setup.py): started\n",
      "  Building wheel for p5py (setup.py): finished with status 'done'\n",
      "  Created wheel for p5py: filename=p5py-1.0.0-py2.py3-none-any.whl size=2333 sha256=512367156bdf17c198f9055c8bc15027d497801caa985793a09401b181a4dab6\n",
      "  Stored in directory: c:\\users\\rodri\\appdata\\local\\pip\\cache\\wheels\\1d\\6f\\e2\\0fc1123d5f1d7952ec77746cee5839cff0fd3d17ea0095cc96\n",
      "Successfully built p5py\n",
      "Installing collected packages: p5py\n",
      "Successfully installed p5py-1.0.0\n",
      "Note: you may need to restart the kernel to use updated packages.\n"
     ]
    }
   ],
   "source": [
    "pip install p5py"
   ]
  },
  {
   "cell_type": "code",
   "execution_count": 1,
   "id": "c5445da0",
   "metadata": {},
   "outputs": [
    {
     "name": "stdout",
     "output_type": "stream",
     "text": [
      "Collecting PEP517\n",
      "  Downloading pep517-0.12.0-py2.py3-none-any.whl (19 kB)\n",
      "Requirement already satisfied: tomli>=1.1.0 in c:\\users\\rodri\\anaconda3\\envs\\iyalinew\\lib\\site-packages (from PEP517) (2.0.1)\n",
      "Installing collected packages: PEP517\n",
      "Successfully installed PEP517-0.12.0\n",
      "Note: you may need to restart the kernel to use updated packages.\n"
     ]
    }
   ],
   "source": [
    "pip install PEP517"
   ]
  },
  {
   "cell_type": "code",
   "execution_count": 2,
   "id": "688e7656",
   "metadata": {},
   "outputs": [
    {
     "name": "stdout",
     "output_type": "stream",
     "text": [
      "Collecting dfba\n",
      "  Using cached dfba-0.1.8.tar.gz (63 kB)\n",
      "  Installing build dependencies: started\n",
      "  Installing build dependencies: finished with status 'done'\n",
      "  Getting requirements to build wheel: started\n",
      "  Getting requirements to build wheel: finished with status 'done'\n",
      "    Preparing wheel metadata: started\n",
      "    Preparing wheel metadata: finished with status 'done'\n",
      "Requirement already satisfied: pandas in c:\\users\\rodri\\anaconda3\\envs\\iyalinew\\lib\\site-packages (from dfba) (1.4.1)\n",
      "Requirement already satisfied: cobra in c:\\users\\rodri\\anaconda3\\envs\\iyalinew\\lib\\site-packages (from dfba) (0.24.0)\n",
      "Requirement already satisfied: depinfo in c:\\users\\rodri\\anaconda3\\envs\\iyalinew\\lib\\site-packages (from dfba) (1.7.0)\n",
      "Collecting symengine\n",
      "  Using cached symengine-0.9.2-cp38-cp38-win_amd64.whl (14.4 MB)\n",
      "Requirement already satisfied: optlang in c:\\users\\rodri\\anaconda3\\envs\\iyalinew\\lib\\site-packages (from dfba) (1.5.2)\n",
      "Requirement already satisfied: sympy in c:\\users\\rodri\\anaconda3\\envs\\iyalinew\\lib\\site-packages (from dfba) (1.9)\n",
      "Requirement already satisfied: ruamel.yaml~=0.16 in c:\\users\\rodri\\anaconda3\\envs\\iyalinew\\lib\\site-packages (from cobra->dfba) (0.17.21)\n",
      "Requirement already satisfied: httpx~=0.14 in c:\\users\\rodri\\anaconda3\\envs\\iyalinew\\lib\\site-packages (from cobra->dfba) (0.22.0)\n",
      "Requirement already satisfied: python-libsbml==5.19.2 in c:\\users\\rodri\\anaconda3\\envs\\iyalinew\\lib\\site-packages (from cobra->dfba) (5.19.2)\n",
      "Requirement already satisfied: swiglpk in c:\\users\\rodri\\anaconda3\\envs\\iyalinew\\lib\\site-packages (from cobra->dfba) (5.0.4)\n",
      "Requirement already satisfied: diskcache~=5.0 in c:\\users\\rodri\\anaconda3\\envs\\iyalinew\\lib\\site-packages (from cobra->dfba) (5.4.0)\n",
      "Requirement already satisfied: pydantic~=1.6 in c:\\users\\rodri\\anaconda3\\envs\\iyalinew\\lib\\site-packages (from cobra->dfba) (1.9.0)\n",
      "Requirement already satisfied: rich>=8.0 in c:\\users\\rodri\\anaconda3\\envs\\iyalinew\\lib\\site-packages (from cobra->dfba) (11.2.0)\n",
      "Requirement already satisfied: numpy~=1.13 in c:\\users\\rodri\\anaconda3\\envs\\iyalinew\\lib\\site-packages (from cobra->dfba) (1.22.2)\n",
      "Requirement already satisfied: appdirs~=1.4 in c:\\users\\rodri\\anaconda3\\envs\\iyalinew\\lib\\site-packages (from cobra->dfba) (1.4.4)\n",
      "Requirement already satisfied: importlib-resources in c:\\users\\rodri\\anaconda3\\envs\\iyalinew\\lib\\site-packages (from cobra->dfba) (5.4.0)\n",
      "Requirement already satisfied: future in c:\\users\\rodri\\anaconda3\\envs\\iyalinew\\lib\\site-packages (from cobra->dfba) (0.18.2)\n",
      "Requirement already satisfied: rfc3986[idna2008]<2,>=1.3 in c:\\users\\rodri\\anaconda3\\envs\\iyalinew\\lib\\site-packages (from httpx~=0.14->cobra->dfba) (1.5.0)\n",
      "Requirement already satisfied: httpcore<0.15.0,>=0.14.5 in c:\\users\\rodri\\anaconda3\\envs\\iyalinew\\lib\\site-packages (from httpx~=0.14->cobra->dfba) (0.14.7)\n",
      "Requirement already satisfied: charset-normalizer in c:\\users\\rodri\\anaconda3\\envs\\iyalinew\\lib\\site-packages (from httpx~=0.14->cobra->dfba) (2.0.12)\n",
      "Requirement already satisfied: certifi in c:\\users\\rodri\\anaconda3\\envs\\iyalinew\\lib\\site-packages (from httpx~=0.14->cobra->dfba) (2021.10.8)\n",
      "Requirement already satisfied: sniffio in c:\\users\\rodri\\anaconda3\\envs\\iyalinew\\lib\\site-packages (from httpx~=0.14->cobra->dfba) (1.2.0)\n",
      "Requirement already satisfied: h11<0.13,>=0.11 in c:\\users\\rodri\\anaconda3\\envs\\iyalinew\\lib\\site-packages (from httpcore<0.15.0,>=0.14.5->httpx~=0.14->cobra->dfba) (0.12.0)\n",
      "Requirement already satisfied: anyio==3.* in c:\\users\\rodri\\anaconda3\\envs\\iyalinew\\lib\\site-packages (from httpcore<0.15.0,>=0.14.5->httpx~=0.14->cobra->dfba) (3.5.0)\n",
      "Requirement already satisfied: idna>=2.8 in c:\\users\\rodri\\anaconda3\\envs\\iyalinew\\lib\\site-packages (from anyio==3.*->httpcore<0.15.0,>=0.14.5->httpx~=0.14->cobra->dfba) (3.3)\n",
      "Requirement already satisfied: six>=1.9 in c:\\users\\rodri\\anaconda3\\envs\\iyalinew\\lib\\site-packages (from optlang->dfba) (1.16.0)\n",
      "Requirement already satisfied: python-dateutil>=2.8.1 in c:\\users\\rodri\\anaconda3\\envs\\iyalinew\\lib\\site-packages (from pandas->dfba) (2.8.2)\n",
      "Requirement already satisfied: pytz>=2020.1 in c:\\users\\rodri\\anaconda3\\envs\\iyalinew\\lib\\site-packages (from pandas->dfba) (2021.3)\n",
      "Requirement already satisfied: typing-extensions>=3.7.4.3 in c:\\users\\rodri\\anaconda3\\envs\\iyalinew\\lib\\site-packages (from pydantic~=1.6->cobra->dfba) (4.1.1)\n",
      "Requirement already satisfied: commonmark<0.10.0,>=0.9.0 in c:\\users\\rodri\\anaconda3\\envs\\iyalinew\\lib\\site-packages (from rich>=8.0->cobra->dfba) (0.9.1)\n",
      "Requirement already satisfied: pygments<3.0.0,>=2.6.0 in c:\\users\\rodri\\anaconda3\\envs\\iyalinew\\lib\\site-packages (from rich>=8.0->cobra->dfba) (2.11.2)\n",
      "Requirement already satisfied: colorama<0.5.0,>=0.4.0 in c:\\users\\rodri\\anaconda3\\envs\\iyalinew\\lib\\site-packages (from rich>=8.0->cobra->dfba) (0.4.4)\n",
      "Requirement already satisfied: ruamel.yaml.clib>=0.2.6 in c:\\users\\rodri\\anaconda3\\envs\\iyalinew\\lib\\site-packages (from ruamel.yaml~=0.16->cobra->dfba) (0.2.6)\n",
      "Note: you may need to restart the kernel to use updated packages.\n"
     ]
    },
    {
     "name": "stderr",
     "output_type": "stream",
     "text": [
      "  ERROR: Command errored out with exit status 1:\n",
      "   command: 'C:\\Users\\rodri\\anaconda3\\envs\\iyalinew\\python.exe' 'C:\\Users\\rodri\\anaconda3\\envs\\iyalinew\\lib\\site-packages\\pip\\_vendor\\pep517\\in_process\\_in_process.py' build_wheel 'C:\\Users\\rodri\\AppData\\Local\\Temp\\tmptnrzcrd7'\n",
      "       cwd: C:\\Users\\rodri\\AppData\\Local\\Temp\\pip-install-9wsidkmg\\dfba_7fd67fd022e943fbab15de588d4fdb23\n",
      "  Complete output (33 lines):\n",
      "  running bdist_wheel\n",
      "  running build\n",
      "  running build_py\n",
      "  creating build\n",
      "  creating build\\lib.win-amd64-3.8\n",
      "  creating build\\lib.win-amd64-3.8\\dfba\n",
      "  copying src\\dfba\\control.py -> build\\lib.win-amd64-3.8\\dfba\n",
      "  copying src\\dfba\\exchange.py -> build\\lib.win-amd64-3.8\\dfba\n",
      "  copying src\\dfba\\helpers.py -> build\\lib.win-amd64-3.8\\dfba\n",
      "  copying src\\dfba\\jit.py -> build\\lib.win-amd64-3.8\\dfba\n",
      "  copying src\\dfba\\library.py -> build\\lib.win-amd64-3.8\\dfba\n",
      "  copying src\\dfba\\model.py -> build\\lib.win-amd64-3.8\\dfba\n",
      "  copying src\\dfba\\types.py -> build\\lib.win-amd64-3.8\\dfba\n",
      "  copying src\\dfba\\variable.py -> build\\lib.win-amd64-3.8\\dfba\n",
      "  copying src\\dfba\\_version.py -> build\\lib.win-amd64-3.8\\dfba\n",
      "  copying src\\dfba\\__init__.py -> build\\lib.win-amd64-3.8\\dfba\n",
      "  creating build\\lib.win-amd64-3.8\\dfba\\plot\n",
      "  copying src\\dfba\\plot\\matplotlib.py -> build\\lib.win-amd64-3.8\\dfba\\plot\n",
      "  copying src\\dfba\\plot\\plotly.py -> build\\lib.win-amd64-3.8\\dfba\\plot\n",
      "  copying src\\dfba\\plot\\__init__.py -> build\\lib.win-amd64-3.8\\dfba\\plot\n",
      "  UPDATING build\\lib.win-amd64-3.8\\dfba/_version.py\n",
      "  set build\\lib.win-amd64-3.8\\dfba/_version.py to '0.1.8'\n",
      "  running build_ext\n",
      "  *******************************************************************************\n",
      "  cmake C:\\Users\\rodri\\AppData\\Local\\Temp\\pip-install-9wsidkmg\\dfba_7fd67fd022e943fbab15de588d4fdb23 -DCMAKE_LIBRARY_OUTPUT_DIRECTORY=C:\\Users\\rodri\\AppData\\Local\\Temp\\pip-install-9wsidkmg\\dfba_7fd67fd022e943fbab15de588d4fdb23\\build\\lib.win-amd64-3.8\\dfba -DCMAKE_BUILD_TYPE=Release\n",
      "  Traceback (most recent call last):\n",
      "    File \"C:\\Users\\rodri\\anaconda3\\envs\\iyalinew\\lib\\runpy.py\", line 194, in _run_module_as_main\n",
      "      return _run_code(code, main_globals, None,\n",
      "    File \"C:\\Users\\rodri\\anaconda3\\envs\\iyalinew\\lib\\runpy.py\", line 87, in _run_code\n",
      "      exec(code, run_globals)\n",
      "    File \"C:\\Users\\rodri\\anaconda3\\envs\\iyalinew\\Scripts\\cmake.exe\\__main__.py\", line 4, in <module>\n",
      "  ImportError: cannot import name 'cmake' from 'cmake' (unknown location)\n",
      "  error: command 'C:\\\\Users\\\\rodri\\\\anaconda3\\\\envs\\\\iyalinew\\\\Scripts\\\\cmake.exe' failed with exit code 1\n",
      "  ----------------------------------------\n",
      "  ERROR: Failed building wheel for dfba\n",
      "ERROR: Could not build wheels for dfba which use PEP 517 and cannot be installed directly\n"
     ]
    },
    {
     "name": "stdout",
     "output_type": "stream",
     "text": [
      "Requirement already satisfied: mpmath>=0.19 in c:\\users\\rodri\\anaconda3\\envs\\iyalinew\\lib\\site-packages (from sympy->dfba) (1.2.1)\n",
      "Requirement already satisfied: zipp>=3.1.0 in c:\\users\\rodri\\anaconda3\\envs\\iyalinew\\lib\\site-packages (from importlib-resources->cobra->dfba) (3.7.0)\n",
      "Building wheels for collected packages: dfba\n",
      "  Building wheel for dfba (PEP 517): started\n",
      "  Building wheel for dfba (PEP 517): finished with status 'error'\n",
      "Failed to build dfba\n"
     ]
    }
   ],
   "source": [
    "pip install dfba"
   ]
  },
  {
   "cell_type": "code",
   "execution_count": 1,
   "id": "14d29d98",
   "metadata": {},
   "outputs": [],
   "source": [
    "import cobra"
   ]
  },
  {
   "cell_type": "code",
   "execution_count": 2,
   "id": "84b9529c",
   "metadata": {},
   "outputs": [],
   "source": [
    "import cplex"
   ]
  },
  {
   "cell_type": "code",
   "execution_count": 3,
   "id": "063b35f1",
   "metadata": {},
   "outputs": [],
   "source": [
    "import cobra\n",
    "from cobra import Model, Reaction, Metabolite\n",
    "from cobra.test import create_test_model"
   ]
  },
  {
   "cell_type": "code",
   "execution_count": 4,
   "id": "4c5ae3c9",
   "metadata": {},
   "outputs": [],
   "source": [
    "import numpy as np\n",
    "from tqdm import tqdm\n",
    "\n",
    "from scipy.integrate import solve_ivp\n",
    "from mpl_toolkits.axisartist.parasite_axes import HostAxes, ParasiteAxes\n",
    "\n",
    "import matplotlib.pyplot as plt\n",
    "%matplotlib inline"
   ]
  },
  {
   "cell_type": "code",
   "execution_count": 5,
   "id": "d590dc71",
   "metadata": {},
   "outputs": [],
   "source": [
    "yali = cobra.io.read_sbml_model('iYali.xml')"
   ]
  },
  {
   "cell_type": "code",
   "execution_count": 6,
   "id": "3fdc7861",
   "metadata": {},
   "outputs": [
    {
     "data": {
      "text/plain": [
       "{'y001654': 1000.0,\n",
       " 'y001714': 1.0,\n",
       " 'y001832': 1000.0,\n",
       " 'y001861': 1000.0,\n",
       " 'y001992': 1000.0,\n",
       " 'y002005': 1000.0,\n",
       " 'y002020': 1000.0,\n",
       " 'y002049': 1000.0,\n",
       " 'y002060': 1000.0,\n",
       " 'y002100': 1000.0}"
      ]
     },
     "execution_count": 6,
     "metadata": {},
     "output_type": "execute_result"
    }
   ],
   "source": [
    "yali.medium"
   ]
  },
  {
   "cell_type": "code",
   "execution_count": 6,
   "id": "3bf1a51e",
   "metadata": {},
   "outputs": [
    {
     "data": {
      "text/plain": [
       "[<Reaction y001542 at 0x136f2cc6610>,\n",
       " <Reaction y001545 at 0x136f2cc6d30>,\n",
       " <Reaction y001546 at 0x136f2cbcfa0>,\n",
       " <Reaction y001547 at 0x136f2cbcd00>,\n",
       " <Reaction y001548 at 0x136f2cbcbe0>,\n",
       " <Reaction y001550 at 0x136f2cd46d0>,\n",
       " <Reaction y001551 at 0x136f2cd4790>,\n",
       " <Reaction y001552 at 0x136f2cd4850>,\n",
       " <Reaction y001553 at 0x136f2cd4910>,\n",
       " <Reaction y001554 at 0x136f2cd49d0>,\n",
       " <Reaction y001566 at 0x136f2cd4cd0>,\n",
       " <Reaction y001572 at 0x136f2cd4f70>,\n",
       " <Reaction y001577 at 0x136f2cd4ca0>,\n",
       " <Reaction y001580 at 0x136f2ce56d0>,\n",
       " <Reaction y001586 at 0x136f2ce5a60>,\n",
       " <Reaction y001589 at 0x136f2ce5d00>,\n",
       " <Reaction y001598 at 0x136f2ce5d60>,\n",
       " <Reaction y001604 at 0x136f2cf3580>,\n",
       " <Reaction y001621 at 0x136f2cf3dc0>,\n",
       " <Reaction y001625 at 0x136f2c8f7c0>,\n",
       " <Reaction y001627 at 0x136f2cf3bb0>,\n",
       " <Reaction y001629 at 0x136f2cf3f40>,\n",
       " <Reaction y001630 at 0x136f2cf3fd0>,\n",
       " <Reaction y001631 at 0x136f2cf3400>,\n",
       " <Reaction y001634 at 0x136f2d02700>,\n",
       " <Reaction y001639 at 0x136f2d02a90>,\n",
       " <Reaction y001641 at 0x136f2d02bb0>,\n",
       " <Reaction y001643 at 0x136f2d02d30>,\n",
       " <Reaction y001648 at 0x136f2d02f70>,\n",
       " <Reaction y001649 at 0x136f2d02970>,\n",
       " <Reaction y001650 at 0x136f2d022b0>,\n",
       " <Reaction y001651 at 0x136f2d023d0>,\n",
       " <Reaction y001654 at 0x136f2d13430>,\n",
       " <Reaction y001663 at 0x136f2d13c40>,\n",
       " <Reaction y001671 at 0x136f2d13220>,\n",
       " <Reaction y001672 at 0x136f2d132b0>,\n",
       " <Reaction y001683 at 0x136f2d21dc0>,\n",
       " <Reaction y001687 at 0x136f2d21fd0>,\n",
       " <Reaction y001702 at 0x136f2d308e0>,\n",
       " <Reaction y001705 at 0x136f2d30b50>,\n",
       " <Reaction y001706 at 0x136f2cf3ee0>,\n",
       " <Reaction y001709 at 0x136f2d30fa0>,\n",
       " <Reaction y001710 at 0x136f2d30bb0>,\n",
       " <Reaction y001712 at 0x136f2d30f40>,\n",
       " <Reaction y001714 at 0x136f2d30ee0>,\n",
       " <Reaction y001715 at 0x136f2d30d60>,\n",
       " <Reaction y001716 at 0x136f2d30c10>,\n",
       " <Reaction y001718 at 0x136f2d3e580>,\n",
       " <Reaction y001727 at 0x136f2d3ea90>,\n",
       " <Reaction y001730 at 0x136f2d3ebb0>,\n",
       " <Reaction y001749 at 0x136f2d4d670>,\n",
       " <Reaction y001753 at 0x136f2d4d910>,\n",
       " <Reaction y001757 at 0x136f2d4da30>,\n",
       " <Reaction y001761 at 0x136f2d4de50>,\n",
       " <Reaction y001764 at 0x136f2d4ddc0>,\n",
       " <Reaction y001765 at 0x136f2d4deb0>,\n",
       " <Reaction y001788 at 0x136f2d5ca30>,\n",
       " <Reaction y001791 at 0x136f2d5cb20>,\n",
       " <Reaction y001792 at 0x136f2d5cb50>,\n",
       " <Reaction y001793 at 0x136f2d5cc10>,\n",
       " <Reaction y001798 at 0x136f2d5cf70>,\n",
       " <Reaction y001800 at 0x136f2d5cc40>,\n",
       " <Reaction y001806 at 0x136f2d5c400>,\n",
       " <Reaction y001807 at 0x136f2d6b7f0>,\n",
       " <Reaction y001808 at 0x136f2d6b820>,\n",
       " <Reaction y001810 at 0x136f2d6b9a0>,\n",
       " <Reaction y001814 at 0x136f2d6bdc0>,\n",
       " <Reaction y001815 at 0x136f2d6beb0>,\n",
       " <Reaction y001818 at 0x136f2d6be20>,\n",
       " <Reaction y001820 at 0x136f2d6b610>,\n",
       " <Reaction y001832 at 0x136f2d79c40>,\n",
       " <Reaction y001834 at 0x136f2d79d60>,\n",
       " <Reaction y001841 at 0x136f2d6b160>,\n",
       " <Reaction y001843 at 0x136f2d5cdf0>,\n",
       " <Reaction y001847 at 0x136f2d87af0>,\n",
       " <Reaction y001861 at 0x136f2d97730>,\n",
       " <Reaction y001862 at 0x136f2d97820>,\n",
       " <Reaction y001865 at 0x136f2d97a90>,\n",
       " <Reaction y001866 at 0x136f2d97b80>,\n",
       " <Reaction y001867 at 0x136f2d97bb0>,\n",
       " <Reaction y001870 at 0x136f2d97eb0>,\n",
       " <Reaction y001873 at 0x136f2d97fa0>,\n",
       " <Reaction y001875 at 0x136f2d97f70>,\n",
       " <Reaction y001878 at 0x136f2d97e20>,\n",
       " <Reaction y001879 at 0x136f2da44f0>,\n",
       " <Reaction y001880 at 0x136f2da4520>,\n",
       " <Reaction y001881 at 0x136f2da45e0>,\n",
       " <Reaction y001883 at 0x136f2da4760>,\n",
       " <Reaction y001886 at 0x136f2da4a90>,\n",
       " <Reaction y001889 at 0x136f2da4bb0>,\n",
       " <Reaction y001891 at 0x136f2da4dc0>,\n",
       " <Reaction y001893 at 0x136f2da4f70>,\n",
       " <Reaction y001896 at 0x136f2da4c10>,\n",
       " <Reaction y001897 at 0x136f2da4280>,\n",
       " <Reaction y001899 at 0x136f2da4eb0>,\n",
       " <Reaction y001900 at 0x136f2db4550>,\n",
       " <Reaction y001902 at 0x136f2db4640>,\n",
       " <Reaction y001903 at 0x136f2d870d0>,\n",
       " <Reaction y001904 at 0x136f2db4310>,\n",
       " <Reaction y001906 at 0x136f2db4a30>,\n",
       " <Reaction y001909 at 0x136f2db4e20>,\n",
       " <Reaction y001911 at 0x136f2db4f40>,\n",
       " <Reaction y001912 at 0x136f2db4d90>,\n",
       " <Reaction y001913 at 0x136f2db4d00>,\n",
       " <Reaction y001914 at 0x136f2db4340>,\n",
       " <Reaction y001915 at 0x136f2db4850>,\n",
       " <Reaction y001916 at 0x136f2db4e80>,\n",
       " <Reaction y001931 at 0x136f2dc1fd0>,\n",
       " <Reaction y001947 at 0x136f2dd0c70>,\n",
       " <Reaction y001967 at 0x136f2dd0c40>,\n",
       " <Reaction y001968 at 0x136f2dd0e80>,\n",
       " <Reaction y001984 at 0x136f2ddeb20>,\n",
       " <Reaction y001987 at 0x136f2ddec10>,\n",
       " <Reaction y001989 at 0x136f2dded00>,\n",
       " <Reaction y001992 at 0x136f2ddeeb0>,\n",
       " <Reaction y001993 at 0x136f2ddefa0>,\n",
       " <Reaction y001994 at 0x136f2ddefd0>,\n",
       " <Reaction y002001 at 0x136f2ddee20>,\n",
       " <Reaction y002005 at 0x136f2dee730>,\n",
       " <Reaction y002020 at 0x136f2dee850>,\n",
       " <Reaction y002024 at 0x136f2deeb80>,\n",
       " <Reaction y002028 at 0x136f2deec70>,\n",
       " <Reaction y002033 at 0x136f2db4730>,\n",
       " <Reaction y002038 at 0x136f2deee80>,\n",
       " <Reaction y002043 at 0x136f2dfca00>,\n",
       " <Reaction y002044 at 0x136f2dfcaf0>,\n",
       " <Reaction y002046 at 0x136f2dfcbe0>,\n",
       " <Reaction y002049 at 0x136f2dfcd60>,\n",
       " <Reaction y002051 at 0x136f2dfcd90>,\n",
       " <Reaction y002052 at 0x136f2dfce50>,\n",
       " <Reaction y002055 at 0x136f2dfcb50>,\n",
       " <Reaction y002056 at 0x136f2dfcdc0>,\n",
       " <Reaction y002058 at 0x136f2dfcf70>,\n",
       " <Reaction y002060 at 0x136f2dfc0a0>,\n",
       " <Reaction y002061 at 0x136f2dfc310>,\n",
       " <Reaction y002062 at 0x136f2e09760>,\n",
       " <Reaction y002066 at 0x136f2e097c0>,\n",
       " <Reaction y002067 at 0x136f2e09940>,\n",
       " <Reaction y002068 at 0x136f2e09970>,\n",
       " <Reaction y002073 at 0x136f2e09af0>,\n",
       " <Reaction y002083 at 0x136f2e09e80>,\n",
       " <Reaction y002090 at 0x136f2e18790>,\n",
       " <Reaction y002091 at 0x136f2e18880>,\n",
       " <Reaction y002092 at 0x136f2e188b0>,\n",
       " <Reaction y002100 at 0x136f2e18fd0>,\n",
       " <Reaction y002102 at 0x136f2e18ee0>,\n",
       " <Reaction y002104 at 0x136f2e18c70>,\n",
       " <Reaction y002106 at 0x136f2e28520>,\n",
       " <Reaction y002134 at 0x136f2e32eb0>,\n",
       " <Reaction y002137 at 0x136f2e32760>,\n",
       " <Reaction y002187 at 0x136f2e4bf10>,\n",
       " <Reaction y002188 at 0x136f2e09f40>,\n",
       " <Reaction y002189 at 0x136f2e8daf0>,\n",
       " <Reaction y002193 at 0x136f2e8dee0>,\n",
       " <Reaction y004043 at 0x136f2f51b20>,\n",
       " <Reaction y004044 at 0x136f2feb460>,\n",
       " <Reaction y300080 at 0x136f30fbf10>,\n",
       " <Reaction y300081 at 0x136f30ed9a0>,\n",
       " <Reaction y300082 at 0x136f30edd30>]"
      ]
     },
     "execution_count": 6,
     "metadata": {},
     "output_type": "execute_result"
    }
   ],
   "source": [
    "yali.exchanges"
   ]
  },
  {
   "cell_type": "code",
   "execution_count": 20,
   "id": "42336f85",
   "metadata": {},
   "outputs": [
    {
     "data": {
      "text/html": [
       "\n",
       "        <table>\n",
       "            <tr>\n",
       "                <td><strong>Reaction identifier</strong></td><td>xBIOMASS</td>\n",
       "            </tr><tr>\n",
       "                <td><strong>Name</strong></td><td>Biomass production</td>\n",
       "            </tr><tr>\n",
       "                <td><strong>Memory address</strong></td>\n",
       "                <td>0x0136f25a8ac0</td>\n",
       "            </tr><tr>\n",
       "                <td><strong>Stoichiometry</strong></td>\n",
       "                <td>\n",
       "                    <p style='text-align:right'>m1726 + m1727 + 0.4415 s_0002 + 0.0757 s_0423 + 86.7881 s_0434 + 0.4068 s_0509 + 0.0578 s_0526 + 0.0383 s_0584 + 0.0377 s_0589 + 0.0377 s_0615 + 0.0383 s_0649 + 0.093 s_0782 + 0.1104 s_1107 +...</p>\n",
       "                    <p style='text-align:right'>protein + lipids + 0.4415 (1-3)-beta-D-glucan + 0.0757 AMP + 86.7881 ATP + 0.4068 chitin + 0.0578 CMP + 0.0383 dAMP + 0.0377 dCMP + 0.0377 dGMP + 0.0383 dTMP + 0.093 GMP + 0.1104 mannan + 0.0032...</p>\n",
       "                </td>\n",
       "            </tr><tr>\n",
       "                <td><strong>GPR</strong></td><td></td>\n",
       "            </tr><tr>\n",
       "                <td><strong>Lower bound</strong></td><td>0.0</td>\n",
       "            </tr><tr>\n",
       "                <td><strong>Upper bound</strong></td><td>1000.0</td>\n",
       "            </tr>\n",
       "        </table>\n",
       "        "
      ],
      "text/plain": [
       "<Reaction xBIOMASS at 0x136f25a8ac0>"
      ]
     },
     "execution_count": 20,
     "metadata": {},
     "output_type": "execute_result"
    }
   ],
   "source": [
    "yali.reactions.xBIOMASS"
   ]
  },
  {
   "cell_type": "code",
   "execution_count": 8,
   "id": "207110c2",
   "metadata": {},
   "outputs": [
    {
     "data": {
      "text/html": [
       "\n",
       "        <table>\n",
       "            <tr>\n",
       "                <td><strong>Metabolite identifier</strong></td><td>s_0565</td>\n",
       "            </tr><tr>\n",
       "                <td><strong>Name</strong></td><td>D-glucose</td>\n",
       "            </tr><tr>\n",
       "                <td><strong>Memory address</strong></td>\n",
       "                <td>0x0147d94e83d0</td>\n",
       "            </tr><tr>\n",
       "                <td><strong>Formula</strong></td><td>C6H12O6</td>\n",
       "            </tr><tr>\n",
       "                <td><strong>Compartment</strong></td><td>e</td>\n",
       "            </tr><tr>\n",
       "                <td><strong>In 4 reaction(s)</strong></td><td>\n",
       "                    y001024, y000370, y001166, y001714</td>\n",
       "            </tr>\n",
       "        </table>"
      ],
      "text/plain": [
       "<Metabolite s_0565 at 0x147d94e83d0>"
      ]
     },
     "execution_count": 8,
     "metadata": {},
     "output_type": "execute_result"
    }
   ],
   "source": [
    "yali.metabolites.s_0565"
   ]
  },
  {
   "cell_type": "code",
   "execution_count": 9,
   "id": "be592033",
   "metadata": {},
   "outputs": [
    {
     "data": {
      "text/html": [
       "\n",
       "        <table>\n",
       "            <tr>\n",
       "                <td><strong>Reaction identifier</strong></td><td>y001024</td>\n",
       "            </tr><tr>\n",
       "                <td><strong>Name</strong></td><td>sucrose hydrolyzing enxyme</td>\n",
       "            </tr><tr>\n",
       "                <td><strong>Memory address</strong></td>\n",
       "                <td>0x0147d9d2ae80</td>\n",
       "            </tr><tr>\n",
       "                <td><strong>Stoichiometry</strong></td>\n",
       "                <td>\n",
       "                    <p style='text-align:right'>s_0805 + s_1466 --> s_0554 + s_0565</p>\n",
       "                    <p style='text-align:right'>H2O + sucrose --> D-fructose + D-glucose</p>\n",
       "                </td>\n",
       "            </tr><tr>\n",
       "                <td><strong>GPR</strong></td><td>YALI0E26719g</td>\n",
       "            </tr><tr>\n",
       "                <td><strong>Lower bound</strong></td><td>0.0</td>\n",
       "            </tr><tr>\n",
       "                <td><strong>Upper bound</strong></td><td>1000.0</td>\n",
       "            </tr>\n",
       "        </table>\n",
       "        "
      ],
      "text/plain": [
       "<Reaction y001024 at 0x147d9d2ae80>"
      ]
     },
     "execution_count": 9,
     "metadata": {},
     "output_type": "execute_result"
    }
   ],
   "source": [
    "yali.reactions.y001024"
   ]
  },
  {
   "cell_type": "code",
   "execution_count": 12,
   "id": "d819ce6e",
   "metadata": {},
   "outputs": [
    {
     "data": {
      "text/html": [
       "\n",
       "        <table>\n",
       "            <tr>\n",
       "                <td><strong>Reaction identifier</strong></td><td>y001714</td>\n",
       "            </tr><tr>\n",
       "                <td><strong>Name</strong></td><td>D-glucose exchange</td>\n",
       "            </tr><tr>\n",
       "                <td><strong>Memory address</strong></td>\n",
       "                <td>0x0147d9f19880</td>\n",
       "            </tr><tr>\n",
       "                <td><strong>Stoichiometry</strong></td>\n",
       "                <td>\n",
       "                    <p style='text-align:right'>s_0565 <--</p>\n",
       "                    <p style='text-align:right'>D-glucose <--</p>\n",
       "                </td>\n",
       "            </tr><tr>\n",
       "                <td><strong>GPR</strong></td><td></td>\n",
       "            </tr><tr>\n",
       "                <td><strong>Lower bound</strong></td><td>-1.0</td>\n",
       "            </tr><tr>\n",
       "                <td><strong>Upper bound</strong></td><td>-1.0</td>\n",
       "            </tr>\n",
       "        </table>\n",
       "        "
      ],
      "text/plain": [
       "<Reaction y001714 at 0x147d9f19880>"
      ]
     },
     "execution_count": 12,
     "metadata": {},
     "output_type": "execute_result"
    }
   ],
   "source": [
    "yali.reactions.y001714"
   ]
  },
  {
   "cell_type": "code",
   "execution_count": 21,
   "id": "ddeb9b8e",
   "metadata": {},
   "outputs": [],
   "source": [
    "yali.reactions.y001714.lower_bound = -1.0"
   ]
  },
  {
   "cell_type": "code",
   "execution_count": 32,
   "id": "e35e08bd",
   "metadata": {},
   "outputs": [],
   "source": [
    "yali.reactions.y001714.upper_bound = 0"
   ]
  },
  {
   "cell_type": "code",
   "execution_count": 33,
   "id": "e5360646",
   "metadata": {},
   "outputs": [
    {
     "data": {
      "text/html": [
       "\n",
       "        <table>\n",
       "            <tr>\n",
       "                <td><strong>Reaction identifier</strong></td><td>y001714</td>\n",
       "            </tr><tr>\n",
       "                <td><strong>Name</strong></td><td>D-glucose exchange</td>\n",
       "            </tr><tr>\n",
       "                <td><strong>Memory address</strong></td>\n",
       "                <td>0x0147d9f19880</td>\n",
       "            </tr><tr>\n",
       "                <td><strong>Stoichiometry</strong></td>\n",
       "                <td>\n",
       "                    <p style='text-align:right'>s_0565 <--</p>\n",
       "                    <p style='text-align:right'>D-glucose <--</p>\n",
       "                </td>\n",
       "            </tr><tr>\n",
       "                <td><strong>GPR</strong></td><td></td>\n",
       "            </tr><tr>\n",
       "                <td><strong>Lower bound</strong></td><td>-1.0</td>\n",
       "            </tr><tr>\n",
       "                <td><strong>Upper bound</strong></td><td>0</td>\n",
       "            </tr>\n",
       "        </table>\n",
       "        "
      ],
      "text/plain": [
       "<Reaction y001714 at 0x147d9f19880>"
      ]
     },
     "execution_count": 33,
     "metadata": {},
     "output_type": "execute_result"
    }
   ],
   "source": [
    "yali.reactions.y001714"
   ]
  },
  {
   "cell_type": "code",
   "execution_count": 37,
   "id": "1594986c",
   "metadata": {},
   "outputs": [
    {
     "data": {
      "text/html": [
       "\n",
       "        <table>\n",
       "            <tr>\n",
       "                <td><strong>Metabolite identifier</strong></td><td>s_0523</td>\n",
       "            </tr><tr>\n",
       "                <td><strong>Name</strong></td><td>citrate</td>\n",
       "            </tr><tr>\n",
       "                <td><strong>Memory address</strong></td>\n",
       "                <td>0x0293129b0820</td>\n",
       "            </tr><tr>\n",
       "                <td><strong>Formula</strong></td><td>C6H5O7</td>\n",
       "            </tr><tr>\n",
       "                <td><strong>Compartment</strong></td><td>e</td>\n",
       "            </tr><tr>\n",
       "                <td><strong>In 2 reaction(s)</strong></td><td>\n",
       "                    y001686, y001687</td>\n",
       "            </tr>\n",
       "        </table>"
      ],
      "text/plain": [
       "<Metabolite s_0523 at 0x293129b0820>"
      ]
     },
     "execution_count": 37,
     "metadata": {},
     "output_type": "execute_result"
    }
   ],
   "source": [
    "yali.metabolites.s_0523"
   ]
  },
  {
   "cell_type": "code",
   "execution_count": 39,
   "id": "304bafb4",
   "metadata": {
    "scrolled": true
   },
   "outputs": [
    {
     "data": {
      "text/html": [
       "\n",
       "        <table>\n",
       "            <tr>\n",
       "                <td><strong>Reaction identifier</strong></td><td>y001687</td>\n",
       "            </tr><tr>\n",
       "                <td><strong>Name</strong></td><td>citrate(3-) exchange</td>\n",
       "            </tr><tr>\n",
       "                <td><strong>Memory address</strong></td>\n",
       "                <td>0x0293132d65e0</td>\n",
       "            </tr><tr>\n",
       "                <td><strong>Stoichiometry</strong></td>\n",
       "                <td>\n",
       "                    <p style='text-align:right'>s_0523 --></p>\n",
       "                    <p style='text-align:right'>citrate --></p>\n",
       "                </td>\n",
       "            </tr><tr>\n",
       "                <td><strong>GPR</strong></td><td></td>\n",
       "            </tr><tr>\n",
       "                <td><strong>Lower bound</strong></td><td>0.0</td>\n",
       "            </tr><tr>\n",
       "                <td><strong>Upper bound</strong></td><td>1000.0</td>\n",
       "            </tr>\n",
       "        </table>\n",
       "        "
      ],
      "text/plain": [
       "<Reaction y001687 at 0x293132d65e0>"
      ]
     },
     "execution_count": 39,
     "metadata": {},
     "output_type": "execute_result"
    }
   ],
   "source": [
    "yali.reactions.y001687"
   ]
  },
  {
   "cell_type": "code",
   "execution_count": 7,
   "id": "2e7974f9",
   "metadata": {},
   "outputs": [],
   "source": [
    "def add_dynamic_bounds(yali, y):\n",
    "    \"\"\"Use external concentrations to bound the uptake flux of glucose.\"\"\"\n",
    "    biomass, glucose, citrate1, citrate2 = y  # expand the boundary species\n",
    "    glucose_max_import = -10 * glucose / (5 + glucose)\n",
    "    yali.reactions.y001714.lower_bound = glucose_max_import\n",
    "\n",
    "\n",
    "def dynamic_system(t, y):\n",
    "    \"\"\"Calculate the time derivative of external species.\"\"\"\n",
    "\n",
    "    biomass, glucose, citrate1, citrate2 = y  # expand the boundary species\n",
    "\n",
    "    # Calculate the specific exchanges fluxes at the given external concentrations.\n",
    "    with yali:\n",
    "        add_dynamic_bounds(yali, y)\n",
    "\n",
    "        cobra.util.add_lp_feasibility(yali)\n",
    "        feasibility = cobra.util.fix_objective_as_constraint(yali)\n",
    "        lex_constraints = cobra.util.add_lexicographic_constraints(\n",
    "            yali, ['xBIOMASS', 'y001714', 'y001686', 'y001687'], ['max', 'max','max','max'])\n",
    "\n",
    "    # Since the calculated fluxes are specific rates, we multiply them by the\n",
    "    # biomass concentration to get the bulk exchange rates.\n",
    "    fluxes = lex_constraints.values\n",
    "    fluxes *= biomass\n",
    "\n",
    "    # This implementation is **not** efficient, so I display the current\n",
    "    # simulation time using a progress bar.\n",
    "    if dynamic_system.pbar is not None:\n",
    "        dynamic_system.pbar.update(1)\n",
    "        dynamic_system.pbar.set_description('t = {:.3f}'.format(t))\n",
    "\n",
    "    return fluxes\n",
    "\n",
    "dynamic_system.pbar = None\n",
    "\n",
    "\n",
    "def infeasible_event(t, y):\n",
    "    \"\"\"\n",
    "    Determine solution feasibility.\n",
    "\n",
    "    Avoiding infeasible solutions is handled by solve_ivp's built-in event detection.\n",
    "    This function re-solves the LP to determine whether or not the solution is feasible\n",
    "    (and if not, how far it is from feasibility). When the sign of this function changes\n",
    "    from -epsilon to positive, we know the solution is no longer feasible.\n",
    "\n",
    "    \"\"\"\n",
    "\n",
    "    with yali:\n",
    "\n",
    "        add_dynamic_bounds(yali, y)\n",
    "\n",
    "        cobra.util.add_lp_feasibility(yali)\n",
    "        feasibility = cobra.util.fix_objective_as_constraint(yali)\n",
    "\n",
    "    return feasibility - infeasible_event.epsilon\n",
    "\n",
    "infeasible_event.epsilon = 1E-6\n",
    "infeasible_event.direction = 1\n",
    "infeasible_event.terminal = True"
   ]
  },
  {
   "cell_type": "code",
   "execution_count": 8,
   "id": "9a5620bb",
   "metadata": {},
   "outputs": [
    {
     "name": "stderr",
     "output_type": "stream",
     "text": [
      "t = 4.510: : 148it [17:20,  7.03s/it]\n"
     ]
    },
    {
     "ename": "ValueError",
     "evalue": "The lower bound must be less than or equal to the upper bound (-0.9787557323756468 <= -1.0).",
     "output_type": "error",
     "traceback": [
      "\u001b[1;31m---------------------------------------------------------------------------\u001b[0m",
      "\u001b[1;31mValueError\u001b[0m                                Traceback (most recent call last)",
      "Input \u001b[1;32mIn [8]\u001b[0m, in \u001b[0;36m<cell line: 4>\u001b[1;34m()\u001b[0m\n\u001b[0;32m      4\u001b[0m \u001b[38;5;28;01mwith\u001b[39;00m tqdm() \u001b[38;5;28;01mas\u001b[39;00m pbar:\n\u001b[0;32m      5\u001b[0m     dynamic_system\u001b[38;5;241m.\u001b[39mpbar \u001b[38;5;241m=\u001b[39m pbar\n\u001b[1;32m----> 7\u001b[0m     sol \u001b[38;5;241m=\u001b[39m \u001b[43msolve_ivp\u001b[49m\u001b[43m(\u001b[49m\n\u001b[0;32m      8\u001b[0m \u001b[43m        \u001b[49m\u001b[43mfun\u001b[49m\u001b[38;5;241;43m=\u001b[39;49m\u001b[43mdynamic_system\u001b[49m\u001b[43m,\u001b[49m\n\u001b[0;32m      9\u001b[0m \u001b[43m        \u001b[49m\u001b[43mevents\u001b[49m\u001b[38;5;241;43m=\u001b[39;49m\u001b[43m[\u001b[49m\u001b[43minfeasible_event\u001b[49m\u001b[43m]\u001b[49m\u001b[43m,\u001b[49m\n\u001b[0;32m     10\u001b[0m \u001b[43m        \u001b[49m\u001b[43mt_span\u001b[49m\u001b[38;5;241;43m=\u001b[39;49m\u001b[43m(\u001b[49m\u001b[43mts\u001b[49m\u001b[38;5;241;43m.\u001b[39;49m\u001b[43mmin\u001b[49m\u001b[43m(\u001b[49m\u001b[43m)\u001b[49m\u001b[43m,\u001b[49m\u001b[43m \u001b[49m\u001b[43mts\u001b[49m\u001b[38;5;241;43m.\u001b[39;49m\u001b[43mmax\u001b[49m\u001b[43m(\u001b[49m\u001b[43m)\u001b[49m\u001b[43m)\u001b[49m\u001b[43m,\u001b[49m\n\u001b[0;32m     11\u001b[0m \u001b[43m        \u001b[49m\u001b[43my0\u001b[49m\u001b[38;5;241;43m=\u001b[39;49m\u001b[43my0\u001b[49m\u001b[43m,\u001b[49m\n\u001b[0;32m     12\u001b[0m \u001b[43m        \u001b[49m\u001b[43mt_eval\u001b[49m\u001b[38;5;241;43m=\u001b[39;49m\u001b[43mts\u001b[49m\u001b[43m,\u001b[49m\n\u001b[0;32m     13\u001b[0m \u001b[43m        \u001b[49m\u001b[43mrtol\u001b[49m\u001b[38;5;241;43m=\u001b[39;49m\u001b[38;5;241;43m1e-6\u001b[39;49m\u001b[43m,\u001b[49m\n\u001b[0;32m     14\u001b[0m \u001b[43m        \u001b[49m\u001b[43matol\u001b[49m\u001b[38;5;241;43m=\u001b[39;49m\u001b[38;5;241;43m1e-8\u001b[39;49m\u001b[43m,\u001b[49m\n\u001b[0;32m     15\u001b[0m \u001b[43m        \u001b[49m\u001b[43mmethod\u001b[49m\u001b[38;5;241;43m=\u001b[39;49m\u001b[38;5;124;43m'\u001b[39;49m\u001b[38;5;124;43mBDF\u001b[39;49m\u001b[38;5;124;43m'\u001b[39;49m\n\u001b[0;32m     16\u001b[0m \u001b[43m    \u001b[49m\u001b[43m)\u001b[49m\n",
      "File \u001b[1;32m~\\anaconda3\\envs\\iyalinew\\lib\\site-packages\\scipy\\integrate\\_ivp\\ivp.py:580\u001b[0m, in \u001b[0;36msolve_ivp\u001b[1;34m(fun, t_span, y0, method, t_eval, dense_output, events, vectorized, args, **options)\u001b[0m\n\u001b[0;32m    578\u001b[0m status \u001b[38;5;241m=\u001b[39m \u001b[38;5;28;01mNone\u001b[39;00m\n\u001b[0;32m    579\u001b[0m \u001b[38;5;28;01mwhile\u001b[39;00m status \u001b[38;5;129;01mis\u001b[39;00m \u001b[38;5;28;01mNone\u001b[39;00m:\n\u001b[1;32m--> 580\u001b[0m     message \u001b[38;5;241m=\u001b[39m \u001b[43msolver\u001b[49m\u001b[38;5;241;43m.\u001b[39;49m\u001b[43mstep\u001b[49m\u001b[43m(\u001b[49m\u001b[43m)\u001b[49m\n\u001b[0;32m    582\u001b[0m     \u001b[38;5;28;01mif\u001b[39;00m solver\u001b[38;5;241m.\u001b[39mstatus \u001b[38;5;241m==\u001b[39m \u001b[38;5;124m'\u001b[39m\u001b[38;5;124mfinished\u001b[39m\u001b[38;5;124m'\u001b[39m:\n\u001b[0;32m    583\u001b[0m         status \u001b[38;5;241m=\u001b[39m \u001b[38;5;241m0\u001b[39m\n",
      "File \u001b[1;32m~\\anaconda3\\envs\\iyalinew\\lib\\site-packages\\scipy\\integrate\\_ivp\\base.py:181\u001b[0m, in \u001b[0;36mOdeSolver.step\u001b[1;34m(self)\u001b[0m\n\u001b[0;32m    179\u001b[0m \u001b[38;5;28;01melse\u001b[39;00m:\n\u001b[0;32m    180\u001b[0m     t \u001b[38;5;241m=\u001b[39m \u001b[38;5;28mself\u001b[39m\u001b[38;5;241m.\u001b[39mt\n\u001b[1;32m--> 181\u001b[0m     success, message \u001b[38;5;241m=\u001b[39m \u001b[38;5;28;43mself\u001b[39;49m\u001b[38;5;241;43m.\u001b[39;49m\u001b[43m_step_impl\u001b[49m\u001b[43m(\u001b[49m\u001b[43m)\u001b[49m\n\u001b[0;32m    183\u001b[0m     \u001b[38;5;28;01mif\u001b[39;00m \u001b[38;5;129;01mnot\u001b[39;00m success:\n\u001b[0;32m    184\u001b[0m         \u001b[38;5;28mself\u001b[39m\u001b[38;5;241m.\u001b[39mstatus \u001b[38;5;241m=\u001b[39m \u001b[38;5;124m'\u001b[39m\u001b[38;5;124mfailed\u001b[39m\u001b[38;5;124m'\u001b[39m\n",
      "File \u001b[1;32m~\\anaconda3\\envs\\iyalinew\\lib\\site-packages\\scipy\\integrate\\_ivp\\bdf.py:357\u001b[0m, in \u001b[0;36mBDF._step_impl\u001b[1;34m(self)\u001b[0m\n\u001b[0;32m    354\u001b[0m \u001b[38;5;28;01mif\u001b[39;00m LU \u001b[38;5;129;01mis\u001b[39;00m \u001b[38;5;28;01mNone\u001b[39;00m:\n\u001b[0;32m    355\u001b[0m     LU \u001b[38;5;241m=\u001b[39m \u001b[38;5;28mself\u001b[39m\u001b[38;5;241m.\u001b[39mlu(\u001b[38;5;28mself\u001b[39m\u001b[38;5;241m.\u001b[39mI \u001b[38;5;241m-\u001b[39m c \u001b[38;5;241m*\u001b[39m J)\n\u001b[1;32m--> 357\u001b[0m converged, n_iter, y_new, d \u001b[38;5;241m=\u001b[39m \u001b[43msolve_bdf_system\u001b[49m\u001b[43m(\u001b[49m\n\u001b[0;32m    358\u001b[0m \u001b[43m    \u001b[49m\u001b[38;5;28;43mself\u001b[39;49m\u001b[38;5;241;43m.\u001b[39;49m\u001b[43mfun\u001b[49m\u001b[43m,\u001b[49m\u001b[43m \u001b[49m\u001b[43mt_new\u001b[49m\u001b[43m,\u001b[49m\u001b[43m \u001b[49m\u001b[43my_predict\u001b[49m\u001b[43m,\u001b[49m\u001b[43m \u001b[49m\u001b[43mc\u001b[49m\u001b[43m,\u001b[49m\u001b[43m \u001b[49m\u001b[43mpsi\u001b[49m\u001b[43m,\u001b[49m\u001b[43m \u001b[49m\u001b[43mLU\u001b[49m\u001b[43m,\u001b[49m\u001b[43m \u001b[49m\u001b[38;5;28;43mself\u001b[39;49m\u001b[38;5;241;43m.\u001b[39;49m\u001b[43msolve_lu\u001b[49m\u001b[43m,\u001b[49m\n\u001b[0;32m    359\u001b[0m \u001b[43m    \u001b[49m\u001b[43mscale\u001b[49m\u001b[43m,\u001b[49m\u001b[43m \u001b[49m\u001b[38;5;28;43mself\u001b[39;49m\u001b[38;5;241;43m.\u001b[39;49m\u001b[43mnewton_tol\u001b[49m\u001b[43m)\u001b[49m\n\u001b[0;32m    361\u001b[0m \u001b[38;5;28;01mif\u001b[39;00m \u001b[38;5;129;01mnot\u001b[39;00m converged:\n\u001b[0;32m    362\u001b[0m     \u001b[38;5;28;01mif\u001b[39;00m current_jac:\n",
      "File \u001b[1;32m~\\anaconda3\\envs\\iyalinew\\lib\\site-packages\\scipy\\integrate\\_ivp\\bdf.py:43\u001b[0m, in \u001b[0;36msolve_bdf_system\u001b[1;34m(fun, t_new, y_predict, c, psi, LU, solve_lu, scale, tol)\u001b[0m\n\u001b[0;32m     41\u001b[0m converged \u001b[38;5;241m=\u001b[39m \u001b[38;5;28;01mFalse\u001b[39;00m\n\u001b[0;32m     42\u001b[0m \u001b[38;5;28;01mfor\u001b[39;00m k \u001b[38;5;129;01min\u001b[39;00m \u001b[38;5;28mrange\u001b[39m(NEWTON_MAXITER):\n\u001b[1;32m---> 43\u001b[0m     f \u001b[38;5;241m=\u001b[39m \u001b[43mfun\u001b[49m\u001b[43m(\u001b[49m\u001b[43mt_new\u001b[49m\u001b[43m,\u001b[49m\u001b[43m \u001b[49m\u001b[43my\u001b[49m\u001b[43m)\u001b[49m\n\u001b[0;32m     44\u001b[0m     \u001b[38;5;28;01mif\u001b[39;00m \u001b[38;5;129;01mnot\u001b[39;00m np\u001b[38;5;241m.\u001b[39mall(np\u001b[38;5;241m.\u001b[39misfinite(f)):\n\u001b[0;32m     45\u001b[0m         \u001b[38;5;28;01mbreak\u001b[39;00m\n",
      "File \u001b[1;32m~\\anaconda3\\envs\\iyalinew\\lib\\site-packages\\scipy\\integrate\\_ivp\\base.py:138\u001b[0m, in \u001b[0;36mOdeSolver.__init__.<locals>.fun\u001b[1;34m(t, y)\u001b[0m\n\u001b[0;32m    136\u001b[0m \u001b[38;5;28;01mdef\u001b[39;00m \u001b[38;5;21mfun\u001b[39m(t, y):\n\u001b[0;32m    137\u001b[0m     \u001b[38;5;28mself\u001b[39m\u001b[38;5;241m.\u001b[39mnfev \u001b[38;5;241m+\u001b[39m\u001b[38;5;241m=\u001b[39m \u001b[38;5;241m1\u001b[39m\n\u001b[1;32m--> 138\u001b[0m     \u001b[38;5;28;01mreturn\u001b[39;00m \u001b[38;5;28;43mself\u001b[39;49m\u001b[38;5;241;43m.\u001b[39;49m\u001b[43mfun_single\u001b[49m\u001b[43m(\u001b[49m\u001b[43mt\u001b[49m\u001b[43m,\u001b[49m\u001b[43m \u001b[49m\u001b[43my\u001b[49m\u001b[43m)\u001b[49m\n",
      "File \u001b[1;32m~\\anaconda3\\envs\\iyalinew\\lib\\site-packages\\scipy\\integrate\\_ivp\\base.py:20\u001b[0m, in \u001b[0;36mcheck_arguments.<locals>.fun_wrapped\u001b[1;34m(t, y)\u001b[0m\n\u001b[0;32m     19\u001b[0m \u001b[38;5;28;01mdef\u001b[39;00m \u001b[38;5;21mfun_wrapped\u001b[39m(t, y):\n\u001b[1;32m---> 20\u001b[0m     \u001b[38;5;28;01mreturn\u001b[39;00m np\u001b[38;5;241m.\u001b[39masarray(\u001b[43mfun\u001b[49m\u001b[43m(\u001b[49m\u001b[43mt\u001b[49m\u001b[43m,\u001b[49m\u001b[43m \u001b[49m\u001b[43my\u001b[49m\u001b[43m)\u001b[49m, dtype\u001b[38;5;241m=\u001b[39mdtype)\n",
      "Input \u001b[1;32mIn [7]\u001b[0m, in \u001b[0;36mdynamic_system\u001b[1;34m(t, y)\u001b[0m\n\u001b[0;32m     13\u001b[0m \u001b[38;5;66;03m# Calculate the specific exchanges fluxes at the given external concentrations.\u001b[39;00m\n\u001b[0;32m     14\u001b[0m \u001b[38;5;28;01mwith\u001b[39;00m yali:\n\u001b[1;32m---> 15\u001b[0m     \u001b[43madd_dynamic_bounds\u001b[49m\u001b[43m(\u001b[49m\u001b[43myali\u001b[49m\u001b[43m,\u001b[49m\u001b[43m \u001b[49m\u001b[43my\u001b[49m\u001b[43m)\u001b[49m\n\u001b[0;32m     17\u001b[0m     cobra\u001b[38;5;241m.\u001b[39mutil\u001b[38;5;241m.\u001b[39madd_lp_feasibility(yali)\n\u001b[0;32m     18\u001b[0m     feasibility \u001b[38;5;241m=\u001b[39m cobra\u001b[38;5;241m.\u001b[39mutil\u001b[38;5;241m.\u001b[39mfix_objective_as_constraint(yali)\n",
      "Input \u001b[1;32mIn [7]\u001b[0m, in \u001b[0;36madd_dynamic_bounds\u001b[1;34m(yali, y)\u001b[0m\n\u001b[0;32m      3\u001b[0m biomass, glucose, citrate1, citrate2 \u001b[38;5;241m=\u001b[39m y  \u001b[38;5;66;03m# expand the boundary species\u001b[39;00m\n\u001b[0;32m      4\u001b[0m glucose_max_import \u001b[38;5;241m=\u001b[39m \u001b[38;5;241m-\u001b[39m\u001b[38;5;241m10\u001b[39m \u001b[38;5;241m*\u001b[39m glucose \u001b[38;5;241m/\u001b[39m (\u001b[38;5;241m5\u001b[39m \u001b[38;5;241m+\u001b[39m glucose)\n\u001b[1;32m----> 5\u001b[0m yali\u001b[38;5;241m.\u001b[39mreactions\u001b[38;5;241m.\u001b[39my001714\u001b[38;5;241m.\u001b[39mlower_bound \u001b[38;5;241m=\u001b[39m glucose_max_import\n",
      "File \u001b[1;32m~\\anaconda3\\envs\\iyalinew\\lib\\site-packages\\cobra\\util\\context.py:111\u001b[0m, in \u001b[0;36mresettable.<locals>.wrapper\u001b[1;34m(self, new_value)\u001b[0m\n\u001b[0;32m    108\u001b[0m         \u001b[38;5;28;01mreturn\u001b[39;00m\n\u001b[0;32m    109\u001b[0m     context(partial(func, \u001b[38;5;28mself\u001b[39m, old_value))\n\u001b[1;32m--> 111\u001b[0m \u001b[43mfunc\u001b[49m\u001b[43m(\u001b[49m\u001b[38;5;28;43mself\u001b[39;49m\u001b[43m,\u001b[49m\u001b[43m \u001b[49m\u001b[43mnew_value\u001b[49m\u001b[43m)\u001b[49m\n",
      "File \u001b[1;32m~\\anaconda3\\envs\\iyalinew\\lib\\site-packages\\cobra\\core\\reaction.py:244\u001b[0m, in \u001b[0;36mReaction.lower_bound\u001b[1;34m(self, value)\u001b[0m\n\u001b[0;32m    240\u001b[0m \u001b[38;5;129m@lower_bound\u001b[39m\u001b[38;5;241m.\u001b[39msetter\n\u001b[0;32m    241\u001b[0m \u001b[38;5;129m@resettable\u001b[39m\n\u001b[0;32m    242\u001b[0m \u001b[38;5;28;01mdef\u001b[39;00m \u001b[38;5;21mlower_bound\u001b[39m(\u001b[38;5;28mself\u001b[39m, value):\n\u001b[0;32m    243\u001b[0m     \u001b[38;5;66;03m# Validate bounds before setting them.\u001b[39;00m\n\u001b[1;32m--> 244\u001b[0m     \u001b[38;5;28;43mself\u001b[39;49m\u001b[38;5;241;43m.\u001b[39;49m\u001b[43m_check_bounds\u001b[49m\u001b[43m(\u001b[49m\u001b[43mvalue\u001b[49m\u001b[43m,\u001b[49m\u001b[43m \u001b[49m\u001b[38;5;28;43mself\u001b[39;49m\u001b[38;5;241;43m.\u001b[39;49m\u001b[43m_upper_bound\u001b[49m\u001b[43m)\u001b[49m\n\u001b[0;32m    245\u001b[0m     \u001b[38;5;28mself\u001b[39m\u001b[38;5;241m.\u001b[39m_lower_bound \u001b[38;5;241m=\u001b[39m value\n\u001b[0;32m    246\u001b[0m     \u001b[38;5;28mself\u001b[39m\u001b[38;5;241m.\u001b[39mupdate_variable_bounds()\n",
      "File \u001b[1;32m~\\anaconda3\\envs\\iyalinew\\lib\\site-packages\\cobra\\core\\reaction.py:197\u001b[0m, in \u001b[0;36mReaction._check_bounds\u001b[1;34m(lb, ub)\u001b[0m\n\u001b[0;32m    194\u001b[0m \u001b[38;5;129m@staticmethod\u001b[39m\n\u001b[0;32m    195\u001b[0m \u001b[38;5;28;01mdef\u001b[39;00m \u001b[38;5;21m_check_bounds\u001b[39m(lb, ub):\n\u001b[0;32m    196\u001b[0m     \u001b[38;5;28;01mif\u001b[39;00m lb \u001b[38;5;241m>\u001b[39m ub:\n\u001b[1;32m--> 197\u001b[0m         \u001b[38;5;28;01mraise\u001b[39;00m \u001b[38;5;167;01mValueError\u001b[39;00m(\n\u001b[0;32m    198\u001b[0m             \u001b[38;5;124m\"\u001b[39m\u001b[38;5;124mThe lower bound must be less than or equal to the upper \u001b[39m\u001b[38;5;124m\"\u001b[39m\n\u001b[0;32m    199\u001b[0m             \u001b[38;5;124m\"\u001b[39m\u001b[38;5;124mbound (\u001b[39m\u001b[38;5;132;01m{}\u001b[39;00m\u001b[38;5;124m <= \u001b[39m\u001b[38;5;132;01m{}\u001b[39;00m\u001b[38;5;124m).\u001b[39m\u001b[38;5;124m\"\u001b[39m\u001b[38;5;241m.\u001b[39mformat(lb, ub)\n\u001b[0;32m    200\u001b[0m         )\n",
      "\u001b[1;31mValueError\u001b[0m: The lower bound must be less than or equal to the upper bound (-0.9787557323756468 <= -1.0)."
     ]
    }
   ],
   "source": [
    "ts = np.linspace(0, 10, 10)  # Desired integration resolution and interval\n",
    "y0 = [0.1, 10, 0,0]\n",
    "\n",
    "with tqdm() as pbar:\n",
    "    dynamic_system.pbar = pbar\n",
    "\n",
    "    sol = solve_ivp(\n",
    "        fun=dynamic_system,\n",
    "        events=[infeasible_event],\n",
    "        t_span=(ts.min(), ts.max()),\n",
    "        y0=y0,\n",
    "        t_eval=ts,\n",
    "        rtol=1e-6,\n",
    "        atol=1e-8,\n",
    "        method='BDF'\n",
    "    )"
   ]
  },
  {
   "cell_type": "code",
   "execution_count": null,
   "id": "b06f1fee",
   "metadata": {},
   "outputs": [],
   "source": [
    "sol"
   ]
  },
  {
   "cell_type": "code",
   "execution_count": 39,
   "id": "4c2f1e23",
   "metadata": {},
   "outputs": [
    {
     "data": {
      "text/plain": [
       "Text(0, 0.5, 'Citrato2')"
      ]
     },
     "execution_count": 39,
     "metadata": {},
     "output_type": "execute_result"
    },
    {
     "data": {
      "image/png": "[encoded data removed]",
      "text/plain": [
       "<Figure size 432x288 with 4 Axes>"
      ]
     },
     "metadata": {
      "needs_background": "light"
     },
     "output_type": "display_data"
    }
   ],
   "source": [
    "fig, ax1 = plt.subplots()\n",
    "\n",
    "ax1.plot(sol.t, sol.y.T[:, 0], color='r', marker='+', markersize=5)\n",
    "ax2 = plt.twinx(ax1)\n",
    "ax2.plot(sol.t, sol.y.T[:, 1], color='b', marker='x', markersize=5)\n",
    "\n",
    "ax3 = ax1.twinx()\n",
    "ax3.plot(sol.t, sol.y.T[:, 2],color=\"green\")\n",
    "ax3.spines['right'].set_position(('outward',60))\n",
    "\n",
    "ax4 = ax1.twinx()\n",
    "ax4.plot(sol.t, sol.y.T[:, 3],color=\"yellow\")\n",
    "ax4.spines['right'].set_position(('outward',120))\n",
    "\n",
    "plt.grid(axis = 'both', color = 'green', linestyle = '--', linewidth = 0.5)\n",
    "\n",
    "ax1.set_ylabel('Biomass', color='r')\n",
    "ax2.set_ylabel('Glucose', color='b')\n",
    "ax3.set_ylabel('Citrato1', color='g')\n",
    "ax4.set_ylabel('Citrato2', color='y')"
   ]
  },
  {
   "cell_type": "code",
   "execution_count": null,
   "id": "c6715b4b",
   "metadata": {},
   "outputs": [],
   "source": []
  }
 ],
 "metadata": {
  "kernelspec": {
   "display_name": "Python 3 (ipykernel)",
   "language": "python",
   "name": "python3"
  },
  "language_info": {
   "codemirror_mode": {
    "name": "ipython",
    "version": 3
   },
   "file_extension": ".py",
   "mimetype": "text/x-python",
   "name": "python",
   "nbconvert_exporter": "python",
   "pygments_lexer": "ipython3",
   "version": "3.8.12"
  }
 },
 "nbformat": 4,
 "nbformat_minor": 5
}
