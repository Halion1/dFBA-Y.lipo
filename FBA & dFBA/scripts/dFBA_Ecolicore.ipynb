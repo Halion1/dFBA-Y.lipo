{
 "cells": [
  {
   "cell_type": "code",
   "execution_count": 1,
   "id": "f551085a",
   "metadata": {},
   "outputs": [],
   "source": [
    "import cobra\n",
    "from cobra import Model, Reaction, Metabolite\n",
    "from cobra.test import create_test_model"
   ]
  },
  {
   "cell_type": "code",
   "execution_count": 2,
   "id": "e8ff0d5b",
   "metadata": {},
   "outputs": [],
   "source": [
    "import cplex"
   ]
  },
  {
   "cell_type": "code",
   "execution_count": 3,
   "id": "6ec069b3",
   "metadata": {},
   "outputs": [],
   "source": [
    "import numpy as np\n",
    "from tqdm import tqdm\n",
    "\n",
    "from scipy.integrate import solve_ivp\n",
    "\n",
    "import matplotlib.pyplot as plt\n",
    "%matplotlib inline"
   ]
  },
  {
   "cell_type": "code",
   "execution_count": 4,
   "id": "98935674",
   "metadata": {},
   "outputs": [],
   "source": [
    "from cobra.test import create_test_model\n",
    "model = create_test_model('textbook')"
   ]
  },
  {
   "cell_type": "code",
   "execution_count": 53,
   "id": "5ebaf80c",
   "metadata": {},
   "outputs": [
    {
     "data": {
      "text/html": [
       "\n",
       "        <table>\n",
       "            <tr>\n",
       "                <td><strong>Reaction identifier</strong></td><td>EX_o2_e</td>\n",
       "            </tr><tr>\n",
       "                <td><strong>Name</strong></td><td>O2 exchange</td>\n",
       "            </tr><tr>\n",
       "                <td><strong>Memory address</strong></td>\n",
       "                <td>0x07f4254c1d880</td>\n",
       "            </tr><tr>\n",
       "                <td><strong>Stoichiometry</strong></td>\n",
       "                <td>\n",
       "                    <p style='text-align:right'>o2_e <=></p>\n",
       "                    <p style='text-align:right'>O2 <=></p>\n",
       "                </td>\n",
       "            </tr><tr>\n",
       "                <td><strong>GPR</strong></td><td></td>\n",
       "            </tr><tr>\n",
       "                <td><strong>Lower bound</strong></td><td>-1000.0</td>\n",
       "            </tr><tr>\n",
       "                <td><strong>Upper bound</strong></td><td>1000.0</td>\n",
       "            </tr>\n",
       "        </table>\n",
       "        "
      ],
      "text/plain": [
       "<Reaction EX_o2_e at 0x7f4254c1d880>"
      ]
     },
     "execution_count": 53,
     "metadata": {},
     "output_type": "execute_result"
    }
   ],
   "source": [
    "model.exchanges.EX_o2_e"
   ]
  },
  {
   "cell_type": "code",
   "execution_count": 54,
   "id": "a44957a2",
   "metadata": {},
   "outputs": [
    {
     "data": {
      "text/html": [
       "\n",
       "        <table>\n",
       "            <tr>\n",
       "                <td><strong>Reaction identifier</strong></td><td>EX_glc__D_e</td>\n",
       "            </tr><tr>\n",
       "                <td><strong>Name</strong></td><td>D-Glucose exchange</td>\n",
       "            </tr><tr>\n",
       "                <td><strong>Memory address</strong></td>\n",
       "                <td>0x07f4254c16f10</td>\n",
       "            </tr><tr>\n",
       "                <td><strong>Stoichiometry</strong></td>\n",
       "                <td>\n",
       "                    <p style='text-align:right'>glc__D_e <=></p>\n",
       "                    <p style='text-align:right'>D-Glucose <=></p>\n",
       "                </td>\n",
       "            </tr><tr>\n",
       "                <td><strong>GPR</strong></td><td></td>\n",
       "            </tr><tr>\n",
       "                <td><strong>Lower bound</strong></td><td>-10.0</td>\n",
       "            </tr><tr>\n",
       "                <td><strong>Upper bound</strong></td><td>1000.0</td>\n",
       "            </tr>\n",
       "        </table>\n",
       "        "
      ],
      "text/plain": [
       "<Reaction EX_glc__D_e at 0x7f4254c16f10>"
      ]
     },
     "execution_count": 54,
     "metadata": {},
     "output_type": "execute_result"
    }
   ],
   "source": [
    "model.exchanges.EX_glc__D_e"
   ]
  },
  {
   "cell_type": "code",
   "execution_count": 5,
   "id": "242c217a",
   "metadata": {},
   "outputs": [],
   "source": [
    "def add_dynamic_bounds(model, y):\n",
    "    \"\"\"Use external concentrations to bound the uptake flux of glucose.\"\"\"\n",
    "    biomass, glucose, O2, Acetate  = y  # expand the boundary species\n",
    "    glucose_max_import = -10 * glucose / (5 + glucose)\n",
    "    model.reactions.EX_glc__D_e.lower_bound = glucose_max_import\n",
    "    model.reactions.EX_o2_e.lower_bound= -15.0 * (O2 / (0.024 + O2))\n",
    "    model.reactions.EX_ac_e.lower_bound= 10.0 * (Acetate / (2 + Acetate))\n",
    "\n",
    "def dynamic_system(t, y):\n",
    "    \"\"\"Calculate the time derivative of external species.\"\"\"\n",
    "\n",
    "    biomass, glucose, O2, Acetate  = y  # expand the boundary species\n",
    "\n",
    "    # Calculate the specific exchanges fluxes at the given external concentrations.\n",
    "    with model:\n",
    "        add_dynamic_bounds(model, y)\n",
    "\n",
    "        cobra.util.add_lp_feasibility(model)\n",
    "        feasibility = cobra.util.fix_objective_as_constraint(model)\n",
    "        lex_constraints = cobra.util.add_lexicographic_constraints(\n",
    "            model, ['Biomass_Ecoli_core', 'EX_glc__D_e', 'EX_o2_e', 'EX_ac_e'], ['max', 'max', 'max', 'max'])\n",
    "\n",
    "    # Since the calculated fluxes are specific rates, we multiply them by the\n",
    "    # biomass concentration to get the bulk exchange rates.\n",
    "    fluxes = lex_constraints.values\n",
    "    fluxes *= biomass\n",
    "\n",
    "    # This implementation is **not** efficient, so I display the current\n",
    "    # simulation time using a progress bar.\n",
    "    if dynamic_system.pbar is not None:\n",
    "        dynamic_system.pbar.update(1)\n",
    "        dynamic_system.pbar.set_description('t = {:.3f}'.format(t))\n",
    "\n",
    "    return fluxes\n",
    "\n",
    "dynamic_system.pbar = None\n",
    "\n",
    "\n",
    "def infeasible_event(t, y):\n",
    "    \"\"\"\n",
    "    Determine solution feasibility.\n",
    "\n",
    "    Avoiding infeasible solutions is handled by solve_ivp's built-in event detection.\n",
    "    This function re-solves the LP to determine whether or not the solution is feasible\n",
    "    (and if not, how far it is from feasibility). When the sign of this function changes\n",
    "    from -epsilon to positive, we know the solution is no longer feasible.\n",
    "\n",
    "    \"\"\"\n",
    "\n",
    "    with model:\n",
    "\n",
    "        add_dynamic_bounds(model, y)\n",
    "\n",
    "        cobra.util.add_lp_feasibility(model)\n",
    "        feasibility = cobra.util.fix_objective_as_constraint(model)\n",
    "\n",
    "    return feasibility - infeasible_event.epsilon\n",
    "\n",
    "infeasible_event.epsilon = 1E-6\n",
    "infeasible_event.direction = 1\n",
    "infeasible_event.terminal = True"
   ]
  },
  {
   "cell_type": "code",
   "execution_count": 6,
   "id": "8cac52b3",
   "metadata": {},
   "outputs": [
    {
     "name": "stderr",
     "output_type": "stream",
     "text": [
      "t = 0.666: : 388it [01:22,  4.73it/s]\n"
     ]
    }
   ],
   "source": [
    "ts = np.linspace(0, 15, 100)  # Desired integration resolution and interval\n",
    "y0 = [0.1, 10, 0.24, 0]\n",
    "\n",
    "with tqdm() as pbar:\n",
    "    dynamic_system.pbar = pbar\n",
    "\n",
    "    sol = solve_ivp(\n",
    "        fun=dynamic_system,\n",
    "        events=[infeasible_event],\n",
    "        t_span=(ts.min(), ts.max()),\n",
    "        y0=y0,\n",
    "        t_eval=ts,\n",
    "        rtol=1e-6,\n",
    "        atol=1e-8,\n",
    "        method='BDF'\n",
    "    )"
   ]
  },
  {
   "cell_type": "code",
   "execution_count": 7,
   "id": "af01df4d",
   "metadata": {},
   "outputs": [
    {
     "data": {
      "text/plain": [
       "  message: 'A termination event occurred.'\n",
       "     nfev: 376\n",
       "     njev: 2\n",
       "      nlu: 28\n",
       "      sol: None\n",
       "   status: 1\n",
       "  success: True\n",
       "        t: array([0.        , 0.15151515, 0.3030303 , 0.45454545])\n",
       " t_events: [array([0.54092146])]\n",
       "        y: array([[1.00000000e-01, 1.07961801e-01, 1.11323835e-01, 1.13165243e-01],\n",
       "       [1.00000000e+01, 9.89509886e+00, 9.78446758e+00, 9.67213673e+00],\n",
       "       [2.40000000e-01, 4.41762515e-02, 8.23982143e-06, 2.24595375e-09],\n",
       "       [0.00000000e+00, 4.27800178e-02, 1.55706011e-01, 2.55026716e-01]])\n",
       " y_events: [array([[ 1.14222253e-01,  9.60747306e+00, -1.59999989e-09,\n",
       "         3.12217545e-01]])]"
      ]
     },
     "execution_count": 7,
     "metadata": {},
     "output_type": "execute_result"
    }
   ],
   "source": [
    "sol"
   ]
  },
  {
   "cell_type": "code",
   "execution_count": 8,
   "id": "c2831c39",
   "metadata": {},
   "outputs": [
    {
     "data": {
      "text/plain": [
       "Text(0, 0.5, 'Acetate')"
      ]
     },
     "execution_count": 8,
     "metadata": {},
     "output_type": "execute_result"
    },
    {
     "data": {
      "image/png": "[encoded data removed]",
      "text/plain": [
       "<Figure size 432x288 with 4 Axes>"
      ]
     },
     "metadata": {
      "needs_background": "light"
     },
     "output_type": "display_data"
    }
   ],
   "source": [
    "#ax = plt.subplot(111)\n",
    "#ax.plot(sol.t, sol.y.T[:, 0])\n",
    "#ax2 = plt.twinx(ax)\n",
    "#ax2.plot(sol.t, sol.y.T[:, 1], color='r')\n",
    "#ax3 = plt.twinx(ax)\n",
    "#ax3.plot(sol.t, sol.y.T[:, 2], color='g')\n",
    "\n",
    "\n",
    "\n",
    "ig, ax1 = plt.subplots()\n",
    "\n",
    "ax1.plot(sol.t, sol.y.T[:, 0], color='r')\n",
    "ax2 = plt.twinx(ax1)\n",
    "ax2.plot(sol.t, sol.y.T[:, 1], color='b')\n",
    "\n",
    "ax3 = ax1.twinx()\n",
    "ax3.plot(sol.t, sol.y.T[:, 2],color=\"green\")\n",
    "ax3.spines['right'].set_position(('outward',60))\n",
    "\n",
    "ax4 = ax1.twinx()\n",
    "ax4.plot(sol.t, sol.y.T[:, 3],color=\"yellow\")\n",
    "ax4.spines['right'].set_position(('outward',120))\n",
    "\n",
    "plt.grid(axis = 'both', color = 'green', linestyle = '--', linewidth = 0.5)\n",
    "\n",
    "ax1.set_ylabel('Biomass', color='r')\n",
    "ax2.set_ylabel('Glucose', color='b')\n",
    "ax3.set_ylabel('O2', color='g')\n",
    "ax4.set_ylabel('Acetate', color='y')"
   ]
  },
  {
   "cell_type": "code",
   "execution_count": 27,
   "id": "280faa83",
   "metadata": {},
   "outputs": [
    {
     "name": "stdout",
     "output_type": "stream",
     "text": [
      "Help on function add_lexicographic_constraints in module cobra.util.solver:\n",
      "\n",
      "add_lexicographic_constraints(model: 'Model', objectives: List[ForwardRef('Reaction')], objective_direction: Union[str, List[str]] = 'max') -> pandas.core.series.Series\n",
      "    Successively optimize separate targets in a specific order.\n",
      "    \n",
      "    For each objective, optimize the model and set the optimal value as a\n",
      "    constraint. Proceed in the order of the objectives given. Due to the\n",
      "    specific order this is called lexicographic FBA [1]_. This procedure\n",
      "    is useful for returning unique solutions for a set of important\n",
      "    fluxes. Typically this is applied to exchange fluxes.\n",
      "    \n",
      "    Parameters\n",
      "    ----------\n",
      "    model : cobra.Model\n",
      "        The model to be optimized.\n",
      "    objectives : list of cobra.Reaction\n",
      "        A list of reactions (or objectives) in the model for which unique\n",
      "        fluxes are to be determined.\n",
      "    objective_direction : str or list of str, optional\n",
      "        The desired objective direction for each reaction (if a list) or\n",
      "        the objective direction to use for all reactions (default \"max\").\n",
      "    \n",
      "    Returns\n",
      "    -------\n",
      "    pandas.Series\n",
      "        A pandas Series containing the optimized fluxes for each of the\n",
      "        given reactions in `objectives`.\n",
      "    \n",
      "    References\n",
      "    ----------\n",
      "    .. [1] Gomez, Jose A., Kai Höffner, and Paul I. Barton.\n",
      "    “DFBAlab: A Fast and Reliable MATLAB Code for Dynamic Flux Balance\n",
      "    Analysis.” BMC Bioinformatics 15, no. 1 (December 18, 2014): 409.\n",
      "    https://doi.org/10.1186/s12859-014-0409-8.\n",
      "\n"
     ]
    }
   ],
   "source": [
    "help (cobra.util.add_lexicographic_constraints)"
   ]
  },
  {
   "cell_type": "code",
   "execution_count": null,
   "id": "be44561e",
   "metadata": {},
   "outputs": [],
   "source": []
  }
 ],
 "metadata": {
  "kernelspec": {
   "display_name": "Python 3 (ipykernel)",
   "language": "python",
   "name": "python3"
  },
  "language_info": {
   "codemirror_mode": {
    "name": "ipython",
    "version": 3
   },
   "file_extension": ".py",
   "mimetype": "text/x-python",
   "name": "python",
   "nbconvert_exporter": "python",
   "pygments_lexer": "ipython3",
   "version": "3.8.12"
  }
 },
 "nbformat": 4,
 "nbformat_minor": 5
}
