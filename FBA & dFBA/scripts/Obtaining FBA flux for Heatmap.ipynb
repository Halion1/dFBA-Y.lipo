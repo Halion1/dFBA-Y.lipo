{
 "cells": [
  {
   "cell_type": "code",
   "execution_count": 1,
   "id": "1c368295",
   "metadata": {},
   "outputs": [],
   "source": [
    "from os.path import dirname, join, pardir\n",
    "from cobra.io import read_sbml_model\n",
    "from dfba import DfbaModel, ExchangeFlux, KineticVariable\n",
    "import pygad\n",
    "import numpy\n",
    "import cobra\n",
    "from cobra import Model, Reaction, Metabolite\n",
    "from dfba.plot.plotly import *\n",
    "import plotly.io as pio\n",
    "import matplotlib.pyplot as plt\n",
    "import pandas as pd"
   ]
  },
  {
   "cell_type": "code",
   "execution_count": 7,
   "id": "1e3b8271",
   "metadata": {},
   "outputs": [],
   "source": [
    "#Importing model iYali\n",
    "#yali = cobra.io.read_sbml_model('iYali.xml')\n",
    "yali = cobra.io.read_sbml_model('yalinewpathways final 2.xml')\n",
    "#yali = cobra.io.read_sbml_model('iYali-tidy W29 strain final 2.xml')\n",
    "#yali = cobra.io.read_sbml_model('iYali-tidy Obese strain final 2.xml')\n",
    "#yali = cobra.io.read_sbml_model('Yali OptKnock final.xml')"
   ]
  },
  {
   "cell_type": "code",
   "execution_count": 8,
   "id": "127fd864",
   "metadata": {},
   "outputs": [
    {
     "data": {
      "text/html": [
       "\n",
       "        <table>\n",
       "            <tr>\n",
       "                <td><strong>Metabolite identifier</strong></td><td>s_3719</td>\n",
       "            </tr><tr>\n",
       "                <td><strong>Name</strong></td><td>Propionyl-CoA[c]</td>\n",
       "            </tr><tr>\n",
       "                <td><strong>Memory address</strong></td>\n",
       "                <td>0x7fa1eab43250</td>\n",
       "            </tr><tr>\n",
       "                <td><strong>Formula</strong></td><td>C24H36N7O17P3S</td>\n",
       "            </tr><tr>\n",
       "                <td><strong>Compartment</strong></td><td>c</td>\n",
       "            </tr><tr>\n",
       "                <td><strong>In 6 reaction(s)</strong></td><td>\n",
       "                    y300088, y300099, y300087, y300089, y300104, xPOOL_PC_C\n",
       "                    </td>\n",
       "            </tr>\n",
       "        </table>"
      ],
      "text/plain": [
       "<Metabolite s_3719 at 0x7fa1eab43250>"
      ]
     },
     "execution_count": 8,
     "metadata": {},
     "output_type": "execute_result"
    }
   ],
   "source": [
    "yali.metabolites.s_3719"
   ]
  },
  {
   "cell_type": "code",
   "execution_count": 13,
   "id": "5b582d81",
   "metadata": {},
   "outputs": [
    {
     "data": {
      "text/html": [
       "\n",
       "        <table>\n",
       "            <tr>\n",
       "                <td><strong>Reaction identifier</strong></td><td>y300089</td>\n",
       "            </tr><tr>\n",
       "                <td><strong>Name</strong></td><td>Propionate CoA-transferase</td>\n",
       "            </tr><tr>\n",
       "                <td><strong>Memory address</strong></td>\n",
       "                <td>0x7fa1a8ad2d50</td>\n",
       "            </tr><tr>\n",
       "                <td><strong>Stoichiometry</strong></td>\n",
       "                <td>\n",
       "                    <p style='text-align:right'>s_3718 --> s_3719</p>\n",
       "                    <p style='text-align:right'>Propionate[c] --> Propionyl-CoA[c]</p>\n",
       "                </td>\n",
       "            </tr><tr>\n",
       "                <td><strong>GPR</strong></td><td>rPCT</td>\n",
       "            </tr><tr>\n",
       "                <td><strong>Lower bound</strong></td><td>0.0</td>\n",
       "            </tr><tr>\n",
       "                <td><strong>Upper bound</strong></td><td>1000.0</td>\n",
       "            </tr>\n",
       "        </table>\n",
       "        "
      ],
      "text/plain": [
       "<Reaction y300089 at 0x7fa1a8ad2d50>"
      ]
     },
     "execution_count": 13,
     "metadata": {},
     "output_type": "execute_result"
    }
   ],
   "source": [
    "yali.reactions.y300089"
   ]
  },
  {
   "cell_type": "code",
   "execution_count": 61,
   "id": "8c56b549",
   "metadata": {},
   "outputs": [
    {
     "data": {
      "text/plain": [
       "xAMINOACID       0.000000e+00\n",
       "xBIOMASS         0.000000e+00\n",
       "xLIPID           0.000000e+00\n",
       "xMAINTENANCE     0.000000e+00\n",
       "xPOOL_AC_EM     -5.710761e-17\n",
       "                     ...     \n",
       "xPOOL_MA_M       0.000000e+00\n",
       "xPOOL_SU_C      -1.573148e-02\n",
       "xPOOL_SU_M      -3.469447e-18\n",
       "xPOOL_ECFA_LP    0.000000e+00\n",
       "xPOOL_OCFA_LP    0.000000e+00\n",
       "Name: fluxes, Length: 1960, dtype: float64"
      ]
     },
     "execution_count": 61,
     "metadata": {},
     "output_type": "execute_result"
    }
   ],
   "source": [
    "yali.objective='y300106'#'y001882' #yali.reactions.xBIOMASS\n",
    "solution = yali.optimize()\n",
    "solution.fluxes"
   ]
  },
  {
   "cell_type": "code",
   "execution_count": 62,
   "id": "93152df6",
   "metadata": {},
   "outputs": [],
   "source": [
    "# Convert the solution's fluxes to a pandas DataFrame\n",
    "fluxes = pd.DataFrame.from_dict(solution.fluxes)\n",
    "\n",
    "# Write the DataFrame to an Excel file\n",
    "fluxes.to_excel('Yali OptKnock final penta106fba_fluxes.xlsx')"
   ]
  },
  {
   "cell_type": "code",
   "execution_count": null,
   "id": "94eaf7c5",
   "metadata": {},
   "outputs": [],
   "source": []
  }
 ],
 "metadata": {
  "kernelspec": {
   "display_name": "Python 3 (ipykernel)",
   "language": "python",
   "name": "python3"
  },
  "language_info": {
   "codemirror_mode": {
    "name": "ipython",
    "version": 3
   },
   "file_extension": ".py",
   "mimetype": "text/x-python",
   "name": "python",
   "nbconvert_exporter": "python",
   "pygments_lexer": "ipython3",
   "version": "3.7.13"
  }
 },
 "nbformat": 4,
 "nbformat_minor": 5
}
