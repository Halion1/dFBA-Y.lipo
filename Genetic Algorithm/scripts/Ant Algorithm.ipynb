{
 "cells": [
  {
   "cell_type": "code",
   "execution_count": 3,
   "id": "7c8aef76",
   "metadata": {},
   "outputs": [
    {
     "name": "stdout",
     "output_type": "stream",
     "text": [
      "Requirement already satisfied: pip in c:\\users\\rodri\\anaconda3\\lib\\site-packages (22.3.1)\n",
      "Collecting pip\n",
      "  Using cached pip-23.0.1-py3-none-any.whl (2.1 MB)\n",
      "Installing collected packages: pip\n",
      "  Attempting uninstall: pip\n",
      "    Found existing installation: pip 22.3.1\n",
      "    Uninstalling pip-22.3.1:\n",
      "      Successfully uninstalled pip-22.3.1\n",
      "Successfully installed pip-23.0.1\n",
      "Note: you may need to restart the kernel to use updated packages.\n"
     ]
    }
   ],
   "source": [
    "pip install --upgrade pip"
   ]
  },
  {
   "cell_type": "code",
   "execution_count": 10,
   "id": "f72c7f18",
   "metadata": {},
   "outputs": [
    {
     "name": "stdout",
     "output_type": "stream",
     "text": [
      "Collecting ACO-Pants\n",
      "  Downloading ACO-Pants-0.5.2.tar.gz (15 kB)\n",
      "  Preparing metadata (setup.py): started\n",
      "  Preparing metadata (setup.py): finished with status 'done'\n",
      "Building wheels for collected packages: ACO-Pants\n",
      "  Building wheel for ACO-Pants (setup.py): started\n",
      "  Building wheel for ACO-Pants (setup.py): finished with status 'done'\n",
      "  Created wheel for ACO-Pants: filename=ACO_Pants-0.5.2-py3-none-any.whl size=18860 sha256=c423d4bc600c2c2f51ada92e607e8288008a890fd781538bbadbe34bcc816a7e\n",
      "  Stored in directory: c:\\users\\rodri\\appdata\\local\\pip\\cache\\wheels\\cb\\6c\\48\\37101c4b57b38cd908674550cf8a57db6977177dcc8f216c4c\n",
      "Successfully built ACO-Pants\n",
      "Installing collected packages: ACO-Pants\n",
      "Successfully installed ACO-Pants-0.5.2\n",
      "Note: you may need to restart the kernel to use updated packages.\n"
     ]
    }
   ],
   "source": [
    "pip install ACO-Pants"
   ]
  },
  {
   "cell_type": "code",
   "execution_count": 5,
   "id": "ae2dbf6a",
   "metadata": {},
   "outputs": [
    {
     "data": {
      "text/plain": [
       "'3.9.7'"
      ]
     },
     "execution_count": 5,
     "metadata": {},
     "output_type": "execute_result"
    }
   ],
   "source": [
    "from platform import python_version\n",
    "python_version()"
   ]
  },
  {
   "cell_type": "code",
   "execution_count": 4,
   "id": "cab66624",
   "metadata": {},
   "outputs": [
    {
     "ename": "ModuleNotFoundError",
     "evalue": "No module named 'aco_routing'",
     "output_type": "error",
     "traceback": [
      "\u001b[1;31m---------------------------------------------------------------------------\u001b[0m",
      "\u001b[1;31mModuleNotFoundError\u001b[0m                       Traceback (most recent call last)",
      "\u001b[1;32m~\\AppData\\Local\\Temp/ipykernel_15640/2571525113.py\u001b[0m in \u001b[0;36m<module>\u001b[1;34m\u001b[0m\n\u001b[0;32m      4\u001b[0m \u001b[1;32mimport\u001b[0m \u001b[0mmath\u001b[0m\u001b[1;33m\u001b[0m\u001b[1;33m\u001b[0m\u001b[0m\n\u001b[0;32m      5\u001b[0m \u001b[1;32mimport\u001b[0m \u001b[0mrandom\u001b[0m\u001b[1;33m\u001b[0m\u001b[1;33m\u001b[0m\u001b[0m\n\u001b[1;32m----> 6\u001b[1;33m \u001b[1;32mfrom\u001b[0m \u001b[0maco_routing\u001b[0m\u001b[1;33m.\u001b[0m\u001b[0mutils\u001b[0m\u001b[1;33m.\u001b[0m\u001b[0mgraph\u001b[0m \u001b[1;32mimport\u001b[0m \u001b[0mGraph\u001b[0m\u001b[1;33m\u001b[0m\u001b[1;33m\u001b[0m\u001b[0m\n\u001b[0m",
      "\u001b[1;31mModuleNotFoundError\u001b[0m: No module named 'aco_routing'"
     ]
    }
   ],
   "source": [
    "import random\n",
    "import numpy as np\n",
    "import pants\n",
    "import math\n",
    "import random\n",
    "from aco_routing.utils.graph import Graph"
   ]
  },
  {
   "cell_type": "code",
   "execution_count": 3,
   "id": "616d3c75",
   "metadata": {},
   "outputs": [
    {
     "ename": "NameError",
     "evalue": "name 'Graph' is not defined",
     "output_type": "error",
     "traceback": [
      "\u001b[1;31m---------------------------------------------------------------------------\u001b[0m",
      "\u001b[1;31mNameError\u001b[0m                                 Traceback (most recent call last)",
      "\u001b[1;32m~\\AppData\\Local\\Temp/ipykernel_15640/1919751151.py\u001b[0m in \u001b[0;36m<module>\u001b[1;34m\u001b[0m\n\u001b[0;32m     19\u001b[0m \u001b[1;33m\u001b[0m\u001b[0m\n\u001b[0;32m     20\u001b[0m \u001b[1;31m# Define the optimization problem\u001b[0m\u001b[1;33m\u001b[0m\u001b[1;33m\u001b[0m\u001b[0m\n\u001b[1;32m---> 21\u001b[1;33m \u001b[0mgraph\u001b[0m \u001b[1;33m=\u001b[0m \u001b[0mGraph\u001b[0m\u001b[1;33m(\u001b[0m\u001b[0mdistance_function\u001b[0m\u001b[1;33m=\u001b[0m\u001b[0mfitness\u001b[0m\u001b[1;33m,\u001b[0m \u001b[0mpheromone_function\u001b[0m\u001b[1;33m=\u001b[0m\u001b[1;32mlambda\u001b[0m \u001b[0mx\u001b[0m\u001b[1;33m:\u001b[0m \u001b[1;36m1\u001b[0m\u001b[1;33m/\u001b[0m\u001b[0mx\u001b[0m\u001b[1;33m)\u001b[0m\u001b[1;33m\u001b[0m\u001b[1;33m\u001b[0m\u001b[0m\n\u001b[0m\u001b[0;32m     22\u001b[0m \u001b[1;33m\u001b[0m\u001b[0m\n\u001b[0;32m     23\u001b[0m \u001b[1;31m# Set the parameters for the ant algorithm\u001b[0m\u001b[1;33m\u001b[0m\u001b[1;33m\u001b[0m\u001b[0m\n",
      "\u001b[1;31mNameError\u001b[0m: name 'Graph' is not defined"
     ]
    }
   ],
   "source": [
    "# Define the size of the stoichiometric matrix\n",
    "N_ROWS = 10\n",
    "N_COLS = 20\n",
    "\n",
    "# Define the bounds for the optimization variable\n",
    "MIN_VAL = 0.0\n",
    "MAX_VAL = 1.0\n",
    "\n",
    "# Define the fitness function\n",
    "def fitness(x):\n",
    "    # Construct the stoichiometric matrix\n",
    "    matrix = np.zeros((N_ROWS, N_COLS))\n",
    "    matrix[:, 0] = 1.0\n",
    "    matrix[:, 1] = x\n",
    "    # Calculate the product of the stoichiometric matrix\n",
    "    result = np.prod(np.sum(matrix, axis=1))\n",
    "    # Return the fitness value\n",
    "    return result\n",
    "\n",
    "# Define the optimization problem\n",
    "graph = Graph(distance_function=fitness, pheromone_function=lambda x: 1/x)\n",
    "\n",
    "# Set the parameters for the ant algorithm\n",
    "NUM_ANTS = 100\n",
    "NUM_ITERATIONS = 50\n",
    "EVAPORATION_RATE = 0.5\n",
    "\n",
    "# Create the ant colony optimization instance\n",
    "aco = ACO(num_ants=NUM_ANTS, graph=graph, evaporation_rate=EVAPORATION_RATE)\n",
    "\n",
    "# Run the ant algorithm\n",
    "best_path, best_value = aco.run(num_iterations=NUM_ITERATIONS)\n",
    "\n",
    "# Print the best value\n",
    "print(\"Best value: \", 1/best_value)"
   ]
  },
  {
   "cell_type": "code",
   "execution_count": null,
   "id": "4bae2dc1",
   "metadata": {},
   "outputs": [],
   "source": []
  }
 ],
 "metadata": {
  "kernelspec": {
   "display_name": "Python 3 (ipykernel)",
   "language": "python",
   "name": "python3"
  },
  "language_info": {
   "codemirror_mode": {
    "name": "ipython",
    "version": 3
   },
   "file_extension": ".py",
   "mimetype": "text/x-python",
   "name": "python",
   "nbconvert_exporter": "python",
   "pygments_lexer": "ipython3",
   "version": "3.9.7"
  }
 },
 "nbformat": 4,
 "nbformat_minor": 5
}
