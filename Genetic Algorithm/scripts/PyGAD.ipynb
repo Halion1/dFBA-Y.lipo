{
 "cells": [
  {
   "cell_type": "code",
   "execution_count": 1,
   "id": "329a2066",
   "metadata": {},
   "outputs": [
    {
     "name": "stdout",
     "output_type": "stream",
     "text": [
      "Collecting pygad\n",
      "  Downloading pygad-3.0.1-py3-none-any.whl (67 kB)\n",
      "\u001b[K     |████████████████████████████████| 67 kB 258 kB/s eta 0:00:01\n",
      "\u001b[?25hRequirement already satisfied: matplotlib in /home/jeremy/anaconda3/envs/dfba/lib/python3.7/site-packages (from pygad) (3.5.3)\n",
      "Collecting cloudpickle\n",
      "  Downloading cloudpickle-2.2.1-py3-none-any.whl (25 kB)\n",
      "Requirement already satisfied: numpy in /home/jeremy/anaconda3/envs/dfba/lib/python3.7/site-packages (from pygad) (1.21.6)\n",
      "Requirement already satisfied: pillow>=6.2.0 in /home/jeremy/anaconda3/envs/dfba/lib/python3.7/site-packages (from matplotlib->pygad) (9.5.0)\n",
      "Requirement already satisfied: cycler>=0.10 in /home/jeremy/anaconda3/envs/dfba/lib/python3.7/site-packages (from matplotlib->pygad) (0.11.0)\n",
      "Requirement already satisfied: packaging>=20.0 in /home/jeremy/anaconda3/envs/dfba/lib/python3.7/site-packages (from matplotlib->pygad) (21.3)\n",
      "Requirement already satisfied: fonttools>=4.22.0 in /home/jeremy/anaconda3/envs/dfba/lib/python3.7/site-packages (from matplotlib->pygad) (4.38.0)\n",
      "Requirement already satisfied: pyparsing>=2.2.1 in /home/jeremy/anaconda3/envs/dfba/lib/python3.7/site-packages (from matplotlib->pygad) (3.0.4)\n",
      "Requirement already satisfied: kiwisolver>=1.0.1 in /home/jeremy/anaconda3/envs/dfba/lib/python3.7/site-packages (from matplotlib->pygad) (1.4.4)\n",
      "Requirement already satisfied: python-dateutil>=2.7 in /home/jeremy/anaconda3/envs/dfba/lib/python3.7/site-packages (from matplotlib->pygad) (2.8.2)\n",
      "Requirement already satisfied: typing-extensions in /home/jeremy/anaconda3/envs/dfba/lib/python3.7/site-packages (from kiwisolver>=1.0.1->matplotlib->pygad) (4.2.0)\n",
      "Requirement already satisfied: six>=1.5 in /home/jeremy/anaconda3/envs/dfba/lib/python3.7/site-packages (from python-dateutil>=2.7->matplotlib->pygad) (1.16.0)\n",
      "Installing collected packages: cloudpickle, pygad\n",
      "Successfully installed cloudpickle-2.2.1 pygad-3.0.1\n",
      "Note: you may need to restart the kernel to use updated packages.\n"
     ]
    }
   ],
   "source": [
    "pip install pygad"
   ]
  },
  {
   "cell_type": "code",
   "execution_count": 7,
   "id": "aee7b2d2",
   "metadata": {},
   "outputs": [],
   "source": [
    "import pygad\n",
    "import numpy"
   ]
  },
  {
   "cell_type": "code",
   "execution_count": 8,
   "id": "040fd828",
   "metadata": {},
   "outputs": [],
   "source": [
    "function_inputs = [4, -2, 3.5, 5, -11, -4.7] # Function inputs.\n",
    "desired_output = 44 # Function output.\n",
    "\n",
    "def fitness_func(ga_instance, solution, solution_idx):\n",
    "    output = numpy.sum(solution*function_inputs)\n",
    "    fitness = 1.0 / numpy.abs(output - desired_output)\n",
    "    return fitness"
   ]
  },
  {
   "cell_type": "code",
   "execution_count": 9,
   "id": "0844eadd",
   "metadata": {},
   "outputs": [],
   "source": [
    "num_generations = 50\n",
    "num_parents_mating = 4\n",
    "\n",
    "fitness_function = fitness_func\n",
    "\n",
    "sol_per_pop = 8\n",
    "num_genes = len(function_inputs)\n",
    "\n",
    "init_range_low = -2\n",
    "init_range_high = 5\n",
    "\n",
    "parent_selection_type = \"sss\"\n",
    "keep_parents = 1\n",
    "\n",
    "crossover_type = \"single_point\"\n",
    "\n",
    "mutation_type = \"random\"\n",
    "mutation_percent_genes = 10\n"
   ]
  },
  {
   "cell_type": "code",
   "execution_count": 10,
   "id": "964fe92b",
   "metadata": {},
   "outputs": [],
   "source": [
    "def on_gen(ga_instance):\n",
    "    print(\"Generation : \", ga_instance.generations_completed)\n",
    "    print(\"Fitness of the best solution :\", ga_instance.best_solution()[1])"
   ]
  },
  {
   "cell_type": "code",
   "execution_count": 11,
   "id": "974e171b",
   "metadata": {},
   "outputs": [],
   "source": [
    "ga_instance = pygad.GA(num_generations=num_generations,\n",
    "                       num_parents_mating=num_parents_mating,\n",
    "                       fitness_func=fitness_function,\n",
    "                       sol_per_pop=sol_per_pop,\n",
    "                       num_genes=num_genes,\n",
    "                       init_range_low=init_range_low,\n",
    "                       init_range_high=init_range_high,\n",
    "                       parent_selection_type=parent_selection_type,\n",
    "                       keep_parents=keep_parents,\n",
    "                       crossover_type=crossover_type,\n",
    "                       mutation_type=mutation_type,\n",
    "                       mutation_percent_genes=mutation_percent_genes)"
   ]
  },
  {
   "cell_type": "code",
   "execution_count": 12,
   "id": "f2bcdf4f",
   "metadata": {},
   "outputs": [],
   "source": [
    "ga_instance.run()"
   ]
  },
  {
   "cell_type": "code",
   "execution_count": 13,
   "id": "bb051489",
   "metadata": {},
   "outputs": [
    {
     "data": {
      "image/png": "[encoded data removed]",
      "text/plain": [
       "<Figure size 432x288 with 1 Axes>"
      ]
     },
     "metadata": {
      "needs_background": "light"
     },
     "output_type": "display_data"
    },
    {
     "data": {
      "image/png": "[encoded data removed]",
      "text/plain": [
       "<Figure size 432x288 with 1 Axes>"
      ]
     },
     "execution_count": 13,
     "metadata": {},
     "output_type": "execute_result"
    }
   ],
   "source": [
    "ga_instance.plot_fitness()"
   ]
  },
  {
   "cell_type": "code",
   "execution_count": null,
   "id": "8aa358ba",
   "metadata": {},
   "outputs": [],
   "source": []
  }
 ],
 "metadata": {
  "kernelspec": {
   "display_name": "Python 3 (ipykernel)",
   "language": "python",
   "name": "python3"
  },
  "language_info": {
   "codemirror_mode": {
    "name": "ipython",
    "version": 3
   },
   "file_extension": ".py",
   "mimetype": "text/x-python",
   "name": "python",
   "nbconvert_exporter": "python",
   "pygments_lexer": "ipython3",
   "version": "3.7.13"
  }
 },
 "nbformat": 4,
 "nbformat_minor": 5
}
