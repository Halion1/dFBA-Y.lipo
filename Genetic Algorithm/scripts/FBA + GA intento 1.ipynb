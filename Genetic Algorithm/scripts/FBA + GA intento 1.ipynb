{
 "cells": [
  {
   "cell_type": "code",
   "execution_count": 1,
   "id": "9fd9fb39",
   "metadata": {},
   "outputs": [],
   "source": [
    "# Import necessary packages\n",
    "import numpy as np\n",
    "import cobra\n",
    "import cobra.flux_analysis\n",
    "import pygad\n",
    "import copy\n",
    "import matplotlib.pyplot as plt"
   ]
  },
  {
   "cell_type": "code",
   "execution_count": 2,
   "id": "4489e0e8",
   "metadata": {},
   "outputs": [],
   "source": [
    "from cobra.io import load_model"
   ]
  },
  {
   "cell_type": "code",
   "execution_count": 3,
   "id": "5d055086",
   "metadata": {},
   "outputs": [
    {
     "name": "stdout",
     "output_type": "stream",
     "text": [
      "Scaling...\n",
      " A: min|aij| =  1.000e+00  max|aij| =  1.000e+00  ratio =  1.000e+00\n",
      "Problem data seem to be well scaled\n"
     ]
    }
   ],
   "source": [
    "# Load a metabolic model\n",
    "model = load_model(\"e_coli_core\")"
   ]
  },
  {
   "cell_type": "code",
   "execution_count": 4,
   "id": "634dc049",
   "metadata": {},
   "outputs": [],
   "source": [
    "model2 = load_model(\"e_coli_core\")"
   ]
  },
  {
   "cell_type": "code",
   "execution_count": 5,
   "id": "953a0dd8",
   "metadata": {},
   "outputs": [
    {
     "data": {
      "text/plain": [
       "[<Reaction PFK at 0x7f8b653051d0>,\n",
       " <Reaction PFL at 0x7f8bbca213d0>,\n",
       " <Reaction PGI at 0x7f8bbca226d0>,\n",
       " <Reaction PGK at 0x7f8bbca24ad0>,\n",
       " <Reaction PGL at 0x7f8bbca24a50>,\n",
       " <Reaction ACALD at 0x7f8bbca24550>,\n",
       " <Reaction AKGt2r at 0x7f8bbca27290>,\n",
       " <Reaction PGM at 0x7f8bbc9a8fd0>,\n",
       " <Reaction PIt2r at 0x7f8bbca27d50>,\n",
       " <Reaction ALCD2x at 0x7f8bbc9aac50>,\n",
       " <Reaction ACALDt at 0x7f8bbc9ab950>,\n",
       " <Reaction ACKr at 0x7f8bbc9aba90>,\n",
       " <Reaction PPC at 0x7f8bbc9ab850>,\n",
       " <Reaction ACONTa at 0x7f8bbc9ade50>,\n",
       " <Reaction ACONTb at 0x7f8bbc9ace90>,\n",
       " <Reaction ATPM at 0x7f8bbc9b15d0>,\n",
       " <Reaction PPCK at 0x7f8bbca21cd0>,\n",
       " <Reaction ACt2r at 0x7f8bbc9ae090>,\n",
       " <Reaction PPS at 0x7f8bbc9b1b50>,\n",
       " <Reaction ADK1 at 0x7f8bbc9b1790>,\n",
       " <Reaction AKGDH at 0x7f8bbc9ad6d0>,\n",
       " <Reaction ATPS4r at 0x7f8bbc9b9790>,\n",
       " <Reaction PTAr at 0x7f8bbc9c5490>,\n",
       " <Reaction PYK at 0x7f8bbc9caa90>,\n",
       " <Reaction BIOMASS_Ecoli_core_w_GAM at 0x7f8bbc9ca850>,\n",
       " <Reaction PYRt2 at 0x7f8bbc9c1fd0>,\n",
       " <Reaction CO2t at 0x7f8bbc9cacd0>,\n",
       " <Reaction RPE at 0x7f8bbc9c4a50>,\n",
       " <Reaction CS at 0x7f8bbc9ca410>,\n",
       " <Reaction RPI at 0x7f8bbc9e0290>,\n",
       " <Reaction SUCCt2_2 at 0x7f8bbc9dcf90>,\n",
       " <Reaction CYTBD at 0x7f8bbc9e2a90>,\n",
       " <Reaction D_LACt2 at 0x7f8bbc9df050>,\n",
       " <Reaction ENO at 0x7f8bbc9e6e50>,\n",
       " <Reaction SUCCt3 at 0x7f8bbc96b6d0>,\n",
       " <Reaction ETOHt2r at 0x7f8bbc9e0e90>,\n",
       " <Reaction SUCDi at 0x7f8bbc9dffd0>,\n",
       " <Reaction SUCOAS at 0x7f8bbc96ff10>,\n",
       " <Reaction TALA at 0x7f8bbc974390>,\n",
       " <Reaction THD2 at 0x7f8bbc976690>,\n",
       " <Reaction TKT1 at 0x7f8bbc976890>,\n",
       " <Reaction TKT2 at 0x7f8bbc97bc90>,\n",
       " <Reaction TPI at 0x7f8bbc97e490>,\n",
       " <Reaction EX_ac_e at 0x7f8bbc97ef50>,\n",
       " <Reaction EX_acald_e at 0x7f8bbc9e6ed0>,\n",
       " <Reaction EX_akg_e at 0x7f8bbc97b490>,\n",
       " <Reaction EX_co2_e at 0x7f8bbc985150>,\n",
       " <Reaction EX_etoh_e at 0x7f8bbc983fd0>,\n",
       " <Reaction EX_for_e at 0x7f8bbc985d50>,\n",
       " <Reaction EX_fru_e at 0x7f8bbc985b10>,\n",
       " <Reaction EX_fum_e at 0x7f8bbc98b2d0>,\n",
       " <Reaction EX_glc__D_e at 0x7f8bbc98b7d0>,\n",
       " <Reaction EX_gln__L_e at 0x7f8bbc98f850>,\n",
       " <Reaction EX_glu__L_e at 0x7f8bbc98f6d0>,\n",
       " <Reaction EX_h_e at 0x7f8bbc98fd10>,\n",
       " <Reaction EX_h2o_e at 0x7f8bbc991350>,\n",
       " <Reaction EX_lac__D_e at 0x7f8bbc991590>,\n",
       " <Reaction EX_mal__L_e at 0x7f8bbc991dd0>,\n",
       " <Reaction EX_nh4_e at 0x7f8bbc999e90>,\n",
       " <Reaction EX_o2_e at 0x7f8bbc99b110>,\n",
       " <Reaction EX_pi_e at 0x7f8bbc99b350>,\n",
       " <Reaction EX_pyr_e at 0x7f8bbc99be50>,\n",
       " <Reaction EX_succ_e at 0x7f8bbc99d190>,\n",
       " <Reaction FBA at 0x7f8bbc99d5d0>,\n",
       " <Reaction FBP at 0x7f8bbc99dbd0>,\n",
       " <Reaction FORt2 at 0x7f8bbc9a2f50>,\n",
       " <Reaction FORt at 0x7f8bbc9a4b50>,\n",
       " <Reaction FRD7 at 0x7f8bbc9294d0>,\n",
       " <Reaction FRUpts2 at 0x7f8bbc929f10>,\n",
       " <Reaction FUM at 0x7f8bbc92ea90>,\n",
       " <Reaction FUMt2_2 at 0x7f8bbc9326d0>,\n",
       " <Reaction G6PDH2r at 0x7f8bbc932210>,\n",
       " <Reaction GAPD at 0x7f8bbc932710>,\n",
       " <Reaction GLCpts at 0x7f8bbc9327d0>,\n",
       " <Reaction GLNS at 0x7f8bbc936d10>,\n",
       " <Reaction GLNabc at 0x7f8bbca21b50>,\n",
       " <Reaction GLUDy at 0x7f8bbc947250>,\n",
       " <Reaction GLUN at 0x7f8bbc942d10>,\n",
       " <Reaction GLUSy at 0x7f8bbc942f90>,\n",
       " <Reaction GLUt2r at 0x7f8bbc9565d0>,\n",
       " <Reaction GND at 0x7f8bbc956450>,\n",
       " <Reaction H2Ot at 0x7f8bbc956d10>,\n",
       " <Reaction ICDHyr at 0x7f8bbc947c50>,\n",
       " <Reaction ICL at 0x7f8bbc956590>,\n",
       " <Reaction LDH_D at 0x7f8bbc964e50>,\n",
       " <Reaction MALS at 0x7f8bbc8e8150>,\n",
       " <Reaction MALt2_2 at 0x7f8bbc8f0510>,\n",
       " <Reaction MDH at 0x7f8bbc8f0990>,\n",
       " <Reaction ME1 at 0x7f8bbc8f0b90>,\n",
       " <Reaction ME2 at 0x7f8bbc8ed710>,\n",
       " <Reaction NADH16 at 0x7f8bbc8f4b90>,\n",
       " <Reaction NADTRHD at 0x7f8bbc8f9d10>,\n",
       " <Reaction NH4t at 0x7f8bbc9564d0>,\n",
       " <Reaction O2t at 0x7f8bbc90a950>,\n",
       " <Reaction PDH at 0x7f8bbc8f03d0>]"
      ]
     },
     "execution_count": 5,
     "metadata": {},
     "output_type": "execute_result"
    }
   ],
   "source": [
    "model2.reactions"
   ]
  },
  {
   "cell_type": "code",
   "execution_count": 6,
   "id": "22e8551e",
   "metadata": {},
   "outputs": [],
   "source": [
    "model2.objective='BIOMASS_Ecoli_core_w_GAM'#'y001882' #yali.reactions.xBIOMASS"
   ]
  },
  {
   "cell_type": "code",
   "execution_count": 7,
   "id": "8a3e688e",
   "metadata": {},
   "outputs": [
    {
     "data": {
      "text/html": [
       "<strong><em>Optimal</em> solution with objective value 0.874</strong><br><div>\n",
       "<style scoped>\n",
       "    .dataframe tbody tr th:only-of-type {\n",
       "        vertical-align: middle;\n",
       "    }\n",
       "\n",
       "    .dataframe tbody tr th {\n",
       "        vertical-align: top;\n",
       "    }\n",
       "\n",
       "    .dataframe thead th {\n",
       "        text-align: right;\n",
       "    }\n",
       "</style>\n",
       "<table border=\"1\" class=\"dataframe\">\n",
       "  <thead>\n",
       "    <tr style=\"text-align: right;\">\n",
       "      <th></th>\n",
       "      <th>fluxes</th>\n",
       "      <th>reduced_costs</th>\n",
       "    </tr>\n",
       "  </thead>\n",
       "  <tbody>\n",
       "    <tr>\n",
       "      <th>PFK</th>\n",
       "      <td>7.477382</td>\n",
       "      <td>-1.387779e-17</td>\n",
       "    </tr>\n",
       "    <tr>\n",
       "      <th>PFL</th>\n",
       "      <td>0.000000</td>\n",
       "      <td>2.081668e-17</td>\n",
       "    </tr>\n",
       "    <tr>\n",
       "      <th>PGI</th>\n",
       "      <td>4.860861</td>\n",
       "      <td>0.000000e+00</td>\n",
       "    </tr>\n",
       "    <tr>\n",
       "      <th>PGK</th>\n",
       "      <td>-16.023526</td>\n",
       "      <td>6.938894e-18</td>\n",
       "    </tr>\n",
       "    <tr>\n",
       "      <th>PGL</th>\n",
       "      <td>4.959985</td>\n",
       "      <td>1.517883e-17</td>\n",
       "    </tr>\n",
       "    <tr>\n",
       "      <th>...</th>\n",
       "      <td>...</td>\n",
       "      <td>...</td>\n",
       "    </tr>\n",
       "    <tr>\n",
       "      <th>NADH16</th>\n",
       "      <td>38.534610</td>\n",
       "      <td>0.000000e+00</td>\n",
       "    </tr>\n",
       "    <tr>\n",
       "      <th>NADTRHD</th>\n",
       "      <td>0.000000</td>\n",
       "      <td>-2.546243e-03</td>\n",
       "    </tr>\n",
       "    <tr>\n",
       "      <th>NH4t</th>\n",
       "      <td>4.765319</td>\n",
       "      <td>-1.387779e-17</td>\n",
       "    </tr>\n",
       "    <tr>\n",
       "      <th>O2t</th>\n",
       "      <td>21.799493</td>\n",
       "      <td>0.000000e+00</td>\n",
       "    </tr>\n",
       "    <tr>\n",
       "      <th>PDH</th>\n",
       "      <td>9.282533</td>\n",
       "      <td>-1.387779e-17</td>\n",
       "    </tr>\n",
       "  </tbody>\n",
       "</table>\n",
       "<p>95 rows × 2 columns</p>\n",
       "</div>"
      ],
      "text/plain": [
       "<Solution 0.874 at 0x7f8bbc90ead0>"
      ]
     },
     "execution_count": 7,
     "metadata": {},
     "output_type": "execute_result"
    }
   ],
   "source": [
    "solution = model2.optimize()\n",
    "solution"
   ]
  },
  {
   "cell_type": "code",
   "execution_count": 8,
   "id": "bb03e1f7",
   "metadata": {},
   "outputs": [
    {
     "data": {
      "text/html": [
       "<h3>Objective</h3><p>1.0 BIOMASS_Ecoli_core_w_GAM = 0.8739215069684302</p><h4>Uptake</h4><table border=\"1\" class=\"dataframe\">\n",
       "  <thead>\n",
       "    <tr style=\"text-align: right;\">\n",
       "      <th>Metabolite</th>\n",
       "      <th>Reaction</th>\n",
       "      <th>Flux</th>\n",
       "      <th>C-Number</th>\n",
       "      <th>C-Flux</th>\n",
       "    </tr>\n",
       "  </thead>\n",
       "  <tbody>\n",
       "    <tr>\n",
       "      <td>glc__D_e</td>\n",
       "      <td>EX_glc__D_e</td>\n",
       "      <td>10</td>\n",
       "      <td>6</td>\n",
       "      <td>100.00%</td>\n",
       "    </tr>\n",
       "    <tr>\n",
       "      <td>nh4_e</td>\n",
       "      <td>EX_nh4_e</td>\n",
       "      <td>4.765</td>\n",
       "      <td>0</td>\n",
       "      <td>0.00%</td>\n",
       "    </tr>\n",
       "    <tr>\n",
       "      <td>o2_e</td>\n",
       "      <td>EX_o2_e</td>\n",
       "      <td>21.8</td>\n",
       "      <td>0</td>\n",
       "      <td>0.00%</td>\n",
       "    </tr>\n",
       "    <tr>\n",
       "      <td>pi_e</td>\n",
       "      <td>EX_pi_e</td>\n",
       "      <td>3.215</td>\n",
       "      <td>0</td>\n",
       "      <td>0.00%</td>\n",
       "    </tr>\n",
       "  </tbody>\n",
       "</table><h4>Secretion</h4><table border=\"1\" class=\"dataframe\">\n",
       "  <thead>\n",
       "    <tr style=\"text-align: right;\">\n",
       "      <th>Metabolite</th>\n",
       "      <th>Reaction</th>\n",
       "      <th>Flux</th>\n",
       "      <th>C-Number</th>\n",
       "      <th>C-Flux</th>\n",
       "    </tr>\n",
       "  </thead>\n",
       "  <tbody>\n",
       "    <tr>\n",
       "      <td>co2_e</td>\n",
       "      <td>EX_co2_e</td>\n",
       "      <td>-22.81</td>\n",
       "      <td>1</td>\n",
       "      <td>100.00%</td>\n",
       "    </tr>\n",
       "    <tr>\n",
       "      <td>h2o_e</td>\n",
       "      <td>EX_h2o_e</td>\n",
       "      <td>-29.18</td>\n",
       "      <td>0</td>\n",
       "      <td>0.00%</td>\n",
       "    </tr>\n",
       "    <tr>\n",
       "      <td>h_e</td>\n",
       "      <td>EX_h_e</td>\n",
       "      <td>-17.53</td>\n",
       "      <td>0</td>\n",
       "      <td>0.00%</td>\n",
       "    </tr>\n",
       "  </tbody>\n",
       "</table>"
      ],
      "text/plain": [
       "<cobra.summary.model_summary.ModelSummary at 0x7f8b65311950>"
      ]
     },
     "execution_count": 8,
     "metadata": {},
     "output_type": "execute_result"
    }
   ],
   "source": [
    "model2.summary()"
   ]
  },
  {
   "cell_type": "code",
   "execution_count": 9,
   "id": "16515955",
   "metadata": {},
   "outputs": [],
   "source": [
    "def fitness_func(ga_instance, solution, solution_idx):\n",
    "    # Create a deep copy of the model\n",
    "    model_copy = copy.deepcopy(model)\n",
    "    \n",
    "    # Manipulate the model with the solution\n",
    "    for i, reaction in enumerate(model.reactions):\n",
    "        flux = solution[i]\n",
    "        if flux >= 0:\n",
    "            reaction.lower_bound = 0\n",
    "            reaction.upper_bound = flux\n",
    "        else:\n",
    "            reaction.lower_bound = flux\n",
    "            reaction.upper_bound = 0\n",
    "            \n",
    "    # Check mass balance\n",
    "    for reaction in model.reactions:\n",
    "        if not reaction.check_mass_balance() == {}:\n",
    "            # If the mass balance is violated, return a low fitness value\n",
    "            # or eliminate this solution\n",
    "            return 0\n",
    "\n",
    "    # Perform FBA\n",
    "    solution = model.optimize()\n",
    "    print(solution)\n",
    "    \n",
    "    # Return the objective value (biomass production)\n",
    "    return solution.objective_value"
   ]
  },
  {
   "cell_type": "code",
   "execution_count": 10,
   "id": "673a6984",
   "metadata": {},
   "outputs": [],
   "source": [
    "# Create a GA instance\n",
    "ga_instance = pygad.GA(\n",
    "    num_generations=100,\n",
    "    num_parents_mating=5,\n",
    "    fitness_func=fitness_func,\n",
    "    sol_per_pop=10,\n",
    "    num_genes=len(model.reactions)*2,\n",
    "    gene_type=float,\n",
    "    init_range_low=0.0,\n",
    "    init_range_high=1000.0,\n",
    ")"
   ]
  },
  {
   "cell_type": "code",
   "execution_count": 11,
   "id": "1a7886f2",
   "metadata": {},
   "outputs": [],
   "source": [
    "# Run the GA\n",
    "ga_instance.run()"
   ]
  },
  {
   "cell_type": "code",
   "execution_count": 12,
   "id": "0a5df024",
   "metadata": {
    "scrolled": true
   },
   "outputs": [
    {
     "name": "stdout",
     "output_type": "stream",
     "text": [
      "Best solution:  [316.73355288 371.38522066 376.89751372 981.31689688 448.39351426\n",
      " 600.44736993 380.00916038 377.83531635 508.12918743 126.61753601\n",
      " 974.56653339 364.29842046 347.74547532 668.00548022 790.25668584\n",
      "  16.63052821 586.88456309 851.92340236  82.35087179 702.11156265\n",
      "   6.94609317 312.41203879 402.32252993 381.83343061 680.71218677\n",
      " 136.72808864 662.01164827 905.62976738 655.30616007  77.59950975\n",
      " 109.34343769 200.79813613 842.44385637 293.54937211  53.2713141\n",
      " 491.68429537 481.22575661 973.08973342 258.52689898 197.81091372\n",
      "  59.35546721 377.68360029 370.74399623 484.49579367 560.96771438\n",
      " 946.18107723  30.97020783  30.58263085 691.06729894 836.54556513\n",
      " 713.6093019  904.76440146 341.35994354 709.06861266 475.27822738\n",
      " 964.74446969 550.52851853 865.70330453 633.74260248 437.47394461\n",
      " 955.10130303 963.53619282 547.29398303 723.43960122   9.24579032\n",
      " 221.53202719 481.24066113 910.76971897  24.76798986 787.41096202\n",
      " 501.4453364   56.97222004 841.6850031  594.06543315 696.78134126\n",
      "  13.45432107 965.68059691 876.60778961  93.95894673 588.90175136\n",
      " 282.72434512 709.34718713 262.51306157 851.99293885 404.77186252\n",
      "  10.01951576 360.81311355 289.57874753 423.97430862  51.75184624\n",
      " 207.05383031 876.17226547 914.35018705 575.62323699 417.32063502\n",
      " 744.55753131 302.40324911 334.81676738 657.13350904 946.24452366\n",
      "   1.88819487 602.07306199   4.50271624 462.9633341  280.44015685\n",
      " 278.3522127  863.41001603 913.84234739 140.5354571  603.74530065\n",
      " 385.63967911 354.74391293 142.73579864 610.44948127  74.79275121\n",
      " 216.27567238 642.14054129 400.23502077 516.029243   809.19732809\n",
      " 671.11174909  59.01748556 275.36155228 674.15227461   3.16298043\n",
      " 820.15146208 105.41146672 628.55851881 392.67483251 518.16102878\n",
      " 820.02767734 653.61857177 483.14783866 828.80390075 379.16923032\n",
      " 308.27926888 897.14782205 972.15833384 317.64344694 691.71006477\n",
      " 148.03673417 209.55675855 932.79289505 837.17591467 249.63685829\n",
      " 912.5899308  992.3024993  683.81280729 686.49683583   2.8276368\n",
      " 879.17923097 383.36447861 425.74231605 552.06652209 735.46344144\n",
      " 795.39595239 280.95480172  71.20151438 187.7282297  574.70036899\n",
      " 733.31458403 602.72250019 687.76282843 607.52163271 802.0708078\n",
      " 679.75936986 392.85911201   4.75989002 361.76652555  17.14641291\n",
      "  62.06196598 178.18201563 444.82678678 466.93448389 634.67581928\n",
      " 603.29182187 162.21975867 444.67206642 322.41483225 899.04090862\n",
      " 216.2484875   17.34669429  88.67210974 986.43750656 655.24943721\n",
      "  13.85815191 312.403996   872.08979918  10.21596203 974.40387765]\n",
      "Best solution fitness:  0\n"
     ]
    }
   ],
   "source": [
    "# Return the best solution\n",
    "solution, solution_fitness, solution_idx = ga_instance.best_solution()\n",
    "print(\"Best solution: \", solution)\n",
    "print(\"Best solution fitness: \", solution_fitness)"
   ]
  },
  {
   "cell_type": "code",
   "execution_count": 13,
   "id": "28c2691b",
   "metadata": {},
   "outputs": [
    {
     "data": {
      "image/png": "[encoded data removed]",
      "text/plain": [
       "<Figure size 432x288 with 1 Axes>"
      ]
     },
     "metadata": {
      "needs_background": "light"
     },
     "output_type": "display_data"
    },
    {
     "data": {
      "image/png": "[encoded data removed]",
      "text/plain": [
       "<Figure size 432x288 with 1 Axes>"
      ]
     },
     "execution_count": 13,
     "metadata": {},
     "output_type": "execute_result"
    }
   ],
   "source": [
    "ga_instance.plot_fitness()"
   ]
  },
  {
   "cell_type": "code",
   "execution_count": 14,
   "id": "9cbeaf6a",
   "metadata": {},
   "outputs": [
    {
     "name": "stdout",
     "output_type": "stream",
     "text": [
      "Original biomass production: 0.0\n",
      "Optimized biomass production: 0.0\n"
     ]
    }
   ],
   "source": [
    "# Evaluate original model\n",
    "original_solution = model.optimize()\n",
    "original_biomass = original_solution.objective_value\n",
    "\n",
    "# Evaluate optimized model\n",
    "model_copy = model.copy()\n",
    "for i, reaction in enumerate(model_copy.reactions):\n",
    "    flux = solution[i]\n",
    "    if flux >= 0:\n",
    "        reaction.lower_bound = 0\n",
    "        reaction.upper_bound = flux\n",
    "    else:\n",
    "        reaction.lower_bound = flux\n",
    "        reaction.upper_bound = 0\n",
    "optimized_solution = model_copy.optimize()\n",
    "optimized_biomass = optimized_solution.objective_value\n",
    "\n",
    "# Compare biomass production\n",
    "print(f\"Original biomass production: {original_biomass}\")\n",
    "print(f\"Optimized biomass production: {optimized_biomass}\")\n"
   ]
  },
  {
   "cell_type": "code",
   "execution_count": 15,
   "id": "00afdb64",
   "metadata": {},
   "outputs": [
    {
     "data": {
      "image/png": "[encoded data removed]",
      "text/plain": [
       "<Figure size 864x432 with 2 Axes>"
      ]
     },
     "metadata": {
      "needs_background": "light"
     },
     "output_type": "display_data"
    }
   ],
   "source": [
    "# Compare flux distributions\n",
    "plt.figure(figsize=(12, 6))\n",
    "\n",
    "plt.subplot(1, 2, 1)\n",
    "plt.hist([flux for flux in original_solution.fluxes if abs(flux) > 1e-6])  # exclude near-zero fluxes\n",
    "plt.title(\"Original Flux Distribution\")\n",
    "plt.xlabel(\"Flux\")\n",
    "plt.ylabel(\"Frequency\")\n",
    "\n",
    "plt.subplot(1, 2, 2)\n",
    "plt.hist([flux for flux in optimized_solution.fluxes if abs(flux) > 1e-6])  # exclude near-zero fluxes\n",
    "plt.title(\"Optimized Flux Distribution\")\n",
    "plt.xlabel(\"Flux\")\n",
    "plt.ylabel(\"Frequency\")\n",
    "\n",
    "plt.tight_layout()\n",
    "plt.show()"
   ]
  },
  {
   "cell_type": "code",
   "execution_count": 16,
   "id": "504425ba",
   "metadata": {},
   "outputs": [
    {
     "ename": "ValueError",
     "evalue": "x and y must have same first dimension, but have shapes (1,) and (101,)",
     "output_type": "error",
     "traceback": [
      "\u001b[0;31m---------------------------------------------------------------------------\u001b[0m",
      "\u001b[0;31mValueError\u001b[0m                                Traceback (most recent call last)",
      "\u001b[0;32m/tmp/ipykernel_7444/1804141597.py\u001b[0m in \u001b[0;36m<module>\u001b[0;34m\u001b[0m\n\u001b[1;32m      1\u001b[0m \u001b[0;31m# Plot GA progress\u001b[0m\u001b[0;34m\u001b[0m\u001b[0;34m\u001b[0m\u001b[0;34m\u001b[0m\u001b[0m\n\u001b[1;32m      2\u001b[0m \u001b[0mplt\u001b[0m\u001b[0;34m.\u001b[0m\u001b[0mfigure\u001b[0m\u001b[0;34m(\u001b[0m\u001b[0mfigsize\u001b[0m\u001b[0;34m=\u001b[0m\u001b[0;34m(\u001b[0m\u001b[0;36m10\u001b[0m\u001b[0;34m,\u001b[0m \u001b[0;36m6\u001b[0m\u001b[0;34m)\u001b[0m\u001b[0;34m)\u001b[0m\u001b[0;34m\u001b[0m\u001b[0;34m\u001b[0m\u001b[0m\n\u001b[0;32m----> 3\u001b[0;31m \u001b[0mplt\u001b[0m\u001b[0;34m.\u001b[0m\u001b[0mplot\u001b[0m\u001b[0;34m(\u001b[0m\u001b[0mga_instance\u001b[0m\u001b[0;34m.\u001b[0m\u001b[0mgenerations_completed\u001b[0m\u001b[0;34m,\u001b[0m \u001b[0mga_instance\u001b[0m\u001b[0;34m.\u001b[0m\u001b[0mbest_solutions_fitness\u001b[0m\u001b[0;34m)\u001b[0m\u001b[0;34m\u001b[0m\u001b[0;34m\u001b[0m\u001b[0m\n\u001b[0m\u001b[1;32m      4\u001b[0m \u001b[0mplt\u001b[0m\u001b[0;34m.\u001b[0m\u001b[0mtitle\u001b[0m\u001b[0;34m(\u001b[0m\u001b[0;34m\"GA Progress\"\u001b[0m\u001b[0;34m)\u001b[0m\u001b[0;34m\u001b[0m\u001b[0;34m\u001b[0m\u001b[0m\n\u001b[1;32m      5\u001b[0m \u001b[0mplt\u001b[0m\u001b[0;34m.\u001b[0m\u001b[0mxlabel\u001b[0m\u001b[0;34m(\u001b[0m\u001b[0;34m\"Generation\"\u001b[0m\u001b[0;34m)\u001b[0m\u001b[0;34m\u001b[0m\u001b[0;34m\u001b[0m\u001b[0m\n",
      "\u001b[0;32m~/anaconda3/envs/dfba/lib/python3.7/site-packages/matplotlib/pyplot.py\u001b[0m in \u001b[0;36mplot\u001b[0;34m(scalex, scaley, data, *args, **kwargs)\u001b[0m\n\u001b[1;32m   2767\u001b[0m     return gca().plot(\n\u001b[1;32m   2768\u001b[0m         \u001b[0;34m*\u001b[0m\u001b[0margs\u001b[0m\u001b[0;34m,\u001b[0m \u001b[0mscalex\u001b[0m\u001b[0;34m=\u001b[0m\u001b[0mscalex\u001b[0m\u001b[0;34m,\u001b[0m \u001b[0mscaley\u001b[0m\u001b[0;34m=\u001b[0m\u001b[0mscaley\u001b[0m\u001b[0;34m,\u001b[0m\u001b[0;34m\u001b[0m\u001b[0;34m\u001b[0m\u001b[0m\n\u001b[0;32m-> 2769\u001b[0;31m         **({\"data\": data} if data is not None else {}), **kwargs)\n\u001b[0m\u001b[1;32m   2770\u001b[0m \u001b[0;34m\u001b[0m\u001b[0m\n\u001b[1;32m   2771\u001b[0m \u001b[0;34m\u001b[0m\u001b[0m\n",
      "\u001b[0;32m~/anaconda3/envs/dfba/lib/python3.7/site-packages/matplotlib/axes/_axes.py\u001b[0m in \u001b[0;36mplot\u001b[0;34m(self, scalex, scaley, data, *args, **kwargs)\u001b[0m\n\u001b[1;32m   1633\u001b[0m         \"\"\"\n\u001b[1;32m   1634\u001b[0m         \u001b[0mkwargs\u001b[0m \u001b[0;34m=\u001b[0m \u001b[0mcbook\u001b[0m\u001b[0;34m.\u001b[0m\u001b[0mnormalize_kwargs\u001b[0m\u001b[0;34m(\u001b[0m\u001b[0mkwargs\u001b[0m\u001b[0;34m,\u001b[0m \u001b[0mmlines\u001b[0m\u001b[0;34m.\u001b[0m\u001b[0mLine2D\u001b[0m\u001b[0;34m)\u001b[0m\u001b[0;34m\u001b[0m\u001b[0;34m\u001b[0m\u001b[0m\n\u001b[0;32m-> 1635\u001b[0;31m         \u001b[0mlines\u001b[0m \u001b[0;34m=\u001b[0m \u001b[0;34m[\u001b[0m\u001b[0;34m*\u001b[0m\u001b[0mself\u001b[0m\u001b[0;34m.\u001b[0m\u001b[0m_get_lines\u001b[0m\u001b[0;34m(\u001b[0m\u001b[0;34m*\u001b[0m\u001b[0margs\u001b[0m\u001b[0;34m,\u001b[0m \u001b[0mdata\u001b[0m\u001b[0;34m=\u001b[0m\u001b[0mdata\u001b[0m\u001b[0;34m,\u001b[0m \u001b[0;34m**\u001b[0m\u001b[0mkwargs\u001b[0m\u001b[0;34m)\u001b[0m\u001b[0;34m]\u001b[0m\u001b[0;34m\u001b[0m\u001b[0;34m\u001b[0m\u001b[0m\n\u001b[0m\u001b[1;32m   1636\u001b[0m         \u001b[0;32mfor\u001b[0m \u001b[0mline\u001b[0m \u001b[0;32min\u001b[0m \u001b[0mlines\u001b[0m\u001b[0;34m:\u001b[0m\u001b[0;34m\u001b[0m\u001b[0;34m\u001b[0m\u001b[0m\n\u001b[1;32m   1637\u001b[0m             \u001b[0mself\u001b[0m\u001b[0;34m.\u001b[0m\u001b[0madd_line\u001b[0m\u001b[0;34m(\u001b[0m\u001b[0mline\u001b[0m\u001b[0;34m)\u001b[0m\u001b[0;34m\u001b[0m\u001b[0;34m\u001b[0m\u001b[0m\n",
      "\u001b[0;32m~/anaconda3/envs/dfba/lib/python3.7/site-packages/matplotlib/axes/_base.py\u001b[0m in \u001b[0;36m__call__\u001b[0;34m(self, data, *args, **kwargs)\u001b[0m\n\u001b[1;32m    310\u001b[0m                 \u001b[0mthis\u001b[0m \u001b[0;34m+=\u001b[0m \u001b[0margs\u001b[0m\u001b[0;34m[\u001b[0m\u001b[0;36m0\u001b[0m\u001b[0;34m]\u001b[0m\u001b[0;34m,\u001b[0m\u001b[0;34m\u001b[0m\u001b[0;34m\u001b[0m\u001b[0m\n\u001b[1;32m    311\u001b[0m                 \u001b[0margs\u001b[0m \u001b[0;34m=\u001b[0m \u001b[0margs\u001b[0m\u001b[0;34m[\u001b[0m\u001b[0;36m1\u001b[0m\u001b[0;34m:\u001b[0m\u001b[0;34m]\u001b[0m\u001b[0;34m\u001b[0m\u001b[0;34m\u001b[0m\u001b[0m\n\u001b[0;32m--> 312\u001b[0;31m             \u001b[0;32myield\u001b[0m \u001b[0;32mfrom\u001b[0m \u001b[0mself\u001b[0m\u001b[0;34m.\u001b[0m\u001b[0m_plot_args\u001b[0m\u001b[0;34m(\u001b[0m\u001b[0mthis\u001b[0m\u001b[0;34m,\u001b[0m \u001b[0mkwargs\u001b[0m\u001b[0;34m)\u001b[0m\u001b[0;34m\u001b[0m\u001b[0;34m\u001b[0m\u001b[0m\n\u001b[0m\u001b[1;32m    313\u001b[0m \u001b[0;34m\u001b[0m\u001b[0m\n\u001b[1;32m    314\u001b[0m     \u001b[0;32mdef\u001b[0m \u001b[0mget_next_color\u001b[0m\u001b[0;34m(\u001b[0m\u001b[0mself\u001b[0m\u001b[0;34m)\u001b[0m\u001b[0;34m:\u001b[0m\u001b[0;34m\u001b[0m\u001b[0;34m\u001b[0m\u001b[0m\n",
      "\u001b[0;32m~/anaconda3/envs/dfba/lib/python3.7/site-packages/matplotlib/axes/_base.py\u001b[0m in \u001b[0;36m_plot_args\u001b[0;34m(self, tup, kwargs, return_kwargs)\u001b[0m\n\u001b[1;32m    496\u001b[0m \u001b[0;34m\u001b[0m\u001b[0m\n\u001b[1;32m    497\u001b[0m         \u001b[0;32mif\u001b[0m \u001b[0mx\u001b[0m\u001b[0;34m.\u001b[0m\u001b[0mshape\u001b[0m\u001b[0;34m[\u001b[0m\u001b[0;36m0\u001b[0m\u001b[0;34m]\u001b[0m \u001b[0;34m!=\u001b[0m \u001b[0my\u001b[0m\u001b[0;34m.\u001b[0m\u001b[0mshape\u001b[0m\u001b[0;34m[\u001b[0m\u001b[0;36m0\u001b[0m\u001b[0;34m]\u001b[0m\u001b[0;34m:\u001b[0m\u001b[0;34m\u001b[0m\u001b[0;34m\u001b[0m\u001b[0m\n\u001b[0;32m--> 498\u001b[0;31m             raise ValueError(f\"x and y must have same first dimension, but \"\n\u001b[0m\u001b[1;32m    499\u001b[0m                              f\"have shapes {x.shape} and {y.shape}\")\n\u001b[1;32m    500\u001b[0m         \u001b[0;32mif\u001b[0m \u001b[0mx\u001b[0m\u001b[0;34m.\u001b[0m\u001b[0mndim\u001b[0m \u001b[0;34m>\u001b[0m \u001b[0;36m2\u001b[0m \u001b[0;32mor\u001b[0m \u001b[0my\u001b[0m\u001b[0;34m.\u001b[0m\u001b[0mndim\u001b[0m \u001b[0;34m>\u001b[0m \u001b[0;36m2\u001b[0m\u001b[0;34m:\u001b[0m\u001b[0;34m\u001b[0m\u001b[0;34m\u001b[0m\u001b[0m\n",
      "\u001b[0;31mValueError\u001b[0m: x and y must have same first dimension, but have shapes (1,) and (101,)"
     ]
    },
    {
     "data": {
      "image/png": "[encoded data removed]",
      "text/plain": [
       "<Figure size 720x432 with 1 Axes>"
      ]
     },
     "metadata": {
      "needs_background": "light"
     },
     "output_type": "display_data"
    }
   ],
   "source": [
    "\n",
    "# Plot GA progress\n",
    "plt.figure(figsize=(10, 6))\n",
    "plt.plot(ga_instance.generations_completed, ga_instance.best_solutions_fitness)\n",
    "plt.title(\"GA Progress\")\n",
    "plt.xlabel(\"Generation\")\n",
    "plt.ylabel(\"Best Fitness (Biomass Production)\")\n",
    "plt.show()"
   ]
  },
  {
   "cell_type": "code",
   "execution_count": null,
   "id": "bf2460b8",
   "metadata": {},
   "outputs": [],
   "source": []
  }
 ],
 "metadata": {
  "kernelspec": {
   "display_name": "Python 3 (ipykernel)",
   "language": "python",
   "name": "python3"
  },
  "language_info": {
   "codemirror_mode": {
    "name": "ipython",
    "version": 3
   },
   "file_extension": ".py",
   "mimetype": "text/x-python",
   "name": "python",
   "nbconvert_exporter": "python",
   "pygments_lexer": "ipython3",
   "version": "3.7.13"
  }
 },
 "nbformat": 4,
 "nbformat_minor": 5
}
