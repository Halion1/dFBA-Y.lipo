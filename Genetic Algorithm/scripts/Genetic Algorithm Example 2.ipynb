{
 "cells": [
  {
   "cell_type": "code",
   "execution_count": 1,
   "id": "dee2604a",
   "metadata": {},
   "outputs": [
    {
     "ename": "TypeError",
     "evalue": "'numpy.float64' object does not support item assignment",
     "output_type": "error",
     "traceback": [
      "\u001b[1;31m---------------------------------------------------------------------------\u001b[0m",
      "\u001b[1;31mTypeError\u001b[0m                                 Traceback (most recent call last)",
      "\u001b[1;32m~\\AppData\\Local\\Temp/ipykernel_17176/3478769337.py\u001b[0m in \u001b[0;36m<module>\u001b[1;34m\u001b[0m\n\u001b[0;32m     62\u001b[0m     \u001b[1;32mfor\u001b[0m \u001b[0mind\u001b[0m \u001b[1;32min\u001b[0m \u001b[0moffspring\u001b[0m\u001b[1;33m:\u001b[0m\u001b[1;33m\u001b[0m\u001b[1;33m\u001b[0m\u001b[0m\n\u001b[0;32m     63\u001b[0m         \u001b[1;32mif\u001b[0m \u001b[0mrandom\u001b[0m\u001b[1;33m.\u001b[0m\u001b[0mrandom\u001b[0m\u001b[1;33m(\u001b[0m\u001b[1;33m)\u001b[0m \u001b[1;33m<\u001b[0m \u001b[0mMUTATION_PROBABILITY\u001b[0m\u001b[1;33m:\u001b[0m\u001b[1;33m\u001b[0m\u001b[1;33m\u001b[0m\u001b[0m\n\u001b[1;32m---> 64\u001b[1;33m             \u001b[0mtoolbox\u001b[0m\u001b[1;33m.\u001b[0m\u001b[0mmutate\u001b[0m\u001b[1;33m(\u001b[0m\u001b[0mind\u001b[0m\u001b[1;33m)\u001b[0m\u001b[1;33m\u001b[0m\u001b[1;33m\u001b[0m\u001b[0m\n\u001b[0m\u001b[0;32m     65\u001b[0m             \u001b[1;32mdel\u001b[0m \u001b[0mind\u001b[0m\u001b[1;33m.\u001b[0m\u001b[0mfitness\u001b[0m\u001b[1;33m.\u001b[0m\u001b[0mvalues\u001b[0m\u001b[1;33m\u001b[0m\u001b[1;33m\u001b[0m\u001b[0m\n\u001b[0;32m     66\u001b[0m \u001b[1;33m\u001b[0m\u001b[0m\n",
      "\u001b[1;32m~\\AppData\\Local\\Temp/ipykernel_17176/3478769337.py\u001b[0m in \u001b[0;36mmutate\u001b[1;34m(matrix)\u001b[0m\n\u001b[0;32m     25\u001b[0m     \u001b[0mi\u001b[0m \u001b[1;33m=\u001b[0m \u001b[0mrandom\u001b[0m\u001b[1;33m.\u001b[0m\u001b[0mrandint\u001b[0m\u001b[1;33m(\u001b[0m\u001b[1;36m0\u001b[0m\u001b[1;33m,\u001b[0m \u001b[0mMATRIX_SIZE\u001b[0m\u001b[1;33m[\u001b[0m\u001b[1;36m0\u001b[0m\u001b[1;33m]\u001b[0m \u001b[1;33m-\u001b[0m \u001b[1;36m1\u001b[0m\u001b[1;33m)\u001b[0m\u001b[1;33m\u001b[0m\u001b[1;33m\u001b[0m\u001b[0m\n\u001b[0;32m     26\u001b[0m     \u001b[0mj\u001b[0m \u001b[1;33m=\u001b[0m \u001b[0mrandom\u001b[0m\u001b[1;33m.\u001b[0m\u001b[0mrandint\u001b[0m\u001b[1;33m(\u001b[0m\u001b[1;36m0\u001b[0m\u001b[1;33m,\u001b[0m \u001b[0mMATRIX_SIZE\u001b[0m\u001b[1;33m[\u001b[0m\u001b[1;36m1\u001b[0m\u001b[1;33m]\u001b[0m \u001b[1;33m-\u001b[0m \u001b[1;36m1\u001b[0m\u001b[1;33m)\u001b[0m\u001b[1;33m\u001b[0m\u001b[1;33m\u001b[0m\u001b[0m\n\u001b[1;32m---> 27\u001b[1;33m     \u001b[0mmatrix\u001b[0m\u001b[1;33m[\u001b[0m\u001b[0mi\u001b[0m\u001b[1;33m]\u001b[0m\u001b[1;33m[\u001b[0m\u001b[0mj\u001b[0m\u001b[1;33m]\u001b[0m \u001b[1;33m=\u001b[0m \u001b[0mrandom\u001b[0m\u001b[1;33m.\u001b[0m\u001b[0mrandom\u001b[0m\u001b[1;33m(\u001b[0m\u001b[1;33m)\u001b[0m  \u001b[1;31m# Replace with your own mutation operation\u001b[0m\u001b[1;33m\u001b[0m\u001b[1;33m\u001b[0m\u001b[0m\n\u001b[0m\u001b[0;32m     28\u001b[0m \u001b[1;33m\u001b[0m\u001b[0m\n\u001b[0;32m     29\u001b[0m \u001b[1;31m# Create the individual class and population class using DEAP\u001b[0m\u001b[1;33m\u001b[0m\u001b[1;33m\u001b[0m\u001b[0m\n",
      "\u001b[1;31mTypeError\u001b[0m: 'numpy.float64' object does not support item assignment"
     ]
    }
   ],
   "source": [
    "import random\n",
    "import numpy as np\n",
    "from deap import base, creator, tools\n",
    "\n",
    "# Define the size of the population, number of generations, and other parameters\n",
    "POP_SIZE = 100\n",
    "NUM_GENERATIONS = 50\n",
    "MUTATION_PROBABILITY = 0.1\n",
    "\n",
    "# Define the size of the input matrix (e.g., a stoichiometric matrix)\n",
    "MATRIX_SIZE = (10, 10)\n",
    "\n",
    "# Define the fitness evaluation function\n",
    "# This function takes an individual (a matrix) as input and returns its fitness value\n",
    "# Fitness is typically defined as the objective function to optimize in a genetic algorithm\n",
    "def evaluate(matrix):\n",
    "    # Example fitness function: sum of all elements in the matrix\n",
    "    return np.sum(matrix),\n",
    "\n",
    "# Define the mutation operation for an individual (a matrix)\n",
    "# This function takes an individual as input and mutates it\n",
    "# Mutation can be implemented as randomly modifying the matrix\n",
    "def mutate(matrix):\n",
    "    # Example mutation: randomly modify one element in the matrix\n",
    "    i = random.randint(0, MATRIX_SIZE[0] - 1)\n",
    "    j = random.randint(0, MATRIX_SIZE[1] - 1)\n",
    "    matrix[i][j] = random.random()  # Replace with your own mutation operation\n",
    "\n",
    "# Create the individual class and population class using DEAP\n",
    "creator.create(\"FitnessMin\", base.Fitness, weights=(-1.0,))  # Minimize the fitness value\n",
    "creator.create(\"Individual\", np.ndarray, fitness=creator.FitnessMin)\n",
    "\n",
    "# Register the necessary functions and classes in the DEAP toolbox\n",
    "toolbox = base.Toolbox()\n",
    "toolbox.register(\"attr_float\", random.random)\n",
    "toolbox.register(\"individual\", tools.initRepeat, creator.Individual, toolbox.attr_float, n=MATRIX_SIZE[0] * MATRIX_SIZE[1])\n",
    "toolbox.register(\"population\", tools.initRepeat, list, toolbox.individual)\n",
    "toolbox.register(\"mate\", tools.cxOnePoint)\n",
    "toolbox.register(\"mutate\", mutate)\n",
    "toolbox.register(\"select\", tools.selTournament, tournsize=3)\n",
    "toolbox.register(\"evaluate\", evaluate)\n",
    "\n",
    "# Create the initial population\n",
    "population = toolbox.population(n=POP_SIZE)\n",
    "\n",
    "# Run the genetic algorithm\n",
    "for gen in range(NUM_GENERATIONS):\n",
    "    # Select the next generation\n",
    "    offspring = toolbox.select(population, len(population))\n",
    "    offspring = list(offspring)\n",
    "\n",
    "    # Clone the selected individuals\n",
    "    offspring_clone = [toolbox.clone(ind) for ind in offspring]\n",
    "\n",
    "    # Apply crossover and mutation to the offspring\n",
    "    for ind1, ind2 in zip(offspring[::2], offspring[1::2]):\n",
    "        if random.random() < 0.5:\n",
    "            toolbox.mate(ind1, ind2)\n",
    "            del ind1.fitness.values\n",
    "            del ind2.fitness.values\n",
    "\n",
    "    for ind in offspring:\n",
    "        if random.random() < MUTATION_PROBABILITY:\n",
    "            toolbox.mutate(ind)\n",
    "            del ind.fitness.values\n",
    "\n",
    "    # Evaluate the fitness of the offspring\n",
    "    fitnesses = toolbox.map(toolbox.evaluate, offspring_clone)\n",
    "    for ind, fit in zip(offspring_clone, fitnesses):\n",
    "        ind.fitness.values = fit\n",
    "\n",
    "    # Replace the old population with the offspring\n",
    "    population[:] = offspring_clone\n",
    "\n",
    "# Get the best individual from the final population\n",
    "best_individual = tools.selBest(population, 1)[0]\n",
    "best_matrix = np.reshape(best_individual, MATRIX_SIZE)\n",
    "\n",
    "# Print the best matrix and its fitness value\n",
    "print(\"Best matrix\")\n"
   ]
  },
  {
   "cell_type": "code",
   "execution_count": 2,
   "id": "ef5d52de",
   "metadata": {},
   "outputs": [
    {
     "name": "stdout",
     "output_type": "stream",
     "text": [
      "0.7617479013166362\n"
     ]
    }
   ],
   "source": [
    "import random\n",
    "\n",
    "print(random.random())"
   ]
  },
  {
   "cell_type": "code",
   "execution_count": 7,
   "id": "19dc7994",
   "metadata": {},
   "outputs": [
    {
     "data": {
      "text/plain": [
       "array([[0.46512305, 0.66527745, 0.35893896, 0.69745698, 0.84783487],\n",
       "       [0.884484  , 0.04218397, 0.4455238 , 0.25161307, 0.71954831],\n",
       "       [0.8643763 , 0.78332311, 0.75795632, 0.24241287, 0.08367897],\n",
       "       [0.52738094, 0.38734627, 0.72402238, 0.47580397, 0.4026507 ],\n",
       "       [0.1871806 , 0.56728277, 0.25227319, 0.42587065, 0.34111874]])"
      ]
     },
     "execution_count": 7,
     "metadata": {},
     "output_type": "execute_result"
    }
   ],
   "source": [
    "matrix = np.random.rand(5, 5)\n",
    "matrix"
   ]
  },
  {
   "cell_type": "code",
   "execution_count": 8,
   "id": "f73856c1",
   "metadata": {},
   "outputs": [],
   "source": [
    "MATRIX_SIZE = (10, 10)\n",
    "# Example mutation: randomly modify one element in the matrix\n",
    "i = random.randint(0, MATRIX_SIZE[0] - 1)\n",
    "j = random.randint(0, MATRIX_SIZE[1] - 1)\n",
    "matrix[i][j] = random.random()  # Replace with your own mutation operation"
   ]
  },
  {
   "cell_type": "code",
   "execution_count": 9,
   "id": "aec502dc",
   "metadata": {},
   "outputs": [
    {
     "name": "stdout",
     "output_type": "stream",
     "text": [
      "Best Individual: [1 1 1 1 1]\n",
      "Best Fitness Value: 14.02529195993951\n"
     ]
    },
    {
     "name": "stderr",
     "output_type": "stream",
     "text": [
      "C:\\Users\\rodri\\anaconda3\\lib\\site-packages\\deap\\creator.py:138: RuntimeWarning: A class named 'Individual' has already been created and it will be overwritten. Consider deleting previous creation of that class or rename it.\n",
      "  warnings.warn(\"A class named '{0}' has already been created and it \"\n"
     ]
    }
   ],
   "source": [
    "import random\n",
    "import numpy as np\n",
    "from deap import base, creator, tools, algorithms\n",
    "\n",
    "# Define the problem\n",
    "\n",
    "# Define the fitness function\n",
    "def evaluate(individual, matrix):\n",
    "    # individual: a binary string representing the genes of an individual\n",
    "    # matrix: the input matrix for the problem\n",
    "    # Perform some computation on the matrix using the individual\n",
    "    # Return a fitness value based on the computation result\n",
    "    # In this example, we'll just return the sum of the values in the matrix that correspond to the selected genes in the individual\n",
    "    selected_genes = np.where(individual)[0]\n",
    "    fitness = np.sum(matrix[:, selected_genes])\n",
    "    return fitness,\n",
    "\n",
    "# Define the genetic algorithm parameters\n",
    "POP_SIZE = 100\n",
    "NUM_GENERATIONS = 50\n",
    "MUTATION_RATE = 0.1\n",
    "CROSSOVER_RATE = 0.8\n",
    "TOURNAMENT_SIZE = 3\n",
    "\n",
    "# Create the input matrix (example matrix of size 5x5 with random values)\n",
    "matrix = np.random.rand(5, 5)\n",
    "\n",
    "# Create a binary string representation of the matrix for the individuals\n",
    "IND_SIZE = matrix.shape[1]\n",
    "creator.create(\"FitnessMax\", base.Fitness, weights=(1.0,))\n",
    "creator.create(\"Individual\", np.ndarray, fitness=creator.FitnessMax)\n",
    "toolbox = base.Toolbox()\n",
    "toolbox.register(\"genes\", random.randint, 0, 1)\n",
    "toolbox.register(\"individual\", tools.initRepeat, creator.Individual, toolbox.genes, n=IND_SIZE)\n",
    "toolbox.register(\"population\", tools.initRepeat, list, toolbox.individual)\n",
    "toolbox.register(\"mate\", tools.cxTwoPoint)\n",
    "toolbox.register(\"mutate\", tools.mutFlipBit, indpb=0.05)\n",
    "toolbox.register(\"select\", tools.selTournament, tournsize=TOURNAMENT_SIZE)\n",
    "toolbox.register(\"evaluate\", evaluate, matrix=matrix)\n",
    "\n",
    "# Create the initial population\n",
    "population = toolbox.population(n=POP_SIZE)\n",
    "\n",
    "# Run the genetic algorithm\n",
    "for gen in range(NUM_GENERATIONS):\n",
    "    # Evaluate the fitness of each individual in the population\n",
    "    fitnesses = map(toolbox.evaluate, population)\n",
    "    for ind, fit in zip(population, fitnesses):\n",
    "        ind.fitness.values = fit\n",
    "\n",
    "    # Select the next generation of individuals\n",
    "    offspring = toolbox.select(population, len(population))\n",
    "    offspring = list(offspring)\n",
    "\n",
    "    # Clone the selected individuals\n",
    "    offspring = list(map(toolbox.clone, offspring))\n",
    "\n",
    "    # Apply crossover and mutation to the offspring\n",
    "    for child1, child2 in zip(offspring[::2], offspring[1::2]):\n",
    "        if random.random() < CROSSOVER_RATE:\n",
    "            toolbox.mate(child1, child2)\n",
    "            del child1.fitness.values\n",
    "            del child2.fitness.values\n",
    "\n",
    "    for mutant in offspring:\n",
    "        if random.random() < MUTATION_RATE:\n",
    "            toolbox.mutate(mutant)\n",
    "            del mutant.fitness.values\n",
    "\n",
    "    # Replace the old population with the offspring\n",
    "    population[:len(offspring)] = offspring\n",
    "\n",
    "# Get the best individual in the final population\n",
    "best_individual = tools.selBest(population, 1)[0]\n",
    "\n",
    "# Print the best individual and its fitness value\n",
    "print(\"Best Individual:\", best_individual)\n",
    "print(\"Best Fitness Value:\", best_individual.fitness.values[0])\n"
   ]
  },
  {
   "cell_type": "code",
   "execution_count": null,
   "id": "b0dc5bc2",
   "metadata": {},
   "outputs": [],
   "source": []
  }
 ],
 "metadata": {
  "kernelspec": {
   "display_name": "Python 3 (ipykernel)",
   "language": "python",
   "name": "python3"
  },
  "language_info": {
   "codemirror_mode": {
    "name": "ipython",
    "version": 3
   },
   "file_extension": ".py",
   "mimetype": "text/x-python",
   "name": "python",
   "nbconvert_exporter": "python",
   "pygments_lexer": "ipython3",
   "version": "3.9.7"
  }
 },
 "nbformat": 4,
 "nbformat_minor": 5
}
