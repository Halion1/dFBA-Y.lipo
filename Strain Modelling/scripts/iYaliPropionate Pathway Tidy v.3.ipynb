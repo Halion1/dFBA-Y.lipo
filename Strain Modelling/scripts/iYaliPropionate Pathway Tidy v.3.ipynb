{
 "cells": [
  {
   "cell_type": "code",
   "execution_count": 1,
   "id": "0328a912",
   "metadata": {},
   "outputs": [],
   "source": [
    "#Importing packages\n",
    "import cobra\n",
    "import cplex\n",
    "from cobra import Model, Reaction, Metabolite\n",
    "from cobra.io import read_sbml_model\n",
    "import pandas as pd"
   ]
  },
  {
   "cell_type": "code",
   "execution_count": 2,
   "id": "2410a166",
   "metadata": {},
   "outputs": [],
   "source": [
    "#Importing model iYali\n",
    "yali = cobra.io.read_sbml_model('iYalinewPathways-Alltogether-Exchange-2.4.2 - Copy.xml')\n",
    "#yali = cobra.io.read_sbml_model('iYali-tidy v.5.xml')"
   ]
  },
  {
   "cell_type": "code",
   "execution_count": 3,
   "id": "092d9e15",
   "metadata": {},
   "outputs": [],
   "source": [
    "#Creation of all the metabolites\n",
    "propio_extr = Metabolite(\n",
    "'s_3717',\n",
    "formula='C3H5O2',\n",
    "name='Propionate[e]',\n",
    "compartment='e')\n",
    "propio_c = Metabolite(\n",
    "'s_3718',\n",
    "formula='C3H5O2',\n",
    "name='Propionate[c]',\n",
    "compartment='c')\n",
    "\n",
    "propiocoa_m = Metabolite(\n",
    "'s_1382')\n",
    "\n",
    "propiocoa_c = Metabolite(\n",
    "'s_3719',\n",
    "formula='C24H36N7O17P3S',\n",
    "name='Propionyl-CoA[c]',\n",
    "compartment='c')\n",
    "\n",
    "propecoa_c = Metabolite(\n",
    "'s_3721',\n",
    "formula='C24H38N7O17P3S',\n",
    "name='Propenoyl-CoA[c]',\n",
    "compartment='c')\n",
    "oxigen_c = Metabolite(\n",
    "'s_1275')\n",
    "hyprox_c = Metabolite(\n",
    "'s_0837')\n",
    "\n",
    "hydroxcoa_c = Metabolite(\n",
    "'s_3722',\n",
    "formula='C24H40N7O18P3S',\n",
    "name='3-hydroxypropionyl-CoA [c]',\n",
    "compartment='c')\n",
    "water_c = Metabolite(\n",
    "'s_0803')\n",
    "\n",
    "hydroxypropanoate_c = Metabolite(\n",
    "'s_3723',\n",
    "formula='C3H5O3',\n",
    "name='3-Hydroxypropanoate [c]',\n",
    "compartment='c')\n",
    "difos_c = Metabolite(\n",
    "'s_0633')\n",
    "amp_c = Metabolite(\n",
    "'s_0423')\n",
    "coe_c = Metabolite(\n",
    "'s_0529')\n",
    "atp_c = Metabolite(\n",
    "'s_0434')\n",
    "\n",
    "oxopro_c = Metabolite(\n",
    "'s_3724',\n",
    "formula='C3H4O3',\n",
    "name='3-oxopropanoate[c]',\n",
    "compartment='c')\n",
    "NAD_c = Metabolite(\n",
    "'s_1198',\n",
    "compartment='c')\n",
    "NADH_c = Metabolite(\n",
    "'s_1203')\n",
    "h_c = Metabolite(\n",
    "'s_0794')\n",
    "\n",
    "acet_c = Metabolite(\n",
    "'s_0373')\n",
    "car_c = Metabolite(\n",
    "'s_0456')\n",
    "\n",
    "rlac_m = Metabolite(\n",
    "'s_0027')\n",
    "pyr_m = Metabolite(\n",
    "'s_1401')\n",
    "NADH_m = Metabolite(\n",
    "'s_1205')\n",
    "h_m = Metabolite(\n",
    "'s_0799')\n",
    "NAD_m = Metabolite(\n",
    "'s_1200')\n",
    "\n",
    "slac_c = Metabolite(\n",
    "'s_0063')\n",
    "slac_p = Metabolite(\n",
    "'s_3725',\n",
    "formula='C3H5O3',\n",
    "name='(S)-lactate[p]',\n",
    "compartment='p')\n",
    "\n",
    "oxi_p = Metabolite(\n",
    "'s_1279')\n",
    "pyru_p = Metabolite(\n",
    "'s_0206')\n",
    "perox_p = Metabolite(\n",
    "'s_0840')\n",
    "\n",
    "atp_m = Metabolite(\n",
    "'s_0437',\n",
    "formula='C10H12N5O13P3',\n",
    "name='ATP[m]',\n",
    "compartment='m')\n",
    "adp_m = Metabolite(\n",
    "'s_0397',\n",
    "formula='C10H12N5O10P2',\n",
    "name='ADP[m]',\n",
    "compartment='m')\n",
    "smethylma_m = Metabolite(\n",
    "'s_3726',\n",
    "formula='C25H40N7O19P3S',\n",
    "name='(S)-Methylmalonyl-CoA[m]',\n",
    "compartment='m')\n",
    "\n",
    "rmethylma_m = Metabolite(\n",
    "'s_3727',\n",
    "formula='C25H40N7O19P3S',\n",
    "name='(R)-Methylmalonyl-CoA[m]',\n",
    "compartment='m')\n",
    "\n",
    "succi_m = Metabolite(\n",
    "'s_1464')\n",
    "\n",
    "acetyl_c = Metabolite(\n",
    "'s_0373')\n",
    "NADPH_c = Metabolite(\n",
    "'s_1212')\n",
    "coenzymeA_c = Metabolite(\n",
    "'s_0529')\n",
    "h2o_c = Metabolite(\n",
    "'s_0803')\n",
    "NADP_c = Metabolite(\n",
    "'s_1207')\n",
    "\n",
    "margariccoa_c = Metabolite(\n",
    "'s_3728',\n",
    "formula='C38H68N7O17P3S',\n",
    "name='Margaric-CoA[c]',\n",
    "compartment='c')\n",
    "\n",
    "margariccoa_lp = Metabolite(\n",
    "'s_3729',\n",
    "formula='C38H68N7O17P3S',\n",
    "name='Margaric-CoA[lp]',\n",
    "compartment='lp')\n",
    "\n",
    "margaric_lp = Metabolite(\n",
    "'s_3730',\n",
    "formula='C17H34O2',\n",
    "name='Margaric acid[lp]',\n",
    "compartment='lp')\n",
    "\n",
    "amp_lp = Metabolite(\n",
    "'s_2842')\n",
    "disfos_lp = Metabolite(\n",
    "'s_0635')\n",
    "atp_lp = Metabolite(\n",
    "'s_2840')\n",
    "coenzymeA_lp = Metabolite(\n",
    "'s_0531')\n",
    "\n",
    "pentidecyliccoa_c = Metabolite(\n",
    "'s_3731',\n",
    "formula='C15H30O2',\n",
    "name='Pentadecylic-CoA[c]',\n",
    "compartment='c')\n",
    "\n",
    "pentidecyliccoa_lp = Metabolite(\n",
    "'s_3732',\n",
    "formula='C15H30O2',\n",
    "name='Pentadecylic-CoA[lp]',\n",
    "compartment='lp')\n",
    "\n",
    "pentadecylic_lp = Metabolite(\n",
    "'s_3733',\n",
    "formula='C15H30O2',\n",
    "name='Pentadecylic acid[lp]',\n",
    "compartment='lp')\n",
    "\n",
    "margaric_extr = Metabolite(\n",
    "'s_3734',\n",
    "formula='C17H34O2',\n",
    "name='Margaric acid[e]',\n",
    "compartment='e')\n",
    "margaric_c = Metabolite(\n",
    "'s_3735',\n",
    "formula='C17H34O2',\n",
    "name='Margaric acid[c]',\n",
    "compartment='c')\n",
    "\n",
    "pentadecylic_extr = Metabolite(\n",
    "'s_3736',\n",
    "formula='C15H30O2',\n",
    "name='Pentadecylic acid[e]',\n",
    "compartment='e')\n",
    "pentadecylic_c = Metabolite(\n",
    "'s_3737',\n",
    "formula='C15H30O2',\n",
    "name='Pentadecylic acid[c]',\n",
    "compartment='c')\n"
   ]
  },
  {
   "cell_type": "code",
   "execution_count": 4,
   "id": "33f06dd4",
   "metadata": {},
   "outputs": [],
   "source": [
    "reaction9 = Reaction('y300091')\n",
    "reaction9.name = '(R)-Methylmalonyl-CoA CoA-carbonylmutase'\n",
    "reaction9.subsystem = 'Cell Methylmalonyl Pathway'\n",
    "reaction9.lower_bound = 0. # This is the default\n",
    "reaction9.upper_bound = 1000. # This is the default"
   ]
  },
  {
   "cell_type": "code",
   "execution_count": 5,
   "id": "abe438fc",
   "metadata": {},
   "outputs": [
    {
     "data": {
      "text/plain": [
       "'s_3727 --> s_1464'"
      ]
     },
     "execution_count": 5,
     "metadata": {},
     "output_type": "execute_result"
    }
   ],
   "source": [
    "reaction9.add_metabolites({\n",
    "rmethylma_m: -1.0,\n",
    "succi_m: 1.0,\n",
    "})\n",
    "reaction9.reaction"
   ]
  },
  {
   "cell_type": "code",
   "execution_count": 6,
   "id": "575f7c62",
   "metadata": {},
   "outputs": [
    {
     "name": "stderr",
     "output_type": "stream",
     "text": [
      "Ignoring reaction 'y300091' since it already exists.\n"
     ]
    }
   ],
   "source": [
    "yali.add_reactions([reaction9])"
   ]
  },
  {
   "cell_type": "code",
   "execution_count": 7,
   "id": "a45250ad",
   "metadata": {},
   "outputs": [
    {
     "data": {
      "text/html": [
       "\n",
       "        <table>\n",
       "            <tr>\n",
       "                <td><strong>Reaction identifier</strong></td><td>y300091</td>\n",
       "            </tr><tr>\n",
       "                <td><strong>Name</strong></td><td>(R)-Methylmalonyl-CoA CoA-carbonylmutase</td>\n",
       "            </tr><tr>\n",
       "                <td><strong>Memory address</strong></td>\n",
       "                <td>0x0196e33e4b20</td>\n",
       "            </tr><tr>\n",
       "                <td><strong>Stoichiometry</strong></td>\n",
       "                <td>\n",
       "                    <p style='text-align:right'>s_3727 <=> s_1464</p>\n",
       "                    <p style='text-align:right'>(R)-Methylmalonyl-CoA[m] <=> succinyl-CoA</p>\n",
       "                </td>\n",
       "            </tr><tr>\n",
       "                <td><strong>GPR</strong></td><td></td>\n",
       "            </tr><tr>\n",
       "                <td><strong>Lower bound</strong></td><td>-1000.0</td>\n",
       "            </tr><tr>\n",
       "                <td><strong>Upper bound</strong></td><td>1000.0</td>\n",
       "            </tr>\n",
       "        </table>\n",
       "        "
      ],
      "text/plain": [
       "<Reaction y300091 at 0x196e33e4b20>"
      ]
     },
     "execution_count": 7,
     "metadata": {},
     "output_type": "execute_result"
    }
   ],
   "source": [
    "yali.reactions.y300091"
   ]
  },
  {
   "cell_type": "code",
   "execution_count": 8,
   "id": "21c78e93",
   "metadata": {},
   "outputs": [],
   "source": [
    "reaction10 = Reaction('y300092')\n",
    "reaction10.name = 'Methylmalonyl-CoA epimerase'\n",
    "reaction10.subsystem = 'Cell Methylmalonyl Pathway'\n",
    "reaction10.lower_bound = 0. # This is the default\n",
    "reaction10.upper_bound = 1000. # This is the default"
   ]
  },
  {
   "cell_type": "code",
   "execution_count": 9,
   "id": "11d7ddbb",
   "metadata": {},
   "outputs": [
    {
     "data": {
      "text/plain": [
       "'s_3726 --> s_3727'"
      ]
     },
     "execution_count": 9,
     "metadata": {},
     "output_type": "execute_result"
    }
   ],
   "source": [
    "reaction10.add_metabolites({\n",
    "smethylma_m: -1.0,\n",
    "rmethylma_m: 1.0,\n",
    "})\n",
    "reaction10.reaction"
   ]
  },
  {
   "cell_type": "code",
   "execution_count": 10,
   "id": "c3230f2e",
   "metadata": {},
   "outputs": [
    {
     "name": "stderr",
     "output_type": "stream",
     "text": [
      "Ignoring reaction 'y300092' since it already exists.\n"
     ]
    }
   ],
   "source": [
    "yali.add_reactions([reaction10])"
   ]
  },
  {
   "cell_type": "code",
   "execution_count": 11,
   "id": "d48ecbe9",
   "metadata": {},
   "outputs": [
    {
     "data": {
      "text/html": [
       "\n",
       "        <table>\n",
       "            <tr>\n",
       "                <td><strong>Reaction identifier</strong></td><td>y300091</td>\n",
       "            </tr><tr>\n",
       "                <td><strong>Name</strong></td><td>(R)-Methylmalonyl-CoA CoA-carbonylmutase</td>\n",
       "            </tr><tr>\n",
       "                <td><strong>Memory address</strong></td>\n",
       "                <td>0x0196e33e4b20</td>\n",
       "            </tr><tr>\n",
       "                <td><strong>Stoichiometry</strong></td>\n",
       "                <td>\n",
       "                    <p style='text-align:right'>s_3727 <=> s_1464</p>\n",
       "                    <p style='text-align:right'>(R)-Methylmalonyl-CoA[m] <=> succinyl-CoA</p>\n",
       "                </td>\n",
       "            </tr><tr>\n",
       "                <td><strong>GPR</strong></td><td></td>\n",
       "            </tr><tr>\n",
       "                <td><strong>Lower bound</strong></td><td>-1000.0</td>\n",
       "            </tr><tr>\n",
       "                <td><strong>Upper bound</strong></td><td>1000.0</td>\n",
       "            </tr>\n",
       "        </table>\n",
       "        "
      ],
      "text/plain": [
       "<Reaction y300091 at 0x196e33e4b20>"
      ]
     },
     "execution_count": 11,
     "metadata": {},
     "output_type": "execute_result"
    }
   ],
   "source": [
    "yali.reactions.y300091"
   ]
  },
  {
   "cell_type": "code",
   "execution_count": 12,
   "id": "63018e9a",
   "metadata": {},
   "outputs": [],
   "source": [
    "reaction11 = Reaction('y300093')\n",
    "reaction11.name = 'Propionyl-CoA carboxylase'\n",
    "reaction11.subsystem = 'Cell Methylmalonyl Pathway'\n",
    "reaction11.lower_bound = 0. # This is the default\n",
    "reaction11.upper_bound = 1000. # This is the default"
   ]
  },
  {
   "cell_type": "code",
   "execution_count": 13,
   "id": "1f6cb505",
   "metadata": {},
   "outputs": [
    {
     "data": {
      "text/plain": [
       "'s_0437 + s_1382 --> s_0397 + s_3726'"
      ]
     },
     "execution_count": 13,
     "metadata": {},
     "output_type": "execute_result"
    }
   ],
   "source": [
    "reaction11.add_metabolites({\n",
    "propiocoa_m: -1.0,\n",
    "atp_m: -1.0,\n",
    "adp_m: 1.0,\n",
    "smethylma_m: 1.0,\n",
    "})\n",
    "reaction11.reaction"
   ]
  },
  {
   "cell_type": "code",
   "execution_count": 14,
   "id": "fd123a3f",
   "metadata": {},
   "outputs": [
    {
     "name": "stderr",
     "output_type": "stream",
     "text": [
      "Ignoring reaction 'y300093' since it already exists.\n"
     ]
    }
   ],
   "source": [
    "yali.add_reactions([reaction11])"
   ]
  },
  {
   "cell_type": "code",
   "execution_count": 15,
   "id": "9f35d7ce",
   "metadata": {},
   "outputs": [
    {
     "data": {
      "text/html": [
       "\n",
       "        <table>\n",
       "            <tr>\n",
       "                <td><strong>Reaction identifier</strong></td><td>y300093</td>\n",
       "            </tr><tr>\n",
       "                <td><strong>Name</strong></td><td>Propionyl-CoA carboxylase</td>\n",
       "            </tr><tr>\n",
       "                <td><strong>Memory address</strong></td>\n",
       "                <td>0x0196e33e4a90</td>\n",
       "            </tr><tr>\n",
       "                <td><strong>Stoichiometry</strong></td>\n",
       "                <td>\n",
       "                    <p style='text-align:right'>s_0437 + s_1382 <=> s_0397 + s_3726</p>\n",
       "                    <p style='text-align:right'>ATP + propionyl-CoA <=> ADP + (S)-Methylmalonyl-CoA[m]</p>\n",
       "                </td>\n",
       "            </tr><tr>\n",
       "                <td><strong>GPR</strong></td><td></td>\n",
       "            </tr><tr>\n",
       "                <td><strong>Lower bound</strong></td><td>-1000.0</td>\n",
       "            </tr><tr>\n",
       "                <td><strong>Upper bound</strong></td><td>1000.0</td>\n",
       "            </tr>\n",
       "        </table>\n",
       "        "
      ],
      "text/plain": [
       "<Reaction y300093 at 0x196e33e4a90>"
      ]
     },
     "execution_count": 15,
     "metadata": {},
     "output_type": "execute_result"
    }
   ],
   "source": [
    "yali.reactions.y300093"
   ]
  },
  {
   "cell_type": "code",
   "execution_count": 16,
   "id": "ad59ad66",
   "metadata": {},
   "outputs": [],
   "source": [
    "reaction12 = Reaction('y300094')\n",
    "reaction12.name = '(R)-Methylmalonyl-CoA CoA-carbonylmutase'\n",
    "reaction12.subsystem = 'Cell Methylmalonyl Pathway'\n",
    "reaction12.lower_bound = -1000. # This is the default\n",
    "reaction12.upper_bound = 1000. # This is the default"
   ]
  },
  {
   "cell_type": "code",
   "execution_count": 17,
   "id": "ee27a5f4",
   "metadata": {},
   "outputs": [
    {
     "data": {
      "text/plain": [
       "'s_3727 <=> s_1464'"
      ]
     },
     "execution_count": 17,
     "metadata": {},
     "output_type": "execute_result"
    }
   ],
   "source": [
    "reaction12.add_metabolites({\n",
    "rmethylma_m: -1.0,\n",
    "succi_m: 1.0,\n",
    "})\n",
    "reaction12.reaction"
   ]
  },
  {
   "cell_type": "code",
   "execution_count": 18,
   "id": "290f9454",
   "metadata": {},
   "outputs": [],
   "source": [
    "yali.add_reactions([reaction12])"
   ]
  },
  {
   "cell_type": "code",
   "execution_count": 19,
   "id": "08e89922",
   "metadata": {},
   "outputs": [
    {
     "data": {
      "text/html": [
       "\n",
       "        <table>\n",
       "            <tr>\n",
       "                <td><strong>Reaction identifier</strong></td><td>y300094</td>\n",
       "            </tr><tr>\n",
       "                <td><strong>Name</strong></td><td>(R)-Methylmalonyl-CoA CoA-carbonylmutase</td>\n",
       "            </tr><tr>\n",
       "                <td><strong>Memory address</strong></td>\n",
       "                <td>0x0196b6f87100</td>\n",
       "            </tr><tr>\n",
       "                <td><strong>Stoichiometry</strong></td>\n",
       "                <td>\n",
       "                    <p style='text-align:right'>s_3727 <=> s_1464</p>\n",
       "                    <p style='text-align:right'>(R)-Methylmalonyl-CoA[m] <=> succinyl-CoA</p>\n",
       "                </td>\n",
       "            </tr><tr>\n",
       "                <td><strong>GPR</strong></td><td></td>\n",
       "            </tr><tr>\n",
       "                <td><strong>Lower bound</strong></td><td>-1000.0</td>\n",
       "            </tr><tr>\n",
       "                <td><strong>Upper bound</strong></td><td>1000.0</td>\n",
       "            </tr>\n",
       "        </table>\n",
       "        "
      ],
      "text/plain": [
       "<Reaction y300094 at 0x196b6f87100>"
      ]
     },
     "execution_count": 19,
     "metadata": {},
     "output_type": "execute_result"
    }
   ],
   "source": [
    "yali.reactions.y300094"
   ]
  },
  {
   "cell_type": "code",
   "execution_count": 20,
   "id": "1c7efaa8",
   "metadata": {},
   "outputs": [],
   "source": [
    "reaction13 = Reaction('y300095')\n",
    "reaction13.name = 'Methylmalonyl-CoA epimerase'\n",
    "reaction13.subsystem = 'Cell Methylmalonyl Pathway'\n",
    "reaction13.lower_bound = -1000. # This is the default\n",
    "reaction13.upper_bound = 1000. # This is the default"
   ]
  },
  {
   "cell_type": "code",
   "execution_count": 21,
   "id": "5689f932",
   "metadata": {},
   "outputs": [
    {
     "data": {
      "text/plain": [
       "'s_3726 <=> s_3727'"
      ]
     },
     "execution_count": 21,
     "metadata": {},
     "output_type": "execute_result"
    }
   ],
   "source": [
    "reaction13.add_metabolites({\n",
    "smethylma_m: -1.0,\n",
    "rmethylma_m: 1.0,\n",
    "})\n",
    "reaction13.reaction"
   ]
  },
  {
   "cell_type": "code",
   "execution_count": 22,
   "id": "ffebfb67",
   "metadata": {},
   "outputs": [],
   "source": [
    "yali.add_reactions([reaction13])"
   ]
  },
  {
   "cell_type": "code",
   "execution_count": 23,
   "id": "c26c2097",
   "metadata": {},
   "outputs": [
    {
     "data": {
      "text/html": [
       "\n",
       "        <table>\n",
       "            <tr>\n",
       "                <td><strong>Reaction identifier</strong></td><td>y300095</td>\n",
       "            </tr><tr>\n",
       "                <td><strong>Name</strong></td><td>Methylmalonyl-CoA epimerase</td>\n",
       "            </tr><tr>\n",
       "                <td><strong>Memory address</strong></td>\n",
       "                <td>0x0196e2ab3be0</td>\n",
       "            </tr><tr>\n",
       "                <td><strong>Stoichiometry</strong></td>\n",
       "                <td>\n",
       "                    <p style='text-align:right'>s_3726 <=> s_3727</p>\n",
       "                    <p style='text-align:right'>(S)-Methylmalonyl-CoA[m] <=> (R)-Methylmalonyl-CoA[m]</p>\n",
       "                </td>\n",
       "            </tr><tr>\n",
       "                <td><strong>GPR</strong></td><td></td>\n",
       "            </tr><tr>\n",
       "                <td><strong>Lower bound</strong></td><td>-1000.0</td>\n",
       "            </tr><tr>\n",
       "                <td><strong>Upper bound</strong></td><td>1000.0</td>\n",
       "            </tr>\n",
       "        </table>\n",
       "        "
      ],
      "text/plain": [
       "<Reaction y300095 at 0x196e2ab3be0>"
      ]
     },
     "execution_count": 23,
     "metadata": {},
     "output_type": "execute_result"
    }
   ],
   "source": [
    "yali.reactions.y300095"
   ]
  },
  {
   "cell_type": "code",
   "execution_count": 24,
   "id": "9bbad00b",
   "metadata": {},
   "outputs": [],
   "source": [
    "reaction14 = Reaction('y300096')\n",
    "reaction14.name = 'Peroxisomal lactate dehydrogenase'\n",
    "reaction14.subsystem = 'Cell S-lactate Degradation'\n",
    "reaction14.lower_bound = -1000. # This is the default\n",
    "reaction14.upper_bound = 1000. # This is the default"
   ]
  },
  {
   "cell_type": "code",
   "execution_count": 25,
   "id": "8e63aa76",
   "metadata": {},
   "outputs": [
    {
     "data": {
      "text/plain": [
       "'s_1279 + s_3725 <=> s_0206 + s_0840'"
      ]
     },
     "execution_count": 25,
     "metadata": {},
     "output_type": "execute_result"
    }
   ],
   "source": [
    "reaction14.add_metabolites({\n",
    "slac_p: -1.0,\n",
    "oxi_p: -1.0,\n",
    "pyru_p: 1.0,\n",
    "perox_p: 1.0,\n",
    "})\n",
    "reaction14.reaction"
   ]
  },
  {
   "cell_type": "code",
   "execution_count": 26,
   "id": "843824e0",
   "metadata": {},
   "outputs": [],
   "source": [
    "yali.add_reactions([reaction14])"
   ]
  },
  {
   "cell_type": "code",
   "execution_count": 27,
   "id": "f204de8f",
   "metadata": {},
   "outputs": [],
   "source": [
    "reaction15 = Reaction('y300097')\n",
    "reaction15.name = '(S)-lactate transporter [c] - [p]'\n",
    "reaction15.subsystem = 'Cell S-lactate Degradation'\n",
    "reaction15.lower_bound = -1000. # This is the default\n",
    "reaction15.upper_bound = 1000. # This is the default"
   ]
  },
  {
   "cell_type": "code",
   "execution_count": 28,
   "id": "946a7396",
   "metadata": {},
   "outputs": [
    {
     "data": {
      "text/plain": [
       "'s_0063 <=> s_3725'"
      ]
     },
     "execution_count": 28,
     "metadata": {},
     "output_type": "execute_result"
    }
   ],
   "source": [
    "reaction15.add_metabolites({\n",
    "slac_c: -1.0,\n",
    "slac_p: 1.0,\n",
    "})\n",
    "reaction15.reaction"
   ]
  },
  {
   "cell_type": "code",
   "execution_count": 29,
   "id": "ab9e0560",
   "metadata": {},
   "outputs": [],
   "source": [
    "yali.add_reactions([reaction15])"
   ]
  },
  {
   "cell_type": "code",
   "execution_count": 30,
   "id": "df79c8fb",
   "metadata": {},
   "outputs": [
    {
     "data": {
      "text/html": [
       "\n",
       "        <table>\n",
       "            <tr>\n",
       "                <td><strong>Reaction identifier</strong></td><td>y300097</td>\n",
       "            </tr><tr>\n",
       "                <td><strong>Name</strong></td><td>(S)-lactate transporter [c] - [p]</td>\n",
       "            </tr><tr>\n",
       "                <td><strong>Memory address</strong></td>\n",
       "                <td>0x0196e2abf520</td>\n",
       "            </tr><tr>\n",
       "                <td><strong>Stoichiometry</strong></td>\n",
       "                <td>\n",
       "                    <p style='text-align:right'>s_0063 <=> s_3725</p>\n",
       "                    <p style='text-align:right'>(S)-lactate <=> (S)-lactate[p]</p>\n",
       "                </td>\n",
       "            </tr><tr>\n",
       "                <td><strong>GPR</strong></td><td></td>\n",
       "            </tr><tr>\n",
       "                <td><strong>Lower bound</strong></td><td>-1000.0</td>\n",
       "            </tr><tr>\n",
       "                <td><strong>Upper bound</strong></td><td>1000.0</td>\n",
       "            </tr>\n",
       "        </table>\n",
       "        "
      ],
      "text/plain": [
       "<Reaction y300097 at 0x196e2abf520>"
      ]
     },
     "execution_count": 30,
     "metadata": {},
     "output_type": "execute_result"
    }
   ],
   "source": [
    "yali.reactions.y300097"
   ]
  },
  {
   "cell_type": "code",
   "execution_count": 31,
   "id": "a51eb6f9",
   "metadata": {},
   "outputs": [],
   "source": [
    "reaction16 = Reaction('y300098')\n",
    "reaction16.name = '(R)-Lactate:NAD+ oxidoreductase'\n",
    "reaction16.subsystem = 'Cell D-lactate Degradation'\n",
    "reaction16.lower_bound = -1000. # This is the default\n",
    "reaction16.upper_bound = 1000. # This is the default"
   ]
  },
  {
   "cell_type": "code",
   "execution_count": 32,
   "id": "51e86e0b",
   "metadata": {},
   "outputs": [
    {
     "data": {
      "text/plain": [
       "'s_0027 + s_1200 <=> s_0799 + s_1205 + s_1401'"
      ]
     },
     "execution_count": 32,
     "metadata": {},
     "output_type": "execute_result"
    }
   ],
   "source": [
    "reaction16.add_metabolites({\n",
    "rlac_m: -1.0,\n",
    "NAD_m: -1.0,\n",
    "NADH_m: 1.0,\n",
    "h_m: 1.0,\n",
    "pyr_m: 1.0,\n",
    "})\n",
    "reaction16.reaction"
   ]
  },
  {
   "cell_type": "code",
   "execution_count": 33,
   "id": "bd7b98c9",
   "metadata": {},
   "outputs": [],
   "source": [
    "yali.add_reactions([reaction16])"
   ]
  },
  {
   "cell_type": "code",
   "execution_count": 34,
   "id": "91a880d6",
   "metadata": {},
   "outputs": [
    {
     "data": {
      "text/html": [
       "\n",
       "        <table>\n",
       "            <tr>\n",
       "                <td><strong>Reaction identifier</strong></td><td>y300098</td>\n",
       "            </tr><tr>\n",
       "                <td><strong>Name</strong></td><td>(R)-Lactate:NAD+ oxidoreductase</td>\n",
       "            </tr><tr>\n",
       "                <td><strong>Memory address</strong></td>\n",
       "                <td>0x0196e2ab38b0</td>\n",
       "            </tr><tr>\n",
       "                <td><strong>Stoichiometry</strong></td>\n",
       "                <td>\n",
       "                    <p style='text-align:right'>s_0027 + s_1200 <=> s_0799 + s_1205 + s_1401</p>\n",
       "                    <p style='text-align:right'>(R)-lactate + NAD <=> H+ + NADH + pyruvate</p>\n",
       "                </td>\n",
       "            </tr><tr>\n",
       "                <td><strong>GPR</strong></td><td></td>\n",
       "            </tr><tr>\n",
       "                <td><strong>Lower bound</strong></td><td>-1000.0</td>\n",
       "            </tr><tr>\n",
       "                <td><strong>Upper bound</strong></td><td>1000.0</td>\n",
       "            </tr>\n",
       "        </table>\n",
       "        "
      ],
      "text/plain": [
       "<Reaction y300098 at 0x196e2ab38b0>"
      ]
     },
     "execution_count": 34,
     "metadata": {},
     "output_type": "execute_result"
    }
   ],
   "source": [
    "yali.reactions.y300098"
   ]
  },
  {
   "cell_type": "code",
   "execution_count": 35,
   "id": "897d4138",
   "metadata": {},
   "outputs": [],
   "source": [
    "reaction17 = Reaction('y300099')\n",
    "reaction17.name = 'fatty-acyl-CoA synthase (n-C17:0CoA)'\n",
    "reaction17.subsystem = 'Odd Chain Fatty Acid Synthesis'\n",
    "reaction17.lower_bound = -1000. # This is the default\n",
    "reaction17.upper_bound = 1000. # This is the default"
   ]
  },
  {
   "cell_type": "code",
   "execution_count": 36,
   "id": "d00fe030",
   "metadata": {},
   "outputs": [
    {
     "data": {
      "text/plain": [
       "'s_0373 + 24.0 s_0794 + 16.0 s_1212 + 8.0 s_3719 <=> 8.0 s_0456 + 8.0 s_0529 + 8.0 s_0803 + 16.0 s_1207 + s_3728'"
      ]
     },
     "execution_count": 36,
     "metadata": {},
     "output_type": "execute_result"
    }
   ],
   "source": [
    "reaction17.add_metabolites({\n",
    "acetyl_c: -1.0,\n",
    "h_c: -24.0,\n",
    "propiocoa_c: -8.0,\n",
    "NADPH_c: -16.0,\n",
    "car_c: 8.0,\n",
    "coenzymeA_c: 8.0,\n",
    "h2o_c: 8.0,\n",
    "NADP_c: 16.0,\n",
    "margariccoa_c: 1.0,\n",
    "})\n",
    "reaction17.reaction"
   ]
  },
  {
   "cell_type": "code",
   "execution_count": 37,
   "id": "75d48f73",
   "metadata": {},
   "outputs": [],
   "source": [
    "yali.add_reactions([reaction17])"
   ]
  },
  {
   "cell_type": "code",
   "execution_count": 38,
   "id": "cb218b16",
   "metadata": {},
   "outputs": [
    {
     "data": {
      "text/html": [
       "\n",
       "        <table>\n",
       "            <tr>\n",
       "                <td><strong>Reaction identifier</strong></td><td>y300099</td>\n",
       "            </tr><tr>\n",
       "                <td><strong>Name</strong></td><td>fatty-acyl-CoA synthase (n-C17:0CoA)</td>\n",
       "            </tr><tr>\n",
       "                <td><strong>Memory address</strong></td>\n",
       "                <td>0x0196e2acf190</td>\n",
       "            </tr><tr>\n",
       "                <td><strong>Stoichiometry</strong></td>\n",
       "                <td>\n",
       "                    <p style='text-align:right'>s_0373 + 24.0 s_0794 + 16.0 s_1212 + 8.0 s_3719 <=> 8.0 s_0456 + 8.0 s_0529 + 8.0 s_0803 + 16.0 s_1207 + s_3728</p>\n",
       "                    <p style='text-align:right'>acetyl-CoA + 24.0 H+ + 16.0 NADPH + 8.0 Propionyl-CoA[c] <=> 8.0 carbon dioxide + 8.0 coenzyme A + 8.0 H2O + 16.0 NADP(+) + Margaric-CoA[c]</p>\n",
       "                </td>\n",
       "            </tr><tr>\n",
       "                <td><strong>GPR</strong></td><td></td>\n",
       "            </tr><tr>\n",
       "                <td><strong>Lower bound</strong></td><td>-1000.0</td>\n",
       "            </tr><tr>\n",
       "                <td><strong>Upper bound</strong></td><td>1000.0</td>\n",
       "            </tr>\n",
       "        </table>\n",
       "        "
      ],
      "text/plain": [
       "<Reaction y300099 at 0x196e2acf190>"
      ]
     },
     "execution_count": 38,
     "metadata": {},
     "output_type": "execute_result"
    }
   ],
   "source": [
    "yali.reactions.y300099"
   ]
  },
  {
   "cell_type": "code",
   "execution_count": 39,
   "id": "d22b8a13",
   "metadata": {},
   "outputs": [],
   "source": [
    "reaction18 = Reaction('y300100')\n",
    "reaction18.name = 'margaric-CoA transport, cytoplasm-lipid particle'\n",
    "reaction18.subsystem = 'Odd Chain Fatty Acid Synthesis'\n",
    "reaction18.lower_bound = -1000. # This is the default\n",
    "reaction18.upper_bound = 1000. # This is the default"
   ]
  },
  {
   "cell_type": "code",
   "execution_count": 40,
   "id": "12dc2d4a",
   "metadata": {},
   "outputs": [
    {
     "data": {
      "text/plain": [
       "'s_3728 <=> s_3729'"
      ]
     },
     "execution_count": 40,
     "metadata": {},
     "output_type": "execute_result"
    }
   ],
   "source": [
    "reaction18.add_metabolites({\n",
    "margariccoa_c: -1.0,\n",
    "margariccoa_lp: 1.0,\n",
    "})\n",
    "reaction18.reaction"
   ]
  },
  {
   "cell_type": "code",
   "execution_count": 41,
   "id": "1b7ab3f0",
   "metadata": {},
   "outputs": [],
   "source": [
    "yali.add_reactions([reaction18])"
   ]
  },
  {
   "cell_type": "code",
   "execution_count": 42,
   "id": "d91f8bb7",
   "metadata": {},
   "outputs": [
    {
     "data": {
      "text/html": [
       "\n",
       "        <table>\n",
       "            <tr>\n",
       "                <td><strong>Reaction identifier</strong></td><td>y300100</td>\n",
       "            </tr><tr>\n",
       "                <td><strong>Name</strong></td><td>margaric-CoA transport, cytoplasm-lipid particle</td>\n",
       "            </tr><tr>\n",
       "                <td><strong>Memory address</strong></td>\n",
       "                <td>0x0196e2882430</td>\n",
       "            </tr><tr>\n",
       "                <td><strong>Stoichiometry</strong></td>\n",
       "                <td>\n",
       "                    <p style='text-align:right'>s_3728 <=> s_3729</p>\n",
       "                    <p style='text-align:right'>Margaric-CoA[c] <=> Margaric-CoA[lp]</p>\n",
       "                </td>\n",
       "            </tr><tr>\n",
       "                <td><strong>GPR</strong></td><td></td>\n",
       "            </tr><tr>\n",
       "                <td><strong>Lower bound</strong></td><td>-1000.0</td>\n",
       "            </tr><tr>\n",
       "                <td><strong>Upper bound</strong></td><td>1000.0</td>\n",
       "            </tr>\n",
       "        </table>\n",
       "        "
      ],
      "text/plain": [
       "<Reaction y300100 at 0x196e2882430>"
      ]
     },
     "execution_count": 42,
     "metadata": {},
     "output_type": "execute_result"
    }
   ],
   "source": [
    "yali.reactions.y300100"
   ]
  },
  {
   "cell_type": "code",
   "execution_count": 43,
   "id": "2da94602",
   "metadata": {},
   "outputs": [],
   "source": [
    "reaction20 = Reaction('y300101')\n",
    "reaction20.name = 'margaric-CoA transport, cytoplasm-lipid particle'\n",
    "reaction20.subsystem = 'Odd Chain Fatty Acid Synthesis'\n",
    "reaction20.lower_bound = -1000. # This is the default\n",
    "reaction20.upper_bound = 1000. # This is the default"
   ]
  },
  {
   "cell_type": "code",
   "execution_count": 44,
   "id": "a6a97b2b",
   "metadata": {},
   "outputs": [
    {
     "data": {
      "text/plain": [
       "'s_0635 + s_2842 + s_3729 <=> s_0531 + s_2840 + s_3730'"
      ]
     },
     "execution_count": 44,
     "metadata": {},
     "output_type": "execute_result"
    }
   ],
   "source": [
    "reaction20.add_metabolites({\n",
    "margariccoa_lp: -1.0,\n",
    "amp_lp: -1.0,\n",
    "disfos_lp: -1.0,\n",
    "margaric_lp: 1.0,\n",
    "atp_lp: 1.0,\n",
    "coenzymeA_lp: 1.0,\n",
    "})\n",
    "reaction20.reaction"
   ]
  },
  {
   "cell_type": "code",
   "execution_count": 45,
   "id": "42a7053a",
   "metadata": {},
   "outputs": [],
   "source": [
    "yali.add_reactions([reaction20])"
   ]
  },
  {
   "cell_type": "code",
   "execution_count": 46,
   "id": "4444aec0",
   "metadata": {},
   "outputs": [
    {
     "data": {
      "text/html": [
       "\n",
       "        <table>\n",
       "            <tr>\n",
       "                <td><strong>Reaction identifier</strong></td><td>y300101</td>\n",
       "            </tr><tr>\n",
       "                <td><strong>Name</strong></td><td>margaric-CoA transport, cytoplasm-lipid particle</td>\n",
       "            </tr><tr>\n",
       "                <td><strong>Memory address</strong></td>\n",
       "                <td>0x0196e2ac9640</td>\n",
       "            </tr><tr>\n",
       "                <td><strong>Stoichiometry</strong></td>\n",
       "                <td>\n",
       "                    <p style='text-align:right'>s_0635 + s_2842 + s_3729 <=> s_0531 + s_2840 + s_3730</p>\n",
       "                    <p style='text-align:right'>diphosphate + AMP + Margaric-CoA[lp] <=> coenzyme A + ATP + Margaric acid[lp]</p>\n",
       "                </td>\n",
       "            </tr><tr>\n",
       "                <td><strong>GPR</strong></td><td></td>\n",
       "            </tr><tr>\n",
       "                <td><strong>Lower bound</strong></td><td>-1000.0</td>\n",
       "            </tr><tr>\n",
       "                <td><strong>Upper bound</strong></td><td>1000.0</td>\n",
       "            </tr>\n",
       "        </table>\n",
       "        "
      ],
      "text/plain": [
       "<Reaction y300101 at 0x196e2ac9640>"
      ]
     },
     "execution_count": 46,
     "metadata": {},
     "output_type": "execute_result"
    }
   ],
   "source": [
    "yali.reactions.y300101"
   ]
  },
  {
   "cell_type": "code",
   "execution_count": 47,
   "id": "ded9ddcd",
   "metadata": {},
   "outputs": [],
   "source": [
    "reaction21 = Reaction('y300102')\n",
    "reaction21.name = 'fatty-acyl-CoA synthase (n-C15:0CoA)'\n",
    "reaction21.subsystem = 'Odd Chain Fatty Acid Synthesis'\n",
    "reaction21.lower_bound = -1000. # This is the default\n",
    "reaction21.upper_bound = 1000. # This is the default"
   ]
  },
  {
   "cell_type": "code",
   "execution_count": 48,
   "id": "a7407117",
   "metadata": {},
   "outputs": [
    {
     "data": {
      "text/plain": [
       "'s_0373 + 21.0 s_0794 + 14.0 s_1212 + 7.0 s_3719 <=> 7.0 s_0456 + 7.0 s_0529 + 7.0 s_0803 + 14.0 s_1207 + s_3731'"
      ]
     },
     "execution_count": 48,
     "metadata": {},
     "output_type": "execute_result"
    }
   ],
   "source": [
    "reaction21.add_metabolites({\n",
    "acetyl_c: -1.0,\n",
    "h_c: -21.0,\n",
    "propiocoa_c: -7.0,\n",
    "NADPH_c: -14.0,\n",
    "car_c: 7.0,\n",
    "coenzymeA_c: 7.0,\n",
    "h2o_c: 7.0,\n",
    "NADP_c: 14.0,\n",
    "pentidecyliccoa_c: 1.0,\n",
    "})\n",
    "reaction21.reaction"
   ]
  },
  {
   "cell_type": "code",
   "execution_count": 49,
   "id": "43fb4204",
   "metadata": {},
   "outputs": [],
   "source": [
    "yali.add_reactions([reaction21])"
   ]
  },
  {
   "cell_type": "code",
   "execution_count": 50,
   "id": "ac5a83ba",
   "metadata": {
    "scrolled": true
   },
   "outputs": [
    {
     "data": {
      "text/html": [
       "\n",
       "        <table>\n",
       "            <tr>\n",
       "                <td><strong>Reaction identifier</strong></td><td>y300102</td>\n",
       "            </tr><tr>\n",
       "                <td><strong>Name</strong></td><td>fatty-acyl-CoA synthase (n-C15:0CoA)</td>\n",
       "            </tr><tr>\n",
       "                <td><strong>Memory address</strong></td>\n",
       "                <td>0x0196e35a2e20</td>\n",
       "            </tr><tr>\n",
       "                <td><strong>Stoichiometry</strong></td>\n",
       "                <td>\n",
       "                    <p style='text-align:right'>s_0373 + 21.0 s_0794 + 14.0 s_1212 + 7.0 s_3719 <=> 7.0 s_0456 + 7.0 s_0529 + 7.0 s_0803 + 14.0 s_1207 + s_3731</p>\n",
       "                    <p style='text-align:right'>acetyl-CoA + 21.0 H+ + 14.0 NADPH + 7.0 Propionyl-CoA[c] <=> 7.0 carbon dioxide + 7.0 coenzyme A + 7.0 H2O + 14.0 NADP(+) + Pentadecylic-CoA[c]</p>\n",
       "                </td>\n",
       "            </tr><tr>\n",
       "                <td><strong>GPR</strong></td><td></td>\n",
       "            </tr><tr>\n",
       "                <td><strong>Lower bound</strong></td><td>-1000.0</td>\n",
       "            </tr><tr>\n",
       "                <td><strong>Upper bound</strong></td><td>1000.0</td>\n",
       "            </tr>\n",
       "        </table>\n",
       "        "
      ],
      "text/plain": [
       "<Reaction y300102 at 0x196e35a2e20>"
      ]
     },
     "execution_count": 50,
     "metadata": {},
     "output_type": "execute_result"
    }
   ],
   "source": [
    "yali.reactions.y300102"
   ]
  },
  {
   "cell_type": "code",
   "execution_count": 51,
   "id": "792754f3",
   "metadata": {},
   "outputs": [],
   "source": [
    "reaction22 = Reaction('y300103')\n",
    "reaction22.name = 'Pentadecylic-CoA transport, cytoplasm-lipid particle'\n",
    "reaction22.subsystem = 'Odd Chain Fatty Acid Synthesis'\n",
    "reaction22.lower_bound = -1000. # This is the default\n",
    "reaction22.upper_bound = 1000. # This is the default"
   ]
  },
  {
   "cell_type": "code",
   "execution_count": 52,
   "id": "3fed05da",
   "metadata": {},
   "outputs": [
    {
     "data": {
      "text/plain": [
       "'s_3731 <=> s_3732'"
      ]
     },
     "execution_count": 52,
     "metadata": {},
     "output_type": "execute_result"
    }
   ],
   "source": [
    "reaction22.add_metabolites({\n",
    "pentidecyliccoa_c: -1.0,\n",
    "pentidecyliccoa_lp: 1.0,\n",
    "})\n",
    "reaction22.reaction"
   ]
  },
  {
   "cell_type": "code",
   "execution_count": 53,
   "id": "0d5f5f0b",
   "metadata": {},
   "outputs": [],
   "source": [
    "yali.add_reactions([reaction22])"
   ]
  },
  {
   "cell_type": "code",
   "execution_count": 54,
   "id": "7114f452",
   "metadata": {},
   "outputs": [
    {
     "data": {
      "text/html": [
       "\n",
       "        <table>\n",
       "            <tr>\n",
       "                <td><strong>Reaction identifier</strong></td><td>y300103</td>\n",
       "            </tr><tr>\n",
       "                <td><strong>Name</strong></td><td>Pentadecylic-CoA transport, cytoplasm-lipid particle</td>\n",
       "            </tr><tr>\n",
       "                <td><strong>Memory address</strong></td>\n",
       "                <td>0x0196b6f83f70</td>\n",
       "            </tr><tr>\n",
       "                <td><strong>Stoichiometry</strong></td>\n",
       "                <td>\n",
       "                    <p style='text-align:right'>s_3731 <=> s_3732</p>\n",
       "                    <p style='text-align:right'>Pentadecylic-CoA[c] <=> Pentadecylic-CoA[lp]</p>\n",
       "                </td>\n",
       "            </tr><tr>\n",
       "                <td><strong>GPR</strong></td><td></td>\n",
       "            </tr><tr>\n",
       "                <td><strong>Lower bound</strong></td><td>-1000.0</td>\n",
       "            </tr><tr>\n",
       "                <td><strong>Upper bound</strong></td><td>1000.0</td>\n",
       "            </tr>\n",
       "        </table>\n",
       "        "
      ],
      "text/plain": [
       "<Reaction y300103 at 0x196b6f83f70>"
      ]
     },
     "execution_count": 54,
     "metadata": {},
     "output_type": "execute_result"
    }
   ],
   "source": [
    "yali.reactions.y300103"
   ]
  },
  {
   "cell_type": "code",
   "execution_count": 55,
   "id": "62044696",
   "metadata": {},
   "outputs": [],
   "source": [
    "reaction23 = Reaction('y300104')\n",
    "reaction23.name = 'Pentadecylic-CoA transport, cytoplasm-lipid particle'\n",
    "reaction23.subsystem = 'Odd Chain Fatty Acid Synthesis'\n",
    "reaction23.lower_bound = -1000. # This is the default\n",
    "reaction23.upper_bound = 1000. # This is the default"
   ]
  },
  {
   "cell_type": "code",
   "execution_count": 56,
   "id": "39504fda",
   "metadata": {},
   "outputs": [
    {
     "data": {
      "text/plain": [
       "'s_0635 + s_2842 + s_3732 <=> s_0531 + s_2840 + s_3733'"
      ]
     },
     "execution_count": 56,
     "metadata": {},
     "output_type": "execute_result"
    }
   ],
   "source": [
    "reaction23.add_metabolites({\n",
    "pentidecyliccoa_lp: -1.0,\n",
    "amp_lp: -1.0,\n",
    "disfos_lp: -1.0,\n",
    "pentadecylic_lp: 1.0,\n",
    "atp_lp: 1.0,\n",
    "coenzymeA_lp: 1.0,\n",
    "})\n",
    "reaction23.reaction"
   ]
  },
  {
   "cell_type": "code",
   "execution_count": 57,
   "id": "0bf2c367",
   "metadata": {},
   "outputs": [],
   "source": [
    "yali.add_reactions([reaction23])"
   ]
  },
  {
   "cell_type": "code",
   "execution_count": 58,
   "id": "884d27bd",
   "metadata": {},
   "outputs": [
    {
     "data": {
      "text/html": [
       "\n",
       "        <table>\n",
       "            <tr>\n",
       "                <td><strong>Reaction identifier</strong></td><td>y300104</td>\n",
       "            </tr><tr>\n",
       "                <td><strong>Name</strong></td><td>Pentadecylic-CoA transport, cytoplasm-lipid particle</td>\n",
       "            </tr><tr>\n",
       "                <td><strong>Memory address</strong></td>\n",
       "                <td>0x0196e2aaaa60</td>\n",
       "            </tr><tr>\n",
       "                <td><strong>Stoichiometry</strong></td>\n",
       "                <td>\n",
       "                    <p style='text-align:right'>s_0635 + s_2842 + s_3732 <=> s_0531 + s_2840 + s_3733</p>\n",
       "                    <p style='text-align:right'>diphosphate + AMP + Pentadecylic-CoA[lp] <=> coenzyme A + ATP + Pentadecylic acid[lp]</p>\n",
       "                </td>\n",
       "            </tr><tr>\n",
       "                <td><strong>GPR</strong></td><td></td>\n",
       "            </tr><tr>\n",
       "                <td><strong>Lower bound</strong></td><td>-1000.0</td>\n",
       "            </tr><tr>\n",
       "                <td><strong>Upper bound</strong></td><td>1000.0</td>\n",
       "            </tr>\n",
       "        </table>\n",
       "        "
      ],
      "text/plain": [
       "<Reaction y300104 at 0x196e2aaaa60>"
      ]
     },
     "execution_count": 58,
     "metadata": {},
     "output_type": "execute_result"
    }
   ],
   "source": [
    "yali.reactions.y300104"
   ]
  },
  {
   "cell_type": "code",
   "execution_count": 59,
   "id": "7cc4f30e",
   "metadata": {},
   "outputs": [],
   "source": [
    "reaction24 = Reaction('y300105')\n",
    "reaction24.name = 'Margaric Extracellular Transporter'\n",
    "reaction24.subsystem = 'Cell Propionate Biosynthesis'\n",
    "reaction24.lower_bound = -1000. # This is the default\n",
    "reaction24.upper_bound = 1000. # This is the default"
   ]
  },
  {
   "cell_type": "code",
   "execution_count": 60,
   "id": "0bb09bf2",
   "metadata": {},
   "outputs": [
    {
     "data": {
      "text/plain": [
       "'s_3734 <=> s_3735'"
      ]
     },
     "execution_count": 60,
     "metadata": {},
     "output_type": "execute_result"
    }
   ],
   "source": [
    "reaction24.add_metabolites({\n",
    "margaric_extr: -1.0,\n",
    "margaric_c: 1.0,\n",
    "})\n",
    "reaction24.reaction"
   ]
  },
  {
   "cell_type": "code",
   "execution_count": 61,
   "id": "5ecced2d",
   "metadata": {},
   "outputs": [],
   "source": [
    "yali.add_reactions([reaction24])"
   ]
  },
  {
   "cell_type": "code",
   "execution_count": 62,
   "id": "c64daeba",
   "metadata": {},
   "outputs": [
    {
     "data": {
      "text/html": [
       "\n",
       "        <table>\n",
       "            <tr>\n",
       "                <td><strong>Reaction identifier</strong></td><td>y300105</td>\n",
       "            </tr><tr>\n",
       "                <td><strong>Name</strong></td><td>Margaric Extracellular Transporter</td>\n",
       "            </tr><tr>\n",
       "                <td><strong>Memory address</strong></td>\n",
       "                <td>0x0196e2aa4070</td>\n",
       "            </tr><tr>\n",
       "                <td><strong>Stoichiometry</strong></td>\n",
       "                <td>\n",
       "                    <p style='text-align:right'>s_3734 <=> s_3735</p>\n",
       "                    <p style='text-align:right'>Margaric acid[e] <=> Margaric acid[c]</p>\n",
       "                </td>\n",
       "            </tr><tr>\n",
       "                <td><strong>GPR</strong></td><td></td>\n",
       "            </tr><tr>\n",
       "                <td><strong>Lower bound</strong></td><td>-1000.0</td>\n",
       "            </tr><tr>\n",
       "                <td><strong>Upper bound</strong></td><td>1000.0</td>\n",
       "            </tr>\n",
       "        </table>\n",
       "        "
      ],
      "text/plain": [
       "<Reaction y300105 at 0x196e2aa4070>"
      ]
     },
     "execution_count": 62,
     "metadata": {},
     "output_type": "execute_result"
    }
   ],
   "source": [
    "yali.reactions.y300105"
   ]
  },
  {
   "cell_type": "code",
   "execution_count": 63,
   "id": "d7d01535",
   "metadata": {},
   "outputs": [],
   "source": [
    "reaction25 = Reaction('y300106')\n",
    "reaction25.name = 'Margaric Acid transport, cytoplasm-lipid particle'\n",
    "reaction25.subsystem = 'Odd Chain Fatty Acid Synthesis'\n",
    "reaction25.lower_bound = -1000. # This is the default\n",
    "reaction25.upper_bound = 1000. # This is the default"
   ]
  },
  {
   "cell_type": "code",
   "execution_count": 64,
   "id": "7c47d26c",
   "metadata": {},
   "outputs": [
    {
     "data": {
      "text/plain": [
       "'s_3735 <=> s_3730'"
      ]
     },
     "execution_count": 64,
     "metadata": {},
     "output_type": "execute_result"
    }
   ],
   "source": [
    "reaction25.add_metabolites({\n",
    "margaric_c: -1.0,\n",
    "margaric_lp: 1.0,\n",
    "})\n",
    "reaction25.reaction"
   ]
  },
  {
   "cell_type": "code",
   "execution_count": 65,
   "id": "8f43e440",
   "metadata": {},
   "outputs": [],
   "source": [
    "yali.add_reactions([reaction25])"
   ]
  },
  {
   "cell_type": "code",
   "execution_count": 66,
   "id": "9d0163b7",
   "metadata": {
    "scrolled": true
   },
   "outputs": [
    {
     "data": {
      "text/html": [
       "\n",
       "        <table>\n",
       "            <tr>\n",
       "                <td><strong>Reaction identifier</strong></td><td>y300106</td>\n",
       "            </tr><tr>\n",
       "                <td><strong>Name</strong></td><td>Margaric Acid transport, cytoplasm-lipid particle</td>\n",
       "            </tr><tr>\n",
       "                <td><strong>Memory address</strong></td>\n",
       "                <td>0x0196e2aa4730</td>\n",
       "            </tr><tr>\n",
       "                <td><strong>Stoichiometry</strong></td>\n",
       "                <td>\n",
       "                    <p style='text-align:right'>s_3735 <=> s_3730</p>\n",
       "                    <p style='text-align:right'>Margaric acid[c] <=> Margaric acid[lp]</p>\n",
       "                </td>\n",
       "            </tr><tr>\n",
       "                <td><strong>GPR</strong></td><td></td>\n",
       "            </tr><tr>\n",
       "                <td><strong>Lower bound</strong></td><td>-1000.0</td>\n",
       "            </tr><tr>\n",
       "                <td><strong>Upper bound</strong></td><td>1000.0</td>\n",
       "            </tr>\n",
       "        </table>\n",
       "        "
      ],
      "text/plain": [
       "<Reaction y300106 at 0x196e2aa4730>"
      ]
     },
     "execution_count": 66,
     "metadata": {},
     "output_type": "execute_result"
    }
   ],
   "source": [
    "yali.reactions.y300106"
   ]
  },
  {
   "cell_type": "code",
   "execution_count": 67,
   "id": "05a89180",
   "metadata": {},
   "outputs": [],
   "source": [
    "reaction26 = Reaction('y300107')\n",
    "reaction26.name = 'Pentadecylic Extracellular Transporter'\n",
    "reaction26.subsystem = 'Cell Propionate Biosynthesis'\n",
    "reaction26.lower_bound = -1000. # This is the default\n",
    "reaction26.upper_bound = 1000. # This is the default"
   ]
  },
  {
   "cell_type": "code",
   "execution_count": 68,
   "id": "4c59cf44",
   "metadata": {},
   "outputs": [
    {
     "data": {
      "text/plain": [
       "'s_3736 <=> s_3737'"
      ]
     },
     "execution_count": 68,
     "metadata": {},
     "output_type": "execute_result"
    }
   ],
   "source": [
    "reaction26.add_metabolites({\n",
    "pentadecylic_extr: -1.0,\n",
    "pentadecylic_c: 1.0,\n",
    "})\n",
    "reaction26.reaction"
   ]
  },
  {
   "cell_type": "code",
   "execution_count": 69,
   "id": "c42155ae",
   "metadata": {},
   "outputs": [],
   "source": [
    "yali.add_reactions([reaction26])"
   ]
  },
  {
   "cell_type": "code",
   "execution_count": 70,
   "id": "b534c22b",
   "metadata": {},
   "outputs": [
    {
     "data": {
      "text/html": [
       "\n",
       "        <table>\n",
       "            <tr>\n",
       "                <td><strong>Reaction identifier</strong></td><td>y300107</td>\n",
       "            </tr><tr>\n",
       "                <td><strong>Name</strong></td><td>Pentadecylic Extracellular Transporter</td>\n",
       "            </tr><tr>\n",
       "                <td><strong>Memory address</strong></td>\n",
       "                <td>0x0196e2ac94f0</td>\n",
       "            </tr><tr>\n",
       "                <td><strong>Stoichiometry</strong></td>\n",
       "                <td>\n",
       "                    <p style='text-align:right'>s_3736 <=> s_3737</p>\n",
       "                    <p style='text-align:right'>Pentadecylic acid[e] <=> Pentadecylic acid[c]</p>\n",
       "                </td>\n",
       "            </tr><tr>\n",
       "                <td><strong>GPR</strong></td><td></td>\n",
       "            </tr><tr>\n",
       "                <td><strong>Lower bound</strong></td><td>-1000.0</td>\n",
       "            </tr><tr>\n",
       "                <td><strong>Upper bound</strong></td><td>1000.0</td>\n",
       "            </tr>\n",
       "        </table>\n",
       "        "
      ],
      "text/plain": [
       "<Reaction y300107 at 0x196e2ac94f0>"
      ]
     },
     "execution_count": 70,
     "metadata": {},
     "output_type": "execute_result"
    }
   ],
   "source": [
    "yali.reactions.y300107"
   ]
  },
  {
   "cell_type": "code",
   "execution_count": 71,
   "id": "94ae04c7",
   "metadata": {},
   "outputs": [],
   "source": [
    "reaction27 = Reaction('y300108')\n",
    "reaction27.name = 'Pentadecylic Acid transport, cytoplasm-lipid particle'\n",
    "reaction27.subsystem = 'Odd Chain Fatty Acid Synthesis'\n",
    "reaction27.lower_bound = -1000. # This is the default\n",
    "reaction27.upper_bound = 1000. # This is the default"
   ]
  },
  {
   "cell_type": "code",
   "execution_count": 72,
   "id": "cf752f76",
   "metadata": {},
   "outputs": [
    {
     "data": {
      "text/plain": [
       "'s_3737 <=> s_3733'"
      ]
     },
     "execution_count": 72,
     "metadata": {},
     "output_type": "execute_result"
    }
   ],
   "source": [
    "reaction27.add_metabolites({\n",
    "pentadecylic_c: -1.0,\n",
    "pentadecylic_lp: 1.0,\n",
    "})\n",
    "reaction27.reaction"
   ]
  },
  {
   "cell_type": "code",
   "execution_count": 73,
   "id": "0956a419",
   "metadata": {},
   "outputs": [],
   "source": [
    "yali.add_reactions([reaction27])"
   ]
  },
  {
   "cell_type": "code",
   "execution_count": 74,
   "id": "fb673cbc",
   "metadata": {},
   "outputs": [
    {
     "data": {
      "text/html": [
       "\n",
       "        <table>\n",
       "            <tr>\n",
       "                <td><strong>Reaction identifier</strong></td><td>y300108</td>\n",
       "            </tr><tr>\n",
       "                <td><strong>Name</strong></td><td>Pentadecylic Acid transport, cytoplasm-lipid particle</td>\n",
       "            </tr><tr>\n",
       "                <td><strong>Memory address</strong></td>\n",
       "                <td>0x0196e2a9cca0</td>\n",
       "            </tr><tr>\n",
       "                <td><strong>Stoichiometry</strong></td>\n",
       "                <td>\n",
       "                    <p style='text-align:right'>s_3737 <=> s_3733</p>\n",
       "                    <p style='text-align:right'>Pentadecylic acid[c] <=> Pentadecylic acid[lp]</p>\n",
       "                </td>\n",
       "            </tr><tr>\n",
       "                <td><strong>GPR</strong></td><td></td>\n",
       "            </tr><tr>\n",
       "                <td><strong>Lower bound</strong></td><td>-1000.0</td>\n",
       "            </tr><tr>\n",
       "                <td><strong>Upper bound</strong></td><td>1000.0</td>\n",
       "            </tr>\n",
       "        </table>\n",
       "        "
      ],
      "text/plain": [
       "<Reaction y300108 at 0x196e2a9cca0>"
      ]
     },
     "execution_count": 74,
     "metadata": {},
     "output_type": "execute_result"
    }
   ],
   "source": [
    "yali.reactions.y300108"
   ]
  },
  {
   "cell_type": "code",
   "execution_count": 75,
   "id": "1136a25e",
   "metadata": {},
   "outputs": [
    {
     "data": {
      "text/html": [
       "\n",
       "        <table>\n",
       "            <tr>\n",
       "                <td><strong>Reaction identifier</strong></td><td>DM_s_3734</td>\n",
       "            </tr><tr>\n",
       "                <td><strong>Name</strong></td><td>Margaric acid[e] demand</td>\n",
       "            </tr><tr>\n",
       "                <td><strong>Memory address</strong></td>\n",
       "                <td>0x0196e2ab3820</td>\n",
       "            </tr><tr>\n",
       "                <td><strong>Stoichiometry</strong></td>\n",
       "                <td>\n",
       "                    <p style='text-align:right'>s_3734 --></p>\n",
       "                    <p style='text-align:right'>Margaric acid[e] --></p>\n",
       "                </td>\n",
       "            </tr><tr>\n",
       "                <td><strong>GPR</strong></td><td></td>\n",
       "            </tr><tr>\n",
       "                <td><strong>Lower bound</strong></td><td>0</td>\n",
       "            </tr><tr>\n",
       "                <td><strong>Upper bound</strong></td><td>1000.0</td>\n",
       "            </tr>\n",
       "        </table>\n",
       "        "
      ],
      "text/plain": [
       "<Reaction DM_s_3734 at 0x196e2ab3820>"
      ]
     },
     "execution_count": 75,
     "metadata": {},
     "output_type": "execute_result"
    }
   ],
   "source": [
    "# create exchange reaction\n",
    "yali.add_boundary(yali.metabolites.get_by_id(\"s_3734\"), type=\"demand\")"
   ]
  },
  {
   "cell_type": "code",
   "execution_count": 76,
   "id": "6d826f22",
   "metadata": {},
   "outputs": [
    {
     "data": {
      "text/html": [
       "\n",
       "        <table>\n",
       "            <tr>\n",
       "                <td><strong>Reaction identifier</strong></td><td>DM_s_3736</td>\n",
       "            </tr><tr>\n",
       "                <td><strong>Name</strong></td><td>Pentadecylic acid[e] demand</td>\n",
       "            </tr><tr>\n",
       "                <td><strong>Memory address</strong></td>\n",
       "                <td>0x0196e2a9cb80</td>\n",
       "            </tr><tr>\n",
       "                <td><strong>Stoichiometry</strong></td>\n",
       "                <td>\n",
       "                    <p style='text-align:right'>s_3736 --></p>\n",
       "                    <p style='text-align:right'>Pentadecylic acid[e] --></p>\n",
       "                </td>\n",
       "            </tr><tr>\n",
       "                <td><strong>GPR</strong></td><td></td>\n",
       "            </tr><tr>\n",
       "                <td><strong>Lower bound</strong></td><td>0</td>\n",
       "            </tr><tr>\n",
       "                <td><strong>Upper bound</strong></td><td>1000.0</td>\n",
       "            </tr>\n",
       "        </table>\n",
       "        "
      ],
      "text/plain": [
       "<Reaction DM_s_3736 at 0x196e2a9cb80>"
      ]
     },
     "execution_count": 76,
     "metadata": {},
     "output_type": "execute_result"
    }
   ],
   "source": [
    "# create exchange reaction\n",
    "yali.add_boundary(yali.metabolites.get_by_id(\"s_3736\"), type=\"demand\")"
   ]
  },
  {
   "cell_type": "code",
   "execution_count": 77,
   "id": "5b52bbdc",
   "metadata": {},
   "outputs": [
    {
     "data": {
      "text/html": [
       "\n",
       "        <table>\n",
       "            <tr>\n",
       "                <td><strong>Metabolite identifier</strong></td><td>s_3719</td>\n",
       "            </tr><tr>\n",
       "                <td><strong>Name</strong></td><td>Propionyl-CoA[c]</td>\n",
       "            </tr><tr>\n",
       "                <td><strong>Memory address</strong></td>\n",
       "                <td>0x0196e26eb4c0</td>\n",
       "            </tr><tr>\n",
       "                <td><strong>Formula</strong></td><td>C24H36N7O17P3S</td>\n",
       "            </tr><tr>\n",
       "                <td><strong>Compartment</strong></td><td>c</td>\n",
       "            </tr><tr>\n",
       "                <td><strong>In 5 reaction(s)</strong></td><td>\n",
       "                    y300087, y300102, y300088, y300099, y300089</td>\n",
       "            </tr>\n",
       "        </table>"
      ],
      "text/plain": [
       "<Metabolite s_3719 at 0x196e26eb4c0>"
      ]
     },
     "execution_count": 77,
     "metadata": {},
     "output_type": "execute_result"
    }
   ],
   "source": [
    "yali.metabolites.s_3719"
   ]
  },
  {
   "cell_type": "code",
   "execution_count": 78,
   "id": "f2241228",
   "metadata": {},
   "outputs": [
    {
     "data": {
      "text/html": [
       "\n",
       "        <table>\n",
       "            <tr>\n",
       "                <td><strong>Reaction identifier</strong></td><td>y300099</td>\n",
       "            </tr><tr>\n",
       "                <td><strong>Name</strong></td><td>fatty-acyl-CoA synthase (n-C17:0CoA)</td>\n",
       "            </tr><tr>\n",
       "                <td><strong>Memory address</strong></td>\n",
       "                <td>0x0196e2acf190</td>\n",
       "            </tr><tr>\n",
       "                <td><strong>Stoichiometry</strong></td>\n",
       "                <td>\n",
       "                    <p style='text-align:right'>s_0373 + 24.0 s_0794 + 16.0 s_1212 + 8.0 s_3719 <=> 8.0 s_0456 + 8.0 s_0529 + 8.0 s_0803 + 16.0 s_1207 + s_3728</p>\n",
       "                    <p style='text-align:right'>acetyl-CoA + 24.0 H+ + 16.0 NADPH + 8.0 Propionyl-CoA[c] <=> 8.0 carbon dioxide + 8.0 coenzyme A + 8.0 H2O + 16.0 NADP(+) + Margaric-CoA[c]</p>\n",
       "                </td>\n",
       "            </tr><tr>\n",
       "                <td><strong>GPR</strong></td><td></td>\n",
       "            </tr><tr>\n",
       "                <td><strong>Lower bound</strong></td><td>-1000.0</td>\n",
       "            </tr><tr>\n",
       "                <td><strong>Upper bound</strong></td><td>1000.0</td>\n",
       "            </tr>\n",
       "        </table>\n",
       "        "
      ],
      "text/plain": [
       "<Reaction y300099 at 0x196e2acf190>"
      ]
     },
     "execution_count": 78,
     "metadata": {},
     "output_type": "execute_result"
    }
   ],
   "source": [
    "yali.reactions.y300099"
   ]
  },
  {
   "cell_type": "code",
   "execution_count": 79,
   "id": "ce360f4c",
   "metadata": {},
   "outputs": [
    {
     "data": {
      "text/plain": [
       "[<Reaction y002111 at 0x1f2b1091940>,\n",
       " <Reaction DM_s_3717 at 0x1f2b13a78b0>,\n",
       " <Reaction DM_s_3734 at 0x1f2b0a5faf0>,\n",
       " <Reaction DM_s_3736 at 0x1f2b0a5f5b0>]"
      ]
     },
     "execution_count": 79,
     "metadata": {},
     "output_type": "execute_result"
    }
   ],
   "source": [
    "yali.demands"
   ]
  },
  {
   "cell_type": "code",
   "execution_count": 80,
   "id": "da37f0a8",
   "metadata": {},
   "outputs": [
    {
     "data": {
      "text/html": [
       "\n",
       "        <table>\n",
       "            <tr>\n",
       "                <td><strong>Reaction identifier</strong></td><td>DM_s_3734</td>\n",
       "            </tr><tr>\n",
       "                <td><strong>Name</strong></td><td>Margaric acid[e] demand</td>\n",
       "            </tr><tr>\n",
       "                <td><strong>Memory address</strong></td>\n",
       "                <td>0x01f2b0a5faf0</td>\n",
       "            </tr><tr>\n",
       "                <td><strong>Stoichiometry</strong></td>\n",
       "                <td>\n",
       "                    <p style='text-align:right'>s_3734 --></p>\n",
       "                    <p style='text-align:right'>Margaric acid[e] --></p>\n",
       "                </td>\n",
       "            </tr><tr>\n",
       "                <td><strong>GPR</strong></td><td></td>\n",
       "            </tr><tr>\n",
       "                <td><strong>Lower bound</strong></td><td>0</td>\n",
       "            </tr><tr>\n",
       "                <td><strong>Upper bound</strong></td><td>1000.0</td>\n",
       "            </tr>\n",
       "        </table>\n",
       "        "
      ],
      "text/plain": [
       "<Reaction DM_s_3734 at 0x1f2b0a5faf0>"
      ]
     },
     "execution_count": 80,
     "metadata": {},
     "output_type": "execute_result"
    }
   ],
   "source": [
    "yali.reactions.DM_s_3734"
   ]
  },
  {
   "cell_type": "code",
   "execution_count": 79,
   "id": "58bca208",
   "metadata": {},
   "outputs": [],
   "source": [
    "yali.objective = 'y300099'"
   ]
  },
  {
   "cell_type": "code",
   "execution_count": 80,
   "id": "5e17a0f3",
   "metadata": {},
   "outputs": [
    {
     "name": "stdout",
     "output_type": "stream",
     "text": [
      "<Solution 0.158 at 0x196e36ba160>\n"
     ]
    },
    {
     "data": {
      "text/plain": [
       "0.15789473684210525"
      ]
     },
     "execution_count": 80,
     "metadata": {},
     "output_type": "execute_result"
    }
   ],
   "source": [
    "solution = yali.optimize()\n",
    "print(solution)\n",
    "solution.objective_value"
   ]
  },
  {
   "cell_type": "code",
   "execution_count": 81,
   "id": "74c1c958",
   "metadata": {},
   "outputs": [
    {
     "data": {
      "text/html": [
       "<strong><em>Optimal</em> solution with objective value 0.158</strong><br><div>\n",
       "<style scoped>\n",
       "    .dataframe tbody tr th:only-of-type {\n",
       "        vertical-align: middle;\n",
       "    }\n",
       "\n",
       "    .dataframe tbody tr th {\n",
       "        vertical-align: top;\n",
       "    }\n",
       "\n",
       "    .dataframe thead th {\n",
       "        text-align: right;\n",
       "    }\n",
       "</style>\n",
       "<table border=\"1\" class=\"dataframe\">\n",
       "  <thead>\n",
       "    <tr style=\"text-align: right;\">\n",
       "      <th></th>\n",
       "      <th>fluxes</th>\n",
       "      <th>reduced_costs</th>\n",
       "    </tr>\n",
       "  </thead>\n",
       "  <tbody>\n",
       "    <tr>\n",
       "      <th>xAMINOACID</th>\n",
       "      <td>0.000000</td>\n",
       "      <td>0.000000e+00</td>\n",
       "    </tr>\n",
       "    <tr>\n",
       "      <th>xBIOMASS</th>\n",
       "      <td>0.000000</td>\n",
       "      <td>-1.063039e+00</td>\n",
       "    </tr>\n",
       "    <tr>\n",
       "      <th>xLIPID</th>\n",
       "      <td>0.000000</td>\n",
       "      <td>-2.109424e-15</td>\n",
       "    </tr>\n",
       "    <tr>\n",
       "      <th>xMAINTENANCE</th>\n",
       "      <td>0.000000</td>\n",
       "      <td>0.000000e+00</td>\n",
       "    </tr>\n",
       "    <tr>\n",
       "      <th>xPOOL_AC_EM</th>\n",
       "      <td>0.000000</td>\n",
       "      <td>-8.326673e-17</td>\n",
       "    </tr>\n",
       "    <tr>\n",
       "      <th>...</th>\n",
       "      <td>...</td>\n",
       "      <td>...</td>\n",
       "    </tr>\n",
       "    <tr>\n",
       "      <th>y300106</th>\n",
       "      <td>-0.157895</td>\n",
       "      <td>0.000000e+00</td>\n",
       "    </tr>\n",
       "    <tr>\n",
       "      <th>y300107</th>\n",
       "      <td>0.000000</td>\n",
       "      <td>0.000000e+00</td>\n",
       "    </tr>\n",
       "    <tr>\n",
       "      <th>y300108</th>\n",
       "      <td>0.000000</td>\n",
       "      <td>0.000000e+00</td>\n",
       "    </tr>\n",
       "    <tr>\n",
       "      <th>DM_s_3734</th>\n",
       "      <td>0.157895</td>\n",
       "      <td>0.000000e+00</td>\n",
       "    </tr>\n",
       "    <tr>\n",
       "      <th>DM_s_3736</th>\n",
       "      <td>0.000000</td>\n",
       "      <td>-1.763158e+00</td>\n",
       "    </tr>\n",
       "  </tbody>\n",
       "</table>\n",
       "<p>1953 rows × 2 columns</p>\n",
       "</div>"
      ],
      "text/plain": [
       "<Solution 0.158 at 0x196e36ba490>"
      ]
     },
     "execution_count": 81,
     "metadata": {},
     "output_type": "execute_result"
    }
   ],
   "source": [
    "yali.optimize()"
   ]
  },
  {
   "cell_type": "code",
   "execution_count": 84,
   "id": "d4e5bf9c",
   "metadata": {},
   "outputs": [],
   "source": [
    "cobra.io.json.save_json_model(yali, 'iYali-tidy v.6.json')\n",
    "cobra.io.write_sbml_model(yali, \"iYali-tidy v.6.xml\")"
   ]
  },
  {
   "cell_type": "code",
   "execution_count": null,
   "id": "3581a476",
   "metadata": {},
   "outputs": [],
   "source": []
  }
 ],
 "metadata": {
  "kernelspec": {
   "display_name": "Python 3 (ipykernel)",
   "language": "python",
   "name": "python3"
  },
  "language_info": {
   "codemirror_mode": {
    "name": "ipython",
    "version": 3
   },
   "file_extension": ".py",
   "mimetype": "text/x-python",
   "name": "python",
   "nbconvert_exporter": "python",
   "pygments_lexer": "ipython3",
   "version": "3.8.12"
  }
 },
 "nbformat": 4,
 "nbformat_minor": 5
}
