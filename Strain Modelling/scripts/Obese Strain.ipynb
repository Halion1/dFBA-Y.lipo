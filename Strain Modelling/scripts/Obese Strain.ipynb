{
 "cells": [
  {
   "cell_type": "code",
   "execution_count": 2,
   "id": "1b80ed6a",
   "metadata": {},
   "outputs": [],
   "source": [
    "#Importing packages\n",
    "import cobra\n",
    "import cplex\n",
    "from cobra import Model, Reaction, Metabolite\n",
    "from cobra.io import read_sbml_model\n",
    "import pandas as pd"
   ]
  },
  {
   "cell_type": "code",
   "execution_count": 3,
   "id": "2c58277f",
   "metadata": {},
   "outputs": [],
   "source": [
    "#Importing model iYali\n",
    "yali = cobra.io.read_sbml_model('iYali-tidy v.5.xml')"
   ]
  },
  {
   "cell_type": "code",
   "execution_count": 6,
   "id": "384f86de",
   "metadata": {},
   "outputs": [
    {
     "data": {
      "text/html": [
       "\n",
       "        <table>\n",
       "            <tr>\n",
       "                <td><strong>Reaction identifier</strong></td><td>y300089</td>\n",
       "            </tr><tr>\n",
       "                <td><strong>Name</strong></td><td>Propionate CoA-transferase</td>\n",
       "            </tr><tr>\n",
       "                <td><strong>Memory address</strong></td>\n",
       "                <td>0x022d5f281730</td>\n",
       "            </tr><tr>\n",
       "                <td><strong>Stoichiometry</strong></td>\n",
       "                <td>\n",
       "                    <p style='text-align:right'>s_3718 --> s_3719</p>\n",
       "                    <p style='text-align:right'>Propionate[c] --> Propionyl-CoA[c]</p>\n",
       "                </td>\n",
       "            </tr><tr>\n",
       "                <td><strong>GPR</strong></td><td></td>\n",
       "            </tr><tr>\n",
       "                <td><strong>Lower bound</strong></td><td>0</td>\n",
       "            </tr><tr>\n",
       "                <td><strong>Upper bound</strong></td><td>1000.0</td>\n",
       "            </tr>\n",
       "        </table>\n",
       "        "
      ],
      "text/plain": [
       "<Reaction y300089 at 0x22d5f281730>"
      ]
     },
     "execution_count": 6,
     "metadata": {},
     "output_type": "execute_result"
    }
   ],
   "source": [
    "yali.reactions.y300089"
   ]
  },
  {
   "cell_type": "code",
   "execution_count": 5,
   "id": "772ba940",
   "metadata": {},
   "outputs": [],
   "source": [
    "#Gene Pct overexpression\n",
    "yali.reactions.y300089.lower_bound = 0"
   ]
  },
  {
   "cell_type": "code",
   "execution_count": 13,
   "id": "0fcb9b13",
   "metadata": {},
   "outputs": [],
   "source": [
    "#PHD1 Deletion\n",
    "yali.reactions.y000028.knock_out()"
   ]
  },
  {
   "cell_type": "code",
   "execution_count": 14,
   "id": "14249a54",
   "metadata": {},
   "outputs": [
    {
     "data": {
      "text/html": [
       "\n",
       "        <table>\n",
       "            <tr>\n",
       "                <td><strong>Reaction identifier</strong></td><td>y000028</td>\n",
       "            </tr><tr>\n",
       "                <td><strong>Name</strong></td><td>2-methylcitrate synthase</td>\n",
       "            </tr><tr>\n",
       "                <td><strong>Memory address</strong></td>\n",
       "                <td>0x022d5e770d00</td>\n",
       "            </tr><tr>\n",
       "                <td><strong>Stoichiometry</strong></td>\n",
       "                <td>\n",
       "                    <p style='text-align:right'>s_0807 + s_1273 + s_1382 --> s_0174 + s_0532 + s_0799</p>\n",
       "                    <p style='text-align:right'>H2O + oxaloacetate + propionyl-CoA --> 2-methylcitrate + coenzyme A + H+</p>\n",
       "                </td>\n",
       "            </tr><tr>\n",
       "                <td><strong>GPR</strong></td><td>YALI0E00638g or YALI0E02684g</td>\n",
       "            </tr><tr>\n",
       "                <td><strong>Lower bound</strong></td><td>0</td>\n",
       "            </tr><tr>\n",
       "                <td><strong>Upper bound</strong></td><td>0</td>\n",
       "            </tr>\n",
       "        </table>\n",
       "        "
      ],
      "text/plain": [
       "<Reaction y000028 at 0x22d5e770d00>"
      ]
     },
     "execution_count": 14,
     "metadata": {},
     "output_type": "execute_result"
    }
   ],
   "source": [
    "yali.reactions.y000028"
   ]
  },
  {
   "cell_type": "code",
   "execution_count": 77,
   "id": "e060b413",
   "metadata": {},
   "outputs": [
    {
     "data": {
      "text/html": [
       "\n",
       "        <table>\n",
       "            <tr>\n",
       "                <td><strong>Reaction identifier</strong></td><td>y000892</td>\n",
       "            </tr><tr>\n",
       "                <td><strong>Name</strong></td><td>phosphoglycerate kinase</td>\n",
       "            </tr><tr>\n",
       "                <td><strong>Memory address</strong></td>\n",
       "                <td>0x022d5ec360d0</td>\n",
       "            </tr><tr>\n",
       "                <td><strong>Stoichiometry</strong></td>\n",
       "                <td>\n",
       "                    <p style='text-align:right'>s_0075 + s_0394 --> s_0260 + s_0434</p>\n",
       "                    <p style='text-align:right'>1,3-bisphospho-D-glycerate + ADP --> 3-phosphoglycerate + ATP</p>\n",
       "                </td>\n",
       "            </tr><tr>\n",
       "                <td><strong>GPR</strong></td><td>YALI0D12400g</td>\n",
       "            </tr><tr>\n",
       "                <td><strong>Lower bound</strong></td><td>0</td>\n",
       "            </tr><tr>\n",
       "                <td><strong>Upper bound</strong></td><td>1000.0</td>\n",
       "            </tr>\n",
       "        </table>\n",
       "        "
      ],
      "text/plain": [
       "<Reaction y000892 at 0x22d5ec360d0>"
      ]
     },
     "execution_count": 77,
     "metadata": {},
     "output_type": "execute_result"
    }
   ],
   "source": [
    "yali.reactions.y000892"
   ]
  },
  {
   "cell_type": "code",
   "execution_count": 76,
   "id": "22be09b9",
   "metadata": {},
   "outputs": [],
   "source": [
    "#Gene Pct overexpression\n",
    "yali.reactions.y000892.lower_bound = 0"
   ]
  },
  {
   "cell_type": "code",
   "execution_count": 79,
   "id": "5baa5c46",
   "metadata": {},
   "outputs": [
    {
     "data": {
      "text/html": [
       "\n",
       "        <table>\n",
       "            <tr>\n",
       "                <td><strong>Metabolite identifier</strong></td><td>s_0362</td>\n",
       "            </tr><tr>\n",
       "                <td><strong>Name</strong></td><td>acetate</td>\n",
       "            </tr><tr>\n",
       "                <td><strong>Memory address</strong></td>\n",
       "                <td>0x022d5e446bb0</td>\n",
       "            </tr><tr>\n",
       "                <td><strong>Formula</strong></td><td>C2H3O2</td>\n",
       "            </tr><tr>\n",
       "                <td><strong>Compartment</strong></td><td>c</td>\n",
       "            </tr><tr>\n",
       "                <td><strong>In 14 reaction(s)</strong></td><td>\n",
       "                    y000812, y000173, y000813, y001106, y001635, y000311, y000369, y000656, y000657, y000271, y300073, y002116, y000312, y000112</td>\n",
       "            </tr>\n",
       "        </table>"
      ],
      "text/plain": [
       "<Metabolite s_0362 at 0x22d5e446bb0>"
      ]
     },
     "execution_count": 79,
     "metadata": {},
     "output_type": "execute_result"
    }
   ],
   "source": [
    "yali.metabolites.s_0362"
   ]
  },
  {
   "cell_type": "code",
   "execution_count": 97,
   "id": "9df07b3c",
   "metadata": {},
   "outputs": [],
   "source": [
    "#Gene Pct overexpression\n",
    "yali.reactions.y300096.lower_bound = 0"
   ]
  },
  {
   "cell_type": "code",
   "execution_count": 98,
   "id": "efe2ae33",
   "metadata": {},
   "outputs": [
    {
     "data": {
      "text/html": [
       "\n",
       "        <table>\n",
       "            <tr>\n",
       "                <td><strong>Reaction identifier</strong></td><td>y300096</td>\n",
       "            </tr><tr>\n",
       "                <td><strong>Name</strong></td><td>Peroxisomal lactate dehydrogenase</td>\n",
       "            </tr><tr>\n",
       "                <td><strong>Memory address</strong></td>\n",
       "                <td>0x022d5f2bf8e0</td>\n",
       "            </tr><tr>\n",
       "                <td><strong>Stoichiometry</strong></td>\n",
       "                <td>\n",
       "                    <p style='text-align:right'>s_1279 + s_3725 --> s_0206 + s_0840</p>\n",
       "                    <p style='text-align:right'>oxygen + (S)-lactate[p] --> 3-(4-hydroxyphenyl)pyruvate + hydrogen peroxide</p>\n",
       "                </td>\n",
       "            </tr><tr>\n",
       "                <td><strong>GPR</strong></td><td></td>\n",
       "            </tr><tr>\n",
       "                <td><strong>Lower bound</strong></td><td>0</td>\n",
       "            </tr><tr>\n",
       "                <td><strong>Upper bound</strong></td><td>1000.0</td>\n",
       "            </tr>\n",
       "        </table>\n",
       "        "
      ],
      "text/plain": [
       "<Reaction y300096 at 0x22d5f2bf8e0>"
      ]
     },
     "execution_count": 98,
     "metadata": {},
     "output_type": "execute_result"
    }
   ],
   "source": [
    "yali.reactions.y300096"
   ]
  },
  {
   "cell_type": "code",
   "execution_count": 99,
   "id": "c8d69aff",
   "metadata": {},
   "outputs": [],
   "source": [
    "cobra.io.json.save_json_model(yali, 'iYali-tidy Obese strain.json')\n",
    "cobra.io.write_sbml_model(yali, \"iYali-tidy Obese strain.xml\")"
   ]
  },
  {
   "cell_type": "code",
   "execution_count": null,
   "id": "f95fc84c",
   "metadata": {},
   "outputs": [],
   "source": []
  }
 ],
 "metadata": {
  "kernelspec": {
   "display_name": "Python 3 (ipykernel)",
   "language": "python",
   "name": "python3"
  },
  "language_info": {
   "codemirror_mode": {
    "name": "ipython",
    "version": 3
   },
   "file_extension": ".py",
   "mimetype": "text/x-python",
   "name": "python",
   "nbconvert_exporter": "python",
   "pygments_lexer": "ipython3",
   "version": "3.8.12"
  }
 },
 "nbformat": 4,
 "nbformat_minor": 5
}
