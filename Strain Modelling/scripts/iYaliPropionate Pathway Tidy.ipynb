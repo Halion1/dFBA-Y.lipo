{
 "cells": [
  {
   "cell_type": "code",
   "execution_count": 1,
   "id": "0328a912",
   "metadata": {},
   "outputs": [],
   "source": [
    "#Importing packages\n",
    "import cobra\n",
    "import cplex\n",
    "from cobra import Model, Reaction, Metabolite\n",
    "from cobra.io import read_sbml_model\n",
    "import pandas as pd"
   ]
  },
  {
   "cell_type": "code",
   "execution_count": 2,
   "id": "2410a166",
   "metadata": {},
   "outputs": [],
   "source": [
    "#Importing model iYali\n",
    "yali = cobra.io.read_sbml_model('iYali.xml')"
   ]
  },
  {
   "cell_type": "code",
   "execution_count": 3,
   "id": "092d9e15",
   "metadata": {},
   "outputs": [],
   "source": [
    "#Creation of all the metabolites\n",
    "propio_extr = Metabolite(\n",
    "'s_3717',\n",
    "formula='C3H5O2',\n",
    "name='Propionate[e]',\n",
    "compartment='e')\n",
    "propio_c = Metabolite(\n",
    "'s_3718',\n",
    "formula='C3H5O2',\n",
    "name='Propionate[c]',\n",
    "compartment='c')\n",
    "\n",
    "propiocoa_m = Metabolite(\n",
    "'s_1382')\n",
    "\n",
    "propiocoa_c = Metabolite(\n",
    "'s_3719',\n",
    "formula='C24H36N7O17P3S',\n",
    "name='Propionyl-CoA[c]',\n",
    "compartment='c')\n",
    "\n",
    "propecoa_c = Metabolite(\n",
    "'s_3721',\n",
    "formula='C24H38N7O17P3S',\n",
    "name='Propenoyl-CoA[c]',\n",
    "compartment='c')\n",
    "oxigen_c = Metabolite(\n",
    "'s_1275')\n",
    "hyprox_c = Metabolite(\n",
    "'s_0837')\n",
    "\n",
    "hydroxcoa_c = Metabolite(\n",
    "'s_3722',\n",
    "formula='C24H40N7O18P3S',\n",
    "name='3-hydroxypropionyl-CoA [c]',\n",
    "compartment='c')\n",
    "water_c = Metabolite(\n",
    "'s_0803')\n",
    "\n",
    "hydroxypropanoate_c = Metabolite(\n",
    "'s_3723',\n",
    "formula='C3H5O3',\n",
    "name='3-Hydroxypropanoate [c]',\n",
    "compartment='c')\n",
    "difos_c = Metabolite(\n",
    "'s_0633')\n",
    "amp_c = Metabolite(\n",
    "'s_0423')\n",
    "coe_c = Metabolite(\n",
    "'s_0529')\n",
    "atp_c = Metabolite(\n",
    "'s_0434')\n",
    "\n",
    "oxopro_c = Metabolite(\n",
    "'s_3724',\n",
    "formula='C3H4O3',\n",
    "name='3-oxopropanoate[c]',\n",
    "compartment='c')\n",
    "NAD_c = Metabolite(\n",
    "'s_1198',\n",
    "compartment='c')\n",
    "NADH_c = Metabolite(\n",
    "'s_1203')\n",
    "h_c = Metabolite(\n",
    "'s_0794')\n",
    "\n",
    "acet_c = Metabolite(\n",
    "'s_0373')\n",
    "car_c = Metabolite(\n",
    "'s_0456')\n",
    "\n",
    "rlac_m = Metabolite(\n",
    "'s_0027')\n",
    "pyr_m = Metabolite(\n",
    "'s_1401')\n",
    "NADH_m = Metabolite(\n",
    "'s_1205')\n",
    "h_m = Metabolite(\n",
    "'s_0799')\n",
    "NAD_m = Metabolite(\n",
    "'s_1200')\n",
    "\n",
    "slac_c = Metabolite(\n",
    "'s_0063')\n",
    "slac_p = Metabolite(\n",
    "'s_3725',\n",
    "formula='C3H5O3',\n",
    "name='(S)-lactate[p]',\n",
    "compartment='p')\n",
    "\n",
    "oxi_p = Metabolite(\n",
    "'s_1279')\n",
    "pyru_p = Metabolite(\n",
    "'s_0206')\n",
    "perox_p = Metabolite(\n",
    "'s_0840')\n",
    "\n",
    "atp_m = Metabolite(\n",
    "'s_0437',\n",
    "formula='C10H12N5O13P3',\n",
    "name='ATP[m]',\n",
    "compartment='m')\n",
    "adp_m = Metabolite(\n",
    "'s_0397',\n",
    "formula='C10H12N5O10P2',\n",
    "name='ADP[m]',\n",
    "compartment='m')\n",
    "smethylma_m = Metabolite(\n",
    "'s_3726',\n",
    "formula='C25H40N7O19P3S',\n",
    "name='(S)-Methylmalonyl-CoA[m]',\n",
    "compartment='m')\n",
    "\n",
    "rmethylma_m = Metabolite(\n",
    "'s_3727',\n",
    "formula='C25H40N7O19P3S',\n",
    "name='(R)-Methylmalonyl-CoA[m]',\n",
    "compartment='m')\n",
    "\n",
    "succi_m = Metabolite(\n",
    "'s_1464')"
   ]
  },
  {
   "cell_type": "code",
   "execution_count": 4,
   "id": "cce032b0",
   "metadata": {},
   "outputs": [],
   "source": [
    "reaction1 = Reaction('y300083')\n",
    "reaction1.name = '3-Oxopropanoate:NAD+ oxidoreductase (decarboxylating, CoA-acetylating)'\n",
    "reaction1.subsystem = 'Cell Propionate Biosynthesis'\n",
    "reaction1.lower_bound = -1000. # This is the default\n",
    "reaction1.upper_bound = 1000. # This is the default"
   ]
  },
  {
   "cell_type": "code",
   "execution_count": 5,
   "id": "08651589",
   "metadata": {},
   "outputs": [
    {
     "data": {
      "text/plain": [
       "'s_0529 + s_1198 + s_3724 <=> s_0373 + s_0456 + s_0794 + s_1203'"
      ]
     },
     "execution_count": 5,
     "metadata": {},
     "output_type": "execute_result"
    }
   ],
   "source": [
    "reaction1.add_metabolites({\n",
    "oxopro_c: -1.0,\n",
    "NAD_c: -1.0,\n",
    "coe_c: -1.0,\n",
    "NADH_c: 1.0,\n",
    "h_c: 1.0,\n",
    "acet_c: 1.0,\n",
    "car_c: 1.0,\n",
    "})\n",
    "reaction1.reaction"
   ]
  },
  {
   "cell_type": "code",
   "execution_count": 6,
   "id": "03349256",
   "metadata": {},
   "outputs": [],
   "source": [
    "yali.add_reactions([reaction1])"
   ]
  },
  {
   "cell_type": "code",
   "execution_count": 7,
   "id": "32efa938",
   "metadata": {},
   "outputs": [
    {
     "data": {
      "text/html": [
       "\n",
       "        <table>\n",
       "            <tr>\n",
       "                <td><strong>Reaction identifier</strong></td><td>y300083</td>\n",
       "            </tr><tr>\n",
       "                <td><strong>Name</strong></td><td>3-Oxopropanoate:NAD+ oxidoreductase (decarboxylating, CoA-acetylating)</td>\n",
       "            </tr><tr>\n",
       "                <td><strong>Memory address</strong></td>\n",
       "                <td>0x01fa358f7610</td>\n",
       "            </tr><tr>\n",
       "                <td><strong>Stoichiometry</strong></td>\n",
       "                <td>\n",
       "                    <p style='text-align:right'>s_0529 + s_1198 + s_3724 <=> s_0373 + s_0456 + s_0794 + s_1203</p>\n",
       "                    <p style='text-align:right'>coenzyme A + NAD + 3-oxopropanoate[c] <=> acetyl-CoA + carbon dioxide + H+ + NADH</p>\n",
       "                </td>\n",
       "            </tr><tr>\n",
       "                <td><strong>GPR</strong></td><td></td>\n",
       "            </tr><tr>\n",
       "                <td><strong>Lower bound</strong></td><td>-1000.0</td>\n",
       "            </tr><tr>\n",
       "                <td><strong>Upper bound</strong></td><td>1000.0</td>\n",
       "            </tr>\n",
       "        </table>\n",
       "        "
      ],
      "text/plain": [
       "<Reaction y300083 at 0x1fa358f7610>"
      ]
     },
     "execution_count": 7,
     "metadata": {},
     "output_type": "execute_result"
    }
   ],
   "source": [
    "yali.reactions.y300083"
   ]
  },
  {
   "cell_type": "code",
   "execution_count": 8,
   "id": "9dd3b648",
   "metadata": {},
   "outputs": [],
   "source": [
    "reaction2 = Reaction('y300084')\n",
    "reaction2.name = '3-hydroxypropanoate:NAD+ oxidoreductase'\n",
    "reaction2.subsystem = 'Cell Propionate Biosynthesis'\n",
    "reaction2.lower_bound = -1000. # This is the default\n",
    "reaction2.upper_bound = 1000. # This is the default"
   ]
  },
  {
   "cell_type": "code",
   "execution_count": 9,
   "id": "58b542f4",
   "metadata": {},
   "outputs": [
    {
     "data": {
      "text/plain": [
       "'s_1198 + s_3723 <=> s_0794 + s_1203 + s_3724'"
      ]
     },
     "execution_count": 9,
     "metadata": {},
     "output_type": "execute_result"
    }
   ],
   "source": [
    "reaction2.add_metabolites({\n",
    "hydroxypropanoate_c: -1.0,\n",
    "NAD_c: -1.0,\n",
    "NADH_c: 1.0,\n",
    "h_c: 1.0,\n",
    "oxopro_c: 1.0,\n",
    "})\n",
    "reaction2.reaction"
   ]
  },
  {
   "cell_type": "code",
   "execution_count": 10,
   "id": "c87f37a8",
   "metadata": {},
   "outputs": [],
   "source": [
    "yali.add_reactions([reaction2])"
   ]
  },
  {
   "cell_type": "code",
   "execution_count": 11,
   "id": "cea3aaa7",
   "metadata": {},
   "outputs": [
    {
     "data": {
      "text/html": [
       "\n",
       "        <table>\n",
       "            <tr>\n",
       "                <td><strong>Reaction identifier</strong></td><td>y300084</td>\n",
       "            </tr><tr>\n",
       "                <td><strong>Name</strong></td><td>3-hydroxypropanoate:NAD+ oxidoreductase</td>\n",
       "            </tr><tr>\n",
       "                <td><strong>Memory address</strong></td>\n",
       "                <td>0x01fa3590d1c0</td>\n",
       "            </tr><tr>\n",
       "                <td><strong>Stoichiometry</strong></td>\n",
       "                <td>\n",
       "                    <p style='text-align:right'>s_1198 + s_3723 <=> s_0794 + s_1203 + s_3724</p>\n",
       "                    <p style='text-align:right'>NAD + 3-Hydroxypropanoate [c] <=> H+ + NADH + 3-oxopropanoate[c]</p>\n",
       "                </td>\n",
       "            </tr><tr>\n",
       "                <td><strong>GPR</strong></td><td></td>\n",
       "            </tr><tr>\n",
       "                <td><strong>Lower bound</strong></td><td>-1000.0</td>\n",
       "            </tr><tr>\n",
       "                <td><strong>Upper bound</strong></td><td>1000.0</td>\n",
       "            </tr>\n",
       "        </table>\n",
       "        "
      ],
      "text/plain": [
       "<Reaction y300084 at 0x1fa3590d1c0>"
      ]
     },
     "execution_count": 11,
     "metadata": {},
     "output_type": "execute_result"
    }
   ],
   "source": [
    "yali.reactions.y300084"
   ]
  },
  {
   "cell_type": "code",
   "execution_count": 12,
   "id": "69238d26",
   "metadata": {},
   "outputs": [],
   "source": [
    "reaction3 = Reaction('y300085')\n",
    "reaction3.name = '3-hydroxypropionate:CoA ligase (AMP-forming)'\n",
    "reaction3.subsystem = 'Cell Propionate Biosynthesis'\n",
    "reaction3.lower_bound = -1000. # This is the default\n",
    "reaction3.upper_bound = 1000. # This is the default"
   ]
  },
  {
   "cell_type": "code",
   "execution_count": 13,
   "id": "9c9c0427",
   "metadata": {},
   "outputs": [
    {
     "data": {
      "text/plain": [
       "'s_0423 + s_0633 + s_3722 <=> s_0434 + s_0529 + s_3723'"
      ]
     },
     "execution_count": 13,
     "metadata": {},
     "output_type": "execute_result"
    }
   ],
   "source": [
    "reaction3.add_metabolites({\n",
    "hydroxcoa_c: -1.0,\n",
    "difos_c: -1.0,\n",
    "amp_c: -1.0,\n",
    "coe_c: 1.0,\n",
    "atp_c: 1.0,\n",
    "hydroxypropanoate_c: 1.0,\n",
    "})\n",
    "reaction3.reaction"
   ]
  },
  {
   "cell_type": "code",
   "execution_count": 14,
   "id": "53c7de22",
   "metadata": {},
   "outputs": [],
   "source": [
    "yali.add_reactions([reaction3])"
   ]
  },
  {
   "cell_type": "code",
   "execution_count": 15,
   "id": "a0a8a067",
   "metadata": {},
   "outputs": [
    {
     "data": {
      "text/html": [
       "\n",
       "        <table>\n",
       "            <tr>\n",
       "                <td><strong>Reaction identifier</strong></td><td>y300085</td>\n",
       "            </tr><tr>\n",
       "                <td><strong>Name</strong></td><td>3-hydroxypropionate:CoA ligase (AMP-forming)</td>\n",
       "            </tr><tr>\n",
       "                <td><strong>Memory address</strong></td>\n",
       "                <td>0x01fa358eb0d0</td>\n",
       "            </tr><tr>\n",
       "                <td><strong>Stoichiometry</strong></td>\n",
       "                <td>\n",
       "                    <p style='text-align:right'>s_0423 + s_0633 + s_3722 <=> s_0434 + s_0529 + s_3723</p>\n",
       "                    <p style='text-align:right'>AMP + diphosphate + 3-hydroxypropionyl-CoA [c] <=> ATP + coenzyme A + 3-Hydroxypropanoate [c]</p>\n",
       "                </td>\n",
       "            </tr><tr>\n",
       "                <td><strong>GPR</strong></td><td></td>\n",
       "            </tr><tr>\n",
       "                <td><strong>Lower bound</strong></td><td>-1000.0</td>\n",
       "            </tr><tr>\n",
       "                <td><strong>Upper bound</strong></td><td>1000.0</td>\n",
       "            </tr>\n",
       "        </table>\n",
       "        "
      ],
      "text/plain": [
       "<Reaction y300085 at 0x1fa358eb0d0>"
      ]
     },
     "execution_count": 15,
     "metadata": {},
     "output_type": "execute_result"
    }
   ],
   "source": [
    "yali.reactions.y300085"
   ]
  },
  {
   "cell_type": "code",
   "execution_count": 16,
   "id": "7aa12eca",
   "metadata": {},
   "outputs": [],
   "source": [
    "reaction4 = Reaction('y300086')\n",
    "reaction4.name = '3-hydroxypropionyl-CoA hydrolyase'\n",
    "reaction4.subsystem = 'Cell Propionate Biosynthesis'\n",
    "reaction4.lower_bound = -1000. # This is the default\n",
    "reaction4.upper_bound = 1000. # This is the default"
   ]
  },
  {
   "cell_type": "code",
   "execution_count": 17,
   "id": "8c5752e7",
   "metadata": {},
   "outputs": [
    {
     "data": {
      "text/plain": [
       "'s_3721 <=> s_0803 + s_3722'"
      ]
     },
     "execution_count": 17,
     "metadata": {},
     "output_type": "execute_result"
    }
   ],
   "source": [
    "reaction4.add_metabolites({\n",
    "propecoa_c: -1.0,\n",
    "hydroxcoa_c: 1.0,\n",
    "water_c: 1.0,\n",
    "})\n",
    "reaction4.reaction"
   ]
  },
  {
   "cell_type": "code",
   "execution_count": 18,
   "id": "fc192cda",
   "metadata": {},
   "outputs": [],
   "source": [
    "yali.add_reactions([reaction4])"
   ]
  },
  {
   "cell_type": "code",
   "execution_count": 19,
   "id": "73709345",
   "metadata": {},
   "outputs": [
    {
     "data": {
      "text/html": [
       "\n",
       "        <table>\n",
       "            <tr>\n",
       "                <td><strong>Reaction identifier</strong></td><td>y300086</td>\n",
       "            </tr><tr>\n",
       "                <td><strong>Name</strong></td><td>3-hydroxypropionyl-CoA hydrolyase</td>\n",
       "            </tr><tr>\n",
       "                <td><strong>Memory address</strong></td>\n",
       "                <td>0x01fa09dd7940</td>\n",
       "            </tr><tr>\n",
       "                <td><strong>Stoichiometry</strong></td>\n",
       "                <td>\n",
       "                    <p style='text-align:right'>s_3721 <=> s_0803 + s_3722</p>\n",
       "                    <p style='text-align:right'>Propenoyl-CoA[c] <=> H2O + 3-hydroxypropionyl-CoA [c]</p>\n",
       "                </td>\n",
       "            </tr><tr>\n",
       "                <td><strong>GPR</strong></td><td></td>\n",
       "            </tr><tr>\n",
       "                <td><strong>Lower bound</strong></td><td>-1000.0</td>\n",
       "            </tr><tr>\n",
       "                <td><strong>Upper bound</strong></td><td>1000.0</td>\n",
       "            </tr>\n",
       "        </table>\n",
       "        "
      ],
      "text/plain": [
       "<Reaction y300086 at 0x1fa09dd7940>"
      ]
     },
     "execution_count": 19,
     "metadata": {},
     "output_type": "execute_result"
    }
   ],
   "source": [
    "yali.reactions.y300086"
   ]
  },
  {
   "cell_type": "code",
   "execution_count": 20,
   "id": "bbd3a95e",
   "metadata": {},
   "outputs": [],
   "source": [
    "reaction5 = Reaction('y300087')\n",
    "reaction5.name = 'propanoyl-CoA: electron-transfer flavoprotein 2,3-oxidoreductase'\n",
    "reaction5.subsystem = 'Cell Propionate Biosynthesis'\n",
    "reaction5.lower_bound = -1000. # This is the default\n",
    "reaction5.upper_bound = 1000. # This is the default"
   ]
  },
  {
   "cell_type": "code",
   "execution_count": 21,
   "id": "1594dfd6",
   "metadata": {},
   "outputs": [
    {
     "data": {
      "text/plain": [
       "'s_1275 + s_3719 <=> s_0837 + s_3721'"
      ]
     },
     "execution_count": 21,
     "metadata": {},
     "output_type": "execute_result"
    }
   ],
   "source": [
    "reaction5.add_metabolites({\n",
    "propiocoa_c: -1.0,\n",
    "oxigen_c: -1.0,\n",
    "hyprox_c: 1.0,\n",
    "propecoa_c: 1.0,\n",
    "})\n",
    "reaction5.reaction"
   ]
  },
  {
   "cell_type": "code",
   "execution_count": 22,
   "id": "80cc9e1c",
   "metadata": {},
   "outputs": [],
   "source": [
    "yali.add_reactions([reaction5])"
   ]
  },
  {
   "cell_type": "code",
   "execution_count": 23,
   "id": "b85e722f",
   "metadata": {},
   "outputs": [
    {
     "data": {
      "text/plain": [
       "frozenset({<Gene P06149.3 at 0x1fa358f17f0>})"
      ]
     },
     "execution_count": 23,
     "metadata": {},
     "output_type": "execute_result"
    }
   ],
   "source": [
    "reaction5.gene_reaction_rule = '(P06149.3)'\n",
    "reaction5.genes"
   ]
  },
  {
   "cell_type": "code",
   "execution_count": 24,
   "id": "4c00509a",
   "metadata": {},
   "outputs": [
    {
     "data": {
      "text/html": [
       "\n",
       "        <table>\n",
       "            <tr>\n",
       "                <td><strong>Reaction identifier</strong></td><td>y300087</td>\n",
       "            </tr><tr>\n",
       "                <td><strong>Name</strong></td><td>propanoyl-CoA: electron-transfer flavoprotein 2,3-oxidoreductase</td>\n",
       "            </tr><tr>\n",
       "                <td><strong>Memory address</strong></td>\n",
       "                <td>0x01fa358fe550</td>\n",
       "            </tr><tr>\n",
       "                <td><strong>Stoichiometry</strong></td>\n",
       "                <td>\n",
       "                    <p style='text-align:right'>s_1275 + s_3719 <=> s_0837 + s_3721</p>\n",
       "                    <p style='text-align:right'>oxygen + Propionyl-CoA[c] <=> hydrogen peroxide + Propenoyl-CoA[c]</p>\n",
       "                </td>\n",
       "            </tr><tr>\n",
       "                <td><strong>GPR</strong></td><td>P06149.3</td>\n",
       "            </tr><tr>\n",
       "                <td><strong>Lower bound</strong></td><td>-1000.0</td>\n",
       "            </tr><tr>\n",
       "                <td><strong>Upper bound</strong></td><td>1000.0</td>\n",
       "            </tr>\n",
       "        </table>\n",
       "        "
      ],
      "text/plain": [
       "<Reaction y300087 at 0x1fa358fe550>"
      ]
     },
     "execution_count": 24,
     "metadata": {},
     "output_type": "execute_result"
    }
   ],
   "source": [
    "yali.reactions.y300087"
   ]
  },
  {
   "cell_type": "code",
   "execution_count": 25,
   "id": "e55a1764",
   "metadata": {},
   "outputs": [],
   "source": [
    "reaction6 = Reaction('y300088')\n",
    "reaction6.name = 'Propionyl-CoA transporter [c] - [m]'\n",
    "reaction6.subsystem = 'Cell Propionate Biosynthesis'\n",
    "reaction6.lower_bound = -1000. # This is the default\n",
    "reaction6.upper_bound = 1000. # This is the default"
   ]
  },
  {
   "cell_type": "code",
   "execution_count": 26,
   "id": "007e9478",
   "metadata": {},
   "outputs": [
    {
     "data": {
      "text/plain": [
       "'s_3719 <=> s_1382'"
      ]
     },
     "execution_count": 26,
     "metadata": {},
     "output_type": "execute_result"
    }
   ],
   "source": [
    "reaction6.add_metabolites({\n",
    "propiocoa_c: -1.0,\n",
    "propiocoa_m: 1.0,\n",
    "})\n",
    "reaction6.reaction"
   ]
  },
  {
   "cell_type": "code",
   "execution_count": 27,
   "id": "9d215275",
   "metadata": {},
   "outputs": [],
   "source": [
    "yali.add_reactions([reaction6])"
   ]
  },
  {
   "cell_type": "code",
   "execution_count": 28,
   "id": "96f65139",
   "metadata": {},
   "outputs": [
    {
     "data": {
      "text/html": [
       "\n",
       "        <table>\n",
       "            <tr>\n",
       "                <td><strong>Reaction identifier</strong></td><td>y300088</td>\n",
       "            </tr><tr>\n",
       "                <td><strong>Name</strong></td><td>Propionyl-CoA transporter [c] - [m]</td>\n",
       "            </tr><tr>\n",
       "                <td><strong>Memory address</strong></td>\n",
       "                <td>0x01fa358eb490</td>\n",
       "            </tr><tr>\n",
       "                <td><strong>Stoichiometry</strong></td>\n",
       "                <td>\n",
       "                    <p style='text-align:right'>s_3719 <=> s_1382</p>\n",
       "                    <p style='text-align:right'>Propionyl-CoA[c] <=> propionyl-CoA</p>\n",
       "                </td>\n",
       "            </tr><tr>\n",
       "                <td><strong>GPR</strong></td><td></td>\n",
       "            </tr><tr>\n",
       "                <td><strong>Lower bound</strong></td><td>-1000.0</td>\n",
       "            </tr><tr>\n",
       "                <td><strong>Upper bound</strong></td><td>1000.0</td>\n",
       "            </tr>\n",
       "        </table>\n",
       "        "
      ],
      "text/plain": [
       "<Reaction y300088 at 0x1fa358eb490>"
      ]
     },
     "execution_count": 28,
     "metadata": {},
     "output_type": "execute_result"
    }
   ],
   "source": [
    "yali.reactions.y300088"
   ]
  },
  {
   "cell_type": "code",
   "execution_count": 29,
   "id": "c6ede048",
   "metadata": {},
   "outputs": [],
   "source": [
    "reaction7 = Reaction('y300089')\n",
    "reaction7.name = 'Propionate CoA-transferase'\n",
    "reaction7.subsystem = 'Cell Propionate Biosynthesis'\n",
    "reaction7.lower_bound = -1000. # This is the default\n",
    "reaction7.upper_bound = 1000. # This is the default"
   ]
  },
  {
   "cell_type": "code",
   "execution_count": 30,
   "id": "da21e392",
   "metadata": {},
   "outputs": [
    {
     "data": {
      "text/plain": [
       "'s_3718 <=> s_3719'"
      ]
     },
     "execution_count": 30,
     "metadata": {},
     "output_type": "execute_result"
    }
   ],
   "source": [
    "reaction7.add_metabolites({\n",
    "propio_c: -1.0,\n",
    "propiocoa_c: 1.0,\n",
    "})\n",
    "reaction7.reaction"
   ]
  },
  {
   "cell_type": "code",
   "execution_count": 31,
   "id": "5ac24423",
   "metadata": {},
   "outputs": [],
   "source": [
    "yali.add_reactions([reaction7])"
   ]
  },
  {
   "cell_type": "code",
   "execution_count": 32,
   "id": "f0b88a47",
   "metadata": {},
   "outputs": [
    {
     "data": {
      "text/html": [
       "\n",
       "        <table>\n",
       "            <tr>\n",
       "                <td><strong>Reaction identifier</strong></td><td>y300089</td>\n",
       "            </tr><tr>\n",
       "                <td><strong>Name</strong></td><td>Propionate CoA-transferase</td>\n",
       "            </tr><tr>\n",
       "                <td><strong>Memory address</strong></td>\n",
       "                <td>0x01fa358eb5b0</td>\n",
       "            </tr><tr>\n",
       "                <td><strong>Stoichiometry</strong></td>\n",
       "                <td>\n",
       "                    <p style='text-align:right'>s_3718 <=> s_3719</p>\n",
       "                    <p style='text-align:right'>Propionate[c] <=> Propionyl-CoA[c]</p>\n",
       "                </td>\n",
       "            </tr><tr>\n",
       "                <td><strong>GPR</strong></td><td></td>\n",
       "            </tr><tr>\n",
       "                <td><strong>Lower bound</strong></td><td>-1000.0</td>\n",
       "            </tr><tr>\n",
       "                <td><strong>Upper bound</strong></td><td>1000.0</td>\n",
       "            </tr>\n",
       "        </table>\n",
       "        "
      ],
      "text/plain": [
       "<Reaction y300089 at 0x1fa358eb5b0>"
      ]
     },
     "execution_count": 32,
     "metadata": {},
     "output_type": "execute_result"
    }
   ],
   "source": [
    "yali.reactions.y300089"
   ]
  },
  {
   "cell_type": "code",
   "execution_count": 33,
   "id": "09b5ad16",
   "metadata": {},
   "outputs": [],
   "source": [
    "reaction8 = Reaction('y300090')\n",
    "reaction8.name = 'Propionate Extracellular Transporter'\n",
    "reaction8.subsystem = 'Cell Propionate Biosynthesis'\n",
    "reaction8.lower_bound = 0. # This is the default\n",
    "reaction8.upper_bound = 1000. # This is the default"
   ]
  },
  {
   "cell_type": "code",
   "execution_count": 34,
   "id": "3518aad8",
   "metadata": {},
   "outputs": [
    {
     "data": {
      "text/plain": [
       "'s_3717 --> s_3718'"
      ]
     },
     "execution_count": 34,
     "metadata": {},
     "output_type": "execute_result"
    }
   ],
   "source": [
    "reaction8.add_metabolites({\n",
    "propio_extr: -1.0,\n",
    "propio_c: 1.0,\n",
    "})\n",
    "reaction8.reaction"
   ]
  },
  {
   "cell_type": "code",
   "execution_count": 35,
   "id": "15658e17",
   "metadata": {},
   "outputs": [
    {
     "data": {
      "text/plain": [
       "frozenset({<Gene MFS1 at 0x1fa358fe7f0>})"
      ]
     },
     "execution_count": 35,
     "metadata": {},
     "output_type": "execute_result"
    }
   ],
   "source": [
    "reaction8.gene_reaction_rule = '( MFS1 )'\n",
    "reaction8.genes"
   ]
  },
  {
   "cell_type": "code",
   "execution_count": 36,
   "id": "43e52f12",
   "metadata": {},
   "outputs": [],
   "source": [
    "yali.add_reactions([reaction8])"
   ]
  },
  {
   "cell_type": "code",
   "execution_count": 37,
   "id": "ae4ba839",
   "metadata": {},
   "outputs": [
    {
     "data": {
      "text/html": [
       "\n",
       "        <table>\n",
       "            <tr>\n",
       "                <td><strong>Reaction identifier</strong></td><td>y300090</td>\n",
       "            </tr><tr>\n",
       "                <td><strong>Name</strong></td><td>Propionate Extracellular Transporter</td>\n",
       "            </tr><tr>\n",
       "                <td><strong>Memory address</strong></td>\n",
       "                <td>0x01fa358ebee0</td>\n",
       "            </tr><tr>\n",
       "                <td><strong>Stoichiometry</strong></td>\n",
       "                <td>\n",
       "                    <p style='text-align:right'>s_3717 --> s_3718</p>\n",
       "                    <p style='text-align:right'>Propionate[e] --> Propionate[c]</p>\n",
       "                </td>\n",
       "            </tr><tr>\n",
       "                <td><strong>GPR</strong></td><td>MFS1</td>\n",
       "            </tr><tr>\n",
       "                <td><strong>Lower bound</strong></td><td>0.0</td>\n",
       "            </tr><tr>\n",
       "                <td><strong>Upper bound</strong></td><td>1000.0</td>\n",
       "            </tr>\n",
       "        </table>\n",
       "        "
      ],
      "text/plain": [
       "<Reaction y300090 at 0x1fa358ebee0>"
      ]
     },
     "execution_count": 37,
     "metadata": {},
     "output_type": "execute_result"
    }
   ],
   "source": [
    "yali.reactions.y300090"
   ]
  },
  {
   "cell_type": "code",
   "execution_count": 38,
   "id": "2de6ed3a",
   "metadata": {},
   "outputs": [
    {
     "data": {
      "text/html": [
       "\n",
       "        <table>\n",
       "            <tr>\n",
       "                <td><strong>Reaction identifier</strong></td><td>SK_s_3717</td>\n",
       "            </tr><tr>\n",
       "                <td><strong>Name</strong></td><td>Propionate[e] sink</td>\n",
       "            </tr><tr>\n",
       "                <td><strong>Memory address</strong></td>\n",
       "                <td>0x01fa358f1160</td>\n",
       "            </tr><tr>\n",
       "                <td><strong>Stoichiometry</strong></td>\n",
       "                <td>\n",
       "                    <p style='text-align:right'>s_3717 <=></p>\n",
       "                    <p style='text-align:right'>Propionate[e] <=></p>\n",
       "                </td>\n",
       "            </tr><tr>\n",
       "                <td><strong>GPR</strong></td><td></td>\n",
       "            </tr><tr>\n",
       "                <td><strong>Lower bound</strong></td><td>-1000.0</td>\n",
       "            </tr><tr>\n",
       "                <td><strong>Upper bound</strong></td><td>1000.0</td>\n",
       "            </tr>\n",
       "        </table>\n",
       "        "
      ],
      "text/plain": [
       "<Reaction SK_s_3717 at 0x1fa358f1160>"
      ]
     },
     "execution_count": 38,
     "metadata": {},
     "output_type": "execute_result"
    }
   ],
   "source": [
    "# create exchange reaction\n",
    "yali.add_boundary(yali.metabolites.get_by_id(\"s_3717\"), type=\"sink\")"
   ]
  },
  {
   "cell_type": "code",
   "execution_count": 39,
   "id": "33f06dd4",
   "metadata": {},
   "outputs": [],
   "source": [
    "reaction9 = Reaction('y300091')\n",
    "reaction9.name = '(R)-Methylmalonyl-CoA CoA-carbonylmutase'\n",
    "reaction9.subsystem = 'Cell Methylmalonyl Pathway'\n",
    "reaction9.lower_bound = -1000. # This is the default\n",
    "reaction9.upper_bound = 1000. # This is the default"
   ]
  },
  {
   "cell_type": "code",
   "execution_count": 40,
   "id": "abe438fc",
   "metadata": {},
   "outputs": [
    {
     "data": {
      "text/plain": [
       "'s_3727 <=> s_1464'"
      ]
     },
     "execution_count": 40,
     "metadata": {},
     "output_type": "execute_result"
    }
   ],
   "source": [
    "reaction9.add_metabolites({\n",
    "rmethylma_m: -1.0,\n",
    "succi_m: 1.0,\n",
    "})\n",
    "reaction9.reaction"
   ]
  },
  {
   "cell_type": "code",
   "execution_count": 41,
   "id": "575f7c62",
   "metadata": {},
   "outputs": [],
   "source": [
    "yali.add_reactions([reaction9])"
   ]
  },
  {
   "cell_type": "code",
   "execution_count": 42,
   "id": "a45250ad",
   "metadata": {},
   "outputs": [
    {
     "data": {
      "text/html": [
       "\n",
       "        <table>\n",
       "            <tr>\n",
       "                <td><strong>Reaction identifier</strong></td><td>y300091</td>\n",
       "            </tr><tr>\n",
       "                <td><strong>Name</strong></td><td>(R)-Methylmalonyl-CoA CoA-carbonylmutase</td>\n",
       "            </tr><tr>\n",
       "                <td><strong>Memory address</strong></td>\n",
       "                <td>0x01fa358eb2e0</td>\n",
       "            </tr><tr>\n",
       "                <td><strong>Stoichiometry</strong></td>\n",
       "                <td>\n",
       "                    <p style='text-align:right'>s_3727 <=> s_1464</p>\n",
       "                    <p style='text-align:right'>(R)-Methylmalonyl-CoA[m] <=> succinyl-CoA</p>\n",
       "                </td>\n",
       "            </tr><tr>\n",
       "                <td><strong>GPR</strong></td><td></td>\n",
       "            </tr><tr>\n",
       "                <td><strong>Lower bound</strong></td><td>-1000.0</td>\n",
       "            </tr><tr>\n",
       "                <td><strong>Upper bound</strong></td><td>1000.0</td>\n",
       "            </tr>\n",
       "        </table>\n",
       "        "
      ],
      "text/plain": [
       "<Reaction y300091 at 0x1fa358eb2e0>"
      ]
     },
     "execution_count": 42,
     "metadata": {},
     "output_type": "execute_result"
    }
   ],
   "source": [
    "yali.reactions.y300091"
   ]
  },
  {
   "cell_type": "code",
   "execution_count": 43,
   "id": "21c78e93",
   "metadata": {},
   "outputs": [],
   "source": [
    "reaction10 = Reaction('y300092')\n",
    "reaction10.name = 'Methylmalonyl-CoA epimerase'\n",
    "reaction10.subsystem = 'Cell Methylmalonyl Pathway'\n",
    "reaction10.lower_bound = -1000. # This is the default\n",
    "reaction10.upper_bound = 1000. # This is the default"
   ]
  },
  {
   "cell_type": "code",
   "execution_count": 44,
   "id": "11d7ddbb",
   "metadata": {},
   "outputs": [
    {
     "data": {
      "text/plain": [
       "'s_3726 <=> s_3727'"
      ]
     },
     "execution_count": 44,
     "metadata": {},
     "output_type": "execute_result"
    }
   ],
   "source": [
    "reaction10.add_metabolites({\n",
    "smethylma_m: -1.0,\n",
    "rmethylma_m: 1.0,\n",
    "})\n",
    "reaction10.reaction"
   ]
  },
  {
   "cell_type": "code",
   "execution_count": 45,
   "id": "c3230f2e",
   "metadata": {},
   "outputs": [],
   "source": [
    "yali.add_reactions([reaction10])"
   ]
  },
  {
   "cell_type": "code",
   "execution_count": 46,
   "id": "d48ecbe9",
   "metadata": {},
   "outputs": [
    {
     "data": {
      "text/html": [
       "\n",
       "        <table>\n",
       "            <tr>\n",
       "                <td><strong>Reaction identifier</strong></td><td>y300091</td>\n",
       "            </tr><tr>\n",
       "                <td><strong>Name</strong></td><td>(R)-Methylmalonyl-CoA CoA-carbonylmutase</td>\n",
       "            </tr><tr>\n",
       "                <td><strong>Memory address</strong></td>\n",
       "                <td>0x01fa358eb2e0</td>\n",
       "            </tr><tr>\n",
       "                <td><strong>Stoichiometry</strong></td>\n",
       "                <td>\n",
       "                    <p style='text-align:right'>s_3727 <=> s_1464</p>\n",
       "                    <p style='text-align:right'>(R)-Methylmalonyl-CoA[m] <=> succinyl-CoA</p>\n",
       "                </td>\n",
       "            </tr><tr>\n",
       "                <td><strong>GPR</strong></td><td></td>\n",
       "            </tr><tr>\n",
       "                <td><strong>Lower bound</strong></td><td>-1000.0</td>\n",
       "            </tr><tr>\n",
       "                <td><strong>Upper bound</strong></td><td>1000.0</td>\n",
       "            </tr>\n",
       "        </table>\n",
       "        "
      ],
      "text/plain": [
       "<Reaction y300091 at 0x1fa358eb2e0>"
      ]
     },
     "execution_count": 46,
     "metadata": {},
     "output_type": "execute_result"
    }
   ],
   "source": [
    "yali.reactions.y300091"
   ]
  },
  {
   "cell_type": "code",
   "execution_count": 47,
   "id": "63018e9a",
   "metadata": {},
   "outputs": [],
   "source": [
    "reaction11 = Reaction('y300093')\n",
    "reaction11.name = 'Propionyl-CoA carboxylase'\n",
    "reaction11.subsystem = 'Cell Methylmalonyl Pathway'\n",
    "reaction11.lower_bound = -1000. # This is the default\n",
    "reaction11.upper_bound = 1000. # This is the default"
   ]
  },
  {
   "cell_type": "code",
   "execution_count": 48,
   "id": "1f6cb505",
   "metadata": {},
   "outputs": [
    {
     "data": {
      "text/plain": [
       "'s_0437 + s_1382 <=> s_0397 + s_3726'"
      ]
     },
     "execution_count": 48,
     "metadata": {},
     "output_type": "execute_result"
    }
   ],
   "source": [
    "reaction11.add_metabolites({\n",
    "propiocoa_m: -1.0,\n",
    "atp_m: -1.0,\n",
    "adp_m: 1.0,\n",
    "smethylma_m: 1.0,\n",
    "})\n",
    "reaction11.reaction"
   ]
  },
  {
   "cell_type": "code",
   "execution_count": 49,
   "id": "fd123a3f",
   "metadata": {},
   "outputs": [],
   "source": [
    "yali.add_reactions([reaction11])"
   ]
  },
  {
   "cell_type": "code",
   "execution_count": 50,
   "id": "9f35d7ce",
   "metadata": {},
   "outputs": [
    {
     "data": {
      "text/html": [
       "\n",
       "        <table>\n",
       "            <tr>\n",
       "                <td><strong>Reaction identifier</strong></td><td>y300093</td>\n",
       "            </tr><tr>\n",
       "                <td><strong>Name</strong></td><td>Propionyl-CoA carboxylase</td>\n",
       "            </tr><tr>\n",
       "                <td><strong>Memory address</strong></td>\n",
       "                <td>0x01fa363e7ee0</td>\n",
       "            </tr><tr>\n",
       "                <td><strong>Stoichiometry</strong></td>\n",
       "                <td>\n",
       "                    <p style='text-align:right'>s_0437 + s_1382 <=> s_0397 + s_3726</p>\n",
       "                    <p style='text-align:right'>ATP + propionyl-CoA <=> ADP + (S)-Methylmalonyl-CoA[m]</p>\n",
       "                </td>\n",
       "            </tr><tr>\n",
       "                <td><strong>GPR</strong></td><td></td>\n",
       "            </tr><tr>\n",
       "                <td><strong>Lower bound</strong></td><td>-1000.0</td>\n",
       "            </tr><tr>\n",
       "                <td><strong>Upper bound</strong></td><td>1000.0</td>\n",
       "            </tr>\n",
       "        </table>\n",
       "        "
      ],
      "text/plain": [
       "<Reaction y300093 at 0x1fa363e7ee0>"
      ]
     },
     "execution_count": 50,
     "metadata": {},
     "output_type": "execute_result"
    }
   ],
   "source": [
    "yali.reactions.y300093"
   ]
  },
  {
   "cell_type": "code",
   "execution_count": 51,
   "id": "58bca208",
   "metadata": {},
   "outputs": [],
   "source": [
    "yali.objective = 'y300090'"
   ]
  },
  {
   "cell_type": "code",
   "execution_count": 52,
   "id": "5e17a0f3",
   "metadata": {},
   "outputs": [
    {
     "name": "stdout",
     "output_type": "stream",
     "text": [
      "<Solution 0.000 at 0x1fa364dc1c0>\n"
     ]
    },
    {
     "data": {
      "text/plain": [
       "0.0"
      ]
     },
     "execution_count": 52,
     "metadata": {},
     "output_type": "execute_result"
    }
   ],
   "source": [
    "solution = yali.optimize()\n",
    "print(solution)\n",
    "solution.objective_value"
   ]
  },
  {
   "cell_type": "code",
   "execution_count": 53,
   "id": "74c1c958",
   "metadata": {},
   "outputs": [
    {
     "data": {
      "text/html": [
       "<strong><em>Optimal</em> solution with objective value 0.000</strong><br><div>\n",
       "<style scoped>\n",
       "    .dataframe tbody tr th:only-of-type {\n",
       "        vertical-align: middle;\n",
       "    }\n",
       "\n",
       "    .dataframe tbody tr th {\n",
       "        vertical-align: top;\n",
       "    }\n",
       "\n",
       "    .dataframe thead th {\n",
       "        text-align: right;\n",
       "    }\n",
       "</style>\n",
       "<table border=\"1\" class=\"dataframe\">\n",
       "  <thead>\n",
       "    <tr style=\"text-align: right;\">\n",
       "      <th></th>\n",
       "      <th>fluxes</th>\n",
       "      <th>reduced_costs</th>\n",
       "    </tr>\n",
       "  </thead>\n",
       "  <tbody>\n",
       "    <tr>\n",
       "      <th>xAMINOACID</th>\n",
       "      <td>0.0</td>\n",
       "      <td>0.000000e+00</td>\n",
       "    </tr>\n",
       "    <tr>\n",
       "      <th>xBIOMASS</th>\n",
       "      <td>0.0</td>\n",
       "      <td>0.000000e+00</td>\n",
       "    </tr>\n",
       "    <tr>\n",
       "      <th>xLIPID</th>\n",
       "      <td>0.0</td>\n",
       "      <td>-1.183291e-30</td>\n",
       "    </tr>\n",
       "    <tr>\n",
       "      <th>xMAINTENANCE</th>\n",
       "      <td>0.0</td>\n",
       "      <td>0.000000e+00</td>\n",
       "    </tr>\n",
       "    <tr>\n",
       "      <th>xPOOL_AC_EM</th>\n",
       "      <td>0.0</td>\n",
       "      <td>-2.775558e-17</td>\n",
       "    </tr>\n",
       "    <tr>\n",
       "      <th>...</th>\n",
       "      <td>...</td>\n",
       "      <td>...</td>\n",
       "    </tr>\n",
       "    <tr>\n",
       "      <th>y300090</th>\n",
       "      <td>0.0</td>\n",
       "      <td>0.000000e+00</td>\n",
       "    </tr>\n",
       "    <tr>\n",
       "      <th>SK_s_3717</th>\n",
       "      <td>0.0</td>\n",
       "      <td>0.000000e+00</td>\n",
       "    </tr>\n",
       "    <tr>\n",
       "      <th>y300091</th>\n",
       "      <td>0.0</td>\n",
       "      <td>-0.000000e+00</td>\n",
       "    </tr>\n",
       "    <tr>\n",
       "      <th>y300092</th>\n",
       "      <td>0.0</td>\n",
       "      <td>-0.000000e+00</td>\n",
       "    </tr>\n",
       "    <tr>\n",
       "      <th>y300093</th>\n",
       "      <td>0.0</td>\n",
       "      <td>0.000000e+00</td>\n",
       "    </tr>\n",
       "  </tbody>\n",
       "</table>\n",
       "<p>1936 rows × 2 columns</p>\n",
       "</div>"
      ],
      "text/plain": [
       "<Solution 0.000 at 0x1fa364dc580>"
      ]
     },
     "execution_count": 53,
     "metadata": {},
     "output_type": "execute_result"
    }
   ],
   "source": [
    "yali.optimize()"
   ]
  },
  {
   "cell_type": "code",
   "execution_count": 54,
   "id": "d4e5bf9c",
   "metadata": {},
   "outputs": [],
   "source": [
    "cobra.io.json.save_json_model(yali, 'iYalinewPathways-Alltogether-Exchange-2.5.3-sink.json')\n",
    "cobra.io.write_sbml_model(yali, \"iYalinewPathways-Alltogether-Exchange-2.5.3-sink.xml\")"
   ]
  }
 ],
 "metadata": {
  "kernelspec": {
   "display_name": "Python 3 (ipykernel)",
   "language": "python",
   "name": "python3"
  },
  "language_info": {
   "codemirror_mode": {
    "name": "ipython",
    "version": 3
   },
   "file_extension": ".py",
   "mimetype": "text/x-python",
   "name": "python",
   "nbconvert_exporter": "python",
   "pygments_lexer": "ipython3",
   "version": "3.8.12"
  }
 },
 "nbformat": 4,
 "nbformat_minor": 5
}
