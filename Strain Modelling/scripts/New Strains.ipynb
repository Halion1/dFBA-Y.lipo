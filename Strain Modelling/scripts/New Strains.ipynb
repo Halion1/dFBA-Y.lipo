{
 "cells": [
  {
   "cell_type": "code",
   "execution_count": 1,
   "id": "cb6ea663",
   "metadata": {},
   "outputs": [],
   "source": [
    "import cobra"
   ]
  },
  {
   "cell_type": "code",
   "execution_count": 2,
   "id": "4a5d0d71",
   "metadata": {},
   "outputs": [],
   "source": [
    "import cplex"
   ]
  },
  {
   "cell_type": "code",
   "execution_count": 3,
   "id": "be69b538",
   "metadata": {},
   "outputs": [],
   "source": [
    "import pandas as pd"
   ]
  },
  {
   "cell_type": "code",
   "execution_count": 4,
   "id": "9652e450",
   "metadata": {},
   "outputs": [],
   "source": [
    "from cobra import Model, Reaction, Metabolite"
   ]
  },
  {
   "cell_type": "code",
   "execution_count": 34,
   "id": "bce42aff",
   "metadata": {},
   "outputs": [],
   "source": [
    "yali = cobra.io.read_sbml_model('yalinewpathways.xml')"
   ]
  },
  {
   "cell_type": "code",
   "execution_count": 6,
   "id": "27c79290",
   "metadata": {},
   "outputs": [
    {
     "data": {
      "text/html": [
       "\n",
       "        <table>\n",
       "            <tr>\n",
       "                <td><strong>Reaction identifier</strong></td><td>y000191</td>\n",
       "            </tr><tr>\n",
       "                <td><strong>Name</strong></td><td>allophanate hydrolase</td>\n",
       "            </tr><tr>\n",
       "                <td><strong>Memory address</strong></td>\n",
       "                <td>0x027e0fcebee0</td>\n",
       "            </tr><tr>\n",
       "                <td><strong>Stoichiometry</strong></td>\n",
       "                <td>\n",
       "                    <p style='text-align:right'>3.0 s_0794 + s_0803 + s_1554 --> 2.0 s_0419 + 2.0 s_0456</p>\n",
       "                    <p style='text-align:right'>3.0 H+ + H2O + urea-1-carboxylic acid --> 2.0 ammonium + 2.0 carbon dioxide</p>\n",
       "                </td>\n",
       "            </tr><tr>\n",
       "                <td><strong>GPR</strong></td><td>YALI0B14619g or YALI0E07271g or YALI0E35156g</td>\n",
       "            </tr><tr>\n",
       "                <td><strong>Lower bound</strong></td><td>0.0</td>\n",
       "            </tr><tr>\n",
       "                <td><strong>Upper bound</strong></td><td>1000.0</td>\n",
       "            </tr>\n",
       "        </table>\n",
       "        "
      ],
      "text/plain": [
       "<Reaction y000191 at 0x27e0fcebee0>"
      ]
     },
     "execution_count": 6,
     "metadata": {},
     "output_type": "execute_result"
    }
   ],
   "source": [
    "yali.reactions.y000191"
   ]
  },
  {
   "cell_type": "code",
   "execution_count": 8,
   "id": "439325f8",
   "metadata": {},
   "outputs": [
    {
     "name": "stdout",
     "output_type": "stream",
     "text": [
      "complete model:  <Solution 0.106 at 0x27e10c2d8e0>\n",
      "pfk knocked out:  <Solution 0.106 at 0x27e1095b700>\n"
     ]
    }
   ],
   "source": [
    "print('complete model: ', yali.optimize())\n",
    "with yali:\n",
    "    yali.reactions.y000191.knock_out()\n",
    "    print('pfk knocked out: ', yali.optimize())"
   ]
  },
  {
   "cell_type": "code",
   "execution_count": 35,
   "id": "6480ecc6",
   "metadata": {},
   "outputs": [],
   "source": [
    "yali.reactions.y000191.knock_out()"
   ]
  },
  {
   "cell_type": "code",
   "execution_count": 36,
   "id": "8daf00f4",
   "metadata": {},
   "outputs": [
    {
     "name": "stdout",
     "output_type": "stream",
     "text": [
      "pfk knocked out:  <Solution 0.106 at 0x27e11bed760>\n"
     ]
    }
   ],
   "source": [
    "print('pfk knocked out: ', yali.optimize())"
   ]
  },
  {
   "cell_type": "code",
   "execution_count": 37,
   "id": "75bda717",
   "metadata": {},
   "outputs": [],
   "source": [
    "yali.reactions.y001075.knock_out()"
   ]
  },
  {
   "cell_type": "code",
   "execution_count": 38,
   "id": "a6db0382",
   "metadata": {},
   "outputs": [],
   "source": [
    "yali.reactions.y300048.knock_out()"
   ]
  },
  {
   "cell_type": "code",
   "execution_count": 39,
   "id": "7de1838e",
   "metadata": {},
   "outputs": [],
   "source": [
    "yali.reactions.y300084.knock_out()"
   ]
  },
  {
   "cell_type": "code",
   "execution_count": 31,
   "id": "a8654517",
   "metadata": {},
   "outputs": [],
   "source": [
    "yali.reactions.y300084.lower_bound = 0"
   ]
  },
  {
   "cell_type": "code",
   "execution_count": 32,
   "id": "b01aeade",
   "metadata": {},
   "outputs": [],
   "source": [
    "yali.reactions.y300094.lower_bound = 0"
   ]
  },
  {
   "cell_type": "code",
   "execution_count": 40,
   "id": "1a7558b4",
   "metadata": {},
   "outputs": [],
   "source": [
    "cobra.io.json.save_json_model(yali, 'strain_y8967-68.json')\n",
    "cobra.io.write_sbml_model(yali, \"strain_y8967-68.xml\")"
   ]
  },
  {
   "cell_type": "code",
   "execution_count": null,
   "id": "387e8350",
   "metadata": {},
   "outputs": [],
   "source": []
  }
 ],
 "metadata": {
  "kernelspec": {
   "display_name": "Python 3 (ipykernel)",
   "language": "python",
   "name": "python3"
  },
  "language_info": {
   "codemirror_mode": {
    "name": "ipython",
    "version": 3
   },
   "file_extension": ".py",
   "mimetype": "text/x-python",
   "name": "python",
   "nbconvert_exporter": "python",
   "pygments_lexer": "ipython3",
   "version": "3.8.12"
  }
 },
 "nbformat": 4,
 "nbformat_minor": 5
}
