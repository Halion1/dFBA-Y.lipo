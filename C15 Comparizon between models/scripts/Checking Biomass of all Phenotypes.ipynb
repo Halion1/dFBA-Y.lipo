{
 "cells": [
  {
   "cell_type": "code",
   "execution_count": 1,
   "id": "05506890",
   "metadata": {},
   "outputs": [],
   "source": [
    "import pandas as pd\n",
    "import matplotlib.pyplot as plt\n",
    "import numpy as np\n",
    "import cobra"
   ]
  },
  {
   "cell_type": "code",
   "execution_count": 2,
   "id": "ef4fb78c",
   "metadata": {},
   "outputs": [
    {
     "name": "stdout",
     "output_type": "stream",
     "text": [
      "Scaling...\n",
      " A: min|aij| =  1.000e+00  max|aij| =  1.000e+00  ratio =  1.000e+00\n",
      "Problem data seem to be well scaled\n"
     ]
    }
   ],
   "source": [
    "#Importing model iYali\n",
    "#yali = cobra.io.read_sbml_model('iYali.xml')\n",
    "#yali = cobra.io.read_sbml_model('yalinewpathways final 2.xml')\n",
    "#yali = cobra.io.read_sbml_model('iYali-tidy W29 strain final 2.xml')\n",
    "#yali = cobra.io.read_sbml_model('iYali-tidy Obese strain final 2.xml')\n",
    "yali = cobra.io.read_sbml_model('Yali OptKnock final.xml')"
   ]
  },
  {
   "cell_type": "code",
   "execution_count": 3,
   "id": "a8cb9acb",
   "metadata": {},
   "outputs": [
    {
     "data": {
      "text/html": [
       "\n",
       "        <table>\n",
       "            <tr>\n",
       "                <td><strong>Reaction identifier</strong></td><td>y300106</td>\n",
       "            </tr><tr>\n",
       "                <td><strong>Name</strong></td><td>Pentadecylic-CoA transport, cytoplasm-lipid particle</td>\n",
       "            </tr><tr>\n",
       "                <td><strong>Memory address</strong></td>\n",
       "                <td>0x7effd1979b10</td>\n",
       "            </tr><tr>\n",
       "                <td><strong>Stoichiometry</strong></td>\n",
       "                <td>\n",
       "                    <p style='text-align:right'>s_0635 + s_2842 + s_3732 <=> s_0531 + s_2840 + s_3733</p>\n",
       "                    <p style='text-align:right'>diphosphate + AMP + Pentadecylic-CoA[lp] <=> coenzyme A + ATP + Pentadecylic acid[lp]</p>\n",
       "                </td>\n",
       "            </tr><tr>\n",
       "                <td><strong>GPR</strong></td><td></td>\n",
       "            </tr><tr>\n",
       "                <td><strong>Lower bound</strong></td><td>-1000.0</td>\n",
       "            </tr><tr>\n",
       "                <td><strong>Upper bound</strong></td><td>1000.0</td>\n",
       "            </tr>\n",
       "        </table>\n",
       "        "
      ],
      "text/plain": [
       "<Reaction y300106 at 0x7effd1979b10>"
      ]
     },
     "execution_count": 3,
     "metadata": {},
     "output_type": "execute_result"
    }
   ],
   "source": [
    "yali.reactions.y300106"
   ]
  },
  {
   "cell_type": "code",
   "execution_count": 4,
   "id": "d9e40dd9",
   "metadata": {},
   "outputs": [
    {
     "data": {
      "text/plain": [
       "{'y001654': 1000.0,\n",
       " 'y001714': 1.0,\n",
       " 'y001832': 1000.0,\n",
       " 'y001861': 1000.0,\n",
       " 'y001992': 1000.0,\n",
       " 'y002005': 1000.0,\n",
       " 'y002020': 1000.0,\n",
       " 'y002049': 1000.0,\n",
       " 'y002060': 1000.0,\n",
       " 'y002100': 1000.0}"
      ]
     },
     "execution_count": 4,
     "metadata": {},
     "output_type": "execute_result"
    }
   ],
   "source": [
    "yali.medium"
   ]
  },
  {
   "cell_type": "code",
   "execution_count": 5,
   "id": "81fdd1f4",
   "metadata": {},
   "outputs": [
    {
     "data": {
      "text/plain": [
       "xAMINOACID       0.000000e+00\n",
       "xBIOMASS         0.000000e+00\n",
       "xLIPID           0.000000e+00\n",
       "xMAINTENANCE     0.000000e+00\n",
       "xPOOL_AC_EM     -5.710761e-17\n",
       "                     ...     \n",
       "xPOOL_SU_C      -1.573148e-02\n",
       "xPOOL_SU_M      -3.469447e-18\n",
       "xPOOL_ECFA_LP    0.000000e+00\n",
       "xPOOL_OCFA_LP    0.000000e+00\n",
       "y300107          0.000000e+00\n",
       "Name: fluxes, Length: 1961, dtype: float64"
      ]
     },
     "execution_count": 5,
     "metadata": {},
     "output_type": "execute_result"
    }
   ],
   "source": [
    "#yali.objective='xBIOMASS'#'y001882' #yali.reactions.xBIOMASS\n",
    "#yali.objective='y300102'#'y001882' #yali.reactions.xBIOMASS\n",
    "yali.objective='y300106'#'y001882' #yali.reactions.xBIOMASS\n",
    "solution = yali.optimize()\n",
    "solution.fluxes"
   ]
  },
  {
   "cell_type": "code",
   "execution_count": 6,
   "id": "f424c90e",
   "metadata": {},
   "outputs": [],
   "source": [
    "# Convert the solution's fluxes to a pandas DataFrame\n",
    "fluxes = pd.DataFrame.from_dict(solution.fluxes)\n",
    "\n",
    "# Write the DataFrame to an Excel file\n",
    "fluxes.to_excel('Yali OptKnock final C15 optimization.xlsx')"
   ]
  },
  {
   "cell_type": "code",
   "execution_count": null,
   "id": "799a6ae8",
   "metadata": {},
   "outputs": [],
   "source": []
  }
 ],
 "metadata": {
  "kernelspec": {
   "display_name": "Python 3 (ipykernel)",
   "language": "python",
   "name": "python3"
  },
  "language_info": {
   "codemirror_mode": {
    "name": "ipython",
    "version": 3
   },
   "file_extension": ".py",
   "mimetype": "text/x-python",
   "name": "python",
   "nbconvert_exporter": "python",
   "pygments_lexer": "ipython3",
   "version": "3.7.13"
  }
 },
 "nbformat": 4,
 "nbformat_minor": 5
}
