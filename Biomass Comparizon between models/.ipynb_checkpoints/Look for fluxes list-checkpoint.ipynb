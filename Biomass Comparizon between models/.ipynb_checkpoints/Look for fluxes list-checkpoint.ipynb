{
 "cells": [
  {
   "cell_type": "code",
   "execution_count": 1,
   "id": "8c71cc8a",
   "metadata": {},
   "outputs": [],
   "source": [
    "import pandas as pd"
   ]
  },
  {
   "cell_type": "code",
   "execution_count": 2,
   "id": "4a0401ab",
   "metadata": {},
   "outputs": [],
   "source": [
    "# Load the excel file\n",
    "df = pd.read_excel('yalinewpathways final 2 biomass optimization.xlsx')"
   ]
  },
  {
   "cell_type": "code",
   "execution_count": 4,
   "id": "b357478b",
   "metadata": {},
   "outputs": [
    {
     "data": {
      "text/html": [
       "<div>\n",
       "<style scoped>\n",
       "    .dataframe tbody tr th:only-of-type {\n",
       "        vertical-align: middle;\n",
       "    }\n",
       "\n",
       "    .dataframe tbody tr th {\n",
       "        vertical-align: top;\n",
       "    }\n",
       "\n",
       "    .dataframe thead th {\n",
       "        text-align: right;\n",
       "    }\n",
       "</style>\n",
       "<table border=\"1\" class=\"dataframe\">\n",
       "  <thead>\n",
       "    <tr style=\"text-align: right;\">\n",
       "      <th></th>\n",
       "      <th>Unnamed: 0</th>\n",
       "      <th>fluxes</th>\n",
       "    </tr>\n",
       "  </thead>\n",
       "  <tbody>\n",
       "    <tr>\n",
       "      <th>0</th>\n",
       "      <td>xAMINOACID</td>\n",
       "      <td>1.056916e-01</td>\n",
       "    </tr>\n",
       "    <tr>\n",
       "      <th>1</th>\n",
       "      <td>xBIOMASS</td>\n",
       "      <td>1.056916e-01</td>\n",
       "    </tr>\n",
       "    <tr>\n",
       "      <th>2</th>\n",
       "      <td>xLIPID</td>\n",
       "      <td>1.056916e-04</td>\n",
       "    </tr>\n",
       "    <tr>\n",
       "      <th>3</th>\n",
       "      <td>xMAINTENANCE</td>\n",
       "      <td>0.000000e+00</td>\n",
       "    </tr>\n",
       "    <tr>\n",
       "      <th>4</th>\n",
       "      <td>xPOOL_AC_EM</td>\n",
       "      <td>0.000000e+00</td>\n",
       "    </tr>\n",
       "    <tr>\n",
       "      <th>...</th>\n",
       "      <td>...</td>\n",
       "      <td>...</td>\n",
       "    </tr>\n",
       "    <tr>\n",
       "      <th>1956</th>\n",
       "      <td>xPOOL_SU_C</td>\n",
       "      <td>1.448404e-15</td>\n",
       "    </tr>\n",
       "    <tr>\n",
       "      <th>1957</th>\n",
       "      <td>xPOOL_SU_M</td>\n",
       "      <td>-1.448404e-15</td>\n",
       "    </tr>\n",
       "    <tr>\n",
       "      <th>1958</th>\n",
       "      <td>xPOOL_ECFA_LP</td>\n",
       "      <td>0.000000e+00</td>\n",
       "    </tr>\n",
       "    <tr>\n",
       "      <th>1959</th>\n",
       "      <td>xPOOL_OCFA_LP</td>\n",
       "      <td>0.000000e+00</td>\n",
       "    </tr>\n",
       "    <tr>\n",
       "      <th>1960</th>\n",
       "      <td>y300107</td>\n",
       "      <td>0.000000e+00</td>\n",
       "    </tr>\n",
       "  </tbody>\n",
       "</table>\n",
       "<p>1961 rows × 2 columns</p>\n",
       "</div>"
      ],
      "text/plain": [
       "         Unnamed: 0        fluxes\n",
       "0        xAMINOACID  1.056916e-01\n",
       "1          xBIOMASS  1.056916e-01\n",
       "2            xLIPID  1.056916e-04\n",
       "3      xMAINTENANCE  0.000000e+00\n",
       "4       xPOOL_AC_EM  0.000000e+00\n",
       "...             ...           ...\n",
       "1956     xPOOL_SU_C  1.448404e-15\n",
       "1957     xPOOL_SU_M -1.448404e-15\n",
       "1958  xPOOL_ECFA_LP  0.000000e+00\n",
       "1959  xPOOL_OCFA_LP  0.000000e+00\n",
       "1960        y300107  0.000000e+00\n",
       "\n",
       "[1961 rows x 2 columns]"
      ]
     },
     "execution_count": 4,
     "metadata": {},
     "output_type": "execute_result"
    }
   ],
   "source": [
    "df"
   ]
  },
  {
   "cell_type": "code",
   "execution_count": 3,
   "id": "74ea2e32",
   "metadata": {},
   "outputs": [
    {
     "ename": "KeyError",
     "evalue": "'names'",
     "output_type": "error",
     "traceback": [
      "\u001b[0;31m---------------------------------------------------------------------------\u001b[0m",
      "\u001b[0;31mKeyError\u001b[0m                                  Traceback (most recent call last)",
      "\u001b[0;32m~/anaconda3/envs/dfba/lib/python3.7/site-packages/pandas/core/indexes/base.py\u001b[0m in \u001b[0;36mget_loc\u001b[0;34m(self, key, method, tolerance)\u001b[0m\n\u001b[1;32m   3360\u001b[0m             \u001b[0;32mtry\u001b[0m\u001b[0;34m:\u001b[0m\u001b[0;34m\u001b[0m\u001b[0;34m\u001b[0m\u001b[0m\n\u001b[0;32m-> 3361\u001b[0;31m                 \u001b[0;32mreturn\u001b[0m \u001b[0mself\u001b[0m\u001b[0;34m.\u001b[0m\u001b[0m_engine\u001b[0m\u001b[0;34m.\u001b[0m\u001b[0mget_loc\u001b[0m\u001b[0;34m(\u001b[0m\u001b[0mcasted_key\u001b[0m\u001b[0;34m)\u001b[0m\u001b[0;34m\u001b[0m\u001b[0;34m\u001b[0m\u001b[0m\n\u001b[0m\u001b[1;32m   3362\u001b[0m             \u001b[0;32mexcept\u001b[0m \u001b[0mKeyError\u001b[0m \u001b[0;32mas\u001b[0m \u001b[0merr\u001b[0m\u001b[0;34m:\u001b[0m\u001b[0;34m\u001b[0m\u001b[0;34m\u001b[0m\u001b[0m\n",
      "\u001b[0;32m~/anaconda3/envs/dfba/lib/python3.7/site-packages/pandas/_libs/index.pyx\u001b[0m in \u001b[0;36mpandas._libs.index.IndexEngine.get_loc\u001b[0;34m()\u001b[0m\n",
      "\u001b[0;32m~/anaconda3/envs/dfba/lib/python3.7/site-packages/pandas/_libs/index.pyx\u001b[0m in \u001b[0;36mpandas._libs.index.IndexEngine.get_loc\u001b[0;34m()\u001b[0m\n",
      "\u001b[0;32mpandas/_libs/hashtable_class_helper.pxi\u001b[0m in \u001b[0;36mpandas._libs.hashtable.PyObjectHashTable.get_item\u001b[0;34m()\u001b[0m\n",
      "\u001b[0;32mpandas/_libs/hashtable_class_helper.pxi\u001b[0m in \u001b[0;36mpandas._libs.hashtable.PyObjectHashTable.get_item\u001b[0;34m()\u001b[0m\n",
      "\u001b[0;31mKeyError\u001b[0m: 'names'",
      "\nThe above exception was the direct cause of the following exception:\n",
      "\u001b[0;31mKeyError\u001b[0m                                  Traceback (most recent call last)",
      "\u001b[0;32m/tmp/ipykernel_10824/2575512262.py\u001b[0m in \u001b[0;36m<module>\u001b[0;34m\u001b[0m\n\u001b[1;32m      3\u001b[0m \u001b[0;31m#variables_of_interest = ['xAMINOACID', 'xBIOMASS', 'xLIPID', 'xPOOL_AC_EM', 'xPOOL_FA_LP', 'y300083', 'y300084', 'y300085', 'y300086', 'y300087', 'y300088', 'y300089', 'y300090', 'y300091', 'y300092', 'y300093', 'y300094', 'y300095', 'y300097', 'y300098', 'y300099', 'y300100', 'y300102', 'y300104', 'y300105', 'y300106', 'xPOOL_PC_M', 'xPOOL_PC_C', 'xPOOL_FA_C', 'xPOOL_FA_P', 'xPOOL_ECFA_LP', 'xPOOL_OCFA_LP']\u001b[0m\u001b[0;34m\u001b[0m\u001b[0;34m\u001b[0m\u001b[0;34m\u001b[0m\u001b[0m\n\u001b[1;32m      4\u001b[0m \u001b[0mvariables_of_interest\u001b[0m \u001b[0;34m=\u001b[0m \u001b[0;34m[\u001b[0m\u001b[0;34m'xAMINOACID'\u001b[0m\u001b[0;34m,\u001b[0m \u001b[0;34m'xBIOMASS'\u001b[0m\u001b[0;34m,\u001b[0m \u001b[0;34m'xLIPID'\u001b[0m\u001b[0;34m,\u001b[0m \u001b[0;34m'xMAINTENANCE'\u001b[0m\u001b[0;34m,\u001b[0m \u001b[0;34m'xPOOL_AC_EM'\u001b[0m\u001b[0;34m,\u001b[0m \u001b[0;34m'xPOOL_AC_LP'\u001b[0m\u001b[0;34m,\u001b[0m \u001b[0;34m'xPOOL_AC_MM'\u001b[0m\u001b[0;34m,\u001b[0m \u001b[0;34m'xPOOL_FA_EM'\u001b[0m\u001b[0;34m,\u001b[0m \u001b[0;34m'xPOOL_FA_EN'\u001b[0m\u001b[0;34m,\u001b[0m \u001b[0;34m'xPOOL_FA_LP'\u001b[0m\u001b[0;34m,\u001b[0m \u001b[0;34m'xPOOL_FA_MI'\u001b[0m\u001b[0;34m,\u001b[0m \u001b[0;34m'xPOOL_FA_MM'\u001b[0m\u001b[0;34m,\u001b[0m \u001b[0;34m'xPOOL_PC_M'\u001b[0m\u001b[0;34m,\u001b[0m \u001b[0;34m'xPOOL_PC_C'\u001b[0m\u001b[0;34m,\u001b[0m \u001b[0;34m'xPOOL_FA_C'\u001b[0m\u001b[0;34m,\u001b[0m \u001b[0;34m'xPOOL_FA_P'\u001b[0m\u001b[0;34m,\u001b[0m \u001b[0;34m'xPOOL_ECFA_LP'\u001b[0m\u001b[0;34m,\u001b[0m \u001b[0;34m'xPOOL_OCFA_LP'\u001b[0m\u001b[0;34m,\u001b[0m \u001b[0;34m'xPOOL_MA_M'\u001b[0m\u001b[0;34m,\u001b[0m \u001b[0;34m'xPOOL_SU_C'\u001b[0m\u001b[0;34m,\u001b[0m \u001b[0;34m'xPOOL_SU_M'\u001b[0m\u001b[0;34m,\u001b[0m \u001b[0;34m'xPOOL_ECFA_LP'\u001b[0m\u001b[0;34m,\u001b[0m \u001b[0;34m'xPOOL_OCFA_LP'\u001b[0m\u001b[0;34m,\u001b[0m \u001b[0;34m'y300083'\u001b[0m\u001b[0;34m,\u001b[0m \u001b[0;34m'y300084'\u001b[0m\u001b[0;34m,\u001b[0m \u001b[0;34m'y300085'\u001b[0m\u001b[0;34m,\u001b[0m \u001b[0;34m'y300086'\u001b[0m\u001b[0;34m,\u001b[0m \u001b[0;34m'y300099'\u001b[0m\u001b[0;34m,\u001b[0m \u001b[0;34m'y300100'\u001b[0m\u001b[0;34m,\u001b[0m \u001b[0;34m'y300102'\u001b[0m\u001b[0;34m,\u001b[0m \u001b[0;34m'y300104'\u001b[0m\u001b[0;34m,\u001b[0m \u001b[0;34m'y300105'\u001b[0m\u001b[0;34m,\u001b[0m \u001b[0;34m'y300106'\u001b[0m\u001b[0;34m,\u001b[0m \u001b[0;34m'y000109'\u001b[0m\u001b[0;34m,\u001b[0m \u001b[0;34m'y000108'\u001b[0m\u001b[0;34m,\u001b[0m \u001b[0;34m'y000831'\u001b[0m\u001b[0;34m,\u001b[0m \u001b[0;34m'y300094'\u001b[0m\u001b[0;34m,\u001b[0m \u001b[0;34m'y300091'\u001b[0m\u001b[0;34m,\u001b[0m \u001b[0;34m'y300059'\u001b[0m\u001b[0;34m,\u001b[0m \u001b[0;34m'y002202'\u001b[0m\u001b[0;34m,\u001b[0m \u001b[0;34m'y003258'\u001b[0m\u001b[0;34m,\u001b[0m \u001b[0;34m'y002204'\u001b[0m\u001b[0;34m,\u001b[0m \u001b[0;34m'y003573'\u001b[0m\u001b[0;34m,\u001b[0m \u001b[0;34m'y002204'\u001b[0m\u001b[0;34m,\u001b[0m \u001b[0;34m'y003573'\u001b[0m\u001b[0;34m,\u001b[0m \u001b[0;34m'y003259'\u001b[0m\u001b[0;34m,\u001b[0m \u001b[0;34m'y003255'\u001b[0m\u001b[0;34m,\u001b[0m \u001b[0;34m'y002205'\u001b[0m\u001b[0;34m,\u001b[0m \u001b[0;34m'y003257'\u001b[0m\u001b[0;34m,\u001b[0m \u001b[0;34m'y003574'\u001b[0m\u001b[0;34m,\u001b[0m \u001b[0;34m'y003253'\u001b[0m\u001b[0;34m,\u001b[0m \u001b[0;34m'y003261'\u001b[0m\u001b[0;34m]\u001b[0m\u001b[0;34m\u001b[0m\u001b[0;34m\u001b[0m\u001b[0m\n\u001b[0;32m----> 5\u001b[0;31m \u001b[0mdf_filtered\u001b[0m \u001b[0;34m=\u001b[0m \u001b[0mdf\u001b[0m\u001b[0;34m[\u001b[0m\u001b[0mdf\u001b[0m\u001b[0;34m[\u001b[0m\u001b[0;34m'names'\u001b[0m\u001b[0;34m]\u001b[0m\u001b[0;34m.\u001b[0m\u001b[0misin\u001b[0m\u001b[0;34m(\u001b[0m\u001b[0mvariables_of_interest\u001b[0m\u001b[0;34m)\u001b[0m\u001b[0;34m]\u001b[0m\u001b[0;34m\u001b[0m\u001b[0;34m\u001b[0m\u001b[0m\n\u001b[0m",
      "\u001b[0;32m~/anaconda3/envs/dfba/lib/python3.7/site-packages/pandas/core/frame.py\u001b[0m in \u001b[0;36m__getitem__\u001b[0;34m(self, key)\u001b[0m\n\u001b[1;32m   3456\u001b[0m             \u001b[0;32mif\u001b[0m \u001b[0mself\u001b[0m\u001b[0;34m.\u001b[0m\u001b[0mcolumns\u001b[0m\u001b[0;34m.\u001b[0m\u001b[0mnlevels\u001b[0m \u001b[0;34m>\u001b[0m \u001b[0;36m1\u001b[0m\u001b[0;34m:\u001b[0m\u001b[0;34m\u001b[0m\u001b[0;34m\u001b[0m\u001b[0m\n\u001b[1;32m   3457\u001b[0m                 \u001b[0;32mreturn\u001b[0m \u001b[0mself\u001b[0m\u001b[0;34m.\u001b[0m\u001b[0m_getitem_multilevel\u001b[0m\u001b[0;34m(\u001b[0m\u001b[0mkey\u001b[0m\u001b[0;34m)\u001b[0m\u001b[0;34m\u001b[0m\u001b[0;34m\u001b[0m\u001b[0m\n\u001b[0;32m-> 3458\u001b[0;31m             \u001b[0mindexer\u001b[0m \u001b[0;34m=\u001b[0m \u001b[0mself\u001b[0m\u001b[0;34m.\u001b[0m\u001b[0mcolumns\u001b[0m\u001b[0;34m.\u001b[0m\u001b[0mget_loc\u001b[0m\u001b[0;34m(\u001b[0m\u001b[0mkey\u001b[0m\u001b[0;34m)\u001b[0m\u001b[0;34m\u001b[0m\u001b[0;34m\u001b[0m\u001b[0m\n\u001b[0m\u001b[1;32m   3459\u001b[0m             \u001b[0;32mif\u001b[0m \u001b[0mis_integer\u001b[0m\u001b[0;34m(\u001b[0m\u001b[0mindexer\u001b[0m\u001b[0;34m)\u001b[0m\u001b[0;34m:\u001b[0m\u001b[0;34m\u001b[0m\u001b[0;34m\u001b[0m\u001b[0m\n\u001b[1;32m   3460\u001b[0m                 \u001b[0mindexer\u001b[0m \u001b[0;34m=\u001b[0m \u001b[0;34m[\u001b[0m\u001b[0mindexer\u001b[0m\u001b[0;34m]\u001b[0m\u001b[0;34m\u001b[0m\u001b[0;34m\u001b[0m\u001b[0m\n",
      "\u001b[0;32m~/anaconda3/envs/dfba/lib/python3.7/site-packages/pandas/core/indexes/base.py\u001b[0m in \u001b[0;36mget_loc\u001b[0;34m(self, key, method, tolerance)\u001b[0m\n\u001b[1;32m   3361\u001b[0m                 \u001b[0;32mreturn\u001b[0m \u001b[0mself\u001b[0m\u001b[0;34m.\u001b[0m\u001b[0m_engine\u001b[0m\u001b[0;34m.\u001b[0m\u001b[0mget_loc\u001b[0m\u001b[0;34m(\u001b[0m\u001b[0mcasted_key\u001b[0m\u001b[0;34m)\u001b[0m\u001b[0;34m\u001b[0m\u001b[0;34m\u001b[0m\u001b[0m\n\u001b[1;32m   3362\u001b[0m             \u001b[0;32mexcept\u001b[0m \u001b[0mKeyError\u001b[0m \u001b[0;32mas\u001b[0m \u001b[0merr\u001b[0m\u001b[0;34m:\u001b[0m\u001b[0;34m\u001b[0m\u001b[0;34m\u001b[0m\u001b[0m\n\u001b[0;32m-> 3363\u001b[0;31m                 \u001b[0;32mraise\u001b[0m \u001b[0mKeyError\u001b[0m\u001b[0;34m(\u001b[0m\u001b[0mkey\u001b[0m\u001b[0;34m)\u001b[0m \u001b[0;32mfrom\u001b[0m \u001b[0merr\u001b[0m\u001b[0;34m\u001b[0m\u001b[0;34m\u001b[0m\u001b[0m\n\u001b[0m\u001b[1;32m   3364\u001b[0m \u001b[0;34m\u001b[0m\u001b[0m\n\u001b[1;32m   3365\u001b[0m         \u001b[0;32mif\u001b[0m \u001b[0mis_scalar\u001b[0m\u001b[0;34m(\u001b[0m\u001b[0mkey\u001b[0m\u001b[0;34m)\u001b[0m \u001b[0;32mand\u001b[0m \u001b[0misna\u001b[0m\u001b[0;34m(\u001b[0m\u001b[0mkey\u001b[0m\u001b[0;34m)\u001b[0m \u001b[0;32mand\u001b[0m \u001b[0;32mnot\u001b[0m \u001b[0mself\u001b[0m\u001b[0;34m.\u001b[0m\u001b[0mhasnans\u001b[0m\u001b[0;34m:\u001b[0m\u001b[0;34m\u001b[0m\u001b[0;34m\u001b[0m\u001b[0m\n",
      "\u001b[0;31mKeyError\u001b[0m: 'names'"
     ]
    }
   ],
   "source": [
    "# Filter the variables of interest\n",
    "#variables_of_interest = ['xAMINOACID','xBIOMASS',  'xLIPID', 'xPOOL_AC_EM', 'xPOOL_AC_LP','y000446', 'y000499', 'y000851', 'y001063', 'y001112', 'y001126', 'y001824', 'y001832', 'y002117', 'y002119', 'y002132', 'y200001']\n",
    "#variables_of_interest = ['xAMINOACID', 'xBIOMASS', 'xLIPID', 'xPOOL_AC_EM', 'xPOOL_FA_LP', 'y300083', 'y300084', 'y300085', 'y300086', 'y300087', 'y300088', 'y300089', 'y300090', 'y300091', 'y300092', 'y300093', 'y300094', 'y300095', 'y300097', 'y300098', 'y300099', 'y300100', 'y300102', 'y300104', 'y300105', 'y300106', 'xPOOL_PC_M', 'xPOOL_PC_C', 'xPOOL_FA_C', 'xPOOL_FA_P', 'xPOOL_ECFA_LP', 'xPOOL_OCFA_LP']\n",
    "variables_of_interest = ['xAMINOACID', 'xBIOMASS', 'xLIPID', 'xMAINTENANCE', 'xPOOL_AC_EM', 'xPOOL_AC_LP', 'xPOOL_AC_MM', 'xPOOL_FA_EM', 'xPOOL_FA_EN', 'xPOOL_FA_LP', 'xPOOL_FA_MI', 'xPOOL_FA_MM', 'xPOOL_PC_M', 'xPOOL_PC_C', 'xPOOL_FA_C', 'xPOOL_FA_P', 'xPOOL_ECFA_LP', 'xPOOL_OCFA_LP', 'xPOOL_MA_M', 'xPOOL_SU_C', 'xPOOL_SU_M', 'xPOOL_ECFA_LP', 'xPOOL_OCFA_LP', 'y300083', 'y300084', 'y300085', 'y300086', 'y300099', 'y300100', 'y300102', 'y300104', 'y300105', 'y300106', 'y000109', 'y000108', 'y000831', 'y300094', 'y300091', 'y300059', 'y002202', 'y003258', 'y002204', 'y003573', 'y002204', 'y003573', 'y003259', 'y003255', 'y002205', 'y003257', 'y003574', 'y003253', 'y003261']\n",
    "df_filtered = df[df['names'].isin(variables_of_interest)]"
   ]
  },
  {
   "cell_type": "code",
   "execution_count": null,
   "id": "5ba521cb",
   "metadata": {
    "scrolled": false
   },
   "outputs": [],
   "source": [
    "df_filtered"
   ]
  },
  {
   "cell_type": "code",
   "execution_count": null,
   "id": "273e8f17",
   "metadata": {},
   "outputs": [],
   "source": []
  }
 ],
 "metadata": {
  "kernelspec": {
   "display_name": "Python 3 (ipykernel)",
   "language": "python",
   "name": "python3"
  },
  "language_info": {
   "codemirror_mode": {
    "name": "ipython",
    "version": 3
   },
   "file_extension": ".py",
   "mimetype": "text/x-python",
   "name": "python",
   "nbconvert_exporter": "python",
   "pygments_lexer": "ipython3",
   "version": "3.7.13"
  }
 },
 "nbformat": 4,
 "nbformat_minor": 5
}
