{
 "cells": [
  {
   "cell_type": "code",
   "execution_count": 1,
   "id": "05506890",
   "metadata": {},
   "outputs": [],
   "source": [
    "import pandas as pd\n",
    "import matplotlib.pyplot as plt\n",
    "import numpy as np\n",
    "import cobra"
   ]
  },
  {
   "cell_type": "code",
   "execution_count": 2,
   "id": "ef4fb78c",
   "metadata": {},
   "outputs": [
    {
     "name": "stdout",
     "output_type": "stream",
     "text": [
      "Scaling...\n",
      " A: min|aij| =  1.000e+00  max|aij| =  1.000e+00  ratio =  1.000e+00\n",
      "Problem data seem to be well scaled\n"
     ]
    }
   ],
   "source": [
    "#Importing model iYali\n",
    "#yali = cobra.io.read_sbml_model('iYali.xml')\n",
    "#yali = cobra.io.read_sbml_model('yalinewpathways final 2.xml')\n",
    "#yali = cobra.io.read_sbml_model('iYali-tidy W29 strain final 2.xml')\n",
    "#yali = cobra.io.read_sbml_model('iYali-tidy Obese strain final 2.xml')\n",
    "yali = cobra.io.read_sbml_model('Yali OptKnock final.xml')"
   ]
  },
  {
   "cell_type": "code",
   "execution_count": 3,
   "id": "d9e40dd9",
   "metadata": {},
   "outputs": [
    {
     "data": {
      "text/plain": [
       "{'y001654': 1000.0,\n",
       " 'y001714': 1.0,\n",
       " 'y001832': 1000.0,\n",
       " 'y001861': 1000.0,\n",
       " 'y001992': 1000.0,\n",
       " 'y002005': 1000.0,\n",
       " 'y002020': 1000.0,\n",
       " 'y002049': 1000.0,\n",
       " 'y002060': 1000.0,\n",
       " 'y002100': 1000.0}"
      ]
     },
     "execution_count": 3,
     "metadata": {},
     "output_type": "execute_result"
    }
   ],
   "source": [
    "yali.medium"
   ]
  },
  {
   "cell_type": "code",
   "execution_count": 4,
   "id": "81fdd1f4",
   "metadata": {},
   "outputs": [
    {
     "data": {
      "text/plain": [
       "xAMINOACID       0.000000\n",
       "xBIOMASS         0.000000\n",
       "xLIPID           0.000000\n",
       "xMAINTENANCE     0.000000\n",
       "xPOOL_AC_EM      0.000000\n",
       "                   ...   \n",
       "xPOOL_SU_C      -0.201452\n",
       "xPOOL_SU_M       0.000000\n",
       "xPOOL_ECFA_LP    0.000000\n",
       "xPOOL_OCFA_LP    0.000000\n",
       "y300107          0.000000\n",
       "Name: fluxes, Length: 1961, dtype: float64"
      ]
     },
     "execution_count": 4,
     "metadata": {},
     "output_type": "execute_result"
    }
   ],
   "source": [
    "#yali.objective='xBIOMASS'#'y001882' #yali.reactions.xBIOMASS\n",
    "yali.objective='y300102'#'y001882' #yali.reactions.xBIOMASS\n",
    "#yali.objective='y300106'#'y001882' #yali.reactions.xBIOMASS\n",
    "solution = yali.optimize()\n",
    "solution.fluxes"
   ]
  },
  {
   "cell_type": "code",
   "execution_count": 5,
   "id": "f424c90e",
   "metadata": {},
   "outputs": [],
   "source": [
    "# Convert the solution's fluxes to a pandas DataFrame\n",
    "fluxes = pd.DataFrame.from_dict(solution.fluxes)\n",
    "\n",
    "# Write the DataFrame to an Excel file\n",
    "fluxes.to_excel('Yali OptKnock C17 optimization.xlsx')"
   ]
  },
  {
   "cell_type": "code",
   "execution_count": null,
   "id": "799a6ae8",
   "metadata": {},
   "outputs": [],
   "source": []
  }
 ],
 "metadata": {
  "kernelspec": {
   "display_name": "Python 3 (ipykernel)",
   "language": "python",
   "name": "python3"
  },
  "language_info": {
   "codemirror_mode": {
    "name": "ipython",
    "version": 3
   },
   "file_extension": ".py",
   "mimetype": "text/x-python",
   "name": "python",
   "nbconvert_exporter": "python",
   "pygments_lexer": "ipython3",
   "version": "3.7.13"
  }
 },
 "nbformat": 4,
 "nbformat_minor": 5
}
